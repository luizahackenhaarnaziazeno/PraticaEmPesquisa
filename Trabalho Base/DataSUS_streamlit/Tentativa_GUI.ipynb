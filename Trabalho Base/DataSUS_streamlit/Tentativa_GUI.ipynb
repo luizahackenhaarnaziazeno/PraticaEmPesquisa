{
 "cells": [
  {
   "cell_type": "code",
   "execution_count": 1,
   "metadata": {
    "execution": {
     "iopub.execute_input": "2025-02-25T17:14:02.464971Z",
     "iopub.status.busy": "2025-02-25T17:14:02.464737Z",
     "iopub.status.idle": "2025-02-25T17:14:03.506428Z",
     "shell.execute_reply": "2025-02-25T17:14:03.505818Z"
    }
   },
   "outputs": [],
   "source": [
    "import requests\n",
    "import numpy as np\n",
    "import unicodedata\n",
    "import pandas as pd\n",
    "import geopandas as gpd\n",
    "import cartopy.crs as ccrs\n",
    "import matplotlib.pyplot as plt\n",
    "from shapely.geometry import Point\n",
    "import cartopy.feature as cfeature\n",
    "from geopy.geocoders import Nominatim\n",
    "from pysus.ftp.databases.sih import SIH\n",
    "from geopy.extra.rate_limiter import RateLimiter\n",
    "\n",
    "from jupyter_dash import JupyterDash\n",
    "from dash import Dash, dcc, html, Input, Output\n",
    "import threading\n",
    "import os"
   ]
  },
  {
   "cell_type": "markdown",
   "metadata": {},
   "source": [
    "# Arquivo \"Internações limpo\""
   ]
  },
  {
   "cell_type": "code",
   "execution_count": 2,
   "metadata": {
    "execution": {
     "iopub.execute_input": "2025-02-25T17:14:03.509068Z",
     "iopub.status.busy": "2025-02-25T17:14:03.508714Z",
     "iopub.status.idle": "2025-02-25T17:14:03.515731Z",
     "shell.execute_reply": "2025-02-25T17:14:03.515308Z"
    }
   },
   "outputs": [],
   "source": [
    "# cidade_codigos = {\n",
    "#     \"PELOTAS\": 431440, \"NOVO HAMBURGO\": 431340, \"PORTO ALEGRE\": 431490, \"NOVA PRATA\": 431330, \"VACARIA\": 432250, \"SÃO MARCOS\": 431900, \"CANOAS\": 430460, \n",
    "#     \"VIAMÃO\": 432300, \"SANTA ROSA\": 431720, \"BOQUEIRÃO DO LEÃO\": 430245, \"GARIBALDI\": 430860, \"TEUTÔNIA\": 432145, \"ALVORADA\": 430060, \"CACHOEIRINHA\": 430310, \n",
    "#     \"SAPIRANGA\": 431990, \"TAQUARA\": 432120, \"CACHOEIRA DO SUL\": 430300, \"GRAMADO\": 430910, \"ENCANTADO\": 430680, \"CARAZINHO\": 430470, \"LAJEADO\": 431140, \n",
    "#     \"ERECHIM\": 430700, \"CERRO LARGO\": 430520, \"SÃO LUIZ GONZAGA\": 431890, \"SANTO ÂNGELO\": 431750, \"GUARANI DAS MISSÕES\": 430950, \"ROQUE GONZALES\": 431630, \n",
    "#     \"RIO PARDO\": 431570, \"PORTO XAVIER\": 431510, \"VALE DO SOL\": 432253, \"VERA CRUZ\": 432270, \"CÂNDIDO GODÓI\": 430430, \"BOA VISTA DO BURICÁ\": 430220, \n",
    "#     \"SÃO MIGUEL DAS MISSÕES\": 431915, \"CAMPINA DAS MISSÕES\": 430370, \"PORTO LUCENA\": 431500, \"SANTO CRISTO\": 431790, \"SÃO PAULO DAS MISSÕES\": 431930, \n",
    "#     \"CAIBATÉ\": 430330, \"NOVA BRÉSCIA\": 431300, \"IGREJINHA\": 431010, \"TRIUNFO\": 432200, \"PAROBÉ\": 431405, \"GUAÍBA\": 430930, \"SÃO FRANCISCO DE PAULA\": 431820, \n",
    "#     \"SÃO SEBASTIÃO DO CAÍ\": 431950, \"RIOZINHO\": 431575, \"SALVADOR DO SUL\": 431650, \"CAXIAS DO SUL\": 430510, \"GUAPORÉ\": 430940, \"TAQUARI\": 432130, \n",
    "#     \"BENTO GONÇALVES\": 430210, \"VERANÓPOLIS\": 432280, \"SANTA CRUZ DO SUL\": 431680, \"SÃO JERÔNIMO\": 431840, \"CANDELÁRIA\": 430420, \"MARQUES DE SOUZA\": 431205, \n",
    "#     \"MUÇUM\": 431260, \"SINIMBU\": 432067, \"BOM JESUS\": 430230, \"SANT'ANA DO LIVRAMENTO\": 431710, \"ANTA GORDA\": 430070, \"NOVA BASSANO\": 431290, \"NOVA PETRÓPOLIS\": 431320, \n",
    "#     \"PANAMBI\": 431390, \"RESTINGA SECA\": 431550, \"SAPUCAIA DO SUL\": 432000, \"FELIZ\": 430810, \"DOIS LAJEADOS\": 430645, \"GUABIJU\": 430925, \"ITAQUI\": 431060, \n",
    "#     \"NONOAI\": 431270, \"ARATIBA\": 430090, \"GETÚLIO VARGAS\": 430890, \"CAMPINAS DO SUL\": 430380, \"VIADUTOS\": 432290, \"GAURAMA\": 430870, \"MARCELINO RAMOS\": 431190, \n",
    "#     \"ENCRUZILHADA DO SUL\": 430690, \"SOBRADINHO\": 432070, \"CRUZ ALTA\": 430610, \"SALTO DO JACUÍ\": 431645, \"PLANALTO\": 431470, \"CRUZEIRO DO SUL\": 430620, \n",
    "#     \"SÃO JOSÉ DO NORTE\": 431850, \"DOIS IRMÃOS\": 430640, \"DOM FELICIANO\": 430650, \"CHARQUEADAS\": 430535, \"TENENTE PORTELA\": 432140, \"CAIÇARA\": 430340, \n",
    "#     \"CARLOS BARBOSA\": 430480, \"PASSO FUNDO\": 431410, \"CANGUÇU\": 430450, \"RIO GRANDE\": 431560, \"SANTA MARIA\": 431690, \"SANTIAGO\": 431740, \"SANANDUVA\": 431660, \n",
    "#     \"MARAU\": 431180, \"IJUÍ\": 431020, \"RONDA ALTA\": 431610, \"URUGUAIANA\": 432240, \"SÃO GABRIEL\": 431830, \"ROSÁRIO DO SUL\": 431640, \"ALEGRETE\": 430040, \n",
    "#     \"ARVOREZINHA\": 430140, \"TRÊS COROAS\": 432170, \"CAMAQUÃ\": 430350, \"SANTO AUGUSTO\": 431780, \"BAGÉ\": 430160, \"DOM PEDRITO\": 430660, \"SANTA BÁRBARA DO SUL\": 431670, \n",
    "#     \"TORRES\": 432150, \"JÚLIO DE CASTILHOS\": 431120, \"FAXINAL DO SOTURNO\": 430800, \"PEDRO OSÓRIO\": 431420, \"JAGUARÃO\": 431100, \"FREDERICO WESTPHALEN\": 430850, \n",
    "#     \"RODEIO BONITO\": 431590, \"SEVERIANO DE ALMEIDA\": 432060, \"TRAMANDAÍ\": 432160, \"HUMAITÁ\": 430970, \"ESTÂNCIA VELHA\": 430760, \"TUPARENDI\": 432230, \n",
    "#     \"AUGUSTO PESTANA\": 430150, \"TRÊS DE MAIO\": 432180, \"SANTO ANTÔNIO DA PATRULHA\": 431760, \"MOSTARDAS\": 431250, \"FLORES DA CUNHA\": 430820, \"GIRUÁ\": 430900, \n",
    "#     \"CAMBARÁ DO SUL\": 430360, \"ARROIO GRANDE\": 430130, \"AGUDO\": 430010, \"SÃO VICENTE DO SUL\": 431980, \"SÃO LEOPOLDO\": 431870, \"SANTA VITÓRIA DO PALMAR\": 431730, \n",
    "#     \"JAGUARI\": 431110, \"HERVAL\": 430710, \"SÃO PEDRO DO SUL\": 431940, \"SÃO SEPÉ\": 431960, \"SÃO FRANCISCO DE ASSIS\": 431810, \"CACEQUI\": 430290, \"TAPEJARA\": 432090, \n",
    "#     \"TUPANCIRETÃ\": 432220, \"NOVA PALMA\": 431310, \"CHAPADA\": 430530, \"OSÓRIO\": 431350, \"ALECRIM\": 430030, \"HORIZONTINA\": 430960, \"CONSTANTINA\": 430580, \n",
    "#     \"SARANDI\": 432010, \"TRINDADE DO SUL\": 432195, \"PALMEIRA DAS MISSÕES\": 431370, \"CRISSIUMAL\": 430600, \"PALMARES DO SUL\": 431365, \"TUCUNDUVA\": 432210, \n",
    "#     \"JABOTICABA\": 431085, \"CONDOR\": 430570, \"CAMPO NOVO\": 430400, \"AJURICABA\": 430020, \"SÃO MARTINHO\": 431910, \"CORONEL BICACO\": 430590, \"PARAÍSO DO SUL\": 431402, \n",
    "#     \"SÃO JOÃO DO POLÊSINE\": 431843, \"SERAFINA CORRÊA\": 432040, \"BOM RETIRO DO SUL\": 430240, \"PUTINGA\": 431520, \"CAMPO BOM\": 430390, \"CANELA\": 430440, \n",
    "#     \"ROCA SALES\": 431580, \"MAXIMILIANO DE ALMEIDA\": 431220, \"LAGOA VERMELHA\": 431130, \"SEGREDO\": 432026, \"IBIRUBÁ\": 431000, \"PAIM FILHO\": 431360, \n",
    "#     \"CAÇAPAVA DO SUL\": 430280, \"CASCA\": 430490, \"SOLEDADE\": 432080, \"CAPÃO DA CANOA\": 430463, \"PALMITINHO\": 431380, \"IRAÍ\": 431050, \"IVOTI\": 431080, \n",
    "#     \"CHIAPETTA\": 430540, \"PEJUÇARA\": 431430, \"ARROIO DO TIGRE\": 430120, \"SÃO JOSÉ DO OURO\": 431860, \"RONDINHA\": 431620, \"SERTÃO\": 432050, \"ALPESTRE\": 430050, \n",
    "#     \"AMETISTA DO SUL\": 430064, \"SELBACH\": 432030, \"QUINZE DE NOVEMBRO\": 431535, \"SALDANHA MARINHO\": 431643, \"PINHAL GRANDE\": 431447, \"FORMIGUEIRO\": 430840, \n",
    "#     \"PARAÍ\": 431400, \"ACEGUÁ\": 430003, \"LAVRAS DO SUL\": 431150, \"DAVID CANABARRO\": 430630, \"PINHEIRO MACHADO\": 431450, \"ESTRELA\": 430780, \"GRAVATAÍ\": 430920, \n",
    "#     \"QUARAÍ\": 431530, \"VENÂNCIO AIRES\": 432260, \"FARROUPILHA\": 430790, \"ARROIO DO MEIO\": 430100, \"SEBERI\": 432020, \"TRÊS PASSOS\": 432190, \"SÃO LOURENÇO DO SUL\": 431880, \n",
    "#     \"PIRATINI\": 431460, \"ESTEIO\": 430770, \"TAPERA\": 432100, \"NÃO-ME-TOQUE\": 431265, \"PORTÃO\": 431480, \"ESPUMOSO\": 430750, \"ROLANTE\": 431600, \"MONTENEGRO\": 431240, \n",
    "#     \"ILÓPOLIS\": 431030, \"SÃO BORJA\": 431800, \"IVORÁ\": 431075, \"MATA\": 431210, \"JAQUIRANA\": 431112, \"ANTÔNIO PRADO\": 430080, \"BOM PRINCÍPIO\": 430235, \"PROGRESSO\": 431515\n",
    "# }\n",
    "\n",
    "\n",
    "# anos = [str(ano) for ano in range(2008, 2024)]\n",
    "\n",
    "# # Função para carregar dados do SIH com base na cidade e no ano\n",
    "# def carregar_dados(cidade, ano):\n",
    "#     sih = SIH().load()\n",
    "#     # Obtendo os arquivos com base na cidade e ano\n",
    "#     files = sih.get_files(cidade, uf=\"RS\", year=ano)\n",
    "#     parquets = sih.download(files)\n",
    "#     data = parquets[8].to_dataframe()  # Supondo que o índice 8 seja o desejado\n",
    "#     return data\n",
    "\n",
    "# # Inicializando o aplicativo Dash com JupyterDash\n",
    "# app = Dash(__name__)\n",
    "\n",
    "# # Layout da aplicação\n",
    "# app.layout = html.Div([\n",
    "#     html.H1(\"Selecione uma Cidade e um Ano:\"),\n",
    "    \n",
    "#     # Dropdown para seleção da cidade\n",
    "#     dcc.Dropdown(\n",
    "#         id='cidade-dropdown',\n",
    "#         options=[{'label': cidade, 'value': cidade} for cidade in cidades],\n",
    "#         value='PELOTAS',  # Valor inicial selecionado\n",
    "#         style={'width': '50%'}\n",
    "#     ),\n",
    "    \n",
    "#     # Dropdown para seleção do ano\n",
    "#     dcc.Dropdown(\n",
    "#         id='ano-dropdown',\n",
    "#         options=[{'label': ano, 'value': ano} for ano in anos],\n",
    "#         value='2023',  # Valor inicial selecionado\n",
    "#         style={'width': '50%'}\n",
    "#     ),\n",
    "    \n",
    "#     html.Div(id='cidade-selecionada'),\n",
    "#     html.Div(id='ano-selecionado'),\n",
    "#     html.Div(id='tabela-dados')\n",
    "# ])\n",
    "\n",
    "# # Callback para atualizar a cidade, o ano e carregar os dados\n",
    "# @app.callback(\n",
    "#     [Output('cidade-selecionada', 'children'),\n",
    "#      Output('ano-selecionado', 'children'),\n",
    "#      Output('tabela-dados', 'children')],\n",
    "#     [Input('cidade-dropdown', 'value'),\n",
    "#      Input('ano-dropdown', 'value')]\n",
    "# )\n",
    "# def update_output(cidade, ano):\n",
    "#     cidade_selecionada = f'Você selecionou a cidade: {cidade}'\n",
    "#     ano_selecionado = f'Você selecionou o ano: {ano}'\n",
    "    \n",
    "#     # Carregar os dados com base na cidade e ano selecionados\n",
    "#     data = carregar_dados(cidade, ano)\n",
    "    \n",
    "#     # Exibir os primeiros 5 registros da tabela como exemplo\n",
    "#     tabela = html.Table([\n",
    "#         html.Tr([html.Th(col) for col in data.columns])  # Cabeçalho da tabela\n",
    "#     ] + [\n",
    "#         html.Tr([html.Td(data.iloc[i][col]) for col in data.columns])\n",
    "#         for i in range(min(len(data), 5))  # Limitar aos primeiros 5 registros\n",
    "#     ])\n",
    "    \n",
    "#     return cidade_selecionada, ano_selecionado, tabela\n",
    "\n",
    "# # Função para rodar o Dash em uma thread separada\n",
    "# def run_dash():\n",
    "#     app.run_server(debug=True, use_reloader=False)\n",
    "\n",
    "# # Rodar o Dash em uma thread separada\n",
    "# thread = threading.Thread(target=run_dash)\n",
    "# thread.start()\n"
   ]
  },
  {
   "cell_type": "markdown",
   "metadata": {
    "jp-MarkdownHeadingCollapsed": true
   },
   "source": [
    "### chamada da GUI dia 29"
   ]
  },
  {
   "cell_type": "code",
   "execution_count": 3,
   "metadata": {
    "execution": {
     "iopub.execute_input": "2025-02-25T17:14:03.517590Z",
     "iopub.status.busy": "2025-02-25T17:14:03.517241Z",
     "iopub.status.idle": "2025-02-25T17:14:03.524659Z",
     "shell.execute_reply": "2025-02-25T17:14:03.524187Z"
    }
   },
   "outputs": [],
   "source": [
    "# cidade_codigos = {\n",
    "#     \"PELOTAS\": \"431440\", \"NOVO HAMBURGO\": \"431340\", \"PORTO ALEGRE\": \"431490\", \"NOVA PRATA\": \"431330\", \"VACARIA\": \"432250\", \"SÃO MARCOS\": \"431900\", \n",
    "#     \"CANOAS\": \"430460\", \"VIAMÃO\": \"432300\", \"SANTA ROSA\": \"431720\", \"BOQUEIRÃO DO LEÃO\": \"430245\", # adicione o restante dos códigos conforme necessário\n",
    "# }\n",
    "\n",
    "\n",
    "\n",
    "# cidade_codigos = {\n",
    "#     \"PELOTAS\": 431440, \"NOVO HAMBURGO\": 431340, \"PORTO ALEGRE\": 431490, \"NOVA PRATA\": 431330, \"VACARIA\": 432250, \"SÃO MARCOS\": 431900, \"CANOAS\": 430460, \n",
    "#     \"VIAMÃO\": 432300, \"SANTA ROSA\": 431720, \"BOQUEIRÃO DO LEÃO\": 430245, \"GARIBALDI\": 430860, \"TEUTÔNIA\": 432145, \"ALVORADA\": 430060, \"CACHOEIRINHA\": 430310, \n",
    "#     \"SAPIRANGA\": 431990, \"TAQUARA\": 432120, \"CACHOEIRA DO SUL\": 430300, \"GRAMADO\": 430910, \"ENCANTADO\": 430680, \"CARAZINHO\": 430470, \"LAJEADO\": 431140, \n",
    "#     \"ERECHIM\": 430700, \"CERRO LARGO\": 430520, \"SÃO LUIZ GONZAGA\": 431890, \"SANTO ÂNGELO\": 431750, \"GUARANI DAS MISSÕES\": 430950, \"ROQUE GONZALES\": 431630, \n",
    "#     \"RIO PARDO\": 431570, \"PORTO XAVIER\": 431510, \"VALE DO SOL\": 432253, \"VERA CRUZ\": 432270, \"CÂNDIDO GODÓI\": 430430, \"BOA VISTA DO BURICÁ\": 430220, \n",
    "#     \"SÃO MIGUEL DAS MISSÕES\": 431915, \"CAMPINA DAS MISSÕES\": 430370, \"PORTO LUCENA\": 431500, \"SANTO CRISTO\": 431790, \"SÃO PAULO DAS MISSÕES\": 431930, \n",
    "#     \"CAIBATÉ\": 430330, \"NOVA BRÉSCIA\": 431300, \"IGREJINHA\": 431010, \"TRIUNFO\": 432200, \"PAROBÉ\": 431405, \"GUAÍBA\": 430930, \"SÃO FRANCISCO DE PAULA\": 431820, \n",
    "#     \"SÃO SEBASTIÃO DO CAÍ\": 431950, \"RIOZINHO\": 431575, \"SALVADOR DO SUL\": 431650, \"CAXIAS DO SUL\": 430510, \"GUAPORÉ\": 430940, \"TAQUARI\": 432130, \n",
    "#     \"BENTO GONÇALVES\": 430210, \"VERANÓPOLIS\": 432280, \"SANTA CRUZ DO SUL\": 431680, \"SÃO JERÔNIMO\": 431840, \"CANDELÁRIA\": 430420, \"MARQUES DE SOUZA\": 431205, \n",
    "#     \"MUÇUM\": 431260, \"SINIMBU\": 432067, \"BOM JESUS\": 430230, \"SANT'ANA DO LIVRAMENTO\": 431710, \"ANTA GORDA\": 430070, \"NOVA BASSANO\": 431290, \"NOVA PETRÓPOLIS\": 431320, \n",
    "#     \"PANAMBI\": 431390, \"RESTINGA SECA\": 431550, \"SAPUCAIA DO SUL\": 432000, \"FELIZ\": 430810, \"DOIS LAJEADOS\": 430645, \"GUABIJU\": 430925, \"ITAQUI\": 431060, \n",
    "#     \"NONOAI\": 431270, \"ARATIBA\": 430090, \"GETÚLIO VARGAS\": 430890, \"CAMPINAS DO SUL\": 430380, \"VIADUTOS\": 432290, \"GAURAMA\": 430870, \"MARCELINO RAMOS\": 431190, \n",
    "#     \"ENCRUZILHADA DO SUL\": 430690, \"SOBRADINHO\": 432070, \"CRUZ ALTA\": 430610, \"SALTO DO JACUÍ\": 431645, \"PLANALTO\": 431470, \"CRUZEIRO DO SUL\": 430620, \n",
    "#     \"SÃO JOSÉ DO NORTE\": 431850, \"DOIS IRMÃOS\": 430640, \"DOM FELICIANO\": 430650, \"CHARQUEADAS\": 430535, \"TENENTE PORTELA\": 432140, \"CAIÇARA\": 430340, \n",
    "#     \"CARLOS BARBOSA\": 430480, \"PASSO FUNDO\": 431410, \"CANGUÇU\": 430450, \"RIO GRANDE\": 431560, \"SANTA MARIA\": 431690, \"SANTIAGO\": 431740, \"SANANDUVA\": 431660, \n",
    "#     \"MARAU\": 431180, \"IJUÍ\": 431020, \"RONDA ALTA\": 431610, \"URUGUAIANA\": 432240, \"SÃO GABRIEL\": 431830, \"ROSÁRIO DO SUL\": 431640, \"ALEGRETE\": 430040, \n",
    "#     \"ARVOREZINHA\": 430140, \"TRÊS COROAS\": 432170, \"CAMAQUÃ\": 430350, \"SANTO AUGUSTO\": 431780, \"BAGÉ\": 430160, \"DOM PEDRITO\": 430660, \"SANTA BÁRBARA DO SUL\": 431670, \n",
    "#     \"TORRES\": 432150, \"JÚLIO DE CASTILHOS\": 431120, \"FAXINAL DO SOTURNO\": 430800, \"PEDRO OSÓRIO\": 431420, \"JAGUARÃO\": 431100, \"FREDERICO WESTPHALEN\": 430850, \n",
    "#     \"RODEIO BONITO\": 431590, \"SEVERIANO DE ALMEIDA\": 432060, \"TRAMANDAÍ\": 432160, \"HUMAITÁ\": 430970, \"ESTÂNCIA VELHA\": 430760, \"TUPARENDI\": 432230, \n",
    "#     \"AUGUSTO PESTANA\": 430150, \"TRÊS DE MAIO\": 432180, \"SANTO ANTÔNIO DA PATRULHA\": 431760, \"MOSTARDAS\": 431250, \"FLORES DA CUNHA\": 430820, \"GIRUÁ\": 430900, \n",
    "#     \"CAMBARÁ DO SUL\": 430360, \"ARROIO GRANDE\": 430130, \"AGUDO\": 430010, \"SÃO VICENTE DO SUL\": 431980, \"SÃO LEOPOLDO\": 431870, \"SANTA VITÓRIA DO PALMAR\": 431730, \n",
    "#     \"JAGUARI\": 431110, \"HERVAL\": 430710, \"SÃO PEDRO DO SUL\": 431940, \"SÃO SEPÉ\": 431960, \"SÃO FRANCISCO DE ASSIS\": 431810, \"CACEQUI\": 430290, \"TAPEJARA\": 432090, \n",
    "#     \"TUPANCIRETÃ\": 432220, \"NOVA PALMA\": 431310, \"CHAPADA\": 430530, \"OSÓRIO\": 431350, \"ALECRIM\": 430030, \"HORIZONTINA\": 430960, \"CONSTANTINA\": 430580, \n",
    "#     \"SARANDI\": 432010, \"TRINDADE DO SUL\": 432195, \"PALMEIRA DAS MISSÕES\": 431370, \"CRISSIUMAL\": 430600, \"PALMARES DO SUL\": 431365, \"TUCUNDUVA\": 432210, \n",
    "#     \"JABOTICABA\": 431085, \"CONDOR\": 430570, \"CAMPO NOVO\": 430400, \"AJURICABA\": 430020, \"SÃO MARTINHO\": 431910, \"CORONEL BICACO\": 430590, \"PARAÍSO DO SUL\": 431402, \n",
    "#     \"SÃO JOÃO DO POLÊSINE\": 431843, \"SERAFINA CORRÊA\": 432040, \"BOM RETIRO DO SUL\": 430240, \"PUTINGA\": 431520, \"CAMPO BOM\": 430390, \"CANELA\": 430440, \n",
    "#     \"ROCA SALES\": 431580, \"MAXIMILIANO DE ALMEIDA\": 431220, \"LAGOA VERMELHA\": 431130, \"SEGREDO\": 432026, \"IBIRUBÁ\": 431000, \"PAIM FILHO\": 431360, \n",
    "#     \"CAÇAPAVA DO SUL\": 430280, \"CASCA\": 430490, \"SOLEDADE\": 432080, \"CAPÃO DA CANOA\": 430463, \"PALMITINHO\": 431380, \"IRAÍ\": 431050, \"IVOTI\": 431080, \n",
    "#     \"CHIAPETTA\": 430540, \"PEJUÇARA\": 431430, \"ARROIO DO TIGRE\": 430120, \"SÃO JOSÉ DO OURO\": 431860, \"RONDINHA\": 431620, \"SERTÃO\": 432050, \"ALPESTRE\": 430050, \n",
    "#     \"AMETISTA DO SUL\": 430064, \"SELBACH\": 432030, \"QUINZE DE NOVEMBRO\": 431535, \"SALDANHA MARINHO\": 431643, \"PINHAL GRANDE\": 431447, \"FORMIGUEIRO\": 430840, \n",
    "#     \"PARAÍ\": 431400, \"ACEGUÁ\": 430003, \"LAVRAS DO SUL\": 431150, \"DAVID CANABARRO\": 430630, \"PINHEIRO MACHADO\": 431450, \"ESTRELA\": 430780, \"GRAVATAÍ\": 430920, \n",
    "#     \"QUARAÍ\": 431530, \"VENÂNCIO AIRES\": 432260, \"FARROUPILHA\": 430790, \"ARROIO DO MEIO\": 430100, \"SEBERI\": 432020, \"TRÊS PASSOS\": 432190, \"SÃO LOURENÇO DO SUL\": 431880, \n",
    "#     \"PIRATINI\": 431460, \"ESTEIO\": 430770, \"TAPERA\": 432100, \"NÃO-ME-TOQUE\": 431265, \"PORTÃO\": 431480, \"ESPUMOSO\": 430750, \"ROLANTE\": 431600, \"MONTENEGRO\": 431240, \n",
    "#     \"ILÓPOLIS\": 431030, \"SÃO BORJA\": 431800, \"IVORÁ\": 431075, \"MATA\": 431210, \"JAQUIRANA\": 431112, \"ANTÔNIO PRADO\": 430080, \"BOM PRINCÍPIO\": 430235, \"PROGRESSO\": 431515\n",
    "# }\n",
    "\n",
    "\n",
    "# # # Função para carregar os dados\n",
    "# # def carregar_dados(cidade='PORTO ALEGRE', ano='2023'):\n",
    "# #     # Validar se o ano está dentro do intervalo permitido\n",
    "# #     anos_validos = list(range(2008, 2025))  # De 2008 a 2024\n",
    "# #     if int(ano) not in anos_validos:\n",
    "# #         raise ValueError(f\"O ano {ano} não está dentro do intervalo permitido (2008-2024).\")\n",
    "    \n",
    "# #     # Carregar o SIH\n",
    "# #     sih = SIH().load()\n",
    "\n",
    "# #     # Verificar se o código da cidade está no mapeamento\n",
    "# #     codigo_cidade = cidade_codigos.get(cidade)\n",
    "# #     if codigo_cidade is None:\n",
    "# #         raise ValueError(f\"Cidade {cidade} não encontrada no mapeamento.\")\n",
    "    \n",
    "# #     # Obter os arquivos para o ano e cidade selecionados\n",
    "# #     files = sih.get_files(\"SP\", uf=\"RS\", year=ano)\n",
    "    \n",
    "# #     # Fazer o download dos arquivos Parquet\n",
    "# #     parquets = sih.download(files)\n",
    "    \n",
    "# #     # Verificar quantos arquivos Parquet foram baixados\n",
    "# #     num_parquets = len(parquets)\n",
    "# #     if num_parquets == 0:\n",
    "# #         raise ValueError(f\"Nenhum arquivo Parquet encontrado para o ano {ano}.\")\n",
    "    \n",
    "# #     # Carregar os dados de todos os arquivos Parquet\n",
    "# #     data = pd.concat([f.to_dataframe() for f in parquets], ignore_index=True)\n",
    "\n",
    "# #     # Filtrar os dados pela cidade (código da cidade)\n",
    "# #     data_filtrada = data[data['SP_M_HOSP'] == str(codigo_cidade)]  # Usar string para a comparação\n",
    "    \n",
    "# #     return data_filtrada\n",
    "\n",
    "\n",
    "# from tqdm import tqdm  # Importar tqdm para mostrar barra de progresso\n",
    "\n",
    "# # Função para carregar os dados\n",
    "# def carregar_dados(cidade='PORTO ALEGRE', ano='2023'):\n",
    "#     # Validar se o ano está dentro do intervalo permitido\n",
    "#     anos_validos = list(range(2008, 2025))  # De 2008 a 2024\n",
    "#     if int(ano) not in anos_validos:\n",
    "#         raise ValueError(f\"O ano {ano} não está dentro do intervalo permitido (2008-2024).\")\n",
    "    \n",
    "#     # Carregar o SIH\n",
    "#     sih = SIH().load()\n",
    "\n",
    "#     # Verificar se o código da cidade está no mapeamento\n",
    "#     codigo_cidade = cidade_codigos.get(cidade)\n",
    "#     if codigo_cidade is None:\n",
    "#         raise ValueError(f\"Cidade {cidade} não encontrada no mapeamento.\")\n",
    "    \n",
    "#     # Obter os arquivos para o ano e cidade selecionados\n",
    "#     files = sih.get_files(\"SP\", uf=\"RS\", year=ano)\n",
    "    \n",
    "#     # Fazer o download dos arquivos Parquet\n",
    "#     print(f\"Iniciando o download dos arquivos Parquet para o ano {ano}...\")\n",
    "#     parquets = []\n",
    "#     for file in tqdm(files, desc=\"Baixando Parquets\", unit=\"arquivo\"):\n",
    "#         parquets.append(sih.download([file]))  # Baixa cada arquivo e adiciona à lista\n",
    "#     print(f\"Download dos arquivos concluído.\")\n",
    "    \n",
    "#     # Verificar quantos arquivos Parquet foram baixados\n",
    "#     num_parquets = len(parquets)\n",
    "#     if num_parquets == 0:\n",
    "#         raise ValueError(f\"Nenhum arquivo Parquet encontrado para o ano {ano}.\")\n",
    "    \n",
    "#     # Carregar os dados de todos os arquivos Parquet\n",
    "#     print(\"Carregando os dados dos arquivos Parquet...\")\n",
    "#     data = pd.concat([f.to_dataframe() for f in parquets], ignore_index=True)\n",
    "#     print(\"Dados carregados com sucesso.\")\n",
    "    \n",
    "#     # Filtrar os dados pela cidade (código da cidade)\n",
    "#     print(f\"Filtrando os dados para a cidade {cidade}...\")\n",
    "#     data_filtrada = data[data['SP_M_HOSP'] == str(codigo_cidade)]  # Usar string para a comparação\n",
    "    \n",
    "#     print(f\"Filtragem concluída. Total de registros encontrados: {len(data_filtrada)}\")\n",
    "    \n",
    "#     return data_filtrada\n",
    "\n",
    "\n",
    "\n",
    "# from dash import Dash, dcc, html, Input, Output\n",
    "# import pandas as pd\n",
    "\n",
    "# app = Dash(__name__)\n",
    "\n",
    "# # Layout da interface gráfica\n",
    "# app.layout = html.Div([\n",
    "#     # Dropdown para escolher a cidade\n",
    "#     dcc.Dropdown(\n",
    "#         id='cidade-dropdown',\n",
    "#         options=[{'label': cidade, 'value': cidade} for cidade in cidade_codigos.keys()],\n",
    "#         value='PORTO ALEGRE',  # valor inicial\n",
    "#     ),\n",
    "#     # Dropdown para escolher o ano\n",
    "#     dcc.Dropdown(\n",
    "#         id='ano-dropdown',\n",
    "#         options=[{'label': str(ano), 'value': str(ano)} for ano in range(2008, 2025)],\n",
    "#         value='2023',  # valor inicial\n",
    "#     ),\n",
    "#     # Botão para iniciar o download\n",
    "#     html.Button('INICIAR', id='iniciar-btn', n_clicks=0),\n",
    "#     # Exibir dados ou mensagens\n",
    "#     html.Div(id='output-data')\n",
    "# ])\n",
    "\n",
    "# @app.callback(\n",
    "#     Output('output-data', 'children'),\n",
    "#     Input('iniciar-btn', 'n_clicks'),\n",
    "#     Input('cidade-dropdown', 'value'),\n",
    "#     Input('ano-dropdown', 'value'),\n",
    "# )\n",
    "# def iniciar_download(n_clicks, cidade, ano):\n",
    "#     if n_clicks > 0:\n",
    "#         try:\n",
    "#             # Carregar os dados após o clique no botão\n",
    "#             data_filtrada = carregar_dados(cidade, ano)\n",
    "            \n",
    "#             # Mostrar as primeiras linhas dos dados carregados\n",
    "#             return html.Div([\n",
    "#                 html.H5(f'Dados carregados para {cidade} no ano {ano}'),\n",
    "#                 html.Pre(data_filtrada.head().to_string())  # Exemplo de visualização dos dados\n",
    "#             ])\n",
    "#         except Exception as e:\n",
    "#             return html.Div([f'Erro: {str(e)}'])\n",
    "#     else:\n",
    "#         return html.Div(['Clique no botão \"INICIAR\" para começar.'])\n",
    "\n",
    "# # Rodar o servidor\n",
    "# if __name__ == '__main__':\n",
    "#     app.run_server(debug=True)\n"
   ]
  },
  {
   "cell_type": "markdown",
   "metadata": {},
   "source": [
    "## ETL"
   ]
  },
  {
   "cell_type": "markdown",
   "metadata": {
    "jp-MarkdownHeadingCollapsed": true
   },
   "source": [
    "### versão antiga/manual para baixar dados do pysus"
   ]
  },
  {
   "cell_type": "code",
   "execution_count": 4,
   "metadata": {
    "execution": {
     "iopub.execute_input": "2025-02-25T17:14:03.526508Z",
     "iopub.status.busy": "2025-02-25T17:14:03.526282Z",
     "iopub.status.idle": "2025-02-25T17:14:03.528666Z",
     "shell.execute_reply": "2025-02-25T17:14:03.528310Z"
    }
   },
   "outputs": [],
   "source": [
    "#sih = SIH().load()"
   ]
  },
  {
   "cell_type": "code",
   "execution_count": 5,
   "metadata": {
    "execution": {
     "iopub.execute_input": "2025-02-25T17:14:03.530888Z",
     "iopub.status.busy": "2025-02-25T17:14:03.530703Z",
     "iopub.status.idle": "2025-02-25T17:14:03.532861Z",
     "shell.execute_reply": "2025-02-25T17:14:03.532536Z"
    }
   },
   "outputs": [],
   "source": [
    "#sih.metadata"
   ]
  },
  {
   "cell_type": "code",
   "execution_count": 6,
   "metadata": {
    "execution": {
     "iopub.execute_input": "2025-02-25T17:14:03.534247Z",
     "iopub.status.busy": "2025-02-25T17:14:03.534045Z",
     "iopub.status.idle": "2025-02-25T17:14:03.535932Z",
     "shell.execute_reply": "2025-02-25T17:14:03.535599Z"
    }
   },
   "outputs": [],
   "source": [
    "#sih.load()"
   ]
  },
  {
   "cell_type": "code",
   "execution_count": 7,
   "metadata": {
    "execution": {
     "iopub.execute_input": "2025-02-25T17:14:03.537201Z",
     "iopub.status.busy": "2025-02-25T17:14:03.536916Z",
     "iopub.status.idle": "2025-02-25T17:14:03.538998Z",
     "shell.execute_reply": "2025-02-25T17:14:03.538683Z"
    }
   },
   "outputs": [],
   "source": [
    "#sih.groups"
   ]
  },
  {
   "cell_type": "code",
   "execution_count": 8,
   "metadata": {
    "execution": {
     "iopub.execute_input": "2025-02-25T17:14:03.540170Z",
     "iopub.status.busy": "2025-02-25T17:14:03.540009Z",
     "iopub.status.idle": "2025-02-25T17:14:03.542068Z",
     "shell.execute_reply": "2025-02-25T17:14:03.541759Z"
    }
   },
   "outputs": [],
   "source": [
    "#files = sih.get_files(\"SP\", uf=\"RS\", year=2023)"
   ]
  },
  {
   "cell_type": "code",
   "execution_count": 9,
   "metadata": {
    "execution": {
     "iopub.execute_input": "2025-02-25T17:14:03.543323Z",
     "iopub.status.busy": "2025-02-25T17:14:03.543122Z",
     "iopub.status.idle": "2025-02-25T17:14:03.545039Z",
     "shell.execute_reply": "2025-02-25T17:14:03.544647Z"
    }
   },
   "outputs": [],
   "source": [
    "#parquets = sih.download(files)\n",
    "#parquets"
   ]
  },
  {
   "cell_type": "code",
   "execution_count": 10,
   "metadata": {
    "execution": {
     "iopub.execute_input": "2025-02-25T17:14:03.546185Z",
     "iopub.status.busy": "2025-02-25T17:14:03.545998Z",
     "iopub.status.idle": "2025-02-25T17:14:03.547627Z",
     "shell.execute_reply": "2025-02-25T17:14:03.547364Z"
    }
   },
   "outputs": [],
   "source": [
    "#data =parquets[8].to_dataframe()"
   ]
  },
  {
   "cell_type": "markdown",
   "metadata": {},
   "source": [
    "### versao nova do processo de ETL"
   ]
  },
  {
   "cell_type": "code",
   "execution_count": 11,
   "metadata": {
    "execution": {
     "iopub.execute_input": "2025-02-25T17:14:03.548653Z",
     "iopub.status.busy": "2025-02-25T17:14:03.548481Z",
     "iopub.status.idle": "2025-02-25T17:14:05.222497Z",
     "shell.execute_reply": "2025-02-25T17:14:05.222073Z"
    }
   },
   "outputs": [
    {
     "name": "stderr",
     "output_type": "stream",
     "text": [
      "/tmp/ipykernel_33377/1469209899.py:1: DtypeWarning: Columns (16,25) have mixed types. Specify dtype option on import or set low_memory=False.\n",
      "  data = pd.read_csv(\"dados_filtrados.csv\")\n"
     ]
    },
    {
     "name": "stdout",
     "output_type": "stream",
     "text": [
      "<class 'pandas.core.frame.DataFrame'>\n",
      "RangeIndex: 591621 entries, 0 to 591620\n",
      "Data columns (total 36 columns):\n",
      " #   Column      Non-Null Count   Dtype  \n",
      "---  ------      --------------   -----  \n",
      " 0   SP_GESTOR   591621 non-null  int64  \n",
      " 1   SP_UF       591621 non-null  int64  \n",
      " 2   SP_AA       591621 non-null  int64  \n",
      " 3   SP_MM       591621 non-null  int64  \n",
      " 4   SP_CNES     591621 non-null  int64  \n",
      " 5   SP_NAIH     591621 non-null  int64  \n",
      " 6   SP_PROCREA  591621 non-null  int64  \n",
      " 7   SP_DTINTER  591621 non-null  int64  \n",
      " 8   SP_DTSAIDA  591621 non-null  int64  \n",
      " 9   SP_NUM_PR   0 non-null       float64\n",
      " 10  SP_TIPO     0 non-null       float64\n",
      " 11  SP_CPFCGC   591621 non-null  int64  \n",
      " 12  SP_ATOPROF  591621 non-null  int64  \n",
      " 13  SP_TP_ATO   0 non-null       float64\n",
      " 14  SP_QTD_ATO  591621 non-null  int64  \n",
      " 15  SP_PTSP     591621 non-null  int64  \n",
      " 16  SP_NF       12170 non-null   object \n",
      " 17  SP_VALATO   591621 non-null  float64\n",
      " 18  SP_M_HOSP   591621 non-null  int64  \n",
      " 19  SP_M_PAC    591621 non-null  int64  \n",
      " 20  SP_DES_HOS  591621 non-null  int64  \n",
      " 21  SP_DES_PAC  591621 non-null  int64  \n",
      " 22  SP_COMPLEX  591621 non-null  int64  \n",
      " 23  SP_FINANC   591621 non-null  int64  \n",
      " 24  SP_CO_FAEC  4107 non-null    float64\n",
      " 25  SP_PF_CBO   591621 non-null  object \n",
      " 26  SP_PF_DOC   591621 non-null  int64  \n",
      " 27  SP_PJ_DOC   591621 non-null  int64  \n",
      " 28  IN_TP_VAL   591621 non-null  int64  \n",
      " 29  SEQUENCIA   591621 non-null  int64  \n",
      " 30  REMESSA     591621 non-null  object \n",
      " 31  SERV_CLA    591621 non-null  int64  \n",
      " 32  SP_CIDPRI   591621 non-null  object \n",
      " 33  SP_CIDSEC   591621 non-null  int64  \n",
      " 34  SP_QT_PROC  591621 non-null  int64  \n",
      " 35  SP_U_AIH    591621 non-null  int64  \n",
      "dtypes: float64(5), int64(27), object(4)\n",
      "memory usage: 162.5+ MB\n"
     ]
    }
   ],
   "source": [
    "data = pd.read_csv(\"dados_filtrados.csv\")\n",
    "data.info()"
   ]
  },
  {
   "cell_type": "code",
   "execution_count": 12,
   "metadata": {
    "execution": {
     "iopub.execute_input": "2025-02-25T17:14:05.224012Z",
     "iopub.status.busy": "2025-02-25T17:14:05.223767Z",
     "iopub.status.idle": "2025-02-25T17:14:05.243561Z",
     "shell.execute_reply": "2025-02-25T17:14:05.242981Z"
    }
   },
   "outputs": [],
   "source": [
    "data_clean = data.drop(['SP_GESTOR','SP_NUM_PR', 'SP_TIPO', 'SP_TP_ATO','SP_CPFCGC', 'SP_QTD_ATO', 'SP_PTSP', 'SP_NF', 'SP_COMPLEX', 'SP_FINANC', 'SP_CO_FAEC', 'SP_PF_DOC', 'SP_PJ_DOC','IN_TP_VAL', 'SEQUENCIA', 'REMESSA', 'SERV_CLA', 'SP_CIDPRI', 'SP_CIDSEC', 'SP_U_AIH', 'SP_PF_CBO'], axis='columns')"
   ]
  },
  {
   "cell_type": "code",
   "execution_count": 13,
   "metadata": {
    "execution": {
     "iopub.execute_input": "2025-02-25T17:14:05.245154Z",
     "iopub.status.busy": "2025-02-25T17:14:05.245006Z",
     "iopub.status.idle": "2025-02-25T17:14:05.263507Z",
     "shell.execute_reply": "2025-02-25T17:14:05.263118Z"
    }
   },
   "outputs": [
    {
     "name": "stdout",
     "output_type": "stream",
     "text": [
      "<class 'pandas.core.frame.DataFrame'>\n",
      "RangeIndex: 591621 entries, 0 to 591620\n",
      "Data columns (total 15 columns):\n",
      " #   Column      Non-Null Count   Dtype  \n",
      "---  ------      --------------   -----  \n",
      " 0   SP_UF       591621 non-null  int64  \n",
      " 1   SP_AA       591621 non-null  int64  \n",
      " 2   SP_MM       591621 non-null  int64  \n",
      " 3   SP_CNES     591621 non-null  int64  \n",
      " 4   SP_NAIH     591621 non-null  int64  \n",
      " 5   SP_PROCREA  591621 non-null  int64  \n",
      " 6   SP_DTINTER  591621 non-null  int64  \n",
      " 7   SP_DTSAIDA  591621 non-null  int64  \n",
      " 8   SP_ATOPROF  591621 non-null  int64  \n",
      " 9   SP_VALATO   591621 non-null  float64\n",
      " 10  SP_M_HOSP   591621 non-null  int64  \n",
      " 11  SP_M_PAC    591621 non-null  int64  \n",
      " 12  SP_DES_HOS  591621 non-null  int64  \n",
      " 13  SP_DES_PAC  591621 non-null  int64  \n",
      " 14  SP_QT_PROC  591621 non-null  int64  \n",
      "dtypes: float64(1), int64(14)\n",
      "memory usage: 67.7 MB\n"
     ]
    }
   ],
   "source": [
    "data_clean.info()"
   ]
  },
  {
   "cell_type": "code",
   "execution_count": 14,
   "metadata": {
    "execution": {
     "iopub.execute_input": "2025-02-25T17:14:05.265224Z",
     "iopub.status.busy": "2025-02-25T17:14:05.265023Z",
     "iopub.status.idle": "2025-02-25T17:14:05.274918Z",
     "shell.execute_reply": "2025-02-25T17:14:05.274601Z"
    }
   },
   "outputs": [
    {
     "data": {
      "text/html": [
       "<div>\n",
       "<style scoped>\n",
       "    .dataframe tbody tr th:only-of-type {\n",
       "        vertical-align: middle;\n",
       "    }\n",
       "\n",
       "    .dataframe tbody tr th {\n",
       "        vertical-align: top;\n",
       "    }\n",
       "\n",
       "    .dataframe thead th {\n",
       "        text-align: right;\n",
       "    }\n",
       "</style>\n",
       "<table border=\"1\" class=\"dataframe\">\n",
       "  <thead>\n",
       "    <tr style=\"text-align: right;\">\n",
       "      <th></th>\n",
       "      <th>SP_UF</th>\n",
       "      <th>SP_AA</th>\n",
       "      <th>SP_MM</th>\n",
       "      <th>SP_CNES</th>\n",
       "      <th>SP_NAIH</th>\n",
       "      <th>SP_PROCREA</th>\n",
       "      <th>SP_DTINTER</th>\n",
       "      <th>SP_DTSAIDA</th>\n",
       "      <th>SP_ATOPROF</th>\n",
       "      <th>SP_VALATO</th>\n",
       "      <th>SP_M_HOSP</th>\n",
       "      <th>SP_M_PAC</th>\n",
       "      <th>SP_DES_HOS</th>\n",
       "      <th>SP_DES_PAC</th>\n",
       "      <th>SP_QT_PROC</th>\n",
       "    </tr>\n",
       "  </thead>\n",
       "  <tbody>\n",
       "    <tr>\n",
       "      <th>0</th>\n",
       "      <td>43</td>\n",
       "      <td>2022</td>\n",
       "      <td>1</td>\n",
       "      <td>3508528</td>\n",
       "      <td>4321109205787</td>\n",
       "      <td>303010037</td>\n",
       "      <td>20211110</td>\n",
       "      <td>20211209</td>\n",
       "      <td>204060095</td>\n",
       "      <td>0.00</td>\n",
       "      <td>430460</td>\n",
       "      <td>430460</td>\n",
       "      <td>0</td>\n",
       "      <td>0</td>\n",
       "      <td>1</td>\n",
       "    </tr>\n",
       "    <tr>\n",
       "      <th>1</th>\n",
       "      <td>43</td>\n",
       "      <td>2022</td>\n",
       "      <td>1</td>\n",
       "      <td>3508528</td>\n",
       "      <td>4321109205787</td>\n",
       "      <td>303010037</td>\n",
       "      <td>20211110</td>\n",
       "      <td>20211209</td>\n",
       "      <td>211020036</td>\n",
       "      <td>0.00</td>\n",
       "      <td>430460</td>\n",
       "      <td>430460</td>\n",
       "      <td>0</td>\n",
       "      <td>0</td>\n",
       "      <td>3</td>\n",
       "    </tr>\n",
       "    <tr>\n",
       "      <th>2</th>\n",
       "      <td>43</td>\n",
       "      <td>2022</td>\n",
       "      <td>1</td>\n",
       "      <td>3508528</td>\n",
       "      <td>4321109205897</td>\n",
       "      <td>303040297</td>\n",
       "      <td>20211129</td>\n",
       "      <td>20211228</td>\n",
       "      <td>303040297</td>\n",
       "      <td>87.85</td>\n",
       "      <td>430460</td>\n",
       "      <td>430460</td>\n",
       "      <td>0</td>\n",
       "      <td>0</td>\n",
       "      <td>0</td>\n",
       "    </tr>\n",
       "    <tr>\n",
       "      <th>3</th>\n",
       "      <td>43</td>\n",
       "      <td>2022</td>\n",
       "      <td>1</td>\n",
       "      <td>3508528</td>\n",
       "      <td>4321109205897</td>\n",
       "      <td>303040297</td>\n",
       "      <td>20211129</td>\n",
       "      <td>20211228</td>\n",
       "      <td>302040013</td>\n",
       "      <td>19.05</td>\n",
       "      <td>430460</td>\n",
       "      <td>430460</td>\n",
       "      <td>0</td>\n",
       "      <td>0</td>\n",
       "      <td>3</td>\n",
       "    </tr>\n",
       "    <tr>\n",
       "      <th>4</th>\n",
       "      <td>43</td>\n",
       "      <td>2022</td>\n",
       "      <td>1</td>\n",
       "      <td>3508528</td>\n",
       "      <td>4321109205897</td>\n",
       "      <td>303040297</td>\n",
       "      <td>20211129</td>\n",
       "      <td>20211228</td>\n",
       "      <td>302040013</td>\n",
       "      <td>127.00</td>\n",
       "      <td>430460</td>\n",
       "      <td>430460</td>\n",
       "      <td>0</td>\n",
       "      <td>0</td>\n",
       "      <td>20</td>\n",
       "    </tr>\n",
       "  </tbody>\n",
       "</table>\n",
       "</div>"
      ],
      "text/plain": [
       "   SP_UF  SP_AA  SP_MM  SP_CNES        SP_NAIH  SP_PROCREA  SP_DTINTER  \\\n",
       "0     43   2022      1  3508528  4321109205787   303010037    20211110   \n",
       "1     43   2022      1  3508528  4321109205787   303010037    20211110   \n",
       "2     43   2022      1  3508528  4321109205897   303040297    20211129   \n",
       "3     43   2022      1  3508528  4321109205897   303040297    20211129   \n",
       "4     43   2022      1  3508528  4321109205897   303040297    20211129   \n",
       "\n",
       "   SP_DTSAIDA  SP_ATOPROF  SP_VALATO  SP_M_HOSP  SP_M_PAC  SP_DES_HOS  \\\n",
       "0    20211209   204060095       0.00     430460    430460           0   \n",
       "1    20211209   211020036       0.00     430460    430460           0   \n",
       "2    20211228   303040297      87.85     430460    430460           0   \n",
       "3    20211228   302040013      19.05     430460    430460           0   \n",
       "4    20211228   302040013     127.00     430460    430460           0   \n",
       "\n",
       "   SP_DES_PAC  SP_QT_PROC  \n",
       "0           0           1  \n",
       "1           0           3  \n",
       "2           0           0  \n",
       "3           0           3  \n",
       "4           0          20  "
      ]
     },
     "execution_count": 14,
     "metadata": {},
     "output_type": "execute_result"
    }
   ],
   "source": [
    "data_clean.head()"
   ]
  },
  {
   "cell_type": "raw",
   "metadata": {},
   "source": [
    "Descrição das colunas do dataset após primeira filtragem:\n",
    "\n",
    "SP_UF = código do estado (43)\n",
    "\n",
    "SP_AA = ano do dado\n",
    "\n",
    "SP_MM = mes do dado\n",
    "\n",
    "SP_CNES = Código CNES do hospital\n",
    "\n",
    "SP_NAIH = Número do AIH (código que realizar a solicitação de internação) \n",
    "\n",
    "SP_PROCREA = Procedimento realizado na AIH (codigo nao espeficado) Tem 90% no link: https://arquivos.camacari.ba.gov.br/compras/ANEXO%20VIII%20-%20TABELA%20NACIONAL%20DE%20PROCEDIMENTOS%20SUS.pdf \n",
    "\n",
    "SP_DTINTER = Dia da internação (em string, exemplo: \"20221209\" ano, mes, dia\n",
    "\n",
    "SP_DTSAIDA = Data de saida(mesmo tipo e formato do de internação)\n",
    "\n",
    "SP_ATOPROF = Procedimento referente ao ato profissional (codigo NÃO especificado) Tem 90% no link: https://arquivos.camacari.ba.gov.br/compras/ANEXO%20VIII%20-%20TABELA%20NACIONAL%20DE%20PROCEDIMENTOS%20SUS.pdf \n",
    "\n",
    "SP_VALATO = Valor do ato profissional (numero em string)\n",
    "\n",
    "SP_M_HOSP = código do munícipio do hospital ou estabelecimento (temos oq significa)\n",
    "\n",
    "SP_M_PAC = código do endereço do paciente (temos oq significa)\n",
    "\n",
    "SP_DES_HOS E DES_PAC = COLUNA BINARIA INDICANDO SE O ENDEREÇO DO PACIENTE É IGUAL AO DO HOSPITAL\n",
    "\n",
    "SP_PF_CBO = Código de ocupação brasileira (titulo do trabalho do cara em código CBO) do profissional que realizou o ato (ou 0000 caso nao tenha info)\n",
    "\n",
    "SP_QT_PROC = qtd de procedimentos realizados (numeros)"
   ]
  },
  {
   "cell_type": "code",
   "execution_count": 15,
   "metadata": {
    "execution": {
     "iopub.execute_input": "2025-02-25T17:14:05.276330Z",
     "iopub.status.busy": "2025-02-25T17:14:05.276171Z",
     "iopub.status.idle": "2025-02-25T17:14:05.282731Z",
     "shell.execute_reply": "2025-02-25T17:14:05.282019Z"
    }
   },
   "outputs": [
    {
     "name": "stdout",
     "output_type": "stream",
     "text": [
      "dados da coluna M HOSP: \n",
      "SP_M_HOSP\n",
      "430460    591621\n",
      "Name: count, dtype: int64\n"
     ]
    }
   ],
   "source": [
    "print(\"dados da coluna M HOSP: \")\n",
    "print(data_clean['SP_M_HOSP'].value_counts())"
   ]
  },
  {
   "cell_type": "code",
   "execution_count": 16,
   "metadata": {
    "execution": {
     "iopub.execute_input": "2025-02-25T17:14:05.284319Z",
     "iopub.status.busy": "2025-02-25T17:14:05.284017Z",
     "iopub.status.idle": "2025-02-25T17:14:05.289086Z",
     "shell.execute_reply": "2025-02-25T17:14:05.288763Z"
    }
   },
   "outputs": [
    {
     "name": "stdout",
     "output_type": "stream",
     "text": [
      "A variável 430040 está presente no dicionário.\n",
      "{'430003': 'GRANDE DO SUL ACEGUÁ', '430005': 'GRANDE DO SUL ÁGUA SANTA', '430010': 'GRANDE DO SUL AGUDO', '430020': 'GRANDE DO SUL AJURICABA', '430030': 'GRANDE DO SUL ALECRIM', '430040': 'GRANDE DO SUL ALEGRETE', '430045': 'GRANDE DO SUL ALEGRIA', '430047': 'GRANDE DO SUL ALMIRANTE TAMANDARÉ DO SUL', '430050': 'GRANDE DO SUL ALPESTRE', '430055': 'GRANDE DO SUL ALTO ALEGRE', '430057': 'GRANDE DO SUL ALTO FELIZ', '430060': 'GRANDE DO SUL ALVORADA', '430063': 'GRANDE DO SUL AMARAL FERRADOR', '430064': 'GRANDE DO SUL AMETISTA DO SUL', '430066': 'GRANDE DO SUL ANDRÉ DA ROCHA', '430070': 'GRANDE DO SUL ANTA GORDA', '430080': 'GRANDE DO SUL ANTÔNIO PRADO', '430085': 'GRANDE DO SUL ARAMBARÉ', '430087': 'GRANDE DO SUL ARARICÁ', '430090': 'GRANDE DO SUL ARATIBA', '430100': 'GRANDE DO SUL ARROIO DO MEIO', '430105': 'GRANDE DO SUL ARROIO DO SAL', '430107': 'GRANDE DO SUL ARROIO DO PADRE', '430110': 'GRANDE DO SUL ARROIO DOS RATOS', '430120': 'GRANDE DO SUL ARROIO DO TIGRE', '430130': 'GRANDE DO SUL ARROIO GRANDE', '430140': 'GRANDE DO SUL ARVOREZINHA', '430150': 'GRANDE DO SUL AUGUSTO PESTANA', '430155': 'GRANDE DO SUL ÁUREA', '430160': 'GRANDE DO SUL BAGÉ', '430163': 'GRANDE DO SUL BALNEÁRIO PINHAL', '430165': 'GRANDE DO SUL BARÃO', '430170': 'GRANDE DO SUL BARÃO DE COTEGIPE', '430175': 'GRANDE DO SUL BARÃO DO TRIUNFO', '430180': 'GRANDE DO SUL BARRACÃO', '430185': 'GRANDE DO SUL BARRA DO GUARITA', '430187': 'GRANDE DO SUL BARRA DO QUARAÍ', '430190': 'GRANDE DO SUL BARRA DO RIBEIRO', '430192': 'GRANDE DO SUL BARRA DO RIO AZUL', '430195': 'GRANDE DO SUL BARRA FUNDA', '430200': 'GRANDE DO SUL BARROS CASSAL', '430205': 'GRANDE DO SUL BENJAMIN CONSTANT DO SUL', '430210': 'GRANDE DO SUL BENTO GONÇALVES', '430215': 'GRANDE DO SUL BOA VISTA DAS MISSÕES', '430220': 'GRANDE DO SUL BOA VISTA DO BURICÁ', '430222': 'GRANDE DO SUL BOA VISTA DO CADEADO', '430223': 'GRANDE DO SUL BOA VISTA DO INCRA', '430225': 'GRANDE DO SUL BOA VISTA DO SUL', '430230': 'GRANDE DO SUL BOM JESUS', '430235': 'GRANDE DO SUL BOM PRINCÍPIO', '430237': 'GRANDE DO SUL BOM PROGRESSO', '430240': 'GRANDE DO SUL BOM RETIRO DO SUL', '430245': 'GRANDE DO SUL BOQUEIRÃO DO LEÃO', '430250': 'GRANDE DO SUL BOSSOROCA', '430258': 'GRANDE DO SUL BOZANO', '430260': 'GRANDE DO SUL BRAGA', '430265': 'GRANDE DO SUL BROCHIER', '430270': 'GRANDE DO SUL BUTIÁ', '430280': 'GRANDE DO SUL CAÇAPAVA DO SUL', '430290': 'GRANDE DO SUL CACEQUI', '430300': 'GRANDE DO SUL CACHOEIRA DO SUL', '430310': 'GRANDE DO SUL CACHOEIRINHA', '430320': 'GRANDE DO SUL CACIQUE DOBLE', '430330': 'GRANDE DO SUL CAIBATÉ', '430340': 'GRANDE DO SUL CAIÇARA', '430350': 'GRANDE DO SUL CAMAQUÃ', '430355': 'GRANDE DO SUL CAMARGO', '430360': 'GRANDE DO SUL CAMBARÁ DO SUL', '430367': 'GRANDE DO SUL CAMPESTRE DA SERRA', '430370': 'GRANDE DO SUL CAMPINA DAS MISSÕES', '430380': 'GRANDE DO SUL CAMPINAS DO SUL', '430390': 'GRANDE DO SUL CAMPO BOM', '430400': 'GRANDE DO SUL CAMPO NOVO', '430410': 'GRANDE DO SUL CAMPOS BORGES', '430420': 'GRANDE DO SUL CANDELÁRIA', '430430': 'GRANDE DO SUL CÂNDIDO GODÓI', '430435': 'GRANDE DO SUL CANDIOTA', '430440': 'GRANDE DO SUL CANELA', '430450': 'GRANDE DO SUL CANGUÇU', '430460': 'GRANDE DO SUL CANOAS', '430461': 'GRANDE DO SUL CANUDOS DO VALE', '430462': 'GRANDE DO SUL CAPÃO BONITO DO SUL', '430463': 'GRANDE DO SUL CAPÃO DA CANOA', '430465': 'GRANDE DO SUL CAPÃO DO CIPÓ', '430466': 'GRANDE DO SUL CAPÃO DO LEÃO', '430467': 'GRANDE DO SUL CAPIVARI DO SUL', '430468': 'GRANDE DO SUL CAPELA DE SANTANA', '430469': 'GRANDE DO SUL CAPITÃO', '430470': 'GRANDE DO SUL CARAZINHO', '430471': 'GRANDE DO SUL CARAÁ', '430480': 'GRANDE DO SUL CARLOS BARBOSA', '430485': 'GRANDE DO SUL CARLOS GOMES', '430490': 'GRANDE DO SUL CASCA', '430495': 'GRANDE DO SUL CASEIROS', '430500': 'GRANDE DO SUL CATUÍPE', '430510': 'GRANDE DO SUL CAXIAS DO SUL', '430511': 'GRANDE DO SUL CENTENÁRIO', '430700': 'GRANDE DO SUL ERECHIM', '430705': 'GRANDE DO SUL ERNESTINA', '430710': 'GRANDE DO SUL HERVAL', '430720': 'GRANDE DO SUL ERVAL GRANDE', '430730': 'GRANDE DO SUL ERVAL SECO', '430740': 'GRANDE DO SUL ESMERALDA', '430745': 'GRANDE DO SUL ESPERANÇA DO SUL', '430750': 'GRANDE DO SUL ESPUMOSO', '430755': 'GRANDE DO SUL ESTAÇÃO', '430760': 'GRANDE DO SUL ESTÂNCIA VELHA', '430770': 'GRANDE DO SUL ESTEIO', '430780': 'GRANDE DO SUL ESTRELA', '430781': 'GRANDE DO SUL ESTRELA VELHA', '430783': 'GRANDE DO SUL EUGÊNIO DE CASTRO', '430786': 'GRANDE DO SUL FAGUNDES VARELA', '430790': 'GRANDE DO SUL FARROUPILHA', '430800': 'GRANDE DO SUL FAXINAL DO SOTURNO', '430805': 'GRANDE DO SUL FAXINALZINHO', '430807': 'GRANDE DO SUL FAZENDA VILANOVA', '430810': 'GRANDE DO SUL FELIZ', '430820': 'GRANDE DO SUL FLORES DA CUNHA', '430825': 'GRANDE DO SUL FLORIANO PEIXOTO', '430830': 'GRANDE DO SUL FONTOURA XAVIER', '430840': 'GRANDE DO SUL FORMIGUEIRO', '430843': 'GRANDE DO SUL FORQUETINHA', '430845': 'GRANDE DO SUL FORTALEZA DOS VALOS', '430850': 'GRANDE DO SUL FREDERICO WESTPHALEN', '430860': 'GRANDE DO SUL GARIBALDI', '430865': 'GRANDE DO SUL GARRUCHOS', '430870': 'GRANDE DO SUL GAURAMA', '430880': 'GRANDE DO SUL GENERAL CÂMARA', '430885': 'GRANDE DO SUL GENTIL', '430890': 'GRANDE DO SUL GETÚLIO VARGAS', '430900': 'GRANDE DO SUL GIRUÁ', '430905': 'GRANDE DO SUL GLORINHA', '430910': 'GRANDE DO SUL GRAMADO', '430912': 'GRANDE DO SUL GRAMADO DOS LOUREIROS', '430915': 'GRANDE DO SUL GRAMADO XAVIER', '430920': 'GRANDE DO SUL GRAVATAÍ', '430925': 'GRANDE DO SUL GUABIJU', '430930': 'GRANDE DO SUL GUAÍBA', '430940': 'GRANDE DO SUL GUAPORÉ', '430950': 'GRANDE DO SUL GUARANI DAS MISSÕES', '430955': 'GRANDE DO SUL HARMONIA', '430957': 'GRANDE DO SUL HERVEIRAS', '430960': 'GRANDE DO SUL HORIZONTINA', '430965': 'GRANDE DO SUL HULHA NEGRA', '430970': 'GRANDE DO SUL HUMAITÁ', '430975': 'GRANDE DO SUL IBARAMA', '430980': 'GRANDE DO SUL IBIAÇÁ', '430990': 'GRANDE DO SUL IBIRAIARAS', '430995': 'GRANDE DO SUL IBIRAPUITÃ', '431000': 'GRANDE DO SUL IBIRUBÁ', '431010': 'GRANDE DO SUL IGREJINHA', '431020': 'GRANDE DO SUL IJUÍ', '431030': 'GRANDE DO SUL ILÓPOLIS', '431033': 'GRANDE DO SUL IMBÉ', '431036': 'GRANDE DO SUL IMIGRANTE', '431040': 'GRANDE DO SUL INDEPENDÊNCIA', '431041': 'GRANDE DO SUL INHACORÁ', '431043': 'GRANDE DO SUL IPÊ', '431046': 'GRANDE DO SUL IPIRANGA DO SUL', '431050': 'GRANDE DO SUL IRAÍ', '431053': 'GRANDE DO SUL ITAARA', '431055': 'GRANDE DO SUL ITACURUBI', '431057': 'GRANDE DO SUL ITAPUCA', '431060': 'GRANDE DO SUL ITAQUI', '431065': 'GRANDE DO SUL ITATI', '431070': 'GRANDE DO SUL ITATIBA DO SUL', '431075': 'GRANDE DO SUL IVORÁ', '431080': 'GRANDE DO SUL IVOTI', '431085': 'GRANDE DO SUL JABOTICABA', '431087': 'GRANDE DO SUL JACUIZINHO', '431090': 'GRANDE DO SUL JACUTINGA', '431100': 'GRANDE DO SUL JAGUARÃO', '431110': 'GRANDE DO SUL JAGUARI', '431112': 'GRANDE DO SUL JAQUIRANA', '431113': 'GRANDE DO SUL JARI', '431115': 'GRANDE DO SUL JÓIA', '431120': 'GRANDE DO SUL JÚLIO DE CASTILHOS', '431123': 'GRANDE DO SUL LAGOA BONITA DO SUL', '431125': 'GRANDE DO SUL LAGOÃO', '431127': 'GRANDE DO SUL LAGOA DOS TRÊS CANTOS', '431130': 'GRANDE DO SUL LAGOA VERMELHA', '431140': 'GRANDE DO SUL LAJEADO', '431142': 'GRANDE DO SUL LAJEADO DO BUGRE', '431150': 'GRANDE DO SUL LAVRAS DO SUL', '431160': 'GRANDE DO SUL LIBERATO SALZANO', '431162': 'GRANDE DO SUL LINDOLFO COLLOR', '431164': 'GRANDE DO SUL LINHA NOVA', '431170': 'GRANDE DO SUL MACHADINHO', '431171': 'GRANDE DO SUL MAÇAMBARÁ', '431173': 'GRANDE DO SUL MAMPITUBA', '431175': 'GRANDE DO SUL MANOEL VIANA', '431177': 'GRANDE DO SUL MAQUINÉ', '431179': 'GRANDE DO SUL MARATÁ', '431180': 'GRANDE DO SUL MARAU', '431190': 'GRANDE DO SUL MARCELINO RAMOS', '431198': 'GRANDE DO SUL MARIANA PIMENTEL', '431200': 'GRANDE DO SUL MARIANO MORO', '431205': 'GRANDE DO SUL MARQUES DE SOUZA', '431210': 'GRANDE DO SUL MATA', '431213': 'GRANDE DO SUL MATO CASTELHANO', '431215': 'GRANDE DO SUL MATO LEITÃO', '431217': 'GRANDE DO SUL MATO QUEIMADO', '431220': 'GRANDE DO SUL MAXIMILIANO DE ALMEIDA', '431225': 'GRANDE DO SUL MINAS DO LEÃO', '431230': 'GRANDE DO SUL MIRAGUAÍ', '431235': 'GRANDE DO SUL MONTAURI', '431237': 'GRANDE DO SUL MONTE ALEGRE DOS CAMPOS', '431238': 'GRANDE DO SUL MONTE BELO DO SUL', '431240': 'GRANDE DO SUL MONTENEGRO', '431242': 'GRANDE DO SUL MORMAÇO', '431244': 'GRANDE DO SUL MORRINHOS DO SUL', '431245': 'GRANDE DO SUL MORRO REDONDO', '431247': 'GRANDE DO SUL MORRO REUTER', '431250': 'GRANDE DO SUL MOSTARDAS', '431260': 'GRANDE DO SUL MUÇUM', '431261': 'GRANDE DO SUL MUITOS CAPÕES', '431262': 'GRANDE DO SUL MULITERNO', '431265': 'GRANDE DO SUL NÃO-ME-TOQUE', '431267': 'GRANDE DO SUL NICOLAU VERGUEIRO', '431270': 'GRANDE DO SUL NONOAI', '431275': 'GRANDE DO SUL NOVA ALVORADA', '431280': 'GRANDE DO SUL NOVA ARAÇÁ', '431290': 'GRANDE DO SUL NOVA BASSANO', '431295': 'GRANDE DO SUL NOVA BOA VISTA', '431300': 'GRANDE DO SUL NOVA BRÉSCIA', '431301': 'GRANDE DO SUL NOVA CANDELÁRIA', '431303': 'GRANDE DO SUL NOVA ESPERANÇA DO SUL', '431306': 'GRANDE DO SUL NOVA HARTZ', '431308': 'GRANDE DO SUL NOVA PÁDUA', '431310': 'GRANDE DO SUL NOVA PALMA', '431320': 'GRANDE DO SUL NOVA PETRÓPOLIS', '431330': 'GRANDE DO SUL NOVA PRATA', '431333': 'GRANDE DO SUL NOVA RAMADA', '431335': 'GRANDE DO SUL NOVA ROMA DO SUL', '431337': 'GRANDE DO SUL NOVA SANTA RITA', '431339': 'GRANDE DO SUL NOVO CABRAIS', '431340': 'GRANDE DO SUL NOVO HAMBURGO', '431342': 'GRANDE DO SUL NOVO MACHADO', '431344': 'GRANDE DO SUL NOVO TIRADENTES', '431346': 'GRANDE DO SUL NOVO XINGU', '431349': 'GRANDE DO SUL NOVO BARREIRO', '431350': 'GRANDE DO SUL OSÓRIO', '431360': 'GRANDE DO SUL PAIM FILHO', '431365': 'GRANDE DO SUL PALMARES DO SUL', '431370': 'GRANDE DO SUL PALMEIRA DAS MISSÕES', '431380': 'GRANDE DO SUL PALMITINHO', '431390': 'GRANDE DO SUL PANAMBI', '431395': 'GRANDE DO SUL PANTANO GRANDE', '431400': 'GRANDE DO SUL PARAÍ', '431402': 'GRANDE DO SUL PARAÍSO DO SUL', '431403': 'GRANDE DO SUL PARECI NOVO', '431405': 'GRANDE DO SUL PAROBÉ', '431406': 'GRANDE DO SUL PASSA SETE', '431407': 'GRANDE DO SUL PASSO DO SOBRADO', '431410': 'GRANDE DO SUL PASSO FUNDO', '431413': 'GRANDE DO SUL PAULO BENTO', '431415': 'GRANDE DO SUL PAVERAMA', '431417': 'GRANDE DO SUL PEDRAS ALTAS', '431420': 'GRANDE DO SUL PEDRO OSÓRIO', '431430': 'GRANDE DO SUL PEJUÇARA', '431440': 'GRANDE DO SUL PELOTAS', '431442': 'GRANDE DO SUL PICADA CAFÉ', '431445': 'GRANDE DO SUL PINHAL', '431446': 'GRANDE DO SUL PINHAL DA SERRA', '431447': 'GRANDE DO SUL PINHAL GRANDE', '431449': 'GRANDE DO SUL PINHEIRINHO DO VALE', '431450': 'GRANDE DO SUL PINHEIRO MACHADO', '431455': 'GRANDE DO SUL PIRAPÓ', '431460': 'GRANDE DO SUL PIRATINI', '431470': 'GRANDE DO SUL PLANALTO', '431475': 'GRANDE DO SUL POÇO DAS ANTAS', '431477': 'GRANDE DO SUL PONTÃO', '431478': 'GRANDE DO SUL PONTE PRETA', '431480': 'GRANDE DO SUL PORTÃO', '431490': 'GRANDE DO SUL PORTO ALEGRE', '431500': 'GRANDE DO SUL PORTO LUCENA', '431505': 'GRANDE DO SUL PORTO MAUÁ', '431507': 'GRANDE DO SUL PORTO VERA CRUZ', '431510': 'GRANDE DO SUL PORTO XAVIER', '431513': 'GRANDE DO SUL POUSO NOVO', '431514': 'GRANDE DO SUL PRESIDENTE LUCENA', '431515': 'GRANDE DO SUL PROGRESSO', '431517': 'GRANDE DO SUL PROTÁSIO ALVES', '431520': 'GRANDE DO SUL PUTINGA', '431530': 'GRANDE DO SUL QUARAÍ', '431531': 'GRANDE DO SUL QUATRO IRMÃOS', '431532': 'GRANDE DO SUL QUEVEDOS', '431535': 'GRANDE DO SUL QUINZE DE NOVEMBRO', '431540': 'GRANDE DO SUL REDENTORA', '431545': 'GRANDE DO SUL RELVADO', '431550': 'GRANDE DO SUL RESTINGA SECA', '431555': 'GRANDE DO SUL RIO DOS ÍNDIOS', '431560': 'GRANDE DO SUL RIO GRANDE', '431570': 'GRANDE DO SUL RIO PARDO', '431575': 'GRANDE DO SUL RIOZINHO', '431580': 'GRANDE DO SUL ROCA SALES', '431590': 'GRANDE DO SUL RODEIO BONITO', '431595': 'GRANDE DO SUL ROLADOR', '431600': 'GRANDE DO SUL ROLANTE', '431610': 'GRANDE DO SUL RONDA ALTA', '431620': 'GRANDE DO SUL RONDINHA', '431630': 'GRANDE DO SUL ROQUE GONZALES', '431640': 'GRANDE DO SUL ROSÁRIO DO SUL', '431642': 'GRANDE DO SUL SAGRADA FAMÍLIA', '431643': 'GRANDE DO SUL SALDANHA MARINHO', '431645': 'GRANDE DO SUL SALTO DO JACUÍ', '431647': 'GRANDE DO SUL SALVADOR DAS MISSÕES', '431650': 'GRANDE DO SUL SALVADOR DO SUL', '431660': 'GRANDE DO SUL SANANDUVA', '431670': 'GRANDE DO SUL SANTA BÁRBARA DO SUL', '431673': 'GRANDE DO SUL SANTA CECÍLIA DO SUL', '431675': 'GRANDE DO SUL SANTA CLARA DO SUL', '431680': 'GRANDE DO SUL SANTA CRUZ DO SUL', '431690': 'GRANDE DO SUL SANTA MARIA', '431695': 'GRANDE DO SUL SANTA MARIA DO HERVAL', '431697': 'GRANDE DO SUL SANTA MARGARIDA DO SUL', '431700': 'GRANDE DO SUL SANTANA DA BOA VISTA', '431710': \"GRANDE DO SUL SANT'ANA DO LIVRAMENTO\", '431720': 'GRANDE DO SUL SANTA ROSA', '431725': 'GRANDE DO SUL SANTA TEREZA', '431730': 'GRANDE DO SUL SANTA VITÓRIA DO PALMAR', '431740': 'GRANDE DO SUL SANTIAGO', '431750': 'GRANDE DO SUL SANTO ÂNGELO', '431755': 'GRANDE DO SUL SANTO ANTÔNIO DO PALMA', '431760': 'GRANDE DO SUL SANTO ANTÔNIO DA PATRULHA', '431770': 'GRANDE DO SUL SANTO ANTÔNIO DAS MISSÕES', '431775': 'GRANDE DO SUL SANTO ANTÔNIO DO PLANALTO', '431780': 'GRANDE DO SUL SANTO AUGUSTO', '431790': 'GRANDE DO SUL SANTO CRISTO', '431795': 'GRANDE DO SUL SANTO EXPEDITO DO SUL', '431800': 'GRANDE DO SUL SÃO BORJA', '431805': 'GRANDE DO SUL SÃO DOMINGOS DO SUL', '431810': 'GRANDE DO SUL SÃO FRANCISCO DE ASSIS', '431820': 'GRANDE DO SUL SÃO FRANCISCO DE PAULA', '431830': 'GRANDE DO SUL SÃO GABRIEL', '431840': 'GRANDE DO SUL SÃO JERÔNIMO', '431842': 'GRANDE DO SUL SÃO JOÃO DA URTIGA', '431843': 'GRANDE DO SUL SÃO JOÃO DO POLÊSINE', '431844': 'GRANDE DO SUL SÃO JORGE', '431845': 'GRANDE DO SUL SÃO JOSÉ DAS MISSÕES', '431846': 'GRANDE DO SUL SÃO JOSÉ DO HERVAL', '431848': 'GRANDE DO SUL SÃO JOSÉ DO HORTÊNCIO', '431849': 'GRANDE DO SUL SÃO JOSÉ DO INHACORÁ', '431850': 'GRANDE DO SUL SÃO JOSÉ DO NORTE', '431860': 'GRANDE DO SUL SÃO JOSÉ DO OURO', '431861': 'GRANDE DO SUL SÃO JOSÉ DO SUL', '431862': 'GRANDE DO SUL SÃO JOSÉ DOS AUSENTES', '431870': 'GRANDE DO SUL SÃO LEOPOLDO', '431880': 'GRANDE DO SUL SÃO LOURENÇO DO SUL', '431890': 'GRANDE DO SUL SÃO LUIZ GONZAGA', '431900': 'GRANDE DO SUL SÃO MARCOS', '431910': 'GRANDE DO SUL SÃO MARTINHO', '431912': 'GRANDE DO SUL SÃO MARTINHO DA SERRA', '431915': 'GRANDE DO SUL SÃO MIGUEL DAS MISSÕES', '431920': 'GRANDE DO SUL SÃO NICOLAU', '431930': 'GRANDE DO SUL SÃO PAULO DAS MISSÕES', '431935': 'GRANDE DO SUL SÃO PEDRO DA SERRA', '431936': 'GRANDE DO SUL SÃO PEDRO DAS MISSÕES', '431937': 'GRANDE DO SUL SÃO PEDRO DO BUTIÁ', '431940': 'GRANDE DO SUL SÃO PEDRO DO SUL', '431950': 'GRANDE DO SUL SÃO SEBASTIÃO DO CAÍ', '431960': 'GRANDE DO SUL SÃO SEPÉ', '431970': 'GRANDE DO SUL SÃO VALENTIM', '431971': 'GRANDE DO SUL SÃO VALENTIM DO SUL', '431973': 'GRANDE DO SUL SÃO VALÉRIO DO SUL', '431975': 'GRANDE DO SUL SÃO VENDELINO', '431980': 'GRANDE DO SUL SÃO VICENTE DO SUL', '431990': 'GRANDE DO SUL SAPIRANGA', '432000': 'GRANDE DO SUL SAPUCAIA DO SUL', '432010': 'GRANDE DO SUL SARANDI', '432020': 'GRANDE DO SUL SEBERI', '432023': 'GRANDE DO SUL SEDE NOVA', '432026': 'GRANDE DO SUL SEGREDO', '432030': 'GRANDE DO SUL SELBACH', '432032': 'GRANDE DO SUL SENADOR SALGADO FILHO', '432035': 'GRANDE DO SUL SENTINELA DO SUL', '432040': 'GRANDE DO SUL SERAFINA CORRÊA', '432045': 'GRANDE DO SUL SÉRIO', '432050': 'GRANDE DO SUL SERTÃO', '432055': 'GRANDE DO SUL SERTÃO SANTANA', '432057': 'GRANDE DO SUL SETE DE SETEMBRO', '432060': 'GRANDE DO SUL SEVERIANO DE ALMEIDA', '432065': 'GRANDE DO SUL SILVEIRA MARTINS', '432067': 'GRANDE DO SUL SINIMBU', '432070': 'GRANDE DO SUL SOBRADINHO', '432080': 'GRANDE DO SUL SOLEDADE', '432085': 'GRANDE DO SUL TABAÍ', '432090': 'GRANDE DO SUL TAPEJARA', '432100': 'GRANDE DO SUL TAPERA', '432110': 'GRANDE DO SUL TAPES', '432120': 'GRANDE DO SUL TAQUARA', '432130': 'GRANDE DO SUL TAQUARI', '432132': 'GRANDE DO SUL TAQUARUÇU DO SUL', '432135': 'GRANDE DO SUL TAVARES', '432140': 'GRANDE DO SUL TENENTE PORTELA', '432143': 'GRANDE DO SUL TERRA DE AREIA', '432145': 'GRANDE DO SUL TEUTÔNIA', '432146': 'GRANDE DO SUL TIO HUGO', '432147': 'GRANDE DO SUL TIRADENTES DO SUL', '432149': 'GRANDE DO SUL TOROPI', '432150': 'GRANDE DO SUL TORRES', '432160': 'GRANDE DO SUL TRAMANDAÍ', '432162': 'GRANDE DO SUL TRAVESSEIRO', '432163': 'GRANDE DO SUL TRÊS ARROIOS', '432166': 'GRANDE DO SUL TRÊS CACHOEIRAS', '432170': 'GRANDE DO SUL TRÊS COROAS', '432180': 'GRANDE DO SUL TRÊS DE MAIO', '432183': 'GRANDE DO SUL TRÊS FORQUILHAS', '432185': 'GRANDE DO SUL TRÊS PALMEIRAS', '432190': 'GRANDE DO SUL TRÊS PASSOS', '432195': 'GRANDE DO SUL TRINDADE DO SUL', '432200': 'GRANDE DO SUL TRIUNFO', '432210': 'GRANDE DO SUL TUCUNDUVA', '432215': 'GRANDE DO SUL TUNAS', '432218': 'GRANDE DO SUL TUPANCI DO SUL', '432220': 'GRANDE DO SUL TUPANCIRETÃ', '432225': 'GRANDE DO SUL TUPANDI', '432230': 'GRANDE DO SUL TUPARENDI', '432232': 'GRANDE DO SUL TURUÇU', '432234': 'GRANDE DO SUL UBIRETAMA', '432235': 'GRANDE DO SUL UNIÃO DA SERRA', '432237': 'GRANDE DO SUL UNISTALDA', '432240': 'GRANDE DO SUL URUGUAIANA', '432250': 'GRANDE DO SUL VACARIA', '432252': 'GRANDE DO SUL VALE VERDE', '432253': 'GRANDE DO SUL VALE DO SOL', '432254': 'GRANDE DO SUL VALE REAL', '432255': 'GRANDE DO SUL VANINI', '432260': 'GRANDE DO SUL VENÂNCIO AIRES', '432270': 'GRANDE DO SUL VERA CRUZ', '432280': 'GRANDE DO SUL VERANÓPOLIS', '432285': 'GRANDE DO SUL VESPASIANO CORREA', '432290': 'GRANDE DO SUL VIADUTOS', '432300': 'GRANDE DO SUL VIAMÃO', '432310': 'GRANDE DO SUL VICENTE DUTRA', '432320': 'GRANDE DO SUL VICTOR GRAEFF', '432330': 'GRANDE DO SUL VILA FLORES', '432335': 'GRANDE DO SUL VILA LÂNGARO', '432340': 'GRANDE DO SUL VILA MARIA', '432345': 'GRANDE DO SUL VILA NOVA DO SUL', '432350': 'GRANDE DO SUL VISTA ALEGRE', '432360': 'GRANDE DO SUL VISTA ALEGRE DO PRATA', '432370': 'GRANDE DO SUL VISTA GAÚCHA', '432375': 'GRANDE DO SUL VITÓRIA DAS MISSÕES', '432377': 'GRANDE DO SUL WESTFALIA', '432380': 'GRANDE DO SUL', '430512': 'GRANDE DO SUL CERRITO', '430513': 'GRANDE DO SUL CERRO BRANCO', '430515': 'GRANDE DO SUL CERRO GRANDE', '430517': 'GRANDE DO SUL CERRO GRANDE DO SUL', '430520': 'GRANDE DO SUL CERRO LARGO', '430530': 'GRANDE DO SUL CHAPADA', '430535': 'GRANDE DO SUL CHARQUEADAS', '430537': 'GRANDE DO SUL CHARRUA', '430540': 'GRANDE DO SUL CHIAPETTA', '430543': 'GRANDE DO SUL CHUÍ', '430544': 'GRANDE DO SUL CHUVISCA', '430545': 'GRANDE DO SUL CIDREIRA', '430550': 'GRANDE DO SUL CIRÍACO', '430558': 'GRANDE DO SUL COLINAS', '430560': 'GRANDE DO SUL COLORADO', '430570': 'GRANDE DO SUL CONDOR', '430580': 'GRANDE DO SUL CONSTANTINA', '430583': 'GRANDE DO SUL COQUEIRO BAIXO', '430585': 'GRANDE DO SUL COQUEIROS DO SUL', '430587': 'GRANDE DO SUL CORONEL BARROS', '430590': 'GRANDE DO SUL CORONEL BICACO', '430593': 'GRANDE DO SUL CORONEL PILAR', '430595': 'GRANDE DO SUL COTIPORÃ', '430597': 'GRANDE DO SUL COXILHA', '430600': 'GRANDE DO SUL CRISSIUMAL', '430605': 'GRANDE DO SUL CRISTAL', '430607': 'GRANDE DO SUL CRISTAL DO SUL', '430610': 'GRANDE DO SUL CRUZ ALTA', '430613': 'GRANDE DO SUL CRUZALTENSE', '430620': 'GRANDE DO SUL CRUZEIRO DO SUL', '430630': 'GRANDE DO SUL DAVID CANABARRO', '430632': 'GRANDE DO SUL DERRUBADAS', '430635': 'GRANDE DO SUL DEZESSEIS DE NOVEMBRO', '430637': 'GRANDE DO SUL DILERMANDO DE AGUIAR', '430640': 'GRANDE DO SUL DOIS IRMÃOS', '430642': 'GRANDE DO SUL DOIS IRMÃOS DAS MISSÕES', '430645': 'GRANDE DO SUL DOIS LAJEADOS', '430650': 'GRANDE DO SUL DOM FELICIANO', '430655': 'GRANDE DO SUL DOM PEDRO DE ALCÂNTARA', '430660': 'GRANDE DO SUL DOM PEDRITO', '430670': 'GRANDE DO SUL DONA FRANCISCA', '430673': 'GRANDE DO SUL DOUTOR MAURÍCIO CARDOSO', '430675': 'GRANDE DO SUL DOUTOR RICARDO', '430676': 'GRANDE DO SUL ELDORADO DO SUL', '430680': 'GRANDE DO SUL ENCANTADO', '430690': 'GRANDE DO SUL ENCRUZILHADA DO SUL', '430692': 'GRANDE DO SUL ENGENHO VELHO', '430693': 'GRANDE DO SUL ENTRE-IJUÍS', '430695': 'GRANDE DO SUL ENTRE RIOS DO SUL', '430697': 'GRANDE DO SUL EREBANGO'}\n"
     ]
    }
   ],
   "source": [
    "arquivo = 'Nomes_cidades'\n",
    "codigo_cidade = {}\n",
    "with open(arquivo, 'r') as f:\n",
    "    linhas = f.readlines()\n",
    "\n",
    "for linha in linhas:\n",
    "    partes = linha.split()\n",
    "    if len(partes) > 2:  # Verifica se há pelo menos 3 elementos na linha\n",
    "        try:\n",
    "            codigo_cid = str(partes[0])  # Converte para string\n",
    "            nome_cidade = ' '.join(partes[2:-1])\n",
    "            codigo_cidade[codigo_cid] = nome_cidade\n",
    "        except (ValueError, IndexError) as e:\n",
    "            print(f\"Erro ao processar a linha: {linha.strip()}\")\n",
    "            print(f\"Erro: {e}\")\n",
    "\n",
    "# Verificação\n",
    "if '430040' in codigo_cidade:\n",
    "    print(\"A variável 430040 está presente no dicionário.\")\n",
    "else:\n",
    "    print(\"A variável 430040 não está presente no dicionário.\")\n",
    "\n",
    "print(codigo_cidade)"
   ]
  },
  {
   "cell_type": "code",
   "execution_count": 17,
   "metadata": {
    "execution": {
     "iopub.execute_input": "2025-02-25T17:14:05.290353Z",
     "iopub.status.busy": "2025-02-25T17:14:05.290075Z",
     "iopub.status.idle": "2025-02-25T17:14:05.303648Z",
     "shell.execute_reply": "2025-02-25T17:14:05.303343Z"
    }
   },
   "outputs": [
    {
     "name": "stdout",
     "output_type": "stream",
     "text": [
      "<class 'pandas.core.frame.DataFrame'>\n",
      "RangeIndex: 591621 entries, 0 to 591620\n",
      "Data columns (total 15 columns):\n",
      " #   Column      Non-Null Count   Dtype  \n",
      "---  ------      --------------   -----  \n",
      " 0   SP_UF       591621 non-null  int64  \n",
      " 1   SP_AA       591621 non-null  int64  \n",
      " 2   SP_MM       591621 non-null  int64  \n",
      " 3   SP_CNES     591621 non-null  int64  \n",
      " 4   SP_NAIH     591621 non-null  int64  \n",
      " 5   SP_PROCREA  591621 non-null  int64  \n",
      " 6   SP_DTINTER  591621 non-null  int64  \n",
      " 7   SP_DTSAIDA  591621 non-null  int64  \n",
      " 8   SP_ATOPROF  591621 non-null  int64  \n",
      " 9   SP_VALATO   591621 non-null  float64\n",
      " 10  SP_M_HOSP   591621 non-null  int64  \n",
      " 11  SP_M_PAC    591621 non-null  int64  \n",
      " 12  SP_DES_HOS  591621 non-null  int64  \n",
      " 13  SP_DES_PAC  591621 non-null  int64  \n",
      " 14  SP_QT_PROC  591621 non-null  int64  \n",
      "dtypes: float64(1), int64(14)\n",
      "memory usage: 67.7 MB\n"
     ]
    }
   ],
   "source": [
    "data_clean.info()"
   ]
  },
  {
   "cell_type": "code",
   "execution_count": 18,
   "metadata": {
    "execution": {
     "iopub.execute_input": "2025-02-25T17:14:05.305085Z",
     "iopub.status.busy": "2025-02-25T17:14:05.304921Z",
     "iopub.status.idle": "2025-02-25T17:14:05.441961Z",
     "shell.execute_reply": "2025-02-25T17:14:05.441606Z"
    }
   },
   "outputs": [
    {
     "name": "stdout",
     "output_type": "stream",
     "text": [
      "        SP_UF  SP_AA  SP_MM  SP_CNES        SP_NAIH  SP_PROCREA  SP_DTINTER  \\\n",
      "0          43   2022      1  3508528  4321109205787   303010037    20211110   \n",
      "1          43   2022      1  3508528  4321109205787   303010037    20211110   \n",
      "2          43   2022      1  3508528  4321109205897   303040297    20211129   \n",
      "3          43   2022      1  3508528  4321109205897   303040297    20211129   \n",
      "4          43   2022      1  3508528  4321109205897   303040297    20211129   \n",
      "...       ...    ...    ...      ...            ...         ...         ...   \n",
      "591616     43   2022     12  2232014  4322108871883   407020039    20221204   \n",
      "591617     43   2022     12  2232014  4322108871883   407020039    20221204   \n",
      "591618     43   2022     12  2232014  4322108871883   407020039    20221204   \n",
      "591619     43   2022     12  2232014  4322108871949   409010170    20221209   \n",
      "591620     43   2022     12  2232014  4322108871949   409010170    20221209   \n",
      "\n",
      "        SP_DTSAIDA  SP_ATOPROF  SP_VALATO  SP_M_HOSP  SP_M_PAC  SP_DES_HOS  \\\n",
      "0         20211209   204060095       0.00     430460    430460           0   \n",
      "1         20211209   211020036       0.00     430460    430460           0   \n",
      "2         20211228   303040297      87.85     430460    430460           0   \n",
      "3         20211228   302040013      19.05     430460    430460           0   \n",
      "4         20211228   302040013     127.00     430460    430460           0   \n",
      "...            ...         ...        ...        ...       ...         ...   \n",
      "591616    20221205   214010112       0.00     430460    430460           0   \n",
      "591617    20221205   301100144       0.00     430460    430460           0   \n",
      "591618    20221205   407020039     253.59     430460    430460           0   \n",
      "591619    20221210   409010170      55.80     430460    430460           0   \n",
      "591620    20221210   409010170      24.00     430460    430460           0   \n",
      "\n",
      "        SP_DES_PAC  SP_QT_PROC           SP_CIDADE_H  \n",
      "0                0           1  GRANDE DO SUL CANOAS  \n",
      "1                0           3  GRANDE DO SUL CANOAS  \n",
      "2                0           0  GRANDE DO SUL CANOAS  \n",
      "3                0           3  GRANDE DO SUL CANOAS  \n",
      "4                0          20  GRANDE DO SUL CANOAS  \n",
      "...            ...         ...                   ...  \n",
      "591616           0           1  GRANDE DO SUL CANOAS  \n",
      "591617           0           1  GRANDE DO SUL CANOAS  \n",
      "591618           0           1  GRANDE DO SUL CANOAS  \n",
      "591619           0           0  GRANDE DO SUL CANOAS  \n",
      "591620           0           0  GRANDE DO SUL CANOAS  \n",
      "\n",
      "[591621 rows x 16 columns]\n"
     ]
    }
   ],
   "source": [
    "data_clean['SP_CIDADE_H'] = data_clean['SP_M_HOSP'].astype(str).map(codigo_cidade)\n",
    "print(data_clean)"
   ]
  },
  {
   "cell_type": "code",
   "execution_count": 19,
   "metadata": {
    "execution": {
     "iopub.execute_input": "2025-02-25T17:14:05.443306Z",
     "iopub.status.busy": "2025-02-25T17:14:05.443146Z",
     "iopub.status.idle": "2025-02-25T17:14:05.467467Z",
     "shell.execute_reply": "2025-02-25T17:14:05.466768Z"
    }
   },
   "outputs": [
    {
     "name": "stdout",
     "output_type": "stream",
     "text": [
      "dados da coluna CIDADE H: \n",
      "SP_CIDADE_H\n",
      "GRANDE DO SUL CANOAS    591621\n",
      "Name: count, dtype: int64\n",
      "dados da coluna M HOSP: \n",
      "SP_M_HOSP\n",
      "430460    591621\n",
      "Name: count, dtype: int64\n"
     ]
    }
   ],
   "source": [
    "print(\"dados da coluna CIDADE H: \")\n",
    "print(data_clean['SP_CIDADE_H'].value_counts())\n",
    "print(\"dados da coluna M HOSP: \")\n",
    "print(data_clean['SP_M_HOSP'].value_counts())"
   ]
  },
  {
   "cell_type": "code",
   "execution_count": 20,
   "metadata": {
    "execution": {
     "iopub.execute_input": "2025-02-25T17:14:05.468639Z",
     "iopub.status.busy": "2025-02-25T17:14:05.468474Z",
     "iopub.status.idle": "2025-02-25T17:14:05.621304Z",
     "shell.execute_reply": "2025-02-25T17:14:05.620817Z"
    }
   },
   "outputs": [
    {
     "name": "stdout",
     "output_type": "stream",
     "text": [
      "        SP_UF  SP_AA  SP_MM  SP_CNES        SP_NAIH  SP_PROCREA  SP_DTINTER  \\\n",
      "0          43   2022      1  3508528  4321109205787   303010037    20211110   \n",
      "1          43   2022      1  3508528  4321109205787   303010037    20211110   \n",
      "2          43   2022      1  3508528  4321109205897   303040297    20211129   \n",
      "3          43   2022      1  3508528  4321109205897   303040297    20211129   \n",
      "4          43   2022      1  3508528  4321109205897   303040297    20211129   \n",
      "...       ...    ...    ...      ...            ...         ...         ...   \n",
      "591616     43   2022     12  2232014  4322108871883   407020039    20221204   \n",
      "591617     43   2022     12  2232014  4322108871883   407020039    20221204   \n",
      "591618     43   2022     12  2232014  4322108871883   407020039    20221204   \n",
      "591619     43   2022     12  2232014  4322108871949   409010170    20221209   \n",
      "591620     43   2022     12  2232014  4322108871949   409010170    20221209   \n",
      "\n",
      "        SP_DTSAIDA  SP_ATOPROF  SP_VALATO  SP_M_HOSP  SP_M_PAC  SP_DES_HOS  \\\n",
      "0         20211209   204060095       0.00     430460    430460           0   \n",
      "1         20211209   211020036       0.00     430460    430460           0   \n",
      "2         20211228   303040297      87.85     430460    430460           0   \n",
      "3         20211228   302040013      19.05     430460    430460           0   \n",
      "4         20211228   302040013     127.00     430460    430460           0   \n",
      "...            ...         ...        ...        ...       ...         ...   \n",
      "591616    20221205   214010112       0.00     430460    430460           0   \n",
      "591617    20221205   301100144       0.00     430460    430460           0   \n",
      "591618    20221205   407020039     253.59     430460    430460           0   \n",
      "591619    20221210   409010170      55.80     430460    430460           0   \n",
      "591620    20221210   409010170      24.00     430460    430460           0   \n",
      "\n",
      "        SP_DES_PAC  SP_QT_PROC           SP_CIDADE_H           SP_CIDADE_P  \n",
      "0                0           1  GRANDE DO SUL CANOAS  GRANDE DO SUL CANOAS  \n",
      "1                0           3  GRANDE DO SUL CANOAS  GRANDE DO SUL CANOAS  \n",
      "2                0           0  GRANDE DO SUL CANOAS  GRANDE DO SUL CANOAS  \n",
      "3                0           3  GRANDE DO SUL CANOAS  GRANDE DO SUL CANOAS  \n",
      "4                0          20  GRANDE DO SUL CANOAS  GRANDE DO SUL CANOAS  \n",
      "...            ...         ...                   ...                   ...  \n",
      "591616           0           1  GRANDE DO SUL CANOAS  GRANDE DO SUL CANOAS  \n",
      "591617           0           1  GRANDE DO SUL CANOAS  GRANDE DO SUL CANOAS  \n",
      "591618           0           1  GRANDE DO SUL CANOAS  GRANDE DO SUL CANOAS  \n",
      "591619           0           0  GRANDE DO SUL CANOAS  GRANDE DO SUL CANOAS  \n",
      "591620           0           0  GRANDE DO SUL CANOAS  GRANDE DO SUL CANOAS  \n",
      "\n",
      "[591621 rows x 17 columns]\n"
     ]
    }
   ],
   "source": [
    "data_clean['SP_CIDADE_P'] = data_clean['SP_M_PAC'].astype(str).map(codigo_cidade)\n",
    "print(data_clean)"
   ]
  },
  {
   "cell_type": "code",
   "execution_count": 21,
   "metadata": {
    "execution": {
     "iopub.execute_input": "2025-02-25T17:14:05.623159Z",
     "iopub.status.busy": "2025-02-25T17:14:05.622802Z",
     "iopub.status.idle": "2025-02-25T17:14:05.980719Z",
     "shell.execute_reply": "2025-02-25T17:14:05.980262Z"
    }
   },
   "outputs": [
    {
     "name": "stdout",
     "output_type": "stream",
     "text": [
      "        SP_UF  SP_AA  SP_MM  SP_CNES        SP_NAIH  SP_PROCREA  SP_DTINTER  \\\n",
      "0          43   2022      1  3508528  4321109205787   303010037    20211110   \n",
      "1          43   2022      1  3508528  4321109205787   303010037    20211110   \n",
      "2          43   2022      1  3508528  4321109205897   303040297    20211129   \n",
      "3          43   2022      1  3508528  4321109205897   303040297    20211129   \n",
      "4          43   2022      1  3508528  4321109205897   303040297    20211129   \n",
      "...       ...    ...    ...      ...            ...         ...         ...   \n",
      "591616     43   2022     12  2232014  4322108871883   407020039    20221204   \n",
      "591617     43   2022     12  2232014  4322108871883   407020039    20221204   \n",
      "591618     43   2022     12  2232014  4322108871883   407020039    20221204   \n",
      "591619     43   2022     12  2232014  4322108871949   409010170    20221209   \n",
      "591620     43   2022     12  2232014  4322108871949   409010170    20221209   \n",
      "\n",
      "        SP_DTSAIDA  SP_ATOPROF  SP_VALATO  SP_M_HOSP  SP_M_PAC  SP_DES_HOS  \\\n",
      "0         20211209   204060095       0.00     430460    430460           0   \n",
      "1         20211209   211020036       0.00     430460    430460           0   \n",
      "2         20211228   303040297      87.85     430460    430460           0   \n",
      "3         20211228   302040013      19.05     430460    430460           0   \n",
      "4         20211228   302040013     127.00     430460    430460           0   \n",
      "...            ...         ...        ...        ...       ...         ...   \n",
      "591616    20221205   214010112       0.00     430460    430460           0   \n",
      "591617    20221205   301100144       0.00     430460    430460           0   \n",
      "591618    20221205   407020039     253.59     430460    430460           0   \n",
      "591619    20221210   409010170      55.80     430460    430460           0   \n",
      "591620    20221210   409010170      24.00     430460    430460           0   \n",
      "\n",
      "        SP_DES_PAC  SP_QT_PROC SP_CIDADE_H SP_CIDADE_P  \n",
      "0                0           1      CANOAS      CANOAS  \n",
      "1                0           3      CANOAS      CANOAS  \n",
      "2                0           0      CANOAS      CANOAS  \n",
      "3                0           3      CANOAS      CANOAS  \n",
      "4                0          20      CANOAS      CANOAS  \n",
      "...            ...         ...         ...         ...  \n",
      "591616           0           1      CANOAS      CANOAS  \n",
      "591617           0           1      CANOAS      CANOAS  \n",
      "591618           0           1      CANOAS      CANOAS  \n",
      "591619           0           0      CANOAS      CANOAS  \n",
      "591620           0           0      CANOAS      CANOAS  \n",
      "\n",
      "[591621 rows x 17 columns]\n"
     ]
    }
   ],
   "source": [
    "# String GRANDE DO SUL precisa ser retirada do dataset\n",
    "rs = 'GRANDE DO SUL'\n",
    "data_clean['SP_CIDADE_H'] = data_clean['SP_CIDADE_H'].str.replace(rs, '').str.strip()\n",
    "data_clean['SP_CIDADE_P'] = data_clean['SP_CIDADE_P'].str.replace(rs, '').str.strip()\n",
    "\n",
    "print(data_clean)"
   ]
  },
  {
   "cell_type": "code",
   "execution_count": 22,
   "metadata": {
    "execution": {
     "iopub.execute_input": "2025-02-25T17:14:05.982616Z",
     "iopub.status.busy": "2025-02-25T17:14:05.982402Z",
     "iopub.status.idle": "2025-02-25T17:14:06.013995Z",
     "shell.execute_reply": "2025-02-25T17:14:06.013599Z"
    }
   },
   "outputs": [
    {
     "name": "stdout",
     "output_type": "stream",
     "text": [
      "Total de valores nulos na coluna 'SP_CIDADE_P': 1860\n",
      "Total de valores nulos na coluna 'SP_CIDADE_H': 0\n"
     ]
    }
   ],
   "source": [
    "nulos_p = data_clean['SP_CIDADE_P'].isna().sum()\n",
    "nulos_h = data_clean['SP_CIDADE_H'].isna().sum()\n",
    "print(f\"Total de valores nulos na coluna 'SP_CIDADE_P': {nulos_p}\")\n",
    "print(f\"Total de valores nulos na coluna 'SP_CIDADE_H': {nulos_h}\")"
   ]
  },
  {
   "cell_type": "code",
   "execution_count": 23,
   "metadata": {
    "execution": {
     "iopub.execute_input": "2025-02-25T17:14:06.015723Z",
     "iopub.status.busy": "2025-02-25T17:14:06.015556Z",
     "iopub.status.idle": "2025-02-25T17:14:06.035067Z",
     "shell.execute_reply": "2025-02-25T17:14:06.034694Z"
    }
   },
   "outputs": [
    {
     "name": "stdout",
     "output_type": "stream",
     "text": [
      "Códigos SP_M_HOSP com valores nulos na coluna SP_CIDADE_H:\n",
      "[410830 220795 354780 291840 330540 420205 421150 251370 355370 355630\n",
      " 420880 411620 421580 412770 410180 421660 171200 320520 410690 351870\n",
      " 110140 354880 310670 291670 120040 500375 120020 412480 260400 410420\n",
      " 355030 330520 352940 315700 316120 411370]\n"
     ]
    }
   ],
   "source": [
    "codigos_nulos = data_clean[data_clean['SP_CIDADE_P'].isnull()]['SP_M_PAC'].unique()\n",
    "\n",
    "print(\"Códigos SP_M_HOSP com valores nulos na coluna SP_CIDADE_H:\")\n",
    "print(codigos_nulos)"
   ]
  },
  {
   "cell_type": "raw",
   "metadata": {},
   "source": [
    "AQUI ACIMA FOI DESCOBERTO QUE, EXISTIAM PESSOAS QUE MORAVAM FORA DO RIO GRANDE DO SUL, POR ISSO CRIAMOS UMA COLUNA NOVA CHAMADA SP_CIDADE_P_EXT ONDE TEMOS OS NOMES DAS CIDADES DOS PACIENTES QUE MORAVAM FORA DO RIO GRANDE DO SUL, SE OS PACIENTES MORAVAM DENTRO DO RIO GRANDE DO SUL, A LINHA FICOU COM \"CIDADE DO RS\" COMO DADO"
   ]
  },
  {
   "cell_type": "code",
   "execution_count": 24,
   "metadata": {
    "execution": {
     "iopub.execute_input": "2025-02-25T17:14:06.036656Z",
     "iopub.status.busy": "2025-02-25T17:14:06.036516Z",
     "iopub.status.idle": "2025-02-25T17:14:06.043687Z",
     "shell.execute_reply": "2025-02-25T17:14:06.043280Z"
    }
   },
   "outputs": [],
   "source": [
    "arquivo = 'Nomes_cidades_externas'\n",
    "codigo_cidade_externa = {}\n",
    "\n",
    "with open(arquivo, 'r') as f:\n",
    "    linhas = f.readlines()\n",
    "\n",
    "for linha in linhas:\n",
    "    partes = linha.split()    \n",
    "    codigo_cid = partes[0]\n",
    "    \n",
    "    nome_cidade = ' '.join(partes[2:-1])\n",
    "    codigo_cidade_externa[codigo_cid] = nome_cidade\n",
    "\n"
   ]
  },
  {
   "cell_type": "code",
   "execution_count": 25,
   "metadata": {
    "execution": {
     "iopub.execute_input": "2025-02-25T17:14:06.045105Z",
     "iopub.status.busy": "2025-02-25T17:14:06.044928Z",
     "iopub.status.idle": "2025-02-25T17:14:06.153393Z",
     "shell.execute_reply": "2025-02-25T17:14:06.152929Z"
    }
   },
   "outputs": [
    {
     "name": "stdout",
     "output_type": "stream",
     "text": [
      "        SP_UF  SP_AA  SP_MM  SP_CNES        SP_NAIH  SP_PROCREA  SP_DTINTER  \\\n",
      "0          43   2022      1  3508528  4321109205787   303010037    20211110   \n",
      "1          43   2022      1  3508528  4321109205787   303010037    20211110   \n",
      "2          43   2022      1  3508528  4321109205897   303040297    20211129   \n",
      "3          43   2022      1  3508528  4321109205897   303040297    20211129   \n",
      "4          43   2022      1  3508528  4321109205897   303040297    20211129   \n",
      "...       ...    ...    ...      ...            ...         ...         ...   \n",
      "591616     43   2022     12  2232014  4322108871883   407020039    20221204   \n",
      "591617     43   2022     12  2232014  4322108871883   407020039    20221204   \n",
      "591618     43   2022     12  2232014  4322108871883   407020039    20221204   \n",
      "591619     43   2022     12  2232014  4322108871949   409010170    20221209   \n",
      "591620     43   2022     12  2232014  4322108871949   409010170    20221209   \n",
      "\n",
      "        SP_DTSAIDA  SP_ATOPROF  SP_VALATO  SP_M_HOSP  SP_M_PAC  SP_DES_HOS  \\\n",
      "0         20211209   204060095       0.00     430460    430460           0   \n",
      "1         20211209   211020036       0.00     430460    430460           0   \n",
      "2         20211228   303040297      87.85     430460    430460           0   \n",
      "3         20211228   302040013      19.05     430460    430460           0   \n",
      "4         20211228   302040013     127.00     430460    430460           0   \n",
      "...            ...         ...        ...        ...       ...         ...   \n",
      "591616    20221205   214010112       0.00     430460    430460           0   \n",
      "591617    20221205   301100144       0.00     430460    430460           0   \n",
      "591618    20221205   407020039     253.59     430460    430460           0   \n",
      "591619    20221210   409010170      55.80     430460    430460           0   \n",
      "591620    20221210   409010170      24.00     430460    430460           0   \n",
      "\n",
      "        SP_DES_PAC  SP_QT_PROC SP_CIDADE_H SP_CIDADE_P SP_CIDADE_P_EXT  \n",
      "0                0           1      CANOAS      CANOAS    Cidade do RS  \n",
      "1                0           3      CANOAS      CANOAS    Cidade do RS  \n",
      "2                0           0      CANOAS      CANOAS    Cidade do RS  \n",
      "3                0           3      CANOAS      CANOAS    Cidade do RS  \n",
      "4                0          20      CANOAS      CANOAS    Cidade do RS  \n",
      "...            ...         ...         ...         ...             ...  \n",
      "591616           0           1      CANOAS      CANOAS    Cidade do RS  \n",
      "591617           0           1      CANOAS      CANOAS    Cidade do RS  \n",
      "591618           0           1      CANOAS      CANOAS    Cidade do RS  \n",
      "591619           0           0      CANOAS      CANOAS    Cidade do RS  \n",
      "591620           0           0      CANOAS      CANOAS    Cidade do RS  \n",
      "\n",
      "[591621 rows x 18 columns]\n"
     ]
    }
   ],
   "source": [
    "def verifica_cidade_exterior(sp_m_pac):\n",
    "    if sp_m_pac not in codigo_cidade:\n",
    "        return codigo_cidade_externa.get(sp_m_pac, 'Cidade do RS')\n",
    "    else:\n",
    "        return None\n",
    "data_clean['SP_CIDADE_P_EXT'] = data_clean['SP_M_PAC'].apply(lambda x: verifica_cidade_exterior(x))\n",
    "print(data_clean)"
   ]
  },
  {
   "cell_type": "code",
   "execution_count": 26,
   "metadata": {
    "execution": {
     "iopub.execute_input": "2025-02-25T17:14:06.154855Z",
     "iopub.status.busy": "2025-02-25T17:14:06.154705Z",
     "iopub.status.idle": "2025-02-25T17:14:07.793435Z",
     "shell.execute_reply": "2025-02-25T17:14:07.793134Z"
    }
   },
   "outputs": [
    {
     "name": "stdout",
     "output_type": "stream",
     "text": [
      "['Cidade do RS']\n"
     ]
    }
   ],
   "source": [
    "substituicoes = {\n",
    "    'CATARINA': '',\n",
    "    'GERAIS ': '',\n",
    "    'PAULO ': '',\n",
    "    'DE JANEIRO ': '',\n",
    "    'GROSSO DO SUL ': '',\n",
    "    'GROSSO ': ''\n",
    "}\n",
    "\n",
    "data_clean['SP_CIDADE_P_EXT'] = data_clean['SP_CIDADE_P_EXT'].replace(substituicoes, regex=True).str.strip()\n",
    "\n",
    "tipos_dados = data_clean['SP_CIDADE_P_EXT'].unique()\n",
    "print(tipos_dados)"
   ]
  },
  {
   "cell_type": "code",
   "execution_count": 27,
   "metadata": {
    "execution": {
     "iopub.execute_input": "2025-02-25T17:14:07.794963Z",
     "iopub.status.busy": "2025-02-25T17:14:07.794631Z",
     "iopub.status.idle": "2025-02-25T17:14:07.815443Z",
     "shell.execute_reply": "2025-02-25T17:14:07.815115Z"
    }
   },
   "outputs": [
    {
     "name": "stdout",
     "output_type": "stream",
     "text": [
      "        SP_UF  SP_AA  SP_MM  SP_CNES        SP_NAIH  SP_PROCREA  SP_DTINTER  \\\n",
      "0          43   2022      1  3508528  4321109205787   303010037    20211110   \n",
      "1          43   2022      1  3508528  4321109205787   303010037    20211110   \n",
      "2          43   2022      1  3508528  4321109205897   303040297    20211129   \n",
      "3          43   2022      1  3508528  4321109205897   303040297    20211129   \n",
      "4          43   2022      1  3508528  4321109205897   303040297    20211129   \n",
      "...       ...    ...    ...      ...            ...         ...         ...   \n",
      "591616     43   2022     12  2232014  4322108871883   407020039    20221204   \n",
      "591617     43   2022     12  2232014  4322108871883   407020039    20221204   \n",
      "591618     43   2022     12  2232014  4322108871883   407020039    20221204   \n",
      "591619     43   2022     12  2232014  4322108871949   409010170    20221209   \n",
      "591620     43   2022     12  2232014  4322108871949   409010170    20221209   \n",
      "\n",
      "        SP_DTSAIDA  SP_ATOPROF  SP_VALATO  SP_M_HOSP  SP_M_PAC  SP_DES_HOS  \\\n",
      "0         20211209   204060095       0.00     430460    430460           0   \n",
      "1         20211209   211020036       0.00     430460    430460           0   \n",
      "2         20211228   303040297      87.85     430460    430460           0   \n",
      "3         20211228   302040013      19.05     430460    430460           0   \n",
      "4         20211228   302040013     127.00     430460    430460           0   \n",
      "...            ...         ...        ...        ...       ...         ...   \n",
      "591616    20221205   214010112       0.00     430460    430460           0   \n",
      "591617    20221205   301100144       0.00     430460    430460           0   \n",
      "591618    20221205   407020039     253.59     430460    430460           0   \n",
      "591619    20221210   409010170      55.80     430460    430460           0   \n",
      "591620    20221210   409010170      24.00     430460    430460           0   \n",
      "\n",
      "        SP_DES_PAC  SP_QT_PROC SP_CIDADE_H SP_CIDADE_P SP_CIDADE_P_EXT  \n",
      "0                0           1      CANOAS      CANOAS    Cidade do RS  \n",
      "1                0           3      CANOAS      CANOAS    Cidade do RS  \n",
      "2                0           0      CANOAS      CANOAS    Cidade do RS  \n",
      "3                0           3      CANOAS      CANOAS    Cidade do RS  \n",
      "4                0          20      CANOAS      CANOAS    Cidade do RS  \n",
      "...            ...         ...         ...         ...             ...  \n",
      "591616           0           1      CANOAS      CANOAS    Cidade do RS  \n",
      "591617           0           1      CANOAS      CANOAS    Cidade do RS  \n",
      "591618           0           1      CANOAS      CANOAS    Cidade do RS  \n",
      "591619           0           0      CANOAS      CANOAS    Cidade do RS  \n",
      "591620           0           0      CANOAS      CANOAS    Cidade do RS  \n",
      "\n",
      "[591621 rows x 18 columns]\n"
     ]
    },
    {
     "name": "stderr",
     "output_type": "stream",
     "text": [
      "/tmp/ipykernel_33377/3527762726.py:2: FutureWarning: A value is trying to be set on a copy of a DataFrame or Series through chained assignment using an inplace method.\n",
      "The behavior will change in pandas 3.0. This inplace method will never work because the intermediate object on which we are setting values always behaves as a copy.\n",
      "\n",
      "For example, when doing 'df[col].method(value, inplace=True)', try using 'df.method({col: value}, inplace=True)' or df[col] = df[col].method(value) instead, to perform the operation inplace on the original object.\n",
      "\n",
      "\n",
      "  data_clean['SP_CIDADE_P_EXT'].fillna('Cidade do RS', inplace=True)\n"
     ]
    }
   ],
   "source": [
    "# Substituir todos os valores None por 'Cidade do RS' na coluna SP_CIDADE_P_EXT\n",
    "data_clean['SP_CIDADE_P_EXT'].fillna('Cidade do RS', inplace=True)\n",
    "print(data_clean)"
   ]
  },
  {
   "cell_type": "code",
   "execution_count": 28,
   "metadata": {
    "execution": {
     "iopub.execute_input": "2025-02-25T17:14:07.816675Z",
     "iopub.status.busy": "2025-02-25T17:14:07.816523Z",
     "iopub.status.idle": "2025-02-25T17:14:07.838400Z",
     "shell.execute_reply": "2025-02-25T17:14:07.837972Z"
    }
   },
   "outputs": [
    {
     "data": {
      "text/plain": [
       "SP_CIDADE_P_EXT\n",
       "Cidade do RS    591621\n",
       "Name: count, dtype: int64"
      ]
     },
     "execution_count": 28,
     "metadata": {},
     "output_type": "execute_result"
    }
   ],
   "source": [
    "contando_dados= data_clean['SP_CIDADE_P_EXT'].value_counts()\n",
    "contando_dados"
   ]
  },
  {
   "cell_type": "code",
   "execution_count": 29,
   "metadata": {
    "execution": {
     "iopub.execute_input": "2025-02-25T17:14:07.839752Z",
     "iopub.status.busy": "2025-02-25T17:14:07.839585Z",
     "iopub.status.idle": "2025-02-25T17:14:07.872497Z",
     "shell.execute_reply": "2025-02-25T17:14:07.872062Z"
    }
   },
   "outputs": [
    {
     "name": "stderr",
     "output_type": "stream",
     "text": [
      "/tmp/ipykernel_33377/321287065.py:1: FutureWarning: A value is trying to be set on a copy of a DataFrame or Series through chained assignment using an inplace method.\n",
      "The behavior will change in pandas 3.0. This inplace method will never work because the intermediate object on which we are setting values always behaves as a copy.\n",
      "\n",
      "For example, when doing 'df[col].method(value, inplace=True)', try using 'df.method({col: value}, inplace=True)' or df[col] = df[col].method(value) instead, to perform the operation inplace on the original object.\n",
      "\n",
      "\n",
      "  data_clean['SP_CIDADE_P'].fillna('Cidade de fora do RS', inplace=True)\n"
     ]
    }
   ],
   "source": [
    "data_clean['SP_CIDADE_P'].fillna('Cidade de fora do RS', inplace=True)"
   ]
  },
  {
   "cell_type": "code",
   "execution_count": 30,
   "metadata": {
    "execution": {
     "iopub.execute_input": "2025-02-25T17:14:07.874010Z",
     "iopub.status.busy": "2025-02-25T17:14:07.873755Z",
     "iopub.status.idle": "2025-02-25T17:14:07.921471Z",
     "shell.execute_reply": "2025-02-25T17:14:07.921091Z"
    }
   },
   "outputs": [
    {
     "name": "stdout",
     "output_type": "stream",
     "text": [
      "Total de valores nulos na coluna 'SP_CIDADE_P': 0\n",
      "Total de valores nulos na coluna 'SP_CIDADE_P_EXT': 0\n",
      "Total de valores nulos na coluna 'SP_CIDADE_H': 0\n"
     ]
    }
   ],
   "source": [
    "nulos_p = data_clean['SP_CIDADE_P'].isna().sum()\n",
    "nulos_ext = data_clean['SP_CIDADE_P_EXT'].isna().sum()\n",
    "nulos_h = data_clean['SP_CIDADE_H'].isna().sum()\n",
    "print(f\"Total de valores nulos na coluna 'SP_CIDADE_P': {nulos_p}\")\n",
    "print(f\"Total de valores nulos na coluna 'SP_CIDADE_P_EXT': {nulos_ext}\")\n",
    "print(f\"Total de valores nulos na coluna 'SP_CIDADE_H': {nulos_h}\")"
   ]
  },
  {
   "cell_type": "raw",
   "metadata": {},
   "source": [
    " Criando colunas de tipo de procedimento e ato profissional"
   ]
  },
  {
   "cell_type": "raw",
   "metadata": {},
   "source": [
    "0304040169 QUIMIOTERAPIA DE SARCOMA ÓSSEO / OSTEOSSARCOMA - 1ª LINHA 1447,70 0,00\n",
    "0304040177 QUIMIOTERAPIA DO ADENOCARCINOMA DE ESTÔMAGO (PRÉ-OPERATÓRIA) 1300,00 0,00\n",
    "0304050016 QUIMIOTERAPIA INTRA-VESICAL 1300,00 0,00\n",
    "0304050024 QUIMIOTERAPIA DE ADENOCARCINOMA DE CÓLON 2224,00 0,00\n",
    "0304050032 QUIMIOTERAPIA DO ADENOCARCINOMA DE RETO (ADJUVANTE) 427,50 0,00\n",
    "0304050040 HORMONIOTERAPIA DO CARCINOMA DE MAMA EM ESTÁDIO I 79,75 0,00\n",
    "0304050067 QUIMIOTERAPIA DO CARCINOMA DE MAMA EM ESTÁDIO III 800,00 0,00"
   ]
  },
  {
   "cell_type": "code",
   "execution_count": 31,
   "metadata": {
    "execution": {
     "iopub.execute_input": "2025-02-25T17:14:07.922976Z",
     "iopub.status.busy": "2025-02-25T17:14:07.922816Z",
     "iopub.status.idle": "2025-02-25T17:14:08.004943Z",
     "shell.execute_reply": "2025-02-25T17:14:08.004483Z"
    }
   },
   "outputs": [
    {
     "name": "stdout",
     "output_type": "stream",
     "text": [
      "<class 'pandas.core.frame.DataFrame'>\n",
      "RangeIndex: 591621 entries, 0 to 591620\n",
      "Data columns (total 18 columns):\n",
      " #   Column           Non-Null Count   Dtype  \n",
      "---  ------           --------------   -----  \n",
      " 0   SP_UF            591621 non-null  int64  \n",
      " 1   SP_AA            591621 non-null  int64  \n",
      " 2   SP_MM            591621 non-null  int64  \n",
      " 3   SP_CNES          591621 non-null  int64  \n",
      " 4   SP_NAIH          591621 non-null  int64  \n",
      " 5   SP_PROCREA       591621 non-null  int64  \n",
      " 6   SP_DTINTER       591621 non-null  int64  \n",
      " 7   SP_DTSAIDA       591621 non-null  int64  \n",
      " 8   SP_ATOPROF       591621 non-null  int64  \n",
      " 9   SP_VALATO        591621 non-null  float64\n",
      " 10  SP_M_HOSP        591621 non-null  int64  \n",
      " 11  SP_M_PAC         591621 non-null  int64  \n",
      " 12  SP_DES_HOS       591621 non-null  int64  \n",
      " 13  SP_DES_PAC       591621 non-null  int64  \n",
      " 14  SP_QT_PROC       591621 non-null  int64  \n",
      " 15  SP_CIDADE_H      591621 non-null  object \n",
      " 16  SP_CIDADE_P      591621 non-null  object \n",
      " 17  SP_CIDADE_P_EXT  591621 non-null  object \n",
      "dtypes: float64(1), int64(14), object(3)\n",
      "memory usage: 81.2+ MB\n"
     ]
    }
   ],
   "source": [
    "data_clean.info()"
   ]
  },
  {
   "cell_type": "code",
   "execution_count": 32,
   "metadata": {
    "execution": {
     "iopub.execute_input": "2025-02-25T17:14:08.006389Z",
     "iopub.status.busy": "2025-02-25T17:14:08.006184Z",
     "iopub.status.idle": "2025-02-25T17:14:08.025791Z",
     "shell.execute_reply": "2025-02-25T17:14:08.025425Z"
    }
   },
   "outputs": [],
   "source": [
    "arquivo = 'codigo_procedimento'\n",
    "codigo_procedimento = {}\n",
    "\n",
    "with open(arquivo, 'r') as f:\n",
    "    linhas = f.readlines()\n",
    "\n",
    "for linha in linhas:\n",
    "    partes = linha.strip().split()\n",
    "    codigo = partes[0]\n",
    "    titulo = []\n",
    "\n",
    "    for parte in partes[1:]:\n",
    "        if any(char.isdigit() for char in parte):\n",
    "            break\n",
    "        titulo.append(parte)\n",
    "    \n",
    "    # Juntar o nome da atividade\n",
    "    titulo = ' '.join(titulo)\n",
    "    \n",
    "    # Adicionar ao dicionário\n",
    "    codigo_procedimento[codigo] = titulo\n",
    "\n",
    "# Adicionando manualmente os códigos ausentes pegos no site http://sigtap.datasus.gov.br/tabela-unificada/app/sec/inicio.jsp\n",
    "codigo_procedimento.update({\n",
    "    '0308010019': 'TRATAMENTO CLÍNICO/CONSERVADOR DE TRAUMATISMOS DE QUALQUER LOCALIZAÇÃO',\n",
    "    '0303170140': 'TRATAMENTO CLÍNICO PARA CONTENÇÃO DE COMPORTAMENTO DESORGANIZADO E/OU DISRUPTIVO',\n",
    "    '0303170166': 'TRATAMENTO CLÍNICO DE TRANSTORNOS MENTAIS E COMPORTAMENTAIS DEVIDO AO USO DE ÁLCOOL',\n",
    "    '0303170174': 'TRATAMENTO CLÍNICO DE TRANSTORNOS MENTAIS E COMPORTAMENTAIS DEVIDO AO USO DE “CRACK”',\n",
    "    '0303170182': 'TRATAMENTO CLÍNICO DOS TRANSTORNOS MENTAIS E COMPORTAMENTAIS DEVIDO AO USO DAS DEMAIS DROGAS E/OU OUTRAS SUBSTÂNCIAS PSICOATIVAS'\n",
    "})\n",
    "\n",
    "#print(codigo_procedimento)"
   ]
  },
  {
   "cell_type": "code",
   "execution_count": 33,
   "metadata": {
    "execution": {
     "iopub.execute_input": "2025-02-25T17:14:08.027488Z",
     "iopub.status.busy": "2025-02-25T17:14:08.027171Z",
     "iopub.status.idle": "2025-02-25T17:14:08.555152Z",
     "shell.execute_reply": "2025-02-25T17:14:08.554789Z"
    }
   },
   "outputs": [
    {
     "name": "stdout",
     "output_type": "stream",
     "text": [
      "Exemplo de chave no dicionário: 0101010028\n"
     ]
    },
    {
     "name": "stdout",
     "output_type": "stream",
     "text": [
      "Exemplo de valor em SP_PROCREA: 303010037\n"
     ]
    },
    {
     "name": "stdout",
     "output_type": "stream",
     "text": [
      "{'0413040259', '0416030343', '0416030297', '0416020232', '0416090133', '0415010012', '0415020069', '0408050888', '0416020224', '0303180013', '0415020018', '0416020178', '0416040241', '0416030270', '0416040268', '0415030013', '0415020077', '0416040217', '0415020034', '0416020151', '0416060110', '0416080120', '0415020050', '0416020259', '0503010022', '0404010032', '0416060129', '0416020208', '0408050160', '0303170131', '0404010016', '0303170158', '0416040276', '0416020216', '0403010390', '0404010024', '0416040209', '0409010596', '0408050667', '0416020194', '0416010229', '0416010210', '0404010415', '0303040300', '0303010223', '0503010014'}\n"
     ]
    }
   ],
   "source": [
    "print(\"Exemplo de chave no dicionário:\", next(iter(codigo_procedimento.keys())))\n",
    "print(\"Exemplo de valor em SP_PROCREA:\", data_clean['SP_PROCREA'].astype(str).iloc[0])\n",
    "\n",
    "data_clean['SP_PROCREA'] = data_clean['SP_PROCREA'].astype(str).str.zfill(10)\n",
    "data_clean['SP_ATOPROF'] = data_clean['SP_ATOPROF'].astype(str).str.zfill(10)\n",
    "codigo_procedimento = {k.strip(): v.strip() for k, v in codigo_procedimento.items()}\n",
    "print(set(data_clean['SP_PROCREA'].unique()) - set(codigo_procedimento.keys()))\n",
    "\n"
   ]
  },
  {
   "cell_type": "code",
   "execution_count": 34,
   "metadata": {
    "execution": {
     "iopub.execute_input": "2025-02-25T17:14:08.556542Z",
     "iopub.status.busy": "2025-02-25T17:14:08.556407Z",
     "iopub.status.idle": "2025-02-25T17:14:08.757375Z",
     "shell.execute_reply": "2025-02-25T17:14:08.756967Z"
    }
   },
   "outputs": [
    {
     "name": "stdout",
     "output_type": "stream",
     "text": [
      "Contagem de procedimentos:\n"
     ]
    },
    {
     "name": "stdout",
     "output_type": "stream",
     "text": [
      " SP_N_PROC\n",
      "TRATAMENTO DE OUTRAS DOENÇAS BACTERIANAS                                           119426\n",
      "TRATAMENTO DE ACIDENTE VASCULAR CEREBRAL - AVC (ISQUEMICO OU HEMORRAGICO AGUDO)     21984\n",
      "PARTO NORMAL                                                                        21012\n",
      "PARTO CESARIANO EM GESTACAO DE ALTO RISCO                                           19017\n",
      "TRATAMENTO DE INSUFICIENCIA CARDIACA                                                15432\n",
      "                                                                                    ...  \n",
      "RECONSTRUCAO DE POLO SUPERIOR DA ORELHA                                                 3\n",
      "REDUÇÃO DE FRATURA DA MANDÍBULA SEM OSTEOSSINTESE.                                      2\n",
      "TRATAMENTO DE PTOSE PALPEBRAL                                                           2\n",
      "OSTEOSSÍNTESE DE FRATURA SIMPLES DE MANDÍBULA                                           2\n",
      "EXERESE DE CALAZIO E OUTRAS PEQUENAS LESOES DA PALPEBRA E SUPERCILIOS                   2\n",
      "Name: count, Length: 662, dtype: int64\n",
      "\n",
      "Contagem de profissionais:\n",
      " SP_N_ATOS\n",
      "HEMOGRAMA COMPLETO                                                                                             21197\n",
      "ATENDIMENTO FISIOTERAPÊUTICO EM PACIENTE C/ TRANSTORNO RESPIRATÓRIO C/ COMPLICAÇÕES SISTÊMICAS                 21108\n",
      "DOSAGEM DE CREATININA                                                                                          19274\n",
      "ATENDIMENTO FISIOTERAPÊUTICO EM PACIENTES C/ DISTÚRBIOS NEURO-CINÉTICO-FUNCIONAIS C/COMPLICAÇÕES SISTÊMICAS    18165\n",
      "DOSAGEM DE UREIA                                                                                               17799\n",
      "                                                                                                               ...  \n",
      "DOSAGEM DE SALICILATOS                                                                                             1\n",
      "CARGA P/ GRAMPEADOR LINEAR                                                                                         1\n",
      "TRATAMENTO CONSERVADOR DE FRATURA EM MEMBRO SUPERIOR C/ IMOBILIZACAO                                               1\n",
      "PESQUISA DE ANTICORPOS ANTIILHOTA DE LANGERHANS                                                                    1\n",
      "ELETROFORESE DE LIPOPROTEINAS                                                                                      1\n",
      "Name: count, Length: 1347, dtype: int64\n"
     ]
    }
   ],
   "source": [
    "# Converter SP_PROCREA para string e mapear\n",
    "data_clean['SP_PROCREA'] = data_clean['SP_PROCREA'].astype(str)\n",
    "data_clean['SP_N_PROC'] = data_clean['SP_PROCREA'].map(codigo_procedimento)\n",
    "\n",
    "# Converter SP_ATOPROF para string e mapear\n",
    "data_clean['SP_ATOPROF'] = data_clean['SP_ATOPROF'].astype(str)\n",
    "data_clean['SP_N_ATOS'] = data_clean['SP_ATOPROF'].map(codigo_procedimento)\n",
    "\n",
    "# Contar dados\n",
    "contando_dados_proc = data_clean['SP_N_PROC'].value_counts()\n",
    "contando_dados_prof = data_clean['SP_N_ATOS'].value_counts()\n",
    "\n",
    "print(\"Contagem de procedimentos:\\n\", contando_dados_proc)\n",
    "print(\"\\nContagem de profissionais:\\n\", contando_dados_prof)"
   ]
  },
  {
   "cell_type": "markdown",
   "metadata": {},
   "source": [
    "### Limpando Colunas com nulos e criando csv"
   ]
  },
  {
   "cell_type": "code",
   "execution_count": 35,
   "metadata": {
    "execution": {
     "iopub.execute_input": "2025-02-25T17:14:08.758839Z",
     "iopub.status.busy": "2025-02-25T17:14:08.758646Z",
     "iopub.status.idle": "2025-02-25T17:14:08.817985Z",
     "shell.execute_reply": "2025-02-25T17:14:08.817533Z"
    }
   },
   "outputs": [
    {
     "name": "stdout",
     "output_type": "stream",
     "text": [
      "Total de valores nulos na coluna 'SP_N_PROC': 80954\n",
      "Total de valores nulos na coluna 'SP_N_ATOS': 41447\n",
      "\n",
      "Total de valores NAO nulos na coluna 'SP_N_PROC': 510667\n",
      "Total de valores NAO nulos na coluna 'SP_N_ATOS': 550174\n"
     ]
    }
   ],
   "source": [
    "nulos_proc = data_clean['SP_N_PROC'].isna().sum()\n",
    "nulos_atos = data_clean['SP_N_ATOS'].isna().sum()\n",
    "print(f\"Total de valores nulos na coluna 'SP_N_PROC': {nulos_proc}\")\n",
    "print(f\"Total de valores nulos na coluna 'SP_N_ATOS': {nulos_atos}\")\n",
    "\n",
    "print()\n",
    "dados_proc = data_clean['SP_N_PROC'].notna().sum()\n",
    "dados_atos = data_clean['SP_N_ATOS'].notna().sum()\n",
    "print(f\"Total de valores NAO nulos na coluna 'SP_N_PROC': {dados_proc}\")\n",
    "print(f\"Total de valores NAO nulos na coluna 'SP_N_ATOS': {dados_atos}\")"
   ]
  },
  {
   "cell_type": "code",
   "execution_count": 36,
   "metadata": {
    "execution": {
     "iopub.execute_input": "2025-02-25T17:14:08.819255Z",
     "iopub.status.busy": "2025-02-25T17:14:08.819121Z",
     "iopub.status.idle": "2025-02-25T17:14:08.821538Z",
     "shell.execute_reply": "2025-02-25T17:14:08.821265Z"
    }
   },
   "outputs": [],
   "source": [
    "def verificar_codigos(codigos, dicionario):\n",
    "    presentes = []\n",
    "    ausentes = []\n",
    "    for codigo in codigos:\n",
    "        if codigo in dicionario:\n",
    "            presentes.append(codigo)\n",
    "        else:\n",
    "            ausentes.append(codigo)\n",
    "    return presentes, ausentes"
   ]
  },
  {
   "cell_type": "code",
   "execution_count": 37,
   "metadata": {
    "execution": {
     "iopub.execute_input": "2025-02-25T17:14:08.822856Z",
     "iopub.status.busy": "2025-02-25T17:14:08.822664Z",
     "iopub.status.idle": "2025-02-25T17:14:08.881284Z",
     "shell.execute_reply": "2025-02-25T17:14:08.880804Z"
    }
   },
   "outputs": [
    {
     "name": "stdout",
     "output_type": "stream",
     "text": [
      "Total de valores nulos na coluna 'SP_N_PROC': 80954\n",
      "Total de valores nulos na coluna 'SP_N_ATOS': 41447\n",
      "\n",
      "Total de valores NAO nulos na coluna 'SP_N_PROC': 510667\n",
      "Total de valores NAO nulos na coluna 'SP_N_ATOS': 550174\n"
     ]
    }
   ],
   "source": [
    "nulos_proc = data_clean['SP_N_PROC'].isna().sum()\n",
    "nulos_atos = data_clean['SP_N_ATOS'].isna().sum()\n",
    "print(f\"Total de valores nulos na coluna 'SP_N_PROC': {nulos_proc}\")\n",
    "print(f\"Total de valores nulos na coluna 'SP_N_ATOS': {nulos_atos}\")\n",
    "\n",
    "print()\n",
    "dados_proc = data_clean['SP_N_PROC'].notna().sum()\n",
    "dados_atos = data_clean['SP_N_ATOS'].notna().sum()\n",
    "print(f\"Total de valores NAO nulos na coluna 'SP_N_PROC': {dados_proc}\")\n",
    "print(f\"Total de valores NAO nulos na coluna 'SP_N_ATOS': {dados_atos}\")"
   ]
  },
  {
   "cell_type": "code",
   "execution_count": 38,
   "metadata": {
    "execution": {
     "iopub.execute_input": "2025-02-25T17:14:08.883317Z",
     "iopub.status.busy": "2025-02-25T17:14:08.883109Z",
     "iopub.status.idle": "2025-02-25T17:14:09.168561Z",
     "shell.execute_reply": "2025-02-25T17:14:09.168057Z"
    }
   },
   "outputs": [],
   "source": [
    "data_clean.dropna(subset=['SP_N_PROC'], inplace= True)\n",
    "data_clean.dropna(subset=['SP_N_ATOS'], inplace= True)\n"
   ]
  },
  {
   "cell_type": "code",
   "execution_count": 39,
   "metadata": {
    "execution": {
     "iopub.execute_input": "2025-02-25T17:14:09.170469Z",
     "iopub.status.busy": "2025-02-25T17:14:09.170309Z",
     "iopub.status.idle": "2025-02-25T17:14:09.530011Z",
     "shell.execute_reply": "2025-02-25T17:14:09.529578Z"
    }
   },
   "outputs": [],
   "source": [
    "data_limpo = data_clean.drop_duplicates()"
   ]
  },
  {
   "cell_type": "code",
   "execution_count": 40,
   "metadata": {
    "execution": {
     "iopub.execute_input": "2025-02-25T17:14:09.531748Z",
     "iopub.status.busy": "2025-02-25T17:14:09.531545Z",
     "iopub.status.idle": "2025-02-25T17:14:12.139735Z",
     "shell.execute_reply": "2025-02-25T17:14:12.139343Z"
    }
   },
   "outputs": [
    {
     "name": "stdout",
     "output_type": "stream",
     "text": [
      "<class 'pandas.core.frame.DataFrame'>\n",
      "Index: 462630 entries, 0 to 591620\n",
      "Data columns (total 20 columns):\n",
      " #   Column           Non-Null Count   Dtype  \n",
      "---  ------           --------------   -----  \n",
      " 0   SP_UF            462630 non-null  int64  \n",
      " 1   SP_AA            462630 non-null  int64  \n",
      " 2   SP_MM            462630 non-null  int64  \n",
      " 3   SP_CNES          462630 non-null  int64  \n",
      " 4   SP_NAIH          462630 non-null  int64  \n",
      " 5   SP_PROCREA       462630 non-null  object \n",
      " 6   SP_DTINTER       462630 non-null  int64  \n",
      " 7   SP_DTSAIDA       462630 non-null  int64  \n",
      " 8   SP_ATOPROF       462630 non-null  object \n",
      " 9   SP_VALATO        462630 non-null  float64\n",
      " 10  SP_M_HOSP        462630 non-null  int64  \n",
      " 11  SP_M_PAC         462630 non-null  int64  \n",
      " 12  SP_DES_HOS       462630 non-null  int64  \n",
      " 13  SP_DES_PAC       462630 non-null  int64  \n",
      " 14  SP_QT_PROC       462630 non-null  int64  \n",
      " 15  SP_CIDADE_H      462630 non-null  object \n",
      " 16  SP_CIDADE_P      462630 non-null  object \n",
      " 17  SP_CIDADE_P_EXT  462630 non-null  object \n",
      " 18  SP_N_PROC        462630 non-null  object \n",
      " 19  SP_N_ATOS        462630 non-null  object \n",
      "dtypes: float64(1), int64(12), object(7)\n",
      "memory usage: 74.1+ MB\n"
     ]
    }
   ],
   "source": [
    "data_limpo.info()\n",
    "data_limpo.to_csv('dados_limpos.csv', index=False)"
   ]
  },
  {
   "cell_type": "markdown",
   "metadata": {},
   "source": [
    "## Nova descrição das colunas"
   ]
  },
  {
   "cell_type": "raw",
   "metadata": {},
   "source": [
    "SP_UF = código do estado (43)\n",
    "\n",
    "SP_AA = ano do dado\n",
    "\n",
    "SP_MM = mes do dado\n",
    "\n",
    "SP_CNES = Código CNES do hospital\n",
    "\n",
    "SP_NAIH = Número do AIH (código que realizar a solicitação de internação) \n",
    "\n",
    "SP_PROCREA = Procedimento realizado na AIH (codigo nao espeficado) Tem 90% no link: https://arquivos.camacari.ba.gov.br/compras/ANEXO%20VIII%20-%20TABELA%20NACIONAL%20DE%20PROCEDIMENTOS%20SUS.pdf \n",
    "\n",
    "SP_DTINTER = Dia da internação (em string, exemplo: \"20221209\" ano, mes, dia\n",
    "\n",
    "SP_DTSAIDA = Data de saida(mesmo tipo e formato do de internação)\n",
    "\n",
    "SP_ATOPROF = Procedimento referente ao ato profissional (codigo NÃO especificado) Tem 90% no link: https://arquivos.camacari.ba.gov.br/compras/ANEXO%20VIII%20-%20TABELA%20NACIONAL%20DE%20PROCEDIMENTOS%20SUS.pdf \n",
    "\n",
    "SP_VALATO = Valor do ato profissional (numero em string)\n",
    "\n",
    "SP_M_HOSP = código do munícipio do hospital ou estabelecimento (temos oq significa)\n",
    "\n",
    "SP_M_PAC = código do endereço do paciente (temos oq significa)\n",
    "\n",
    "SP_DES_HOS E DES_PAC = COLUNA BINARIA INDICANDO SE O ENDEREÇO DO PACIENTE É IGUAL AO DO HOSPITAL\n",
    "\n",
    "SP_PF_CBO = Código de ocupação brasileira (titulo do trabalho do cara em código CBO) do profissional que realizou o ato (ou 0000 caso nao tenha info)\n",
    "\n",
    "SP_QT_PROC = qtd de procedimentos realizados (numeros)\n",
    "\n",
    "SP_CIDADE_H = Nome em string da cidade do hospital\n",
    "\n",
    "SP_CIDADE_P = Nome em string da cidade do paciente QUE MORA NO RS (os que nao moram esta como \"Cidade de fora do RS\"\n",
    "\n",
    "SP_CIDADE_P_EXT = Nome em string da cidade do paciente QUE MORA FORA DO RS (os que moramestão como \"Cidade do RS\")\n",
    "\n",
    "SP_N_PROC = Nome do procedimento \n",
    "\n",
    "SP_N_ATOS = Nome do ato realizado"
   ]
  },
  {
   "cell_type": "markdown",
   "metadata": {
    "jp-MarkdownHeadingCollapsed": true
   },
   "source": [
    "# Revisao de cidades"
   ]
  },
  {
   "cell_type": "code",
   "execution_count": 41,
   "metadata": {
    "execution": {
     "iopub.execute_input": "2025-02-25T17:14:12.141642Z",
     "iopub.status.busy": "2025-02-25T17:14:12.141481Z",
     "iopub.status.idle": "2025-02-25T17:14:12.254976Z",
     "shell.execute_reply": "2025-02-25T17:14:12.254622Z"
    }
   },
   "outputs": [
    {
     "name": "stdout",
     "output_type": "stream",
     "text": [
      "<class 'pandas.core.frame.DataFrame'>\n",
      "Index: 462630 entries, 0 to 591620\n",
      "Data columns (total 20 columns):\n",
      " #   Column           Non-Null Count   Dtype  \n",
      "---  ------           --------------   -----  \n",
      " 0   SP_UF            462630 non-null  int64  \n",
      " 1   SP_AA            462630 non-null  int64  \n",
      " 2   SP_MM            462630 non-null  int64  \n",
      " 3   SP_CNES          462630 non-null  int64  \n",
      " 4   SP_NAIH          462630 non-null  int64  \n",
      " 5   SP_PROCREA       462630 non-null  object \n",
      " 6   SP_DTINTER       462630 non-null  int64  \n",
      " 7   SP_DTSAIDA       462630 non-null  int64  \n",
      " 8   SP_ATOPROF       462630 non-null  object \n",
      " 9   SP_VALATO        462630 non-null  float64\n",
      " 10  SP_M_HOSP        462630 non-null  int64  \n",
      " 11  SP_M_PAC         462630 non-null  int64  \n",
      " 12  SP_DES_HOS       462630 non-null  int64  \n",
      " 13  SP_DES_PAC       462630 non-null  int64  \n",
      " 14  SP_QT_PROC       462630 non-null  int64  \n",
      " 15  SP_CIDADE_H      462630 non-null  object \n",
      " 16  SP_CIDADE_P      462630 non-null  object \n",
      " 17  SP_CIDADE_P_EXT  462630 non-null  object \n",
      " 18  SP_N_PROC        462630 non-null  object \n",
      " 19  SP_N_ATOS        462630 non-null  object \n",
      "dtypes: float64(1), int64(12), object(7)\n",
      "memory usage: 74.1+ MB\n"
     ]
    }
   ],
   "source": [
    "data_limpo.info()"
   ]
  },
  {
   "cell_type": "code",
   "execution_count": 42,
   "metadata": {
    "execution": {
     "iopub.execute_input": "2025-02-25T17:14:12.256306Z",
     "iopub.status.busy": "2025-02-25T17:14:12.256074Z",
     "iopub.status.idle": "2025-02-25T17:14:12.264383Z",
     "shell.execute_reply": "2025-02-25T17:14:12.264072Z"
    }
   },
   "outputs": [
    {
     "data": {
      "text/html": [
       "<div>\n",
       "<style scoped>\n",
       "    .dataframe tbody tr th:only-of-type {\n",
       "        vertical-align: middle;\n",
       "    }\n",
       "\n",
       "    .dataframe tbody tr th {\n",
       "        vertical-align: top;\n",
       "    }\n",
       "\n",
       "    .dataframe thead th {\n",
       "        text-align: right;\n",
       "    }\n",
       "</style>\n",
       "<table border=\"1\" class=\"dataframe\">\n",
       "  <thead>\n",
       "    <tr style=\"text-align: right;\">\n",
       "      <th></th>\n",
       "      <th>SP_UF</th>\n",
       "      <th>SP_AA</th>\n",
       "      <th>SP_MM</th>\n",
       "      <th>SP_CNES</th>\n",
       "      <th>SP_NAIH</th>\n",
       "      <th>SP_PROCREA</th>\n",
       "      <th>SP_DTINTER</th>\n",
       "      <th>SP_DTSAIDA</th>\n",
       "      <th>SP_ATOPROF</th>\n",
       "      <th>SP_VALATO</th>\n",
       "      <th>SP_M_HOSP</th>\n",
       "      <th>SP_M_PAC</th>\n",
       "      <th>SP_DES_HOS</th>\n",
       "      <th>SP_DES_PAC</th>\n",
       "      <th>SP_QT_PROC</th>\n",
       "      <th>SP_CIDADE_H</th>\n",
       "      <th>SP_CIDADE_P</th>\n",
       "      <th>SP_CIDADE_P_EXT</th>\n",
       "      <th>SP_N_PROC</th>\n",
       "      <th>SP_N_ATOS</th>\n",
       "    </tr>\n",
       "  </thead>\n",
       "  <tbody>\n",
       "    <tr>\n",
       "      <th>0</th>\n",
       "      <td>43</td>\n",
       "      <td>2022</td>\n",
       "      <td>1</td>\n",
       "      <td>3508528</td>\n",
       "      <td>4321109205787</td>\n",
       "      <td>0303010037</td>\n",
       "      <td>20211110</td>\n",
       "      <td>20211209</td>\n",
       "      <td>0204060095</td>\n",
       "      <td>0.00</td>\n",
       "      <td>430460</td>\n",
       "      <td>430460</td>\n",
       "      <td>0</td>\n",
       "      <td>0</td>\n",
       "      <td>1</td>\n",
       "      <td>CANOAS</td>\n",
       "      <td>CANOAS</td>\n",
       "      <td>Cidade do RS</td>\n",
       "      <td>TRATAMENTO DE OUTRAS DOENÇAS BACTERIANAS</td>\n",
       "      <td>RADIOGRAFIA DE BACIA</td>\n",
       "    </tr>\n",
       "    <tr>\n",
       "      <th>1</th>\n",
       "      <td>43</td>\n",
       "      <td>2022</td>\n",
       "      <td>1</td>\n",
       "      <td>3508528</td>\n",
       "      <td>4321109205787</td>\n",
       "      <td>0303010037</td>\n",
       "      <td>20211110</td>\n",
       "      <td>20211209</td>\n",
       "      <td>0211020036</td>\n",
       "      <td>0.00</td>\n",
       "      <td>430460</td>\n",
       "      <td>430460</td>\n",
       "      <td>0</td>\n",
       "      <td>0</td>\n",
       "      <td>3</td>\n",
       "      <td>CANOAS</td>\n",
       "      <td>CANOAS</td>\n",
       "      <td>Cidade do RS</td>\n",
       "      <td>TRATAMENTO DE OUTRAS DOENÇAS BACTERIANAS</td>\n",
       "      <td>ELETROCARDIOGRAMA</td>\n",
       "    </tr>\n",
       "    <tr>\n",
       "      <th>2</th>\n",
       "      <td>43</td>\n",
       "      <td>2022</td>\n",
       "      <td>1</td>\n",
       "      <td>3508528</td>\n",
       "      <td>4321109205897</td>\n",
       "      <td>0303040297</td>\n",
       "      <td>20211129</td>\n",
       "      <td>20211228</td>\n",
       "      <td>0303040297</td>\n",
       "      <td>87.85</td>\n",
       "      <td>430460</td>\n",
       "      <td>430460</td>\n",
       "      <td>0</td>\n",
       "      <td>0</td>\n",
       "      <td>0</td>\n",
       "      <td>CANOAS</td>\n",
       "      <td>CANOAS</td>\n",
       "      <td>Cidade do RS</td>\n",
       "      <td>TRATAMENTO DE PROCESSO TOXI-INFECCIOSO DO CERE...</td>\n",
       "      <td>TRATAMENTO DE PROCESSO TOXI-INFECCIOSO DO CERE...</td>\n",
       "    </tr>\n",
       "    <tr>\n",
       "      <th>3</th>\n",
       "      <td>43</td>\n",
       "      <td>2022</td>\n",
       "      <td>1</td>\n",
       "      <td>3508528</td>\n",
       "      <td>4321109205897</td>\n",
       "      <td>0303040297</td>\n",
       "      <td>20211129</td>\n",
       "      <td>20211228</td>\n",
       "      <td>0302040013</td>\n",
       "      <td>19.05</td>\n",
       "      <td>430460</td>\n",
       "      <td>430460</td>\n",
       "      <td>0</td>\n",
       "      <td>0</td>\n",
       "      <td>3</td>\n",
       "      <td>CANOAS</td>\n",
       "      <td>CANOAS</td>\n",
       "      <td>Cidade do RS</td>\n",
       "      <td>TRATAMENTO DE PROCESSO TOXI-INFECCIOSO DO CERE...</td>\n",
       "      <td>ATENDIMENTO FISIOTERAPÊUTICO EM PACIENTE C/ TR...</td>\n",
       "    </tr>\n",
       "    <tr>\n",
       "      <th>4</th>\n",
       "      <td>43</td>\n",
       "      <td>2022</td>\n",
       "      <td>1</td>\n",
       "      <td>3508528</td>\n",
       "      <td>4321109205897</td>\n",
       "      <td>0303040297</td>\n",
       "      <td>20211129</td>\n",
       "      <td>20211228</td>\n",
       "      <td>0302040013</td>\n",
       "      <td>127.00</td>\n",
       "      <td>430460</td>\n",
       "      <td>430460</td>\n",
       "      <td>0</td>\n",
       "      <td>0</td>\n",
       "      <td>20</td>\n",
       "      <td>CANOAS</td>\n",
       "      <td>CANOAS</td>\n",
       "      <td>Cidade do RS</td>\n",
       "      <td>TRATAMENTO DE PROCESSO TOXI-INFECCIOSO DO CERE...</td>\n",
       "      <td>ATENDIMENTO FISIOTERAPÊUTICO EM PACIENTE C/ TR...</td>\n",
       "    </tr>\n",
       "  </tbody>\n",
       "</table>\n",
       "</div>"
      ],
      "text/plain": [
       "   SP_UF  SP_AA  SP_MM  SP_CNES        SP_NAIH  SP_PROCREA  SP_DTINTER  \\\n",
       "0     43   2022      1  3508528  4321109205787  0303010037    20211110   \n",
       "1     43   2022      1  3508528  4321109205787  0303010037    20211110   \n",
       "2     43   2022      1  3508528  4321109205897  0303040297    20211129   \n",
       "3     43   2022      1  3508528  4321109205897  0303040297    20211129   \n",
       "4     43   2022      1  3508528  4321109205897  0303040297    20211129   \n",
       "\n",
       "   SP_DTSAIDA  SP_ATOPROF  SP_VALATO  SP_M_HOSP  SP_M_PAC  SP_DES_HOS  \\\n",
       "0    20211209  0204060095       0.00     430460    430460           0   \n",
       "1    20211209  0211020036       0.00     430460    430460           0   \n",
       "2    20211228  0303040297      87.85     430460    430460           0   \n",
       "3    20211228  0302040013      19.05     430460    430460           0   \n",
       "4    20211228  0302040013     127.00     430460    430460           0   \n",
       "\n",
       "   SP_DES_PAC  SP_QT_PROC SP_CIDADE_H SP_CIDADE_P SP_CIDADE_P_EXT  \\\n",
       "0           0           1      CANOAS      CANOAS    Cidade do RS   \n",
       "1           0           3      CANOAS      CANOAS    Cidade do RS   \n",
       "2           0           0      CANOAS      CANOAS    Cidade do RS   \n",
       "3           0           3      CANOAS      CANOAS    Cidade do RS   \n",
       "4           0          20      CANOAS      CANOAS    Cidade do RS   \n",
       "\n",
       "                                           SP_N_PROC  \\\n",
       "0           TRATAMENTO DE OUTRAS DOENÇAS BACTERIANAS   \n",
       "1           TRATAMENTO DE OUTRAS DOENÇAS BACTERIANAS   \n",
       "2  TRATAMENTO DE PROCESSO TOXI-INFECCIOSO DO CERE...   \n",
       "3  TRATAMENTO DE PROCESSO TOXI-INFECCIOSO DO CERE...   \n",
       "4  TRATAMENTO DE PROCESSO TOXI-INFECCIOSO DO CERE...   \n",
       "\n",
       "                                           SP_N_ATOS  \n",
       "0                               RADIOGRAFIA DE BACIA  \n",
       "1                                  ELETROCARDIOGRAMA  \n",
       "2  TRATAMENTO DE PROCESSO TOXI-INFECCIOSO DO CERE...  \n",
       "3  ATENDIMENTO FISIOTERAPÊUTICO EM PACIENTE C/ TR...  \n",
       "4  ATENDIMENTO FISIOTERAPÊUTICO EM PACIENTE C/ TR...  "
      ]
     },
     "execution_count": 42,
     "metadata": {},
     "output_type": "execute_result"
    }
   ],
   "source": [
    "data_limpo.head()"
   ]
  },
  {
   "cell_type": "code",
   "execution_count": 43,
   "metadata": {
    "execution": {
     "iopub.execute_input": "2025-02-25T17:14:12.266088Z",
     "iopub.status.busy": "2025-02-25T17:14:12.265895Z",
     "iopub.status.idle": "2025-02-25T17:14:12.269013Z",
     "shell.execute_reply": "2025-02-25T17:14:12.268689Z"
    }
   },
   "outputs": [],
   "source": [
    "# import pandas as pd\n",
    "\n",
    "# municipios_presentes = [\n",
    "#     \"AGUDO\", \"AJURICABA\", \"ALECRIM\", \"ALEGRETE\", \"ALPESTRE\", \"ALVORADA\", \"AMETISTA DO SUL\", \"ANTA GORDA\", \n",
    "#     \"ARATIBA\", \"ARROIO DO TIGRE\", \"ARROIO GRANDE\", \"ARVOREZINHA\", \"AUGUSTO PESTANA\", \"BAGÉ\", \"BENTO GONÇALVES\", \n",
    "#     \"BOA VISTA DO BURICÁ\", \"BOM JESUS\", \"BOM RETIRO DO SUL\", \"BOQUEIRÃO DO LEÃO\", \"CACEQUI\", \"CAÇAPAVA DO SUL\", \n",
    "#     \"CACHOEIRA DO SUL\", \"CACHOEIRINHA\", \"CAIBATÉ\", \"CAIÇARA\", \"CAMAQUÃ\", \"CAMBARÁ DO SUL\", \"CAMPINA DAS MISSÕES\", \n",
    "#     \"CAMPINAS DO SUL\", \"CAMPO BOM\", \"CAMPO NOVO\", \"CANDELÁRIA\", \"CANDIDO GODÓI\", \"CANOAS\", \"CAPÃO DA CANOA\", \n",
    "#     \"CARAZINHO\", \"CARLOS BARBOSA\", \"CASCA\", \"CAXIAS DO SUL\", \"CERRO LARGO\", \"CHARQUEADAS\", \"CHAPADA\", \"CHIAPETTA\", \n",
    "#     \"CONSTANTINA\", \"CONDOR\", \"CORONEL BICACO\", \"CRISSIUMAL\", \"CRUZ ALTA\", \"CRUZEIRO DO SUL\", \"DOIS IRMÃOS\", \n",
    "#     \"DOIS LAJEADOS\", \"DOM FELICIANO\", \"DOM PEDRITO\", \"ENCANTADO\", \"ENCRUZILHADA DO SUL\", \"ERECHIM\", \"FAXINAL DO SOTURNO\", \n",
    "#     \"FELIZ\", \"FLORES DA CUNHA\", \"FREDERICO WESTPHALEN\", \"GARIBALDI\", \"GAURAMA\", \"GETÚLIO VARGAS\", \"GIRUÁ\", \"GRAMADO\", \n",
    "#     \"GUAÍBA\", \"GUABIJU\", \"GUAPORÉ\", \"GUARANI DAS MISSÕES\", \"HERVAL\", \"HORIZONTINA\", \"HUMAITÁ\", \"IBIRUBÁ\", \"IJUÍ\", \n",
    "#     \"IGREJINHA\", \"IRAÍ\", \"ITAQUI\", \"IVOTI\", \"JABOTICABA\", \"JAGUARÃO\", \"JAGUARI\", \"JÚLIO DE CASTILHOS\", \"LAGOA VERMELHA\", \n",
    "#     \"LAJEADO\", \"MARCELINO RAMOS\", \"MARAU\", \"MARQUES DE SOUZA\", \"MAXIMILIANO DE ALMEIDA\", \"MOSTARDAS\", \"MUÇUM\", \"NONOAI\", \n",
    "#     \"NOVA BASSANO\", \"NOVA BRÉSCIA\", \"NOVA PALMA\", \"NOVA PETRÓPOLIS\", \"NOVA PRATA\", \"NOVO HAMBURGO\", \"OSÓRIO\", \n",
    "#     \"PAIM FILHO\", \"PALMARES DO SUL\", \"PALMEIRA DAS MISSÕES\", \"PANAMBI\", \"PARAÍSO DO SUL\", \"PAROBÉ\", \"PASSO FUNDO\", \n",
    "#     \"PEJUÇARA\", \"PELOTAS\", \"PLANALTO\", \"PORTO ALEGRE\", \"PORTO LUCENA\", \"PORTO XAVIER\", \"PUTINGA\", \"QUINZE DE NOVEMBRO\", \n",
    "#     \"RESTINGA SECA\", \"RIO GRANDE\", \"RIO PARDO\", \"ROCA SALES\", \"RODEIO BONITO\", \"RONDINHA\", \"ROQUE GONZALES\", \n",
    "#     \"ROSÁRIO DO SUL\", \"SALTO DO JACUÍ\", \"SALVADOR DO SUL\", \"SANANDUVA\", \"SANTA BÁRBARA DO SUL\", \"SANTA CRUZ DO SUL\", \n",
    "#     \"SANTA MARIA\", \"SANTA ROSA\", \"SANTA VITÓRIA DO PALMAR\", \"SANTIAGO\", \"SANTO ÂNGELO\", \"SANTO AUGUSTO\", \"SANTO CRISTO\", \n",
    "#     \"SÃO FRANCISCO DE ASSIS\", \"SÃO GABRIEL\", \"SÃO JERÔNIMO\", \"SÃO JOÃO DO POLÊSINE\", \"SÃO JOSÉ DO NORTE\", \n",
    "#     \"SÃO JOSÉ DO OURO\", \"SÃO LEOPOLDO\", \"SÃO LUIZ GONZAGA\", \"SÃO MARCOS\", \"SÃO MIGUEL DAS MISSÕES\", \"SÃO PEDRO DO SUL\", \n",
    "#     \"SAPIRANGA\", \"SAPUCAIA DO SUL\", \"SARANDI\", \"SOLEDADE\", \"TAPEJARA\", \"TAQUARA\", \"TAQUARI\", \"TENENTE PORTELA\", \"TORRES\", \n",
    "#     \"TRAMANDAÍ\", \"TRÊS COROAS\", \"TRÊS DE MAIO\", \"TRINDADE DO SUL\", \"TRIUNFO\", \"TUCUNDUVA\", \"TUPANCIRETÃ\", \"TUPARENDI\", \n",
    "#     \"URUGUAIANA\", \"VALE DO SOL\", \"VACARIA\", \"VERA CRUZ\", \"VERANÓPOLIS\", \"VIADUTOS\", \"VIAMÃO\"]\n",
    "\n",
    "# # Identificando os municípios que não estão na lista\n",
    "# municipios_faltantes = sorted(set(data_limpo[\"SP_CIDADE_H\"]) - set(municipios_presentes))\n",
    "\n",
    "# print(\"Municípios faltantes:\", municipios_faltantes)\n"
   ]
  },
  {
   "cell_type": "code",
   "execution_count": 44,
   "metadata": {
    "execution": {
     "iopub.execute_input": "2025-02-25T17:14:12.270291Z",
     "iopub.status.busy": "2025-02-25T17:14:12.270035Z",
     "iopub.status.idle": "2025-02-25T17:14:12.271811Z",
     "shell.execute_reply": "2025-02-25T17:14:12.271531Z"
    }
   },
   "outputs": [],
   "source": [
    "# # Criando o dicionário com os municípios faltantes e seus respectivos códigos\n",
    "# cidades_faltantes = data_limpo[data_limpo[\"SP_CIDADE_H\"].isin(municipios_faltantes)].set_index(\"SP_CIDADE_H\")[\"SP_M_HOSP\"].to_dict()\n",
    "\n",
    "# print(cidades_faltantes)\n"
   ]
  },
  {
   "cell_type": "code",
   "execution_count": 45,
   "metadata": {
    "execution": {
     "iopub.execute_input": "2025-02-25T17:14:12.272930Z",
     "iopub.status.busy": "2025-02-25T17:14:12.272714Z",
     "iopub.status.idle": "2025-02-25T17:14:12.366160Z",
     "shell.execute_reply": "2025-02-25T17:14:12.365570Z"
    }
   },
   "outputs": [
    {
     "name": "stderr",
     "output_type": "stream",
     "text": [
      "/tmp/ipykernel_33377/1495055583.py:1: SettingWithCopyWarning: \n",
      "A value is trying to be set on a copy of a slice from a DataFrame.\n",
      "Try using .loc[row_indexer,col_indexer] = value instead\n",
      "\n",
      "See the caveats in the documentation: https://pandas.pydata.org/pandas-docs/stable/user_guide/indexing.html#returning-a-view-versus-a-copy\n",
      "  data_limpo['SP_CIDADE_H'] = data_limpo['SP_CIDADE_H'].replace(\"SANT'ANA DO LIVRAMENTO\", \"SANTANA DO LIVRAMENTO\")\n",
      "/tmp/ipykernel_33377/1495055583.py:2: SettingWithCopyWarning: \n",
      "A value is trying to be set on a copy of a slice from a DataFrame.\n",
      "Try using .loc[row_indexer,col_indexer] = value instead\n",
      "\n",
      "See the caveats in the documentation: https://pandas.pydata.org/pandas-docs/stable/user_guide/indexing.html#returning-a-view-versus-a-copy\n",
      "  data_limpo['SP_CIDADE_P'] = data_limpo['SP_CIDADE_P'].replace(\"SANT'ANA DO LIVRAMENTO\", \"SANTANA DO LIVRAMENTO\")\n"
     ]
    }
   ],
   "source": [
    "data_limpo['SP_CIDADE_H'] = data_limpo['SP_CIDADE_H'].replace(\"SANT'ANA DO LIVRAMENTO\", \"SANTANA DO LIVRAMENTO\")\n",
    "data_limpo['SP_CIDADE_P'] = data_limpo['SP_CIDADE_P'].replace(\"SANT'ANA DO LIVRAMENTO\", \"SANTANA DO LIVRAMENTO\")\n"
   ]
  },
  {
   "cell_type": "code",
   "execution_count": 46,
   "metadata": {
    "execution": {
     "iopub.execute_input": "2025-02-25T17:14:12.367701Z",
     "iopub.status.busy": "2025-02-25T17:14:12.367527Z",
     "iopub.status.idle": "2025-02-25T17:14:12.375665Z",
     "shell.execute_reply": "2025-02-25T17:14:12.375377Z"
    }
   },
   "outputs": [
    {
     "data": {
      "text/html": [
       "<div>\n",
       "<style scoped>\n",
       "    .dataframe tbody tr th:only-of-type {\n",
       "        vertical-align: middle;\n",
       "    }\n",
       "\n",
       "    .dataframe tbody tr th {\n",
       "        vertical-align: top;\n",
       "    }\n",
       "\n",
       "    .dataframe thead th {\n",
       "        text-align: right;\n",
       "    }\n",
       "</style>\n",
       "<table border=\"1\" class=\"dataframe\">\n",
       "  <thead>\n",
       "    <tr style=\"text-align: right;\">\n",
       "      <th></th>\n",
       "      <th>SP_UF</th>\n",
       "      <th>SP_AA</th>\n",
       "      <th>SP_MM</th>\n",
       "      <th>SP_CNES</th>\n",
       "      <th>SP_NAIH</th>\n",
       "      <th>SP_PROCREA</th>\n",
       "      <th>SP_DTINTER</th>\n",
       "      <th>SP_DTSAIDA</th>\n",
       "      <th>SP_ATOPROF</th>\n",
       "      <th>SP_VALATO</th>\n",
       "      <th>SP_M_HOSP</th>\n",
       "      <th>SP_M_PAC</th>\n",
       "      <th>SP_DES_HOS</th>\n",
       "      <th>SP_DES_PAC</th>\n",
       "      <th>SP_QT_PROC</th>\n",
       "      <th>SP_CIDADE_H</th>\n",
       "      <th>SP_CIDADE_P</th>\n",
       "      <th>SP_CIDADE_P_EXT</th>\n",
       "      <th>SP_N_PROC</th>\n",
       "      <th>SP_N_ATOS</th>\n",
       "    </tr>\n",
       "  </thead>\n",
       "  <tbody>\n",
       "    <tr>\n",
       "      <th>0</th>\n",
       "      <td>43</td>\n",
       "      <td>2022</td>\n",
       "      <td>1</td>\n",
       "      <td>3508528</td>\n",
       "      <td>4321109205787</td>\n",
       "      <td>0303010037</td>\n",
       "      <td>20211110</td>\n",
       "      <td>20211209</td>\n",
       "      <td>0204060095</td>\n",
       "      <td>0.00</td>\n",
       "      <td>430460</td>\n",
       "      <td>430460</td>\n",
       "      <td>0</td>\n",
       "      <td>0</td>\n",
       "      <td>1</td>\n",
       "      <td>CANOAS</td>\n",
       "      <td>CANOAS</td>\n",
       "      <td>Cidade do RS</td>\n",
       "      <td>TRATAMENTO DE OUTRAS DOENÇAS BACTERIANAS</td>\n",
       "      <td>RADIOGRAFIA DE BACIA</td>\n",
       "    </tr>\n",
       "    <tr>\n",
       "      <th>1</th>\n",
       "      <td>43</td>\n",
       "      <td>2022</td>\n",
       "      <td>1</td>\n",
       "      <td>3508528</td>\n",
       "      <td>4321109205787</td>\n",
       "      <td>0303010037</td>\n",
       "      <td>20211110</td>\n",
       "      <td>20211209</td>\n",
       "      <td>0211020036</td>\n",
       "      <td>0.00</td>\n",
       "      <td>430460</td>\n",
       "      <td>430460</td>\n",
       "      <td>0</td>\n",
       "      <td>0</td>\n",
       "      <td>3</td>\n",
       "      <td>CANOAS</td>\n",
       "      <td>CANOAS</td>\n",
       "      <td>Cidade do RS</td>\n",
       "      <td>TRATAMENTO DE OUTRAS DOENÇAS BACTERIANAS</td>\n",
       "      <td>ELETROCARDIOGRAMA</td>\n",
       "    </tr>\n",
       "    <tr>\n",
       "      <th>2</th>\n",
       "      <td>43</td>\n",
       "      <td>2022</td>\n",
       "      <td>1</td>\n",
       "      <td>3508528</td>\n",
       "      <td>4321109205897</td>\n",
       "      <td>0303040297</td>\n",
       "      <td>20211129</td>\n",
       "      <td>20211228</td>\n",
       "      <td>0303040297</td>\n",
       "      <td>87.85</td>\n",
       "      <td>430460</td>\n",
       "      <td>430460</td>\n",
       "      <td>0</td>\n",
       "      <td>0</td>\n",
       "      <td>0</td>\n",
       "      <td>CANOAS</td>\n",
       "      <td>CANOAS</td>\n",
       "      <td>Cidade do RS</td>\n",
       "      <td>TRATAMENTO DE PROCESSO TOXI-INFECCIOSO DO CERE...</td>\n",
       "      <td>TRATAMENTO DE PROCESSO TOXI-INFECCIOSO DO CERE...</td>\n",
       "    </tr>\n",
       "    <tr>\n",
       "      <th>3</th>\n",
       "      <td>43</td>\n",
       "      <td>2022</td>\n",
       "      <td>1</td>\n",
       "      <td>3508528</td>\n",
       "      <td>4321109205897</td>\n",
       "      <td>0303040297</td>\n",
       "      <td>20211129</td>\n",
       "      <td>20211228</td>\n",
       "      <td>0302040013</td>\n",
       "      <td>19.05</td>\n",
       "      <td>430460</td>\n",
       "      <td>430460</td>\n",
       "      <td>0</td>\n",
       "      <td>0</td>\n",
       "      <td>3</td>\n",
       "      <td>CANOAS</td>\n",
       "      <td>CANOAS</td>\n",
       "      <td>Cidade do RS</td>\n",
       "      <td>TRATAMENTO DE PROCESSO TOXI-INFECCIOSO DO CERE...</td>\n",
       "      <td>ATENDIMENTO FISIOTERAPÊUTICO EM PACIENTE C/ TR...</td>\n",
       "    </tr>\n",
       "    <tr>\n",
       "      <th>4</th>\n",
       "      <td>43</td>\n",
       "      <td>2022</td>\n",
       "      <td>1</td>\n",
       "      <td>3508528</td>\n",
       "      <td>4321109205897</td>\n",
       "      <td>0303040297</td>\n",
       "      <td>20211129</td>\n",
       "      <td>20211228</td>\n",
       "      <td>0302040013</td>\n",
       "      <td>127.00</td>\n",
       "      <td>430460</td>\n",
       "      <td>430460</td>\n",
       "      <td>0</td>\n",
       "      <td>0</td>\n",
       "      <td>20</td>\n",
       "      <td>CANOAS</td>\n",
       "      <td>CANOAS</td>\n",
       "      <td>Cidade do RS</td>\n",
       "      <td>TRATAMENTO DE PROCESSO TOXI-INFECCIOSO DO CERE...</td>\n",
       "      <td>ATENDIMENTO FISIOTERAPÊUTICO EM PACIENTE C/ TR...</td>\n",
       "    </tr>\n",
       "  </tbody>\n",
       "</table>\n",
       "</div>"
      ],
      "text/plain": [
       "   SP_UF  SP_AA  SP_MM  SP_CNES        SP_NAIH  SP_PROCREA  SP_DTINTER  \\\n",
       "0     43   2022      1  3508528  4321109205787  0303010037    20211110   \n",
       "1     43   2022      1  3508528  4321109205787  0303010037    20211110   \n",
       "2     43   2022      1  3508528  4321109205897  0303040297    20211129   \n",
       "3     43   2022      1  3508528  4321109205897  0303040297    20211129   \n",
       "4     43   2022      1  3508528  4321109205897  0303040297    20211129   \n",
       "\n",
       "   SP_DTSAIDA  SP_ATOPROF  SP_VALATO  SP_M_HOSP  SP_M_PAC  SP_DES_HOS  \\\n",
       "0    20211209  0204060095       0.00     430460    430460           0   \n",
       "1    20211209  0211020036       0.00     430460    430460           0   \n",
       "2    20211228  0303040297      87.85     430460    430460           0   \n",
       "3    20211228  0302040013      19.05     430460    430460           0   \n",
       "4    20211228  0302040013     127.00     430460    430460           0   \n",
       "\n",
       "   SP_DES_PAC  SP_QT_PROC SP_CIDADE_H SP_CIDADE_P SP_CIDADE_P_EXT  \\\n",
       "0           0           1      CANOAS      CANOAS    Cidade do RS   \n",
       "1           0           3      CANOAS      CANOAS    Cidade do RS   \n",
       "2           0           0      CANOAS      CANOAS    Cidade do RS   \n",
       "3           0           3      CANOAS      CANOAS    Cidade do RS   \n",
       "4           0          20      CANOAS      CANOAS    Cidade do RS   \n",
       "\n",
       "                                           SP_N_PROC  \\\n",
       "0           TRATAMENTO DE OUTRAS DOENÇAS BACTERIANAS   \n",
       "1           TRATAMENTO DE OUTRAS DOENÇAS BACTERIANAS   \n",
       "2  TRATAMENTO DE PROCESSO TOXI-INFECCIOSO DO CERE...   \n",
       "3  TRATAMENTO DE PROCESSO TOXI-INFECCIOSO DO CERE...   \n",
       "4  TRATAMENTO DE PROCESSO TOXI-INFECCIOSO DO CERE...   \n",
       "\n",
       "                                           SP_N_ATOS  \n",
       "0                               RADIOGRAFIA DE BACIA  \n",
       "1                                  ELETROCARDIOGRAMA  \n",
       "2  TRATAMENTO DE PROCESSO TOXI-INFECCIOSO DO CERE...  \n",
       "3  ATENDIMENTO FISIOTERAPÊUTICO EM PACIENTE C/ TR...  \n",
       "4  ATENDIMENTO FISIOTERAPÊUTICO EM PACIENTE C/ TR...  "
      ]
     },
     "execution_count": 46,
     "metadata": {},
     "output_type": "execute_result"
    }
   ],
   "source": [
    "data_limpo.head()"
   ]
  },
  {
   "cell_type": "markdown",
   "metadata": {
    "jp-MarkdownHeadingCollapsed": true
   },
   "source": [
    "# Arquivo \"Geopandas\""
   ]
  },
  {
   "cell_type": "code",
   "execution_count": 47,
   "metadata": {
    "execution": {
     "iopub.execute_input": "2025-02-25T17:14:12.377045Z",
     "iopub.status.busy": "2025-02-25T17:14:12.376817Z",
     "iopub.status.idle": "2025-02-25T17:14:13.270566Z",
     "shell.execute_reply": "2025-02-25T17:14:13.270229Z"
    }
   },
   "outputs": [],
   "source": [
    "dados = pd.read_csv('dados_limpos.csv')"
   ]
  },
  {
   "cell_type": "code",
   "execution_count": 48,
   "metadata": {
    "execution": {
     "iopub.execute_input": "2025-02-25T17:14:13.272014Z",
     "iopub.status.busy": "2025-02-25T17:14:13.271858Z",
     "iopub.status.idle": "2025-02-25T17:14:13.345602Z",
     "shell.execute_reply": "2025-02-25T17:14:13.345239Z"
    }
   },
   "outputs": [
    {
     "name": "stdout",
     "output_type": "stream",
     "text": [
      "<class 'pandas.core.frame.DataFrame'>\n",
      "RangeIndex: 462630 entries, 0 to 462629\n",
      "Data columns (total 20 columns):\n",
      " #   Column           Non-Null Count   Dtype  \n",
      "---  ------           --------------   -----  \n",
      " 0   SP_UF            462630 non-null  int64  \n",
      " 1   SP_AA            462630 non-null  int64  \n",
      " 2   SP_MM            462630 non-null  int64  \n",
      " 3   SP_CNES          462630 non-null  int64  \n",
      " 4   SP_NAIH          462630 non-null  int64  \n",
      " 5   SP_PROCREA       462630 non-null  int64  \n",
      " 6   SP_DTINTER       462630 non-null  int64  \n",
      " 7   SP_DTSAIDA       462630 non-null  int64  \n",
      " 8   SP_ATOPROF       462630 non-null  int64  \n",
      " 9   SP_VALATO        462630 non-null  float64\n",
      " 10  SP_M_HOSP        462630 non-null  int64  \n",
      " 11  SP_M_PAC         462630 non-null  int64  \n",
      " 12  SP_DES_HOS       462630 non-null  int64  \n",
      " 13  SP_DES_PAC       462630 non-null  int64  \n",
      " 14  SP_QT_PROC       462630 non-null  int64  \n",
      " 15  SP_CIDADE_H      462630 non-null  object \n",
      " 16  SP_CIDADE_P      462472 non-null  object \n",
      " 17  SP_CIDADE_P_EXT  462630 non-null  object \n",
      " 18  SP_N_PROC        462630 non-null  object \n",
      " 19  SP_N_ATOS        462630 non-null  object \n",
      "dtypes: float64(1), int64(14), object(5)\n",
      "memory usage: 70.6+ MB\n"
     ]
    }
   ],
   "source": [
    "dados.info()"
   ]
  },
  {
   "cell_type": "code",
   "execution_count": 49,
   "metadata": {
    "execution": {
     "iopub.execute_input": "2025-02-25T17:14:13.347157Z",
     "iopub.status.busy": "2025-02-25T17:14:13.346916Z",
     "iopub.status.idle": "2025-02-25T17:14:13.413527Z",
     "shell.execute_reply": "2025-02-25T17:14:13.413188Z"
    }
   },
   "outputs": [
    {
     "name": "stdout",
     "output_type": "stream",
     "text": [
      "SP_UF                0\n",
      "SP_AA                0\n",
      "SP_MM                0\n",
      "SP_CNES              0\n",
      "SP_NAIH              0\n",
      "SP_PROCREA           0\n",
      "SP_DTINTER           0\n",
      "SP_DTSAIDA           0\n",
      "SP_ATOPROF           0\n",
      "SP_VALATO            0\n",
      "SP_M_HOSP            0\n",
      "SP_M_PAC             0\n",
      "SP_DES_HOS           0\n",
      "SP_DES_PAC           0\n",
      "SP_QT_PROC           0\n",
      "SP_CIDADE_H          0\n",
      "SP_CIDADE_P        158\n",
      "SP_CIDADE_P_EXT      0\n",
      "SP_N_PROC            0\n",
      "SP_N_ATOS            0\n",
      "dtype: int64\n"
     ]
    }
   ],
   "source": [
    "nulos = dados.isnull().sum()\n",
    "print(nulos)"
   ]
  },
  {
   "cell_type": "code",
   "execution_count": 50,
   "metadata": {
    "execution": {
     "iopub.execute_input": "2025-02-25T17:14:13.415443Z",
     "iopub.status.busy": "2025-02-25T17:14:13.415260Z",
     "iopub.status.idle": "2025-02-25T17:14:13.424155Z",
     "shell.execute_reply": "2025-02-25T17:14:13.423703Z"
    }
   },
   "outputs": [],
   "source": [
    "municipios = pd.read_csv('municipios.csv', sep=',', encoding='utf-8')"
   ]
  },
  {
   "cell_type": "code",
   "execution_count": 51,
   "metadata": {
    "execution": {
     "iopub.execute_input": "2025-02-25T17:14:13.425654Z",
     "iopub.status.busy": "2025-02-25T17:14:13.425498Z",
     "iopub.status.idle": "2025-02-25T17:14:13.500426Z",
     "shell.execute_reply": "2025-02-25T17:14:13.499973Z"
    }
   },
   "outputs": [],
   "source": [
    "dados = dados.dropna(subset=['SP_CIDADE_P'])"
   ]
  },
  {
   "cell_type": "code",
   "execution_count": 52,
   "metadata": {
    "execution": {
     "iopub.execute_input": "2025-02-25T17:14:13.501993Z",
     "iopub.status.busy": "2025-02-25T17:14:13.501753Z",
     "iopub.status.idle": "2025-02-25T17:14:13.507015Z",
     "shell.execute_reply": "2025-02-25T17:14:13.506689Z"
    },
    "scrolled": true
   },
   "outputs": [
    {
     "name": "stdout",
     "output_type": "stream",
     "text": [
      "<class 'pandas.core.frame.DataFrame'>\n",
      "RangeIndex: 5570 entries, 0 to 5569\n",
      "Data columns (total 6 columns):\n",
      " #   Column        Non-Null Count  Dtype  \n",
      "---  ------        --------------  -----  \n",
      " 0   codigo_ibge   5570 non-null   int64  \n",
      " 1   nome          5570 non-null   object \n",
      " 2   latitude      5570 non-null   float64\n",
      " 3   longitude     5570 non-null   float64\n",
      " 4   ddd           5570 non-null   int64  \n",
      " 5   fuso_horario  5570 non-null   object \n",
      "dtypes: float64(2), int64(2), object(2)\n",
      "memory usage: 261.2+ KB\n"
     ]
    }
   ],
   "source": [
    "municipios.info()"
   ]
  },
  {
   "cell_type": "code",
   "execution_count": 53,
   "metadata": {
    "execution": {
     "iopub.execute_input": "2025-02-25T17:14:13.508362Z",
     "iopub.status.busy": "2025-02-25T17:14:13.508088Z",
     "iopub.status.idle": "2025-02-25T17:14:13.513115Z",
     "shell.execute_reply": "2025-02-25T17:14:13.512806Z"
    }
   },
   "outputs": [
    {
     "data": {
      "text/html": [
       "<div>\n",
       "<style scoped>\n",
       "    .dataframe tbody tr th:only-of-type {\n",
       "        vertical-align: middle;\n",
       "    }\n",
       "\n",
       "    .dataframe tbody tr th {\n",
       "        vertical-align: top;\n",
       "    }\n",
       "\n",
       "    .dataframe thead th {\n",
       "        text-align: right;\n",
       "    }\n",
       "</style>\n",
       "<table border=\"1\" class=\"dataframe\">\n",
       "  <thead>\n",
       "    <tr style=\"text-align: right;\">\n",
       "      <th></th>\n",
       "      <th>codigo_ibge</th>\n",
       "      <th>nome</th>\n",
       "      <th>latitude</th>\n",
       "      <th>longitude</th>\n",
       "      <th>ddd</th>\n",
       "      <th>fuso_horario</th>\n",
       "    </tr>\n",
       "  </thead>\n",
       "  <tbody>\n",
       "    <tr>\n",
       "      <th>0</th>\n",
       "      <td>5200050</td>\n",
       "      <td>Abadia de Goiás</td>\n",
       "      <td>-16.75730</td>\n",
       "      <td>-49.4412</td>\n",
       "      <td>62</td>\n",
       "      <td>America/Sao_Paulo</td>\n",
       "    </tr>\n",
       "    <tr>\n",
       "      <th>1</th>\n",
       "      <td>3100104</td>\n",
       "      <td>Abadia dos Dourados</td>\n",
       "      <td>-18.48310</td>\n",
       "      <td>-47.3916</td>\n",
       "      <td>34</td>\n",
       "      <td>America/Sao_Paulo</td>\n",
       "    </tr>\n",
       "    <tr>\n",
       "      <th>2</th>\n",
       "      <td>5200100</td>\n",
       "      <td>Abadiânia</td>\n",
       "      <td>-16197.00000</td>\n",
       "      <td>-48.7057</td>\n",
       "      <td>62</td>\n",
       "      <td>America/Sao_Paulo</td>\n",
       "    </tr>\n",
       "    <tr>\n",
       "      <th>3</th>\n",
       "      <td>3100203</td>\n",
       "      <td>Abaeté</td>\n",
       "      <td>-19.15510</td>\n",
       "      <td>-45.4444</td>\n",
       "      <td>37</td>\n",
       "      <td>America/Sao_Paulo</td>\n",
       "    </tr>\n",
       "    <tr>\n",
       "      <th>4</th>\n",
       "      <td>1500107</td>\n",
       "      <td>Abaetetuba</td>\n",
       "      <td>-1.72183</td>\n",
       "      <td>-48.8788</td>\n",
       "      <td>91</td>\n",
       "      <td>America/Sao_Paulo</td>\n",
       "    </tr>\n",
       "  </tbody>\n",
       "</table>\n",
       "</div>"
      ],
      "text/plain": [
       "   codigo_ibge                 nome     latitude  longitude  ddd  \\\n",
       "0      5200050      Abadia de Goiás    -16.75730   -49.4412   62   \n",
       "1      3100104  Abadia dos Dourados    -18.48310   -47.3916   34   \n",
       "2      5200100            Abadiânia -16197.00000   -48.7057   62   \n",
       "3      3100203               Abaeté    -19.15510   -45.4444   37   \n",
       "4      1500107           Abaetetuba     -1.72183   -48.8788   91   \n",
       "\n",
       "        fuso_horario  \n",
       "0  America/Sao_Paulo  \n",
       "1  America/Sao_Paulo  \n",
       "2  America/Sao_Paulo  \n",
       "3  America/Sao_Paulo  \n",
       "4  America/Sao_Paulo  "
      ]
     },
     "execution_count": 53,
     "metadata": {},
     "output_type": "execute_result"
    }
   ],
   "source": [
    "municipios.head()"
   ]
  },
  {
   "cell_type": "code",
   "execution_count": 54,
   "metadata": {
    "execution": {
     "iopub.execute_input": "2025-02-25T17:14:13.514842Z",
     "iopub.status.busy": "2025-02-25T17:14:13.514658Z",
     "iopub.status.idle": "2025-02-25T17:14:13.517495Z",
     "shell.execute_reply": "2025-02-25T17:14:13.517100Z"
    }
   },
   "outputs": [],
   "source": [
    "# Função para normalizar nomes de cidades\n",
    "def normalize_city_name(name):\n",
    "    if isinstance(name, str):\n",
    "        return ''.join(c for c in unicodedata.normalize('NFKD', name) if not unicodedata.combining(c)).lower().strip()\n",
    "    else:\n",
    "        return ''"
   ]
  },
  {
   "cell_type": "code",
   "execution_count": 55,
   "metadata": {
    "execution": {
     "iopub.execute_input": "2025-02-25T17:14:13.518700Z",
     "iopub.status.busy": "2025-02-25T17:14:13.518569Z",
     "iopub.status.idle": "2025-02-25T17:14:14.814603Z",
     "shell.execute_reply": "2025-02-25T17:14:14.813429Z"
    }
   },
   "outputs": [],
   "source": [
    "# Aplicar normalização às colunas relevantes\n",
    "dados['SP_CIDADE_H_norm'] = dados['SP_CIDADE_H'].apply(normalize_city_name)\n",
    "dados['SP_CIDADE_P_norm'] = dados['SP_CIDADE_P'].apply(normalize_city_name)\n",
    "dados['SP_CIDADE_P_EXT_norm'] = dados['SP_CIDADE_P_EXT'].apply(normalize_city_name)\n",
    "municipios['nome_norm'] = municipios['nome'].apply(normalize_city_name)"
   ]
  },
  {
   "cell_type": "code",
   "execution_count": 56,
   "metadata": {
    "execution": {
     "iopub.execute_input": "2025-02-25T17:14:14.817579Z",
     "iopub.status.busy": "2025-02-25T17:14:14.817270Z",
     "iopub.status.idle": "2025-02-25T17:14:15.675743Z",
     "shell.execute_reply": "2025-02-25T17:14:15.675264Z"
    }
   },
   "outputs": [],
   "source": [
    "# Mesclar os DataFrames utilizando as colunas normalizadas\n",
    "dados = dados.merge(municipios[['nome_norm', 'latitude', 'longitude']], how='left', left_on='SP_CIDADE_H_norm', right_on='nome_norm')\n",
    "dados.rename(columns={'latitude': 'latitude_h', 'longitude': 'longitude_h'}, inplace=True)\n",
    "dados.drop(columns=['SP_CIDADE_H_norm', 'nome_norm'], inplace=True)\n",
    "\n",
    "dados = dados.merge(municipios[['nome_norm', 'latitude', 'longitude']], how='left', left_on='SP_CIDADE_P_norm', right_on='nome_norm')\n",
    "dados.rename(columns={'latitude': 'latitude_p', 'longitude': 'longitude_p'}, inplace=True)\n",
    "dados.drop(columns=['SP_CIDADE_P_norm', 'nome_norm'], inplace=True)\n",
    "\n",
    "dados = dados.merge(municipios[['nome_norm', 'latitude', 'longitude']], how='left', left_on='SP_CIDADE_P_EXT_norm', right_on='nome_norm')\n",
    "dados.rename(columns={'latitude': 'latitude_p_ext', 'longitude': 'longitude_p_ext'}, inplace=True)\n",
    "dados.drop(columns=['SP_CIDADE_P_EXT_norm', 'nome_norm'], inplace=True)"
   ]
  },
  {
   "cell_type": "code",
   "execution_count": 57,
   "metadata": {
    "execution": {
     "iopub.execute_input": "2025-02-25T17:14:15.677507Z",
     "iopub.status.busy": "2025-02-25T17:14:15.677214Z",
     "iopub.status.idle": "2025-02-25T17:14:15.759019Z",
     "shell.execute_reply": "2025-02-25T17:14:15.758579Z"
    }
   },
   "outputs": [
    {
     "name": "stdout",
     "output_type": "stream",
     "text": [
      "<class 'pandas.core.frame.DataFrame'>\n",
      "RangeIndex: 496473 entries, 0 to 496472\n",
      "Data columns (total 26 columns):\n",
      " #   Column           Non-Null Count   Dtype  \n",
      "---  ------           --------------   -----  \n",
      " 0   SP_UF            496473 non-null  int64  \n",
      " 1   SP_AA            496473 non-null  int64  \n",
      " 2   SP_MM            496473 non-null  int64  \n",
      " 3   SP_CNES          496473 non-null  int64  \n",
      " 4   SP_NAIH          496473 non-null  int64  \n",
      " 5   SP_PROCREA       496473 non-null  int64  \n",
      " 6   SP_DTINTER       496473 non-null  int64  \n",
      " 7   SP_DTSAIDA       496473 non-null  int64  \n",
      " 8   SP_ATOPROF       496473 non-null  int64  \n",
      " 9   SP_VALATO        496473 non-null  float64\n",
      " 10  SP_M_HOSP        496473 non-null  int64  \n",
      " 11  SP_M_PAC         496473 non-null  int64  \n",
      " 12  SP_DES_HOS       496473 non-null  int64  \n",
      " 13  SP_DES_PAC       496473 non-null  int64  \n",
      " 14  SP_QT_PROC       496473 non-null  int64  \n",
      " 15  SP_CIDADE_H      496473 non-null  object \n",
      " 16  SP_CIDADE_P      496473 non-null  object \n",
      " 17  SP_CIDADE_P_EXT  496473 non-null  object \n",
      " 18  SP_N_PROC        496473 non-null  object \n",
      " 19  SP_N_ATOS        496473 non-null  object \n",
      " 20  latitude_h       496473 non-null  float64\n",
      " 21  longitude_h      496473 non-null  float64\n",
      " 22  latitude_p       495129 non-null  float64\n",
      " 23  longitude_p      495129 non-null  float64\n",
      " 24  latitude_p_ext   0 non-null       float64\n",
      " 25  longitude_p_ext  0 non-null       float64\n",
      "dtypes: float64(7), int64(14), object(5)\n",
      "memory usage: 98.5+ MB\n"
     ]
    }
   ],
   "source": [
    "dados.info()"
   ]
  },
  {
   "cell_type": "code",
   "execution_count": 58,
   "metadata": {
    "execution": {
     "iopub.execute_input": "2025-02-25T17:14:15.760669Z",
     "iopub.status.busy": "2025-02-25T17:14:15.760304Z",
     "iopub.status.idle": "2025-02-25T17:14:15.838249Z",
     "shell.execute_reply": "2025-02-25T17:14:15.837877Z"
    }
   },
   "outputs": [],
   "source": [
    "nulos = dados.isnull().sum()"
   ]
  },
  {
   "cell_type": "code",
   "execution_count": 59,
   "metadata": {
    "execution": {
     "iopub.execute_input": "2025-02-25T17:14:15.839926Z",
     "iopub.status.busy": "2025-02-25T17:14:15.839694Z",
     "iopub.status.idle": "2025-02-25T17:14:15.843000Z",
     "shell.execute_reply": "2025-02-25T17:14:15.842532Z"
    }
   },
   "outputs": [
    {
     "name": "stdout",
     "output_type": "stream",
     "text": [
      "SP_UF                   0\n",
      "SP_AA                   0\n",
      "SP_MM                   0\n",
      "SP_CNES                 0\n",
      "SP_NAIH                 0\n",
      "SP_PROCREA              0\n",
      "SP_DTINTER              0\n",
      "SP_DTSAIDA              0\n",
      "SP_ATOPROF              0\n",
      "SP_VALATO               0\n",
      "SP_M_HOSP               0\n",
      "SP_M_PAC                0\n",
      "SP_DES_HOS              0\n",
      "SP_DES_PAC              0\n",
      "SP_QT_PROC              0\n",
      "SP_CIDADE_H             0\n",
      "SP_CIDADE_P             0\n",
      "SP_CIDADE_P_EXT         0\n",
      "SP_N_PROC               0\n",
      "SP_N_ATOS               0\n",
      "latitude_h              0\n",
      "longitude_h             0\n",
      "latitude_p           1344\n",
      "longitude_p          1344\n",
      "latitude_p_ext     496473\n",
      "longitude_p_ext    496473\n",
      "dtype: int64\n"
     ]
    }
   ],
   "source": [
    "print(nulos)"
   ]
  },
  {
   "cell_type": "code",
   "execution_count": 60,
   "metadata": {
    "execution": {
     "iopub.execute_input": "2025-02-25T17:14:15.846411Z",
     "iopub.status.busy": "2025-02-25T17:14:15.846013Z",
     "iopub.status.idle": "2025-02-25T17:14:15.849039Z",
     "shell.execute_reply": "2025-02-25T17:14:15.848713Z"
    }
   },
   "outputs": [
    {
     "name": "stdout",
     "output_type": "stream",
     "text": [
      "Index(['SP_UF', 'SP_AA', 'SP_MM', 'SP_CNES', 'SP_NAIH', 'SP_PROCREA',\n",
      "       'SP_DTINTER', 'SP_DTSAIDA', 'SP_ATOPROF', 'SP_VALATO', 'SP_M_HOSP',\n",
      "       'SP_M_PAC', 'SP_DES_HOS', 'SP_DES_PAC', 'SP_QT_PROC', 'SP_CIDADE_H',\n",
      "       'SP_CIDADE_P', 'SP_CIDADE_P_EXT', 'SP_N_PROC', 'SP_N_ATOS',\n",
      "       'latitude_h', 'longitude_h', 'latitude_p', 'longitude_p',\n",
      "       'latitude_p_ext', 'longitude_p_ext'],\n",
      "      dtype='object')\n"
     ]
    }
   ],
   "source": [
    "print(dados.columns)"
   ]
  },
  {
   "cell_type": "code",
   "execution_count": 61,
   "metadata": {
    "execution": {
     "iopub.execute_input": "2025-02-25T17:14:15.850535Z",
     "iopub.status.busy": "2025-02-25T17:14:15.850295Z",
     "iopub.status.idle": "2025-02-25T17:14:15.904273Z",
     "shell.execute_reply": "2025-02-25T17:14:15.903808Z"
    }
   },
   "outputs": [],
   "source": [
    "dados = dados.loc[:,~dados.columns.duplicated()]"
   ]
  },
  {
   "cell_type": "code",
   "execution_count": 62,
   "metadata": {
    "execution": {
     "iopub.execute_input": "2025-02-25T17:14:15.905928Z",
     "iopub.status.busy": "2025-02-25T17:14:15.905726Z",
     "iopub.status.idle": "2025-02-25T17:14:15.943530Z",
     "shell.execute_reply": "2025-02-25T17:14:15.943031Z"
    }
   },
   "outputs": [
    {
     "name": "stdout",
     "output_type": "stream",
     "text": [
      "       SP_DES_HOS SP_CIDADE_H           SP_CIDADE_P SP_CIDADE_P_EXT  \\\n",
      "4403            1      CANOAS  Cidade de fora do RS    Cidade do RS   \n",
      "4608            1      CANOAS  Cidade de fora do RS    Cidade do RS   \n",
      "12715           1      CANOAS  Cidade de fora do RS    Cidade do RS   \n",
      "12716           1      CANOAS  Cidade de fora do RS    Cidade do RS   \n",
      "12717           1      CANOAS  Cidade de fora do RS    Cidade do RS   \n",
      "\n",
      "                                               SP_N_PROC  \\\n",
      "4403   DIAGNOSTICO E/OU ATENDIMENTO DE URGENCIA EM CL...   \n",
      "4608              PARTO NORMAL EM GESTACAO DE ALTO RISCO   \n",
      "12715  DIAGNOSTICO E/OU ATENDIMENTO DE URGENCIA EM CL...   \n",
      "12716  DIAGNOSTICO E/OU ATENDIMENTO DE URGENCIA EM CL...   \n",
      "12717  DIAGNOSTICO E/OU ATENDIMENTO DE URGENCIA EM CL...   \n",
      "\n",
      "                                               SP_N_ATOS  latitude_h  \\\n",
      "4403   DIAGNOSTICO E/OU ATENDIMENTO DE URGENCIA EM CL...    -29.9128   \n",
      "4608              PARTO NORMAL EM GESTACAO DE ALTO RISCO    -29.9128   \n",
      "12715  DIAGNOSTICO E/OU ATENDIMENTO DE URGENCIA EM CL...    -29.9128   \n",
      "12716                              DOSAGEM DE CREATININA    -29.9128   \n",
      "12717                                DOSAGEM DE MAGNESIO    -29.9128   \n",
      "\n",
      "       longitude_h  latitude_p  longitude_p  latitude_p_ext  longitude_p_ext  \n",
      "4403      -51.1857         NaN          NaN             NaN              NaN  \n",
      "4608      -51.1857         NaN          NaN             NaN              NaN  \n",
      "12715     -51.1857         NaN          NaN             NaN              NaN  \n",
      "12716     -51.1857         NaN          NaN             NaN              NaN  \n",
      "12717     -51.1857         NaN          NaN             NaN              NaN  \n"
     ]
    }
   ],
   "source": [
    "# Criando uma máscara booleana para identificar linhas onde a coluna SP_CIDADE_P é nula\n",
    "mask = dados['latitude_p'].isnull()\n",
    "\n",
    "# Aplicando a máscara para filtrar as linhas e selecionando as colunas desejadas para visualização\n",
    "linhas_nulas = dados.loc[mask, ['SP_DES_HOS','SP_CIDADE_H', 'SP_CIDADE_P',\n",
    "                             'SP_CIDADE_P_EXT', 'SP_N_PROC', 'SP_N_ATOS',\n",
    "                             'latitude_h', 'longitude_h', 'latitude_p', 'longitude_p',\n",
    "                             'latitude_p_ext', 'longitude_p_ext']]\n",
    "\n",
    "# Imprimindo algumas linhas para visualização\n",
    "print(linhas_nulas.head())"
   ]
  },
  {
   "cell_type": "code",
   "execution_count": 63,
   "metadata": {
    "execution": {
     "iopub.execute_input": "2025-02-25T17:14:15.946387Z",
     "iopub.status.busy": "2025-02-25T17:14:15.946055Z",
     "iopub.status.idle": "2025-02-25T17:14:16.369625Z",
     "shell.execute_reply": "2025-02-25T17:14:16.369315Z"
    }
   },
   "outputs": [
    {
     "name": "stdout",
     "output_type": "stream",
     "text": [
      "<class 'pandas.core.frame.DataFrame'>\n",
      "RangeIndex: 496473 entries, 0 to 496472\n",
      "Data columns (total 26 columns):\n",
      " #   Column           Non-Null Count   Dtype  \n",
      "---  ------           --------------   -----  \n",
      " 0   SP_UF            496473 non-null  int64  \n",
      " 1   SP_AA            496473 non-null  int64  \n",
      " 2   SP_MM            496473 non-null  int64  \n",
      " 3   SP_CNES          496473 non-null  int64  \n",
      " 4   SP_NAIH          496473 non-null  int64  \n",
      " 5   SP_PROCREA       496473 non-null  int64  \n",
      " 6   SP_DTINTER       496473 non-null  int64  \n",
      " 7   SP_DTSAIDA       496473 non-null  int64  \n",
      " 8   SP_ATOPROF       496473 non-null  int64  \n",
      " 9   SP_VALATO        496473 non-null  float64\n",
      " 10  SP_M_HOSP        496473 non-null  int64  \n",
      " 11  SP_M_PAC         496473 non-null  int64  \n",
      " 12  SP_DES_HOS       496473 non-null  int64  \n",
      " 13  SP_DES_PAC       496473 non-null  int64  \n",
      " 14  SP_QT_PROC       496473 non-null  int64  \n",
      " 15  SP_CIDADE_H      496473 non-null  object \n",
      " 16  SP_CIDADE_P      496473 non-null  object \n",
      " 17  SP_CIDADE_P_EXT  496473 non-null  object \n",
      " 18  SP_N_PROC        496473 non-null  object \n",
      " 19  SP_N_ATOS        496473 non-null  object \n",
      " 20  latitude_h       496473 non-null  float64\n",
      " 21  longitude_h      496473 non-null  float64\n",
      " 22  latitude_p       495129 non-null  float64\n",
      " 23  longitude_p      495129 non-null  float64\n",
      " 24  latitude_p_ext   0 non-null       float64\n",
      " 25  longitude_p_ext  0 non-null       float64\n",
      "dtypes: float64(7), int64(14), object(5)\n",
      "memory usage: 98.5+ MB\n",
      "None\n"
     ]
    }
   ],
   "source": [
    "# Remover duplicatas mantendo apenas a primeira ocorrência\n",
    "dados = dados.drop_duplicates()\n",
    "\n",
    "# Exibir o resultado\n",
    "print(dados.info())"
   ]
  },
  {
   "cell_type": "code",
   "execution_count": 64,
   "metadata": {
    "execution": {
     "iopub.execute_input": "2025-02-25T17:14:16.370931Z",
     "iopub.status.busy": "2025-02-25T17:14:16.370762Z",
     "iopub.status.idle": "2025-02-25T17:14:16.404766Z",
     "shell.execute_reply": "2025-02-25T17:14:16.404348Z"
    }
   },
   "outputs": [
    {
     "name": "stdout",
     "output_type": "stream",
     "text": [
      "   SP_UF  SP_AA  SP_MM  SP_CNES        SP_NAIH  SP_PROCREA  SP_DTINTER  \\\n",
      "0     43   2022      1  3508528  4321109205787   303010037    20211110   \n",
      "1     43   2022      1  3508528  4321109205787   303010037    20211110   \n",
      "2     43   2022      1  3508528  4321109205897   303040297    20211129   \n",
      "3     43   2022      1  3508528  4321109205897   303040297    20211129   \n",
      "4     43   2022      1  3508528  4321109205897   303040297    20211129   \n",
      "\n",
      "   SP_DTSAIDA  SP_ATOPROF  SP_VALATO  ...  SP_CIDADE_P  SP_CIDADE_P_EXT  \\\n",
      "0    20211209   204060095       0.00  ...       CANOAS     Cidade do RS   \n",
      "1    20211209   211020036       0.00  ...       CANOAS     Cidade do RS   \n",
      "2    20211228   303040297      87.85  ...       CANOAS     Cidade do RS   \n",
      "3    20211228   302040013      19.05  ...       CANOAS     Cidade do RS   \n",
      "4    20211228   302040013     127.00  ...       CANOAS     Cidade do RS   \n",
      "\n",
      "                                           SP_N_PROC  \\\n",
      "0           TRATAMENTO DE OUTRAS DOENÇAS BACTERIANAS   \n",
      "1           TRATAMENTO DE OUTRAS DOENÇAS BACTERIANAS   \n",
      "2  TRATAMENTO DE PROCESSO TOXI-INFECCIOSO DO CERE...   \n",
      "3  TRATAMENTO DE PROCESSO TOXI-INFECCIOSO DO CERE...   \n",
      "4  TRATAMENTO DE PROCESSO TOXI-INFECCIOSO DO CERE...   \n",
      "\n",
      "                                           SP_N_ATOS  latitude_h longitude_h  \\\n",
      "0                               RADIOGRAFIA DE BACIA    -29.9128    -51.1857   \n",
      "1                                  ELETROCARDIOGRAMA    -29.9128    -51.1857   \n",
      "2  TRATAMENTO DE PROCESSO TOXI-INFECCIOSO DO CERE...    -29.9128    -51.1857   \n",
      "3  ATENDIMENTO FISIOTERAPÊUTICO EM PACIENTE C/ TR...    -29.9128    -51.1857   \n",
      "4  ATENDIMENTO FISIOTERAPÊUTICO EM PACIENTE C/ TR...    -29.9128    -51.1857   \n",
      "\n",
      "  latitude_p longitude_p latitude_p_ext longitude_p_ext  \n",
      "0   -29.9128    -51.1857   cidade do RS    cidade do RS  \n",
      "1   -29.9128    -51.1857   cidade do RS    cidade do RS  \n",
      "2   -29.9128    -51.1857   cidade do RS    cidade do RS  \n",
      "3   -29.9128    -51.1857   cidade do RS    cidade do RS  \n",
      "4   -29.9128    -51.1857   cidade do RS    cidade do RS  \n",
      "\n",
      "[5 rows x 26 columns]\n"
     ]
    },
    {
     "name": "stderr",
     "output_type": "stream",
     "text": [
      "/tmp/ipykernel_33377/4003231006.py:2: FutureWarning: A value is trying to be set on a copy of a DataFrame or Series through chained assignment using an inplace method.\n",
      "The behavior will change in pandas 3.0. This inplace method will never work because the intermediate object on which we are setting values always behaves as a copy.\n",
      "\n",
      "For example, when doing 'df[col].method(value, inplace=True)', try using 'df.method({col: value}, inplace=True)' or df[col] = df[col].method(value) instead, to perform the operation inplace on the original object.\n",
      "\n",
      "\n",
      "  dados['latitude_p_ext'].fillna('cidade do RS', inplace=True)\n",
      "/tmp/ipykernel_33377/4003231006.py:2: FutureWarning: Setting an item of incompatible dtype is deprecated and will raise an error in a future version of pandas. Value 'cidade do RS' has dtype incompatible with float64, please explicitly cast to a compatible dtype first.\n",
      "  dados['latitude_p_ext'].fillna('cidade do RS', inplace=True)\n",
      "/tmp/ipykernel_33377/4003231006.py:3: FutureWarning: A value is trying to be set on a copy of a DataFrame or Series through chained assignment using an inplace method.\n",
      "The behavior will change in pandas 3.0. This inplace method will never work because the intermediate object on which we are setting values always behaves as a copy.\n",
      "\n",
      "For example, when doing 'df[col].method(value, inplace=True)', try using 'df.method({col: value}, inplace=True)' or df[col] = df[col].method(value) instead, to perform the operation inplace on the original object.\n",
      "\n",
      "\n",
      "  dados['longitude_p_ext'].fillna('cidade do RS', inplace=True)\n",
      "/tmp/ipykernel_33377/4003231006.py:3: FutureWarning: Setting an item of incompatible dtype is deprecated and will raise an error in a future version of pandas. Value 'cidade do RS' has dtype incompatible with float64, please explicitly cast to a compatible dtype first.\n",
      "  dados['longitude_p_ext'].fillna('cidade do RS', inplace=True)\n"
     ]
    }
   ],
   "source": [
    "# Substituir NaN em latitude_p e longitude_p por \"cidades de fora RS\"\n",
    "dados['latitude_p_ext'].fillna('cidade do RS', inplace=True)\n",
    "dados['longitude_p_ext'].fillna('cidade do RS', inplace=True)\n",
    "\n",
    "# Exibir o resultado\n",
    "print(dados.head())"
   ]
  },
  {
   "cell_type": "code",
   "execution_count": 65,
   "metadata": {
    "execution": {
     "iopub.execute_input": "2025-02-25T17:14:16.406174Z",
     "iopub.status.busy": "2025-02-25T17:14:16.406010Z",
     "iopub.status.idle": "2025-02-25T17:14:16.508904Z",
     "shell.execute_reply": "2025-02-25T17:14:16.508563Z"
    }
   },
   "outputs": [
    {
     "name": "stdout",
     "output_type": "stream",
     "text": [
      "<class 'pandas.core.frame.DataFrame'>\n",
      "RangeIndex: 496473 entries, 0 to 496472\n",
      "Data columns (total 26 columns):\n",
      " #   Column           Non-Null Count   Dtype  \n",
      "---  ------           --------------   -----  \n",
      " 0   SP_UF            496473 non-null  int64  \n",
      " 1   SP_AA            496473 non-null  int64  \n",
      " 2   SP_MM            496473 non-null  int64  \n",
      " 3   SP_CNES          496473 non-null  int64  \n",
      " 4   SP_NAIH          496473 non-null  int64  \n",
      " 5   SP_PROCREA       496473 non-null  int64  \n",
      " 6   SP_DTINTER       496473 non-null  int64  \n",
      " 7   SP_DTSAIDA       496473 non-null  int64  \n",
      " 8   SP_ATOPROF       496473 non-null  int64  \n",
      " 9   SP_VALATO        496473 non-null  float64\n",
      " 10  SP_M_HOSP        496473 non-null  int64  \n",
      " 11  SP_M_PAC         496473 non-null  int64  \n",
      " 12  SP_DES_HOS       496473 non-null  int64  \n",
      " 13  SP_DES_PAC       496473 non-null  int64  \n",
      " 14  SP_QT_PROC       496473 non-null  int64  \n",
      " 15  SP_CIDADE_H      496473 non-null  object \n",
      " 16  SP_CIDADE_P      496473 non-null  object \n",
      " 17  SP_CIDADE_P_EXT  496473 non-null  object \n",
      " 18  SP_N_PROC        496473 non-null  object \n",
      " 19  SP_N_ATOS        496473 non-null  object \n",
      " 20  latitude_h       496473 non-null  float64\n",
      " 21  longitude_h      496473 non-null  float64\n",
      " 22  latitude_p       495129 non-null  float64\n",
      " 23  longitude_p      495129 non-null  float64\n",
      " 24  latitude_p_ext   496473 non-null  object \n",
      " 25  longitude_p_ext  496473 non-null  object \n",
      "dtypes: float64(5), int64(14), object(7)\n",
      "memory usage: 98.5+ MB\n"
     ]
    }
   ],
   "source": [
    "dados.info()"
   ]
  },
  {
   "cell_type": "code",
   "execution_count": 66,
   "metadata": {
    "execution": {
     "iopub.execute_input": "2025-02-25T17:14:16.510255Z",
     "iopub.status.busy": "2025-02-25T17:14:16.510068Z",
     "iopub.status.idle": "2025-02-25T17:14:16.528621Z",
     "shell.execute_reply": "2025-02-25T17:14:16.527862Z"
    }
   },
   "outputs": [
    {
     "name": "stdout",
     "output_type": "stream",
     "text": [
      "longitude_p_ext\n",
      "cidade do RS    496473\n",
      "Name: count, dtype: int64\n"
     ]
    }
   ],
   "source": [
    "contador = dados['longitude_p_ext'].value_counts()\n",
    "print(contador)"
   ]
  },
  {
   "cell_type": "code",
   "execution_count": 67,
   "metadata": {
    "execution": {
     "iopub.execute_input": "2025-02-25T17:14:16.530614Z",
     "iopub.status.busy": "2025-02-25T17:14:16.530432Z",
     "iopub.status.idle": "2025-02-25T17:14:16.535882Z",
     "shell.execute_reply": "2025-02-25T17:14:16.535545Z"
    }
   },
   "outputs": [
    {
     "name": "stdout",
     "output_type": "stream",
     "text": [
      "Quantidade de valores únicos na coluna SP_NAIH: 31337\n"
     ]
    }
   ],
   "source": [
    "contagem_naih = dados['SP_NAIH'].nunique()\n",
    "\n",
    "print(f\"Quantidade de valores únicos na coluna SP_NAIH: {contagem_naih}\")"
   ]
  },
  {
   "cell_type": "code",
   "execution_count": 68,
   "metadata": {
    "execution": {
     "iopub.execute_input": "2025-02-25T17:14:16.537422Z",
     "iopub.status.busy": "2025-02-25T17:14:16.537203Z",
     "iopub.status.idle": "2025-02-25T17:14:16.602217Z",
     "shell.execute_reply": "2025-02-25T17:14:16.601812Z"
    },
    "scrolled": true
   },
   "outputs": [
    {
     "name": "stdout",
     "output_type": "stream",
     "text": [
      "SP_N_PROC\n",
      "AJUSTE MEDICAMENTOSO DE SITUACOES NEUROLOGICAS AGUDIZADAS                    27\n",
      "ALARGAMENTO DA ENTRADA VAGINAL                                                1\n",
      "ALONGAMENTO / ENCURTAMENTO MIOTENDINOSO                                       6\n",
      "ALONGAMENTO E/OU TRANSPORTE OSSEO DE OSSOS LONGOS (EXCETO DA MAO E DO PE)    10\n",
      "AMPUTACAO / DESARTICULACAO DE DEDO                                           94\n",
      "                                                                             ..\n",
      "VIDEOTORACOSCOPIA                                                             5\n",
      "VITRECTOMIA ANTERIOR                                                         11\n",
      "VULVECTOMIA AMPLIADA C/ LINFADENECTOMIA EM ONCOLOGIA                          1\n",
      "VULVECTOMIA SIMPLES                                                           2\n",
      "VULVECTOMIA SIMPLES POR TUMOR                                                 4\n",
      "Name: SP_N_PROC, Length: 662, dtype: int64\n",
      "SP_N_PROC\n",
      "1       154\n",
      "2        75\n",
      "3        47\n",
      "4        39\n",
      "5        25\n",
      "       ... \n",
      "4178      1\n",
      "400       1\n",
      "146       1\n",
      "240       1\n",
      "534       1\n",
      "Name: count, Length: 131, dtype: int64\n"
     ]
    }
   ],
   "source": [
    "dados_sem_duplicatas = dados.drop_duplicates(subset=['SP_NAIH', 'SP_N_PROC'])\n",
    "\n",
    "# Contar quantos procedimentos únicos cada paciente teve\n",
    "contagem_procedimentos = dados_sem_duplicatas.groupby('SP_N_PROC')['SP_N_PROC'].size()\n",
    "\n",
    "print(contagem_procedimentos)\n",
    "valor = contagem_procedimentos.value_counts()\n",
    "print(valor)"
   ]
  },
  {
   "cell_type": "code",
   "execution_count": 69,
   "metadata": {
    "execution": {
     "iopub.execute_input": "2025-02-25T17:14:16.603757Z",
     "iopub.status.busy": "2025-02-25T17:14:16.603549Z",
     "iopub.status.idle": "2025-02-25T17:14:30.596221Z",
     "shell.execute_reply": "2025-02-25T17:14:30.595816Z"
    }
   },
   "outputs": [
    {
     "name": "stderr",
     "output_type": "stream",
     "text": [
      "/tmp/ipykernel_33377/4234419596.py:26: UserWarning: FigureCanvasAgg is non-interactive, and thus cannot be shown\n",
      "  plt.show()\n"
     ]
    }
   ],
   "source": [
    "import pandas as pd\n",
    "import geopandas as gpd\n",
    "from shapely.geometry import Point\n",
    "import matplotlib.pyplot as plt\n",
    "import cartopy.crs as ccrs\n",
    "import cartopy.feature as cfeature\n",
    "\n",
    "# 1. Criar as geometrias a partir dos dados originais\n",
    "geometry = [Point(xy) for xy in zip(dados['longitude_h'], dados['latitude_h'])]\n",
    "\n",
    "# 2. Criar o GeoDataFrame com o sistema de coordenadas WGS84 (EPSG:4326)\n",
    "gdf = gpd.GeoDataFrame(dados, geometry=geometry, crs=\"EPSG:4326\")\n",
    "\n",
    "# 3. Filtrar valores inválidos (fora dos limites geográficos do sistema WGS84)\n",
    "gdf = gdf[(gdf['longitude_h'] >= -180) & (gdf['longitude_h'] <= 180) &\n",
    "          (gdf['latitude_h'] >= -90) & (gdf['latitude_h'] <= 90)]\n",
    "\n",
    "# 4. Plotar os dados no mapa\n",
    "fig, ax = plt.subplots(figsize=(10, 8), subplot_kw={'projection': ccrs.PlateCarree()})\n",
    "ax.add_feature(cfeature.BORDERS, linestyle=':')\n",
    "ax.add_feature(cfeature.COASTLINE)\n",
    "ax.set_extent([-74, -34, -35, 6], crs=ccrs.PlateCarree())  # Ajustar os limites para o Brasil\n",
    "gdf.plot(ax=ax, marker='o', color='red', markersize=5, label='Internações')\n",
    "plt.title('Mapa de Internações no Brasil')\n",
    "plt.legend()\n",
    "plt.show()\n"
   ]
  },
  {
   "cell_type": "code",
   "execution_count": 70,
   "metadata": {
    "execution": {
     "iopub.execute_input": "2025-02-25T17:14:30.597807Z",
     "iopub.status.busy": "2025-02-25T17:14:30.597637Z",
     "iopub.status.idle": "2025-02-25T17:14:30.599464Z",
     "shell.execute_reply": "2025-02-25T17:14:30.599207Z"
    }
   },
   "outputs": [],
   "source": [
    "# gdf = gdf.to_crs(epsg=4326)\n"
   ]
  },
  {
   "cell_type": "code",
   "execution_count": 71,
   "metadata": {
    "execution": {
     "iopub.execute_input": "2025-02-25T17:14:30.600814Z",
     "iopub.status.busy": "2025-02-25T17:14:30.600596Z",
     "iopub.status.idle": "2025-02-25T17:14:30.769472Z",
     "shell.execute_reply": "2025-02-25T17:14:30.769091Z"
    }
   },
   "outputs": [
    {
     "name": "stdout",
     "output_type": "stream",
     "text": [
      "[-51.1857 -29.9128 -51.1857 -29.9128]\n",
      "False\n",
      "True\n",
      "-29.9128 -29.9128\n",
      "   longitude_h  latitude_h\n",
      "0     -51.1857    -29.9128\n",
      "1     -51.1857    -29.9128\n",
      "2     -51.1857    -29.9128\n",
      "3     -51.1857    -29.9128\n",
      "4     -51.1857    -29.9128\n",
      "       longitude_h    latitude_h\n",
      "count  496473.0000  4.964730e+05\n",
      "mean      -51.1857 -2.991280e+01\n",
      "std         0.0000  1.065815e-14\n",
      "min       -51.1857 -2.991280e+01\n",
      "25%       -51.1857 -2.991280e+01\n",
      "50%       -51.1857 -2.991280e+01\n",
      "75%       -51.1857 -2.991280e+01\n",
      "max       -51.1857 -2.991280e+01\n"
     ]
    }
   ],
   "source": [
    "print(gdf.total_bounds)\n",
    "print(gdf.is_empty.any())  # Deve retornar False\n",
    "print(gdf.is_valid.all())  # Deve retornar True\n",
    "print(gdf.geometry.y.min(), gdf.geometry.y.max())\n",
    "print(dados[['longitude_h', 'latitude_h']].head())\n",
    "print(dados[['longitude_h', 'latitude_h']].describe())\n"
   ]
  },
  {
   "cell_type": "code",
   "execution_count": 72,
   "metadata": {
    "execution": {
     "iopub.execute_input": "2025-02-25T17:14:30.771432Z",
     "iopub.status.busy": "2025-02-25T17:14:30.771228Z",
     "iopub.status.idle": "2025-02-25T17:14:44.522920Z",
     "shell.execute_reply": "2025-02-25T17:14:44.522545Z"
    }
   },
   "outputs": [
    {
     "name": "stderr",
     "output_type": "stream",
     "text": [
      "/tmp/ipykernel_33377/3248777970.py:27: UserWarning: FigureCanvasAgg is non-interactive, and thus cannot be shown\n",
      "  plt.show()\n"
     ]
    }
   ],
   "source": [
    "# 1. Criar as geometrias a partir dos dados originais\n",
    "geometry = [Point(xy) for xy in zip(dados['longitude_h'], dados['latitude_h'])]\n",
    "\n",
    "# 2. Criar o GeoDataFrame com o sistema de coordenadas WGS84 (EPSG:4326)\n",
    "gdf = gpd.GeoDataFrame(dados, geometry=geometry, crs=\"EPSG:4326\")\n",
    "\n",
    "# 3. Filtrar valores inválidos (fora dos limites geográficos do sistema WGS84)\n",
    "gdf = gdf[(gdf['longitude_h'] >= -180) & (gdf['longitude_h'] <= 180) &\n",
    "          (gdf['latitude_h'] >= -90) & (gdf['latitude_h'] <= 90)]\n",
    "\n",
    "# 4. Configurar o gráfico para usar o sistema de coordenadas\n",
    "fig, ax = plt.subplots(figsize=(10, 8), subplot_kw={'projection': ccrs.PlateCarree()})\n",
    "\n",
    "# Adicionar o mapa básico com limites de países\n",
    "ax.add_feature(cfeature.BORDERS, linestyle=':')\n",
    "ax.add_feature(cfeature.COASTLINE)\n",
    "\n",
    "# Limitar o gráfico ao Rio Grande do Sul (coordenadas aproximadas)\n",
    "ax.set_extent([-57.65, -49.5, -34.0, -27.0], crs=ccrs.PlateCarree())  # Ajuste os limites para o RS\n",
    "\n",
    "# Plotar os pontos do GeoDataFrame no mapa\n",
    "gdf.plot(ax=ax, marker='o', color='red', markersize=5, label='Internações')\n",
    "\n",
    "# Adicionar título e legendas\n",
    "plt.title('Mapa de Internações no Rio Grande do Sul')\n",
    "plt.legend()\n",
    "plt.show()"
   ]
  },
  {
   "cell_type": "code",
   "execution_count": null,
   "metadata": {},
   "outputs": [],
   "source": []
  },
  {
   "cell_type": "code",
   "execution_count": 73,
   "metadata": {
    "execution": {
     "iopub.execute_input": "2025-02-25T17:14:44.524477Z",
     "iopub.status.busy": "2025-02-25T17:14:44.524168Z",
     "iopub.status.idle": "2025-02-25T17:14:44.600160Z",
     "shell.execute_reply": "2025-02-25T17:14:44.599623Z"
    }
   },
   "outputs": [
    {
     "name": "stdout",
     "output_type": "stream",
     "text": [
      "Cidades com latitude acima de -25: 1\n",
      "\n",
      "Linhas com latitude entre -25 e 0:\n",
      "Empty DataFrame\n",
      "Columns: [SP_UF, SP_AA, SP_MM, SP_CNES, SP_NAIH, SP_PROCREA, SP_DTINTER, SP_DTSAIDA, SP_ATOPROF, SP_VALATO, SP_M_HOSP, SP_M_PAC, SP_DES_HOS, SP_DES_PAC, SP_QT_PROC, SP_CIDADE_H, SP_CIDADE_P, SP_CIDADE_P_EXT, SP_N_PROC, SP_N_ATOS, latitude_h, longitude_h, latitude_p, longitude_p, latitude_p_ext, longitude_p_ext]\n",
      "Index: []\n",
      "\n",
      "[0 rows x 26 columns]\n"
     ]
    }
   ],
   "source": [
    "cidades_acima_menos25 = dados[dados['latitude_h'] < -25]\n",
    "\n",
    "contagem_cidades_acima_menos25 = cidades_acima_menos25['SP_CIDADE_H'].nunique()\n",
    "\n",
    "# Mostrar as linhas onde latitude_h está entre -25 e 0\n",
    "linhas_latitude_entre_menos25_e_zero = dados[(dados['latitude_h'] > -25) & (dados['latitude_h'] <= 0)]\n",
    "\n",
    "# Exibir os resultados\n",
    "print(f\"Cidades com latitude acima de -25: {contagem_cidades_acima_menos25}\")\n",
    "print(\"\\nLinhas com latitude entre -25 e 0:\")\n",
    "print(linhas_latitude_entre_menos25_e_zero)"
   ]
  },
  {
   "cell_type": "code",
   "execution_count": 74,
   "metadata": {
    "execution": {
     "iopub.execute_input": "2025-02-25T17:14:44.601659Z",
     "iopub.status.busy": "2025-02-25T17:14:44.601367Z",
     "iopub.status.idle": "2025-02-25T17:14:44.610351Z",
     "shell.execute_reply": "2025-02-25T17:14:44.609997Z"
    }
   },
   "outputs": [
    {
     "name": "stdout",
     "output_type": "stream",
     "text": [
      "Cidades com latitude acima de -25:\n",
      "Empty DataFrame\n",
      "Columns: [SP_CIDADE_H, latitude_h]\n",
      "Index: []\n"
     ]
    }
   ],
   "source": [
    "# Filtrar as cidades com latitude acima de -25\n",
    "cidades_acima_menos25 = dados[dados['latitude_h'] > -25]\n",
    "\n",
    "# Selecionar apenas as colunas de interesse: nome da cidade e latitude\n",
    "resultado = cidades_acima_menos25[['SP_CIDADE_H', 'latitude_h']]\n",
    "\n",
    "# Exibir os resultados\n",
    "print(\"Cidades com latitude acima de -25:\")\n",
    "print(resultado)"
   ]
  },
  {
   "cell_type": "code",
   "execution_count": 75,
   "metadata": {
    "execution": {
     "iopub.execute_input": "2025-02-25T17:14:44.612038Z",
     "iopub.status.busy": "2025-02-25T17:14:44.611790Z",
     "iopub.status.idle": "2025-02-25T17:14:44.615478Z",
     "shell.execute_reply": "2025-02-25T17:14:44.615172Z"
    }
   },
   "outputs": [
    {
     "name": "stdout",
     "output_type": "stream",
     "text": [
      "Número de cidades com latitude acima de -25: 0\n"
     ]
    }
   ],
   "source": [
    "# Filtrar as cidades com latitude acima de -25\n",
    "cidades_acima_menos25 = dados[dados['latitude_h'] > -25]\n",
    "\n",
    "# Contar o número de cidades únicas\n",
    "numero_cidades_acima_menos25 = cidades_acima_menos25['SP_CIDADE_H'].nunique()\n",
    "\n",
    "# Exibir o resultado\n",
    "print(f\"Número de cidades com latitude acima de -25: {numero_cidades_acima_menos25}\")"
   ]
  },
  {
   "cell_type": "code",
   "execution_count": 76,
   "metadata": {
    "execution": {
     "iopub.execute_input": "2025-02-25T17:14:44.616916Z",
     "iopub.status.busy": "2025-02-25T17:14:44.616659Z",
     "iopub.status.idle": "2025-02-25T17:14:44.620374Z",
     "shell.execute_reply": "2025-02-25T17:14:44.620069Z"
    },
    "scrolled": true
   },
   "outputs": [
    {
     "name": "stdout",
     "output_type": "stream",
     "text": [
      "Cidades com latitude acima de -25:\n"
     ]
    }
   ],
   "source": [
    "# Filtrar as cidades com latitude acima de -25\n",
    "cidades_acima_menos25 = dados[dados['latitude_h'] > -25]\n",
    "\n",
    "# Obter as informações relevantes (nome, latitude, longitude)\n",
    "cidades_info = cidades_acima_menos25[['SP_CIDADE_H', 'latitude_h', 'longitude_h']].drop_duplicates()\n",
    "\n",
    "# Exibir o resultado\n",
    "print(\"Cidades com latitude acima de -25:\")\n",
    "for index, row in cidades_info.iterrows():\n",
    "    print(f\"Nome: {row['SP_CIDADE_H']}, Latitude: {row['latitude_h']}, Longitude: {row['longitude_h']}\")"
   ]
  },
  {
   "cell_type": "code",
   "execution_count": 77,
   "metadata": {
    "execution": {
     "iopub.execute_input": "2025-02-25T17:14:44.621557Z",
     "iopub.status.busy": "2025-02-25T17:14:44.621411Z",
     "iopub.status.idle": "2025-02-25T17:14:44.645890Z",
     "shell.execute_reply": "2025-02-25T17:14:44.645502Z"
    }
   },
   "outputs": [
    {
     "name": "stdout",
     "output_type": "stream",
     "text": [
      "A cidade 'Lajeado do Bugre' foi encontrada.\n"
     ]
    }
   ],
   "source": [
    "# Verificar se existe a cidade \"Lajeado do Bugre\"\n",
    "cidade_lajeado_bugre = dados[dados['SP_CIDADE_P'] == 'MARAU']\n",
    "\n",
    "# Exibir o resultado\n",
    "if not cidade_lajeado_bugre.empty:\n",
    "    print(\"A cidade 'Lajeado do Bugre' foi encontrada.\")\n",
    "else:\n",
    "    print(\"A cidade 'Lajeado do Bugre' não foi encontrada.\")"
   ]
  },
  {
   "cell_type": "code",
   "execution_count": 78,
   "metadata": {
    "execution": {
     "iopub.execute_input": "2025-02-25T17:14:44.647455Z",
     "iopub.status.busy": "2025-02-25T17:14:44.647291Z",
     "iopub.status.idle": "2025-02-25T17:14:44.656424Z",
     "shell.execute_reply": "2025-02-25T17:14:44.656064Z"
    }
   },
   "outputs": [
    {
     "name": "stdout",
     "output_type": "stream",
     "text": [
      "Não foram encontradas cidades fora do Rio Grande do Sul com latitude maior que -25 que têm cidades com o mesmo nome no RS.\n"
     ]
    }
   ],
   "source": [
    "import pandas as pd\n",
    "\n",
    "# Carregar o arquivo municipios.csv\n",
    "municipios = pd.read_csv('municipios.csv')\n",
    "\n",
    "# Filtrar as cidades fora do Rio Grande do Sul com latitude > -25\n",
    "cidades_foras_rgs = dados[dados['latitude_h'] > -25]\n",
    "\n",
    "# Criar uma lista para armazenar os resultados\n",
    "resultados = []\n",
    "\n",
    "# Iterar sobre as cidades fora do Rio Grande do Sul\n",
    "for index, row in cidades_foras_rgs.iterrows():\n",
    "    nome_cidade = row['SP_CIDADE_H']\n",
    "    latitude_for = row['latitude_h']\n",
    "    \n",
    "    # Verificar se existe uma cidade com o mesmo nome e latitude < -25 no municipios.csv\n",
    "    cidade_info = municipios[municipios['nome'] == nome_cidade]\n",
    "    cidade_rgs = cidade_info[cidade_info['latitude'] < -25]\n",
    "    \n",
    "    # Se a cidade for encontrada, adicionar à lista de resultados\n",
    "    if not cidade_rgs.empty:\n",
    "        resultados.append((nome_cidade, latitude_for))\n",
    "\n",
    "# Exibir os resultados\n",
    "if resultados:\n",
    "    print(\"Cidades fora do Rio Grande do Sul com latitude maior que -25 que têm cidades com o mesmo nome no RS:\")\n",
    "    for cidade, lat in resultados:\n",
    "        print(f\"{cidade} (latitude fora do RS: {lat})\")\n",
    "else:\n",
    "    print(\"Não foram encontradas cidades fora do Rio Grande do Sul com latitude maior que -25 que têm cidades com o mesmo nome no RS.\")"
   ]
  },
  {
   "cell_type": "code",
   "execution_count": 79,
   "metadata": {
    "execution": {
     "iopub.execute_input": "2025-02-25T17:14:44.657883Z",
     "iopub.status.busy": "2025-02-25T17:14:44.657608Z",
     "iopub.status.idle": "2025-02-25T17:14:44.710658Z",
     "shell.execute_reply": "2025-02-25T17:14:44.710139Z"
    }
   },
   "outputs": [
    {
     "name": "stdout",
     "output_type": "stream",
     "text": [
      "Cidades com latitude menor que -25:\n",
      "Nome: TRIUNFO, Latitude: -29.9291, Longitude: -51.7075\n",
      "Nome: TRIUNFO, Latitude: -29.9291, Longitude: -51.7075\n",
      "Nome: SÃO FRANCISCO DE PAULA, Latitude: -29.4404, Longitude: -50.5828\n",
      "Nome: BOM JESUS, Latitude: -26.7326, Longitude: -52.3919\n",
      "Nome: BOM JESUS, Latitude: -26.7326, Longitude: -52.3919\n",
      "Nome: BOM JESUS, Latitude: -26.7326, Longitude: -52.3919\n",
      "Nome: CAIÇARA, Latitude: -27.2791, Longitude: -53.4257\n",
      "Nome: SANTA MARIA, Latitude: -29.6868, Longitude: -53.8149\n",
      "Nome: MARAU, Latitude: -28.4498, Longitude: -52.1986\n",
      "Nome: SÃO GABRIEL, Latitude: -30.3337, Longitude: -54.3217\n",
      "Nome: HUMAITÁ, Latitude: -27.5691, Longitude: -53.9695\n",
      "Nome: MARAU, Latitude: -28.4498, Longitude: -52.1986\n",
      "Nome: SÃO GABRIEL, Latitude: -30.3337, Longitude: -54.3217\n",
      "Nome: SANTA MARIA, Latitude: -29.6868, Longitude: -53.8149\n",
      "Nome: SÃO FRANCISCO DE PAULA, Latitude: -29.4404, Longitude: -50.5828\n",
      "Nome: TRIUNFO, Latitude: -29.9291, Longitude: -51.7075\n",
      "Nome: HUMAITÁ, Latitude: -27.5691, Longitude: -53.9695\n",
      "Nome: BOM JESUS, Latitude: -26.7326, Longitude: -52.3919\n",
      "Nome: CAIÇARA, Latitude: -27.2791, Longitude: -53.4257\n"
     ]
    }
   ],
   "source": [
    "import pandas as pd\n",
    "cidades_procuradas = [\n",
    "    \"ALVORADA\", \"CACHOEIRINHA\", \"CACHOEIRINHA\", \"LAJEADO\", \"VERA CRUZ\",\n",
    "    \"VERA CRUZ\", \"VERA CRUZ\", \"TRIUNFO\", \"TRIUNFO\", \"SÃO FRANCISCO DE PAULA\",\n",
    "    \"BOM JESUS\", \"BOM JESUS\", \"BOM JESUS\", \"SOBRADINHO\", \"PLANALTO\",\n",
    "    \"PLANALTO\", \"CRUZEIRO DO SUL\", \"CRUZEIRO DO SUL\", \"CAIÇARA\", \"SANTA MARIA\",\n",
    "    \"MARAU\", \"SÃO GABRIEL\", \"HUMAITÁ\", \"TAPEJARA\", \"SARANDI\", \"SOLEDADE\",\n",
    "    \"SARANDI\", \"LAJEADO\", \"PLANALTO\", \"MARAU\", \"SOLEDADE\",\n",
    "    \"CACHOEIRINHA\", \"ALVORADA\", \"SÃO GABRIEL\", \"SOBRADINHO\",\n",
    "    \"SANTA MARIA\", \"SÃO FRANCISCO DE PAULA\", \"VERA CRUZ\",\n",
    "    \"TAPEJARA\", \"TRIUNFO\", \"HUMAITÁ\", \"CRUZEIRO DO SUL\",\n",
    "    \"BOM JESUS\", \"CAIÇARA\"\n",
    "]\n",
    "\n",
    "# Criar uma lista para armazenar as informações encontradas\n",
    "cidades_info = []\n",
    "\n",
    "# Iterar sobre as cidades procuradas\n",
    "for cidade in cidades_procuradas:\n",
    "    # Filtrar as linhas correspondentes no DataFrame de municípios (sem considerar maiúsculas/minúsculas)\n",
    "    cidade_info = municipios[municipios['nome'].str.lower() == cidade.lower()]\n",
    "\n",
    "    # Verificar se a cidade foi encontrada e se sua latitude é menor que -25\n",
    "    if not cidade_info.empty:\n",
    "        lat = cidade_info['latitude'].values[0]\n",
    "        lon = cidade_info['longitude'].values[0]\n",
    "        \n",
    "        if lat < -25:  # Verifica se a latitude é menor que -25\n",
    "            cidades_info.append((cidade, lat, lon))\n",
    "\n",
    "# Exibir os resultados\n",
    "print(\"Cidades com latitude menor que -25:\")\n",
    "for cidade, lat, lon in cidades_info:\n",
    "    print(f\"Nome: {cidade}, Latitude: {lat}, Longitude: {lon}\")"
   ]
  },
  {
   "cell_type": "code",
   "execution_count": 80,
   "metadata": {
    "execution": {
     "iopub.execute_input": "2025-02-25T17:14:44.712559Z",
     "iopub.status.busy": "2025-02-25T17:14:44.712236Z",
     "iopub.status.idle": "2025-02-25T17:14:47.189486Z",
     "shell.execute_reply": "2025-02-25T17:14:47.189092Z"
    }
   },
   "outputs": [],
   "source": [
    "import pandas as pd\n",
    "\n",
    "# Supondo que o DataFrame 'dados' já está carregado\n",
    "\n",
    "# Lista consolidada de cidades com suas respectivas coordenadas\n",
    "cidades_coordenadas = [\n",
    "    {\"cidade\": \"INDEPENDÊNCIA\", \"latitude\": -27.8354, \"longitude\": -54.1886},\n",
    "    {\"cidade\": \"COLORADO\", \"latitude\": -28.5258, \"longitude\": -52.9928},\n",
    "    {\"cidade\": \"NOVA SANTA RITA\", \"latitude\": -29.8525, \"longitude\": -51.2837},\n",
    "    {\"cidade\": \"JACUTINGA\", \"latitude\": -27.7291, \"longitude\": -52.5372},\n",
    "    {\"cidade\": \"CENTENÁRIO\", \"latitude\": -27.7615, \"longitude\": -51.9984},\n",
    "    {\"cidade\": \"SOLEDADE\", \"latitude\": -28.8306, \"longitude\": -52.5131},\n",
    "    {\"cidade\": \"SÃO MARTINHO\", \"latitude\": -27.7112, \"longitude\": -53.9699},\n",
    "    {\"cidade\": \"SÃO GABRIEL\", \"latitude\": -30.3337, \"longitude\": -54.3217},\n",
    "    {\"cidade\": \"HUMAITÁ\", \"latitude\": -27.5691, \"longitude\": -53.9695},\n",
    "    {\"cidade\": \"BOM JESUS\", \"latitude\": -28.6697, \"longitude\": -50.4295},\n",
    "    {\"cidade\": \"SANTA MARIA\", \"latitude\": -29.6868, \"longitude\": -53.8149},\n",
    "    {\"cidade\": \"SÃO FRANCISCO DE PAULA\", \"latitude\": -29.4404, \"longitude\": -50.5828},\n",
    "    {\"cidade\": \"TRIUNFO\", \"latitude\": -29.9291, \"longitude\": -51.7075},\n",
    "    {\"cidade\": \"CAIÇARA\", \"latitude\": -27.2791, \"longitude\": -53.4257},\n",
    "    {\"cidade\": \"MARAU\", \"latitude\": -28.4498, \"longitude\": -52.1986},\n",
    "    {\"cidade\": \"ALTO ALEGRE\", \"latitude\": -28.7769, \"longitude\": -52.9893},\n",
    "    {\"cidade\": \"COLINAS\", \"latitude\": -29.3948, \"longitude\": -51.8556},\n",
    "    {\"cidade\": \"TAVARES\", \"latitude\": -31.2843, \"longitude\": -51.0880},\n",
    "]\n",
    "\n",
    "# Loop para atualizar as latitudes e longitudes no DataFrame\n",
    "for cidade_info in cidades_coordenadas:\n",
    "    cidade = cidade_info[\"cidade\"].lower()\n",
    "    nova_latitude = cidade_info[\"latitude\"]\n",
    "    nova_longitude = cidade_info[\"longitude\"]\n",
    "\n",
    "    # Atualizar latitude e longitude para 'SP_CIDADE_H'\n",
    "    dados.loc[dados['SP_CIDADE_H'].str.lower() == cidade, ['latitude_h', 'longitude_h']] = [nova_latitude, nova_longitude]\n",
    "\n",
    "    # Atualizar latitude e longitude para 'SP_CIDADE_P'\n",
    "    dados.loc[dados['SP_CIDADE_P'].str.lower() == cidade, ['latitude_p', 'longitude_p']] = [nova_latitude, nova_longitude]\n"
   ]
  },
  {
   "cell_type": "code",
   "execution_count": 81,
   "metadata": {
    "execution": {
     "iopub.execute_input": "2025-02-25T17:14:47.191331Z",
     "iopub.status.busy": "2025-02-25T17:14:47.191055Z",
     "iopub.status.idle": "2025-02-25T17:14:58.936996Z",
     "shell.execute_reply": "2025-02-25T17:14:58.935888Z"
    }
   },
   "outputs": [
    {
     "name": "stdout",
     "output_type": "stream",
     "text": [
      "Cidades com latitude maior que -25 (únicas):\n",
      "Nome: PLANALTO, Latitude: -14.6654, Longitude: -40.4718\n",
      "Nome: CACHOEIRINHA, Latitude: -6.1156, Longitude: -47.9234\n",
      "Nome: VERA CRUZ, Latitude: -6.04399, Longitude: -35428.0\n",
      "Nome: VERA CRUZ, Latitude: -22.2183, Longitude: -49.8207\n",
      "Nome: PLANALTO, Latitude: -21.0342, Longitude: -49933.0\n",
      "Nome: CACHOEIRINHA, Latitude: -8.48668, Longitude: -36.2402\n",
      "Nome: VERA CRUZ, Latitude: -12.9568, Longitude: -38.6153\n",
      "Nome: ALVORADA, Latitude: -12.4785, Longitude: -49.1249\n",
      "Nome: CRUZEIRO DO SUL, Latitude: -7.62762, Longitude: -72.6756\n",
      "Nome: CRUZEIRO DO SUL, Latitude: -22.9624, Longitude: -52.1622\n",
      "Nome: LAJEADO, Latitude: -9.74996, Longitude: -48.3565\n",
      "Nome: SOBRADINHO, Latitude: -9.45024, Longitude: -40.8145\n",
      "Nome: TAPEJARA, Latitude: -23.7315, Longitude: -52.8735\n"
     ]
    }
   ],
   "source": [
    "import pandas as pd\n",
    "\n",
    "# Supondo que o DataFrame 'dados' já está carregado\n",
    "\n",
    "# Criar um conjunto para armazenar as informações únicas\n",
    "cidades_info = set()\n",
    "\n",
    "# Verificar todas as colunas de latitude e suas respectivas longitudes e cidades\n",
    "for index, row in dados.iterrows():\n",
    " \n",
    "    # Verificar 'SP_CIDADE_P', 'latitude_p', 'longitude_p'\n",
    "    if row['latitude_p'] > -25:\n",
    "        cidades_info.add((row['SP_CIDADE_P'], row['latitude_p'], row['longitude_p']))\n",
    "\n",
    "\n",
    "\n",
    "# Exibir os resultados\n",
    "print(\"Cidades com latitude maior que -25 (únicas):\")\n",
    "for cidade, lat, lon in cidades_info:\n",
    "    print(f\"Nome: {cidade}, Latitude: {lat}, Longitude: {lon}\")"
   ]
  },
  {
   "cell_type": "code",
   "execution_count": 82,
   "metadata": {
    "execution": {
     "iopub.execute_input": "2025-02-25T17:14:58.938849Z",
     "iopub.status.busy": "2025-02-25T17:14:58.938673Z",
     "iopub.status.idle": "2025-02-25T17:15:11.114479Z",
     "shell.execute_reply": "2025-02-25T17:15:11.113826Z"
    }
   },
   "outputs": [
    {
     "name": "stdout",
     "output_type": "stream",
     "text": [
      "Cidades com longitude maior que -49:\n"
     ]
    }
   ],
   "source": [
    "import pandas as pd\n",
    "\n",
    "# Supondo que o DataFrame 'dados' já está carregado\n",
    "\n",
    "# Criar uma lista para armazenar as cidades com longitude maior que -49\n",
    "cidades_longitude_maior_49 = []\n",
    "\n",
    "# Iterar sobre as linhas do DataFrame para encontrar cidades com longitude maior que -49\n",
    "for index, row in dados.iterrows():\n",
    "    if row['longitude_h'] > -49:  # Verifica se a longitude é maior que -49\n",
    "        cidades_longitude_maior_49.append(row['SP_CIDADE_H'])\n",
    "\n",
    "# Obter apenas os nomes únicos das cidades\n",
    "cidades_longitude_maior_49_unicas = list(set(cidades_longitude_maior_49))\n",
    "\n",
    "# Exibir os resultados\n",
    "print(\"Cidades com longitude maior que -49:\")\n",
    "for cidade in cidades_longitude_maior_49_unicas:\n",
    "    print(cidade)"
   ]
  },
  {
   "cell_type": "code",
   "execution_count": 83,
   "metadata": {
    "execution": {
     "iopub.execute_input": "2025-02-25T17:15:11.115865Z",
     "iopub.status.busy": "2025-02-25T17:15:11.115711Z",
     "iopub.status.idle": "2025-02-25T17:15:11.121903Z",
     "shell.execute_reply": "2025-02-25T17:15:11.121558Z"
    }
   },
   "outputs": [
    {
     "name": "stdout",
     "output_type": "stream",
     "text": [
      "Empty DataFrame\n",
      "Columns: [SP_CIDADE_H, latitude_h, longitude_h]\n",
      "Index: []\n"
     ]
    }
   ],
   "source": [
    "# Definir os limites do Rio Grande do Sul\n",
    "latitude_min = -33.0\n",
    "latitude_max = -27.0\n",
    "longitude_min = -57.0\n",
    "longitude_max = -49.0\n",
    "\n",
    "# Filtrar cidades fora dos limites do Rio Grande do Sul\n",
    "cidades_fora = dados[\n",
    "    ~((dados['latitude_h'].between(latitude_min, latitude_max)) &\n",
    "      (dados['longitude_h'].between(longitude_min, longitude_max)))\n",
    "]\n",
    "\n",
    "print(cidades_fora[['SP_CIDADE_H', 'latitude_h', 'longitude_h']].drop_duplicates())"
   ]
  },
  {
   "cell_type": "raw",
   "metadata": {},
   "source": [
    "nao era pra estar tao inconsistente essas coordenadas"
   ]
  },
  {
   "cell_type": "code",
   "execution_count": 84,
   "metadata": {
    "execution": {
     "iopub.execute_input": "2025-02-25T17:15:11.123228Z",
     "iopub.status.busy": "2025-02-25T17:15:11.122995Z",
     "iopub.status.idle": "2025-02-25T17:15:11.131470Z",
     "shell.execute_reply": "2025-02-25T17:15:11.130750Z"
    }
   },
   "outputs": [
    {
     "name": "stdout",
     "output_type": "stream",
     "text": [
      "Empty DataFrame\n",
      "Columns: [SP_CIDADE_H, latitude_h, longitude_h]\n",
      "Index: []\n"
     ]
    }
   ],
   "source": [
    "inconsistencias = dados[\n",
    "    (dados['latitude_h'] > 0) |  # Latitudes positivas não estão no Brasil\n",
    "    (dados['longitude_h'] > 0) |  # Longitudes positivas estão fora do Brasil\n",
    "    (dados['latitude_h'] < -35) |  # Latitudes muito ao sul\n",
    "    (dados['latitude_h'] > -25) |  # Latitudes muito ao norte\n",
    "    (dados['longitude_h'] < -60) |  # Longitudes muito ao oeste\n",
    "    (dados['longitude_h'] > -45)  # Longitudes muito ao leste\n",
    "]\n",
    "# coordenadas problemáticas\n",
    "print(inconsistencias[['SP_CIDADE_H', 'latitude_h', 'longitude_h']].drop_duplicates())\n"
   ]
  },
  {
   "cell_type": "code",
   "execution_count": 85,
   "metadata": {
    "execution": {
     "iopub.execute_input": "2025-02-25T17:15:11.132776Z",
     "iopub.status.busy": "2025-02-25T17:15:11.132609Z",
     "iopub.status.idle": "2025-02-25T17:15:17.436948Z",
     "shell.execute_reply": "2025-02-25T17:15:17.436531Z"
    }
   },
   "outputs": [],
   "source": [
    "# Dicionário com as coordenadas corretas para as cidades\n",
    "correcao_coordenadas = {\n",
    "    \"GARIBALDI\": {\"latitude_h\": -29.259, \"longitude_h\": -51.5352},\n",
    "    \"ALVORADA\": {\"latitude_h\": -29.9914, \"longitude_h\": -51.0809},\n",
    "    \"CACHOEIRA DO SUL\": {\"latitude_h\": -30.0331, \"longitude_h\": -52.8926},\n",
    "    \"SÃO LUIZ GONZAGA\": {\"latitude_h\": -28.4088, \"longitude_h\": -54.9559},\n",
    "    \"RIO PARDO\": {\"latitude_h\": -29.9881, \"longitude_h\": -52.3712},\n",
    "    \"SÃO MIGUEL DAS MISSÕES\": {\"latitude_h\": -28.5561, \"longitude_h\": -54.5559},\n",
    "    \"SANTO CRISTO\": {\"latitude_h\": -27.8263, \"longitude_h\": -54.662},\n",
    "    \"RIOZINHO\": {\"latitude_h\": -29.639, \"longitude_h\": -50.4488},\n",
    "    \"SANTA CRUZ DO SUL\": {\"latitude_h\": -29.722, \"longitude_h\": -52.4343},\n",
    "    \"MUÇUM\": {\"latitude_h\": -29.1633, \"longitude_h\": -51.8715},\n",
    "    \"SAPUCAIA DO SUL\": {\"latitude_h\": -29.8334, \"longitude_h\": -51.1441},\n",
    "    \"DOIS LAJEADOS\": {\"latitude_h\": -28.983, \"longitude_h\": -51.8396},\n",
    "    \"ENCRUZILHADA DO SUL\": {\"latitude_h\": -30.5433, \"longitude_h\": -52.5204},\n",
    "    \"CRUZ ALTA\": {\"latitude_h\": -28.645, \"longitude_h\": -53.6048},\n",
    "    \"CRUZEIRO DO SUL\": {\"latitude_h\": -29.516, \"longitude_h\": -52.0788},\n",
    "    \"CANGUÇU\": {\"latitude_h\": -31.396, \"longitude_h\": -52.6783},\n",
    "    \"SANANDUVA\": {\"latitude_h\": -27.9473, \"longitude_h\": -51.8078},\n",
    "    \"IJUÍ\": {\"latitude_h\": -28.3881, \"longitude_h\": -53.9201},\n",
    "    \"SANTA BÁRBARA DO SUL\": {\"latitude_h\": -28.3654, \"longitude_h\": -53.2511},\n",
    "    \"JAGUARÃO\": {\"latitude_h\": -32.5604, \"longitude_h\": -53.3778},\n",
    "    \"SANTA VITÓRIA DO PALMAR\": {\"latitude_h\": -33.525, \"longitude_h\": -53.3717},\n",
    "    \"JAGUARI\": {\"latitude_h\": -29.4936, \"longitude_h\": -54.703},\n",
    "    \"HERVAL\": {\"latitude_h\": -32.0242, \"longitude_h\": -53.3944},\n",
    "    \"CACEQUI\": {\"latitude_h\": -29.8883, \"longitude_h\": -54.822},\n",
    "    \"TAPEJARA\": {\"latitude_h\": -28.065, \"longitude_h\": -52.009},\n",
    "    \"NOVA PALMA\": {\"latitude_h\": -29.471, \"longitude_h\": -53.4689},\n",
    "    \"CONSTANTINA\": {\"latitude_h\": -27.7324, \"longitude_h\": -52.9938},\n",
    "    \"SARANDI\": {\"latitude_h\": -27.942, \"longitude_h\": -52.9231},\n",
    "    \"PARAÍSO DO SUL\": {\"latitude_h\": -29.6717, \"longitude_h\": -53.1444},\n",
    "    \"CANELA\": {\"latitude_h\": -29.356, \"longitude_h\": -50.8119},\n",
    "    \"MAXIMILIANO DE ALMEIDA\": {\"latitude_h\": -27.6325, \"longitude_h\": -51.8018},\n",
    "    \"PAIM FILHO\": {\"latitude_h\": -27.7075, \"longitude_h\": -51.763},\n",
    "    \"PALMITINHO\": {\"latitude_h\": -27.3596, \"longitude_h\": -53.558},\n",
    "    \"CHIAPETTA\": {\"latitude_h\": -28.923, \"longitude_h\": -53.9419},\n",
    "    \"AMETISTA DO SUL\": {\"latitude_h\": -27.3607, \"longitude_h\": -53.183},\n",
    "    \"SALDANHA MARINHO\": {\"latitude_h\": -28.3941, \"longitude_h\": -53.097},\n",
    "    \"PINHAL GRANDE\": {\"latitude_h\": -29.345, \"longitude_h\": -53.3206},\n",
    "    \"QUARAÍ\": {\"latitude_h\": -30.3844, \"longitude_h\": -56.4483},\n",
    "    \"ESTEIO\": {\"latitude_h\": -29.8522, \"longitude_h\": -51.184}\n",
    "}\n",
    "\n",
    "# Atualizar as coordenadas no DataFrame\n",
    "for cidade, coords in correcao_coordenadas.items():\n",
    "    # Atualizar para SP_CIDADE_H\n",
    "    dados.loc[dados['SP_CIDADE_H'].str.upper() == cidade, ['latitude_h', 'longitude_h']] = [coords['latitude_h'], coords['longitude_h']]\n",
    "    # Se houver uma coluna para SP_CIDADE_P, também pode ser atualizada da mesma maneira\n",
    "    if 'latitude_p' in dados.columns and 'longitude_p' in dados.columns:\n",
    "        dados.loc[dados['SP_CIDADE_P'].str.upper() == cidade, ['latitude_p', 'longitude_p']] = [coords['latitude_h'], coords['longitude_h']]\n"
   ]
  },
  {
   "cell_type": "code",
   "execution_count": 86,
   "metadata": {
    "execution": {
     "iopub.execute_input": "2025-02-25T17:15:17.438660Z",
     "iopub.status.busy": "2025-02-25T17:15:17.438447Z",
     "iopub.status.idle": "2025-02-25T17:15:18.238748Z",
     "shell.execute_reply": "2025-02-25T17:15:18.238290Z"
    }
   },
   "outputs": [],
   "source": [
    "# Adicionar as coordenadas corretas para as cidades\n",
    "correcao_coordenadas = {\n",
    "    \"CACHOEIRINHA\": {\"latitude\": -29.9501, \"longitude\": -51.0913},\n",
    "    \"LAJEADO\": {\"latitude\": -29.4632, \"longitude\": -51.9644},\n",
    "    \"SOBRADINHO\": {\"latitude\": -29.4194, \"longitude\": -52.6267},\n",
    "    \"VERA CRUZ\": {\"latitude\": -29.7183, \"longitude\": -52.5154},\n",
    "    \"PLANALTO\": {\"latitude\": -27.3297, \"longitude\": -53.0575},\n",
    "}\n",
    "\n",
    "# Atualizar as coordenadas no DataFrame\n",
    "for cidade, coords in correcao_coordenadas.items():\n",
    "    # Atualizar para SP_CIDADE_H\n",
    "    dados.loc[dados['SP_CIDADE_H'].str.upper() == cidade, ['latitude_h', 'longitude_h']] = [coords['latitude'], coords['longitude']]\n",
    "    # Atualizar para SP_CIDADE_P (se necessário, ajuste a coluna)\n",
    "    dados.loc[dados['SP_CIDADE_P'].str.upper() == cidade, ['latitude_p', 'longitude_p']] = [coords['latitude'], coords['longitude']]\n"
   ]
  },
  {
   "cell_type": "code",
   "execution_count": 87,
   "metadata": {
    "execution": {
     "iopub.execute_input": "2025-02-25T17:15:18.241727Z",
     "iopub.status.busy": "2025-02-25T17:15:18.241489Z",
     "iopub.status.idle": "2025-02-25T17:15:31.985796Z",
     "shell.execute_reply": "2025-02-25T17:15:31.985272Z"
    },
    "scrolled": true
   },
   "outputs": [
    {
     "name": "stderr",
     "output_type": "stream",
     "text": [
      "/tmp/ipykernel_33377/392953639.py:29: UserWarning: FigureCanvasAgg is non-interactive, and thus cannot be shown\n",
      "  plt.show()\n"
     ]
    }
   ],
   "source": [
    "# 1. Criar as geometrias a partir dos dados originais\n",
    "geometry = [Point(xy) for xy in zip(dados['longitude_h'], dados['latitude_h'])]\n",
    "\n",
    "# 2. Criar o GeoDataFrame com o sistema de coordenadas WGS84 (EPSG:4326)\n",
    "gdf = gpd.GeoDataFrame(dados, geometry=geometry, crs=\"EPSG:4326\")\n",
    "\n",
    "# 3. Filtrar valores inválidos (fora dos limites geográficos do sistema WGS84)\n",
    "gdf = gdf[(gdf['longitude_h'] >= -180) & (gdf['longitude_h'] <= 180) &\n",
    "          (gdf['latitude_h'] >= -90) & (gdf['latitude_h'] <= 90)]\n",
    "\n",
    "# 4. Configurar o gráfico para usar o sistema de coordenadas\n",
    "fig, ax = plt.subplots(figsize=(10, 8), subplot_kw={'projection': ccrs.PlateCarree()})\n",
    "\n",
    "# Adicionar o mapa básico com limites de países\n",
    "ax.add_feature(cfeature.BORDERS, linestyle=':')\n",
    "ax.add_feature(cfeature.COASTLINE)\n",
    "\n",
    "# Limitar o gráfico ao Rio Grande do Sul (coordenadas aproximadas)\n",
    "ax.set_extent([-57.65, -49.5, -34.0, -27.0], crs=ccrs.PlateCarree())  # Ajuste os limites para o RS\n",
    "\n",
    "# Plotar os pontos do GeoDataFrame no mapa\n",
    "gdf.plot(ax=ax, marker='o', color='red', markersize=5, label='Internações')\n",
    "\n",
    "# Adicionar título e legendas\n",
    "plt.title('Mapa de Internações no Rio Grande do Sul', fontsize=16)\n",
    "plt.legend(loc='upper left', fontsize=12)\n",
    "\n",
    "# Exibir o gráfico\n",
    "plt.show()"
   ]
  },
  {
   "cell_type": "code",
   "execution_count": 88,
   "metadata": {
    "execution": {
     "iopub.execute_input": "2025-02-25T17:15:31.987248Z",
     "iopub.status.busy": "2025-02-25T17:15:31.987061Z",
     "iopub.status.idle": "2025-02-25T17:15:45.509116Z",
     "shell.execute_reply": "2025-02-25T17:15:45.508534Z"
    }
   },
   "outputs": [
    {
     "name": "stderr",
     "output_type": "stream",
     "text": [
      "/tmp/ipykernel_33377/4234419596.py:26: UserWarning: FigureCanvasAgg is non-interactive, and thus cannot be shown\n",
      "  plt.show()\n"
     ]
    }
   ],
   "source": [
    "import pandas as pd\n",
    "import geopandas as gpd\n",
    "from shapely.geometry import Point\n",
    "import matplotlib.pyplot as plt\n",
    "import cartopy.crs as ccrs\n",
    "import cartopy.feature as cfeature\n",
    "\n",
    "# 1. Criar as geometrias a partir dos dados originais\n",
    "geometry = [Point(xy) for xy in zip(dados['longitude_h'], dados['latitude_h'])]\n",
    "\n",
    "# 2. Criar o GeoDataFrame com o sistema de coordenadas WGS84 (EPSG:4326)\n",
    "gdf = gpd.GeoDataFrame(dados, geometry=geometry, crs=\"EPSG:4326\")\n",
    "\n",
    "# 3. Filtrar valores inválidos (fora dos limites geográficos do sistema WGS84)\n",
    "gdf = gdf[(gdf['longitude_h'] >= -180) & (gdf['longitude_h'] <= 180) &\n",
    "          (gdf['latitude_h'] >= -90) & (gdf['latitude_h'] <= 90)]\n",
    "\n",
    "# 4. Plotar os dados no mapa\n",
    "fig, ax = plt.subplots(figsize=(10, 8), subplot_kw={'projection': ccrs.PlateCarree()})\n",
    "ax.add_feature(cfeature.BORDERS, linestyle=':')\n",
    "ax.add_feature(cfeature.COASTLINE)\n",
    "ax.set_extent([-74, -34, -35, 6], crs=ccrs.PlateCarree())  # Ajustar os limites para o Brasil\n",
    "gdf.plot(ax=ax, marker='o', color='red', markersize=5, label='Internações')\n",
    "plt.title('Mapa de Internações no Brasil')\n",
    "plt.legend()\n",
    "plt.show()\n"
   ]
  },
  {
   "cell_type": "code",
   "execution_count": 89,
   "metadata": {
    "execution": {
     "iopub.execute_input": "2025-02-25T17:15:45.510655Z",
     "iopub.status.busy": "2025-02-25T17:15:45.510356Z",
     "iopub.status.idle": "2025-02-25T17:15:49.589099Z",
     "shell.execute_reply": "2025-02-25T17:15:49.588686Z"
    },
    "scrolled": true
   },
   "outputs": [
    {
     "name": "stdout",
     "output_type": "stream",
     "text": [
      "Arquivo 'dados_RS.csv' atualizado com sucesso!\n"
     ]
    }
   ],
   "source": [
    "dados.to_csv('dados_RS.csv', index=False)\n",
    "print(\"Arquivo 'dados_RS.csv' atualizado com sucesso!\")"
   ]
  },
  {
   "cell_type": "markdown",
   "metadata": {},
   "source": [
    "# Verificações extras pós download dos dados"
   ]
  },
  {
   "cell_type": "code",
   "execution_count": 90,
   "metadata": {
    "execution": {
     "iopub.execute_input": "2025-02-25T17:15:49.590854Z",
     "iopub.status.busy": "2025-02-25T17:15:49.590672Z",
     "iopub.status.idle": "2025-02-25T17:15:49.701603Z",
     "shell.execute_reply": "2025-02-25T17:15:49.701259Z"
    }
   },
   "outputs": [
    {
     "name": "stdout",
     "output_type": "stream",
     "text": [
      "<class 'pandas.core.frame.DataFrame'>\n",
      "RangeIndex: 496473 entries, 0 to 496472\n",
      "Data columns (total 26 columns):\n",
      " #   Column           Non-Null Count   Dtype  \n",
      "---  ------           --------------   -----  \n",
      " 0   SP_UF            496473 non-null  int64  \n",
      " 1   SP_AA            496473 non-null  int64  \n",
      " 2   SP_MM            496473 non-null  int64  \n",
      " 3   SP_CNES          496473 non-null  int64  \n",
      " 4   SP_NAIH          496473 non-null  int64  \n",
      " 5   SP_PROCREA       496473 non-null  int64  \n",
      " 6   SP_DTINTER       496473 non-null  int64  \n",
      " 7   SP_DTSAIDA       496473 non-null  int64  \n",
      " 8   SP_ATOPROF       496473 non-null  int64  \n",
      " 9   SP_VALATO        496473 non-null  float64\n",
      " 10  SP_M_HOSP        496473 non-null  int64  \n",
      " 11  SP_M_PAC         496473 non-null  int64  \n",
      " 12  SP_DES_HOS       496473 non-null  int64  \n",
      " 13  SP_DES_PAC       496473 non-null  int64  \n",
      " 14  SP_QT_PROC       496473 non-null  int64  \n",
      " 15  SP_CIDADE_H      496473 non-null  object \n",
      " 16  SP_CIDADE_P      496473 non-null  object \n",
      " 17  SP_CIDADE_P_EXT  496473 non-null  object \n",
      " 18  SP_N_PROC        496473 non-null  object \n",
      " 19  SP_N_ATOS        496473 non-null  object \n",
      " 20  latitude_h       496473 non-null  float64\n",
      " 21  longitude_h      496473 non-null  float64\n",
      " 22  latitude_p       495129 non-null  float64\n",
      " 23  longitude_p      495129 non-null  float64\n",
      " 24  latitude_p_ext   496473 non-null  object \n",
      " 25  longitude_p_ext  496473 non-null  object \n",
      "dtypes: float64(5), int64(14), object(7)\n",
      "memory usage: 98.5+ MB\n"
     ]
    }
   ],
   "source": [
    "dados.info()"
   ]
  },
  {
   "cell_type": "code",
   "execution_count": 91,
   "metadata": {
    "execution": {
     "iopub.execute_input": "2025-02-25T17:15:49.702814Z",
     "iopub.status.busy": "2025-02-25T17:15:49.702649Z",
     "iopub.status.idle": "2025-02-25T17:15:49.712737Z",
     "shell.execute_reply": "2025-02-25T17:15:49.712376Z"
    }
   },
   "outputs": [
    {
     "data": {
      "text/html": [
       "<div>\n",
       "<style scoped>\n",
       "    .dataframe tbody tr th:only-of-type {\n",
       "        vertical-align: middle;\n",
       "    }\n",
       "\n",
       "    .dataframe tbody tr th {\n",
       "        vertical-align: top;\n",
       "    }\n",
       "\n",
       "    .dataframe thead th {\n",
       "        text-align: right;\n",
       "    }\n",
       "</style>\n",
       "<table border=\"1\" class=\"dataframe\">\n",
       "  <thead>\n",
       "    <tr style=\"text-align: right;\">\n",
       "      <th></th>\n",
       "      <th>SP_UF</th>\n",
       "      <th>SP_AA</th>\n",
       "      <th>SP_MM</th>\n",
       "      <th>SP_CNES</th>\n",
       "      <th>SP_NAIH</th>\n",
       "      <th>SP_PROCREA</th>\n",
       "      <th>SP_DTINTER</th>\n",
       "      <th>SP_DTSAIDA</th>\n",
       "      <th>SP_ATOPROF</th>\n",
       "      <th>SP_VALATO</th>\n",
       "      <th>...</th>\n",
       "      <th>SP_CIDADE_P</th>\n",
       "      <th>SP_CIDADE_P_EXT</th>\n",
       "      <th>SP_N_PROC</th>\n",
       "      <th>SP_N_ATOS</th>\n",
       "      <th>latitude_h</th>\n",
       "      <th>longitude_h</th>\n",
       "      <th>latitude_p</th>\n",
       "      <th>longitude_p</th>\n",
       "      <th>latitude_p_ext</th>\n",
       "      <th>longitude_p_ext</th>\n",
       "    </tr>\n",
       "  </thead>\n",
       "  <tbody>\n",
       "    <tr>\n",
       "      <th>0</th>\n",
       "      <td>43</td>\n",
       "      <td>2022</td>\n",
       "      <td>1</td>\n",
       "      <td>3508528</td>\n",
       "      <td>4321109205787</td>\n",
       "      <td>303010037</td>\n",
       "      <td>20211110</td>\n",
       "      <td>20211209</td>\n",
       "      <td>204060095</td>\n",
       "      <td>0.00</td>\n",
       "      <td>...</td>\n",
       "      <td>CANOAS</td>\n",
       "      <td>Cidade do RS</td>\n",
       "      <td>TRATAMENTO DE OUTRAS DOENÇAS BACTERIANAS</td>\n",
       "      <td>RADIOGRAFIA DE BACIA</td>\n",
       "      <td>-29.9128</td>\n",
       "      <td>-51.1857</td>\n",
       "      <td>-29.9128</td>\n",
       "      <td>-51.1857</td>\n",
       "      <td>cidade do RS</td>\n",
       "      <td>cidade do RS</td>\n",
       "    </tr>\n",
       "    <tr>\n",
       "      <th>1</th>\n",
       "      <td>43</td>\n",
       "      <td>2022</td>\n",
       "      <td>1</td>\n",
       "      <td>3508528</td>\n",
       "      <td>4321109205787</td>\n",
       "      <td>303010037</td>\n",
       "      <td>20211110</td>\n",
       "      <td>20211209</td>\n",
       "      <td>211020036</td>\n",
       "      <td>0.00</td>\n",
       "      <td>...</td>\n",
       "      <td>CANOAS</td>\n",
       "      <td>Cidade do RS</td>\n",
       "      <td>TRATAMENTO DE OUTRAS DOENÇAS BACTERIANAS</td>\n",
       "      <td>ELETROCARDIOGRAMA</td>\n",
       "      <td>-29.9128</td>\n",
       "      <td>-51.1857</td>\n",
       "      <td>-29.9128</td>\n",
       "      <td>-51.1857</td>\n",
       "      <td>cidade do RS</td>\n",
       "      <td>cidade do RS</td>\n",
       "    </tr>\n",
       "    <tr>\n",
       "      <th>2</th>\n",
       "      <td>43</td>\n",
       "      <td>2022</td>\n",
       "      <td>1</td>\n",
       "      <td>3508528</td>\n",
       "      <td>4321109205897</td>\n",
       "      <td>303040297</td>\n",
       "      <td>20211129</td>\n",
       "      <td>20211228</td>\n",
       "      <td>303040297</td>\n",
       "      <td>87.85</td>\n",
       "      <td>...</td>\n",
       "      <td>CANOAS</td>\n",
       "      <td>Cidade do RS</td>\n",
       "      <td>TRATAMENTO DE PROCESSO TOXI-INFECCIOSO DO CERE...</td>\n",
       "      <td>TRATAMENTO DE PROCESSO TOXI-INFECCIOSO DO CERE...</td>\n",
       "      <td>-29.9128</td>\n",
       "      <td>-51.1857</td>\n",
       "      <td>-29.9128</td>\n",
       "      <td>-51.1857</td>\n",
       "      <td>cidade do RS</td>\n",
       "      <td>cidade do RS</td>\n",
       "    </tr>\n",
       "    <tr>\n",
       "      <th>3</th>\n",
       "      <td>43</td>\n",
       "      <td>2022</td>\n",
       "      <td>1</td>\n",
       "      <td>3508528</td>\n",
       "      <td>4321109205897</td>\n",
       "      <td>303040297</td>\n",
       "      <td>20211129</td>\n",
       "      <td>20211228</td>\n",
       "      <td>302040013</td>\n",
       "      <td>19.05</td>\n",
       "      <td>...</td>\n",
       "      <td>CANOAS</td>\n",
       "      <td>Cidade do RS</td>\n",
       "      <td>TRATAMENTO DE PROCESSO TOXI-INFECCIOSO DO CERE...</td>\n",
       "      <td>ATENDIMENTO FISIOTERAPÊUTICO EM PACIENTE C/ TR...</td>\n",
       "      <td>-29.9128</td>\n",
       "      <td>-51.1857</td>\n",
       "      <td>-29.9128</td>\n",
       "      <td>-51.1857</td>\n",
       "      <td>cidade do RS</td>\n",
       "      <td>cidade do RS</td>\n",
       "    </tr>\n",
       "    <tr>\n",
       "      <th>4</th>\n",
       "      <td>43</td>\n",
       "      <td>2022</td>\n",
       "      <td>1</td>\n",
       "      <td>3508528</td>\n",
       "      <td>4321109205897</td>\n",
       "      <td>303040297</td>\n",
       "      <td>20211129</td>\n",
       "      <td>20211228</td>\n",
       "      <td>302040013</td>\n",
       "      <td>127.00</td>\n",
       "      <td>...</td>\n",
       "      <td>CANOAS</td>\n",
       "      <td>Cidade do RS</td>\n",
       "      <td>TRATAMENTO DE PROCESSO TOXI-INFECCIOSO DO CERE...</td>\n",
       "      <td>ATENDIMENTO FISIOTERAPÊUTICO EM PACIENTE C/ TR...</td>\n",
       "      <td>-29.9128</td>\n",
       "      <td>-51.1857</td>\n",
       "      <td>-29.9128</td>\n",
       "      <td>-51.1857</td>\n",
       "      <td>cidade do RS</td>\n",
       "      <td>cidade do RS</td>\n",
       "    </tr>\n",
       "  </tbody>\n",
       "</table>\n",
       "<p>5 rows × 26 columns</p>\n",
       "</div>"
      ],
      "text/plain": [
       "   SP_UF  SP_AA  SP_MM  SP_CNES        SP_NAIH  SP_PROCREA  SP_DTINTER  \\\n",
       "0     43   2022      1  3508528  4321109205787   303010037    20211110   \n",
       "1     43   2022      1  3508528  4321109205787   303010037    20211110   \n",
       "2     43   2022      1  3508528  4321109205897   303040297    20211129   \n",
       "3     43   2022      1  3508528  4321109205897   303040297    20211129   \n",
       "4     43   2022      1  3508528  4321109205897   303040297    20211129   \n",
       "\n",
       "   SP_DTSAIDA  SP_ATOPROF  SP_VALATO  ...  SP_CIDADE_P  SP_CIDADE_P_EXT  \\\n",
       "0    20211209   204060095       0.00  ...       CANOAS     Cidade do RS   \n",
       "1    20211209   211020036       0.00  ...       CANOAS     Cidade do RS   \n",
       "2    20211228   303040297      87.85  ...       CANOAS     Cidade do RS   \n",
       "3    20211228   302040013      19.05  ...       CANOAS     Cidade do RS   \n",
       "4    20211228   302040013     127.00  ...       CANOAS     Cidade do RS   \n",
       "\n",
       "                                           SP_N_PROC  \\\n",
       "0           TRATAMENTO DE OUTRAS DOENÇAS BACTERIANAS   \n",
       "1           TRATAMENTO DE OUTRAS DOENÇAS BACTERIANAS   \n",
       "2  TRATAMENTO DE PROCESSO TOXI-INFECCIOSO DO CERE...   \n",
       "3  TRATAMENTO DE PROCESSO TOXI-INFECCIOSO DO CERE...   \n",
       "4  TRATAMENTO DE PROCESSO TOXI-INFECCIOSO DO CERE...   \n",
       "\n",
       "                                           SP_N_ATOS  latitude_h longitude_h  \\\n",
       "0                               RADIOGRAFIA DE BACIA    -29.9128    -51.1857   \n",
       "1                                  ELETROCARDIOGRAMA    -29.9128    -51.1857   \n",
       "2  TRATAMENTO DE PROCESSO TOXI-INFECCIOSO DO CERE...    -29.9128    -51.1857   \n",
       "3  ATENDIMENTO FISIOTERAPÊUTICO EM PACIENTE C/ TR...    -29.9128    -51.1857   \n",
       "4  ATENDIMENTO FISIOTERAPÊUTICO EM PACIENTE C/ TR...    -29.9128    -51.1857   \n",
       "\n",
       "  latitude_p longitude_p latitude_p_ext longitude_p_ext  \n",
       "0   -29.9128    -51.1857   cidade do RS    cidade do RS  \n",
       "1   -29.9128    -51.1857   cidade do RS    cidade do RS  \n",
       "2   -29.9128    -51.1857   cidade do RS    cidade do RS  \n",
       "3   -29.9128    -51.1857   cidade do RS    cidade do RS  \n",
       "4   -29.9128    -51.1857   cidade do RS    cidade do RS  \n",
       "\n",
       "[5 rows x 26 columns]"
      ]
     },
     "execution_count": 91,
     "metadata": {},
     "output_type": "execute_result"
    }
   ],
   "source": [
    "dados.head()"
   ]
  },
  {
   "cell_type": "code",
   "execution_count": 92,
   "metadata": {
    "execution": {
     "iopub.execute_input": "2025-02-25T17:15:49.714079Z",
     "iopub.status.busy": "2025-02-25T17:15:49.713901Z",
     "iopub.status.idle": "2025-02-25T17:15:49.750498Z",
     "shell.execute_reply": "2025-02-25T17:15:49.749661Z"
    }
   },
   "outputs": [
    {
     "name": "stdout",
     "output_type": "stream",
     "text": [
      "Cidades disponíveis (1 no total):\n",
      "['CANOAS']\n",
      "Cidades disponíveis (175 no total):\n",
      "['CANOAS' 'SANTA ROSA' 'SAPUCAIA DO SUL' 'NOVA SANTA RITA' 'GRAVATAÍ'\n",
      " 'MONTENEGRO' 'MARAU' 'IVOTI' 'TAQUARI' 'ENCANTADO' 'PRESIDENTE LUCENA'\n",
      " 'ESTEIO' 'TAQUARA' 'IGREJINHA' 'NOVO HAMBURGO' 'PORTO ALEGRE'\n",
      " 'ESTÂNCIA VELHA' 'PORTÃO' 'PAROBÉ' 'TEUTÔNIA' 'SÃO LEOPOLDO' 'ARARICÁ'\n",
      " 'NOVA HARTZ' 'TRÊS COROAS' 'DOIS IRMÃOS' 'CAMPO BOM' 'TRIUNFO'\n",
      " 'SÃO FRANCISCO DE PAULA' 'SANTA MARIA DO HERVAL' 'CAPELA DE SANTANA'\n",
      " 'SAPIRANGA' 'SÃO SEBASTIÃO DO CAÍ' 'Cidade de fora do RS' 'RIOZINHO'\n",
      " 'LINDOLFO COLLOR' 'CACHOEIRINHA' 'SANTO ANTÔNIO DA PATRULHA' 'CAPITÃO'\n",
      " 'ESTRELA' 'ALVORADA' 'BROCHIER' 'ROLANTE' 'ELDORADO DO SUL' 'BAGÉ'\n",
      " 'CIDREIRA' 'MORRO REUTER' 'CAMBARÁ DO SUL' 'PARECI NOVO'\n",
      " 'SALVADOR DO SUL' 'ARROIO DO MEIO' 'LAJEADO' 'POÇO DAS ANTAS'\n",
      " 'POUSO NOVO' 'CAÇAPAVA DO SUL' 'SÃO JOSÉ DO SUL' 'SANTA CLARA DO SUL'\n",
      " 'BOM RETIRO DO SUL' 'VIAMÃO' 'BARÃO' 'VERA CRUZ' 'SÃO PEDRO DA SERRA'\n",
      " 'BOQUEIRÃO DO LEÃO' 'TABAÍ' 'ARVOREZINHA' 'VENÂNCIO AIRES' 'PANAMBI'\n",
      " 'PROGRESSO' 'PUTINGA' 'VALE DO SOL' 'RIO PARDO' 'PAVERAMA' 'GUAÍBA'\n",
      " 'NOVA BRÉSCIA' 'TUPANDI' 'BALNEÁRIO PINHAL' 'SÃO JOSÉ DO HORTÊNCIO'\n",
      " 'ESTRELA VELHA' 'ILÓPOLIS' 'CRUZEIRO DO SUL' 'HERVEIRAS'\n",
      " 'ENCRUZILHADA DO SUL' 'ANTA GORDA' 'MAQUINÉ' 'HARMONIA' 'TRAMANDAÍ'\n",
      " 'ROCA SALES' 'GRAMADO XAVIER' 'SÃO LOURENÇO DO SUL' 'CACHOEIRA DO SUL'\n",
      " 'CAXIAS DO SUL' 'IMBÉ' 'SÉRIO' 'CAPÃO DA CANOA' 'CANDELÁRIA'\n",
      " 'PANTANO GRANDE' 'SEGREDO' 'MARQUES DE SOUZA' 'DOUTOR RICARDO'\n",
      " 'VILA NOVA DO SUL' 'CHARQUEADAS' 'TRÊS CACHOEIRAS' 'ARROIO DO TIGRE'\n",
      " 'GRAMADO' 'ARROIO DO SAL' 'MUÇUM' 'ARAMBARÉ' 'MARATÁ' 'MARIANA PIMENTEL'\n",
      " 'ITAQUI' 'RIO GRANDE' 'COQUEIRO BAIXO' 'SANTA VITÓRIA DO PALMAR'\n",
      " 'ROSÁRIO DO SUL' 'TAPEJARA' 'TRÊS PASSOS' 'GUAPORÉ' 'TRAVESSEIRO'\n",
      " 'BOM JESUS' 'TAVARES' 'PASSO DO SOBRADO' 'BUTIÁ' 'VESPASIANO CORREA'\n",
      " 'RELVADO' 'NOVA PRATA' 'FAZENDA VILANOVA' 'FELIZ' 'BARÃO DO TRIUNFO'\n",
      " 'SÃO JERÔNIMO' 'NOVA ROMA DO SUL' 'TORRES' 'MINAS DO LEÃO'\n",
      " 'FLORES DA CUNHA' 'SOBRADINHO' 'CANUDOS DO VALE' 'IBARAMA' 'VALE VERDE'\n",
      " 'MAÇAMBARÁ' 'PELOTAS' 'BARRA DO RIBEIRO' 'FARROUPILHA'\n",
      " 'SANTA CRUZ DO SUL' 'BENTO GONÇALVES' 'PASSA SETE' 'CARLOS BARBOSA'\n",
      " 'GLORINHA' 'CANGUÇU' 'SÃO VALENTIM DO SUL' 'PALMARES DO SUL'\n",
      " 'BARROS CASSAL' 'ITATI' 'MANOEL VIANA' 'BOM PRINCÍPIO' 'GENERAL CÂMARA'\n",
      " 'SÃO VALENTIM' 'COLINAS' 'CRUZ ALTA' 'VACARIA' 'ERECHIM'\n",
      " 'SÃO JOSÉ DO HERVAL' 'PICADA CAFÉ' 'VERANÓPOLIS' 'JACUIZINHO'\n",
      " 'NOVA PETRÓPOLIS' 'SERTÃO SANTANA' 'TENENTE PORTELA' 'PASSO FUNDO'\n",
      " 'FORQUETINHA' 'NOVA ARAÇÁ' 'FONTOURA XAVIER' 'TERRA DE AREIA' 'OSÓRIO'\n",
      " 'CANELA' 'LAGOA BONITA DO SUL' 'SANTA MARIA' 'PLANALTO']\n"
     ]
    }
   ],
   "source": [
    "# Obter cidades únicas a partir da coluna SP_CIDADE_H\n",
    "cidades_disponiveis = dados[\"SP_CIDADE_H\"].unique()\n",
    "\n",
    "# Mostrar a lista de cidades\n",
    "print(f\"Cidades disponíveis ({len(cidades_disponiveis)} no total):\")\n",
    "print(cidades_disponiveis)\n",
    "\n",
    "\n",
    "# Mostrar a lista de cidades de pessoas que foram nos hospitais\n",
    "cidades_disponiveis2 = dados[\"SP_CIDADE_P\"].unique()\n",
    "print(f\"Cidades disponíveis ({len(cidades_disponiveis2)} no total):\")\n",
    "print(cidades_disponiveis2)\n"
   ]
  },
  {
   "cell_type": "code",
   "execution_count": 93,
   "metadata": {
    "execution": {
     "iopub.execute_input": "2025-02-25T17:15:49.752782Z",
     "iopub.status.busy": "2025-02-25T17:15:49.752470Z",
     "iopub.status.idle": "2025-02-25T17:15:49.872583Z",
     "shell.execute_reply": "2025-02-25T17:15:49.872076Z"
    }
   },
   "outputs": [
    {
     "name": "stdout",
     "output_type": "stream",
     "text": [
      "\n",
      "Dicionário de mapeamento (cidade: código):\n",
      "CANOAS: 430460\n"
     ]
    }
   ],
   "source": [
    "# Obter cidades únicas a partir da coluna SP_CIDADE_H\n",
    "cidades_disponiveis = dados[\"SP_CIDADE_H\"].unique()\n",
    "\n",
    "# Mostrar a lista de cidades\n",
    "#print(f\"Cidades disponíveis ({len(cidades_disponiveis)} no total):\")\n",
    "#print(cidades_disponiveis)\n",
    "\n",
    "# Criar o dicionário de mapeamento entre SP_CIDADE_H e SP_M_HOSP\n",
    "mapeamento_cidades = {}\n",
    "for cidade in cidades_disponiveis:\n",
    "    # Filtrar os códigos correspondentes para cada cidade\n",
    "    codigos = dados[dados[\"SP_CIDADE_H\"] == cidade][\"SP_M_HOSP\"].unique()\n",
    "    if len(codigos) > 0:\n",
    "        mapeamento_cidades[cidade] = codigos[0]  # Considera o primeiro código encontrado\n",
    "    else:\n",
    "        mapeamento_cidades[cidade] = None  # Marca como None se não houver código\n",
    "\n",
    "# Mostrar o dicionário de mapeamento\n",
    "print(\"\\nDicionário de mapeamento (cidade: código):\")\n",
    "for cidade, codigo in mapeamento_cidades.items():\n",
    "    print(f\"{cidade}: {codigo}\")\n"
   ]
  },
  {
   "cell_type": "markdown",
   "metadata": {},
   "source": [
    "# PLOTS do DASH"
   ]
  },
  {
   "cell_type": "code",
   "execution_count": 94,
   "metadata": {
    "execution": {
     "iopub.execute_input": "2025-02-25T17:15:49.874470Z",
     "iopub.status.busy": "2025-02-25T17:15:49.874311Z",
     "iopub.status.idle": "2025-02-25T17:15:50.627080Z",
     "shell.execute_reply": "2025-02-25T17:15:50.626701Z"
    }
   },
   "outputs": [],
   "source": [
    "# 1. Importações necessárias (adicione no início do notebook)\n",
    "import matplotlib.pyplot as plt\n",
    "import seaborn as sns\n",
    "import pandas as pd\n",
    "import plotly.express as px\n",
    "import plotly.graph_objects as go\n",
    "from plotly.subplots import make_subplots\n",
    "import calendar\n",
    "\n",
    "# 2. Processamento inicial das datas\n",
    "# Adicione após carregar os dados\n",
    "dados['SP_DTINTER'] = pd.to_datetime(dados['SP_DTINTER'], format='%Y%m%d')\n",
    "dados['SP_DTSAIDA'] = pd.to_datetime(dados['SP_DTSAIDA'], format='%Y%m%d')\n",
    "dados['tempo_internacao'] = (dados['SP_DTSAIDA'] - dados['SP_DTINTER']).dt.days"
   ]
  },
  {
   "cell_type": "code",
   "execution_count": 95,
   "metadata": {
    "execution": {
     "iopub.execute_input": "2025-02-25T17:15:50.628768Z",
     "iopub.status.busy": "2025-02-25T17:15:50.628463Z",
     "iopub.status.idle": "2025-02-25T17:15:50.631054Z",
     "shell.execute_reply": "2025-02-25T17:15:50.630563Z"
    }
   },
   "outputs": [],
   "source": [
    "# # 3. Análise temporal de internações\n",
    "# plt.figure(figsize=(15, 8))\n",
    "# internacoes_mes = dados['SP_DTINTER'].dt.month.value_counts().sort_index()\n",
    "# internacoes_mes.index = [calendar.month_name[m] for m in internacoes_mes.index]\n",
    "# sns.barplot(x=internacoes_mes.index, y=internacoes_mes.values)\n",
    "# plt.title('Distribuição de Internações por Mês')\n",
    "# plt.xticks(rotation=45)\n",
    "# plt.ylabel('Número de Internações')\n",
    "# plt.tight_layout()\n",
    "# plt.savefig('internacoes_mes.png')\n",
    "# plt.close()"
   ]
  },
  {
   "cell_type": "code",
   "execution_count": 96,
   "metadata": {
    "execution": {
     "iopub.execute_input": "2025-02-25T17:15:50.634581Z",
     "iopub.status.busy": "2025-02-25T17:15:50.633964Z",
     "iopub.status.idle": "2025-02-25T17:15:50.636711Z",
     "shell.execute_reply": "2025-02-25T17:15:50.636290Z"
    }
   },
   "outputs": [],
   "source": [
    "# # 4. Top 10 procedimentos mais frequentes\n",
    "# plt.figure(figsize=(15, 8))\n",
    "# top_procedimentos = dados['SP_N_PROC'].value_counts().head(10)\n",
    "# sns.barplot(x=top_procedimentos.values, y=top_procedimentos.index)\n",
    "# plt.title('Top 10 Procedimentos Mais Frequentes')\n",
    "# plt.xlabel('Número de Ocorrências')\n",
    "# plt.tight_layout()\n",
    "# plt.savefig('top_procedimentos.png')\n",
    "# plt.close()"
   ]
  },
  {
   "cell_type": "code",
   "execution_count": 97,
   "metadata": {
    "execution": {
     "iopub.execute_input": "2025-02-25T17:15:50.638000Z",
     "iopub.status.busy": "2025-02-25T17:15:50.637828Z",
     "iopub.status.idle": "2025-02-25T17:15:50.639904Z",
     "shell.execute_reply": "2025-02-25T17:15:50.639502Z"
    }
   },
   "outputs": [],
   "source": [
    "# # 5. Distribuição do tempo de internação\n",
    "# plt.figure(figsize=(12, 6))\n",
    "# sns.histplot(data=dados, x='tempo_internacao', bins=30)\n",
    "# plt.title('Distribuição do Tempo de Internação')\n",
    "# plt.xlabel('Dias de Internação')\n",
    "# plt.ylabel('Frequência')\n",
    "# plt.tight_layout()\n",
    "# plt.savefig('tempo_internacao.png')\n",
    "# plt.close()"
   ]
  },
  {
   "cell_type": "code",
   "execution_count": 98,
   "metadata": {
    "execution": {
     "iopub.execute_input": "2025-02-25T17:15:50.641208Z",
     "iopub.status.busy": "2025-02-25T17:15:50.641062Z",
     "iopub.status.idle": "2025-02-25T17:15:50.642986Z",
     "shell.execute_reply": "2025-02-25T17:15:50.642701Z"
    }
   },
   "outputs": [],
   "source": [
    "# # 6. Análise de valores (com ajustes para melhor visualização)\n",
    "# plt.figure(figsize=(12, 6))  # Aumentar o tamanho para melhor legibilidade\n",
    "# sns.boxplot(data=dados, y='SP_VALATO')\n",
    "# plt.title('Distribuição dos Valores dos Procedimentos')\n",
    "# plt.ylabel('Valor (R$)')\n",
    "\n",
    "# # Limitar o eixo Y para focar nos valores mais comuns e evitar outliers extremos\n",
    "# plt.ylim(0, dados['SP_VALATO'].quantile(0.99))  # Mostra até o 99º percentil (em vez de 95%)\n",
    "# plt.tight_layout()\n",
    "# plt.savefig('valores_procedimentos.png')\n",
    "# plt.close()"
   ]
  },
  {
   "cell_type": "code",
   "execution_count": 99,
   "metadata": {
    "execution": {
     "iopub.execute_input": "2025-02-25T17:15:50.644275Z",
     "iopub.status.busy": "2025-02-25T17:15:50.644141Z",
     "iopub.status.idle": "2025-02-25T17:15:50.646780Z",
     "shell.execute_reply": "2025-02-25T17:15:50.646434Z"
    }
   },
   "outputs": [],
   "source": [
    "# import plotly.express as px\n",
    "# import pandas as pd\n",
    "\n",
    "# # 7. Gráfico interativo de valores por procedimento (usando Plotly)\n",
    "# # Agrupar por procedimento e calcular a média e o total de valores\n",
    "# valores_por_procedimento = dados.groupby('SP_N_PROC')['SP_VALATO'].agg(['mean', 'sum']).reset_index()\n",
    "# valores_por_procedimento = valores_por_procedimento.sort_values(by='sum', ascending=False).head(10)  # Top 10 procedimentos por valor total\n",
    "\n",
    "# # Criar uma coluna com nomes completos para tooltips\n",
    "# valores_por_procedimento['Nome Completo'] = valores_por_procedimento['SP_N_PROC']\n",
    "\n",
    "\n",
    "# # Gerar o gráfico de barras agrupadas, separando 'mean' e 'sum' em traces distintos\n",
    "# fig = px.bar(\n",
    "#     valores_por_procedimento, \n",
    "#     x='SP_N_PROC', \n",
    "#     y='mean',  # Usar apenas 'mean' inicialmente para teste\n",
    "#     title='Distribuição Média e Total de Valores por Procedimento (Top 10)',\n",
    "#     labels={'value': 'Valor (R$)', 'SP_N_PROC': 'Procedimento'},\n",
    "#     hover_data={'SP_N_PROC': False, 'Nome Completo': True, 'mean': ':.2f', 'sum': ':.2f'}  # Mostrar nomes completos e valores no hover\n",
    "# )\n",
    "\n",
    "# # Adicionar barras para 'sum' separadamente para garantir visibilidade\n",
    "# fig.add_bar(\n",
    "#     x=valores_por_procedimento['SP_N_PROC'],\n",
    "#     y=valores_por_procedimento['sum'],\n",
    "#     name='Total dos Valores',\n",
    "#     marker_color='#ff7f0e',  # Cor laranja para 'sum'\n",
    "#     hovertemplate='<b>Procedimento:</b> %{customdata}<br><b>Métrica:</b> Total dos Valores<br><b>Valor (R$):</b> %{y:,.2f}<extra></extra>',\n",
    "#     customdata=valores_por_procedimento['Nome Completo']  # Nomes completos para tooltips\n",
    "# )\n",
    "\n",
    "# # Ajustar os labels no eixo X para mostrar uma versão abreviada\n",
    "# fig.update_xaxes(\n",
    "#     tickangle=45, \n",
    "#     tickmode='array', \n",
    "#     tickvals=valores_por_procedimento['SP_N_PROC'], \n",
    "#     ticktext=[proc[:20] + '...' if len(proc) > 20 else proc for proc in valores_por_procedimento['SP_N_PROC']],  # Truncar labels longos\n",
    "#     title_standoff=15\n",
    "# )\n",
    "\n",
    "# # Ajustar layout para clareza e legibilidade\n",
    "# fig.update_layout(\n",
    "#     height=600,  # Consistente com o app\n",
    "#     width=800,  # Consistente com o app\n",
    "#     xaxis_title=None,\n",
    "#     yaxis_title=\"Valor (R$)\",\n",
    "#     showlegend=True,\n",
    "#     legend_title_text='Métrica',  # Adicionar título à legenda\n",
    "#     legend=dict(\n",
    "#         x=1.05,  # Posicionar a legenda à direita\n",
    "#         y=1.0,   # Alinhar ao topo\n",
    "#         bgcolor='rgba(255, 255, 255, 0.5)',  # Fundo semi-transparente\n",
    "#         bordercolor='Black',\n",
    "#         borderwidth=1\n",
    "#     ),\n",
    "#     bargap=0.2,  # Espaçamento entre barras agrupadas\n",
    "#     barmode='group'  # Garantir barras agrupadas\n",
    "# )\n",
    "\n",
    "# # Garantir que o gráfico seja exibido\n",
    "# fig.show()\n",
    "# fig.write_html('valores_por_procedimento.html', auto_open=False)"
   ]
  },
  {
   "cell_type": "code",
   "execution_count": 100,
   "metadata": {
    "execution": {
     "iopub.execute_input": "2025-02-25T17:15:50.648145Z",
     "iopub.status.busy": "2025-02-25T17:15:50.647844Z",
     "iopub.status.idle": "2025-02-25T17:15:50.650289Z",
     "shell.execute_reply": "2025-02-25T17:15:50.649649Z"
    }
   },
   "outputs": [],
   "source": [
    "# # 8. Mapa de calor temporal\n",
    "# # Criar matriz de contagem por hora do dia e dia da semana\n",
    "# dados['hora'] = dados['SP_DTINTER'].dt.hour\n",
    "# dados['dia_semana'] = dados['SP_DTINTER'].dt.day_name()\n",
    "\n",
    "# heatmap_data = pd.crosstab(dados['dia_semana'], dados['hora'])\n",
    "# plt.figure(figsize=(15, 8))\n",
    "# sns.heatmap(heatmap_data, cmap='YlOrRd', annot=True, fmt='d')\n",
    "# plt.title('Distribuição de Internações por Hora e Dia da Semana')\n",
    "# plt.tight_layout()\n",
    "# plt.savefig('heatmap_temporal.png')\n",
    "# plt.close()"
   ]
  },
  {
   "cell_type": "code",
   "execution_count": 101,
   "metadata": {
    "execution": {
     "iopub.execute_input": "2025-02-25T17:15:50.652082Z",
     "iopub.status.busy": "2025-02-25T17:15:50.651920Z",
     "iopub.status.idle": "2025-02-25T17:15:50.654035Z",
     "shell.execute_reply": "2025-02-25T17:15:50.653739Z"
    }
   },
   "outputs": [],
   "source": [
    "# # 9. Análise de tendência temporal\n",
    "# plt.figure(figsize=(15, 6))\n",
    "# dados.set_index('SP_DTINTER')['SP_VALATO'].resample('W').mean().plot()\n",
    "# plt.title('Tendência do Valor Médio dos Procedimentos ao Longo do Tempo')\n",
    "# plt.xlabel('Data')\n",
    "# plt.ylabel('Valor Médio (R$)')\n",
    "# plt.tight_layout()\n",
    "# plt.savefig('tendencia_temporal.png')\n",
    "# plt.close()"
   ]
  },
  {
   "cell_type": "code",
   "execution_count": 102,
   "metadata": {
    "execution": {
     "iopub.execute_input": "2025-02-25T17:15:50.655371Z",
     "iopub.status.busy": "2025-02-25T17:15:50.655243Z",
     "iopub.status.idle": "2025-02-25T17:15:50.658714Z",
     "shell.execute_reply": "2025-02-25T17:15:50.658410Z"
    }
   },
   "outputs": [],
   "source": [
    "# # 10. Dashboard interativo com Plotly\n",
    "# f# Criar figura com melhor layout e espaçamento\n",
    "# fig = make_subplots(\n",
    "#     rows=2, cols=2,  \n",
    "#     subplot_titles=(\n",
    "#         'Internações por Mês', \n",
    "#         'Procedimentos com Maior Valor Médio',\n",
    "#         'Tempo Médio de Internação', \n",
    "#         'Procedimentos Mais Comuns'\n",
    "#     ),\n",
    "#     vertical_spacing=0.15,  # Mais espaço entre os gráficos\n",
    "#     horizontal_spacing=0.1,  # Melhor espaçamento lateral\n",
    "#     specs=[[{\"type\": \"bar\"}, {\"type\": \"bar\"}],\n",
    "#            [{\"type\": \"bar\"}, {\"type\": \"bar\"}]]\n",
    "# )\n",
    "\n",
    "# internacoes_mes = dados['SP_DTINTER'].dt.month.value_counts().sort_index()\n",
    "# fig.add_trace(\n",
    "#     go.Bar(\n",
    "#         x=[calendar.month_name[m] for m in internacoes_mes.index], \n",
    "#         y=internacoes_mes.values,\n",
    "#         marker_color='rgb(99, 110, 250)',  # Azul\n",
    "#         name=\"Internações por Mês\",\n",
    "#         text=internacoes_mes.values,  # Exibir valores nas barras\n",
    "#         textposition=\"outside\",\n",
    "#         hovertemplate='<b>Mês:</b> %{x}<br><b>Internações:</b> %{y}<extra></extra>'  # Tooltip para o mês\n",
    "#     ),\n",
    "#     row=1, col=1\n",
    "# )\n",
    "\n",
    "# valores_medios = dados.groupby('SP_N_PROC')['SP_VALATO'].mean().sort_values(ascending=False).head(10)\n",
    "# # Criar uma coluna com nomes completos para tooltips\n",
    "# nomes_completos_valores = valores_medios.index.tolist()\n",
    "# fig.add_trace(\n",
    "#     go.Bar(\n",
    "#         x=[proc[:15] + '...' if len(proc) > 15 else proc for proc in valores_medios.index],  # Truncar para 15 caracteres\n",
    "#         y=valores_medios.values,\n",
    "#         marker_color='rgb(239, 85, 59)',  # Vermelho\n",
    "#         name=\"Maior Valor Médio\",\n",
    "#         text=[f\"R$ {v:,.2f}\" for v in valores_medios.values],  # Exibir valores formatados nas barras\n",
    "#         textposition=\"outside\",\n",
    "#         hovertemplate='<b>Procedimento:</b> %{customdata}<br><b>Valor Médio (R$):</b> %{y:,.2f}<extra></extra>',  # Tooltip com nome completo\n",
    "#         customdata=nomes_completos_valores  # Armazenar nomes completos para tooltips\n",
    "#     ),\n",
    "#     row=1, col=2\n",
    "# )\n",
    "\n",
    "# tempo_medio = dados.groupby('SP_N_PROC')['tempo_internacao'].mean().sort_values(ascending=False).head(10)\n",
    "# # Criar uma coluna com nomes completos para tooltips\n",
    "# nomes_completos_tempo = tempo_medio.index.tolist()\n",
    "# fig.add_trace(\n",
    "#     go.Bar(\n",
    "#         x=[proc[:15] + '...' if len(proc) > 15 else proc for proc in tempo_medio.index],  # Truncar para 15 caracteres\n",
    "#         y=tempo_medio.values,\n",
    "#         marker_color='rgb(0, 204, 150)',  # Verde\n",
    "#         name=\"Tempo Médio de Internação\",\n",
    "#         text=[f\"{v:.1f} dias\" for v in tempo_medio.values],\n",
    "#         textposition=\"outside\",\n",
    "#         hovertemplate='<b>Procedimento:</b> %{customdata}<br><b>Tempo Médio (dias):</b> %{y:.1f}<extra></extra>',  # Tooltip com nome completo\n",
    "#         customdata=nomes_completos_tempo  # Armazenar nomes completos para tooltips\n",
    "#     ),\n",
    "#     row=2, col=1\n",
    "# )\n",
    "\n",
    "# top_proc = dados['SP_N_PROC'].value_counts().head(10)\n",
    "# # Criar uma coluna com nomes completos para tooltips\n",
    "# nomes_completos_proc = top_proc.index.tolist()\n",
    "# fig.add_trace(\n",
    "#     go.Bar(\n",
    "#         x=[proc[:15] + '...' if len(proc) > 15 else proc for proc in top_proc.index],  # Truncar para 15 caracteres\n",
    "#         y=top_proc.values,\n",
    "#         marker_color='rgb(171, 99, 250)',  # Roxo\n",
    "#         name=\"Procedimentos Mais Comuns\",\n",
    "#         text=top_proc.values,\n",
    "#         textposition=\"outside\",\n",
    "#         hovertemplate='<b>Procedimento:</b> %{customdata}<br><b>Ocorrências:</b> %{y}<extra></extra>',  # Tooltip com nome completo\n",
    "#         customdata=nomes_completos_proc  # Armazenar nomes completos para tooltips\n",
    "#     ),\n",
    "#     row=2, col=2\n",
    "# )\n",
    "# fig.update_layout(\n",
    "#     height=950,  \n",
    "#     width=900,  \n",
    "#     title_text=\"📊 Dashboard de Análise de Internações\", \n",
    "#     title_x=0.5,  # Centralizar título\n",
    "#     showlegend=False,  \n",
    "#     margin=dict(l=80, r=50, t=100, b=80),\n",
    "#     font=dict(family=\"Arial\", size=12),  \n",
    "#     template=\"plotly_white\"  # Estilo mais moderno\n",
    "# )\n",
    "\n",
    "# fig.update_xaxes(\n",
    "#     tickangle=30,  # Reduzir o ângulo para melhorar legibilidade\n",
    "#     tickmode=\"array\",\n",
    "#     showticklabels=True\n",
    "# )\n",
    "# fig.update_yaxes(title_standoff=10)\n",
    "\n",
    "# fig.show()\n",
    "# fig.write_html(\"dashboard.html\", auto_open=False)\n",
    "\n",
    "# # 11. Salvar dados processados\n",
    "# dados.to_csv('dados_RS.csv', index=False)"
   ]
  },
  {
   "cell_type": "code",
   "execution_count": 103,
   "metadata": {
    "execution": {
     "iopub.execute_input": "2025-02-25T17:15:50.659954Z",
     "iopub.status.busy": "2025-02-25T17:15:50.659776Z",
     "iopub.status.idle": "2025-02-25T17:15:50.662013Z",
     "shell.execute_reply": "2025-02-25T17:15:50.661727Z"
    }
   },
   "outputs": [],
   "source": [
    "# import plotly.graph_objects as go\n",
    "# import pandas as pd\n",
    "# import calendar\n",
    "\n",
    "# # 10.1. Gráfico de Internações por Mês\n",
    "# internacoes_mes = dados['SP_DTINTER'].dt.month.value_counts().sort_index()\n",
    "# fig_internacoes = go.Figure(\n",
    "#     data=[go.Bar(\n",
    "#         x=[calendar.month_name[m] for m in internacoes_mes.index], \n",
    "#         y=internacoes_mes.values,\n",
    "#         marker_color='rgb(99, 110, 250)',  # Azul\n",
    "#         name=\"Internações por Mês\",\n",
    "#         text=internacoes_mes.values,  # Exibir valores nas barras\n",
    "#         textposition=\"outside\",\n",
    "#         hovertemplate='<b>Mês:</b> %{x}<br><b>Internações:</b> %{y}<extra></extra>'  # Tooltip para o mês\n",
    "#     )]\n",
    "# )\n",
    "\n",
    "# fig_internacoes.update_layout(\n",
    "#     height=400,  # Tamanho ajustado para caber na tela\n",
    "#     width=900,   # Tamanho ajustado para caber na tela\n",
    "#     title_text=\"Internações por Mês\", \n",
    "#     title_x=0.5,  # Centralizar título\n",
    "#     margin=dict(l=80, r=50, t=80, b=80),  # Margens menores\n",
    "#     font=dict(family=\"Arial\", size=12),  \n",
    "#     template=\"plotly_white\"  # Estilo mais moderno\n",
    "# )\n",
    "\n",
    "# fig_internacoes.update_xaxes(\n",
    "#     tickangle=30,  # Reduzir o ângulo para melhorar legibilidade\n",
    "#     tickmode=\"array\",\n",
    "#     showticklabels=True\n",
    "# )\n",
    "# fig_internacoes.update_yaxes(title_standoff=10)\n",
    "\n",
    "# fig_internacoes.write_html(\"internacoes_mes.html\", auto_open=False)"
   ]
  },
  {
   "cell_type": "code",
   "execution_count": 104,
   "metadata": {
    "execution": {
     "iopub.execute_input": "2025-02-25T17:15:50.663160Z",
     "iopub.status.busy": "2025-02-25T17:15:50.663039Z",
     "iopub.status.idle": "2025-02-25T17:15:50.665181Z",
     "shell.execute_reply": "2025-02-25T17:15:50.664896Z"
    }
   },
   "outputs": [],
   "source": [
    "# # 10.2. Gráfico de Procedimentos com Maior Valor Médio\n",
    "# valores_medios = dados.groupby('SP_N_PROC')['SP_VALATO'].mean().sort_values(ascending=False).head(10)\n",
    "# nomes_completos_valores = valores_medios.index.tolist()\n",
    "# fig_valores = go.Figure(\n",
    "#     data=[go.Bar(\n",
    "#         x=[proc[:15] + '...' if len(proc) > 15 else proc for proc in valores_medios.index], \n",
    "#         y=valores_medios.values,\n",
    "#         marker_color='rgb(239, 85, 59)',  # Vermelho\n",
    "#         name=\"Maior Valor Médio\",\n",
    "#         text=[f\"R$ {v:,.2f}\" for v in valores_medios.values], \n",
    "#         textposition=\"outside\",\n",
    "#         hovertemplate='<b>Procedimento:</b> %{customdata}<br><b>Valor Médio (R$):</b> %{y:,.2f}<extra></extra>',\n",
    "#         customdata=nomes_completos_valores  # Nomes completos para tooltips\n",
    "#     )]\n",
    "# )\n",
    "\n",
    "# fig_valores.update_layout(\n",
    "#     height=400,  # Tamanho ajustado para caber na tela\n",
    "#     width=900,   # Tamanho ajustado para caber na tela\n",
    "#     title_text=\"Procedimentos com Maior Valor Médio\", \n",
    "#     title_x=0.5, \n",
    "#     margin=dict(l=80, r=50, t=80, b=80),  # Margens menores\n",
    "#     font=dict(family=\"Arial\", size=12),  \n",
    "#     template=\"plotly_white\" \n",
    "# )\n",
    "\n",
    "# fig_valores.update_xaxes(\n",
    "#     tickangle=30, \n",
    "#     tickmode=\"array\",\n",
    "#     showticklabels=True\n",
    "# )\n",
    "# fig_valores.update_yaxes(title_standoff=10)\n",
    "\n",
    "# fig_valores.write_html(\"valores_medios.html\", auto_open=False)"
   ]
  },
  {
   "cell_type": "code",
   "execution_count": 105,
   "metadata": {
    "execution": {
     "iopub.execute_input": "2025-02-25T17:15:50.666327Z",
     "iopub.status.busy": "2025-02-25T17:15:50.666142Z",
     "iopub.status.idle": "2025-02-25T17:15:50.668503Z",
     "shell.execute_reply": "2025-02-25T17:15:50.668083Z"
    }
   },
   "outputs": [],
   "source": [
    "# # 10.3. Gráfico de Tempo Médio de Internação\n",
    "# tempo_medio = dados.groupby('SP_N_PROC')['tempo_internacao'].mean().sort_values(ascending=False).head(10)\n",
    "# nomes_completos_tempo = tempo_medio.index.tolist()\n",
    "# fig_tempo = go.Figure(\n",
    "#     data=[go.Bar(\n",
    "#         x=[proc[:15] + '...' if len(proc) > 15 else proc for proc in tempo_medio.index], \n",
    "#         y=tempo_medio.values,\n",
    "#         marker_color='rgb(0, 204, 150)',  # Verde\n",
    "#         name=\"Tempo Médio de Internação\",\n",
    "#         text=[f\"{v:.1f} dias\" for v in tempo_medio.values],\n",
    "#         textposition=\"outside\",\n",
    "#         hovertemplate='<b>Procedimento:</b> %{customdata}<br><b>Tempo Médio (dias):</b> %{y:.1f}<extra></extra>',\n",
    "#         customdata=nomes_completos_tempo  # Nomes completos para tooltips\n",
    "#     )]\n",
    "# )\n",
    "\n",
    "# fig_tempo.update_layout(\n",
    "#     height=400,  # Tamanho ajustado para caber na tela\n",
    "#     width=900,   # Tamanho ajustado para caber na tela\n",
    "#     title_text=\"Tempo Médio de Internação\", \n",
    "#     title_x=0.5, \n",
    "#     margin=dict(l=80, r=50, t=80, b=80),  # Margens menores\n",
    "#     font=dict(family=\"Arial\", size=12),  \n",
    "#     template=\"plotly_white\" \n",
    "# )\n",
    "\n",
    "# fig_tempo.update_xaxes(\n",
    "#     tickangle=30, \n",
    "#     tickmode=\"array\",\n",
    "#     showticklabels=True\n",
    "# )\n",
    "# fig_tempo.update_yaxes(title_standoff=10)\n",
    "\n",
    "# fig_tempo.write_html(\"tempo_medio.html\", auto_open=False)"
   ]
  },
  {
   "cell_type": "code",
   "execution_count": 106,
   "metadata": {
    "execution": {
     "iopub.execute_input": "2025-02-25T17:15:50.670065Z",
     "iopub.status.busy": "2025-02-25T17:15:50.669770Z",
     "iopub.status.idle": "2025-02-25T17:15:50.672416Z",
     "shell.execute_reply": "2025-02-25T17:15:50.672110Z"
    }
   },
   "outputs": [],
   "source": [
    "# # 10.4. Gráfico de Procedimentos Mais Comuns\n",
    "# top_proc = dados['SP_N_PROC'].value_counts().head(10)\n",
    "# nomes_completos_proc = top_proc.index.tolist()\n",
    "# fig_comuns = go.Figure(\n",
    "#     data=[go.Bar(\n",
    "#         x=[proc[:15] + '...' if len(proc) > 15 else proc for proc in top_proc.index], \n",
    "#         y=top_proc.values,\n",
    "#         marker_color='rgb(171, 99, 250)',  # Roxo\n",
    "#         name=\"Procedimentos Mais Comuns\",\n",
    "#         text=top_proc.values,\n",
    "#         textposition=\"outside\",\n",
    "#         hovertemplate='<b>Procedimento:</b> %{customdata}<br><b>Ocorrências:</b> %{y}<extra></extra>',\n",
    "#         customdata=nomes_completos_proc  # Nomes completos para tooltips\n",
    "#     )]\n",
    "# )\n",
    "\n",
    "# fig_comuns.update_layout(\n",
    "#     height=400,  # Tamanho ajustado para caber na tela\n",
    "#     width=900,   # Tamanho ajustado para caber na tela\n",
    "#     title_text=\"Procedimentos Mais Comuns\", \n",
    "#     title_x=0.5, \n",
    "#     margin=dict(l=80, r=50, t=80, b=80),  # Margens menores\n",
    "#     font=dict(family=\"Arial\", size=12),  \n",
    "#     template=\"plotly_white\" \n",
    "# )\n",
    "\n",
    "# fig_comuns.update_xaxes(\n",
    "#     tickangle=30, \n",
    "#     tickmode=\"array\",\n",
    "#     showticklabels=True\n",
    "# )\n",
    "# fig_comuns.update_yaxes(title_standoff=10)\n",
    "\n",
    "# fig_comuns.write_html(\"procedimentos_comuns.html\", auto_open=False)\n",
    "\n",
    "# # 11. Salvar dados processados\n",
    "# #dados.to_csv('dados_RS.csv', index=False)"
   ]
  },
  {
   "cell_type": "code",
   "execution_count": 107,
   "metadata": {
    "execution": {
     "iopub.execute_input": "2025-02-25T17:15:50.673767Z",
     "iopub.status.busy": "2025-02-25T17:15:50.673563Z",
     "iopub.status.idle": "2025-02-25T17:15:51.161307Z",
     "shell.execute_reply": "2025-02-25T17:15:51.160845Z"
    }
   },
   "outputs": [],
   "source": [
    "import plotly.graph_objects as go\n",
    "import plotly.subplots as sp\n",
    "import pandas as pd\n",
    "import calendar\n",
    "\n",
    "# Criando subplots\n",
    "fig = sp.make_subplots(\n",
    "    rows=2, cols=2, \n",
    "    subplot_titles=[\n",
    "        \"Internações por Mês\", \n",
    "        \"Procedimentos Mais Comuns\", \n",
    "        \"Procedimentos com Maior Valor Médio\", \n",
    "        \"Internações por Dia da Semana\"\n",
    "    ]\n",
    ")\n",
    "\n",
    "# 1. Gráfico de Internações por Mês\n",
    "internacoes_mes = dados['SP_DTINTER'].dt.month.value_counts().sort_index()\n",
    "fig.add_trace(\n",
    "    go.Bar(\n",
    "        x=[calendar.month_name[m] for m in internacoes_mes.index], \n",
    "        y=internacoes_mes.values,\n",
    "        marker_color='rgb(99, 110, 250)',  # Azul\n",
    "        name=\"Internações por Mês\",\n",
    "        text=internacoes_mes.values,\n",
    "        textposition=\"outside\",\n",
    "        hovertemplate='<b>Mês:</b> %{x}<br><b>Internações:</b> %{y}<extra></extra>'\n",
    "    ),\n",
    "    row=1, col=1\n",
    ")\n",
    "\n",
    "# 2. Gráfico de Procedimentos Mais Comuns\n",
    "top_proc = dados['SP_N_PROC'].value_counts().head(10)\n",
    "nomes_completos_proc = top_proc.index.tolist()\n",
    "fig.add_trace(\n",
    "    go.Bar(\n",
    "        x=[proc[:15] + '...' if len(proc) > 15 else proc for proc in top_proc.index], \n",
    "        y=top_proc.values,\n",
    "        marker_color='rgb(171, 99, 250)',  # Roxo\n",
    "        name=\"Procedimentos Mais Comuns\",\n",
    "        text=top_proc.values,\n",
    "        textposition=\"outside\",\n",
    "        hovertemplate='<b>Procedimento:</b> %{customdata}<br><b>Ocorrências:</b> %{y}<extra></extra>',\n",
    "        customdata=nomes_completos_proc  \n",
    "    ),\n",
    "    row=1, col=2\n",
    ")\n",
    "\n",
    "# 3. Gráfico de Procedimentos com Maior Valor Médio\n",
    "valores_medios = dados.groupby('SP_N_PROC')['SP_VALATO'].mean().sort_values(ascending=False).head(10)\n",
    "nomes_completos_valores = valores_medios.index.tolist()\n",
    "fig.add_trace(\n",
    "    go.Bar(\n",
    "        x=[proc[:15] + '...' if len(proc) > 15 else proc for proc in valores_medios.index], \n",
    "        y=valores_medios.values,\n",
    "        marker_color='rgb(239, 85, 59)',  # Vermelho\n",
    "        name=\"Maior Valor Médio\",\n",
    "        text=[f\"R$ {v:,.2f}\" for v in valores_medios.values], \n",
    "        textposition=\"outside\",\n",
    "        hovertemplate='<b>Procedimento:</b> %{customdata}<br><b>Valor Médio (R$):</b> %{y:,.2f}<extra></extra>',\n",
    "        customdata=nomes_completos_valores\n",
    "    ),\n",
    "    row=2, col=1\n",
    ")\n",
    "\n",
    "# 4. Gráfico de Internações por Dia da Semana (Com Cores Diferentes)\n",
    "dados['dia_semana'] = dados['SP_DTINTER'].dt.day_name()\n",
    "ordem_dias = [\"Monday\", \"Tuesday\", \"Wednesday\", \"Thursday\", \"Friday\", \"Saturday\", \"Sunday\"]\n",
    "nomes_dias_pt = [\"Segunda\", \"Terça\", \"Quarta\", \"Quinta\", \"Sexta\", \"Sábado\", \"Domingo\"]\n",
    "\n",
    "internacoes_dia = dados['dia_semana'].value_counts()\n",
    "internacoes_dia = internacoes_dia.reindex(ordem_dias)  # Garantir ordem correta\n",
    "\n",
    "# Definindo cores personalizadas para cada dia\n",
    "cores_dias = {\n",
    "    \"Monday\": \"rgb(99, 110, 250)\",    # Azul\n",
    "    \"Tuesday\": \"rgb(239, 85, 59)\",    # Vermelho\n",
    "    \"Wednesday\": \"rgb(0, 204, 150)\",  # Verde\n",
    "    \"Thursday\": \"rgb(171, 99, 250)\",  # Roxo\n",
    "    \"Friday\": \"rgb(255, 161, 90)\",    # Laranja\n",
    "    \"Saturday\": \"rgb(222, 51, 225)\",  # Rosa\n",
    "    \"Sunday\": \"rgb(45, 186, 223)\"     # Ciano\n",
    "}\n",
    "\n",
    "fig.add_trace(\n",
    "    go.Bar(\n",
    "        x=nomes_dias_pt, \n",
    "        y=internacoes_dia.values,\n",
    "        marker=dict(color=[cores_dias[d] for d in ordem_dias]),  # Aplicando cores\n",
    "        name=\"Internações por Dia da Semana\",\n",
    "        text=internacoes_dia.values,\n",
    "        textposition=\"outside\",\n",
    "        hovertemplate='<b>Dia:</b> %{x}<br><b>Internações:</b> %{y}<extra></extra>'\n",
    "    ),\n",
    "    row=2, col=2\n",
    ")\n",
    "\n",
    "# Ajustando o layout\n",
    "fig.update_layout(\n",
    "    height=800, width=1200, \n",
    "    title_text=\"Análises de Internações e Procedimentos\", \n",
    "    title_x=0.5,\n",
    "    margin=dict(l=50, r=50, t=80, b=50),\n",
    "    font=dict(family=\"Arial\", size=12),\n",
    "    template=\"plotly_white\",\n",
    "    showlegend=False\n",
    ")\n",
    "\n",
    "# Ajustando eixos\n",
    "fig.update_yaxes(title_text=\"Quantidade de Internações\", row=2, col=2)\n",
    "fig.update_xaxes(title_standoff=10)\n",
    "\n",
    "# Exportar HTML\n",
    "fig.write_html(\"analise_completa.html\", auto_open=False)\n"
   ]
  },
  {
   "cell_type": "code",
   "execution_count": null,
   "metadata": {},
   "outputs": [],
   "source": []
  }
 ],
 "metadata": {
  "kernelspec": {
   "display_name": "Python 3 (ipykernel)",
   "language": "python",
   "name": "python3"
  },
  "language_info": {
   "codemirror_mode": {
    "name": "ipython",
    "version": 3
   },
   "file_extension": ".py",
   "mimetype": "text/x-python",
   "name": "python",
   "nbconvert_exporter": "python",
   "pygments_lexer": "ipython3",
   "version": "3.12.3"
  }
 },
 "nbformat": 4,
 "nbformat_minor": 4
}
