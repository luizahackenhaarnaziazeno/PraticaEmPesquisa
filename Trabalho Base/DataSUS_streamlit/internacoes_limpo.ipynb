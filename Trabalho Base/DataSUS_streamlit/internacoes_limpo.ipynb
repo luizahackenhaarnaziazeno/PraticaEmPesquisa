{
 "cells": [
  {
   "cell_type": "code",
   "execution_count": 1,
   "id": "24b86f73-28b6-465f-b7a0-d12f2b492f16",
   "metadata": {},
   "outputs": [],
   "source": [
    "from pysus.ftp.databases.sih import SIH"
   ]
  },
  {
   "cell_type": "code",
   "execution_count": 2,
   "id": "95cb343e-9e7b-41bd-8e33-29d2d30f3db6",
   "metadata": {},
   "outputs": [],
   "source": [
    "import pandas as pd"
   ]
  },
  {
   "cell_type": "code",
   "execution_count": 3,
   "id": "0ace43fb-91ce-4d31-abd0-3a80650991a7",
   "metadata": {},
   "outputs": [],
   "source": [
    "sih = SIH().load()"
   ]
  },
  {
   "cell_type": "code",
   "execution_count": 4,
   "id": "cbd8a517-6afc-406a-b4bb-02c9f92c111c",
   "metadata": {},
   "outputs": [
    {
     "data": {
      "text/plain": [
       "{'long_name': 'Sistema de Informações Hospitalares',\n",
       " 'source': ('https://datasus.saude.gov.br/acesso-a-informacao/morbidade-hospitalar-do-sus-sih-sus/',\n",
       "  'https://datasus.saude.gov.br/acesso-a-informacao/producao-hospitalar-sih-sus/'),\n",
       " 'description': 'A finalidade do AIH (Sistema SIHSUS) é a de transcrever todos os atendimentos que provenientes de internações hospitalares que foram financiadas pelo SUS, e após o processamento, gerarem relatórios para os gestores que lhes possibilitem fazer os pagamentos dos estabelecimentos de saúde. Além disso, o nível Federal recebe mensalmente uma base de dados de todas as internações autorizadas (aprovadas ou não para pagamento) para que possam ser repassados às Secretarias de Saúde os valores de Produção de Média e Alta complexidade além dos valores de CNRAC, FAEC e de Hospitais Universitários – em suas variadas formas de contrato de gestão.'}"
      ]
     },
     "execution_count": 4,
     "metadata": {},
     "output_type": "execute_result"
    }
   ],
   "source": [
    "sih.metadata"
   ]
  },
  {
   "cell_type": "code",
   "execution_count": 5,
   "id": "c625bd07-cf1f-4584-a142-47d47c6378af",
   "metadata": {},
   "outputs": [
    {
     "data": {
      "text/plain": [
       "SIH - Sistema de Informações Hospitalares"
      ]
     },
     "execution_count": 5,
     "metadata": {},
     "output_type": "execute_result"
    }
   ],
   "source": [
    "sih.load()"
   ]
  },
  {
   "cell_type": "code",
   "execution_count": 6,
   "id": "a56948f8-2ca8-45e6-a5e7-3fad001c8062",
   "metadata": {},
   "outputs": [
    {
     "data": {
      "text/plain": [
       "{'RD': 'AIH Reduzida',\n",
       " 'RJ': 'AIH Rejeitada',\n",
       " 'ER': 'AIH Rejeitada com erro',\n",
       " 'SP': 'Serviços Profissionais',\n",
       " 'CH': 'Cadastro Hospitalar',\n",
       " 'CM': ''}"
      ]
     },
     "execution_count": 6,
     "metadata": {},
     "output_type": "execute_result"
    }
   ],
   "source": [
    "sih.groups"
   ]
  },
  {
   "cell_type": "code",
   "execution_count": 7,
   "id": "2ffee9fd-2f52-4dd3-9d7d-09a46f18c2f4",
   "metadata": {},
   "outputs": [
    {
     "name": "stdout",
     "output_type": "stream",
     "text": [
      "16295arquivos\n"
     ]
    }
   ],
   "source": [
    "print(str(len(sih.get_files(['RJ', 'RD']))) + \"arquivos\")"
   ]
  },
  {
   "cell_type": "code",
   "execution_count": 8,
   "id": "39d9bc4c-403e-4fcd-bb0e-a21a3ae1c5dd",
   "metadata": {},
   "outputs": [],
   "source": [
    "files = sih.get_files(\"SP\", uf=\"RS\", year=2023)"
   ]
  },
  {
   "cell_type": "code",
   "execution_count": 9,
   "id": "887cf817-ee59-40dd-b46b-c65cfe016527",
   "metadata": {},
   "outputs": [
    {
     "name": "stdout",
     "output_type": "stream",
     "text": [
      "{'group': 'Serviços Profissionais',\n",
      " 'last_update': '2024-02-05 11:58PM',\n",
      " 'month': 'Janeiro',\n",
      " 'name': 'SPRS2301.dbc',\n",
      " 'size': '18.4 MB',\n",
      " 'uf': 'Rio Grande do Sul',\n",
      " 'year': 2023}\n",
      "{'group': 'Serviços Profissionais',\n",
      " 'last_update': '2024-03-07 07:02PM',\n",
      " 'month': 'Fevereiro',\n",
      " 'name': 'SPRS2302.dbc',\n",
      " 'size': '16.4 MB',\n",
      " 'uf': 'Rio Grande do Sul',\n",
      " 'year': 2023}\n",
      "{'group': 'Serviços Profissionais',\n",
      " 'last_update': '2024-04-09 02:38PM',\n",
      " 'month': 'Março',\n",
      " 'name': 'SPRS2303.dbc',\n",
      " 'size': '18.2 MB',\n",
      " 'uf': 'Rio Grande do Sul',\n",
      " 'year': 2023}\n",
      "{'group': 'Serviços Profissionais',\n",
      " 'last_update': '2024-06-16 01:25AM',\n",
      " 'month': 'Abril',\n",
      " 'name': 'SPRS2304.dbc',\n",
      " 'size': '17.6 MB',\n",
      " 'uf': 'Rio Grande do Sul',\n",
      " 'year': 2023}\n",
      "{'group': 'Serviços Profissionais',\n",
      " 'last_update': '2024-06-16 01:25AM',\n",
      " 'month': 'Maio',\n",
      " 'name': 'SPRS2305.dbc',\n",
      " 'size': '18.4 MB',\n",
      " 'uf': 'Rio Grande do Sul',\n",
      " 'year': 2023}\n",
      "{'group': 'Serviços Profissionais',\n",
      " 'last_update': '2024-08-05 03:15PM',\n",
      " 'month': 'Junho',\n",
      " 'name': 'SPRS2306.dbc',\n",
      " 'size': '18.2 MB',\n",
      " 'uf': 'Rio Grande do Sul',\n",
      " 'year': 2023}\n",
      "{'group': 'Serviços Profissionais',\n",
      " 'last_update': '2024-08-05 03:15PM',\n",
      " 'month': 'Julho',\n",
      " 'name': 'SPRS2307.dbc',\n",
      " 'size': '19.6 MB',\n",
      " 'uf': 'Rio Grande do Sul',\n",
      " 'year': 2023}\n",
      "{'group': 'Serviços Profissionais',\n",
      " 'last_update': '2024-09-05 11:52AM',\n",
      " 'month': 'Agosto',\n",
      " 'name': 'SPRS2308.dbc',\n",
      " 'size': '19.3 MB',\n",
      " 'uf': 'Rio Grande do Sul',\n",
      " 'year': 2023}\n",
      "{'group': 'Serviços Profissionais',\n",
      " 'last_update': '2024-09-05 11:52AM',\n",
      " 'month': 'Setembro',\n",
      " 'name': 'SPRS2309.dbc',\n",
      " 'size': '18.4 MB',\n",
      " 'uf': 'Rio Grande do Sul',\n",
      " 'year': 2023}\n",
      "{'group': 'Serviços Profissionais',\n",
      " 'last_update': '2024-09-05 11:52AM',\n",
      " 'month': 'Outubro',\n",
      " 'name': 'SPRS2310.dbc',\n",
      " 'size': '19.1 MB',\n",
      " 'uf': 'Rio Grande do Sul',\n",
      " 'year': 2023}\n",
      "{'group': 'Serviços Profissionais',\n",
      " 'last_update': '2024-09-05 11:52AM',\n",
      " 'month': 'Novembro',\n",
      " 'name': 'SPRS2311.dbc',\n",
      " 'size': '30.1 MB',\n",
      " 'uf': 'Rio Grande do Sul',\n",
      " 'year': 2023}\n",
      "{'group': 'Serviços Profissionais',\n",
      " 'last_update': '2024-09-05 11:52AM',\n",
      " 'month': 'Dezembro',\n",
      " 'name': 'SPRS2312.dbc',\n",
      " 'size': '17.9 MB',\n",
      " 'uf': 'Rio Grande do Sul',\n",
      " 'year': 2023}\n"
     ]
    }
   ],
   "source": [
    "from pprint import pprint\n",
    "for file in files:\n",
    "    pprint(sih.describe(file))"
   ]
  },
  {
   "cell_type": "code",
   "execution_count": 10,
   "id": "859dafe8-9a8e-4307-90f9-764fc6c301db",
   "metadata": {},
   "outputs": [
    {
     "name": "stderr",
     "output_type": "stream",
     "text": [
      "100%|██████████████████████████████████████| 17.9M/17.9M [00:00<00:00, 7.15GB/s]\n"
     ]
    },
    {
     "data": {
      "text/plain": [
       "[/home/artur-kniest/pysus/SPRS2301.parquet,\n",
       " /home/artur-kniest/pysus/SPRS2302.parquet,\n",
       " /home/artur-kniest/pysus/SPRS2303.parquet,\n",
       " /home/artur-kniest/pysus/SPRS2304.parquet,\n",
       " /home/artur-kniest/pysus/SPRS2305.parquet,\n",
       " /home/artur-kniest/pysus/SPRS2306.parquet,\n",
       " /home/artur-kniest/pysus/SPRS2307.parquet,\n",
       " /home/artur-kniest/pysus/SPRS2308.parquet,\n",
       " /home/artur-kniest/pysus/SPRS2309.parquet,\n",
       " /home/artur-kniest/pysus/SPRS2310.parquet,\n",
       " /home/artur-kniest/pysus/SPRS2311.parquet,\n",
       " /home/artur-kniest/pysus/SPRS2312.parquet]"
      ]
     },
     "execution_count": 10,
     "metadata": {},
     "output_type": "execute_result"
    }
   ],
   "source": [
    "parquets = sih.download(files)\n",
    "parquets"
   ]
  },
  {
   "cell_type": "code",
   "execution_count": 11,
   "id": "b301e870-9e22-430d-8738-96b8a1ee0a08",
   "metadata": {},
   "outputs": [
    {
     "name": "stderr",
     "output_type": "stream",
     "text": [
      "/home/artur-kniest/miniconda3/lib/python3.12/site-packages/pysus/data/__init__.py:138: FutureWarning: DataFrame.applymap has been deprecated. Use DataFrame.map instead.\n",
      "  df[columns] = df[columns].applymap(func)\n",
      "/home/artur-kniest/miniconda3/lib/python3.12/site-packages/pysus/data/__init__.py:138: FutureWarning: DataFrame.applymap has been deprecated. Use DataFrame.map instead.\n",
      "  df[columns] = df[columns].applymap(func)\n",
      "/home/artur-kniest/miniconda3/lib/python3.12/site-packages/pysus/data/__init__.py:160: FutureWarning: DataFrame.applymap has been deprecated. Use DataFrame.map instead.\n",
      "  df = df.applymap(\n"
     ]
    }
   ],
   "source": [
    "import pandas as pd\n",
    "data =parquets[8].to_dataframe()"
   ]
  },
  {
   "cell_type": "markdown",
   "id": "073bba0b-3b3c-43ed-b01a-6b7682d96531",
   "metadata": {},
   "source": []
  },
  {
   "cell_type": "code",
   "execution_count": 12,
   "id": "55b1fb1a-e3de-4fb3-88e4-786231fd6a33",
   "metadata": {},
   "outputs": [
    {
     "name": "stdout",
     "output_type": "stream",
     "text": [
      "<class 'pandas.core.frame.DataFrame'>\n",
      "RangeIndex: 1019593 entries, 0 to 1019592\n",
      "Data columns (total 36 columns):\n",
      " #   Column      Non-Null Count    Dtype \n",
      "---  ------      --------------    ----- \n",
      " 0   SP_GESTOR   1019593 non-null  string\n",
      " 1   SP_UF       1019593 non-null  string\n",
      " 2   SP_AA       1019593 non-null  string\n",
      " 3   SP_MM       1019593 non-null  string\n",
      " 4   SP_CNES     1019593 non-null  string\n",
      " 5   SP_NAIH     1019593 non-null  string\n",
      " 6   SP_PROCREA  1019593 non-null  string\n",
      " 7   SP_DTINTER  1019593 non-null  string\n",
      " 8   SP_DTSAIDA  1019593 non-null  string\n",
      " 9   SP_NUM_PR   1019593 non-null  string\n",
      " 10  SP_TIPO     1019593 non-null  string\n",
      " 11  SP_CPFCGC   1019593 non-null  string\n",
      " 12  SP_ATOPROF  1019593 non-null  string\n",
      " 13  SP_TP_ATO   1019593 non-null  string\n",
      " 14  SP_QTD_ATO  1019593 non-null  string\n",
      " 15  SP_PTSP     1019593 non-null  string\n",
      " 16  SP_NF       1019593 non-null  string\n",
      " 17  SP_VALATO   1019593 non-null  string\n",
      " 18  SP_M_HOSP   1019593 non-null  string\n",
      " 19  SP_M_PAC    1019593 non-null  string\n",
      " 20  SP_DES_HOS  1019593 non-null  string\n",
      " 21  SP_DES_PAC  1019593 non-null  string\n",
      " 22  SP_COMPLEX  1019593 non-null  string\n",
      " 23  SP_FINANC   1019593 non-null  string\n",
      " 24  SP_CO_FAEC  1019593 non-null  string\n",
      " 25  SP_PF_CBO   1019593 non-null  string\n",
      " 26  SP_PF_DOC   1019593 non-null  string\n",
      " 27  SP_PJ_DOC   1019593 non-null  string\n",
      " 28  IN_TP_VAL   1019593 non-null  string\n",
      " 29  SEQUENCIA   1019593 non-null  string\n",
      " 30  REMESSA     1019593 non-null  string\n",
      " 31  SERV_CLA    1019593 non-null  string\n",
      " 32  SP_CIDPRI   1019593 non-null  string\n",
      " 33  SP_CIDSEC   1019593 non-null  string\n",
      " 34  SP_QT_PROC  1019593 non-null  string\n",
      " 35  SP_U_AIH    1019593 non-null  string\n",
      "dtypes: string(36)\n",
      "memory usage: 280.0 MB\n"
     ]
    }
   ],
   "source": [
    "data.info()"
   ]
  },
  {
   "cell_type": "markdown",
   "id": "c00fda57-1d1d-4861-a007-28da8fb6ff79",
   "metadata": {},
   "source": [
    "## DESCRIÇÃO DAS COLUNAS EXCLUIDAS"
   ]
  },
  {
   "cell_type": "raw",
   "id": "50b3e5d4-83ad-44fb-bdfa-db7a966198c5",
   "metadata": {},
   "source": [
    "SP_Gestor = unidade de federação + código municipal ou do estado do estabelecimento(código nao especificado) ##########\n",
    "SP_NUM_PR ZERADA$#$#@#@$#@$#@$#@\n",
    "SP_TIPO #@$@%$@%$@%@$%$#%$#\n",
    "SP_CPFCGC = CPF, CNES, CNPJ do prestador do serviço do ato profissional###########\n",
    "SP_QTD_ATO = string de numeros de qtd de vezes que o ato foi realizado########\n",
    "SP_PTSP = Número de pontos (nao sei oq significa)#############\n",
    "SP_NF = Nota fiscal da prótese/órtese (codigo nao espeficifado)#######\n",
    "SP_COMPLEX = Complexidade do ato profissional (2 ou 3)########\n",
    "SP_FINANC = tipo de financiamento do ato profissional (1,4,6 ou 7)###########\n",
    "SP_CO_FAEC = tipo de financiamento subtipo do ato profissional (codigo nao especificado)#######\n",
    "SP_PF_DOC e PJ_DOC = documento de pessoa fisica e juridica#######\n",
    "IN_TP_VAL = Tipo de valor: 1 para SP, 2 para SH ########\n",
    "SEQUENCIA = codigo sequencial (nao sei oq é)#########\n",
    "REMESSA = Nome da remessa (string definitivamente grades e ou inuteis)######\n",
    "SERV_CLA = classificação dos serviços (codigo nao especificado)#######\n",
    "SP_CIDPRI = CID principal (Código CID, não sei oq é)########\n",
    "SP_CIDSEC = CID secundário########\n",
    "SP_U_AIH = Indicador único da AIH. contabiliza sem repetições (0 ou 1) #########"
   ]
  },
  {
   "cell_type": "code",
   "execution_count": 13,
   "id": "80e99d0f-c01c-4a68-b47b-151643c6d00d",
   "metadata": {},
   "outputs": [
    {
     "name": "stdout",
     "output_type": "stream",
     "text": [
      "<StringArray>\n",
      "['0204030153', '0202020380', '0202020029', '0202010317', '0202010473',\n",
      " '0202010643', '0202010651', '0202010600', '0202010635', '0202030202',\n",
      " ...\n",
      " '0416040241', '0202070107', '0214010120', '0603080022', '0202010759',\n",
      " '0202080102', '0702030317', '0214010023', '0202010112', '0201010380']\n",
      "Length: 2266, dtype: string\n"
     ]
    }
   ],
   "source": [
    "tipos_procedimentos = data['SP_ATOPROF'].unique()\n",
    "print(tipos_procedimentos)\n",
    "#GESTOR"
   ]
  },
  {
   "cell_type": "markdown",
   "id": "746b1b70-d05a-4db0-90a0-d389de8bf6b1",
   "metadata": {},
   "source": [
    "## Exploração dos dados"
   ]
  },
  {
   "cell_type": "code",
   "execution_count": 14,
   "id": "bee826be-a34c-4734-bbd8-519145c60e40",
   "metadata": {},
   "outputs": [
    {
     "data": {
      "text/html": [
       "<div>\n",
       "<style scoped>\n",
       "    .dataframe tbody tr th:only-of-type {\n",
       "        vertical-align: middle;\n",
       "    }\n",
       "\n",
       "    .dataframe tbody tr th {\n",
       "        vertical-align: top;\n",
       "    }\n",
       "\n",
       "    .dataframe thead th {\n",
       "        text-align: right;\n",
       "    }\n",
       "</style>\n",
       "<table border=\"1\" class=\"dataframe\">\n",
       "  <thead>\n",
       "    <tr style=\"text-align: right;\">\n",
       "      <th></th>\n",
       "      <th>SP_GESTOR</th>\n",
       "      <th>SP_UF</th>\n",
       "      <th>SP_AA</th>\n",
       "      <th>SP_MM</th>\n",
       "      <th>SP_CNES</th>\n",
       "      <th>SP_NAIH</th>\n",
       "      <th>SP_PROCREA</th>\n",
       "      <th>SP_DTINTER</th>\n",
       "      <th>SP_DTSAIDA</th>\n",
       "      <th>SP_NUM_PR</th>\n",
       "      <th>...</th>\n",
       "      <th>SP_PF_DOC</th>\n",
       "      <th>SP_PJ_DOC</th>\n",
       "      <th>IN_TP_VAL</th>\n",
       "      <th>SEQUENCIA</th>\n",
       "      <th>REMESSA</th>\n",
       "      <th>SERV_CLA</th>\n",
       "      <th>SP_CIDPRI</th>\n",
       "      <th>SP_CIDSEC</th>\n",
       "      <th>SP_QT_PROC</th>\n",
       "      <th>SP_U_AIH</th>\n",
       "    </tr>\n",
       "  </thead>\n",
       "  <tbody>\n",
       "    <tr>\n",
       "      <th>0</th>\n",
       "      <td>430000</td>\n",
       "      <td>43</td>\n",
       "      <td>2023</td>\n",
       "      <td>09</td>\n",
       "      <td>2235420</td>\n",
       "      <td>4323106259714</td>\n",
       "      <td>0303140151</td>\n",
       "      <td>20230812</td>\n",
       "      <td>20230814</td>\n",
       "      <td></td>\n",
       "      <td>...</td>\n",
       "      <td>000000000000000</td>\n",
       "      <td>00000002235420</td>\n",
       "      <td>1</td>\n",
       "      <td>27680</td>\n",
       "      <td>HE43000001N202309.DTS</td>\n",
       "      <td>000000</td>\n",
       "      <td>J189</td>\n",
       "      <td>0000</td>\n",
       "      <td>1</td>\n",
       "      <td>0</td>\n",
       "    </tr>\n",
       "    <tr>\n",
       "      <th>1</th>\n",
       "      <td>430000</td>\n",
       "      <td>43</td>\n",
       "      <td>2023</td>\n",
       "      <td>09</td>\n",
       "      <td>2235420</td>\n",
       "      <td>4323106259714</td>\n",
       "      <td>0303140151</td>\n",
       "      <td>20230812</td>\n",
       "      <td>20230814</td>\n",
       "      <td></td>\n",
       "      <td>...</td>\n",
       "      <td>000000000000000</td>\n",
       "      <td>00000002235420</td>\n",
       "      <td>1</td>\n",
       "      <td>27680</td>\n",
       "      <td>HE43000001N202309.DTS</td>\n",
       "      <td>000000</td>\n",
       "      <td>J189</td>\n",
       "      <td>0000</td>\n",
       "      <td>1</td>\n",
       "      <td>0</td>\n",
       "    </tr>\n",
       "    <tr>\n",
       "      <th>2</th>\n",
       "      <td>430000</td>\n",
       "      <td>43</td>\n",
       "      <td>2023</td>\n",
       "      <td>09</td>\n",
       "      <td>2235420</td>\n",
       "      <td>4323106259714</td>\n",
       "      <td>0303140151</td>\n",
       "      <td>20230812</td>\n",
       "      <td>20230814</td>\n",
       "      <td></td>\n",
       "      <td>...</td>\n",
       "      <td>000000000000000</td>\n",
       "      <td>00000002235420</td>\n",
       "      <td>1</td>\n",
       "      <td>27680</td>\n",
       "      <td>HE43000001N202309.DTS</td>\n",
       "      <td>000000</td>\n",
       "      <td>J189</td>\n",
       "      <td>0000</td>\n",
       "      <td>1</td>\n",
       "      <td>0</td>\n",
       "    </tr>\n",
       "    <tr>\n",
       "      <th>3</th>\n",
       "      <td>430000</td>\n",
       "      <td>43</td>\n",
       "      <td>2023</td>\n",
       "      <td>09</td>\n",
       "      <td>2235420</td>\n",
       "      <td>4323106259714</td>\n",
       "      <td>0303140151</td>\n",
       "      <td>20230812</td>\n",
       "      <td>20230814</td>\n",
       "      <td></td>\n",
       "      <td>...</td>\n",
       "      <td>000000000000000</td>\n",
       "      <td>00000002235420</td>\n",
       "      <td>1</td>\n",
       "      <td>27680</td>\n",
       "      <td>HE43000001N202309.DTS</td>\n",
       "      <td>000000</td>\n",
       "      <td>J189</td>\n",
       "      <td>0000</td>\n",
       "      <td>1</td>\n",
       "      <td>0</td>\n",
       "    </tr>\n",
       "    <tr>\n",
       "      <th>4</th>\n",
       "      <td>430000</td>\n",
       "      <td>43</td>\n",
       "      <td>2023</td>\n",
       "      <td>09</td>\n",
       "      <td>2235420</td>\n",
       "      <td>4323106259714</td>\n",
       "      <td>0303140151</td>\n",
       "      <td>20230812</td>\n",
       "      <td>20230814</td>\n",
       "      <td></td>\n",
       "      <td>...</td>\n",
       "      <td>000000000000000</td>\n",
       "      <td>00000002235420</td>\n",
       "      <td>1</td>\n",
       "      <td>27680</td>\n",
       "      <td>HE43000001N202309.DTS</td>\n",
       "      <td>000000</td>\n",
       "      <td>J189</td>\n",
       "      <td>0000</td>\n",
       "      <td>1</td>\n",
       "      <td>0</td>\n",
       "    </tr>\n",
       "  </tbody>\n",
       "</table>\n",
       "<p>5 rows × 36 columns</p>\n",
       "</div>"
      ],
      "text/plain": [
       "  SP_GESTOR SP_UF SP_AA SP_MM  SP_CNES        SP_NAIH  SP_PROCREA SP_DTINTER  \\\n",
       "0    430000    43  2023    09  2235420  4323106259714  0303140151   20230812   \n",
       "1    430000    43  2023    09  2235420  4323106259714  0303140151   20230812   \n",
       "2    430000    43  2023    09  2235420  4323106259714  0303140151   20230812   \n",
       "3    430000    43  2023    09  2235420  4323106259714  0303140151   20230812   \n",
       "4    430000    43  2023    09  2235420  4323106259714  0303140151   20230812   \n",
       "\n",
       "  SP_DTSAIDA SP_NUM_PR  ...        SP_PF_DOC       SP_PJ_DOC IN_TP_VAL  \\\n",
       "0   20230814            ...  000000000000000  00000002235420         1   \n",
       "1   20230814            ...  000000000000000  00000002235420         1   \n",
       "2   20230814            ...  000000000000000  00000002235420         1   \n",
       "3   20230814            ...  000000000000000  00000002235420         1   \n",
       "4   20230814            ...  000000000000000  00000002235420         1   \n",
       "\n",
       "   SEQUENCIA                REMESSA SERV_CLA SP_CIDPRI SP_CIDSEC SP_QT_PROC  \\\n",
       "0      27680  HE43000001N202309.DTS   000000      J189      0000          1   \n",
       "1      27680  HE43000001N202309.DTS   000000      J189      0000          1   \n",
       "2      27680  HE43000001N202309.DTS   000000      J189      0000          1   \n",
       "3      27680  HE43000001N202309.DTS   000000      J189      0000          1   \n",
       "4      27680  HE43000001N202309.DTS   000000      J189      0000          1   \n",
       "\n",
       "  SP_U_AIH  \n",
       "0        0  \n",
       "1        0  \n",
       "2        0  \n",
       "3        0  \n",
       "4        0  \n",
       "\n",
       "[5 rows x 36 columns]"
      ]
     },
     "execution_count": 14,
     "metadata": {},
     "output_type": "execute_result"
    }
   ],
   "source": [
    "data.head()"
   ]
  },
  {
   "cell_type": "code",
   "execution_count": 15,
   "id": "932b2c8b-bba8-4001-93a9-5e5f31c2225b",
   "metadata": {},
   "outputs": [
    {
     "name": "stdout",
     "output_type": "stream",
     "text": [
      "0          431610\n",
      "1          431610\n",
      "2          431610\n",
      "3          431610\n",
      "4          431610\n",
      "            ...  \n",
      "1019588    431870\n",
      "1019589    431870\n",
      "1019590    431870\n",
      "1019591    431870\n",
      "1019592    431870\n",
      "Name: SP_M_PAC, Length: 1019593, dtype: string\n"
     ]
    }
   ],
   "source": [
    "print(data['SP_M_PAC'])"
   ]
  },
  {
   "cell_type": "code",
   "execution_count": 16,
   "id": "c129651e-ade9-4592-951e-64b19b5f18f5",
   "metadata": {},
   "outputs": [
    {
     "name": "stdout",
     "output_type": "stream",
     "text": [
      "O código 140023 não está presente na coluna.\n"
     ]
    }
   ],
   "source": [
    "codigo_especifico = '140023'\n",
    "if codigo_especifico in data['SP_M_PAC'].values:\n",
    "    print(f\"O código {codigo_especifico} está presente na coluna.\")\n",
    "else:\n",
    "    print(f\"O código {codigo_especifico} não está presente na coluna.\")\n"
   ]
  },
  {
   "cell_type": "markdown",
   "id": "ef67c884-f63e-47e5-90b3-c7fd1ef54222",
   "metadata": {},
   "source": [
    "## Limpando os dados"
   ]
  },
  {
   "cell_type": "code",
   "execution_count": 17,
   "id": "57eb3fdb-9d3e-4a66-a84e-3d74ba649938",
   "metadata": {},
   "outputs": [],
   "source": [
    "data_clean = data.drop(['SP_NUM_PR', 'SP_TIPO'], axis='columns')"
   ]
  },
  {
   "cell_type": "code",
   "execution_count": 18,
   "id": "bed4ab6c-ce52-4f4d-ac98-4a727c07afd7",
   "metadata": {},
   "outputs": [
    {
     "name": "stdout",
     "output_type": "stream",
     "text": [
      "<class 'pandas.core.frame.DataFrame'>\n",
      "RangeIndex: 1019593 entries, 0 to 1019592\n",
      "Data columns (total 34 columns):\n",
      " #   Column      Non-Null Count    Dtype \n",
      "---  ------      --------------    ----- \n",
      " 0   SP_GESTOR   1019593 non-null  string\n",
      " 1   SP_UF       1019593 non-null  string\n",
      " 2   SP_AA       1019593 non-null  string\n",
      " 3   SP_MM       1019593 non-null  string\n",
      " 4   SP_CNES     1019593 non-null  string\n",
      " 5   SP_NAIH     1019593 non-null  string\n",
      " 6   SP_PROCREA  1019593 non-null  string\n",
      " 7   SP_DTINTER  1019593 non-null  string\n",
      " 8   SP_DTSAIDA  1019593 non-null  string\n",
      " 9   SP_CPFCGC   1019593 non-null  string\n",
      " 10  SP_ATOPROF  1019593 non-null  string\n",
      " 11  SP_TP_ATO   1019593 non-null  string\n",
      " 12  SP_QTD_ATO  1019593 non-null  string\n",
      " 13  SP_PTSP     1019593 non-null  string\n",
      " 14  SP_NF       1019593 non-null  string\n",
      " 15  SP_VALATO   1019593 non-null  string\n",
      " 16  SP_M_HOSP   1019593 non-null  string\n",
      " 17  SP_M_PAC    1019593 non-null  string\n",
      " 18  SP_DES_HOS  1019593 non-null  string\n",
      " 19  SP_DES_PAC  1019593 non-null  string\n",
      " 20  SP_COMPLEX  1019593 non-null  string\n",
      " 21  SP_FINANC   1019593 non-null  string\n",
      " 22  SP_CO_FAEC  1019593 non-null  string\n",
      " 23  SP_PF_CBO   1019593 non-null  string\n",
      " 24  SP_PF_DOC   1019593 non-null  string\n",
      " 25  SP_PJ_DOC   1019593 non-null  string\n",
      " 26  IN_TP_VAL   1019593 non-null  string\n",
      " 27  SEQUENCIA   1019593 non-null  string\n",
      " 28  REMESSA     1019593 non-null  string\n",
      " 29  SERV_CLA    1019593 non-null  string\n",
      " 30  SP_CIDPRI   1019593 non-null  string\n",
      " 31  SP_CIDSEC   1019593 non-null  string\n",
      " 32  SP_QT_PROC  1019593 non-null  string\n",
      " 33  SP_U_AIH    1019593 non-null  string\n",
      "dtypes: string(34)\n",
      "memory usage: 264.5 MB\n"
     ]
    }
   ],
   "source": [
    "data_clean.info()"
   ]
  },
  {
   "cell_type": "code",
   "execution_count": 19,
   "id": "50a55773-d684-4e95-bb88-550e45914dc6",
   "metadata": {},
   "outputs": [],
   "source": [
    "data_clean = data.drop(['SP_GESTOR','SP_NUM_PR', 'SP_TIPO', 'SP_TP_ATO','SP_CPFCGC', 'SP_QTD_ATO', 'SP_PTSP', 'SP_NF', 'SP_COMPLEX', 'SP_FINANC', 'SP_CO_FAEC', 'SP_PF_DOC', 'SP_PJ_DOC','IN_TP_VAL', 'SEQUENCIA', 'REMESSA', 'SERV_CLA', 'SP_CIDPRI', 'SP_CIDSEC', 'SP_U_AIH', 'SP_PF_CBO'], axis='columns')"
   ]
  },
  {
   "cell_type": "code",
   "execution_count": 20,
   "id": "ae6e54af-31db-43eb-b158-a3787a215d6c",
   "metadata": {},
   "outputs": [
    {
     "name": "stdout",
     "output_type": "stream",
     "text": [
      "<class 'pandas.core.frame.DataFrame'>\n",
      "RangeIndex: 1019593 entries, 0 to 1019592\n",
      "Data columns (total 15 columns):\n",
      " #   Column      Non-Null Count    Dtype \n",
      "---  ------      --------------    ----- \n",
      " 0   SP_UF       1019593 non-null  string\n",
      " 1   SP_AA       1019593 non-null  string\n",
      " 2   SP_MM       1019593 non-null  string\n",
      " 3   SP_CNES     1019593 non-null  string\n",
      " 4   SP_NAIH     1019593 non-null  string\n",
      " 5   SP_PROCREA  1019593 non-null  string\n",
      " 6   SP_DTINTER  1019593 non-null  string\n",
      " 7   SP_DTSAIDA  1019593 non-null  string\n",
      " 8   SP_ATOPROF  1019593 non-null  string\n",
      " 9   SP_VALATO   1019593 non-null  string\n",
      " 10  SP_M_HOSP   1019593 non-null  string\n",
      " 11  SP_M_PAC    1019593 non-null  string\n",
      " 12  SP_DES_HOS  1019593 non-null  string\n",
      " 13  SP_DES_PAC  1019593 non-null  string\n",
      " 14  SP_QT_PROC  1019593 non-null  string\n",
      "dtypes: string(15)\n",
      "memory usage: 116.7 MB\n"
     ]
    }
   ],
   "source": [
    "data_clean.info()"
   ]
  },
  {
   "cell_type": "code",
   "execution_count": 21,
   "id": "951c09d8-4c11-45ce-a492-a54593dc4a01",
   "metadata": {},
   "outputs": [
    {
     "data": {
      "text/html": [
       "<div>\n",
       "<style scoped>\n",
       "    .dataframe tbody tr th:only-of-type {\n",
       "        vertical-align: middle;\n",
       "    }\n",
       "\n",
       "    .dataframe tbody tr th {\n",
       "        vertical-align: top;\n",
       "    }\n",
       "\n",
       "    .dataframe thead th {\n",
       "        text-align: right;\n",
       "    }\n",
       "</style>\n",
       "<table border=\"1\" class=\"dataframe\">\n",
       "  <thead>\n",
       "    <tr style=\"text-align: right;\">\n",
       "      <th></th>\n",
       "      <th>SP_UF</th>\n",
       "      <th>SP_AA</th>\n",
       "      <th>SP_MM</th>\n",
       "      <th>SP_CNES</th>\n",
       "      <th>SP_NAIH</th>\n",
       "      <th>SP_PROCREA</th>\n",
       "      <th>SP_DTINTER</th>\n",
       "      <th>SP_DTSAIDA</th>\n",
       "      <th>SP_ATOPROF</th>\n",
       "      <th>SP_VALATO</th>\n",
       "      <th>SP_M_HOSP</th>\n",
       "      <th>SP_M_PAC</th>\n",
       "      <th>SP_DES_HOS</th>\n",
       "      <th>SP_DES_PAC</th>\n",
       "      <th>SP_QT_PROC</th>\n",
       "    </tr>\n",
       "  </thead>\n",
       "  <tbody>\n",
       "    <tr>\n",
       "      <th>0</th>\n",
       "      <td>43</td>\n",
       "      <td>2023</td>\n",
       "      <td>09</td>\n",
       "      <td>2235420</td>\n",
       "      <td>4323106259714</td>\n",
       "      <td>0303140151</td>\n",
       "      <td>20230812</td>\n",
       "      <td>20230814</td>\n",
       "      <td>0204030153</td>\n",
       "      <td>0.00</td>\n",
       "      <td>431610</td>\n",
       "      <td>431610</td>\n",
       "      <td>0</td>\n",
       "      <td>0</td>\n",
       "      <td>1</td>\n",
       "    </tr>\n",
       "    <tr>\n",
       "      <th>1</th>\n",
       "      <td>43</td>\n",
       "      <td>2023</td>\n",
       "      <td>09</td>\n",
       "      <td>2235420</td>\n",
       "      <td>4323106259714</td>\n",
       "      <td>0303140151</td>\n",
       "      <td>20230812</td>\n",
       "      <td>20230814</td>\n",
       "      <td>0202020380</td>\n",
       "      <td>0.00</td>\n",
       "      <td>431610</td>\n",
       "      <td>431610</td>\n",
       "      <td>0</td>\n",
       "      <td>0</td>\n",
       "      <td>1</td>\n",
       "    </tr>\n",
       "    <tr>\n",
       "      <th>2</th>\n",
       "      <td>43</td>\n",
       "      <td>2023</td>\n",
       "      <td>09</td>\n",
       "      <td>2235420</td>\n",
       "      <td>4323106259714</td>\n",
       "      <td>0303140151</td>\n",
       "      <td>20230812</td>\n",
       "      <td>20230814</td>\n",
       "      <td>0202020029</td>\n",
       "      <td>0.00</td>\n",
       "      <td>431610</td>\n",
       "      <td>431610</td>\n",
       "      <td>0</td>\n",
       "      <td>0</td>\n",
       "      <td>1</td>\n",
       "    </tr>\n",
       "    <tr>\n",
       "      <th>3</th>\n",
       "      <td>43</td>\n",
       "      <td>2023</td>\n",
       "      <td>09</td>\n",
       "      <td>2235420</td>\n",
       "      <td>4323106259714</td>\n",
       "      <td>0303140151</td>\n",
       "      <td>20230812</td>\n",
       "      <td>20230814</td>\n",
       "      <td>0202010317</td>\n",
       "      <td>0.00</td>\n",
       "      <td>431610</td>\n",
       "      <td>431610</td>\n",
       "      <td>0</td>\n",
       "      <td>0</td>\n",
       "      <td>1</td>\n",
       "    </tr>\n",
       "    <tr>\n",
       "      <th>4</th>\n",
       "      <td>43</td>\n",
       "      <td>2023</td>\n",
       "      <td>09</td>\n",
       "      <td>2235420</td>\n",
       "      <td>4323106259714</td>\n",
       "      <td>0303140151</td>\n",
       "      <td>20230812</td>\n",
       "      <td>20230814</td>\n",
       "      <td>0202010473</td>\n",
       "      <td>0.00</td>\n",
       "      <td>431610</td>\n",
       "      <td>431610</td>\n",
       "      <td>0</td>\n",
       "      <td>0</td>\n",
       "      <td>1</td>\n",
       "    </tr>\n",
       "  </tbody>\n",
       "</table>\n",
       "</div>"
      ],
      "text/plain": [
       "  SP_UF SP_AA SP_MM  SP_CNES        SP_NAIH  SP_PROCREA SP_DTINTER SP_DTSAIDA  \\\n",
       "0    43  2023    09  2235420  4323106259714  0303140151   20230812   20230814   \n",
       "1    43  2023    09  2235420  4323106259714  0303140151   20230812   20230814   \n",
       "2    43  2023    09  2235420  4323106259714  0303140151   20230812   20230814   \n",
       "3    43  2023    09  2235420  4323106259714  0303140151   20230812   20230814   \n",
       "4    43  2023    09  2235420  4323106259714  0303140151   20230812   20230814   \n",
       "\n",
       "   SP_ATOPROF       SP_VALATO SP_M_HOSP SP_M_PAC SP_DES_HOS SP_DES_PAC  \\\n",
       "0  0204030153            0.00    431610   431610          0          0   \n",
       "1  0202020380            0.00    431610   431610          0          0   \n",
       "2  0202020029            0.00    431610   431610          0          0   \n",
       "3  0202010317            0.00    431610   431610          0          0   \n",
       "4  0202010473            0.00    431610   431610          0          0   \n",
       "\n",
       "  SP_QT_PROC  \n",
       "0          1  \n",
       "1          1  \n",
       "2          1  \n",
       "3          1  \n",
       "4          1  "
      ]
     },
     "execution_count": 21,
     "metadata": {},
     "output_type": "execute_result"
    }
   ],
   "source": [
    "data_clean.head()"
   ]
  },
  {
   "cell_type": "code",
   "execution_count": 22,
   "id": "fc1265b9-91f6-4da2-99db-562e757ad7bc",
   "metadata": {},
   "outputs": [
    {
     "name": "stdout",
     "output_type": "stream",
     "text": [
      "<StringArray>\n",
      "['2235420', '2235412', '2235404', '2235366', '2235323', '2252287', '2262274',\n",
      " '2228734', '2232928', '2232995',\n",
      " ...\n",
      " '2224615', '2252082', '2252058', '2257645', '2252112', '2241226', '2241196',\n",
      " '2241072', '2241129', '2252228']\n",
      "Length: 267, dtype: string\n"
     ]
    }
   ],
   "source": [
    "tipos_dados = data_clean['SP_CNES'].unique()\n",
    "print(tipos_dados)"
   ]
  },
  {
   "cell_type": "markdown",
   "id": "d1a5914f-ad97-4cef-aeb7-9ca26ce14317",
   "metadata": {},
   "source": [
    "## Descrição das colunas do dataset após primeira filtragem:"
   ]
  },
  {
   "cell_type": "raw",
   "id": "af8672a7-d552-47d0-aa52-403b07118ba4",
   "metadata": {},
   "source": [
    "SP_UF = código do estado (43)\n",
    "\n",
    "SP_AA = ano do dado\n",
    "\n",
    "SP_MM = mes do dado\n",
    "\n",
    "SP_CNES = Código CNES do hospital\n",
    "\n",
    "SP_NAIH = Número do AIH (código que realizar a solicitação de internação) \n",
    "\n",
    "SP_PROCREA = Procedimento realizado na AIH (codigo nao espeficado) Tem 90% no link: https://arquivos.camacari.ba.gov.br/compras/ANEXO%20VIII%20-%20TABELA%20NACIONAL%20DE%20PROCEDIMENTOS%20SUS.pdf \n",
    "\n",
    "SP_DTINTER = Dia da internação (em string, exemplo: \"20221209\" ano, mes, dia\n",
    "\n",
    "SP_DTSAIDA = Data de saida(mesmo tipo e formato do de internação)\n",
    "\n",
    "SP_ATOPROF = Procedimento referente ao ato profissional (codigo NÃO especificado) Tem 90% no link: https://arquivos.camacari.ba.gov.br/compras/ANEXO%20VIII%20-%20TABELA%20NACIONAL%20DE%20PROCEDIMENTOS%20SUS.pdf \n",
    "\n",
    "SP_VALATO = Valor do ato profissional (numero em string)\n",
    "\n",
    "SP_M_HOSP = código do munícipio do hospital ou estabelecimento (temos oq significa)\n",
    "\n",
    "SP_M_PAC = código do endereço do paciente (temos oq significa)\n",
    "\n",
    "SP_DES_HOS E DES_PAC = COLUNA BINARIA INDICANDO SE O ENDEREÇO DO PACIENTE É IGUAL AO DO HOSPITAL\n",
    "\n",
    "SP_PF_CBO = Código de ocupação brasileira (titulo do trabalho do cara em código CBO) do profissional que realizou o ato (ou 0000 caso nao tenha info)\n",
    "\n",
    "SP_QT_PROC = qtd de procedimentos realizados (numeros)"
   ]
  },
  {
   "cell_type": "markdown",
   "id": "0be010eb-5f0d-43cc-ba59-baa5e7115d52",
   "metadata": {},
   "source": [
    "## Criação das colunas de nome das cidades interrnas e externas do RS"
   ]
  },
  {
   "cell_type": "markdown",
   "id": "e55eb088-4de4-4ac0-80c9-db92deb3b3aa",
   "metadata": {},
   "source": [
    "#### Dicionário de cidades"
   ]
  },
  {
   "cell_type": "code",
   "execution_count": 23,
   "id": "64ebbc8a-2ba1-4214-bb13-8f704a476bd0",
   "metadata": {},
   "outputs": [],
   "source": [
    "arquivo = 'Nomes_cidades'\n",
    "codigo_cidade = {}\n",
    "with open(arquivo, 'r') as f:\n",
    "    linhas = f.readlines()\n",
    "\n",
    "for linha in linhas:\n",
    "    partes = linha.split()\n",
    "    codigo_cid = partes[0]\n",
    "    nome_cidade = ' '.join(partes[2:-1])\n",
    "    codigo_cidade[codigo_cid] = nome_cidade"
   ]
  },
  {
   "cell_type": "code",
   "execution_count": null,
   "id": "791d2bfe-a542-4e38-981c-9816afc0db3b",
   "metadata": {},
   "outputs": [],
   "source": []
  },
  {
   "cell_type": "code",
   "execution_count": 24,
   "id": "16cb97ce-7d42-4c0b-bd51-a8084d5730df",
   "metadata": {},
   "outputs": [
    {
     "name": "stdout",
     "output_type": "stream",
     "text": [
      "        SP_UF SP_AA SP_MM  SP_CNES        SP_NAIH  SP_PROCREA SP_DTINTER  \\\n",
      "0          43  2023    09  2235420  4323106259714  0303140151   20230812   \n",
      "1          43  2023    09  2235420  4323106259714  0303140151   20230812   \n",
      "2          43  2023    09  2235420  4323106259714  0303140151   20230812   \n",
      "3          43  2023    09  2235420  4323106259714  0303140151   20230812   \n",
      "4          43  2023    09  2235420  4323106259714  0303140151   20230812   \n",
      "...       ...   ...   ...      ...            ...         ...        ...   \n",
      "1019588    43  2023    09  2232022  4323104173168  0303130067   20230522   \n",
      "1019589    43  2023    09  2232022  4323104173168  0303130067   20230522   \n",
      "1019590    43  2023    09  2232022  4323104173168  0303130067   20230522   \n",
      "1019591    43  2023    09  2232022  4323104173168  0303130067   20230522   \n",
      "1019592    43  2023    09  2232022  4323104173168  0303130067   20230522   \n",
      "\n",
      "        SP_DTSAIDA  SP_ATOPROF       SP_VALATO SP_M_HOSP SP_M_PAC SP_DES_HOS  \\\n",
      "0         20230814  0204030153            0.00    431610   431610          0   \n",
      "1         20230814  0202020380            0.00    431610   431610          0   \n",
      "2         20230814  0202020029            0.00    431610   431610          0   \n",
      "3         20230814  0202010317            0.00    431610   431610          0   \n",
      "4         20230814  0202010473            0.00    431610   431610          0   \n",
      "...            ...         ...             ...       ...      ...        ...   \n",
      "1019588   20230605  0302040021           65.38    431870   431870          0   \n",
      "1019589   20230605  0302060022           38.10    431870   431870          0   \n",
      "1019590   20230605  0202010317            0.00    431870   431870          0   \n",
      "1019591   20230605  0202010600            0.00    431870   431870          0   \n",
      "1019592   20230605  0202010635            0.00    431870   431870          0   \n",
      "\n",
      "        SP_DES_PAC SP_QT_PROC                 SP_CIDADE_H  \n",
      "0                0          1    GRANDE DO SUL RONDA ALTA  \n",
      "1                0          1    GRANDE DO SUL RONDA ALTA  \n",
      "2                0          1    GRANDE DO SUL RONDA ALTA  \n",
      "3                0          1    GRANDE DO SUL RONDA ALTA  \n",
      "4                0          1    GRANDE DO SUL RONDA ALTA  \n",
      "...            ...        ...                         ...  \n",
      "1019588          0         14  GRANDE DO SUL SÃO LEOPOLDO  \n",
      "1019589          0          6  GRANDE DO SUL SÃO LEOPOLDO  \n",
      "1019590          0          3  GRANDE DO SUL SÃO LEOPOLDO  \n",
      "1019591          0          3  GRANDE DO SUL SÃO LEOPOLDO  \n",
      "1019592          0          3  GRANDE DO SUL SÃO LEOPOLDO  \n",
      "\n",
      "[1019593 rows x 16 columns]\n"
     ]
    }
   ],
   "source": [
    "data_clean['SP_CIDADE_H'] = data_clean['SP_M_HOSP'].map(codigo_cidade)\n",
    "print(data_clean)"
   ]
  },
  {
   "cell_type": "code",
   "execution_count": 25,
   "id": "c7d10bd7-c6f4-44f6-a0cc-638ded431155",
   "metadata": {},
   "outputs": [
    {
     "name": "stdout",
     "output_type": "stream",
     "text": [
      "        SP_UF SP_AA SP_MM  SP_CNES        SP_NAIH  SP_PROCREA SP_DTINTER  \\\n",
      "0          43  2023    09  2235420  4323106259714  0303140151   20230812   \n",
      "1          43  2023    09  2235420  4323106259714  0303140151   20230812   \n",
      "2          43  2023    09  2235420  4323106259714  0303140151   20230812   \n",
      "3          43  2023    09  2235420  4323106259714  0303140151   20230812   \n",
      "4          43  2023    09  2235420  4323106259714  0303140151   20230812   \n",
      "...       ...   ...   ...      ...            ...         ...        ...   \n",
      "1019588    43  2023    09  2232022  4323104173168  0303130067   20230522   \n",
      "1019589    43  2023    09  2232022  4323104173168  0303130067   20230522   \n",
      "1019590    43  2023    09  2232022  4323104173168  0303130067   20230522   \n",
      "1019591    43  2023    09  2232022  4323104173168  0303130067   20230522   \n",
      "1019592    43  2023    09  2232022  4323104173168  0303130067   20230522   \n",
      "\n",
      "        SP_DTSAIDA  SP_ATOPROF       SP_VALATO SP_M_HOSP SP_M_PAC SP_DES_HOS  \\\n",
      "0         20230814  0204030153            0.00    431610   431610          0   \n",
      "1         20230814  0202020380            0.00    431610   431610          0   \n",
      "2         20230814  0202020029            0.00    431610   431610          0   \n",
      "3         20230814  0202010317            0.00    431610   431610          0   \n",
      "4         20230814  0202010473            0.00    431610   431610          0   \n",
      "...            ...         ...             ...       ...      ...        ...   \n",
      "1019588   20230605  0302040021           65.38    431870   431870          0   \n",
      "1019589   20230605  0302060022           38.10    431870   431870          0   \n",
      "1019590   20230605  0202010317            0.00    431870   431870          0   \n",
      "1019591   20230605  0202010600            0.00    431870   431870          0   \n",
      "1019592   20230605  0202010635            0.00    431870   431870          0   \n",
      "\n",
      "        SP_DES_PAC SP_QT_PROC                 SP_CIDADE_H  \\\n",
      "0                0          1    GRANDE DO SUL RONDA ALTA   \n",
      "1                0          1    GRANDE DO SUL RONDA ALTA   \n",
      "2                0          1    GRANDE DO SUL RONDA ALTA   \n",
      "3                0          1    GRANDE DO SUL RONDA ALTA   \n",
      "4                0          1    GRANDE DO SUL RONDA ALTA   \n",
      "...            ...        ...                         ...   \n",
      "1019588          0         14  GRANDE DO SUL SÃO LEOPOLDO   \n",
      "1019589          0          6  GRANDE DO SUL SÃO LEOPOLDO   \n",
      "1019590          0          3  GRANDE DO SUL SÃO LEOPOLDO   \n",
      "1019591          0          3  GRANDE DO SUL SÃO LEOPOLDO   \n",
      "1019592          0          3  GRANDE DO SUL SÃO LEOPOLDO   \n",
      "\n",
      "                        SP_CIDADE_P  \n",
      "0          GRANDE DO SUL RONDA ALTA  \n",
      "1          GRANDE DO SUL RONDA ALTA  \n",
      "2          GRANDE DO SUL RONDA ALTA  \n",
      "3          GRANDE DO SUL RONDA ALTA  \n",
      "4          GRANDE DO SUL RONDA ALTA  \n",
      "...                             ...  \n",
      "1019588  GRANDE DO SUL SÃO LEOPOLDO  \n",
      "1019589  GRANDE DO SUL SÃO LEOPOLDO  \n",
      "1019590  GRANDE DO SUL SÃO LEOPOLDO  \n",
      "1019591  GRANDE DO SUL SÃO LEOPOLDO  \n",
      "1019592  GRANDE DO SUL SÃO LEOPOLDO  \n",
      "\n",
      "[1019593 rows x 17 columns]\n"
     ]
    }
   ],
   "source": [
    "data_clean['SP_CIDADE_P'] = data_clean['SP_M_PAC'].map(codigo_cidade)\n",
    "print(data_clean)"
   ]
  },
  {
   "cell_type": "markdown",
   "id": "39a78c11-9cc6-43ad-bcae-6f6e0b366a2a",
   "metadata": {},
   "source": [
    "### Limpando as colunas de nome das cidades"
   ]
  },
  {
   "cell_type": "code",
   "execution_count": 26,
   "id": "237c9cfa-5e41-4518-9efe-454293d75941",
   "metadata": {},
   "outputs": [
    {
     "name": "stdout",
     "output_type": "stream",
     "text": [
      "['GRANDE DO SUL RONDA ALTA' 'GRANDE DO SUL SARANDI'\n",
      " 'GRANDE DO SUL TRINDADE DO SUL' 'GRANDE DO SUL PALMEIRA DAS MISSÕES'\n",
      " 'GRANDE DO SUL LAJEADO' 'GRANDE DO SUL CARAZINHO'\n",
      " 'GRANDE DO SUL RODEIO BONITO' 'GRANDE DO SUL CANGUÇU'\n",
      " 'GRANDE DO SUL RIO GRANDE' 'GRANDE DO SUL PLANALTO'\n",
      " 'GRANDE DO SUL ALPESTRE' 'GRANDE DO SUL PALMITINHO'\n",
      " 'GRANDE DO SUL FREDERICO WESTPHALEN' 'GRANDE DO SUL SEBERI'\n",
      " 'GRANDE DO SUL AMETISTA DO SUL' 'GRANDE DO SUL TRÊS PASSOS'\n",
      " 'GRANDE DO SUL JABOTICABA' 'GRANDE DO SUL CHAPADA' 'GRANDE DO SUL IJUÍ'\n",
      " 'GRANDE DO SUL TORRES' 'GRANDE DO SUL OSÓRIO'\n",
      " 'GRANDE DO SUL TRÊS DE MAIO' 'GRANDE DO SUL ALECRIM'\n",
      " 'GRANDE DO SUL TUCUNDUVA' 'GRANDE DO SUL HORIZONTINA'\n",
      " 'GRANDE DO SUL SÃO LOURENÇO DO SUL' 'GRANDE DO SUL IRAÍ'\n",
      " 'GRANDE DO SUL PIRATINI' 'GRANDE DO SUL BOA VISTA DO BURICÁ'\n",
      " 'GRANDE DO SUL PINHEIRO MACHADO' 'GRANDE DO SUL PEDRO OSÓRIO'\n",
      " 'GRANDE DO SUL PASSO FUNDO' 'GRANDE DO SUL MARAU'\n",
      " 'GRANDE DO SUL SOLEDADE' 'GRANDE DO SUL DAVID CANABARRO'\n",
      " 'GRANDE DO SUL PORTO ALEGRE' 'GRANDE DO SUL PELOTAS'\n",
      " 'GRANDE DO SUL NOVO HAMBURGO' 'GRANDE DO SUL CANOAS'\n",
      " 'GRANDE DO SUL ILÓPOLIS' 'GRANDE DO SUL SÃO BORJA'\n",
      " 'GRANDE DO SUL CACHOEIRINHA' 'GRANDE DO SUL SAPIRANGA'\n",
      " 'GRANDE DO SUL TAQUARA' 'GRANDE DO SUL ALVORADA'\n",
      " 'GRANDE DO SUL SÃO SEBASTIÃO DO CAÍ' 'GRANDE DO SUL FLORES DA CUNHA'\n",
      " 'GRANDE DO SUL GIRUÁ' 'GRANDE DO SUL SANTA ROSA'\n",
      " 'GRANDE DO SUL SERAFINA CORRÊA' 'GRANDE DO SUL BOM RETIRO DO SUL'\n",
      " 'GRANDE DO SUL PUTINGA' 'GRANDE DO SUL SÃO JERÔNIMO'\n",
      " 'GRANDE DO SUL DOIS IRMÃOS' 'GRANDE DO SUL CHARQUEADAS'\n",
      " 'GRANDE DO SUL TENENTE PORTELA' 'GRANDE DO SUL CAMPO BOM'\n",
      " 'GRANDE DO SUL CANELA' 'GRANDE DO SUL ROCA SALES'\n",
      " 'GRANDE DO SUL CAXIAS DO SUL' 'GRANDE DO SUL GUAPORÉ'\n",
      " 'GRANDE DO SUL TAQUARI' 'GRANDE DO SUL SANTA CRUZ DO SUL'\n",
      " 'GRANDE DO SUL VERANÓPOLIS' 'GRANDE DO SUL GRAMADO'\n",
      " 'GRANDE DO SUL CANDELÁRIA' 'GRANDE DO SUL MARQUES DE SOUZA'\n",
      " 'GRANDE DO SUL MUÇUM' 'GRANDE DO SUL SAPUCAIA DO SUL'\n",
      " 'GRANDE DO SUL CONSTANTINA' 'GRANDE DO SUL RONDINHA'\n",
      " 'GRANDE DO SUL SANTO AUGUSTO' 'GRANDE DO SUL AUGUSTO PESTANA'\n",
      " 'GRANDE DO SUL AJURICABA' 'GRANDE DO SUL SÃO MARTINHO'\n",
      " 'GRANDE DO SUL CRISSIUMAL' 'GRANDE DO SUL PALMARES DO SUL'\n",
      " 'GRANDE DO SUL MAXIMILIANO DE ALMEIDA' 'GRANDE DO SUL ARVOREZINHA'\n",
      " 'GRANDE DO SUL LAGOA VERMELHA' 'GRANDE DO SUL BAGÉ'\n",
      " 'GRANDE DO SUL DOM PEDRITO' 'GRANDE DO SUL URUGUAIANA'\n",
      " 'GRANDE DO SUL SÃO GABRIEL' 'GRANDE DO SUL ROSÁRIO DO SUL'\n",
      " 'GRANDE DO SUL ITAQUI' 'GRANDE DO SUL ALEGRETE' 'GRANDE DO SUL NONOAI'\n",
      " 'GRANDE DO SUL ENCRUZILHADA DO SUL' 'GRANDE DO SUL SEGREDO'\n",
      " 'GRANDE DO SUL SOBRADINHO' 'GRANDE DO SUL CRUZ ALTA'\n",
      " 'GRANDE DO SUL SANTA BÁRBARA DO SUL' 'GRANDE DO SUL IBIRUBÁ'\n",
      " 'GRANDE DO SUL GETÚLIO VARGAS' 'GRANDE DO SUL PAIM FILHO'\n",
      " 'GRANDE DO SUL CAÇAPAVA DO SUL' 'GRANDE DO SUL SANTA MARIA'\n",
      " 'GRANDE DO SUL SÃO PEDRO DO SUL' 'GRANDE DO SUL SÃO SEPÉ'\n",
      " 'GRANDE DO SUL SANTIAGO' 'GRANDE DO SUL CASCA'\n",
      " 'GRANDE DO SUL MARCELINO RAMOS' 'GRANDE DO SUL CAMAQUÃ'\n",
      " 'GRANDE DO SUL SÃO MIGUEL DAS MISSÕES' 'GRANDE DO SUL ROQUE GONZALES'\n",
      " 'GRANDE DO SUL ERECHIM' 'GRANDE DO SUL CAPÃO DA CANOA'\n",
      " 'GRANDE DO SUL RIO PARDO' 'GRANDE DO SUL VIAMÃO'\n",
      " 'GRANDE DO SUL TUPANCIRETÃ' 'GRANDE DO SUL NOVA PALMA'\n",
      " 'GRANDE DO SUL SÃO FRANCISCO DE PAULA'\n",
      " 'GRANDE DO SUL CAMPINA DAS MISSÕES' 'GRANDE DO SUL CAIBATÉ'\n",
      " 'GRANDE DO SUL SÃO JOÃO DO POLÊSINE' 'GRANDE DO SUL IVOTI'\n",
      " 'GRANDE DO SUL CÂNDIDO GODÓI' 'GRANDE DO SUL PORTO XAVIER'\n",
      " 'GRANDE DO SUL SANTO ANTÔNIO DA PATRULHA' 'GRANDE DO SUL TRAMANDAÍ'\n",
      " 'GRANDE DO SUL GUARANI DAS MISSÕES' 'GRANDE DO SUL CHIAPETTA'\n",
      " 'GRANDE DO SUL PEJUÇARA' 'GRANDE DO SUL ARROIO DO TIGRE'\n",
      " 'GRANDE DO SUL SÃO JOSÉ DO OURO' 'GRANDE DO SUL CAMPINAS DO SUL'\n",
      " 'GRANDE DO SUL CERRO LARGO' 'GRANDE DO SUL ESTÂNCIA VELHA'\n",
      " 'GRANDE DO SUL FAXINAL DO SOTURNO' 'GRANDE DO SUL ARROIO GRANDE'\n",
      " 'GRANDE DO SUL SERTÃO' 'GRANDE DO SUL SÃO PAULO DAS MISSÕES'\n",
      " 'GRANDE DO SUL CACEQUI' 'GRANDE DO SUL SELBACH'\n",
      " 'GRANDE DO SUL QUINZE DE NOVEMBRO' 'GRANDE DO SUL DOIS LAJEADOS'\n",
      " 'GRANDE DO SUL SÃO LUIZ GONZAGA' 'GRANDE DO SUL SANTO ÂNGELO'\n",
      " 'GRANDE DO SUL VALE DO SOL' 'GRANDE DO SUL VERA CRUZ'\n",
      " 'GRANDE DO SUL PORTO LUCENA' 'GRANDE DO SUL MONTENEGRO'\n",
      " 'GRANDE DO SUL PARAÍSO DO SUL' 'GRANDE DO SUL IGREJINHA'\n",
      " 'GRANDE DO SUL PAROBÉ' 'GRANDE DO SUL CORONEL BICACO'\n",
      " 'GRANDE DO SUL ESPUMOSO' 'GRANDE DO SUL SANTA VITÓRIA DO PALMAR'\n",
      " 'GRANDE DO SUL HERVAL' 'GRANDE DO SUL AGUDO' 'GRANDE DO SUL SANTO CRISTO'\n",
      " 'GRANDE DO SUL ROLANTE' 'GRANDE DO SUL TAPEJARA' 'GRANDE DO SUL TAPERA'\n",
      " 'GRANDE DO SUL NÃO-ME-TOQUE' 'GRANDE DO SUL ARATIBA'\n",
      " 'GRANDE DO SUL DOM FELICIANO' 'GRANDE DO SUL CONDOR'\n",
      " 'GRANDE DO SUL JAGUARI' 'GRANDE DO SUL JAGUARÃO' 'GRANDE DO SUL TRIUNFO'\n",
      " 'GRANDE DO SUL VIADUTOS' 'GRANDE DO SUL GAURAMA'\n",
      " 'GRANDE DO SUL CAMPO NOVO' 'GRANDE DO SUL SALDANHA MARINHO'\n",
      " 'GRANDE DO SUL SALTO DO JACUÍ' 'GRANDE DO SUL IVORÁ' 'GRANDE DO SUL MATA'\n",
      " 'GRANDE DO SUL ACEGUÁ' 'GRANDE DO SUL SÃO VICENTE DO SUL'\n",
      " 'GRANDE DO SUL CAIÇARA' 'GRANDE DO SUL SANANDUVA'\n",
      " 'GRANDE DO SUL LAVRAS DO SUL' 'GRANDE DO SUL SÃO LEOPOLDO'\n",
      " 'GRANDE DO SUL SÃO FRANCISCO DE ASSIS' 'GRANDE DO SUL PINHAL GRANDE'\n",
      " 'GRANDE DO SUL FORMIGUEIRO' 'GRANDE DO SUL HUMAITÁ'\n",
      " 'GRANDE DO SUL JÚLIO DE CASTILHOS' 'GRANDE DO SUL ESTRELA'\n",
      " 'GRANDE DO SUL GRAVATAÍ' 'GRANDE DO SUL QUARAÍ'\n",
      " 'GRANDE DO SUL VENÂNCIO AIRES' 'GRANDE DO SUL FARROUPILHA'\n",
      " 'GRANDE DO SUL GUAÍBA' 'GRANDE DO SUL PARAÍ' 'GRANDE DO SUL VACARIA'\n",
      " 'GRANDE DO SUL CAMBARÁ DO SUL' 'GRANDE DO SUL PORTÃO'\n",
      " 'GRANDE DO SUL TRÊS COROAS' 'GRANDE DO SUL SÃO JOSÉ DO NORTE'\n",
      " 'GRANDE DO SUL CRUZEIRO DO SUL' 'GRANDE DO SUL TEUTÔNIA'\n",
      " 'GRANDE DO SUL BENTO GONÇALVES' 'GRANDE DO SUL CARLOS BARBOSA'\n",
      " 'GRANDE DO SUL ESTEIO' 'GRANDE DO SUL SALVADOR DO SUL'\n",
      " 'GRANDE DO SUL RIOZINHO' 'GRANDE DO SUL ARROIO DO MEIO'\n",
      " 'GRANDE DO SUL CACHOEIRA DO SUL' 'GRANDE DO SUL NOVA PRATA'\n",
      " 'GRANDE DO SUL SINIMBU' 'GRANDE DO SUL BOM JESUS'\n",
      " \"GRANDE DO SUL SANT'ANA DO LIVRAMENTO\" 'GRANDE DO SUL ANTA GORDA'\n",
      " 'GRANDE DO SUL NOVA BASSANO' 'GRANDE DO SUL NOVA PETRÓPOLIS'\n",
      " 'GRANDE DO SUL PANAMBI' 'GRANDE DO SUL RESTINGA SECA'\n",
      " 'GRANDE DO SUL FELIZ' 'GRANDE DO SUL GUABIJU'\n",
      " 'GRANDE DO SUL SEVERIANO DE ALMEIDA' 'GRANDE DO SUL TUPARENDI'\n",
      " 'GRANDE DO SUL MOSTARDAS' 'GRANDE DO SUL PROGRESSO'\n",
      " 'GRANDE DO SUL BOQUEIRÃO DO LEÃO' 'GRANDE DO SUL GARIBALDI'\n",
      " 'GRANDE DO SUL NOVA BRÉSCIA' 'GRANDE DO SUL SÃO MARCOS'\n",
      " 'GRANDE DO SUL JAQUIRANA' 'GRANDE DO SUL ANTÔNIO PRADO'\n",
      " 'GRANDE DO SUL BOM PRINCÍPIO' 'GRANDE DO SUL ENCANTADO']\n"
     ]
    }
   ],
   "source": [
    "tipos_dados = data_clean['SP_CIDADE_H'].unique()\n",
    "print(tipos_dados)"
   ]
  },
  {
   "cell_type": "raw",
   "id": "0ee26307-0ebd-40d4-9e2a-a8bb1b221ed4",
   "metadata": {},
   "source": [
    "601 códigos de cidades de pacientes (RS tem 497 cidades, tem 104 amais)\n",
    "222 códigos de cidades de hopsitais (faltam 275)"
   ]
  },
  {
   "cell_type": "code",
   "execution_count": 27,
   "id": "6eabfc6c-599e-480f-8433-29397d7f2918",
   "metadata": {},
   "outputs": [
    {
     "name": "stdout",
     "output_type": "stream",
     "text": [
      "496\n"
     ]
    }
   ],
   "source": [
    "print(len(codigo_cidade))"
   ]
  },
  {
   "cell_type": "code",
   "execution_count": 28,
   "id": "ca32d816-9c93-4176-bc32-cb319d51ff6f",
   "metadata": {},
   "outputs": [
    {
     "name": "stdout",
     "output_type": "stream",
     "text": [
      "        SP_UF SP_AA SP_MM  SP_CNES        SP_NAIH  SP_PROCREA SP_DTINTER  \\\n",
      "0          43  2023    09  2235420  4323106259714  0303140151   20230812   \n",
      "1          43  2023    09  2235420  4323106259714  0303140151   20230812   \n",
      "2          43  2023    09  2235420  4323106259714  0303140151   20230812   \n",
      "3          43  2023    09  2235420  4323106259714  0303140151   20230812   \n",
      "4          43  2023    09  2235420  4323106259714  0303140151   20230812   \n",
      "...       ...   ...   ...      ...            ...         ...        ...   \n",
      "1019588    43  2023    09  2232022  4323104173168  0303130067   20230522   \n",
      "1019589    43  2023    09  2232022  4323104173168  0303130067   20230522   \n",
      "1019590    43  2023    09  2232022  4323104173168  0303130067   20230522   \n",
      "1019591    43  2023    09  2232022  4323104173168  0303130067   20230522   \n",
      "1019592    43  2023    09  2232022  4323104173168  0303130067   20230522   \n",
      "\n",
      "        SP_DTSAIDA  SP_ATOPROF       SP_VALATO SP_M_HOSP SP_M_PAC SP_DES_HOS  \\\n",
      "0         20230814  0204030153            0.00    431610   431610          0   \n",
      "1         20230814  0202020380            0.00    431610   431610          0   \n",
      "2         20230814  0202020029            0.00    431610   431610          0   \n",
      "3         20230814  0202010317            0.00    431610   431610          0   \n",
      "4         20230814  0202010473            0.00    431610   431610          0   \n",
      "...            ...         ...             ...       ...      ...        ...   \n",
      "1019588   20230605  0302040021           65.38    431870   431870          0   \n",
      "1019589   20230605  0302060022           38.10    431870   431870          0   \n",
      "1019590   20230605  0202010317            0.00    431870   431870          0   \n",
      "1019591   20230605  0202010600            0.00    431870   431870          0   \n",
      "1019592   20230605  0202010635            0.00    431870   431870          0   \n",
      "\n",
      "        SP_DES_PAC SP_QT_PROC   SP_CIDADE_H   SP_CIDADE_P  \n",
      "0                0          1    RONDA ALTA    RONDA ALTA  \n",
      "1                0          1    RONDA ALTA    RONDA ALTA  \n",
      "2                0          1    RONDA ALTA    RONDA ALTA  \n",
      "3                0          1    RONDA ALTA    RONDA ALTA  \n",
      "4                0          1    RONDA ALTA    RONDA ALTA  \n",
      "...            ...        ...           ...           ...  \n",
      "1019588          0         14  SÃO LEOPOLDO  SÃO LEOPOLDO  \n",
      "1019589          0          6  SÃO LEOPOLDO  SÃO LEOPOLDO  \n",
      "1019590          0          3  SÃO LEOPOLDO  SÃO LEOPOLDO  \n",
      "1019591          0          3  SÃO LEOPOLDO  SÃO LEOPOLDO  \n",
      "1019592          0          3  SÃO LEOPOLDO  SÃO LEOPOLDO  \n",
      "\n",
      "[1019593 rows x 17 columns]\n"
     ]
    }
   ],
   "source": [
    "# String GRANDE DO SUL precisa ser retirada do dataset\n",
    "rs = 'GRANDE DO SUL'\n",
    "data_clean['SP_CIDADE_H'] = data_clean['SP_CIDADE_H'].str.replace(rs, '').str.strip()\n",
    "data_clean['SP_CIDADE_P'] = data_clean['SP_CIDADE_P'].str.replace(rs, '').str.strip()\n",
    "\n",
    "print(data_clean)"
   ]
  },
  {
   "cell_type": "code",
   "execution_count": 29,
   "id": "05277d24-a47d-48ee-a877-cee9be84b697",
   "metadata": {},
   "outputs": [
    {
     "name": "stdout",
     "output_type": "stream",
     "text": [
      "Total de valores nulos na coluna 'SP_CIDADE_P': 3525\n",
      "Total de valores nulos na coluna 'SP_CIDADE_H': 0\n"
     ]
    }
   ],
   "source": [
    "nulos_p = data_clean['SP_CIDADE_P'].isna().sum()\n",
    "nulos_h = data_clean['SP_CIDADE_H'].isna().sum()\n",
    "print(f\"Total de valores nulos na coluna 'SP_CIDADE_P': {nulos_p}\")\n",
    "print(f\"Total de valores nulos na coluna 'SP_CIDADE_H': {nulos_h}\")"
   ]
  },
  {
   "cell_type": "code",
   "execution_count": 30,
   "id": "840686d0-6b51-49ef-9b92-6c8a1354d2bb",
   "metadata": {},
   "outputs": [
    {
     "name": "stdout",
     "output_type": "stream",
     "text": [
      "Códigos SP_M_HOSP com valores nulos na coluna SP_CIDADE_H:\n",
      "<StringArray>\n",
      "['354870', '412680', '421225', '130260', '330540', '220795', '420419',\n",
      " '150775', '293077', '421270', '420430', '420570', '420540', '130440',\n",
      " '412370', '110020', '420820', '420910', '421600', '312770', '431454',\n",
      " '421720', '421870', '420140', '420750', '110004', '310350', '320500',\n",
      " '292740', '316040', '530010', '411950', '355030', '410140', '350850',\n",
      " '410302', '412810', '330490', '160030', '311860', '420830', '292070',\n",
      " '420840', '410370', '420545', '353930', '412625', '351830', '330414',\n",
      " '354880', '410690', '420610', '410965', '420195', '421770', '330455',\n",
      " '110002', '421880', '421890', '411990', '420700', '420460', '410480',\n",
      " '420420', '411330', '421190', '421650', '110032', '353980', '251610',\n",
      " '421130', '291050', '352940', '421800', '410040', '421280', '313055',\n",
      " '510320', '110140', '421660', '150619', '140045', '210090', '120025',\n",
      " '412200']\n",
      "Length: 85, dtype: string\n"
     ]
    }
   ],
   "source": [
    "codigos_nulos = data_clean[data_clean['SP_CIDADE_P'].isnull()]['SP_M_PAC'].unique()\n",
    "\n",
    "print(\"Códigos SP_M_HOSP com valores nulos na coluna SP_CIDADE_H:\")\n",
    "print(codigos_nulos)"
   ]
  },
  {
   "cell_type": "raw",
   "id": "82f97323-5e37-407d-bfb2-b646c2e53ce6",
   "metadata": {},
   "source": [
    "AQUI ACIMA FOI DESCOBERTO QUE, EXISTIAM PESSOAS QUE MORAVAM FORA DO RIO GRANDE DO SUL, POR ISSO CRIAMOS UMA COLUNA NOVA CHAMADA SP_CIDADE_P_EXT ONDE TEMOS OS NOMES DAS CIDADES DOS PACIENTES QUE MORAVAM FORA DO RIO GRANDE DO SUL, SE OS PACIENTES MORAVAM DENTRO DO RIO GRANDE DO SUL, A LINHA FICOU COM \"CIDADE DO RS\" COMO DADO"
   ]
  },
  {
   "cell_type": "markdown",
   "id": "a8246111-dab0-41a7-9e89-4995a1f328da",
   "metadata": {},
   "source": [
    "### Criando a coluna de cidades do exterior"
   ]
  },
  {
   "cell_type": "code",
   "execution_count": 31,
   "id": "eff8cf1c-cfd0-4637-84d8-a108d0678bb9",
   "metadata": {},
   "outputs": [
    {
     "name": "stdout",
     "output_type": "stream",
     "text": [
      "{'CÓDIGO': '', 'MUNICÍPIOS': 'MUNICÍPIO', '120001': 'ACRELÂNDIA', '120005': 'ASSIS BRASIL', '120010': 'BRASILÉIA', '120013': 'BUJARI', '120017': 'CAPIXABA', '120020': 'CRUZEIRO DO SUL', '120025': 'EPITACIOLÂNDIA', '120030': 'FEIJÓ', '120032': 'JORDÃO', '120033': 'MÂNCIO LIMA', '120034': 'MANOEL URBANO', '120035': 'MARECHAL THAUMATURGO', '120038': 'PLÁCIDO DE CASTRO', '120039': 'PORTO WALTER', '120040': 'RIO BRANCO', '120042': 'RODRIGUES ALVES', '120043': 'SANTA ROSA DO PURUS', '120045': 'SENADOR GUIOMARD', '120050': 'SENA MADUREIRA', '120060': 'TARAUACÁ', '120070': 'XAPURI', '120080': 'PORTO ACRE', '2.012Total': '', 'DISTRIBUIÇÃO': 'TESTE PARA O NOVO', '270010': 'ÁGUA BRANCA', '270020': 'ANADIA', '270030': 'ARAPIRACA', '270040': 'ATALAIA', '270050': 'BARRA DE SANTO ANTÔNIO', '270060': 'BARRA DE SÃO MIGUEL', '270070': 'BATALHA', '270080': 'BELÉM', '270090': 'BELO MONTE', '270100': 'BOCA DA MATA', '270110': 'BRANQUINHA', '270120': 'CACIMBINHAS', '270130': 'CAJUEIRO', '270135': 'CAMPESTRE', '270140': 'CAMPO ALEGRE', '270150': 'CAMPO GRANDE', '270160': 'CANAPI', '270170': 'CAPELA', '270180': 'CARNEIROS', '270190': 'CHÃ PRETA', '270200': 'COITÉ DO NÓIA', '270210': 'COLÔNIA LEOPOLDINA', '270220': 'COQUEIRO SECO', '270230': 'CORURIPE', '270235': 'CRAÍBAS', '270240': 'DELMIRO GOUVEIA', '270250': 'DOIS RIACHOS', '270255': 'ESTRELA DE ALAGOAS', '270260': 'FEIRA GRANDE', '270270': 'FELIZ DESERTO', '270280': 'FLEXEIRAS', '270290': 'GIRAU DO PONCIANO', '270300': 'IBATEGUARA', '270310': 'IGACI', '270320': 'IGREJA NOVA', '270330': 'INHAPI', '270340': 'JACARÉ DOS HOMENS', '270350': 'JACUÍPE', '270360': 'JAPARATINGA', '270370': 'JARAMATAIA', '270375': 'JEQUIÁ DA PRAIA', '270380': 'JOAQUIM GOMES', '270390': 'JUNDIÁ', '270400': 'JUNQUEIRO', '270410': 'LAGOA DA CANOA', '270420': 'LIMOEIRO DE ANADIA', '270430': 'MACEIÓ', '270440': 'MAJOR ISIDORO', '270450': 'MARAGOGI', '270460': 'MARAVILHA', '270470': 'MARECHAL DEODORO', '270480': 'MARIBONDO', '270490': 'MAR VERMELHO', '270500': 'MATA GRANDE', '270510': 'MATRIZ DE CAMARAGIBE', '270520': 'MESSIAS', '270530': 'MINADOR DO NEGRÃO', '270540': 'MONTEIRÓPOLIS', '270550': 'MURICI', '270560': 'NOVO LINO', '270570': \"OLHO D'ÁGUA DAS FLORES\", '270580': \"OLHO D'ÁGUA DO CASADO\", '270590': \"OLHO D'ÁGUA GRANDE\", '270600': 'OLIVENÇA', '270610': 'OURO BRANCO', '270620': 'PALESTINA', '270630': 'PALMEIRA DOS ÍNDIOS', '270640': 'PÃO DE AÇÚCAR', '270642': 'PARICONHA', '270644': 'PARIPUEIRA', '270650': 'PASSO DE CAMARAGIBE', '270660': 'PAULO JACINTO', '270670': 'PENEDO', '270680': 'PIAÇABUÇU', '270690': 'PILAR', '270700': 'PINDOBA', '270710': 'PIRANHAS', '270720': 'POÇO DAS TRINCHEIRAS', '270730': 'PORTO CALVO', '270740': 'PORTO DE PEDRAS', '270750': 'PORTO REAL DO COLÉGIO', '270760': 'QUEBRANGULO', '270770': 'RIO LARGO', '270780': 'ROTEIRO', '270790': 'SANTA LUZIA DO NORTE', '270800': 'SANTANA DO IPANEMA', '270810': 'SANTANA DO MUNDAÚ', '270820': 'SÃO BRÁS', '270830': 'SÃO JOSÉ DA LAJE', '270840': 'SÃO JOSÉ DA TAPERA', '270850': 'SÃO LUÍS DO QUITUNDE', '270860': 'SÃO MIGUEL DOS CAMPOS', '270870': 'SÃO MIGUEL DOS MILAGRES', '270880': 'SÃO SEBASTIÃO', '270890': 'SATUBA', '270895': 'SENADOR RUI PALMEIRA', '270900': \"TANQUE D'ARCA\", '270910': 'TAQUARANA', '270915': 'TEOTÔNIO VILELA', '270920': 'TRAIPU', '270930': 'UNIÃO DOS PALMARES', '270940': 'VIÇOSA', '6.986Total': '', '160005': 'SERRA DO NAVIO', '160010': 'AMAPÁ', '160015': 'PEDRA BRANCA DO AMAPARI', '160020': 'CALÇOENE', '160021': 'CUTIAS', '160023': 'FERREIRA GOMES', '160025': 'ITAUBAL', '160027': 'LARANJAL DO JARI', '160030': 'MACAPÁ', '160040': 'MAZAGÃO', '160050': 'OIAPOQUE', '160053': 'PORTO GRANDE', '160055': 'PRACUÚBA', '160060': 'SANTANA', '160070': 'TARTARUGALZINHO', '160080': 'VITÓRIA DO JARI', '1.854': '', 'Total': '', '130002': 'ALVARÃES', '130006': 'AMATURÁ', '130008': 'ANAMÃ', '130010': 'ANORI', '130014': 'APUÍ', '130020': 'ATALAIA DO NORTE', '130030': 'AUTAZES', '130040': 'BARCELOS', '130050': 'BARREIRINHA', '130060': 'BENJAMIN CONSTANT', '130063': 'BERURI', '130068': 'BOA VISTA DO RAMOS', '130070': 'BOCA DO ACRE', '130080': 'BORBA', '130083': 'CAAPIRANGA', '130090': 'CANUTAMA', '130100': 'CARAUARI', '130110': 'CAREIRO', '130115': 'CAREIRO DA VÁRZEA', '130120': 'COARI', '130130': 'CODAJÁS', '130140': 'EIRUNEPÉ', '130150': 'ENVIRA', '130160': 'FONTE BOA', '130165': 'GUAJARÁ', '130170': 'HUMAITÁ', '130180': 'IPIXUNA', '130185': 'IRANDUBA', '130190': 'ITACOATIARA', '130195': 'ITAMARATI', '130200': 'ITAPIRANGA', '130210': 'JAPURÁ', '130220': 'JURUÁ', '130230': 'JUTAÍ', '130240': 'LÁBREA', '130250': 'MANACAPURU', '130255': 'MANAQUIRI', '130260': 'MANAUS', '130270': 'MANICORÉ', '130280': 'MARAÃ', '130290': 'MAUÉS', '130300': 'NHAMUNDÁ', '130310': 'NOVA OLINDA DO NORTE', '130320': 'NOVO AIRÃO', '130330': 'NOVO ARIPUANÃ', '130340': 'PARINTINS', '130350': 'PAUINI', '130353': 'PRESIDENTE FIGUEIREDO', '130356': 'RIO PRETO DA EVA', '130360': 'SANTA ISABEL DO RIO NEGRO', '130370': 'SANTO ANTÔNIO DO IÇÁ', '130380': 'SÃO GABRIEL DA CACHOEIRA', '130390': 'SÃO PAULO DE OLIVENÇA', '130395': 'SÃO SEBASTIÃO DO UATUMÃ', '130400': 'SILVES', '130406': 'TABATINGA', '130410': 'TAPAUÁ', '130420': 'TEFÉ', '130423': 'TONANTINS', '130426': 'UARINI', '130430': 'URUCARÁ', '130440': 'URUCURITUBA', '8.586Total': '', '290010': 'ABAÍRA', '290020': 'ABARÉ', '290030': 'ACAJUTIBA', '290035': 'ADUSTINA', '290040': 'ÁGUA FRIA', '290050': 'ÉRICO CARDOSO', '290060': 'AIQUARA', '290070': 'ALAGOINHAS', '290080': 'ALCOBAÇA', '290090': 'ALMADINA', '290100': 'AMARGOSA', '290110': 'AMÉLIA RODRIGUES', '290115': 'AMÉRICA DOURADA', '290120': 'ANAGÉ', '290130': 'ANDARAÍ', '290135': 'ANDORINHA', '290140': 'ANGICAL', '290150': 'ANGUERA', '290160': 'ANTAS', '290170': 'ANTÔNIO CARDOSO', '290180': 'ANTÔNIO GONÇALVES', '290190': 'APORÁ', '290195': 'APUAREMA', '290200': 'ARACATU', '290205': 'ARAÇAS', '290210': 'ARACI', '290220': 'ARAMARI', '290225': 'ARATACA', '290230': 'ARATUÍPE', '290240': 'AURELINO LEAL', '290250': 'BAIANÓPOLIS', '290260': 'BAIXA GRANDE', '290265': 'BANZAÊ', '290270': 'BARRA', '290280': 'BARRA DA ESTIVA', '290290': 'BARRA DO CHOÇA', '290300': 'BARRA DO MENDES', '290310': 'BARRA DO ROCHA', '290320': 'BARREIRAS', '290323': 'BARRO ALTO', '290327': 'BARROCAS', '290330': 'BARRO PRETO', '290340': 'BELMONTE', '290350': 'BELO CAMPO', '290360': 'BIRITINGA', '290370': 'BOA NOVA', '290380': 'BOA VISTA DO TUPIM', '290390': 'BOM JESUS DA LAPA', '290395': 'BOM JESUS DA SERRA', '290400': 'BONINAL', '290405': 'BONITO', '290410': 'BOQUIRA', '290420': 'BOTUPORÃ', '290430': 'BREJÕES', '290440': 'BREJOLÂNDIA', '290450': 'BROTAS DE MACAÚBAS', '290460': 'BRUMADO', '290470': 'BUERAREMA', '290475': 'BURITIRAMA', '290480': 'CAATIBA', '290485': 'CABACEIRAS DO PARAGUAÇU', '290490': 'CACHOEIRA', '290500': 'CACULÉ', '290510': 'CAÉM', '290515': 'CAETANOS', '290520': 'CAETITÉ', '290530': 'CAFARNAUM', '290540': 'CAIRU', '290550': 'CALDEIRÃO GRANDE', '290560': 'CAMACAN', '290570': 'CAMAÇARI', '290580': 'CAMAMU', '290590': 'CAMPO ALEGRE DE LOURDES', '290600': 'CAMPO FORMOSO', '290610': 'CANÁPOLIS', '290620': 'CANARANA', '290630': 'CANAVIEIRAS', '290640': 'CANDEAL', '290650': 'CANDEIAS', '290660': 'CANDIBA', '290670': 'CÂNDIDO SALES', '290680': 'CANSANÇÃO', '290682': 'CANUDOS', '290685': 'CAPELA DO ALTO ALEGRE', '290687': 'CAPIM GROSSO', '290689': 'CARAÍBAS', '290690': 'CARAVELAS', '290700': 'CARDEAL DA SILVA', '290710': 'CARINHANHA', '290720': 'CASA NOVA', '290730': 'CASTRO ALVES', '290740': 'CATOLÂNDIA', '290750': 'CATU', '290755': 'CATURAMA', '290760': 'CENTRAL', '290770': 'CHORROCHÓ', '290780': 'CÍCERO DANTAS', '290790': 'CIPÓ', '290800': 'COARACI', '290810': 'COCOS', '290820': 'CONCEIÇÃO DA FEIRA', '290830': 'CONCEIÇÃO DO ALMEIDA', '290840': 'CONCEIÇÃO DO COITÉ', '290850': 'CONCEIÇÃO DO JACUÍPE', '290860': 'CONDE', '290870': 'CONDEÚBA', '290880': 'CONTENDAS DO SINCORÁ', '290890': 'CORAÇÃO DE MARIA', '290900': 'CORDEIROS', '290910': 'CORIBE', '290920': 'CORONEL JOÃO SÁ', '290930': 'CORRENTINA', '290940': 'COTEGIPE', '290950': 'CRAVOLÂNDIA', '290960': 'CRISÓPOLIS', '290970': 'CRISTÓPOLIS', '290980': 'CRUZ DAS ALMAS', '290990': 'CURAÇÁ', '291000': 'DÁRIO MEIRA', '291005': \"DIAS D'ÁVILA\", '291010': 'DOM BASÍLIO', '291020': 'DOM MACEDO COSTA', '291030': 'ELÍSIO MEDRADO', '291040': 'ENCRUZILHADA', '291050': 'ENTRE RIOS', '291060': 'ESPLANADA', '291070': 'EUCLIDES DA CUNHA', '291072': 'EUNÁPOLIS', '291075': 'FÁTIMA', '291077': 'FEIRA DA MATA', '291080': 'FEIRA DE SANTANA', '291085': 'FILADÉLFIA', '291090': 'FIRMINO ALVES', '291100': 'FLORESTA AZUL', '291110': 'FORMOSA DO RIO PRETO', '291120': 'GANDU', '291125': 'GAVIÃO', '291130': 'GENTIO DO OURO', '291140': 'GLÓRIA', '291150': 'GONGOGI', '291160': 'GOVERNADOR MANGABEIRA', '291165': 'GUAJERU', '291170': 'GUANAMBI', '291180': 'GUARATINGA', '291185': 'HELIÓPOLIS', '291190': 'IAÇU', '291200': 'IBIASSUCÊ', '291210': 'IBICARAÍ', '291220': 'IBICOARA', '291230': 'IBICUÍ', '291240': 'IBIPEBA', '291250': 'IBIPITANGA', '291260': 'IBIQUERA', '291270': 'IBIRAPITANGA', '291280': 'IBIRAPUÃ', '291290': 'IBIRATAIA', '291300': 'IBITIARA', '291310': 'IBITITÁ', '291320': 'IBOTIRAMA', '291330': 'ICHU', '291340': 'IGAPORÃ', '291345': 'IGRAPIÚNA', '291350': 'IGUAÍ', '291360': 'ILHÉUS', '291370': 'INHAMBUPE', '291380': 'IPECAETÁ', '291390': 'IPIAÚ', '291400': 'IPIRÁ', '291410': 'IPUPIARA', '291420': 'IRAJUBA', '291430': 'IRAMAIA', '291440': 'IRAQUARA', '291450': 'IRARÁ', '291460': 'IRECÊ', '291465': 'ITABELA', '291470': 'ITABERABA', '291480': 'ITABUNA', '291490': 'ITACARÉ', '291500': 'ITAETÉ', '291510': 'ITAGI', '291520': 'ITAGIBÁ', '291530': 'ITAGIMIRIM', '291535': 'ITAGUAÇU DA BAHIA', '291540': 'ITAJU DO COLÔNIA', '291550': 'ITAJUÍPE', '291560': 'ITAMARAJU', '291570': 'ITAMARI', '291580': 'ITAMBÉ', '291590': 'ITANAGRA', '291600': 'ITANHÉM', '291610': 'ITAPARICA', '291620': 'ITAPÉ', '291630': 'ITAPEBI', '291640': 'ITAPETINGA', '291650': 'ITAPICURU', '291660': 'ITAPITANGA', '291670': 'ITAQUARA', '291680': 'ITARANTIM', '291685': 'ITATIM', '291690': 'ITIRUÇU', '291700': 'ITIÚBA', '291710': 'ITORORÓ', '291720': 'ITUAÇU', '291730': 'ITUBERÁ', '291733': 'IUIÚ', '291735': 'JABORANDI', '291740': 'JACARACI', '291750': 'JACOBINA', '291760': 'JAGUAQUARA', '291770': 'JAGUARARI', '291780': 'JAGUARIPE', '291790': 'JANDAÍRA', '291800': 'JEQUIÉ', '291810': 'JEREMOABO', '291820': 'JIQUIRIÇÁ', '291830': 'JITAÚNA', '291835': 'JOÃO DOURADO', '291840': 'JUAZEIRO', '291845': 'JUCURUÇU', '291850': 'JUSSARA', '291855': 'JUSSARI', '291860': 'JUSSIAPE', '291870': 'LAFAIETE COUTINHO', '291875': 'LAGOA REAL', '291880': 'LAJE', '291890': 'LAJEDÃO', '291900': 'LAJEDINHO', '291905': 'LAJEDO DO TABOCAL', '291910': 'LAMARÃO', '291915': 'LAPÃO', '291920': 'LAURO DE FREITAS', '291930': 'LENÇÓIS', '291940': 'LICÍNIO DE ALMEIDA', '291950': 'LIVRAMENTO DE NOSSA SENHORA', '291955': 'LUÍS EDUARDO MAGALHÃES', '291960': 'MACAJUBA', '291970': 'MACARANI', '291980': 'MACAÚBAS', '291990': 'MACURURÉ', '291992': 'MADRE DE DEUS', '291995': 'MAETINGA', '292000': 'MAIQUINIQUE', '292010': 'MAIRI', '292020': 'MALHADA', '292030': 'MALHADA DE PEDRAS', '292040': 'MANOEL VITORINO', '292045': 'MANSIDÃO', '292050': 'MARACÁS', '292060': 'MARAGOGIPE', '292070': 'MARAÚ', '292080': 'MARCIONÍLIO SOUZA', '292090': 'MASCOTE', '292100': 'MATA DE SÃO JOÃO', '292105': 'MATINA', '292110': 'MEDEIROS NETO', '292120': 'MIGUEL CALMON', '292130': 'MILAGRES', '292140': 'MIRANGABA', '292145': 'MIRANTE', '292150': 'MONTE SANTO', '292160': 'MORPARÁ', '292170': 'MORRO DO CHAPÉU', '292180': 'MORTUGABA', '292190': 'MUCUGÊ', '292200': 'MUCURI', '292205': 'MULUNGU DO MORRO', '292210': 'MUNDO NOVO', '292220': 'MUNIZ FERREIRA', '292225': 'MUQUÉM DE SÃO FRANCISCO', '292230': 'MURITIBA', '292240': 'MUTUÍPE', '292250': 'NAZARÉ', '292260': 'NILO PEÇANHA', '292265': 'NORDESTINA', '292270': 'NOVA CANAÃ', '292273': 'NOVA FÁTIMA', '292275': 'NOVA IBIÁ', '292280': 'NOVA ITARANA', '292285': 'NOVA REDENÇÃO', '292290': 'NOVA SOURE', '292300': 'NOVA VIÇOSA', '292303': 'NOVO HORIZONTE', '292305': 'NOVO TRIUNFO', '292310': 'OLINDINA', '292320': 'OLIVEIRA DOS BREJINHOS', '292330': 'OURIÇANGAS', '292335': 'OUROLÂNDIA', '292340': 'PALMAS DE MONTE ALTO', '292350': 'PALMEIRAS', '292360': 'PARAMIRIM', '292370': 'PARATINGA', '292380': 'PARIPIRANGA', '292390': 'PAU BRASIL', '292400': 'PAULO AFONSO', '292405': 'PÉ DE SERRA', '292410': 'PEDRÃO', '292420': 'PEDRO ALEXANDRE', '292430': 'PIATÃ', '292440': 'PILÃO ARCADO', '292450': 'PINDAÍ', '292460': 'PINDOBAÇU', '292465': 'PINTADAS', '292467': 'PIRAÍ DO NORTE', '292470': 'PIRIPÁ', '292480': 'PIRITIBA', '292490': 'PLANALTINO', '292500': 'PLANALTO', '292510': 'POÇÕES', '292520': 'POJUCA', '292525': 'PONTO NOVO', '292530': 'PORTO SEGURO', '292540': 'POTIRAGUÁ', '292550': 'PRADO', '292560': 'PRESIDENTE DUTRA', '292570': 'PRESIDENTE JÂNIO QUADROS', '292575': 'PRESIDENTE TANCREDO NEVES', '292580': 'QUEIMADAS', '292590': 'QUIJINGUE', '292593': 'QUIXABEIRA', '292595': 'RAFAEL JAMBEIRO', '292600': 'REMANSO', '292610': 'RETIROLÂNDIA', '292620': 'RIACHÃO DAS NEVES', '292630': 'RIACHÃO DO JACUÍPE', '292640': 'RIACHO DE SANTANA', '292650': 'RIBEIRA DO AMPARO', '292660': 'RIBEIRA DO POMBAL', '292665': 'RIBEIRÃO DO LARGO', '292670': 'RIO DE CONTAS', '292680': 'RIO DO ANTÔNIO', '292690': 'RIO DO PIRES', '292700': 'RIO REAL', '292710': 'RODELAS', '292720': 'RUY BARBOSA', '292730': 'SALINAS DA MARGARIDA', '292740': 'SALVADOR', '292750': 'SANTA BÁRBARA', '292760': 'SANTA BRÍGIDA', '292770': 'SANTA CRUZ CABRÁLIA', '292780': 'SANTA CRUZ DA VITÓRIA', '292790': 'SANTA INÊS', '292800': 'SANTALUZ', '292805': 'SANTA LUZIA', '292810': 'SANTA MARIA DA VITÓRIA', '292820': 'SANTANA', '292830': 'SANTANÓPOLIS', '292840': 'SANTA RITA DE CÁSSIA', '292850': 'SANTA TERESINHA', '292860': 'SANTO AMARO', '292870': 'SANTO ANTÔNIO DE JESUS', '292880': 'SANTO ESTÊVÃO', '292890': 'SÃO DESIDÉRIO', '292895': 'SÃO DOMINGOS', '292900': 'SÃO FÉLIX', '292905': 'SÃO FÉLIX DO CORIBE', '292910': 'SÃO FELIPE', '292920': 'SÃO FRANCISCO DO CONDE', '292925': 'SÃO GABRIEL', '292930': 'SÃO GONÇALO DOS CAMPOS', '292935': 'SÃO JOSÉ DA VITÓRIA', '292937': 'SÃO JOSÉ DO JACUÍPE', '292940': 'SÃO MIGUEL DAS MATAS', '292950': 'SÃO SEBASTIÃO DO PASSÉ', '292960': 'SAPEAÇU', '292970': 'SÁTIRO DIAS', '292975': 'SAUBARA', '292980': 'SAÚDE', '292990': 'SEABRA', '293000': 'SEBASTIÃO LARANJEIRAS', '293010': 'SENHOR DO BONFIM', '293015': 'SERRA DO RAMALHO', '293020': 'SENTO SÉ', '293030': 'SERRA DOURADA', '293040': 'SERRA PRETA', '293050': 'SERRINHA', '293060': 'SERROLÂNDIA', '293070': 'SIMÕES FILHO', '293075': 'SÍTIO DO MATO', '293076': 'SÍTIO DO QUINTO', '293077': 'SOBRADINHO', '293080': 'SOUTO SOARES', '293090': 'TABOCAS DO BREJO VELHO', '293100': 'TANHAÇU', '293105': 'TANQUE NOVO', '293110': 'TANQUINHO', '293120': 'TAPEROÁ', '293130': 'TAPIRAMUTÁ', '293135': 'TEIXEIRA DE FREITAS', '293140': 'TEODORO SAMPAIO', '293150': 'TEOFILÂNDIA', '293160': 'TEOLÂNDIA', '293170': 'TERRA NOVA', '293180': 'TREMEDAL', '293190': 'TUCANO', '293200': 'UAUÁ', '293210': 'UBAÍRA', '293220': 'UBAITABA', '293230': 'UBATÃ', '293240': 'UIBAÍ', '293245': 'UMBURANAS', '293250': 'UNA', '293260': 'URANDI', '293270': 'URUÇUCA', '293280': 'UTINGA', '293290': 'VALENÇA', '293300': 'VALENTE', '293305': 'VÁRZEA DA ROÇA', '293310': 'VÁRZEA DO POÇO', '293315': 'VÁRZEA NOVA', '293317': 'VARZEDO', '293320': 'VERA CRUZ', '293325': 'VEREDA', '293330': 'VITÓRIA DA CONQUISTA', '293340': 'WAGNER', '293345': 'WANDERLEY', '293350': 'WENCESLAU GUIMARÃES', '293360': 'XIQUE-XIQUE', '31.634Total': '', '230010': 'ABAIARA', '230015': 'ACARAPE', '230020': 'ACARAÚ', '230030': 'ACOPIARA', '230040': 'AIUABA', '230050': 'ALCÂNTARAS', '230060': 'ALTANEIRA', '230070': 'ALTO SANTO', '230075': 'AMONTADA', '230080': 'ANTONINA DO NORTE', '230090': 'APUIARÉS', '230100': 'AQUIRAZ', '230110': 'ARACATI', '230120': 'ARACOIABA', '230125': 'ARARENDÁ', '230130': 'ARARIPE', '230140': 'ARATUBA', '230150': 'ARNEIROZ', '230160': 'ASSARÉ', '230170': 'AURORA', '230180': 'BAIXIO', '230185': 'BANABUIÚ', '230190': 'BARBALHA', '230195': 'BARREIRA', '230200': 'BARRO', '230205': 'BARROQUINHA', '230210': 'BATURITÉ', '230220': 'BEBERIBE', '230230': 'BELA CRUZ', '230240': 'BOA VIAGEM', '230250': 'BREJO SANTO', '230260': 'CAMOCIM', '230270': 'CAMPOS SALES', '230280': 'CANINDÉ', '230290': 'CAPISTRANO', '230300': 'CARIDADE', '230310': 'CARIRÉ', '230320': 'CARIRIAÇU', '230330': 'CARIÚS', '230340': 'CARNAUBAL', '230350': 'CASCAVEL', '230360': 'CATARINA', '230365': 'CATUNDA', '230370': 'CAUCAIA', '230380': 'CEDRO', '230390': 'CHAVAL', '230393': 'CHORÓ', '230395': 'CHOROZINHO', '230400': 'COREAÚ', '230410': 'CRATEÚS', '230420': 'CRATO', '230423': 'CROATÁ', '230425': 'CRUZ', '230426': 'DEPUTADO IRAPUAN PINHEIRO', '230427': 'ERERÊ', '230428': 'EUSÉBIO', '230430': 'FARIAS BRITO', '230435': 'FORQUILHA', '230440': 'FORTALEZA', '230445': 'FORTIM', '230450': 'FRECHEIRINHA', '230460': 'GENERAL SAMPAIO', '230465': 'GRAÇA', '230470': 'GRANJA', '230480': 'GRANJEIRO', '230490': 'GROAÍRAS', '230495': 'GUAIÚBA', '230500': 'GUARACIABA DO NORTE', '230510': 'GUARAMIRANGA', '230520': 'HIDROLÂNDIA', '230523': 'HORIZONTE', '230526': 'IBARETAMA', '230530': 'IBIAPINA', '230533': 'IBICUITINGA', '230535': 'ICAPUÍ', '230540': 'ICÓ', '230550': 'IGUATU', '230560': 'INDEPENDÊNCIA', '230565': 'IPAPORANGA', '230570': 'IPAUMIRIM', '230580': 'IPU', '230590': 'IPUEIRAS', '230600': 'IRACEMA', '230610': 'IRAUÇUBA', '230620': 'ITAIÇABA', '230625': 'ITAITINGA', '230630': 'ITAPAGÉ', '230640': 'ITAPIPOCA', '230650': 'ITAPIÚNA', '230655': 'ITAREMA', '230660': 'ITATIRA', '230670': 'JAGUARETAMA', '230680': 'JAGUARIBARA', '230690': 'JAGUARIBE', '230700': 'JAGUARUANA', '230710': 'JARDIM', '230720': 'JATI', '230725': 'JIJOCA DE JERICOACOARA', '230730': 'JUAZEIRO DO NORTE', '230740': 'JUCÁS', '230750': 'LAVRAS DA MANGABEIRA', '230760': 'LIMOEIRO DO NORTE', '230763': 'MADALENA', '230765': 'MARACANAÚ', '230770': 'MARANGUAPE', '230780': 'MARCO', '230790': 'MARTINÓPOLE', '230800': 'MASSAPÊ', '230810': 'MAURITI', '230820': 'MERUOCA', '230830': 'MILAGRES', '230835': 'MILHÃ', '230837': 'MIRAÍMA', '230840': 'MISSÃO VELHA', '230850': 'MOMBAÇA', '230860': 'MONSENHOR TABOSA', '230870': 'MORADA NOVA', '230880': 'MORAÚJO', '230890': 'MORRINHOS', '230900': 'MUCAMBO', '230910': 'MULUNGU', '230920': 'NOVA OLINDA', '230930': 'NOVA RUSSAS', '230940': 'NOVO ORIENTE', '230945': 'OCARA', '230950': 'ORÓS', '230960': 'PACAJUS', '230970': 'PACATUBA', '230980': 'PACOTI', '230990': 'PACUJÁ', '231000': 'PALHANO', '231010': 'PALMÁCIA', '231020': 'PARACURU', '231025': 'PARAIPABA', '231030': 'PARAMBU', '231040': 'PARAMOTI', '231050': 'PEDRA BRANCA', '231060': 'PENAFORTE', '231070': 'PENTECOSTE', '231080': 'PEREIRO', '231085': 'PINDORETAMA', '231090': 'PIQUET CARNEIRO', '231095': 'PIRES FERREIRA', '231100': 'PORANGA', '231110': 'PORTEIRAS', '231120': 'POTENGI', '231123': 'POTIRETAMA', '231126': 'QUITERIANÓPOLIS', '231130': 'QUIXADÁ', '231135': 'QUIXELÔ', '231140': 'QUIXERAMOBIM', '231150': 'QUIXERÉ', '231160': 'REDENÇÃO', '231170': 'RERIUTABA', '231180': 'RUSSAS', '231190': 'SABOEIRO', '231195': 'SALITRE', '231200': 'SANTANA DO ACARAÚ', '231210': 'SANTANA DO CARIRI', '231220': 'SANTA QUITÉRIA', '231230': 'SÃO BENEDITO', '231240': 'SÃO GONÇALO DO AMARANTE', '231250': 'SÃO JOÃO DO JAGUARIBE', '231260': 'SÃO LUÍS DO CURU', '231270': 'SENADOR POMPEU', '231280': 'SENADOR SÁ', '231290': 'SOBRAL', '231300': 'SOLONÓPOLE', '231310': 'TABULEIRO DO NORTE', '231320': 'TAMBORIL', '231325': 'TARRAFAS', '231330': 'TAUÁ', '231335': 'TEJUÇUOCA', '231340': 'TIANGUÁ', '231350': 'TRAIRI', '231355': 'TURURU', '231360': 'UBAJARA', '231370': 'UMARI', '231375': 'UMIRIM', '231380': 'URUBURETAMA', '231390': 'URUOCA', '231395': 'VARJOTA', '231400': 'VÁRZEA ALEGRE', '231410': 'VIÇOSA DO CEARÁ', '18.057Total': '', '530010': 'BRASÍLIA', '320010': 'SANTO AFONSO CLÁUDIO', '320013': 'SANTO ÁGUIA BRANCA', '320016': 'SANTO ÁGUA DOCE DO NORTE', '320020': 'SANTO ALEGRE', '320030': 'SANTO ALFREDO CHAVES', '320035': 'SANTO ALTO RIO NOVO', '320040': 'SANTO ANCHIETA', '320050': 'SANTO APIACÁ', '320060': 'SANTO ARACRUZ', '320070': 'SANTO ATILIO VIVACQUA', '320080': 'SANTO BAIXO GUANDU', '320090': 'SANTO BARRA DE SÃO FRANCISCO', '320100': 'SANTO BOA ESPERANÇA', '320110': 'SANTO BOM JESUS DO NORTE', '320115': 'SANTO BREJETUBA', '320120': 'SANTO CACHOEIRO DE ITAPEMIRIM', '320130': 'SANTO CARIACICA', '320140': 'SANTO CASTELO', '320150': 'SANTO COLATINA', '320160': 'SANTO CONCEIÇÃO DA BARRA', '320170': 'SANTO CONCEIÇÃO DO CASTELO', '320180': 'SANTO DIVINO DE SÃO LOURENÇO', '320190': 'SANTO DOMINGOS MARTINS', '320200': 'SANTO DORES DO RIO PRETO', '320210': 'SANTO ECOPORANGA', '320220': 'SANTO FUNDÃO', '320225': 'SANTO GOVERNADOR LINDENBERG', '320230': 'SANTO GUAÇUÍ', '320240': 'SANTO GUARAPARI', '320245': 'SANTO IBATIBA', '320250': 'SANTO IBIRAÇU', '320255': 'SANTO IBITIRAMA', '320260': 'SANTO ICONHA', '320265': 'SANTO IRUPI', '320270': 'SANTO ITAGUAÇU', '320280': 'SANTO ITAPEMIRIM', '320290': 'SANTO ITARANA', '320300': 'SANTO IÚNA', '320305': 'SANTO JAGUARÉ', '320310': 'SANTO JERÔNIMO MONTEIRO', '320313': 'SANTO JOÃO NEIVA', '320316': 'SANTO LARANJA DA TERRA', '320320': 'SANTO LINHARES', '320330': 'SANTO MANTENÓPOLIS', '320332': 'SANTO MARATAÍZES', '320334': 'SANTO MARECHAL FLORIANO', '320335': 'SANTO MARILÂNDIA', '320340': 'SANTO MIMOSO DO SUL', '320350': 'SANTO MONTANHA', '320360': 'SANTO MUCURICI', '320370': 'SANTO MUNIZ FREIRE', '320380': 'SANTO MUQUI', '320390': 'SANTO NOVA VENÉCIA', '320400': 'SANTO PANCAS', '320405': 'SANTO PEDRO CANÁRIO', '320410': 'SANTO PINHEIROS', '320420': 'SANTO PIÚMA', '320425': 'SANTO PONTO BELO', '320430': 'SANTO PRESIDENTE KENNEDY', '320435': 'SANTO RIO BANANAL', '320440': 'SANTO RIO NOVO DO SUL', '320450': 'SANTO SANTA LEOPOLDINA', '320455': 'SANTO SANTA MARIA DE JETIBÁ', '320460': 'SANTO SANTA TERESA', '320465': 'SANTO SÃO DOMINGOS DO NORTE', '320470': 'SANTO SÃO GABRIEL DA PALHA', '320480': 'SANTO SÃO JOSÉ DO CALÇADO', '320490': 'SANTO SÃO MATEUS', '320495': 'SANTO SÃO ROQUE DO CANAÃ', '320500': 'SANTO SERRA', '320501': 'SANTO SOORETAMA', '320503': 'SANTO VARGEM ALTA', '320506': 'SANTO VENDA NOVA DO IMIGRANTE', '320510': 'SANTO VIANA', '320515': 'SANTO VILA PAVÃO', '320517': 'SANTO VILA VALÉRIO', '320520': 'SANTO VILA VELHA', '320530': 'SANTO VITÓRIA', '9.010Total': '', '520005': 'ABADIA DE GOIÁS', '520010': 'ABADIÂNIA', '520013': 'ACREÚNA', '520015': 'ADELÂNDIA', '520017': 'ÁGUA FRIA DE GOIÁS', '520020': 'ÁGUA LIMPA', '520025': 'ÁGUAS LINDAS DE GOIÁS', '520030': 'ALEXÂNIA', '520050': 'ALOÂNDIA', '520055': 'ALTO HORIZONTE', '520060': 'ALTO PARAÍSO DE GOIÁS', '520080': 'ALVORADA DO NORTE', '520082': 'AMARALINA', '520085': 'AMERICANO DO BRASIL', '520090': 'AMORINÓPOLIS', '520110': 'ANÁPOLIS', '520120': 'ANHANGUERA', '520130': 'ANICUNS', '520140': 'APARECIDA DE GOIÂNIA', '520145': 'APARECIDA DO RIO DOCE', '520150': 'APORÉ', '520160': 'ARAÇU', '520170': 'ARAGARÇAS', '520180': 'ARAGOIÂNIA', '520215': 'ARAGUAPAZ', '520235': 'ARENÓPOLIS', '520250': 'ARUANÃ', '520260': 'AURILÂNDIA', '520280': 'AVELINÓPOLIS', '520310': 'BALIZA', '520320': 'BARRO ALTO', '520330': 'BELA VISTA DE GOIÁS', '520340': 'BOM JARDIM DE GOIÁS', '520350': 'BOM JESUS DE GOIÁS', '520355': 'BONFINÓPOLIS', '520357': 'BONÓPOLIS', '520360': 'BRAZABRANTES', '520380': 'BRITÂNIA', '520390': 'BURITI ALEGRE', '520393': 'BURITI DE GOIÁS', '520396': 'BURITINÓPOLIS', '520400': 'CABECEIRAS', '520410': 'CACHOEIRA ALTA', '520420': 'CACHOEIRA DE GOIÁS', '520425': 'CACHOEIRA DOURADA', '520430': 'CAÇU', '520440': 'CAIAPÔNIA', '520450': 'CALDAS NOVAS', '520455': 'CALDAZINHA', '520460': 'CAMPESTRE DE GOIÁS', '520465': 'CAMPINAÇU', '520470': 'CAMPINORTE', '520480': 'CAMPO ALEGRE DE GOIÁS', '520485': 'CAMPO LIMPO DE GOIÁS', '520490': 'CAMPOS BELOS', '520495': 'CAMPOS VERDES', '520500': 'CARMO DO RIO VERDE', '520505': 'CASTELÂNDIA', '520510': 'CATALÃO', '520520': 'CATURAÍ', '520530': 'CAVALCANTE', '520540': 'CERES', '520545': 'CEZARINA', '520547': 'CHAPADÃO DO CÉU', '520549': 'CIDADE OCIDENTAL', '520551': 'COCALZINHO DE GOIÁS', '520552': 'COLINAS DO SUL', '520570': 'CÓRREGO DO OURO', '520580': 'CORUMBÁ DE GOIÁS', '520590': 'CORUMBAÍBA', '520620': 'CRISTALINA', '520630': 'CRISTIANÓPOLIS', '520640': 'CRIXÁS', '520650': 'CROMÍNIA', '520660': 'CUMARI', '520670': 'DAMIANÓPOLIS', '520680': 'DAMOLÂNDIA', '520690': 'DAVINÓPOLIS', '520710': 'DIORAMA', '520725': 'DOVERLÂNDIA', '520735': 'EDEALINA', '520740': 'EDÉIA', '520750': 'ESTRELA DO NORTE', '520753': 'FAINA', '520760': 'FAZENDA NOVA', '520780': 'FIRMINÓPOLIS', '520790': 'FLORES DE GOIÁS', '520800': 'FORMOSA', '520810': 'FORMOSO', '520815': 'GAMELEIRA DE GOIÁS', '520830': 'DIVINÓPOLIS DE GOIÁS', '520840': 'GOIANÁPOLIS', '520850': 'GOIANDIRA', '520860': 'GOIANÉSIA', '520870': 'GOIÂNIA', '520880': 'GOIANIRA', '520890': 'GOIÁS', '520910': 'GOIATUBA', '520915': 'GOUVELÂNDIA', '520920': 'GUAPÓ', '520929': 'GUARAÍTA', '520940': 'GUARANI DE GOIÁS', '520945': 'GUARINOS', '520960': 'HEITORAÍ', '520970': 'HIDROLÂNDIA', '520980': 'HIDROLINA', '520990': 'IACIARA', '520993': 'INACIOLÂNDIA', '520995': 'INDIARA', '521000': 'INHUMAS', '521010': 'IPAMERI', '521015': 'IPIRANGA DE GOIÁS', '521020': 'IPORÁ', '521030': 'ISRAELÂNDIA', '521040': 'ITABERAÍ', '521056': 'ITAGUARI', '521060': 'ITAGUARU', '521080': 'ITAJÁ', '521090': 'ITAPACI', '521100': 'ITAPIRAPUÃ', '521120': 'ITAPURANGA', '521130': 'ITARUMÃ', '521140': 'ITAUÇU', '521150': 'ITUMBIARA', '521160': 'IVOLÂNDIA', '521170': 'JANDAIA', '521180': 'JARAGUÁ', '521190': 'JATAÍ', '521200': 'JAUPACI', '521205': 'JESÚPOLIS', '521210': 'JOVIÂNIA', '521220': 'JUSSARA', '521225': 'LAGOA SANTA', '521230': 'LEOPOLDO DE BULHÕES', '521250': 'LUZIÂNIA', '521260': 'MAIRIPOTABA', '521270': 'MAMBAÍ', '521280': 'MARA ROSA', '521290': 'MARZAGÃO', '521295': 'MATRINCHÃ', '521300': 'MAURILÂNDIA', '521305': 'MIMOSO DE GOIÁS', '521308': 'MINAÇU', '521310': 'MINEIROS', '521340': 'MOIPORÁ', '521350': 'MONTE ALEGRE DE GOIÁS', '521370': 'MONTES CLAROS DE GOIÁS', '521375': 'MONTIVIDIU', '521377': 'MONTIVIDIU DO NORTE', '521380': 'MORRINHOS', '521385': 'MORRO AGUDO DE GOIÁS', '521390': 'MOSSÂMEDES', '521400': 'MOZARLÂNDIA', '521405': 'MUNDO NOVO', '521410': 'MUTUNÓPOLIS', '521440': 'NAZÁRIO', '521450': 'NERÓPOLIS', '521460': 'NIQUELÂNDIA', '521470': 'NOVA AMÉRICA', '521480': 'NOVA AURORA', '521483': 'NOVA CRIXÁS', '521486': 'NOVA GLÓRIA', '521487': 'NOVA IGUAÇU DE GOIÁS', '521490': 'NOVA ROMA', '521500': 'NOVA VENEZA', '521520': 'NOVO BRASIL', '521523': 'NOVO GAMA', '521525': 'NOVO PLANALTO', '521530': 'ORIZONA', '521540': 'OURO VERDE DE GOIÁS', '521550': 'OUVIDOR', '521560': 'PADRE BERNARDO', '521565': 'PALESTINA DE GOIÁS', '521570': 'PALMEIRAS DE GOIÁS', '521580': 'PALMELO', '521590': 'PALMINÓPOLIS', '521600': 'PANAMÁ', '521630': 'PARANAIGUARA', '521640': 'PARAÚNA', '521645': 'PEROLÂNDIA', '521680': 'PETROLINA DE GOIÁS', '521690': 'PILAR DE GOIÁS', '521710': 'PIRACANJUBA', '521720': 'PIRANHAS', '521730': 'PIRENÓPOLIS', '521740': 'PIRES DO RIO', '521760': 'PLANALTINA', '521770': 'PONTALINA', '521800': 'PORANGATU', '521805': 'PORTEIRÃO', '521810': 'PORTELÂNDIA', '521830': 'POSSE', '521839': 'PROFESSOR JAMIL', '521850': 'QUIRINÓPOLIS', '521860': 'RIALMA', '521870': 'RIANÁPOLIS', '521878': 'RIO QUENTE', '521880': 'RIO VERDE', '521890': 'RUBIATABA', '521900': 'SANCLERLÂNDIA', '521910': 'SANTA BÁRBARA DE GOIÁS', '521920': 'SANTA CRUZ DE GOIÁS', '521925': 'SANTA FÉ DE GOIÁS', '521930': 'SANTA HELENA DE GOIÁS', '521935': 'SANTA ISABEL', '521940': 'SANTA RITA DO ARAGUAIA', '521945': 'SANTA RITA DO NOVO DESTINO', '521950': 'SANTA ROSA DE GOIÁS', '521960': 'SANTA TEREZA DE GOIÁS', '521970': 'SANTA TEREZINHA DE GOIÁS', '521971': 'SANTO ANTÔNIO DA BARRA', '521973': 'SANTO ANTÔNIO DE GOIÁS', '521975': 'SANTO ANTÔNIO DO DESCOBERTO', '521980': 'SÃO DOMINGOS', '521990': 'SÃO FRANCISCO DE GOIÁS', '522000': \"SÃO JOÃO D'ALIANÇA\", '522005': 'SÃO JOÃO DA PARAÚNA', '522010': 'SÃO LUÍS DE MONTES BELOS', '522015': 'SÃO LUÍZ DO NORTE', '522020': 'SÃO MIGUEL DO ARAGUAIA', '522026': 'SÃO MIGUEL DO PASSA QUATRO', '522028': 'SÃO PATRÍCIO', '522040': 'SÃO SIMÃO', '522045': 'SENADOR CANEDO', '522050': 'SERRANÓPOLIS', '522060': 'SILVÂNIA', '522068': 'SIMOLÂNDIA', '522070': \"SÍTIO D'ABADIA\", '522100': 'TAQUARAL DE GOIÁS', '522108': 'TERESINA DE GOIÁS', '522119': 'TEREZÓPOLIS DE GOIÁS', '522130': 'TRÊS RANCHOS', '522140': 'TRINDADE', '522145': 'TROMBAS', '522150': 'TURVÂNIA', '522155': 'TURVELÂNDIA', '522157': 'UIRAPURU', '522160': 'URUAÇU', '522170': 'URUANA', '522180': 'URUTAÍ', '522185': 'VALPARAÍSO DE GOIÁS', '522190': 'VARJÃO', '522200': 'VIANÓPOLIS', '522205': 'VICENTINÓPOLIS', '522220': 'VILA BOA', '522230': 'VILA PROPÍCIO', '13.717Total': '', '210005': 'AÇAILÂNDIA', '210010': 'AFONSO CUNHA', '210015': 'ÁGUA DOCE DO MARANHÃO', '210020': 'ALCÂNTARA', '210030': 'ALDEIAS ALTAS', '210040': 'ALTAMIRA DO MARANHÃO', '210043': 'ALTO ALEGRE DO MARANHÃO', '210047': 'ALTO ALEGRE DO PINDARÉ', '210050': 'ALTO PARNAÍBA', '210055': 'AMAPÁ DO MARANHÃO', '210060': 'AMARANTE DO MARANHÃO', '210070': 'ANAJATUBA', '210080': 'ANAPURUS', '210083': 'APICUM-AÇU', '210087': 'ARAGUANÃ', '210090': 'ARAIOSES', '210095': 'ARAME', '210100': 'ARARI', '210110': 'AXIXÁ', '210120': 'BACABAL', '210125': 'BACABEIRA', '210130': 'BACURI', '210135': 'BACURITUBA', '210140': 'BALSAS', '210150': 'BARÃO DE GRAJAÚ', '210160': 'BARRA DO CORDA', '210170': 'BARREIRINHAS', '210173': 'BELÁGUA', '210177': 'BELA VISTA DO MARANHÃO', '210180': 'BENEDITO LEITE', '210190': 'BEQUIMÃO', '210193': 'BERNARDO DO MEARIM', '210197': 'BOA VISTA DO GURUPI', '210200': 'BOM JARDIM', '210203': 'BOM JESUS DAS SELVAS', '210207': 'BOM LUGAR', '210210': 'BREJO', '210215': 'BREJO DE AREIA', '210220': 'BURITI', '210230': 'BURITI BRAVO', '210232': 'BURITICUPU', '210235': 'BURITIRANA', '210237': 'CACHOEIRA GRANDE', '210240': 'CAJAPIÓ', '210250': 'CAJARI', '210255': 'CAMPESTRE DO MARANHÃO', '210260': 'CÂNDIDO MENDES', '210270': 'CANTANHEDE', '210275': 'CAPINZAL DO NORTE', '210280': 'CAROLINA', '210290': 'CARUTAPERA', '210300': 'CAXIAS', '210310': 'CEDRAL', '210312': 'CENTRAL DO MARANHÃO', '210315': 'CENTRO DO GUILHERME', '210317': 'CENTRO NOVO DO MARANHÃO', '210320': 'CHAPADINHA', '210325': 'CIDELÂNDIA', '210330': 'CODÓ', '210340': 'COELHO NETO', '210350': 'COLINAS', '210355': 'CONCEIÇÃO DO LAGO-AÇU', '210360': 'COROATÁ', '210370': 'CURURUPU', '210375': 'DAVINÓPOLIS', '210380': 'DOM PEDRO', '210390': 'DUQUE BACELAR', '210400': 'ESPERANTINÓPOLIS', '210405': 'ESTREITO', '210407': 'FEIRA NOVA DO MARANHÃO', '210408': 'FERNANDO FALCÃO', '210409': 'FORMOSA DA SERRA NEGRA', '210410': 'FORTALEZA DOS NOGUEIRAS', '210420': 'FORTUNA', '210430': 'GODOFREDO VIANA', '210440': 'GONÇALVES DIAS', '210450': 'GOVERNADOR ARCHER', '210455': 'GOVERNADOR EDISON LOBÃO', '210460': 'GOVERNADOR EUGÊNIO BARROS', '210462': 'GOVERNADOR LUIZ ROCHA', '210465': 'GOVERNADOR NEWTON BELLO', '210467': 'GOVERNADOR NUNES FREIRE', '210470': 'GRAÇA ARANHA', '210480': 'GRAJAÚ', '210490': 'GUIMARÃES', '210500': 'HUMBERTO DE CAMPOS', '210510': 'ICATU', '210515': 'IGARAPÉ DO MEIO', '210520': 'IGARAPÉ GRANDE', '210530': 'IMPERATRIZ', '210535': 'ITAIPAVA DO GRAJAÚ', '210540': 'ITAPECURU MIRIM', '210542': 'ITINGA DO MARANHÃO', '210545': 'JATOBÁ', '210547': 'JENIPAPO DOS VIEIRAS', '210550': 'JOÃO LISBOA', '210560': 'JOSELÂNDIA', '210565': 'JUNCO DO MARANHÃO', '210570': 'LAGO DA PEDRA', '210580': 'LAGO DO JUNCO', '210590': 'LAGO VERDE', '210592': 'LAGOA DO MATO', '210594': 'LAGO DOS RODRIGUES', '210596': 'LAGOA GRANDE DO MARANHÃO', '210598': 'LAJEADO NOVO', '210600': 'LIMA CAMPOS', '210610': 'LORETO', '210620': 'LUÍS DOMINGUES', '210630': 'MAGALHÃES DE ALMEIDA', '210632': 'MARACAÇUMÉ', '210635': 'MARAJÁ DO SENA', '210637': 'MARANHÃOZINHO', '210640': 'MATA ROMA', '210650': 'MATINHA', '210660': 'MATÕES', '210663': 'MATÕES DO NORTE', '210667': 'MILAGRES DO MARANHÃO', '210670': 'MIRADOR', '210675': 'MIRANDA DO NORTE', '210680': 'MIRINZAL', '210690': 'MONÇÃO', '210700': 'MONTES ALTOS', '210710': 'MORROS', '210720': 'NINA RODRIGUES', '210725': 'NOVA COLINAS', '210730': 'NOVA IORQUE', '210735': 'NOVA OLINDA DO MARANHÃO', '210740': \"OLHO D'ÁGUA DAS CUNHÃS\", '210745': 'OLINDA NOVA DO MARANHÃO', '210750': 'PAÇO DO LUMIAR', '210760': 'PALMEIRÂNDIA', '210770': 'PARAIBANO', '210780': 'PARNARAMA', '210790': 'PASSAGEM FRANCA', '210800': 'PASTOS BONS', '210805': 'PAULINO NEVES', '210810': 'PAULO RAMOS', '210820': 'PEDREIRAS', '210825': 'PEDRO DO ROSÁRIO', '210830': 'PENALVA', '210840': 'PERI MIRIM', '210845': 'PERITORÓ', '210850': 'PINDARÉ-MIRIM', '210860': 'PINHEIRO', '210870': 'PIO XII', '210880': 'PIRAPEMAS', '210890': 'POÇÃO DE PEDRAS', '210900': 'PORTO FRANCO', '210905': 'PORTO RICO DO MARANHÃO', '210910': 'PRESIDENTE DUTRA', '210920': 'PRESIDENTE JUSCELINO', '210923': 'PRESIDENTE MÉDICI', '210927': 'PRESIDENTE SARNEY', '210930': 'PRESIDENTE VARGAS', '210940': 'PRIMEIRA CRUZ', '210945': 'RAPOSA', '210950': 'RIACHÃO', '210955': 'RIBAMAR FIQUENE', '210960': 'ROSÁRIO', '210970': 'SAMBAÍBA', '210975': 'SANTA FILOMENA DO MARANHÃO', '210980': 'SANTA HELENA', '210990': 'SANTA INÊS', '211000': 'SANTA LUZIA', '211003': 'SANTA LUZIA DO PARUÁ', '211010': 'SANTA QUITÉRIA DO MARANHÃO', '211020': 'SANTA RITA', '211023': 'SANTANA DO MARANHÃO', '211027': 'SANTO AMARO DO MARANHÃO', '211030': 'SANTO ANTÔNIO DOS LOPES', '211040': 'SÃO BENEDITO DO RIO PRETO', '211050': 'SÃO BENTO', '211060': 'SÃO BERNARDO', '211065': 'SÃO DOMINGOS DO AZEITÃO', '211070': 'SÃO DOMINGOS DO MARANHÃO', '211080': 'SÃO FÉLIX DE BALSAS', '211085': 'SÃO FRANCISCO DO BREJÃO', '211090': 'SÃO FRANCISCO DO MARANHÃO', '211100': 'SÃO JOÃO BATISTA', '211102': 'SÃO JOÃO DO CARÚ', '211105': 'SÃO JOÃO DO PARAÍSO', '211107': 'SÃO JOÃO DO SOTER', '211110': 'SÃO JOÃO DOS PATOS', '211120': 'SÃO JOSÉ DE RIBAMAR', '211125': 'SÃO JOSÉ DOS BASÍLIOS', '211130': 'SÃO LUÍS', '211140': 'SÃO LUÍS GONZAGA DO MARANHÃO', '211150': 'SÃO MATEUS DO MARANHÃO', '211153': 'SÃO PEDRO DA ÁGUA BRANCA', '211157': 'SÃO PEDRO DOS CRENTES', '211160': 'SÃO RAIMUNDO DAS MANGABEIRAS', '211163': 'SÃO RAIMUNDO DO DOCA BEZERRA', '211167': 'SÃO ROBERTO', '211170': 'SÃO VICENTE FERRER', '211172': 'SATUBINHA', '211174': 'SENADOR ALEXANDRE COSTA', '211176': 'SENADOR LA ROCQUE', '211178': 'SERRANO DO MARANHÃO', '211180': 'SÍTIO NOVO', '211190': 'SUCUPIRA DO NORTE', '211195': 'SUCUPIRA DO RIACHÃO', '211200': 'TASSO FRAGOSO', '211210': 'TIMBIRAS', '211220': 'TIMON', '211223': 'TRIZIDELA DO VALE', '211227': 'TUFILÂNDIA', '211230': 'TUNTUM', '211240': 'TURIAÇU', '211245': 'TURILÂNDIA', '211250': 'TUTÓIA', '211260': 'URBANO SANTOS', '211270': 'VARGEM GRANDE', '211280': 'VIANA', '211285': 'VILA NOVA DOS MARTÍRIOS', '211290': 'VITÓRIA DO MEARIM', '211300': 'VITORINO FREIRE', '211400': 'ZÉ DOCA', '14.381Total': '', '510010': 'GROSSO ACORIZAL', '510020': 'GROSSO ÁGUA BOA', '510025': 'GROSSO ALTA FLORESTA', '510030': 'GROSSO ALTO ARAGUAIA', '510035': 'GROSSO ALTO BOA VISTA', '510040': 'GROSSO ALTO GARÇAS', '510050': 'GROSSO ALTO PARAGUAI', '510060': 'GROSSO ALTO TAQUARI', '510080': 'GROSSO APIACÁS', '510100': 'GROSSO ARAGUAIANA', '510120': 'GROSSO ARAGUAINHA', '510125': 'GROSSO ARAPUTANGA', '510130': 'GROSSO ARENÁPOLIS', '510140': 'GROSSO ARIPUANÃ', '510160': 'GROSSO BARÃO DE MELGAÇO', '510170': 'GROSSO BARRA DO BUGRES', '510180': 'GROSSO BARRA DO GARÇAS', '510185': 'GROSSO BOM JESUS DO ARAGUAIA', '510190': 'GROSSO BRASNORTE', '510250': 'GROSSO CÁCERES', '510260': 'GROSSO CAMPINÁPOLIS', '510263': 'GROSSO CAMPO NOVO DO PARECIS', '510267': 'GROSSO CAMPO VERDE', '510268': 'GROSSO CAMPOS DE JÚLIO', '510269': 'GROSSO CANABRAVA DO NORTE', '510270': 'GROSSO CANARANA', '510279': 'GROSSO CARLINDA', '510285': 'GROSSO CASTANHEIRA', '510300': 'GROSSO CHAPADA DOS GUIMARÃES', '510305': 'GROSSO CLÁUDIA', '510310': 'GROSSO COCALINHO', '510320': 'GROSSO COLÍDER', '510325': 'GROSSO COLNIZA', '510330': 'GROSSO COMODORO', '510335': 'GROSSO CONFRESA', '510336': \"GROSSO CONQUISTA D'OESTE\", '510337': 'GROSSO COTRIGUAÇU', '510340': 'GROSSO CUIABÁ', '510343': 'GROSSO CURVELÂNDIA', '510345': 'GROSSO DENISE', '510350': 'GROSSO DIAMANTINO', '510360': 'GROSSO DOM AQUINO', '510370': 'GROSSO FELIZ NATAL', '510380': \"GROSSO FIGUEIRÓPOLIS D'OESTE\", '510385': 'GROSSO GAÚCHA DO NORTE', '510390': 'GROSSO GENERAL CARNEIRO', '510395': \"GROSSO GLÓRIA D'OESTE\", '510410': 'GROSSO GUARANTÃ DO NORTE', '510420': 'GROSSO GUIRATINGA', '510450': 'GROSSO INDIAVAÍ', '510452': 'GROSSO IPIRANGA DO NORTE', '510454': 'GROSSO ITANHANGÁ', '510455': 'GROSSO ITAÚBA', '510460': 'GROSSO ITIQUIRA', '510480': 'GROSSO JACIARA', '510490': 'GROSSO JANGADA', '510500': 'GROSSO JAURU', '510510': 'GROSSO JUARA', '510515': 'GROSSO JUÍNA', '510517': 'GROSSO JURUENA', '510520': 'GROSSO JUSCIMEIRA', '510523': \"GROSSO LAMBARI D'OESTE\", '510525': 'GROSSO LUCAS DO RIO VERDE', '510530': 'GROSSO LUCIARA', '510550': 'GROSSO VILA BELA DA SANTÍSSIMA TRINDADE', '510558': 'GROSSO MARCELÂNDIA', '510560': 'GROSSO MATUPÁ', '510562': \"GROSSO MIRASSOL D'OESTE\", '510590': 'GROSSO NOBRES', '510600': 'GROSSO NORTELÂNDIA', '510610': 'GROSSO NOSSA SENHORA DO LIVRAMENTO', '510615': 'GROSSO NOVA BANDEIRANTES', '510617': 'GROSSO NOVA NAZARÉ', '510618': 'GROSSO NOVA LACERDA', '510619': 'GROSSO NOVA SANTA HELENA', '510620': 'GROSSO NOVA BRASILÂNDIA', '510621': 'GROSSO NOVA CANAÃ DO NORTE', '510622': 'GROSSO NOVA MUTUM', '510623': 'GROSSO NOVA OLÍMPIA', '510624': 'GROSSO NOVA UBIRATÃ', '510625': 'GROSSO NOVA XAVANTINA', '510626': 'GROSSO NOVO MUNDO', '510627': 'GROSSO NOVO HORIZONTE DO NORTE', '510628': 'GROSSO NOVO SÃO JOAQUIM', '510629': 'GROSSO PARANAÍTA', '510630': 'GROSSO PARANATINGA', '510631': 'GROSSO NOVO SANTO ANTÔNIO', '510637': 'GROSSO PEDRA PRETA', '510642': 'GROSSO PEIXOTO DE AZEVEDO', '510645': 'GROSSO PLANALTO DA SERRA', '510650': 'GROSSO POCONÉ', '510665': 'GROSSO PONTAL DO ARAGUAIA', '510670': 'GROSSO PONTE BRANCA', '510675': 'GROSSO PONTES E LACERDA', '510677': 'GROSSO PORTO ALEGRE DO NORTE', '510680': 'GROSSO PORTO DOS GAÚCHOS', '510682': 'GROSSO PORTO ESPERIDIÃO', '510685': 'GROSSO PORTO ESTRELA', '510700': 'GROSSO POXORÉO', '510704': 'GROSSO PRIMAVERA DO LESTE', '510706': 'GROSSO QUERÊNCIA', '510710': 'GROSSO SÃO JOSÉ DOS QUATRO MARCOS', '510715': 'GROSSO RESERVA DO CABAÇAL', '510718': 'GROSSO RIBEIRÃO CASCALHEIRA', '510719': 'GROSSO RIBEIRÃOZINHO', '510720': 'GROSSO RIO BRANCO', '510724': 'GROSSO SANTA CARMEM', '510726': 'GROSSO SANTO AFONSO', '510729': 'GROSSO SÃO JOSÉ DO POVO', '510730': 'GROSSO SÃO JOSÉ DO RIO CLARO', '510735': 'GROSSO SÃO JOSÉ DO XINGU', '510740': 'GROSSO SÃO PEDRO DA CIPA', '510757': 'GROSSO RONDOLÂNDIA', '510760': 'GROSSO RONDONÓPOLIS', '510770': 'GROSSO ROSÁRIO OESTE', '510774': 'GROSSO SANTA CRUZ DO XINGU', '510775': 'GROSSO SALTO DO CÉU', '510776': 'GROSSO SANTA RITA DO TRIVELATO', '510777': 'GROSSO SANTA TEREZINHA', '510779': 'GROSSO SANTO ANTÔNIO DO LESTE', '510780': 'GROSSO SANTO ANTÔNIO DO LEVERGER', '510785': 'GROSSO SÃO FÉLIX DO ARAGUAIA', '510787': 'GROSSO SAPEZAL', '510788': 'GROSSO SERRA NOVA DOURADA', '510790': 'GROSSO SINOP', '510792': 'GROSSO SORRISO', '510794': 'GROSSO TABAPORÃ', '510795': 'GROSSO TANGARÁ DA SERRA', '510800': 'GROSSO TAPURAH', '510805': 'GROSSO TERRA NOVA DO NORTE', '510810': 'GROSSO TESOURO', '510820': 'GROSSO TORIXORÉU', '510830': 'GROSSO UNIÃO DO SUL', '510835': 'GROSSO VALE DE SÃO DOMINGOS', '510840': 'GROSSO VÁRZEA GRANDE', '510850': 'GROSSO VERA', '510860': 'GROSSO VILA RICA', '510880': 'GROSSO NOVA GUARITA', '510885': 'GROSSO NOVA MARILÂNDIA', '510890': 'GROSSO NOVA MARINGÁ', '510895': 'GROSSO NOVA MONTE VERDE', '7.245Total': '', '500020': 'GROSSO DO SUL ÁGUA CLARA', '500025': 'GROSSO DO SUL ALCINÓPOLIS', '500060': 'GROSSO DO SUL AMAMBAI', '500070': 'GROSSO DO SUL ANASTÁCIO', '500080': 'GROSSO DO SUL ANAURILÂNDIA', '500085': 'GROSSO DO SUL ANGÉLICA', '500090': 'GROSSO DO SUL ANTÔNIO JOÃO', '500100': 'GROSSO DO SUL APARECIDA DO TABOADO', '500110': 'GROSSO DO SUL AQUIDAUANA', '500124': 'GROSSO DO SUL ARAL MOREIRA', '500150': 'GROSSO DO SUL BANDEIRANTES', '500190': 'GROSSO DO SUL BATAGUASSU', '500200': 'GROSSO DO SUL BATAYPORÃ', '500210': 'GROSSO DO SUL BELA VISTA', '500215': 'GROSSO DO SUL BODOQUENA', '500220': 'GROSSO DO SUL BONITO', '500230': 'GROSSO DO SUL BRASILÂNDIA', '500240': 'GROSSO DO SUL CAARAPÓ', '500260': 'GROSSO DO SUL CAMAPUÃ', '500270': 'GROSSO DO SUL CAMPO GRANDE', '500280': 'GROSSO DO SUL CARACOL', '500290': 'GROSSO DO SUL CASSILÂNDIA', '500295': 'GROSSO DO SUL CHAPADÃO DO SUL', '500310': 'GROSSO DO SUL CORGUINHO', '500315': 'GROSSO DO SUL CORONEL SAPUCAIA', '500320': 'GROSSO DO SUL CORUMBÁ', '500325': 'GROSSO DO SUL COSTA RICA', '500330': 'GROSSO DO SUL COXIM', '500345': 'GROSSO DO SUL DEODÁPOLIS', '500348': 'GROSSO DO SUL DOIS IRMÃOS DO BURITI', '500350': 'GROSSO DO SUL DOURADINA', '500370': 'GROSSO DO SUL DOURADOS', '500375': 'GROSSO DO SUL ELDORADO', '500380': 'GROSSO DO SUL FÁTIMA DO SUL', '500390': 'GROSSO DO SUL FIGUEIRÃO', '500400': 'GROSSO DO SUL GLÓRIA DE DOURADOS', '500410': 'GROSSO DO SUL GUIA LOPES DA LAGUNA', '500430': 'GROSSO DO SUL IGUATEMI', '500440': 'GROSSO DO SUL INOCÊNCIA', '500450': 'GROSSO DO SUL ITAPORÃ', '500460': 'GROSSO DO SUL ITAQUIRAÍ', '500470': 'GROSSO DO SUL IVINHEMA', '500480': 'GROSSO DO SUL JAPORÃ', '500490': 'GROSSO DO SUL JARAGUARI', '500500': 'GROSSO DO SUL JARDIM', '500510': 'GROSSO DO SUL JATEÍ', '500515': 'GROSSO DO SUL JUTI', '500520': 'GROSSO DO SUL LADÁRIO', '500525': 'GROSSO DO SUL LAGUNA CARAPÃ', '500540': 'GROSSO DO SUL MARACAJU', '500560': 'GROSSO DO SUL MIRANDA', '500568': 'GROSSO DO SUL MUNDO NOVO', '500570': 'GROSSO DO SUL NAVIRAÍ', '500580': 'GROSSO DO SUL NIOAQUE', '500600': 'GROSSO DO SUL NOVA ALVORADA DO SUL', '500620': 'GROSSO DO SUL NOVA ANDRADINA', '500625': 'GROSSO DO SUL NOVO HORIZONTE DO SUL', '500630': 'GROSSO DO SUL PARANAÍBA', '500635': 'GROSSO DO SUL PARANHOS', '500640': 'GROSSO DO SUL PEDRO GOMES', '500660': 'GROSSO DO SUL PONTA PORÃ', '500690': 'GROSSO DO SUL PORTO MURTINHO', '500710': 'GROSSO DO SUL RIBAS DO RIO PARDO', '500720': 'GROSSO DO SUL RIO BRILHANTE', '500730': 'GROSSO DO SUL RIO NEGRO', '500740': 'GROSSO DO SUL RIO VERDE DE MATO GROSSO', '500750': 'GROSSO DO SUL ROCHEDO', '500755': 'GROSSO DO SUL SANTA RITA DO PARDO', '500769': 'GROSSO DO SUL SÃO GABRIEL DO OESTE', '500770': 'GROSSO DO SUL SETE QUEDAS', '500780': 'GROSSO DO SUL SELVÍRIA', '500790': 'GROSSO DO SUL SIDROLÂNDIA', '500793': 'GROSSO DO SUL SONORA', '500795': 'GROSSO DO SUL TACURU', '500797': 'GROSSO DO SUL TAQUARUSSU', '500800': 'GROSSO DO SUL TERENOS', '500830': 'GROSSO DO SUL TRÊS LAGOAS', '500840': 'GROSSO DO SUL VICENTINA', '7.047Total': '', '310010': 'GERAIS ABADIA DOS DOURADOS', '310020': 'GERAIS ABAETÉ', '310030': 'GERAIS ABRE CAMPO', '310040': 'GERAIS ACAIACA', '310050': 'GERAIS AÇUCENA', '310060': 'GERAIS ÁGUA BOA', '310070': 'GERAIS ÁGUA COMPRIDA', '310080': 'GERAIS AGUANIL', '310090': 'GERAIS ÁGUAS FORMOSAS', '310100': 'GERAIS ÁGUAS VERMELHAS', '310110': 'GERAIS AIMORÉS', '310120': 'GERAIS AIURUOCA', '310130': 'GERAIS ALAGOA', '310140': 'GERAIS ALBERTINA', '310150': 'GERAIS ALÉM PARAÍBA', '310160': 'GERAIS ALFENAS', '310163': 'GERAIS ALFREDO VASCONCELOS', '310170': 'GERAIS ALMENARA', '310180': 'GERAIS ALPERCATA', '310190': 'GERAIS ALPINÓPOLIS', '310200': 'GERAIS ALTEROSA', '310205': 'GERAIS ALTO CAPARAÓ', '310210': 'GERAIS ALTO RIO DOCE', '310220': 'GERAIS ALVARENGA', '310230': 'GERAIS ALVINÓPOLIS', '310240': 'GERAIS ALVORADA DE MINAS', '310250': 'GERAIS AMPARO DO SERRA', '310260': 'GERAIS ANDRADAS', '310270': 'GERAIS CACHOEIRA DE PAJEÚ', '310280': 'GERAIS ANDRELÂNDIA', '310285': 'GERAIS ANGELÂNDIA', '310290': 'GERAIS ANTÔNIO CARLOS', '310300': 'GERAIS ANTÔNIO DIAS', '310310': 'GERAIS ANTÔNIO PRADO DE MINAS', '310320': 'GERAIS ARAÇAÍ', '310330': 'GERAIS ARACITABA', '310340': 'GERAIS ARAÇUAÍ', '310350': 'GERAIS ARAGUARI', '310360': 'GERAIS ARANTINA', '310370': 'GERAIS ARAPONGA', '310375': 'GERAIS ARAPORÃ', '310380': 'GERAIS ARAPUÁ', '310390': 'GERAIS ARAÚJOS', '310400': 'GERAIS ARAXÁ', '310410': 'GERAIS ARCEBURGO', '310420': 'GERAIS ARCOS', '310430': 'GERAIS AREADO', '310440': 'GERAIS ARGIRITA', '310445': 'GERAIS ARICANDUVA', '310450': 'GERAIS ARINOS', '310460': 'GERAIS ASTOLFO DUTRA', '310470': 'GERAIS ATALÉIA', '310480': 'GERAIS AUGUSTO DE LIMA', '310490': 'GERAIS BAEPENDI', '310500': 'GERAIS BALDIM', '310510': 'GERAIS BAMBUÍ', '310520': 'GERAIS BANDEIRA', '310530': 'GERAIS BANDEIRA DO SUL', '310540': 'GERAIS BARÃO DE COCAIS', '310550': 'GERAIS BARÃO DE MONTE ALTO', '310560': 'GERAIS BARBACENA', '310570': 'GERAIS BARRA LONGA', '310590': 'GERAIS BARROSO', '310600': 'GERAIS BELA VISTA DE MINAS', '310610': 'GERAIS BELMIRO BRAGA', '310620': 'GERAIS BELO HORIZONTE', '310630': 'GERAIS BELO ORIENTE', '310640': 'GERAIS BELO VALE', '310650': 'GERAIS BERILO', '310660': 'GERAIS BERTÓPOLIS', '310665': 'GERAIS BERIZAL', '310670': 'GERAIS BETIM', '310680': 'GERAIS BIAS FORTES', '310690': 'GERAIS BICAS', '310700': 'GERAIS BIQUINHAS', '310710': 'GERAIS BOA ESPERANÇA', '310720': 'GERAIS BOCAINA DE MINAS', '310730': 'GERAIS BOCAIÚVA', '310740': 'GERAIS BOM DESPACHO', '310750': 'GERAIS BOM JARDIM DE MINAS', '310760': 'GERAIS BOM JESUS DA PENHA', '310770': 'GERAIS BOM JESUS DO AMPARO', '310780': 'GERAIS BOM JESUS DO GALHO', '310790': 'GERAIS BOM REPOUSO', '310800': 'GERAIS BOM SUCESSO', '310810': 'GERAIS BONFIM', '310820': 'GERAIS BONFINÓPOLIS DE MINAS', '310825': 'GERAIS BONITO DE MINAS', '310830': 'GERAIS BORDA DA MATA', '310840': 'GERAIS BOTELHOS', '310850': 'GERAIS BOTUMIRIM', '310855': 'GERAIS BRASILÂNDIA DE MINAS', '310860': 'GERAIS BRASÍLIA DE MINAS', '310870': 'GERAIS BRÁS PIRES', '310880': 'GERAIS BRAÚNAS', '310890': 'GERAIS BRAZÓPOLIS', '310900': 'GERAIS BRUMADINHO', '310910': 'GERAIS BUENO BRANDÃO', '310920': 'GERAIS BUENÓPOLIS', '310925': 'GERAIS BUGRE', '310930': 'GERAIS BURITIS', '310940': 'GERAIS BURITIZEIRO', '310945': 'GERAIS CABECEIRA GRANDE', '310950': 'GERAIS CABO VERDE', '310960': 'GERAIS CACHOEIRA DA PRATA', '310970': 'GERAIS CACHOEIRA DE MINAS', '310980': 'GERAIS CACHOEIRA DOURADA', '310990': 'GERAIS CAETANÓPOLIS', '311000': 'GERAIS CAETÉ', '311010': 'GERAIS CAIANA', '311020': 'GERAIS CAJURI', '311030': 'GERAIS CALDAS', '311040': 'GERAIS CAMACHO', '311050': 'GERAIS CAMANDUCAIA', '311060': 'GERAIS CAMBUÍ', '311070': 'GERAIS CAMBUQUIRA', '311080': 'GERAIS CAMPANÁRIO', '311090': 'GERAIS CAMPANHA', '311100': 'GERAIS CAMPESTRE', '311110': 'GERAIS CAMPINA VERDE', '311115': 'GERAIS CAMPO AZUL', '311120': 'GERAIS CAMPO BELO', '311130': 'GERAIS CAMPO DO MEIO', '311140': 'GERAIS CAMPO FLORIDO', '311150': 'GERAIS CAMPOS ALTOS', '311160': 'GERAIS CAMPOS GERAIS', '311170': 'GERAIS CANAÃ', '311180': 'GERAIS CANÁPOLIS', '311190': 'GERAIS CANA VERDE', '311200': 'GERAIS CANDEIAS', '311205': 'GERAIS CANTAGALO', '311210': 'GERAIS CAPARAÓ', '311220': 'GERAIS CAPELA NOVA', '311230': 'GERAIS CAPELINHA', '311240': 'GERAIS CAPETINGA', '311250': 'GERAIS CAPIM BRANCO', '311260': 'GERAIS CAPINÓPOLIS', '311265': 'GERAIS CAPITÃO ANDRADE', '311270': 'GERAIS CAPITÃO ENÉAS', '311280': 'GERAIS CAPITÓLIO', '311290': 'GERAIS CAPUTIRA', '311300': 'GERAIS CARAÍ', '311310': 'GERAIS CARANAÍBA', '311320': 'GERAIS CARANDAÍ', '311330': 'GERAIS CARANGOLA', '311340': 'GERAIS CARATINGA', '311350': 'GERAIS CARBONITA', '311360': 'GERAIS CAREAÇU', '311370': 'GERAIS CARLOS CHAGAS', '311380': 'GERAIS CARMÉSIA', '311390': 'GERAIS CARMO DA CACHOEIRA', '311400': 'GERAIS CARMO DA MATA', '311410': 'GERAIS CARMO DE MINAS', '311420': 'GERAIS CARMO DO CAJURU', '311430': 'GERAIS CARMO DO PARANAÍBA', '311440': 'GERAIS CARMO DO RIO CLARO', '311450': 'GERAIS CARMÓPOLIS DE MINAS', '311455': 'GERAIS CARNEIRINHO', '311460': 'GERAIS CARRANCAS', '311470': 'GERAIS CARVALHÓPOLIS', '311480': 'GERAIS CARVALHOS', '311490': 'GERAIS CASA GRANDE', '311500': 'GERAIS CASCALHO RICO', '311510': 'GERAIS CÁSSIA', '311520': 'GERAIS CONCEIÇÃO DA BARRA DE MINAS', '311530': 'GERAIS CATAGUASES', '311535': 'GERAIS CATAS ALTAS', '311540': 'GERAIS CATAS ALTAS DA NORUEGA', '311545': 'GERAIS CATUJI', '311547': 'GERAIS CATUTI', '311550': 'GERAIS CAXAMBU', '311560': 'GERAIS CEDRO DO ABAETÉ', '311570': 'GERAIS CENTRAL DE MINAS', '311580': 'GERAIS CENTRALINA', '311590': 'GERAIS CHÁCARA', '311600': 'GERAIS CHALÉ', '311610': 'GERAIS CHAPADA DO NORTE', '311615': 'GERAIS CHAPADA GAÚCHA', '311620': 'GERAIS CHIADOR', '311630': 'GERAIS CIPOTÂNEA', '311640': 'GERAIS CLARAVAL', '311650': 'GERAIS CLARO DOS POÇÕES', '311660': 'GERAIS CLÁUDIO', '311670': 'GERAIS COIMBRA', '311680': 'GERAIS COLUNA', '311690': 'GERAIS COMENDADOR GOMES', '311700': 'GERAIS COMERCINHO', '311710': 'GERAIS CONCEIÇÃO DA APARECIDA', '311720': 'GERAIS CONCEIÇÃO DAS PEDRAS', '311730': 'GERAIS CONCEIÇÃO DAS ALAGOAS', '311740': 'GERAIS CONCEIÇÃO DE IPANEMA', '311750': 'GERAIS CONCEIÇÃO DO MATO DENTRO', '311760': 'GERAIS CONCEIÇÃO DO PARÁ', '311770': 'GERAIS CONCEIÇÃO DO RIO VERDE', '311780': 'GERAIS CONCEIÇÃO DOS OUROS', '311783': 'GERAIS CÔNEGO MARINHO', '311787': 'GERAIS CONFINS', '311790': 'GERAIS CONGONHAL', '311800': 'GERAIS CONGONHAS', '311810': 'GERAIS CONGONHAS DO NORTE', '311820': 'GERAIS CONQUISTA', '311830': 'GERAIS CONSELHEIRO LAFAIETE', '311840': 'GERAIS CONSELHEIRO PENA', '311850': 'GERAIS CONSOLAÇÃO', '311860': 'GERAIS CONTAGEM', '311870': 'GERAIS COQUEIRAL', '311880': 'GERAIS CORAÇÃO DE JESUS', '311890': 'GERAIS CORDISBURGO', '311900': 'GERAIS CORDISLÂNDIA', '311910': 'GERAIS CORINTO', '311920': 'GERAIS COROACI', '311930': 'GERAIS COROMANDEL', '311940': 'GERAIS CORONEL FABRICIANO', '311950': 'GERAIS CORONEL MURTA', '311960': 'GERAIS CORONEL PACHECO', '311970': 'GERAIS CORONEL XAVIER CHAVES', '311980': 'GERAIS CÓRREGO DANTA', '311990': 'GERAIS CÓRREGO DO BOM JESUS', '311995': 'GERAIS CÓRREGO FUNDO', '312000': 'GERAIS CÓRREGO NOVO', '312010': 'GERAIS COUTO DE MAGALHÃES DE MINAS', '312015': 'GERAIS CRISÓLITA', '312020': 'GERAIS CRISTAIS', '312030': 'GERAIS CRISTÁLIA', '312040': 'GERAIS CRISTIANO OTONI', '312050': 'GERAIS CRISTINA', '312060': 'GERAIS CRUCILÂNDIA', '312070': 'GERAIS CRUZEIRO DA FORTALEZA', '312080': 'GERAIS CRUZÍLIA', '312083': 'GERAIS CUPARAQUE', '312087': 'GERAIS CURRAL DE DENTRO', '312090': 'GERAIS CURVELO', '312100': 'GERAIS DATAS', '312110': 'GERAIS DELFIM MOREIRA', '312120': 'GERAIS DELFINÓPOLIS', '312125': 'GERAIS DELTA', '312130': 'GERAIS DESCOBERTO', '312140': 'GERAIS DESTERRO DE ENTRE RIOS', '312150': 'GERAIS DESTERRO DO MELO', '312160': 'GERAIS DIAMANTINA', '312170': 'GERAIS DIOGO DE VASCONCELOS', '312180': 'GERAIS DIONÍSIO', '312190': 'GERAIS DIVINÉSIA', '312200': 'GERAIS DIVINO', '312210': 'GERAIS DIVINO DAS LARANJEIRAS', '312220': 'GERAIS DIVINOLÂNDIA DE MINAS', '312230': 'GERAIS DIVINÓPOLIS', '312235': 'GERAIS DIVISA ALEGRE', '312240': 'GERAIS DIVISA NOVA', '312245': 'GERAIS DIVISÓPOLIS', '312247': 'GERAIS DOM BOSCO', '312250': 'GERAIS DOM CAVATI', '312260': 'GERAIS DOM JOAQUIM', '312270': 'GERAIS DOM SILVÉRIO', '312280': 'GERAIS DOM VIÇOSO', '312290': 'GERAIS DONA EUSÉBIA', '312300': 'GERAIS DORES DE CAMPOS', '312310': 'GERAIS DORES DE GUANHÃES', '312320': 'GERAIS DORES DO INDAIÁ', '312330': 'GERAIS DORES DO TURVO', '312340': 'GERAIS DORESÓPOLIS', '312350': 'GERAIS DOURADOQUARA', '312352': 'GERAIS DURANDÉ', '312360': 'GERAIS ELÓI MENDES', '312370': 'GERAIS ENGENHEIRO CALDAS', '312380': 'GERAIS ENGENHEIRO NAVARRO', '312385': 'GERAIS ENTRE FOLHAS', '312390': 'GERAIS ENTRE RIOS DE MINAS', '312400': 'GERAIS ERVÁLIA', '312410': 'GERAIS ESMERALDAS', '312420': 'GERAIS ESPERA FELIZ', '312430': 'GERAIS ESPINOSA', '312440': 'GERAIS ESPÍRITO SANTO DO DOURADO', '312450': 'GERAIS ESTIVA', '312460': 'GERAIS ESTRELA DALVA', '312470': 'GERAIS ESTRELA DO INDAIÁ', '312480': 'GERAIS ESTRELA DO SUL', '312490': 'GERAIS EUGENÓPOLIS', '312500': 'GERAIS EWBANK DA CÂMARA', '312510': 'GERAIS EXTREMA', '312520': 'GERAIS FAMA', '312530': 'GERAIS FARIA LEMOS', '312540': 'GERAIS FELÍCIO DOS SANTOS', '312550': 'GERAIS SÃO GONÇALO DO RIO PRETO', '312560': 'GERAIS FELISBURGO', '312570': 'GERAIS FELIXLÂNDIA', '312580': 'GERAIS FERNANDES TOURINHO', '312590': 'GERAIS FERROS', '312595': 'GERAIS FERVEDOURO', '312600': 'GERAIS FLORESTAL', '312610': 'GERAIS FORMIGA', '312620': 'GERAIS FORMOSO', '312630': 'GERAIS FORTALEZA DE MINAS', '312640': 'GERAIS FORTUNA DE MINAS', '312650': 'GERAIS FRANCISCO BADARÓ', '312660': 'GERAIS FRANCISCO DUMONT', '312670': 'GERAIS FRANCISCO SÁ', '312675': 'GERAIS FRANCISCÓPOLIS', '312680': 'GERAIS FREI GASPAR', '312690': 'GERAIS FREI INOCÊNCIO', '312695': 'GERAIS FREI LAGONEGRO', '312700': 'GERAIS FRONTEIRA', '312705': 'GERAIS FRONTEIRA DOS VALES', '312707': 'GERAIS FRUTA DE LEITE', '312710': 'GERAIS FRUTAL', '312720': 'GERAIS FUNILÂNDIA', '312730': 'GERAIS GALILÉIA', '312733': 'GERAIS GAMELEIRAS', '312735': 'GERAIS GLAUCILÂNDIA', '312737': 'GERAIS GOIABEIRA', '312738': 'GERAIS GOIANÁ', '312740': 'GERAIS GONÇALVES', '312750': 'GERAIS GONZAGA', '312760': 'GERAIS GOUVEIA', '312770': 'GERAIS GOVERNADOR VALADARES', '312780': 'GERAIS GRÃO MOGOL', '312790': 'GERAIS GRUPIARA', '312800': 'GERAIS GUANHÃES', '312810': 'GERAIS GUAPÉ', '312820': 'GERAIS GUARACIABA', '312825': 'GERAIS GUARACIAMA', '312830': 'GERAIS GUARANÉSIA', '312840': 'GERAIS GUARANI', '312850': 'GERAIS GUARARÁ', '312860': 'GERAIS GUARDA-MOR', '312870': 'GERAIS GUAXUPÉ', '312880': 'GERAIS GUIDOVAL', '312890': 'GERAIS GUIMARÂNIA', '312900': 'GERAIS GUIRICEMA', '312910': 'GERAIS GURINHATÃ', '312920': 'GERAIS HELIODORA', '312930': 'GERAIS IAPU', '312940': 'GERAIS IBERTIOGA', '312950': 'GERAIS IBIÁ', '312960': 'GERAIS IBIAÍ', '312965': 'GERAIS IBIRACATU', '312970': 'GERAIS IBIRACI', '312980': 'GERAIS IBIRITÉ', '312990': 'GERAIS IBITIÚRA DE MINAS', '313000': 'GERAIS IBITURUNA', '313005': 'GERAIS ICARAÍ DE MINAS', '313010': 'GERAIS IGARAPÉ', '313020': 'GERAIS IGARATINGA', '313030': 'GERAIS IGUATAMA', '313040': 'GERAIS IJACI', '313050': 'GERAIS ILICÍNEA', '313055': 'GERAIS IMBÉ DE MINAS', '313060': 'GERAIS INCONFIDENTES', '313065': 'GERAIS INDAIABIRA', '313070': 'GERAIS INDIANÓPOLIS', '313080': 'GERAIS INGAÍ', '313090': 'GERAIS INHAPIM', '313100': 'GERAIS INHAÚMA', '313110': 'GERAIS INIMUTABA', '313115': 'GERAIS IPABA', '313120': 'GERAIS IPANEMA', '313130': 'GERAIS IPATINGA', '313140': 'GERAIS IPIAÇU', '313150': 'GERAIS IPUIÚNA', '313160': 'GERAIS IRAÍ DE MINAS', '313170': 'GERAIS ITABIRA', '313180': 'GERAIS ITABIRINHA', '313190': 'GERAIS ITABIRITO', '313200': 'GERAIS ITACAMBIRA', '313210': 'GERAIS ITACARAMBI', '313220': 'GERAIS ITAGUARA', '313230': 'GERAIS ITAIPÉ', '313240': 'GERAIS ITAJUBÁ', '313250': 'GERAIS ITAMARANDIBA', '313260': 'GERAIS ITAMARATI DE MINAS', '313270': 'GERAIS ITAMBACURI', '313280': 'GERAIS ITAMBÉ DO MATO DENTRO', '313290': 'GERAIS ITAMOGI', '313300': 'GERAIS ITAMONTE', '313310': 'GERAIS ITANHANDU', '313320': 'GERAIS ITANHOMI', '313330': 'GERAIS ITAOBIM', '313340': 'GERAIS ITAPAGIPE', '313350': 'GERAIS ITAPECERICA', '313360': 'GERAIS ITAPEVA', '313370': 'GERAIS ITATIAIUÇU', '313375': 'GERAIS ITAÚ DE MINAS', '313380': 'GERAIS ITAÚNA', '313390': 'GERAIS ITAVERAVA', '313400': 'GERAIS ITINGA', '313410': 'GERAIS ITUETA', '313420': 'GERAIS ITUIUTABA', '313430': 'GERAIS ITUMIRIM', '313440': 'GERAIS ITURAMA', '313450': 'GERAIS ITUTINGA', '313460': 'GERAIS JABOTICATUBAS', '313470': 'GERAIS JACINTO', '313480': 'GERAIS JACUÍ', '313490': 'GERAIS JACUTINGA', '313500': 'GERAIS JAGUARAÇU', '313505': 'GERAIS JAÍBA', '313507': 'GERAIS JAMPRUCA', '313510': 'GERAIS JANAÚBA', '313520': 'GERAIS JANUÁRIA', '313530': 'GERAIS JAPARAÍBA', '313535': 'GERAIS JAPONVAR', '313540': 'GERAIS JECEABA', '313545': 'GERAIS JENIPAPO DE MINAS', '313550': 'GERAIS JEQUERI', '313560': 'GERAIS JEQUITAÍ', '313570': 'GERAIS JEQUITIBÁ', '313580': 'GERAIS JEQUITINHONHA', '313590': 'GERAIS JESUÂNIA', '313600': 'GERAIS JOAÍMA', '313610': 'GERAIS JOANÉSIA', '313620': 'GERAIS JOÃO MONLEVADE', '313630': 'GERAIS JOÃO PINHEIRO', '313640': 'GERAIS JOAQUIM FELÍCIO', '313650': 'GERAIS JORDÂNIA', '313652': 'GERAIS JOSÉ GONÇALVES DE MINAS', '313655': 'GERAIS JOSÉ RAYDAN', '313657': 'GERAIS JOSENÓPOLIS', '313660': 'GERAIS NOVA UNIÃO', '313665': 'GERAIS JUATUBA', '313670': 'GERAIS JUIZ DE FORA', '313680': 'GERAIS JURAMENTO', '313690': 'GERAIS JURUAIA', '313695': 'GERAIS JUVENÍLIA', '313700': 'GERAIS LADAINHA', '313710': 'GERAIS LAGAMAR', '313720': 'GERAIS LAGOA DA PRATA', '313730': 'GERAIS LAGOA DOS PATOS', '313740': 'GERAIS LAGOA DOURADA', '313750': 'GERAIS LAGOA FORMOSA', '313753': 'GERAIS LAGOA GRANDE', '313760': 'GERAIS LAGOA SANTA', '313770': 'GERAIS LAJINHA', '313780': 'GERAIS LAMBARI', '313790': 'GERAIS LAMIM', '313800': 'GERAIS LARANJAL', '313810': 'GERAIS LASSANCE', '313820': 'GERAIS LAVRAS', '313830': 'GERAIS LEANDRO FERREIRA', '313835': 'GERAIS LEME DO PRADO', '313840': 'GERAIS LEOPOLDINA', '313850': 'GERAIS LIBERDADE', '313860': 'GERAIS LIMA DUARTE', '313862': 'GERAIS LIMEIRA DO OESTE', '313865': 'GERAIS LONTRA', '313867': 'GERAIS LUISBURGO', '313868': 'GERAIS LUISLÂNDIA', '313870': 'GERAIS LUMINÁRIAS', '313880': 'GERAIS LUZ', '313890': 'GERAIS MACHACALIS', '313900': 'GERAIS MACHADO', '313910': 'GERAIS MADRE DE DEUS DE MINAS', '313920': 'GERAIS MALACACHETA', '313925': 'GERAIS MAMONAS', '313930': 'GERAIS MANGA', '313940': 'GERAIS MANHUAÇU', '313950': 'GERAIS MANHUMIRIM', '313960': 'GERAIS MANTENA', '313970': 'GERAIS MARAVILHAS', '313980': 'GERAIS MAR DE ESPANHA', '313990': 'GERAIS MARIA DA FÉ', '314000': 'GERAIS MARIANA', '314010': 'GERAIS MARILAC', '314015': 'GERAIS MÁRIO CAMPOS', '314020': 'GERAIS MARIPÁ DE MINAS', '314030': 'GERAIS MARLIÉRIA', '314040': 'GERAIS MARMELÓPOLIS', '314050': 'GERAIS MARTINHO CAMPOS', '314053': 'GERAIS MARTINS SOARES', '314055': 'GERAIS MATA VERDE', '314060': 'GERAIS MATERLÂNDIA', '314070': 'GERAIS MATEUS LEME', '314080': 'GERAIS MATIAS BARBOSA', '314085': 'GERAIS MATIAS CARDOSO', '314090': 'GERAIS MATIPÓ', '314100': 'GERAIS MATO VERDE', '314110': 'GERAIS MATOZINHOS', '314120': 'GERAIS MATUTINA', '314130': 'GERAIS MEDEIROS', '314140': 'GERAIS MEDINA', '314150': 'GERAIS MENDES PIMENTEL', '314160': 'GERAIS MERCÊS', '314170': 'GERAIS MESQUITA', '314180': 'GERAIS MINAS NOVAS', '314190': 'GERAIS MINDURI', '314200': 'GERAIS MIRABELA', '314210': 'GERAIS MIRADOURO', '314220': 'GERAIS MIRAÍ', '314225': 'GERAIS MIRAVÂNIA', '314230': 'GERAIS MOEDA', '314240': 'GERAIS MOEMA', '314250': 'GERAIS MONJOLOS', '314260': 'GERAIS MONSENHOR PAULO', '314270': 'GERAIS MONTALVÂNIA', '314280': 'GERAIS MONTE ALEGRE DE MINAS', '314290': 'GERAIS MONTE AZUL', '314300': 'GERAIS MONTE BELO', '314310': 'GERAIS MONTE CARMELO', '314315': 'GERAIS MONTE FORMOSO', '314320': 'GERAIS MONTE SANTO DE MINAS', '314330': 'GERAIS MONTES CLAROS', '314340': 'GERAIS MONTE SIÃO', '314345': 'GERAIS MONTEZUMA', '314350': 'GERAIS MORADA NOVA DE MINAS', '314360': 'GERAIS MORRO DA GARÇA', '314370': 'GERAIS MORRO DO PILAR', '314380': 'GERAIS MUNHOZ', '314390': 'GERAIS MURIAÉ', '314400': 'GERAIS MUTUM', '314410': 'GERAIS MUZAMBINHO', '314420': 'GERAIS NACIP RAYDAN', '314430': 'GERAIS NANUQUE', '314435': 'GERAIS NAQUE', '314437': 'GERAIS NATALÂNDIA', '314440': 'GERAIS NATÉRCIA', '314450': 'GERAIS NAZARENO', '314460': 'GERAIS NEPOMUCENO', '314465': 'GERAIS NINHEIRA', '314467': 'GERAIS NOVA BELÉM', '314470': 'GERAIS NOVA ERA', '314480': 'GERAIS NOVA LIMA', '314490': 'GERAIS NOVA MÓDICA', '314500': 'GERAIS NOVA PONTE', '314505': 'GERAIS NOVA PORTEIRINHA', '314510': 'GERAIS NOVA RESENDE', '314520': 'GERAIS NOVA SERRANA', '314530': 'GERAIS NOVO CRUZEIRO', '314535': 'GERAIS NOVO ORIENTE DE MINAS', '314537': 'GERAIS NOVORIZONTE', '314540': 'GERAIS OLARIA', '314545': \"GERAIS OLHOS-D'ÁGUA\", '314550': 'GERAIS OLÍMPIO NORONHA', '314560': 'GERAIS OLIVEIRA', '314570': 'GERAIS OLIVEIRA FORTES', '314580': 'GERAIS ONÇA DE PITANGUI', '314585': 'GERAIS ORATÓRIOS', '314587': 'GERAIS ORIZÂNIA', '314590': 'GERAIS OURO BRANCO', '314600': 'GERAIS OURO FINO', '314610': 'GERAIS OURO PRETO', '314620': 'GERAIS OURO VERDE DE MINAS', '314625': 'GERAIS PADRE CARVALHO', '314630': 'GERAIS PADRE PARAÍSO', '314640': 'GERAIS PAINEIRAS', '314650': 'GERAIS PAINS', '314655': 'GERAIS PAI PEDRO', '314660': 'GERAIS PAIVA', '314670': 'GERAIS PALMA', '314675': 'GERAIS PALMÓPOLIS', '314690': 'GERAIS PAPAGAIOS', '314700': 'GERAIS PARACATU', '314710': 'GERAIS PARÁ DE MINAS', '314720': 'GERAIS PARAGUAÇU', '314730': 'GERAIS PARAISÓPOLIS', '314740': 'GERAIS PARAOPEBA', '314750': 'GERAIS PASSABÉM', '314760': 'GERAIS PASSA QUATRO', '314770': 'GERAIS PASSA TEMPO', '314780': 'GERAIS PASSA-VINTE', '314790': 'GERAIS PASSOS', '314795': 'GERAIS PATIS', '314800': 'GERAIS PATOS DE MINAS', '314810': 'GERAIS PATROCÍNIO', '314820': 'GERAIS PATROCÍNIO DO MURIAÉ', '314830': 'GERAIS PAULA CÂNDIDO', '314840': 'GERAIS PAULISTAS', '314850': 'GERAIS PAVÃO', '314860': 'GERAIS PEÇANHA', '314870': 'GERAIS PEDRA AZUL', '314875': 'GERAIS PEDRA BONITA', '314880': 'GERAIS PEDRA DO ANTA', '314890': 'GERAIS PEDRA DO INDAIÁ', '314900': 'GERAIS PEDRA DOURADA', '314910': 'GERAIS PEDRALVA', '314915': 'GERAIS PEDRAS DE MARIA DA CRUZ', '314920': 'GERAIS PEDRINÓPOLIS', '314930': 'GERAIS PEDRO LEOPOLDO', '314940': 'GERAIS PEDRO TEIXEIRA', '314950': 'GERAIS PEQUERI', '314960': 'GERAIS PEQUI', '314970': 'GERAIS PERDIGÃO', '314980': 'GERAIS PERDIZES', '314990': 'GERAIS PERDÕES', '314995': 'GERAIS PERIQUITO', '315000': 'GERAIS PESCADOR', '315010': 'GERAIS PIAU', '315015': 'GERAIS PIEDADE DE CARATINGA', '315020': 'GERAIS PIEDADE DE PONTE NOVA', '315030': 'GERAIS PIEDADE DO RIO GRANDE', '315040': 'GERAIS PIEDADE DOS GERAIS', '315050': 'GERAIS PIMENTA', '315053': \"GERAIS PINGO-D'ÁGUA\", '315057': 'GERAIS PINTÓPOLIS', '315060': 'GERAIS PIRACEMA', '315070': 'GERAIS PIRAJUBA', '315080': 'GERAIS PIRANGA', '315090': 'GERAIS PIRANGUÇU', '315100': 'GERAIS PIRANGUINHO', '315110': 'GERAIS PIRAPETINGA', '315120': 'GERAIS PIRAPORA', '315130': 'GERAIS PIRAÚBA', '315140': 'GERAIS PITANGUI', '315150': 'GERAIS PIUMHI', '315160': 'GERAIS PLANURA', '315170': 'GERAIS POÇO FUNDO', '315180': 'GERAIS POÇOS DE CALDAS', '315190': 'GERAIS POCRANE', '315200': 'GERAIS POMPÉU', '315210': 'GERAIS PONTE NOVA', '315213': 'GERAIS PONTO CHIQUE', '315217': 'GERAIS PONTO DOS VOLANTES', '315220': 'GERAIS PORTEIRINHA', '315230': 'GERAIS PORTO FIRME', '315240': 'GERAIS POTÉ', '315250': 'GERAIS POUSO ALEGRE', '315260': 'GERAIS POUSO ALTO', '315270': 'GERAIS PRADOS', '315280': 'GERAIS PRATA', '315290': 'GERAIS PRATÁPOLIS', '315300': 'GERAIS PRATINHA', '315310': 'GERAIS PRESIDENTE BERNARDES', '315320': 'GERAIS PRESIDENTE JUSCELINO', '315330': 'GERAIS PRESIDENTE KUBITSCHEK', '315340': 'GERAIS PRESIDENTE OLEGÁRIO', '315350': 'GERAIS ALTO JEQUITIBÁ', '315360': 'GERAIS PRUDENTE DE MORAIS', '315370': 'GERAIS QUARTEL GERAL', '315380': 'GERAIS QUELUZITO', '315390': 'GERAIS RAPOSOS', '315400': 'GERAIS RAUL SOARES', '315410': 'GERAIS RECREIO', '315415': 'GERAIS REDUTO', '315420': 'GERAIS RESENDE COSTA', '315430': 'GERAIS RESPLENDOR', '315440': 'GERAIS RESSAQUINHA', '315445': 'GERAIS RIACHINHO', '315450': 'GERAIS RIACHO DOS MACHADOS', '315460': 'GERAIS RIBEIRÃO DAS NEVES', '315470': 'GERAIS RIBEIRÃO VERMELHO', '315480': 'GERAIS RIO ACIMA', '315490': 'GERAIS RIO CASCA', '315500': 'GERAIS RIO DOCE', '315510': 'GERAIS RIO DO PRADO', '315520': 'GERAIS RIO ESPERA', '315530': 'GERAIS RIO MANSO', '315540': 'GERAIS RIO NOVO', '315550': 'GERAIS RIO PARANAÍBA', '315560': 'GERAIS RIO PARDO DE MINAS', '315570': 'GERAIS RIO PIRACICABA', '315580': 'GERAIS RIO POMBA', '315590': 'GERAIS RIO PRETO', '315600': 'GERAIS RIO VERMELHO', '315610': 'GERAIS RITÁPOLIS', '315620': 'GERAIS ROCHEDO DE MINAS', '315630': 'GERAIS RODEIRO', '315640': 'GERAIS ROMARIA', '315645': 'GERAIS ROSÁRIO DA LIMEIRA', '315650': 'GERAIS RUBELITA', '315660': 'GERAIS RUBIM', '315670': 'GERAIS SABARÁ', '315680': 'GERAIS SABINÓPOLIS', '315690': 'GERAIS SACRAMENTO', '315700': 'GERAIS SALINAS', '315710': 'GERAIS SALTO DA DIVISA', '315720': 'GERAIS SANTA BÁRBARA', '315725': 'GERAIS SANTA BÁRBARA DO LESTE', '315727': 'GERAIS SANTA BÁRBARA DO MONTE VERDE', '315730': 'GERAIS SANTA BÁRBARA DO TUGÚRIO', '315733': 'GERAIS SANTA CRUZ DE MINAS', '315737': 'GERAIS SANTA CRUZ DE SALINAS', '315740': 'GERAIS SANTA CRUZ DO ESCALVADO', '315750': 'GERAIS SANTA EFIGÊNIA DE MINAS', '315760': 'GERAIS SANTA FÉ DE MINAS', '315765': 'GERAIS SANTA HELENA DE MINAS', '315770': 'GERAIS SANTA JULIANA', '315780': 'GERAIS SANTA LUZIA', '315790': 'GERAIS SANTA MARGARIDA', '315800': 'GERAIS SANTA MARIA DE ITABIRA', '315810': 'GERAIS SANTA MARIA DO SALTO', '315820': 'GERAIS SANTA MARIA DO SUAÇUÍ', '315830': 'GERAIS SANTANA DA VARGEM', '315840': 'GERAIS SANTANA DE CATAGUASES', '315850': 'GERAIS SANTANA DE PIRAPAMA', '315860': 'GERAIS SANTANA DO DESERTO', '315870': 'GERAIS SANTANA DO GARAMBÉU', '315880': 'GERAIS SANTANA DO JACARÉ', '315890': 'GERAIS SANTANA DO MANHUAÇU', '315895': 'GERAIS SANTANA DO PARAÍSO', '315900': 'GERAIS SANTANA DO RIACHO', '315910': 'GERAIS SANTANA DOS MONTES', '315920': 'GERAIS SANTA RITA DE CALDAS', '315930': 'GERAIS SANTA RITA DE JACUTINGA', '315935': 'GERAIS SANTA RITA DE MINAS', '315940': 'GERAIS SANTA RITA DE IBITIPOCA', '315950': 'GERAIS SANTA RITA DO ITUETO', '315960': 'GERAIS SANTA RITA DO SAPUCAÍ', '315970': 'GERAIS SANTA ROSA DA SERRA', '315980': 'GERAIS SANTA VITÓRIA', '315990': 'GERAIS SANTO ANTÔNIO DO AMPARO', '316000': 'GERAIS SANTO ANTÔNIO DO AVENTUREIRO', '316010': 'GERAIS SANTO ANTÔNIO DO GRAMA', '316020': 'GERAIS SANTO ANTÔNIO DO ITAMBÉ', '316030': 'GERAIS SANTO ANTÔNIO DO JACINTO', '316040': 'GERAIS SANTO ANTÔNIO DO MONTE', '316045': 'GERAIS SANTO ANTÔNIO DO RETIRO', '316050': 'GERAIS SANTO ANTÔNIO DO RIO ABAIXO', '316060': 'GERAIS SANTO HIPÓLITO', '316070': 'GERAIS SANTOS DUMONT', '316080': 'GERAIS SÃO BENTO ABADE', '316090': 'GERAIS SÃO BRÁS DO SUAÇUÍ', '316095': 'GERAIS SÃO DOMINGOS DAS DORES', '316100': 'GERAIS SÃO DOMINGOS DO PRATA', '316105': 'GERAIS SÃO FÉLIX DE MINAS', '316110': 'GERAIS SÃO FRANCISCO', '316120': 'GERAIS SÃO FRANCISCO DE PAULA', '316130': 'GERAIS SÃO FRANCISCO DE SALES', '316140': 'GERAIS SÃO FRANCISCO DO GLÓRIA', '316150': 'GERAIS SÃO GERALDO', '316160': 'GERAIS SÃO GERALDO DA PIEDADE', '316165': 'GERAIS SÃO GERALDO DO BAIXIO', '316170': 'GERAIS SÃO GONÇALO DO ABAETÉ', '316180': 'GERAIS SÃO GONÇALO DO PARÁ', '316190': 'GERAIS SÃO GONÇALO DO RIO ABAIXO', '316200': 'GERAIS SÃO GONÇALO DO SAPUCAÍ', '316210': 'GERAIS SÃO GOTARDO', '316220': 'GERAIS SÃO JOÃO BATISTA DO GLÓRIA', '316225': 'GERAIS SÃO JOÃO DA LAGOA', '316230': 'GERAIS SÃO JOÃO DA MATA', '316240': 'GERAIS SÃO JOÃO DA PONTE', '316245': 'GERAIS SÃO JOÃO DAS MISSÕES', '316250': 'GERAIS SÃO JOÃO DEL REI', '316255': 'GERAIS SÃO JOÃO DO MANHUAÇU', '316257': 'GERAIS SÃO JOÃO DO MANTENINHA', '316260': 'GERAIS SÃO JOÃO DO ORIENTE', '316265': 'GERAIS SÃO JOÃO DO PACUÍ', '316270': 'GERAIS SÃO JOÃO DO PARAÍSO', '316280': 'GERAIS SÃO JOÃO EVANGELISTA', '316290': 'GERAIS SÃO JOÃO NEPOMUCENO', '316292': 'GERAIS SÃO JOAQUIM DE BICAS', '316294': 'GERAIS SÃO JOSÉ DA BARRA', '316295': 'GERAIS SÃO JOSÉ DA LAPA', '316300': 'GERAIS SÃO JOSÉ DA SAFIRA', '316310': 'GERAIS SÃO JOSÉ DA VARGINHA', '316320': 'GERAIS SÃO JOSÉ DO ALEGRE', '316330': 'GERAIS SÃO JOSÉ DO DIVINO', '316340': 'GERAIS SÃO JOSÉ DO GOIABAL', '316350': 'GERAIS SÃO JOSÉ DO JACURI', '316360': 'GERAIS SÃO JOSÉ DO MANTIMENTO', '316370': 'GERAIS SÃO LOURENÇO', '316380': 'GERAIS SÃO MIGUEL DO ANTA', '316390': 'GERAIS SÃO PEDRO DA UNIÃO', '316400': 'GERAIS SÃO PEDRO DOS FERROS', '316410': 'GERAIS SÃO PEDRO DO SUAÇUÍ', '316420': 'GERAIS SÃO ROMÃO', '316430': 'GERAIS SÃO ROQUE DE MINAS', '316440': 'GERAIS SÃO SEBASTIÃO DA BELA VISTA', '316443': 'GERAIS SÃO SEBASTIÃO DA VARGEM ALEGRE', '316447': 'GERAIS SÃO SEBASTIÃO DO ANTA', '316450': 'GERAIS SÃO SEBASTIÃO DO MARANHÃO', '316460': 'GERAIS SÃO SEBASTIÃO DO OESTE', '316470': 'GERAIS SÃO SEBASTIÃO DO PARAÍSO', '316480': 'GERAIS SÃO SEBASTIÃO DO RIO PRETO', '316490': 'GERAIS SÃO SEBASTIÃO DO RIO VERDE', '316500': 'GERAIS SÃO TIAGO', '316510': 'GERAIS SÃO TOMÁS DE AQUINO', '316520': 'GERAIS SÃO THOMÉ DAS LETRAS', '316530': 'GERAIS SÃO VICENTE DE MINAS', '316540': 'GERAIS SAPUCAÍ-MIRIM', '316550': 'GERAIS SARDOÁ', '316553': 'GERAIS SARZEDO', '316555': 'GERAIS SETUBINHA', '316556': 'GERAIS SEM-PEIXE', '316557': 'GERAIS SENADOR AMARAL', '316560': 'GERAIS SENADOR CORTES', '316570': 'GERAIS SENADOR FIRMINO', '316580': 'GERAIS SENADOR JOSÉ BENTO', '316590': 'GERAIS SENADOR MODESTINO GONÇALVES', '316600': 'GERAIS SENHORA DE OLIVEIRA', '316610': 'GERAIS SENHORA DO PORTO', '316620': 'GERAIS SENHORA DOS REMÉDIOS', '316630': 'GERAIS SERICITA', '316640': 'GERAIS SERITINGA', '316650': 'GERAIS SERRA AZUL DE MINAS', '316660': 'GERAIS SERRA DA SAUDADE', '316670': 'GERAIS SERRA DOS AIMORÉS', '316680': 'GERAIS SERRA DO SALITRE', '316690': 'GERAIS SERRANIA', '316695': 'GERAIS SERRANÓPOLIS DE MINAS', '316700': 'GERAIS SERRANOS', '316710': 'GERAIS SERRO', '316720': 'GERAIS SETE LAGOAS', '316730': 'GERAIS SILVEIRÂNIA', '316740': 'GERAIS SILVIANÓPOLIS', '316750': 'GERAIS SIMÃO PEREIRA', '316760': 'GERAIS SIMONÉSIA', '316770': 'GERAIS SOBRÁLIA', '316780': 'GERAIS SOLEDADE DE MINAS', '316790': 'GERAIS TABULEIRO', '316800': 'GERAIS TAIOBEIRAS', '316805': 'GERAIS TAPARUBA', '316810': 'GERAIS TAPIRA', '316820': 'GERAIS TAPIRAÍ', '316830': 'GERAIS TAQUARAÇU DE MINAS', '316840': 'GERAIS TARUMIRIM', '316850': 'GERAIS TEIXEIRAS', '316860': 'GERAIS TEÓFILO OTONI', '316870': 'GERAIS TIMÓTEO', '316880': 'GERAIS TIRADENTES', '316890': 'GERAIS TIROS', '316900': 'GERAIS TOCANTINS', '316905': 'GERAIS TOCOS DO MOJI', '316910': 'GERAIS TOLEDO', '316920': 'GERAIS TOMBOS', '316930': 'GERAIS TRÊS CORAÇÕES', '316935': 'GERAIS TRÊS MARIAS', '316940': 'GERAIS TRÊS PONTAS', '316950': 'GERAIS TUMIRITINGA', '316960': 'GERAIS TUPACIGUARA', '316970': 'GERAIS TURMALINA', '316980': 'GERAIS TURVOLÂNDIA', '316990': 'GERAIS UBÁ', '317000': 'GERAIS UBAÍ', '317005': 'GERAIS UBAPORANGA', '317010': 'GERAIS UBERABA', '317020': 'GERAIS UBERLÂNDIA', '317030': 'GERAIS UMBURATIBA', '317040': 'GERAIS UNAÍ', '317043': 'GERAIS UNIÃO DE MINAS', '317047': 'GERAIS URUANA DE MINAS', '317050': 'GERAIS URUCÂNIA', '317052': 'GERAIS URUCUIA', '317057': 'GERAIS VARGEM ALEGRE', '317060': 'GERAIS VARGEM BONITA', '317065': 'GERAIS VARGEM GRANDE DO RIO PARDO', '317070': 'GERAIS VARGINHA', '317075': 'GERAIS VARJÃO DE MINAS', '317080': 'GERAIS VÁRZEA DA PALMA', '317090': 'GERAIS VARZELÂNDIA', '317100': 'GERAIS VAZANTE', '317103': 'GERAIS VERDELÂNDIA', '317107': 'GERAIS VEREDINHA', '317110': 'GERAIS VERÍSSIMO', '317115': 'GERAIS VERMELHO NOVO', '317120': 'GERAIS VESPASIANO', '317130': 'GERAIS VIÇOSA', '317140': 'GERAIS VIEIRAS', '317150': 'GERAIS MATHIAS LOBATO', '317160': 'GERAIS VIRGEM DA LAPA', '317170': 'GERAIS VIRGÍNIA', '317180': 'GERAIS VIRGINÓPOLIS', '317190': 'GERAIS VIRGOLÂNDIA', '317200': 'GERAIS VISCONDE DO RIO BRANCO', '317210': 'GERAIS VOLTA GRANDE', '317220': 'GERAIS WENCESLAU BRAZ', '50.920Total': '', '150010': 'ABAETETUBA', '150013': 'ABEL FIGUEIREDO', '150020': 'ACARÁ', '150030': 'AFUÁ', '150034': 'ÁGUA AZUL DO NORTE', '150040': 'ALENQUER', '150050': 'ALMEIRIM', '150060': 'ALTAMIRA', '150070': 'ANAJÁS', '150080': 'ANANINDEUA', '150085': 'ANAPU', '150090': 'AUGUSTO CORRÊA', '150095': 'AURORA DO PARÁ', '150100': 'AVEIRO', '150110': 'BAGRE', '150120': 'BAIÃO', '150125': 'BANNACH', '150130': 'BARCARENA', '150140': 'BELÉM', '150145': 'BELTERRA', '150150': 'BENEVIDES', '150157': 'BOM JESUS DO TOCANTINS', '150160': 'BONITO', '150170': 'BRAGANÇA', '150172': 'BRASIL NOVO', '150175': 'BREJO GRANDE DO ARAGUAIA', '150178': 'BREU BRANCO', '150180': 'BREVES', '150190': 'BUJARU', '150195': 'CACHOEIRA DO PIRIÁ', '150200': 'CACHOEIRA DO ARARI', '150210': 'CAMETÁ', '150215': 'CANAÃ DOS CARAJÁS', '150220': 'CAPANEMA', '150230': 'CAPITÃO POÇO', '150240': 'CASTANHAL', '150250': 'CHAVES', '150260': 'COLARES', '150270': 'CONCEIÇÃO DO ARAGUAIA', '150275': 'CONCÓRDIA DO PARÁ', '150276': 'CUMARU DO NORTE', '150277': 'CURIONÓPOLIS', '150280': 'CURRALINHO', '150285': 'CURUÁ', '150290': 'CURUÇÁ', '150293': 'DOM ELISEU', '150295': 'ELDORADO DOS CARAJÁS', '150300': 'FARO', '150304': 'FLORESTA DO ARAGUAIA', '150307': 'GARRAFÃO DO NORTE', '150309': 'GOIANÉSIA DO PARÁ', '150310': 'GURUPÁ', '150320': 'IGARAPÉ-AÇU', '150330': 'IGARAPÉ-MIRI', '150340': 'INHANGAPI', '150345': 'IPIXUNA DO PARÁ', '150350': 'IRITUIA', '150360': 'ITAITUBA', '150370': 'ITUPIRANGA', '150375': 'JACAREACANGA', '150380': 'JACUNDÁ', '150390': 'JURUTI', '150400': 'LIMOEIRO DO AJURU', '150405': 'MÃE DO RIO', '150410': 'MAGALHÃES BARATA', '150420': 'MARABÁ', '150430': 'MARACANÃ', '150440': 'MARAPANIM', '150442': 'MARITUBA', '150445': 'MEDICILÂNDIA', '150450': 'MELGAÇO', '150460': 'MOCAJUBA', '150470': 'MOJU', '150480': 'MONTE ALEGRE', '150490': 'MUANÁ', '150495': 'NOVA ESPERANÇA DO PIRIÁ', '150497': 'NOVA IPIXUNA', '150500': 'NOVA TIMBOTEUA', '150503': 'NOVO PROGRESSO', '150506': 'NOVO REPARTIMENTO', '150510': 'ÓBIDOS', '150520': 'OEIRAS DO PARÁ', '150530': 'ORIXIMINÁ', '150540': 'OURÉM', '150543': 'OURILÂNDIA DO NORTE', '150548': 'PACAJÁ', '150549': 'PALESTINA DO PARÁ', '150550': 'PARAGOMINAS', '150553': 'PARAUAPEBAS', '150555': \"PAU D'ARCO\", '150560': 'PEIXE-BOI', '150563': 'PIÇARRA', '150565': 'PLACAS', '150570': 'PONTA DE PEDRAS', '150580': 'PORTEL', '150590': 'PORTO DE MOZ', '150600': 'PRAINHA', '150610': 'PRIMAVERA', '150611': 'QUATIPURU', '150613': 'REDENÇÃO', '150616': 'RIO MARIA', '150618': 'RONDON DO PARÁ', '150619': 'RURÓPOLIS', '150620': 'SALINÓPOLIS', '150630': 'SALVATERRA', '150635': 'SANTA BÁRBARA DO PARÁ', '150640': 'SANTA CRUZ DO ARARI', '150650': 'SANTA IZABEL DO PARÁ', '150655': 'SANTA LUZIA DO PARÁ', '150658': 'SANTA MARIA DAS BARREIRAS', '150660': 'SANTA MARIA DO PARÁ', '150670': 'SANTANA DO ARAGUAIA', '150680': 'SANTARÉM', '150690': 'SANTARÉM NOVO', '150700': 'SANTO ANTÔNIO DO TAUÁ', '150710': 'SÃO CAETANO DE ODIVELAS', '150715': 'SÃO DOMINGOS DO ARAGUAIA', '150720': 'SÃO DOMINGOS DO CAPIM', '150730': 'SÃO FÉLIX DO XINGU', '150740': 'SÃO FRANCISCO DO PARÁ', '150745': 'SÃO GERALDO DO ARAGUAIA', '150746': 'SÃO JOÃO DA PONTA', '150747': 'SÃO JOÃO DE PIRABAS', '150750': 'SÃO JOÃO DO ARAGUAIA', '150760': 'SÃO MIGUEL DO GUAMÁ', '150770': 'SÃO SEBASTIÃO DA BOA VISTA', '150775': 'SAPUCAIA', '150780': 'SENADOR JOSÉ PORFÍRIO', '150790': 'SOURE', '150795': 'TAILÂNDIA', '150796': 'TERRA ALTA', '150797': 'TERRA SANTA', '150800': 'TOMÉ-AÇU', '150803': 'TRACUATEUA', '150805': 'TRAIRÃO', '150808': 'TUCUMÃ', '150810': 'TUCURUÍ', '150812': 'ULIANÓPOLIS', '150815': 'URUARÁ', '150820': 'VIGIA', '150830': 'VISEU', '150835': 'VITÓRIA DO XINGU', '150840': 'XINGUARA', '14.806Total': '', '250010': 'ÁGUA BRANCA', '250020': 'AGUIAR', '250030': 'ALAGOA GRANDE', '250040': 'ALAGOA NOVA', '250050': 'ALAGOINHA', '250053': 'ALCANTIL', '250057': 'ALGODÃO DE JANDAÍRA', '250060': 'ALHANDRA', '250070': 'SÃO JOÃO DO RIO DO PEIXE', '250073': 'AMPARO', '250077': 'APARECIDA', '250080': 'ARAÇAGI', '250090': 'ARARA', '250100': 'ARARUNA', '250110': 'AREIA', '250115': 'AREIA DE BARAÚNAS', '250120': 'AREIAL', '250130': 'AROEIRAS', '250135': 'ASSUNÇÃO', '250140': 'BAÍA DA TRAIÇÃO', '250150': 'BANANEIRAS', '250153': 'BARAÚNA', '250157': 'BARRA DE SANTANA', '250160': 'BARRA DE SANTA ROSA', '250170': 'BARRA DE SÃO MIGUEL', '250180': 'BAYEUX', '250190': 'BELÉM', '250200': 'BELÉM DO BREJO DO CRUZ', '250205': 'BERNARDINO BATISTA', '250210': 'BOA VENTURA', '250215': 'BOA VISTA', '250220': 'BOM JESUS', '250230': 'BOM SUCESSO', '250240': 'BONITO DE SANTA FÉ', '250250': 'BOQUEIRÃO', '250260': 'IGARACY', '250270': 'BORBOREMA', '250280': 'BREJO DO CRUZ', '250290': 'BREJO DOS SANTOS', '250300': 'CAAPORÃ', '250310': 'CABACEIRAS', '250320': 'CABEDELO', '250330': 'CACHOEIRA DOS ÍNDIOS', '250340': 'CACIMBA DE AREIA', '250350': 'CACIMBA DE DENTRO', '250355': 'CACIMBAS', '250360': 'CAIÇARA', '250370': 'CAJAZEIRAS', '250375': 'CAJAZEIRINHAS', '250380': 'CALDAS BRANDÃO', '250390': 'CAMALAÚ', '250400': 'CAMPINA GRANDE', '250403': 'CAPIM', '250407': 'CARAÚBAS', '250410': 'CARRAPATEIRA', '250415': 'CASSERENGUE', '250420': 'CATINGUEIRA', '250430': 'CATOLÉ DO ROCHA', '250435': 'CATURITÉ', '250440': 'CONCEIÇÃO', '250450': 'CONDADO', '250460': 'CONDE', '250470': 'CONGO', '250480': 'COREMAS', '250485': 'COXIXOLA', '250490': 'CRUZ DO ESPÍRITO SANTO', '250500': 'CUBATI', '250510': 'CUITÉ', '250520': 'CUITEGI', '250523': 'CUITÉ DE MAMANGUAPE', '250527': 'CURRAL DE CIMA', '250530': 'CURRAL VELHO', '250535': 'DAMIÃO', '250540': 'DESTERRO', '250550': 'VISTA SERRANA', '250560': 'DIAMANTE', '250570': 'DONA INÊS', '250580': 'DUAS ESTRADAS', '250590': 'EMAS', '250600': 'ESPERANÇA', '250610': 'FAGUNDES', '250620': 'FREI MARTINHO', '250625': 'GADO BRAVO', '250630': 'GUARABIRA', '250640': 'GURINHÉM', '250650': 'GURJÃO', '250660': 'IBIARA', '250670': 'IMACULADA', '250680': 'INGÁ', '250690': 'ITABAIANA', '250700': 'ITAPORANGA', '250710': 'ITAPOROROCA', '250720': 'ITATUBA', '250730': 'JACARAÚ', '250740': 'JERICÓ', '250750': 'JOÃO PESSOA', '250760': 'JUAREZ TÁVORA', '250770': 'JUAZEIRINHO', '250780': 'JUNCO DO SERIDÓ', '250790': 'JURIPIRANGA', '250800': 'JURU', '250810': 'LAGOA', '250820': 'LAGOA DE DENTRO', '250830': 'LAGOA SECA', '250840': 'LASTRO', '250850': 'LIVRAMENTO', '250855': 'LOGRADOURO', '250860': 'LUCENA', '250870': \"MÃE D'ÁGUA\", '250880': 'MALTA', '250890': 'MAMANGUAPE', '250900': 'MANAÍRA', '250905': 'MARCAÇÃO', '250910': 'MARI', '250915': 'MARIZÓPOLIS', '250920': 'MASSARANDUBA', '250930': 'MATARACA', '250933': 'MATINHAS', '250937': 'MATO GROSSO', '250939': 'MATURÉIA', '250940': 'MOGEIRO', '250950': 'MONTADAS', '250960': 'MONTE HOREBE', '250970': 'MONTEIRO', '250980': 'MULUNGU', '250990': 'NATUBA', '251000': 'NAZAREZINHO', '251010': 'NOVA FLORESTA', '251020': 'NOVA OLINDA', '251030': 'NOVA PALMEIRA', '251040': \"OLHO D'ÁGUA\", '251050': 'OLIVEDOS', '251060': 'OURO VELHO', '251065': 'PARARI', '251070': 'PASSAGEM', '251080': 'PATOS', '251090': 'PAULISTA', '251100': 'PEDRA BRANCA', '251110': 'PEDRA LAVRADA', '251120': 'PEDRAS DE FOGO', '251130': 'PIANCÓ', '251140': 'PICUÍ', '251150': 'PILAR', '251160': 'PILÕES', '251170': 'PILÕEZINHOS', '251180': 'PIRPIRITUBA', '251190': 'PITIMBU', '251200': 'POCINHOS', '251203': 'POÇO DANTAS', '251207': 'POÇO DE JOSÉ DE MOURA', '251210': 'POMBAL', '251220': 'PRATA', '251230': 'PRINCESA ISABEL', '251240': 'PUXINANÃ', '251250': 'QUEIMADAS', '251260': 'QUIXABÁ', '251270': 'REMÍGIO', '251272': 'PEDRO RÉGIS', '251274': 'RIACHÃO', '251275': 'RIACHÃO DO BACAMARTE', '251276': 'RIACHÃO DO POÇO', '251278': 'RIACHO DE SANTO ANTÔNIO', '251280': 'RIACHO DOS CAVALOS', '251290': 'RIO TINTO', '251300': 'SALGADINHO', '251310': 'SALGADO DE SÃO FÉLIX', '251315': 'SANTA CECÍLIA', '251320': 'SANTA CRUZ', '251330': 'SANTA HELENA', '251335': 'SANTA INÊS', '251340': 'SANTA LUZIA', '251350': 'SANTANA DE MANGUEIRA', '251360': 'SANTANA DOS GARROTES', '251365': 'JOCA CLAUDINO', '251370': 'SANTA RITA', '251380': 'SANTA TERESINHA', '251385': 'SANTO ANDRÉ', '251390': 'SÃO BENTO', '251392': 'SÃO BENTINHO', '251394': 'SÃO DOMINGOS DO CARIRI', '251396': 'SÃO DOMINGOS', '251398': 'SÃO FRANCISCO', '251400': 'SÃO JOÃO DO CARIRI', '251410': 'SÃO JOÃO DO TIGRE', '251420': 'SÃO JOSÉ DA LAGOA TAPADA', '251430': 'SÃO JOSÉ DE CAIANA', '251440': 'SÃO JOSÉ DE ESPINHARAS', '251445': 'SÃO JOSÉ DOS RAMOS', '251450': 'SÃO JOSÉ DE PIRANHAS', '251455': 'SÃO JOSÉ DE PRINCESA', '251460': 'SÃO JOSÉ DO BONFIM', '251465': 'SÃO JOSÉ DO BREJO DO CRUZ', '251470': 'SÃO JOSÉ DO SABUGI', '251480': 'SÃO JOSÉ DOS CORDEIROS', '251490': 'SÃO MAMEDE', '251500': 'SÃO MIGUEL DE TAIPU', '251510': 'SÃO SEBASTIÃO DE LAGOA DE ROÇA', '251520': 'SÃO SEBASTIÃO DO UMBUZEIRO', '251530': 'SAPÉ', '251540': 'SÃO VICENTE DO SERIDÓ', '251550': 'SERRA BRANCA', '251560': 'SERRA DA RAIZ', '251570': 'SERRA GRANDE', '251580': 'SERRA REDONDA', '251590': 'SERRARIA', '251593': 'SERTÃOZINHO', '251597': 'SOBRADO', '251600': 'SOLÂNEA', '251610': 'SOLEDADE', '251615': 'SOSSÊGO', '251620': 'SOUSA', '251630': 'SUMÉ', '251640': 'TACIMA', '251650': 'TAPEROÁ', '251660': 'TAVARES', '251670': 'TEIXEIRA', '251675': 'TENÓRIO', '251680': 'TRIUNFO', '251690': 'UIRAÚNA', '251700': 'UMBUZEIRO', '251710': 'VÁRZEA', '251720': 'VIEIRÓPOLIS', '251740': 'ZABELÊ', '8.870Total': '', '410010': 'ABATIÁ', '410020': 'ADRIANÓPOLIS', '410030': 'AGUDOS DO SUL', '410040': 'ALMIRANTE TAMANDARÉ', '410045': 'ALTAMIRA DO PARANÁ', '410050': 'ALTÔNIA', '410060': 'ALTO PARANÁ', '410070': 'ALTO PIQUIRI', '410080': 'ALVORADA DO SUL', '410090': 'AMAPORÃ', '410100': 'AMPÉRE', '410105': 'ANAHY', '410110': 'ANDIRÁ', '410115': 'ÂNGULO', '410120': 'ANTONINA', '410130': 'ANTÔNIO OLINTO', '410140': 'APUCARANA', '410150': 'ARAPONGAS', '410160': 'ARAPOTI', '410165': 'ARAPUÃ', '410170': 'ARARUNA', '410180': 'ARAUCÁRIA', '410185': 'ARIRANHA DO IVAÍ', '410190': 'ASSAÍ', '410200': 'ASSIS CHATEAUBRIAND', '410210': 'ASTORGA', '410220': 'ATALAIA', '410230': 'BALSA NOVA', '410240': 'BANDEIRANTES', '410250': 'BARBOSA FERRAZ', '410260': 'BARRACÃO', '410270': 'BARRA DO JACARÉ', '410275': 'BELA VISTA DA CAROBA', '410280': 'BELA VISTA DO PARAÍSO', '410290': 'BITURUNA', '410300': 'BOA ESPERANÇA', '410302': 'BOA ESPERANÇA DO IGUAÇU', '410304': 'BOA VENTURA DE SÃO ROQUE', '410305': 'BOA VISTA DA APARECIDA', '410310': 'BOCAIÚVA DO SUL', '410315': 'BOM JESUS DO SUL', '410320': 'BOM SUCESSO', '410322': 'BOM SUCESSO DO SUL', '410330': 'BORRAZÓPOLIS', '410335': 'BRAGANEY', '410337': 'BRASILÂNDIA DO SUL', '410340': 'CAFEARA', '410345': 'CAFELÂNDIA', '410347': 'CAFEZAL DO SUL', '410350': 'CALIFÓRNIA', '410360': 'CAMBARÁ', '410370': 'CAMBÉ', '410380': 'CAMBIRA', '410390': 'CAMPINA DA LAGOA', '410395': 'CAMPINA DO SIMÃO', '410400': 'CAMPINA GRANDE DO SUL', '410405': 'CAMPO BONITO', '410410': 'CAMPO DO TENENTE', '410420': 'CAMPO LARGO', '410425': 'CAMPO MAGRO', '410430': 'CAMPO MOURÃO', '410440': 'CÂNDIDO DE ABREU', '410442': 'CANDÓI', '410445': 'CANTAGALO', '410450': 'CAPANEMA', '410460': 'CAPITÃO LEÔNIDAS MARQUES', '410465': 'CARAMBEÍ', '410470': 'CARLÓPOLIS', '410480': 'CASCAVEL', '410490': 'CASTRO', '410500': 'CATANDUVAS', '410510': 'CENTENÁRIO DO SUL', '410520': 'CERRO AZUL', '410530': 'CÉU AZUL', '410540': 'CHOPINZINHO', '410550': 'CIANORTE', '410560': 'CIDADE GAÚCHA', '410570': 'CLEVELÂNDIA', '410580': 'COLOMBO', '410590': 'COLORADO', '410600': 'CONGONHINHAS', '410610': 'CONSELHEIRO MAIRINCK', '410620': 'CONTENDA', '410630': 'CORBÉLIA', '410640': 'CORNÉLIO PROCÓPIO', '410645': 'CORONEL DOMINGOS SOARES', '410650': 'CORONEL VIVIDA', '410655': 'CORUMBATAÍ DO SUL', '410657': 'CRUZEIRO DO IGUAÇU', '410660': 'CRUZEIRO DO OESTE', '410670': 'CRUZEIRO DO SUL', '410680': 'CRUZ MACHADO', '410685': 'CRUZMALTINA', '410690': 'CURITIBA', '410700': 'CURIÚVA', '410710': 'DIAMANTE DO NORTE', '410712': 'DIAMANTE DO SUL', '410715': \"DIAMANTE D'OESTE\", '410720': 'DOIS VIZINHOS', '410725': 'DOURADINA', '410730': 'DOUTOR CAMARGO', '410740': 'ENÉAS MARQUES', '410750': 'ENGENHEIRO BELTRÃO', '410752': 'ESPERANÇA NOVA', '410753': 'ENTRE RIOS DO OESTE', '410754': 'ESPIGÃO ALTO DO IGUAÇU', '410755': 'FAROL', '410760': 'FAXINAL', '410765': 'FAZENDA RIO GRANDE', '410770': 'FÊNIX', '410773': 'FERNANDES PINHEIRO', '410775': 'FIGUEIRA', '410780': 'FLORAÍ', '410785': 'FLOR DA SERRA DO SUL', '410790': 'FLORESTA', '410800': 'FLORESTÓPOLIS', '410810': 'FLÓRIDA', '410820': 'FORMOSA DO OESTE', '410830': 'FOZ DO IGUAÇU', '410832': 'FRANCISCO ALVES', '410840': 'FRANCISCO BELTRÃO', '410845': 'FOZ DO JORDÃO', '410850': 'GENERAL CARNEIRO', '410855': 'GODOY MOREIRA', '410860': 'GOIOERÊ', '410865': 'GOIOXIM', '410870': 'GRANDES RIOS', '410880': 'GUAÍRA', '410890': 'GUAIRAÇÁ', '410895': 'GUAMIRANGA', '410900': 'GUAPIRAMA', '410910': 'GUAPOREMA', '410920': 'GUARACI', '410930': 'GUARANIAÇU', '410940': 'GUARAPUAVA', '410950': 'GUARAQUEÇABA', '410960': 'GUARATUBA', '410965': 'HONÓRIO SERPA', '410970': 'IBAITI', '410975': 'IBEMA', '410980': 'IBIPORÃ', '410990': 'ICARAÍMA', '411000': 'IGUARAÇU', '411005': 'IGUATU', '411007': 'IMBAÚ', '411010': 'IMBITUVA', '411020': 'INÁCIO MARTINS', '411030': 'INAJÁ', '411040': 'INDIANÓPOLIS', '411050': 'IPIRANGA', '411060': 'IPORÃ', '411065': 'IRACEMA DO OESTE', '411070': 'IRATI', '411080': 'IRETAMA', '411090': 'ITAGUAJÉ', '411095': 'ITAIPULÂNDIA', '411100': 'ITAMBARACÁ', '411110': 'ITAMBÉ', '411120': \"ITAPEJARA D'OESTE\", '411125': 'ITAPERUÇU', '411130': 'ITAÚNA DO SUL', '411140': 'IVAÍ', '411150': 'IVAIPORÃ', '411155': 'IVATÉ', '411160': 'IVATUBA', '411170': 'JABOTI', '411180': 'JACAREZINHO', '411190': 'JAGUAPITÃ', '411200': 'JAGUARIAÍVA', '411210': 'JANDAIA DO SUL', '411220': 'JANIÓPOLIS', '411230': 'JAPIRA', '411240': 'JAPURÁ', '411250': 'JARDIM ALEGRE', '411260': 'JARDIM OLINDA', '411270': 'JATAIZINHO', '411275': 'JESUÍTAS', '411280': 'JOAQUIM TÁVORA', '411290': 'JUNDIAÍ DO SUL', '411295': 'JURANDA', '411300': 'JUSSARA', '411310': 'KALORÉ', '411320': 'LAPA', '411325': 'LARANJAL', '411330': 'LARANJEIRAS DO SUL', '411340': 'LEÓPOLIS', '411342': 'LIDIANÓPOLIS', '411345': 'LINDOESTE', '411350': 'LOANDA', '411360': 'LOBATO', '411370': 'LONDRINA', '411373': 'LUIZIANA', '411375': 'LUNARDELLI', '411380': 'LUPIONÓPOLIS', '411390': 'MALLET', '411400': 'MAMBORÊ', '411410': 'MANDAGUAÇU', '411420': 'MANDAGUARI', '411430': 'MANDIRITUBA', '411435': 'MANFRINÓPOLIS', '411440': 'MANGUEIRINHA', '411450': 'MANOEL RIBAS', '411460': 'MARECHAL CÂNDIDO RONDON', '411470': 'MARIA HELENA', '411480': 'MARIALVA', '411490': 'MARILÂNDIA DO SUL', '411500': 'MARILENA', '411510': 'MARILUZ', '411520': 'MARINGÁ', '411530': 'MARIÓPOLIS', '411535': 'MARIPÁ', '411540': 'MARMELEIRO', '411545': 'MARQUINHO', '411550': 'MARUMBI', '411560': 'MATELÂNDIA', '411570': 'MATINHOS', '411573': 'MATO RICO', '411575': 'MAUÁ DA SERRA', '411580': 'MEDIANEIRA', '411585': 'MERCEDES', '411590': 'MIRADOR', '411600': 'MIRASELVA', '411605': 'MISSAL', '411610': 'MOREIRA SALES', '411620': 'MORRETES', '411630': 'MUNHOZ DE MELO', '411640': 'NOSSA SENHORA DAS GRAÇAS', '411650': 'NOVA ALIANÇA DO IVAÍ', '411660': 'NOVA AMÉRICA DA COLINA', '411670': 'NOVA AURORA', '411680': 'NOVA CANTU', '411690': 'NOVA ESPERANÇA', '411695': 'NOVA ESPERANÇA DO SUDOESTE', '411700': 'NOVA FÁTIMA', '411705': 'NOVA LARANJEIRAS', '411710': 'NOVA LONDRINA', '411720': 'NOVA OLÍMPIA', '411721': 'NOVA SANTA BÁRBARA', '411722': 'NOVA SANTA ROSA', '411725': 'NOVA PRATA DO IGUAÇU', '411727': 'NOVA TEBAS', '411729': 'NOVO ITACOLOMI', '411730': 'ORTIGUEIRA', '411740': 'OURIZONA', '411745': 'OURO VERDE DO OESTE', '411750': 'PAIÇANDU', '411760': 'PALMAS', '411770': 'PALMEIRA', '411780': 'PALMITAL', '411790': 'PALOTINA', '411800': 'PARAÍSO DO NORTE', '411810': 'PARANACITY', '411820': 'PARANAGUÁ', '411830': 'PARANAPOEMA', '411840': 'PARANAVAÍ', '411845': 'PATO BRAGADO', '411850': 'PATO BRANCO', '411860': 'PAULA FREITAS', '411870': 'PAULO FRONTIN', '411880': 'PEABIRU', '411885': 'PEROBAL', '411890': 'PÉROLA', '411900': \"PÉROLA D'OESTE\", '411910': 'PIÊN', '411915': 'PINHAIS', '411920': 'PINHALÃO', '411925': 'PINHAL DE SÃO BENTO', '411930': 'PINHÃO', '411940': 'PIRAÍ DO SUL', '411950': 'PIRAQUARA', '411960': 'PITANGA', '411965': 'PITANGUEIRAS', '411970': 'PLANALTINA DO PARANÁ', '411980': 'PLANALTO', '411990': 'PONTA GROSSA', '411995': 'PONTAL DO PARANÁ', '412000': 'PORECATU', '412010': 'PORTO AMAZONAS', '412015': 'PORTO BARREIRO', '412020': 'PORTO RICO', '412030': 'PORTO VITÓRIA', '412033': 'PRADO FERREIRA', '412035': 'PRANCHITA', '412040': 'PRESIDENTE CASTELO BRANCO', '412050': 'PRIMEIRO DE MAIO', '412060': 'PRUDENTÓPOLIS', '412065': 'QUARTO CENTENÁRIO', '412070': 'QUATIGUÁ', '412080': 'QUATRO BARRAS', '412085': 'QUATRO PONTES', '412090': 'QUEDAS DO IGUAÇU', '412100': 'QUERÊNCIA DO NORTE', '412110': 'QUINTA DO SOL', '412120': 'QUITANDINHA', '412125': 'RAMILÂNDIA', '412130': 'RANCHO ALEGRE', '412135': \"RANCHO ALEGRE D'OESTE\", '412140': 'REALEZA', '412150': 'REBOUÇAS', '412160': 'RENASCENÇA', '412170': 'RESERVA', '412175': 'RESERVA DO IGUAÇU', '412180': 'RIBEIRÃO CLARO', '412190': 'RIBEIRÃO DO PINHAL', '412200': 'RIO AZUL', '412210': 'RIO BOM', '412215': 'RIO BONITO DO IGUAÇU', '412217': 'RIO BRANCO DO IVAÍ', '412220': 'RIO BRANCO DO SUL', '412230': 'RIO NEGRO', '412240': 'ROLÂNDIA', '412250': 'RONCADOR', '412260': 'RONDON', '412265': 'ROSÁRIO DO IVAÍ', '412270': 'SABÁUDIA', '412280': 'SALGADO FILHO', '412290': 'SALTO DO ITARARÉ', '412300': 'SALTO DO LONTRA', '412310': 'SANTA AMÉLIA', '412320': 'SANTA CECÍLIA DO PAVÃO', '412330': 'SANTA CRUZ DE MONTE CASTELO', '412340': 'SANTA FÉ', '412350': 'SANTA HELENA', '412360': 'SANTA INÊS', '412370': 'SANTA ISABEL DO IVAÍ', '412380': 'SANTA IZABEL DO OESTE', '412382': 'SANTA LÚCIA', '412385': 'SANTA MARIA DO OESTE', '412390': 'SANTA MARIANA', '412395': 'SANTA MÔNICA', '412400': 'SANTANA DO ITARARÉ', '412402': 'SANTA TEREZA DO OESTE', '412405': 'SANTA TEREZINHA DE ITAIPU', '412410': 'SANTO ANTÔNIO DA PLATINA', '412420': 'SANTO ANTÔNIO DO CAIUÁ', '412430': 'SANTO ANTÔNIO DO PARAÍSO', '412440': 'SANTO ANTÔNIO DO SUDOESTE', '412450': 'SANTO INÁCIO', '412460': 'SÃO CARLOS DO IVAÍ', '412470': 'SÃO JERÔNIMO DA SERRA', '412480': 'SÃO JOÃO', '412490': 'SÃO JOÃO DO CAIUÁ', '412500': 'SÃO JOÃO DO IVAÍ', '412510': 'SÃO JOÃO DO TRIUNFO', '412520': \"SÃO JORGE D'OESTE\", '412530': 'SÃO JORGE DO IVAÍ', '412535': 'SÃO JORGE DO PATROCÍNIO', '412540': 'SÃO JOSÉ DA BOA VISTA', '412545': 'SÃO JOSÉ DAS PALMEIRAS', '412550': 'SÃO JOSÉ DOS PINHAIS', '412555': 'SÃO MANOEL DO PARANÁ', '412560': 'SÃO MATEUS DO SUL', '412570': 'SÃO MIGUEL DO IGUAÇU', '412575': 'SÃO PEDRO DO IGUAÇU', '412580': 'SÃO PEDRO DO IVAÍ', '412590': 'SÃO PEDRO DO PARANÁ', '412600': 'SÃO SEBASTIÃO DA AMOREIRA', '412610': 'SÃO TOMÉ', '412620': 'SAPOPEMA', '412625': 'SARANDI', '412627': 'SAUDADE DO IGUAÇU', '412630': 'SENGÉS', '412635': 'SERRANÓPOLIS DO IGUAÇU', '412640': 'SERTANEJA', '412650': 'SERTANÓPOLIS', '412660': 'SIQUEIRA CAMPOS', '412665': 'SULINA', '412667': 'TAMARANA', '412670': 'TAMBOARA', '412680': 'TAPEJARA', '412690': 'TAPIRA', '412700': 'TEIXEIRA SOARES', '412710': 'TELÊMACO BORBA', '412720': 'TERRA BOA', '412730': 'TERRA RICA', '412740': 'TERRA ROXA', '412750': 'TIBAGI', '412760': 'TIJUCAS DO SUL', '412770': 'TOLEDO', '412780': 'TOMAZINA', '412785': 'TRÊS BARRAS DO PARANÁ', '412788': 'TUNAS DO PARANÁ', '412790': 'TUNEIRAS DO OESTE', '412795': 'TUPÃSSI', '412796': 'TURVO', '412800': 'UBIRATÃ', '412810': 'UMUARAMA', '412820': 'UNIÃO DA VITÓRIA', '412830': 'UNIFLOR', '412840': 'URAÍ', '412850': 'WENCESLAU BRAZ', '412853': 'VENTANIA', '412855': 'VERA CRUZ DO OESTE', '412860': 'VERÊ', '412862': 'ALTO PARAÍSO', '412863': 'DOUTOR ULYSSES', '412865': 'VIRMOND', '412870': 'VITORINO', '412880': 'XAMBRÊ', '26.199Total': '', '260005': 'ABREU E LIMA', '260010': 'AFOGADOS DA INGAZEIRA', '260020': 'AFRÂNIO', '260030': 'AGRESTINA', '260040': 'ÁGUA PRETA', '260050': 'ÁGUAS BELAS', '260060': 'ALAGOINHA', '260070': 'ALIANÇA', '260080': 'ALTINHO', '260090': 'AMARAJI', '260100': 'ANGELIM', '260105': 'ARAÇOIABA', '260110': 'ARARIPINA', '260120': 'ARCOVERDE', '260130': 'BARRA DE GUABIRABA', '260140': 'BARREIROS', '260150': 'BELÉM DE MARIA', '260160': 'BELÉM DO SÃO FRANCISCO', '260170': 'BELO JARDIM', '260180': 'BETÂNIA', '260190': 'BEZERROS', '260200': 'BODOCÓ', '260210': 'BOM CONSELHO', '260220': 'BOM JARDIM', '260230': 'BONITO', '260240': 'BREJÃO', '260250': 'BREJINHO', '260260': 'BREJO DA MADRE DE DEUS', '260270': 'BUENOS AIRES', '260280': 'BUÍQUE', '260290': 'CABO DE SANTO AGOSTINHO', '260300': 'CABROBÓ', '260310': 'CACHOEIRINHA', '260320': 'CAETÉS', '260330': 'CALÇADO', '260340': 'CALUMBI', '260345': 'CAMARAGIBE', '260350': 'CAMOCIM DE SÃO FÉLIX', '260360': 'CAMUTANGA', '260370': 'CANHOTINHO', '260380': 'CAPOEIRAS', '260390': 'CARNAÍBA', '260392': 'CARNAUBEIRA DA PENHA', '260400': 'CARPINA', '260410': 'CARUARU', '260415': 'CASINHAS', '260420': 'CATENDE', '260430': 'CEDRO', '260440': 'CHÃ DE ALEGRIA', '260450': 'CHÃ GRANDE', '260460': 'CONDADO', '260470': 'CORRENTES', '260480': 'CORTÊS', '260490': 'CUMARU', '260500': 'CUPIRA', '260510': 'CUSTÓDIA', '260515': 'DORMENTES', '260520': 'ESCADA', '260530': 'EXU', '260540': 'FEIRA NOVA', '260545': 'FERNANDO DE NORONHA', '260550': 'FERREIROS', '260560': 'FLORES', '260570': 'FLORESTA', '260580': 'FREI MIGUELINHO', '260590': 'GAMELEIRA', '260600': 'GARANHUNS', '260610': 'GLÓRIA DO GOITÁ', '260620': 'GOIANA', '260630': 'GRANITO', '260640': 'GRAVATÁ', '260650': 'IATI', '260660': 'IBIMIRIM', '260670': 'IBIRAJUBA', '260680': 'IGARASSU', '260690': 'IGUARACY', '260700': 'INAJÁ', '260710': 'INGAZEIRA', '260720': 'IPOJUCA', '260730': 'IPUBI', '260740': 'ITACURUBA', '260750': 'ITAÍBA', '260760': 'ILHA DE ITAMARACÁ', '260765': 'ITAMBÉ', '260770': 'ITAPETIM', '260775': 'ITAPISSUMA', '260780': 'ITAQUITINGA', '260790': 'JABOATÃO DOS GUARARAPES', '260795': 'JAQUEIRA', '260800': 'JATAÚBA', '260805': 'JATOBÁ', '260810': 'JOÃO ALFREDO', '260820': 'JOAQUIM NABUCO', '260825': 'JUCATI', '260830': 'JUPI', '260840': 'JUREMA', '260845': 'LAGOA DO CARRO', '260850': 'LAGOA DE ITAENGA', '260860': 'LAGOA DO OURO', '260870': 'LAGOA DOS GATOS', '260875': 'LAGOA GRANDE', '260880': 'LAJEDO', '260890': 'LIMOEIRO', '260900': 'MACAPARANA', '260910': 'MACHADOS', '260915': 'MANARI', '260920': 'MARAIAL', '260930': 'MIRANDIBA', '260940': 'MORENO', '260950': 'NAZARÉ DA MATA', '260960': 'OLINDA', '260970': 'OROBÓ', '260980': 'OROCÓ', '260990': 'OURICURI', '261000': 'PALMARES', '261010': 'PALMEIRINA', '261020': 'PANELAS', '261030': 'PARANATAMA', '261040': 'PARNAMIRIM', '261050': 'PASSIRA', '261060': 'PAUDALHO', '261070': 'PAULISTA', '261080': 'PEDRA', '261090': 'PESQUEIRA', '261100': 'PETROLÂNDIA', '261110': 'PETROLINA', '261120': 'POÇÃO', '261130': 'POMBOS', '261140': 'PRIMAVERA', '261150': 'QUIPAPÁ', '261153': 'QUIXABA', '261160': 'RECIFE', '261170': 'RIACHO DAS ALMAS', '261180': 'RIBEIRÃO', '261190': 'RIO FORMOSO', '261200': 'SAIRÉ', '261210': 'SALGADINHO', '261220': 'SALGUEIRO', '261230': 'SALOÁ', '261240': 'SANHARÓ', '261245': 'SANTA CRUZ', '261247': 'SANTA CRUZ DA BAIXA VERDE', '261250': 'SANTA CRUZ DO CAPIBARIBE', '261255': 'SANTA FILOMENA', '261260': 'SANTA MARIA DA BOA VISTA', '261270': 'SANTA MARIA DO CAMBUCÁ', '261280': 'SANTA TEREZINHA', '261290': 'SÃO BENEDITO DO SUL', '261300': 'SÃO BENTO DO UNA', '261310': 'SÃO CAITANO', '261320': 'SÃO JOÃO', '261330': 'SÃO JOAQUIM DO MONTE', '261340': 'SÃO JOSÉ DA COROA GRANDE', '261350': 'SÃO JOSÉ DO BELMONTE', '261360': 'SÃO JOSÉ DO EGITO', '261370': 'SÃO LOURENÇO DA MATA', '261380': 'SÃO VICENTE FERRER', '261390': 'SERRA TALHADA', '261400': 'SERRITA', '261410': 'SERTÂNIA', '261420': 'SIRINHAÉM', '261430': 'MOREILÂNDIA', '261440': 'SOLIDÃO', '261450': 'SURUBIM', '261460': 'TABIRA', '261470': 'TACAIMBÓ', '261480': 'TACARATU', '261485': 'TAMANDARÉ', '261500': 'TAQUARITINGA DO NORTE', '261510': 'TEREZINHA', '261520': 'TERRA NOVA', '261530': 'TIMBAÚBA', '261540': 'TORITAMA', '261550': 'TRACUNHAÉM', '261560': 'TRINDADE', '261570': 'TRIUNFO', '261580': 'TUPANATINGA', '261590': 'TUPARETAMA', '261600': 'VENTUROSA', '261610': 'VERDEJANTE', '261618': 'VERTENTE DO LÉRIO', '261620': 'VERTENTES', '261630': 'VICÊNCIA', '261640': 'VITÓRIA DE SANTO ANTÃO', '261650': 'XEXÉU', '20.049Total': '', '220005': 'ACAUÃ', '220010': 'AGRICOLÂNDIA', '220020': 'ÁGUA BRANCA', '220025': 'ALAGOINHA DO PIAUÍ', '220027': 'ALEGRETE DO PIAUÍ', '220030': 'ALTO LONGÁ', '220040': 'ALTOS', '220045': 'ALVORADA DO GURGUÉIA', '220050': 'AMARANTE', '220060': 'ANGICAL DO PIAUÍ', '220070': 'ANÍSIO DE ABREU', '220080': 'ANTÔNIO ALMEIDA', '220090': 'AROAZES', '220095': 'AROEIRAS DO ITAIM', '220100': 'ARRAIAL', '220105': 'ASSUNÇÃO DO PIAUÍ', '220110': 'AVELINO LOPES', '220115': 'BAIXA GRANDE DO RIBEIRO', '220117': \"BARRA D'ALCÂNTARA\", '220120': 'BARRAS', '220130': 'BARREIRAS DO PIAUÍ', '220140': 'BARRO DURO', '220150': 'BATALHA', '220155': 'BELA VISTA DO PIAUÍ', '220157': 'BELÉM DO PIAUÍ', '220160': 'BENEDITINOS', '220170': 'BERTOLÍNIA', '220173': 'BETÂNIA DO PIAUÍ', '220177': 'BOA HORA', '220180': 'BOCAINA', '220190': 'BOM JESUS', '220191': 'BOM PRINCÍPIO DO PIAUÍ', '220192': 'BONFIM DO PIAUÍ', '220194': 'BOQUEIRÃO DO PIAUÍ', '220196': 'BRASILEIRA', '220198': 'BREJO DO PIAUÍ', '220200': 'BURITI DOS LOPES', '220202': 'BURITI DOS MONTES', '220205': 'CABECEIRAS DO PIAUÍ', '220207': 'CAJAZEIRAS DO PIAUÍ', '220208': 'CAJUEIRO DA PRAIA', '220209': 'CALDEIRÃO GRANDE DO PIAUÍ', '220210': 'CAMPINAS DO PIAUÍ', '220211': 'CAMPO ALEGRE DO FIDALGO', '220213': 'CAMPO GRANDE DO PIAUÍ', '220217': 'CAMPO LARGO DO PIAUÍ', '220220': 'CAMPO MAIOR', '220225': 'CANAVIEIRA', '220230': 'CANTO DO BURITI', '220240': 'CAPITÃO DE CAMPOS', '220245': 'CAPITÃO GERVÁSIO OLIVEIRA', '220250': 'CARACOL', '220253': 'CARAÚBAS DO PIAUÍ', '220255': 'CARIDADE DO PIAUÍ', '220260': 'CASTELO DO PIAUÍ', '220265': 'CAXINGÓ', '220270': 'COCAL', '220271': 'COCAL DE TELHA', '220272': 'COCAL DOS ALVES', '220273': 'COIVARAS', '220275': 'COLÔNIA DO GURGUÉIA', '220277': 'COLÔNIA DO PIAUÍ', '220280': 'CONCEIÇÃO DO CANINDÉ', '220285': 'CORONEL JOSÉ DIAS', '220290': 'CORRENTE', '220300': 'CRISTALÂNDIA DO PIAUÍ', '220310': 'CRISTINO CASTRO', '220320': 'CURIMATÁ', '220323': 'CURRAIS', '220325': 'CURRALINHOS', '220327': 'CURRAL NOVO DO PIAUÍ', '220330': 'DEMERVAL LOBÃO', '220335': 'DIRCEU ARCOVERDE', '220340': 'DOM EXPEDITO LOPES', '220342': 'DOMINGOS MOURÃO', '220345': 'DOM INOCÊNCIO', '220350': 'ELESBÃO VELOSO', '220360': 'ELISEU MARTINS', '220370': 'ESPERANTINA', '220375': 'FARTURA DO PIAUÍ', '220380': 'FLORES DO PIAUÍ', '220385': 'FLORESTA DO PIAUÍ', '220390': 'FLORIANO', '220400': 'FRANCINÓPOLIS', '220410': 'FRANCISCO AYRES', '220415': 'FRANCISCO MACEDO', '220420': 'FRANCISCO SANTOS', '220430': 'FRONTEIRAS', '220435': 'GEMINIANO', '220440': 'GILBUÉS', '220450': 'GUADALUPE', '220455': 'GUARIBAS', '220460': 'HUGO NAPOLEÃO', '220465': 'ILHA GRANDE', '220470': 'INHUMA', '220480': 'IPIRANGA DO PIAUÍ', '220490': 'ISAÍAS COELHO', '220500': 'ITAINÓPOLIS', '220510': 'ITAUEIRA', '220515': 'JACOBINA DO PIAUÍ', '220520': 'JAICÓS', '220525': 'JARDIM DO MULATO', '220527': 'JATOBÁ DO PIAUÍ', '220530': 'JERUMENHA', '220535': 'JOÃO COSTA', '220540': 'JOAQUIM PIRES', '220545': 'JOCA MARQUES', '220550': 'JOSÉ DE FREITAS', '220551': 'JUAZEIRO DO PIAUÍ', '220552': 'JÚLIO BORGES', '220553': 'JUREMA', '220554': 'LAGOINHA DO PIAUÍ', '220555': 'LAGOA ALEGRE', '220556': 'LAGOA DO BARRO DO PIAUÍ', '220557': 'LAGOA DE SÃO FRANCISCO', '220558': 'LAGOA DO PIAUÍ', '220559': 'LAGOA DO SÍTIO', '220560': 'LANDRI SALES', '220570': 'LUÍS CORREIA', '220580': 'LUZILÂNDIA', '220585': 'MADEIRO', '220590': 'MANOEL EMÍDIO', '220595': 'MARCOLÂNDIA', '220600': 'MARCOS PARENTE', '220605': 'MASSAPÊ DO PIAUÍ', '220610': 'MATIAS OLÍMPIO', '220620': 'MIGUEL ALVES', '220630': 'MIGUEL LEÃO', '220635': 'MILTON BRANDÃO', '220640': 'MONSENHOR GIL', '220650': 'MONSENHOR HIPÓLITO', '220660': 'MONTE ALEGRE DO PIAUÍ', '220665': 'MORRO CABEÇA NO TEMPO', '220667': 'MORRO DO CHAPÉU DO PIAUÍ', '220669': 'MURICI DOS PORTELAS', '220670': 'NAZARÉ DO PIAUÍ', '220672': 'NAZÁRIA', '220675': 'NOSSA SENHORA DE NAZARÉ', '220680': 'NOSSA SENHORA DOS REMÉDIOS', '220690': 'NOVO ORIENTE DO PIAUÍ', '220695': 'NOVO SANTO ANTÔNIO', '220700': 'OEIRAS', '220710': \"OLHO D'ÁGUA DO PIAUÍ\", '220720': 'PADRE MARCOS', '220730': 'PAES LANDIM', '220735': 'PAJEÚ DO PIAUÍ', '220740': 'PALMEIRA DO PIAUÍ', '220750': 'PALMEIRAIS', '220755': 'PAQUETÁ', '220760': 'PARNAGUÁ', '220770': 'PARNAÍBA', '220775': 'PASSAGEM FRANCA DO PIAUÍ', '220777': 'PATOS DO PIAUÍ', '220779': \"PAU D'ARCO DO PIAUÍ\", '220780': 'PAULISTANA', '220785': 'PAVUSSU', '220790': 'PEDRO II', '220793': 'PEDRO LAURENTINO', '220795': 'NOVA SANTA RITA', '220800': 'PICOS', '220810': 'PIMENTEIRAS', '220820': 'PIO IX', '220830': 'PIRACURUCA', '220840': 'PIRIPIRI', '220850': 'PORTO', '220855': 'PORTO ALEGRE DO PIAUÍ', '220860': 'PRATA DO PIAUÍ', '220865': 'QUEIMADA NOVA', '220870': 'REDENÇÃO DO GURGUÉIA', '220880': 'REGENERAÇÃO', '220885': 'RIACHO FRIO', '220887': 'RIBEIRA DO PIAUÍ', '220890': 'RIBEIRO GONÇALVES', '220900': 'RIO GRANDE DO PIAUÍ', '220910': 'SANTA CRUZ DO PIAUÍ', '220915': 'SANTA CRUZ DOS MILAGRES', '220920': 'SANTA FILOMENA', '220930': 'SANTA LUZ', '220935': 'SANTANA DO PIAUÍ', '220937': 'SANTA ROSA DO PIAUÍ', '220940': 'SANTO ANTÔNIO DE LISBOA', '220945': 'SANTO ANTÔNIO DOS MILAGRES', '220950': 'SANTO INÁCIO DO PIAUÍ', '220955': 'SÃO BRAZ DO PIAUÍ', '220960': 'SÃO FÉLIX DO PIAUÍ', '220965': 'SÃO FRANCISCO DE ASSIS DO PIAUÍ', '220970': 'SÃO FRANCISCO DO PIAUÍ', '220975': 'SÃO GONÇALO DO GURGUÉIA', '220980': 'SÃO GONÇALO DO PIAUÍ', '220985': 'SÃO JOÃO DA CANABRAVA', '220987': 'SÃO JOÃO DA FRONTEIRA', '220990': 'SÃO JOÃO DA SERRA', '220995': 'SÃO JOÃO DA VARJOTA', '220997': 'SÃO JOÃO DO ARRAIAL', '221000': 'SÃO JOÃO DO PIAUÍ', '221005': 'SÃO JOSÉ DO DIVINO', '221010': 'SÃO JOSÉ DO PEIXE', '221020': 'SÃO JOSÉ DO PIAUÍ', '221030': 'SÃO JULIÃO', '221035': 'SÃO LOURENÇO DO PIAUÍ', '221037': 'SÃO LUIS DO PIAUÍ', '221038': 'SÃO MIGUEL DA BAIXA GRANDE', '221039': 'SÃO MIGUEL DO FIDALGO', '221040': 'SÃO MIGUEL DO TAPUIO', '221050': 'SÃO PEDRO DO PIAUÍ', '221060': 'SÃO RAIMUNDO NONATO', '221062': 'SEBASTIÃO BARROS', '221063': 'SEBASTIÃO LEAL', '221065': 'SIGEFREDO PACHECO', '221070': 'SIMÕES', '221080': 'SIMPLÍCIO MENDES', '221090': 'SOCORRO DO PIAUÍ', '221093': 'SUSSUAPARA', '221095': 'TAMBORIL DO PIAUÍ', '221097': 'TANQUE DO PIAUÍ', '221100': 'TERESINA', '221110': 'UNIÃO', '221120': 'URUÇUÍ', '221130': 'VALENÇA DO PIAUÍ', '221135': 'VÁRZEA BRANCA', '221140': 'VÁRZEA GRANDE', '221150': 'VERA MENDES', '221160': 'VILA NOVA DO PIAUÍ', '221170': 'WALL FERRAZ', '7.260Total': '', '330010': 'DE JANEIRO ANGRA DOS REIS', '330015': 'DE JANEIRO APERIBÉ', '330020': 'DE JANEIRO ARARUAMA', '330022': 'DE JANEIRO AREAL', '330023': 'DE JANEIRO ARMAÇÃO DOS BÚZIOS', '330025': 'DE JANEIRO ARRAIAL DO CABO', '330030': 'DE JANEIRO BARRA DO PIRAÍ', '330040': 'DE JANEIRO BARRA MANSA', '330045': 'DE JANEIRO BELFORD ROXO', '330050': 'DE JANEIRO BOM JARDIM', '330060': 'DE JANEIRO BOM JESUS DO ITABAPOANA', '330070': 'DE JANEIRO CABO FRIO', '330080': 'DE JANEIRO CACHOEIRAS DE MACACU', '330090': 'DE JANEIRO CAMBUCI', '330093': 'DE JANEIRO CARAPEBUS', '330095': 'DE JANEIRO COMENDADOR LEVY GASPARIAN', '330100': 'DE JANEIRO CAMPOS DOS GOYTACAZES', '330110': 'DE JANEIRO CANTAGALO', '330115': 'DE JANEIRO CARDOSO MOREIRA', '330120': 'DE JANEIRO CARMO', '330130': 'DE JANEIRO CASIMIRO DE ABREU', '330140': 'DE JANEIRO CONCEIÇÃO DE MACABU', '330150': 'DE JANEIRO CORDEIRO', '330160': 'DE JANEIRO DUAS BARRAS', '330170': 'DE JANEIRO DUQUE DE CAXIAS', '330180': 'DE JANEIRO ENGENHEIRO PAULO DE FRONTIN', '330185': 'DE JANEIRO GUAPIMIRIM', '330187': 'DE JANEIRO IGUABA GRANDE', '330190': 'DE JANEIRO ITABORAÍ', '330200': 'DE JANEIRO ITAGUAÍ', '330205': 'DE JANEIRO ITALVA', '330210': 'DE JANEIRO ITAOCARA', '330220': 'DE JANEIRO ITAPERUNA', '330225': 'DE JANEIRO ITATIAIA', '330227': 'DE JANEIRO JAPERI', '330230': 'DE JANEIRO LAJE DO MURIAÉ', '330240': 'DE JANEIRO MACAÉ', '330245': 'DE JANEIRO MACUCO', '330250': 'DE JANEIRO MAGÉ', '330260': 'DE JANEIRO MANGARATIBA', '330270': 'DE JANEIRO MARICÁ', '330280': 'DE JANEIRO MENDES', '330285': 'DE JANEIRO MESQUITA', '330290': 'DE JANEIRO MIGUEL PEREIRA', '330300': 'DE JANEIRO MIRACEMA', '330310': 'DE JANEIRO NATIVIDADE', '330320': 'DE JANEIRO NILÓPOLIS', '330330': 'DE JANEIRO NITERÓI', '330340': 'DE JANEIRO NOVA FRIBURGO', '330350': 'DE JANEIRO NOVA IGUAÇU', '330360': 'DE JANEIRO PARACAMBI', '330370': 'DE JANEIRO PARAÍBA DO SUL', '330380': 'DE JANEIRO PARATY', '330385': 'DE JANEIRO PATY DO ALFERES', '330390': 'DE JANEIRO PETRÓPOLIS', '330395': 'DE JANEIRO PINHEIRAL', '330400': 'DE JANEIRO PIRAÍ', '330410': 'DE JANEIRO PORCIÚNCULA', '330411': 'DE JANEIRO PORTO REAL', '330412': 'DE JANEIRO QUATIS', '330414': 'DE JANEIRO QUEIMADOS', '330415': 'DE JANEIRO QUISSAMÃ', '330420': 'DE JANEIRO RESENDE', '330430': 'DE JANEIRO RIO BONITO', '330440': 'DE JANEIRO RIO CLARO', '330450': 'DE JANEIRO RIO DAS FLORES', '330452': 'DE JANEIRO RIO DAS OSTRAS', '330455': 'DE JANEIRO RIO DE JANEIRO', '330460': 'DE JANEIRO SANTA MARIA MADALENA', '330470': 'DE JANEIRO SANTO ANTÔNIO DE PÁDUA', '330475': 'DE JANEIRO SÃO FRANCISCO DE ITABAPOANA', '330480': 'DE JANEIRO SÃO FIDÉLIS', '330490': 'DE JANEIRO SÃO GONÇALO', '330500': 'DE JANEIRO SÃO JOÃO DA BARRA', '330510': 'DE JANEIRO SÃO JOÃO DE MERITI', '330513': 'DE JANEIRO SÃO JOSÉ DE UBÁ', '330515': 'DE JANEIRO SÃO JOSÉ DO VALE DO RIO PRETO', '330520': 'DE JANEIRO SÃO PEDRO DA ALDEIA', '330530': 'DE JANEIRO SÃO SEBASTIÃO DO ALTO', '330540': 'DE JANEIRO SAPUCAIA', '330550': 'DE JANEIRO SAQUAREMA', '330555': 'DE JANEIRO SEROPÉDICA', '330560': 'DE JANEIRO SILVA JARDIM', '330570': 'DE JANEIRO SUMIDOURO', '330575': 'DE JANEIRO TANGUÁ', '330580': 'DE JANEIRO TERESÓPOLIS', '330590': 'DE JANEIRO TRAJANO DE MORAES', '330600': 'DE JANEIRO TRÊS RIOS', '330610': 'DE JANEIRO VALENÇA', '330615': 'DE JANEIRO VARRE-SAI', '330620': 'DE JANEIRO VASSOURAS', '330630': 'DE JANEIRO VOLTA REDONDA', '37.636Total': '', '240010': 'GRANDE DO NORTE ACARI', '240020': 'GRANDE DO NORTE AÇU', '240030': 'GRANDE DO NORTE AFONSO BEZERRA', '240040': 'GRANDE DO NORTE ÁGUA NOVA', '240050': 'GRANDE DO NORTE ALEXANDRIA', '240060': 'GRANDE DO NORTE ALMINO AFONSO', '240070': 'GRANDE DO NORTE ALTO DO RODRIGUES', '240080': 'GRANDE DO NORTE ANGICOS', '240090': 'GRANDE DO NORTE ANTÔNIO MARTINS', '240100': 'GRANDE DO NORTE APODI', '240110': 'GRANDE DO NORTE AREIA BRANCA', '240120': 'GRANDE DO NORTE ARÊS', '240130': 'GRANDE DO NORTE AUGUSTO SEVERO', '240140': 'GRANDE DO NORTE BAÍA FORMOSA', '240145': 'GRANDE DO NORTE BARAÚNA', '240150': 'GRANDE DO NORTE BARCELONA', '240160': 'GRANDE DO NORTE BENTO FERNANDES', '240165': 'GRANDE DO NORTE BODÓ', '240170': 'GRANDE DO NORTE BOM JESUS', '240180': 'GRANDE DO NORTE BREJINHO', '240185': 'GRANDE DO NORTE CAIÇARA DO NORTE', '240190': 'GRANDE DO NORTE CAIÇARA DO RIO DO VENTO', '240200': 'GRANDE DO NORTE CAICÓ', '240210': 'GRANDE DO NORTE CAMPO REDONDO', '240220': 'GRANDE DO NORTE CANGUARETAMA', '240230': 'GRANDE DO NORTE CARAÚBAS', '240240': 'GRANDE DO NORTE CARNAÚBA DOS DANTAS', '240250': 'GRANDE DO NORTE CARNAUBAIS', '240260': 'GRANDE DO NORTE CEARÁ-MIRIM', '240270': 'GRANDE DO NORTE CERRO CORÁ', '240280': 'GRANDE DO NORTE CORONEL EZEQUIEL', '240290': 'GRANDE DO NORTE CORONEL JOÃO PESSOA', '240300': 'GRANDE DO NORTE CRUZETA', '240310': 'GRANDE DO NORTE CURRAIS NOVOS', '240320': 'GRANDE DO NORTE DOUTOR SEVERIANO', '240325': 'GRANDE DO NORTE PARNAMIRIM', '240330': 'GRANDE DO NORTE ENCANTO', '240340': 'GRANDE DO NORTE EQUADOR', '240350': 'GRANDE DO NORTE ESPÍRITO SANTO', '240360': 'GRANDE DO NORTE EXTREMOZ', '240370': 'GRANDE DO NORTE FELIPE GUERRA', '240375': 'GRANDE DO NORTE FERNANDO PEDROZA', '240380': 'GRANDE DO NORTE FLORÂNIA', '240390': 'GRANDE DO NORTE FRANCISCO DANTAS', '240400': 'GRANDE DO NORTE FRUTUOSO GOMES', '240410': 'GRANDE DO NORTE GALINHOS', '240420': 'GRANDE DO NORTE GOIANINHA', '240430': 'GRANDE DO NORTE GOVERNADOR DIX-SEPT ROSADO', '240440': 'GRANDE DO NORTE GROSSOS', '240450': 'GRANDE DO NORTE GUAMARÉ', '240460': 'GRANDE DO NORTE IELMO MARINHO', '240470': 'GRANDE DO NORTE IPANGUAÇU', '240480': 'GRANDE DO NORTE IPUEIRA', '240485': 'GRANDE DO NORTE ITAJÁ', '240490': 'GRANDE DO NORTE ITAÚ', '240500': 'GRANDE DO NORTE JAÇANÃ', '240510': 'GRANDE DO NORTE JANDAÍRA', '240520': 'GRANDE DO NORTE JANDUÍS', '240530': 'GRANDE DO NORTE JANUÁRIO CICCO', '240540': 'GRANDE DO NORTE JAPI', '240550': 'GRANDE DO NORTE JARDIM DE ANGICOS', '240560': 'GRANDE DO NORTE JARDIM DE PIRANHAS', '240570': 'GRANDE DO NORTE JARDIM DO SERIDÓ', '240580': 'GRANDE DO NORTE JOÃO CÂMARA', '240590': 'GRANDE DO NORTE JOÃO DIAS', '240600': 'GRANDE DO NORTE JOSÉ DA PENHA', '240610': 'GRANDE DO NORTE JUCURUTU', '240615': 'GRANDE DO NORTE JUNDIÁ', '240620': \"GRANDE DO NORTE LAGOA D'ANTA\", '240630': 'GRANDE DO NORTE LAGOA DE PEDRAS', '240640': 'GRANDE DO NORTE LAGOA DE VELHOS', '240650': 'GRANDE DO NORTE LAGOA NOVA', '240660': 'GRANDE DO NORTE LAGOA SALGADA', '240670': 'GRANDE DO NORTE LAJES', '240680': 'GRANDE DO NORTE LAJES PINTADAS', '240690': 'GRANDE DO NORTE LUCRÉCIA', '240700': 'GRANDE DO NORTE LUÍS GOMES', '240710': 'GRANDE DO NORTE MACAÍBA', '240720': 'GRANDE DO NORTE MACAU', '240725': 'GRANDE DO NORTE MAJOR SALES', '240730': 'GRANDE DO NORTE MARCELINO VIEIRA', '240740': 'GRANDE DO NORTE MARTINS', '240750': 'GRANDE DO NORTE MAXARANGUAPE', '240760': 'GRANDE DO NORTE MESSIAS TARGINO', '240770': 'GRANDE DO NORTE MONTANHAS', '240780': 'GRANDE DO NORTE MONTE ALEGRE', '240790': 'GRANDE DO NORTE MONTE DAS GAMELEIRAS', '240800': 'GRANDE DO NORTE MOSSORÓ', '240810': 'GRANDE DO NORTE NATAL', '240820': 'GRANDE DO NORTE NÍSIA FLORESTA', '240830': 'GRANDE DO NORTE NOVA CRUZ', '240840': \"GRANDE DO NORTE OLHO-D'ÁGUA DO BORGES\", '240850': 'GRANDE DO NORTE OURO BRANCO', '240860': 'GRANDE DO NORTE PARANÁ', '240870': 'GRANDE DO NORTE PARAÚ', '240880': 'GRANDE DO NORTE PARAZINHO', '240890': 'GRANDE DO NORTE PARELHAS', '240895': 'GRANDE DO NORTE RIO DO FOGO', '240910': 'GRANDE DO NORTE PASSA E FICA', '240920': 'GRANDE DO NORTE PASSAGEM', '240930': 'GRANDE DO NORTE PATU', '240933': 'GRANDE DO NORTE SANTA MARIA', '240940': 'GRANDE DO NORTE PAU DOS FERROS', '240950': 'GRANDE DO NORTE PEDRA GRANDE', '240960': 'GRANDE DO NORTE PEDRA PRETA', '240970': 'GRANDE DO NORTE PEDRO AVELINO', '240980': 'GRANDE DO NORTE PEDRO VELHO', '240990': 'GRANDE DO NORTE PENDÊNCIAS', '241000': 'GRANDE DO NORTE PILÕES', '241010': 'GRANDE DO NORTE POÇO BRANCO', '241020': 'GRANDE DO NORTE PORTALEGRE', '241025': 'GRANDE DO NORTE PORTO DO MANGUE', '241030': 'GRANDE DO NORTE SERRA CAIADA', '241040': 'GRANDE DO NORTE PUREZA', '241050': 'GRANDE DO NORTE RAFAEL FERNANDES', '241060': 'GRANDE DO NORTE RAFAEL GODEIRO', '241070': 'GRANDE DO NORTE RIACHO DA CRUZ', '241080': 'GRANDE DO NORTE RIACHO DE SANTANA', '241090': 'GRANDE DO NORTE RIACHUELO', '241100': 'GRANDE DO NORTE RODOLFO FERNANDES', '241105': 'GRANDE DO NORTE TIBAU', '241110': 'GRANDE DO NORTE RUY BARBOSA', '241120': 'GRANDE DO NORTE SANTA CRUZ', '241140': 'GRANDE DO NORTE SANTANA DO MATOS', '241142': 'GRANDE DO NORTE SANTANA DO SERIDÓ', '241150': 'GRANDE DO NORTE SANTO ANTÔNIO', '241160': 'GRANDE DO NORTE SÃO BENTO DO NORTE', '241170': 'GRANDE DO NORTE SÃO BENTO DO TRAIRÍ', '241180': 'GRANDE DO NORTE SÃO FERNANDO', '241190': 'GRANDE DO NORTE SÃO FRANCISCO DO OESTE', '241200': 'GRANDE DO NORTE SÃO GONÇALO DO AMARANTE', '241210': 'GRANDE DO NORTE SÃO JOÃO DO SABUGI', '241220': 'GRANDE DO NORTE SÃO JOSÉ DE MIPIBU', '241230': 'GRANDE DO NORTE SÃO JOSÉ DO CAMPESTRE', '241240': 'GRANDE DO NORTE SÃO JOSÉ DO SERIDÓ', '241250': 'GRANDE DO NORTE SÃO MIGUEL', '241255': 'GRANDE DO NORTE SÃO MIGUEL DO GOSTOSO', '241260': 'GRANDE DO NORTE SÃO PAULO DO POTENGI', '241270': 'GRANDE DO NORTE SÃO PEDRO', '241280': 'GRANDE DO NORTE SÃO RAFAEL', '241290': 'GRANDE DO NORTE SÃO TOMÉ', '241300': 'GRANDE DO NORTE SÃO VICENTE', '241310': 'GRANDE DO NORTE SENADOR ELÓI DE SOUZA', '241320': 'GRANDE DO NORTE SENADOR GEORGINO AVELINO', '241330': 'GRANDE DO NORTE SERRA DE SÃO BENTO', '241335': 'GRANDE DO NORTE SERRA DO MEL', '241340': 'GRANDE DO NORTE SERRA NEGRA DO NORTE', '241350': 'GRANDE DO NORTE SERRINHA', '241355': 'GRANDE DO NORTE SERRINHA DOS PINTOS', '241360': 'GRANDE DO NORTE SEVERIANO MELO', '241370': 'GRANDE DO NORTE SÍTIO NOVO', '241380': 'GRANDE DO NORTE TABOLEIRO GRANDE', '241390': 'GRANDE DO NORTE TAIPU', '241400': 'GRANDE DO NORTE TANGARÁ', '241410': 'GRANDE DO NORTE TENENTE ANANIAS', '241415': 'GRANDE DO NORTE TENENTE LAURENTINO CRUZ', '241420': 'GRANDE DO NORTE TIBAU DO SUL', '241430': 'GRANDE DO NORTE TIMBAÚBA DOS BATISTAS', '241440': 'GRANDE DO NORTE TOUROS', '241445': 'GRANDE DO NORTE TRIUNFO POTIGUAR', '241450': 'GRANDE DO NORTE UMARIZAL', '241460': 'GRANDE DO NORTE UPANEMA', '241470': 'GRANDE DO NORTE VÁRZEA', '241475': 'GRANDE DO NORTE VENHA-VER', '241480': 'GRANDE DO NORTE VERA CRUZ', '241490': 'GRANDE DO NORTE VIÇOSA', '241500': 'GRANDE DO NORTE VILA FLOR', '7.729Total': '', '430003': 'GRANDE DO SUL ACEGUÁ', '430005': 'GRANDE DO SUL ÁGUA SANTA', '430010': 'GRANDE DO SUL AGUDO', '430020': 'GRANDE DO SUL AJURICABA', '430030': 'GRANDE DO SUL ALECRIM', '430040': 'GRANDE DO SUL ALEGRETE', '430045': 'GRANDE DO SUL ALEGRIA', '430047': 'GRANDE DO SUL ALMIRANTE TAMANDARÉ DO SUL', '430050': 'GRANDE DO SUL ALPESTRE', '430055': 'GRANDE DO SUL ALTO ALEGRE', '430057': 'GRANDE DO SUL ALTO FELIZ', '430060': 'GRANDE DO SUL ALVORADA', '430063': 'GRANDE DO SUL AMARAL FERRADOR', '430064': 'GRANDE DO SUL AMETISTA DO SUL', '430066': 'GRANDE DO SUL ANDRÉ DA ROCHA', '430070': 'GRANDE DO SUL ANTA GORDA', '430080': 'GRANDE DO SUL ANTÔNIO PRADO', '430085': 'GRANDE DO SUL ARAMBARÉ', '430087': 'GRANDE DO SUL ARARICÁ', '430090': 'GRANDE DO SUL ARATIBA', '430100': 'GRANDE DO SUL ARROIO DO MEIO', '430105': 'GRANDE DO SUL ARROIO DO SAL', '430107': 'GRANDE DO SUL ARROIO DO PADRE', '430110': 'GRANDE DO SUL ARROIO DOS RATOS', '430120': 'GRANDE DO SUL ARROIO DO TIGRE', '430130': 'GRANDE DO SUL ARROIO GRANDE', '430140': 'GRANDE DO SUL ARVOREZINHA', '430150': 'GRANDE DO SUL AUGUSTO PESTANA', '430155': 'GRANDE DO SUL ÁUREA', '430160': 'GRANDE DO SUL BAGÉ', '430163': 'GRANDE DO SUL BALNEÁRIO PINHAL', '430165': 'GRANDE DO SUL BARÃO', '430170': 'GRANDE DO SUL BARÃO DE COTEGIPE', '430175': 'GRANDE DO SUL BARÃO DO TRIUNFO', '430180': 'GRANDE DO SUL BARRACÃO', '430185': 'GRANDE DO SUL BARRA DO GUARITA', '430187': 'GRANDE DO SUL BARRA DO QUARAÍ', '430190': 'GRANDE DO SUL BARRA DO RIBEIRO', '430192': 'GRANDE DO SUL BARRA DO RIO AZUL', '430195': 'GRANDE DO SUL BARRA FUNDA', '430200': 'GRANDE DO SUL BARROS CASSAL', '430205': 'GRANDE DO SUL BENJAMIN CONSTANT DO SUL', '430210': 'GRANDE DO SUL BENTO GONÇALVES', '430215': 'GRANDE DO SUL BOA VISTA DAS MISSÕES', '430220': 'GRANDE DO SUL BOA VISTA DO BURICÁ', '430222': 'GRANDE DO SUL BOA VISTA DO CADEADO', '430223': 'GRANDE DO SUL BOA VISTA DO INCRA', '430225': 'GRANDE DO SUL BOA VISTA DO SUL', '430230': 'GRANDE DO SUL BOM JESUS', '430235': 'GRANDE DO SUL BOM PRINCÍPIO', '430237': 'GRANDE DO SUL BOM PROGRESSO', '430240': 'GRANDE DO SUL BOM RETIRO DO SUL', '430245': 'GRANDE DO SUL BOQUEIRÃO DO LEÃO', '430250': 'GRANDE DO SUL BOSSOROCA', '430258': 'GRANDE DO SUL BOZANO', '430260': 'GRANDE DO SUL BRAGA', '430265': 'GRANDE DO SUL BROCHIER', '430270': 'GRANDE DO SUL BUTIÁ', '430280': 'GRANDE DO SUL CAÇAPAVA DO SUL', '430290': 'GRANDE DO SUL CACEQUI', '430300': 'GRANDE DO SUL CACHOEIRA DO SUL', '430310': 'GRANDE DO SUL CACHOEIRINHA', '430320': 'GRANDE DO SUL CACIQUE DOBLE', '430330': 'GRANDE DO SUL CAIBATÉ', '430340': 'GRANDE DO SUL CAIÇARA', '430350': 'GRANDE DO SUL CAMAQUÃ', '430355': 'GRANDE DO SUL CAMARGO', '430360': 'GRANDE DO SUL CAMBARÁ DO SUL', '430367': 'GRANDE DO SUL CAMPESTRE DA SERRA', '430370': 'GRANDE DO SUL CAMPINA DAS MISSÕES', '430380': 'GRANDE DO SUL CAMPINAS DO SUL', '430390': 'GRANDE DO SUL CAMPO BOM', '430400': 'GRANDE DO SUL CAMPO NOVO', '430410': 'GRANDE DO SUL CAMPOS BORGES', '430420': 'GRANDE DO SUL CANDELÁRIA', '430430': 'GRANDE DO SUL CÂNDIDO GODÓI', '430435': 'GRANDE DO SUL CANDIOTA', '430440': 'GRANDE DO SUL CANELA', '430450': 'GRANDE DO SUL CANGUÇU', '430460': 'GRANDE DO SUL CANOAS', '430461': 'GRANDE DO SUL CANUDOS DO VALE', '430462': 'GRANDE DO SUL CAPÃO BONITO DO SUL', '430463': 'GRANDE DO SUL CAPÃO DA CANOA', '430465': 'GRANDE DO SUL CAPÃO DO CIPÓ', '430466': 'GRANDE DO SUL CAPÃO DO LEÃO', '430467': 'GRANDE DO SUL CAPIVARI DO SUL', '430468': 'GRANDE DO SUL CAPELA DE SANTANA', '430469': 'GRANDE DO SUL CAPITÃO', '430470': 'GRANDE DO SUL CARAZINHO', '430471': 'GRANDE DO SUL CARAÁ', '430480': 'GRANDE DO SUL CARLOS BARBOSA', '430485': 'GRANDE DO SUL CARLOS GOMES', '430490': 'GRANDE DO SUL CASCA', '430495': 'GRANDE DO SUL CASEIROS', '430500': 'GRANDE DO SUL CATUÍPE', '430510': 'GRANDE DO SUL CAXIAS DO SUL', '430511': 'GRANDE DO SUL CENTENÁRIO', '430512': 'GRANDE DO SUL CERRITO', '430513': 'GRANDE DO SUL CERRO BRANCO', '430515': 'GRANDE DO SUL CERRO GRANDE', '430517': 'GRANDE DO SUL CERRO GRANDE DO SUL', '430520': 'GRANDE DO SUL CERRO LARGO', '430530': 'GRANDE DO SUL CHAPADA', '430535': 'GRANDE DO SUL CHARQUEADAS', '430537': 'GRANDE DO SUL CHARRUA', '430540': 'GRANDE DO SUL CHIAPETTA', '430543': 'GRANDE DO SUL CHUÍ', '430544': 'GRANDE DO SUL CHUVISCA', '430545': 'GRANDE DO SUL CIDREIRA', '430550': 'GRANDE DO SUL CIRÍACO', '430558': 'GRANDE DO SUL COLINAS', '430560': 'GRANDE DO SUL COLORADO', '430570': 'GRANDE DO SUL CONDOR', '430580': 'GRANDE DO SUL CONSTANTINA', '430583': 'GRANDE DO SUL COQUEIRO BAIXO', '430585': 'GRANDE DO SUL COQUEIROS DO SUL', '430587': 'GRANDE DO SUL CORONEL BARROS', '430590': 'GRANDE DO SUL CORONEL BICACO', '430593': 'GRANDE DO SUL CORONEL PILAR', '430595': 'GRANDE DO SUL COTIPORÃ', '430597': 'GRANDE DO SUL COXILHA', '430600': 'GRANDE DO SUL CRISSIUMAL', '430605': 'GRANDE DO SUL CRISTAL', '430607': 'GRANDE DO SUL CRISTAL DO SUL', '430610': 'GRANDE DO SUL CRUZ ALTA', '430613': 'GRANDE DO SUL CRUZALTENSE', '430620': 'GRANDE DO SUL CRUZEIRO DO SUL', '430630': 'GRANDE DO SUL DAVID CANABARRO', '430632': 'GRANDE DO SUL DERRUBADAS', '430635': 'GRANDE DO SUL DEZESSEIS DE NOVEMBRO', '430637': 'GRANDE DO SUL DILERMANDO DE AGUIAR', '430640': 'GRANDE DO SUL DOIS IRMÃOS', '430642': 'GRANDE DO SUL DOIS IRMÃOS DAS MISSÕES', '430645': 'GRANDE DO SUL DOIS LAJEADOS', '430650': 'GRANDE DO SUL DOM FELICIANO', '430655': 'GRANDE DO SUL DOM PEDRO DE ALCÂNTARA', '430660': 'GRANDE DO SUL DOM PEDRITO', '430670': 'GRANDE DO SUL DONA FRANCISCA', '430673': 'GRANDE DO SUL DOUTOR MAURÍCIO CARDOSO', '430675': 'GRANDE DO SUL DOUTOR RICARDO', '430676': 'GRANDE DO SUL ELDORADO DO SUL', '430680': 'GRANDE DO SUL ENCANTADO', '430690': 'GRANDE DO SUL ENCRUZILHADA DO SUL', '430692': 'GRANDE DO SUL ENGENHO VELHO', '430693': 'GRANDE DO SUL ENTRE-IJUÍS', '430695': 'GRANDE DO SUL ENTRE RIOS DO SUL', '430697': 'GRANDE DO SUL EREBANGO', '430700': 'GRANDE DO SUL ERECHIM', '430705': 'GRANDE DO SUL ERNESTINA', '430710': 'GRANDE DO SUL HERVAL', '430720': 'GRANDE DO SUL ERVAL GRANDE', '430730': 'GRANDE DO SUL ERVAL SECO', '430740': 'GRANDE DO SUL ESMERALDA', '430745': 'GRANDE DO SUL ESPERANÇA DO SUL', '430750': 'GRANDE DO SUL ESPUMOSO', '430755': 'GRANDE DO SUL ESTAÇÃO', '430760': 'GRANDE DO SUL ESTÂNCIA VELHA', '430770': 'GRANDE DO SUL ESTEIO', '430780': 'GRANDE DO SUL ESTRELA', '430781': 'GRANDE DO SUL ESTRELA VELHA', '430783': 'GRANDE DO SUL EUGÊNIO DE CASTRO', '430786': 'GRANDE DO SUL FAGUNDES VARELA', '430790': 'GRANDE DO SUL FARROUPILHA', '430800': 'GRANDE DO SUL FAXINAL DO SOTURNO', '430805': 'GRANDE DO SUL FAXINALZINHO', '430807': 'GRANDE DO SUL FAZENDA VILANOVA', '430810': 'GRANDE DO SUL FELIZ', '430820': 'GRANDE DO SUL FLORES DA CUNHA', '430825': 'GRANDE DO SUL FLORIANO PEIXOTO', '430830': 'GRANDE DO SUL FONTOURA XAVIER', '430840': 'GRANDE DO SUL FORMIGUEIRO', '430843': 'GRANDE DO SUL FORQUETINHA', '430845': 'GRANDE DO SUL FORTALEZA DOS VALOS', '430850': 'GRANDE DO SUL FREDERICO WESTPHALEN', '430860': 'GRANDE DO SUL GARIBALDI', '430865': 'GRANDE DO SUL GARRUCHOS', '430870': 'GRANDE DO SUL GAURAMA', '430880': 'GRANDE DO SUL GENERAL CÂMARA', '430885': 'GRANDE DO SUL GENTIL', '430890': 'GRANDE DO SUL GETÚLIO VARGAS', '430900': 'GRANDE DO SUL GIRUÁ', '430905': 'GRANDE DO SUL GLORINHA', '430910': 'GRANDE DO SUL GRAMADO', '430912': 'GRANDE DO SUL GRAMADO DOS LOUREIROS', '430915': 'GRANDE DO SUL GRAMADO XAVIER', '430920': 'GRANDE DO SUL GRAVATAÍ', '430925': 'GRANDE DO SUL GUABIJU', '430930': 'GRANDE DO SUL GUAÍBA', '430940': 'GRANDE DO SUL GUAPORÉ', '430950': 'GRANDE DO SUL GUARANI DAS MISSÕES', '430955': 'GRANDE DO SUL HARMONIA', '430957': 'GRANDE DO SUL HERVEIRAS', '430960': 'GRANDE DO SUL HORIZONTINA', '430965': 'GRANDE DO SUL HULHA NEGRA', '430970': 'GRANDE DO SUL HUMAITÁ', '430975': 'GRANDE DO SUL IBARAMA', '430980': 'GRANDE DO SUL IBIAÇÁ', '430990': 'GRANDE DO SUL IBIRAIARAS', '430995': 'GRANDE DO SUL IBIRAPUITÃ', '431000': 'GRANDE DO SUL IBIRUBÁ', '431010': 'GRANDE DO SUL IGREJINHA', '431020': 'GRANDE DO SUL IJUÍ', '431030': 'GRANDE DO SUL ILÓPOLIS', '431033': 'GRANDE DO SUL IMBÉ', '431036': 'GRANDE DO SUL IMIGRANTE', '431040': 'GRANDE DO SUL INDEPENDÊNCIA', '431041': 'GRANDE DO SUL INHACORÁ', '431043': 'GRANDE DO SUL IPÊ', '431046': 'GRANDE DO SUL IPIRANGA DO SUL', '431050': 'GRANDE DO SUL IRAÍ', '431053': 'GRANDE DO SUL ITAARA', '431055': 'GRANDE DO SUL ITACURUBI', '431057': 'GRANDE DO SUL ITAPUCA', '431060': 'GRANDE DO SUL ITAQUI', '431065': 'GRANDE DO SUL ITATI', '431070': 'GRANDE DO SUL ITATIBA DO SUL', '431075': 'GRANDE DO SUL IVORÁ', '431080': 'GRANDE DO SUL IVOTI', '431085': 'GRANDE DO SUL JABOTICABA', '431087': 'GRANDE DO SUL JACUIZINHO', '431090': 'GRANDE DO SUL JACUTINGA', '431100': 'GRANDE DO SUL JAGUARÃO', '431110': 'GRANDE DO SUL JAGUARI', '431112': 'GRANDE DO SUL JAQUIRANA', '431113': 'GRANDE DO SUL JARI', '431115': 'GRANDE DO SUL JÓIA', '431120': 'GRANDE DO SUL JÚLIO DE CASTILHOS', '431123': 'GRANDE DO SUL LAGOA BONITA DO SUL', '431125': 'GRANDE DO SUL LAGOÃO', '431127': 'GRANDE DO SUL LAGOA DOS TRÊS CANTOS', '431130': 'GRANDE DO SUL LAGOA VERMELHA', '431140': 'GRANDE DO SUL LAJEADO', '431142': 'GRANDE DO SUL LAJEADO DO BUGRE', '431150': 'GRANDE DO SUL LAVRAS DO SUL', '431160': 'GRANDE DO SUL LIBERATO SALZANO', '431162': 'GRANDE DO SUL LINDOLFO COLLOR', '431164': 'GRANDE DO SUL LINHA NOVA', '431170': 'GRANDE DO SUL MACHADINHO', '431171': 'GRANDE DO SUL MAÇAMBARÁ', '431173': 'GRANDE DO SUL MAMPITUBA', '431175': 'GRANDE DO SUL MANOEL VIANA', '431177': 'GRANDE DO SUL MAQUINÉ', '431179': 'GRANDE DO SUL MARATÁ', '431180': 'GRANDE DO SUL MARAU', '431190': 'GRANDE DO SUL MARCELINO RAMOS', '431198': 'GRANDE DO SUL MARIANA PIMENTEL', '431200': 'GRANDE DO SUL MARIANO MORO', '431205': 'GRANDE DO SUL MARQUES DE SOUZA', '431210': 'GRANDE DO SUL MATA', '431213': 'GRANDE DO SUL MATO CASTELHANO', '431215': 'GRANDE DO SUL MATO LEITÃO', '431217': 'GRANDE DO SUL MATO QUEIMADO', '431220': 'GRANDE DO SUL MAXIMILIANO DE ALMEIDA', '431225': 'GRANDE DO SUL MINAS DO LEÃO', '431230': 'GRANDE DO SUL MIRAGUAÍ', '431235': 'GRANDE DO SUL MONTAURI', '431237': 'GRANDE DO SUL MONTE ALEGRE DOS CAMPOS', '431238': 'GRANDE DO SUL MONTE BELO DO SUL', '431240': 'GRANDE DO SUL MONTENEGRO', '431242': 'GRANDE DO SUL MORMAÇO', '431244': 'GRANDE DO SUL MORRINHOS DO SUL', '431245': 'GRANDE DO SUL MORRO REDONDO', '431247': 'GRANDE DO SUL MORRO REUTER', '431250': 'GRANDE DO SUL MOSTARDAS', '431260': 'GRANDE DO SUL MUÇUM', '431261': 'GRANDE DO SUL MUITOS CAPÕES', '431262': 'GRANDE DO SUL MULITERNO', '431265': 'GRANDE DO SUL NÃO-ME-TOQUE', '431267': 'GRANDE DO SUL NICOLAU VERGUEIRO', '431270': 'GRANDE DO SUL NONOAI', '431275': 'GRANDE DO SUL NOVA ALVORADA', '431280': 'GRANDE DO SUL NOVA ARAÇÁ', '431290': 'GRANDE DO SUL NOVA BASSANO', '431295': 'GRANDE DO SUL NOVA BOA VISTA', '431300': 'GRANDE DO SUL NOVA BRÉSCIA', '431301': 'GRANDE DO SUL NOVA CANDELÁRIA', '431303': 'GRANDE DO SUL NOVA ESPERANÇA DO SUL', '431306': 'GRANDE DO SUL NOVA HARTZ', '431308': 'GRANDE DO SUL NOVA PÁDUA', '431310': 'GRANDE DO SUL NOVA PALMA', '431320': 'GRANDE DO SUL NOVA PETRÓPOLIS', '431330': 'GRANDE DO SUL NOVA PRATA', '431333': 'GRANDE DO SUL NOVA RAMADA', '431335': 'GRANDE DO SUL NOVA ROMA DO SUL', '431337': 'GRANDE DO SUL NOVA SANTA RITA', '431339': 'GRANDE DO SUL NOVO CABRAIS', '431340': 'GRANDE DO SUL NOVO HAMBURGO', '431342': 'GRANDE DO SUL NOVO MACHADO', '431344': 'GRANDE DO SUL NOVO TIRADENTES', '431346': 'GRANDE DO SUL NOVO XINGU', '431349': 'GRANDE DO SUL NOVO BARREIRO', '431350': 'GRANDE DO SUL OSÓRIO', '431360': 'GRANDE DO SUL PAIM FILHO', '431365': 'GRANDE DO SUL PALMARES DO SUL', '431370': 'GRANDE DO SUL PALMEIRA DAS MISSÕES', '431380': 'GRANDE DO SUL PALMITINHO', '431390': 'GRANDE DO SUL PANAMBI', '431395': 'GRANDE DO SUL PANTANO GRANDE', '431400': 'GRANDE DO SUL PARAÍ', '431402': 'GRANDE DO SUL PARAÍSO DO SUL', '431403': 'GRANDE DO SUL PARECI NOVO', '431405': 'GRANDE DO SUL PAROBÉ', '431406': 'GRANDE DO SUL PASSA SETE', '431407': 'GRANDE DO SUL PASSO DO SOBRADO', '431410': 'GRANDE DO SUL PASSO FUNDO', '431413': 'GRANDE DO SUL PAULO BENTO', '431415': 'GRANDE DO SUL PAVERAMA', '431417': 'GRANDE DO SUL PEDRAS ALTAS', '431420': 'GRANDE DO SUL PEDRO OSÓRIO', '431430': 'GRANDE DO SUL PEJUÇARA', '431440': 'GRANDE DO SUL PELOTAS', '431442': 'GRANDE DO SUL PICADA CAFÉ', '431445': 'GRANDE DO SUL PINHAL', '431446': 'GRANDE DO SUL PINHAL DA SERRA', '431447': 'GRANDE DO SUL PINHAL GRANDE', '431449': 'GRANDE DO SUL PINHEIRINHO DO VALE', '431450': 'GRANDE DO SUL PINHEIRO MACHADO', '431455': 'GRANDE DO SUL PIRAPÓ', '431460': 'GRANDE DO SUL PIRATINI', '431470': 'GRANDE DO SUL PLANALTO', '431475': 'GRANDE DO SUL POÇO DAS ANTAS', '431477': 'GRANDE DO SUL PONTÃO', '431478': 'GRANDE DO SUL PONTE PRETA', '431480': 'GRANDE DO SUL PORTÃO', '431490': 'GRANDE DO SUL PORTO ALEGRE', '431500': 'GRANDE DO SUL PORTO LUCENA', '431505': 'GRANDE DO SUL PORTO MAUÁ', '431507': 'GRANDE DO SUL PORTO VERA CRUZ', '431510': 'GRANDE DO SUL PORTO XAVIER', '431513': 'GRANDE DO SUL POUSO NOVO', '431514': 'GRANDE DO SUL PRESIDENTE LUCENA', '431515': 'GRANDE DO SUL PROGRESSO', '431517': 'GRANDE DO SUL PROTÁSIO ALVES', '431520': 'GRANDE DO SUL PUTINGA', '431530': 'GRANDE DO SUL QUARAÍ', '431531': 'GRANDE DO SUL QUATRO IRMÃOS', '431532': 'GRANDE DO SUL QUEVEDOS', '431535': 'GRANDE DO SUL QUINZE DE NOVEMBRO', '431540': 'GRANDE DO SUL REDENTORA', '431545': 'GRANDE DO SUL RELVADO', '431550': 'GRANDE DO SUL RESTINGA SECA', '431555': 'GRANDE DO SUL RIO DOS ÍNDIOS', '431560': 'GRANDE DO SUL RIO GRANDE', '431570': 'GRANDE DO SUL RIO PARDO', '431575': 'GRANDE DO SUL RIOZINHO', '431580': 'GRANDE DO SUL ROCA SALES', '431590': 'GRANDE DO SUL RODEIO BONITO', '431595': 'GRANDE DO SUL ROLADOR', '431600': 'GRANDE DO SUL ROLANTE', '431610': 'GRANDE DO SUL RONDA ALTA', '431620': 'GRANDE DO SUL RONDINHA', '431630': 'GRANDE DO SUL ROQUE GONZALES', '431640': 'GRANDE DO SUL ROSÁRIO DO SUL', '431642': 'GRANDE DO SUL SAGRADA FAMÍLIA', '431643': 'GRANDE DO SUL SALDANHA MARINHO', '431645': 'GRANDE DO SUL SALTO DO JACUÍ', '431647': 'GRANDE DO SUL SALVADOR DAS MISSÕES', '431650': 'GRANDE DO SUL SALVADOR DO SUL', '431660': 'GRANDE DO SUL SANANDUVA', '431670': 'GRANDE DO SUL SANTA BÁRBARA DO SUL', '431673': 'GRANDE DO SUL SANTA CECÍLIA DO SUL', '431675': 'GRANDE DO SUL SANTA CLARA DO SUL', '431680': 'GRANDE DO SUL SANTA CRUZ DO SUL', '431690': 'GRANDE DO SUL SANTA MARIA', '431695': 'GRANDE DO SUL SANTA MARIA DO HERVAL', '431697': 'GRANDE DO SUL SANTA MARGARIDA DO SUL', '431700': 'GRANDE DO SUL SANTANA DA BOA VISTA', '431710': \"GRANDE DO SUL SANT'ANA DO LIVRAMENTO\", '431720': 'GRANDE DO SUL SANTA ROSA', '431725': 'GRANDE DO SUL SANTA TEREZA', '431730': 'GRANDE DO SUL SANTA VITÓRIA DO PALMAR', '431740': 'GRANDE DO SUL SANTIAGO', '431750': 'GRANDE DO SUL SANTO ÂNGELO', '431755': 'GRANDE DO SUL SANTO ANTÔNIO DO PALMA', '431760': 'GRANDE DO SUL SANTO ANTÔNIO DA PATRULHA', '431770': 'GRANDE DO SUL SANTO ANTÔNIO DAS MISSÕES', '431775': 'GRANDE DO SUL SANTO ANTÔNIO DO PLANALTO', '431780': 'GRANDE DO SUL SANTO AUGUSTO', '431790': 'GRANDE DO SUL SANTO CRISTO', '431795': 'GRANDE DO SUL SANTO EXPEDITO DO SUL', '431800': 'GRANDE DO SUL SÃO BORJA', '431805': 'GRANDE DO SUL SÃO DOMINGOS DO SUL', '431810': 'GRANDE DO SUL SÃO FRANCISCO DE ASSIS', '431820': 'GRANDE DO SUL SÃO FRANCISCO DE PAULA', '431830': 'GRANDE DO SUL SÃO GABRIEL', '431840': 'GRANDE DO SUL SÃO JERÔNIMO', '431842': 'GRANDE DO SUL SÃO JOÃO DA URTIGA', '431843': 'GRANDE DO SUL SÃO JOÃO DO POLÊSINE', '431844': 'GRANDE DO SUL SÃO JORGE', '431845': 'GRANDE DO SUL SÃO JOSÉ DAS MISSÕES', '431846': 'GRANDE DO SUL SÃO JOSÉ DO HERVAL', '431848': 'GRANDE DO SUL SÃO JOSÉ DO HORTÊNCIO', '431849': 'GRANDE DO SUL SÃO JOSÉ DO INHACORÁ', '431850': 'GRANDE DO SUL SÃO JOSÉ DO NORTE', '431860': 'GRANDE DO SUL SÃO JOSÉ DO OURO', '431861': 'GRANDE DO SUL SÃO JOSÉ DO SUL', '431862': 'GRANDE DO SUL SÃO JOSÉ DOS AUSENTES', '431870': 'GRANDE DO SUL SÃO LEOPOLDO', '431880': 'GRANDE DO SUL SÃO LOURENÇO DO SUL', '431890': 'GRANDE DO SUL SÃO LUIZ GONZAGA', '431900': 'GRANDE DO SUL SÃO MARCOS', '431910': 'GRANDE DO SUL SÃO MARTINHO', '431912': 'GRANDE DO SUL SÃO MARTINHO DA SERRA', '431915': 'GRANDE DO SUL SÃO MIGUEL DAS MISSÕES', '431920': 'GRANDE DO SUL SÃO NICOLAU', '431930': 'GRANDE DO SUL SÃO PAULO DAS MISSÕES', '431935': 'GRANDE DO SUL SÃO PEDRO DA SERRA', '431936': 'GRANDE DO SUL SÃO PEDRO DAS MISSÕES', '431937': 'GRANDE DO SUL SÃO PEDRO DO BUTIÁ', '431940': 'GRANDE DO SUL SÃO PEDRO DO SUL', '431950': 'GRANDE DO SUL SÃO SEBASTIÃO DO CAÍ', '431960': 'GRANDE DO SUL SÃO SEPÉ', '431970': 'GRANDE DO SUL SÃO VALENTIM', '431971': 'GRANDE DO SUL SÃO VALENTIM DO SUL', '431973': 'GRANDE DO SUL SÃO VALÉRIO DO SUL', '431975': 'GRANDE DO SUL SÃO VENDELINO', '431980': 'GRANDE DO SUL SÃO VICENTE DO SUL', '431990': 'GRANDE DO SUL SAPIRANGA', '432000': 'GRANDE DO SUL SAPUCAIA DO SUL', '432010': 'GRANDE DO SUL SARANDI', '432020': 'GRANDE DO SUL SEBERI', '432023': 'GRANDE DO SUL SEDE NOVA', '432026': 'GRANDE DO SUL SEGREDO', '432030': 'GRANDE DO SUL SELBACH', '432032': 'GRANDE DO SUL SENADOR SALGADO FILHO', '432035': 'GRANDE DO SUL SENTINELA DO SUL', '432040': 'GRANDE DO SUL SERAFINA CORRÊA', '432045': 'GRANDE DO SUL SÉRIO', '432050': 'GRANDE DO SUL SERTÃO', '432055': 'GRANDE DO SUL SERTÃO SANTANA', '432057': 'GRANDE DO SUL SETE DE SETEMBRO', '432060': 'GRANDE DO SUL SEVERIANO DE ALMEIDA', '432065': 'GRANDE DO SUL SILVEIRA MARTINS', '432067': 'GRANDE DO SUL SINIMBU', '432070': 'GRANDE DO SUL SOBRADINHO', '432080': 'GRANDE DO SUL SOLEDADE', '432085': 'GRANDE DO SUL TABAÍ', '432090': 'GRANDE DO SUL TAPEJARA', '432100': 'GRANDE DO SUL TAPERA', '432110': 'GRANDE DO SUL TAPES', '432120': 'GRANDE DO SUL TAQUARA', '432130': 'GRANDE DO SUL TAQUARI', '432132': 'GRANDE DO SUL TAQUARUÇU DO SUL', '432135': 'GRANDE DO SUL TAVARES', '432140': 'GRANDE DO SUL TENENTE PORTELA', '432143': 'GRANDE DO SUL TERRA DE AREIA', '432145': 'GRANDE DO SUL TEUTÔNIA', '432146': 'GRANDE DO SUL TIO HUGO', '432147': 'GRANDE DO SUL TIRADENTES DO SUL', '432149': 'GRANDE DO SUL TOROPI', '432150': 'GRANDE DO SUL TORRES', '432160': 'GRANDE DO SUL TRAMANDAÍ', '432162': 'GRANDE DO SUL TRAVESSEIRO', '432163': 'GRANDE DO SUL TRÊS ARROIOS', '432166': 'GRANDE DO SUL TRÊS CACHOEIRAS', '432170': 'GRANDE DO SUL TRÊS COROAS', '432180': 'GRANDE DO SUL TRÊS DE MAIO', '432183': 'GRANDE DO SUL TRÊS FORQUILHAS', '432185': 'GRANDE DO SUL TRÊS PALMEIRAS', '432190': 'GRANDE DO SUL TRÊS PASSOS', '432195': 'GRANDE DO SUL TRINDADE DO SUL', '432200': 'GRANDE DO SUL TRIUNFO', '432210': 'GRANDE DO SUL TUCUNDUVA', '432215': 'GRANDE DO SUL TUNAS', '432218': 'GRANDE DO SUL TUPANCI DO SUL', '432220': 'GRANDE DO SUL TUPANCIRETÃ', '432225': 'GRANDE DO SUL TUPANDI', '432230': 'GRANDE DO SUL TUPARENDI', '432232': 'GRANDE DO SUL TURUÇU', '432234': 'GRANDE DO SUL UBIRETAMA', '432235': 'GRANDE DO SUL UNIÃO DA SERRA', '432237': 'GRANDE DO SUL UNISTALDA', '432240': 'GRANDE DO SUL URUGUAIANA', '432250': 'GRANDE DO SUL VACARIA', '432252': 'GRANDE DO SUL VALE VERDE', '432253': 'GRANDE DO SUL VALE DO SOL', '432254': 'GRANDE DO SUL VALE REAL', '432255': 'GRANDE DO SUL VANINI', '432260': 'GRANDE DO SUL VENÂNCIO AIRES', '432270': 'GRANDE DO SUL VERA CRUZ', '432280': 'GRANDE DO SUL VERANÓPOLIS', '432285': 'GRANDE DO SUL VESPASIANO CORREA', '432290': 'GRANDE DO SUL VIADUTOS', '432300': 'GRANDE DO SUL VIAMÃO', '432310': 'GRANDE DO SUL VICENTE DUTRA', '432320': 'GRANDE DO SUL VICTOR GRAEFF', '432330': 'GRANDE DO SUL VILA FLORES', '432335': 'GRANDE DO SUL VILA LÂNGARO', '432340': 'GRANDE DO SUL VILA MARIA', '432345': 'GRANDE DO SUL VILA NOVA DO SUL', '432350': 'GRANDE DO SUL VISTA ALEGRE', '432360': 'GRANDE DO SUL VISTA ALEGRE DO PRATA', '432370': 'GRANDE DO SUL VISTA GAÚCHA', '432375': 'GRANDE DO SUL VITÓRIA DAS MISSÕES', '432377': 'GRANDE DO SUL WESTFALIA', '432380': 'GRANDE DO SUL XANGRI-LÁ', '28.941Total': '', '110001': \"ALTA FLORESTA D'OESTE\", '110002': 'ARIQUEMES', '110003': 'CABIXI', '110004': 'CACOAL', '110005': 'CEREJEIRAS', '110006': 'COLORADO DO OESTE', '110007': 'CORUMBIARA', '110008': 'COSTA MARQUES', '110009': \"ESPIGÃO D'OESTE\", '110010': 'GUAJARÁ-MIRIM', '110011': 'JARU', '110012': 'JI-PARANÁ', '110013': \"MACHADINHO D'OESTE\", '110014': \"NOVA BRASILÂNDIA D'OESTE\", '110015': 'OURO PRETO DO OESTE', '110018': 'PIMENTA BUENO', '110020': 'PORTO VELHO', '110025': 'PRESIDENTE MÉDICI', '110026': 'RIO CRESPO', '110028': 'ROLIM DE MOURA', '110029': \"SANTA LUZIA D'OESTE\", '110030': 'VILHENA', '110032': 'SÃO MIGUEL DO GUAPORÉ', '110033': 'NOVA MAMORÉ', '110034': \"ALVORADA D'OESTE\", '110037': 'ALTO ALEGRE DOS PARECIS', '110040': 'ALTO PARAÍSO', '110045': 'BURITIS', '110050': 'NOVO HORIZONTE DO OESTE', '110060': 'CACAULÂNDIA', '110070': 'CAMPO NOVO DE RONDÔNIA', '110080': 'CANDEIAS DO JAMARI', '110090': 'CASTANHEIRAS', '110092': 'CHUPINGUAIA', '110094': 'CUJUBIM', '110100': 'GOVERNADOR JORGE TEIXEIRA', '110110': 'ITAPUÃ DO OESTE', '110120': 'MINISTRO ANDREAZZA', '110130': 'MIRANTE DA SERRA', '110140': 'MONTE NEGRO', '110143': 'NOVA UNIÃO', '110145': 'PARECIS', '110146': 'PIMENTEIRAS DO OESTE', '110147': 'PRIMAVERA DE RONDÔNIA', '110148': \"SÃO FELIPE D'OESTE\", '110149': 'SÃO FRANCISCO DO GUAPORÉ', '110150': 'SERINGUEIRAS', '110155': 'TEIXEIRÓPOLIS', '110160': 'THEOBROMA', '110170': 'URUPÁ', '110175': 'VALE DO ANARI', '110180': 'VALE DO PARAÍSO', '3.921Total': '', '140002': 'AMAJARI', '140005': 'ALTO ALEGRE', '140010': 'BOA VISTA', '140015': 'BONFIM', '140017': 'CANTÁ', '140020': 'CARACARAÍ', '140023': 'CAROEBE', '140028': 'IRACEMA', '140030': 'MUCAJAÍ', '140040': 'NORMANDIA', '140045': 'PACARAIMA', '140047': 'RORAINÓPOLIS', '140050': 'SÃO JOÃO DA BALIZA', '140060': 'SÃO LUIZ', '140070': 'UIRAMUTÃ', '1.459Total': '', '420005': 'CATARINA ABDON BATISTA', '420010': 'CATARINA ABELARDO LUZ', '420020': 'CATARINA AGROLÂNDIA', '420030': 'CATARINA AGRONÔMICA', '420040': 'CATARINA ÁGUA DOCE', '420050': 'CATARINA ÁGUAS DE CHAPECÓ', '420055': 'CATARINA ÁGUAS FRIAS', '420060': 'CATARINA ÁGUAS MORNAS', '420070': 'CATARINA ALFREDO WAGNER', '420075': 'CATARINA ALTO BELA VISTA', '420080': 'CATARINA ANCHIETA', '420090': 'CATARINA ANGELINA', '420100': 'CATARINA ANITA GARIBALDI', '420110': 'CATARINA ANITÁPOLIS', '420120': 'CATARINA ANTÔNIO CARLOS', '420125': 'CATARINA APIÚNA', '420127': 'CATARINA ARABUTÃ', '420130': 'CATARINA ARAQUARI', '420140': 'CATARINA ARARANGUÁ', '420150': 'CATARINA ARMAZÉM', '420160': 'CATARINA ARROIO TRINTA', '420165': 'CATARINA ARVOREDO', '420170': 'CATARINA ASCURRA', '420180': 'CATARINA ATALANTA', '420190': 'CATARINA AURORA', '420195': 'CATARINA BALNEÁRIO ARROIO DO SILVA', '420200': 'CATARINA BALNEÁRIO CAMBORIÚ', '420205': 'CATARINA BALNEÁRIO BARRA DO SUL', '420207': 'CATARINA BALNEÁRIO GAIVOTA', '420208': 'CATARINA BANDEIRANTE', '420209': 'CATARINA BARRA BONITA', '420210': 'CATARINA BARRA VELHA', '420213': 'CATARINA BELA VISTA DO TOLDO', '420215': 'CATARINA BELMONTE', '420220': 'CATARINA BENEDITO NOVO', '420230': 'CATARINA BIGUAÇU', '420240': 'CATARINA BLUMENAU', '420243': 'CATARINA BOCAINA DO SUL', '420245': 'CATARINA BOMBINHAS', '420250': 'CATARINA BOM JARDIM DA SERRA', '420253': 'CATARINA BOM JESUS', '420257': 'CATARINA BOM JESUS DO OESTE', '420260': 'CATARINA BOM RETIRO', '420270': 'CATARINA BOTUVERÁ', '420280': 'CATARINA BRAÇO DO NORTE', '420285': 'CATARINA BRAÇO DO TROMBUDO', '420287': 'CATARINA BRUNÓPOLIS', '420290': 'CATARINA BRUSQUE', '420300': 'CATARINA CAÇADOR', '420310': 'CATARINA CAIBI', '420315': 'CATARINA CALMON', '420320': 'CATARINA CAMBORIÚ', '420325': 'CATARINA CAPÃO ALTO', '420330': 'CATARINA CAMPO ALEGRE', '420340': 'CATARINA CAMPO BELO DO SUL', '420350': 'CATARINA CAMPO ERÊ', '420360': 'CATARINA CAMPOS NOVOS', '420370': 'CATARINA CANELINHA', '420380': 'CATARINA CANOINHAS', '420390': 'CATARINA CAPINZAL', '420395': 'CATARINA CAPIVARI DE BAIXO', '420400': 'CATARINA CATANDUVAS', '420410': 'CATARINA CAXAMBU DO SUL', '420415': 'CATARINA CELSO RAMOS', '420417': 'CATARINA CERRO NEGRO', '420419': 'CATARINA CHAPADÃO DO LAGEADO', '420420': 'CATARINA CHAPECÓ', '420425': 'CATARINA COCAL DO SUL', '420430': 'CATARINA CONCÓRDIA', '420435': 'CATARINA CORDILHEIRA ALTA', '420440': 'CATARINA CORONEL FREITAS', '420445': 'CATARINA CORONEL MARTINS', '420450': 'CATARINA CORUPÁ', '420455': 'CATARINA CORREIA PINTO', '420460': 'CATARINA CRICIÚMA', '420470': 'CATARINA CUNHA PORÃ', '420475': 'CATARINA CUNHATAÍ', '420480': 'CATARINA CURITIBANOS', '420490': 'CATARINA DESCANSO', '420500': 'CATARINA DIONÍSIO CERQUEIRA', '420510': 'CATARINA DONA EMMA', '420515': 'CATARINA DOUTOR PEDRINHO', '420517': 'CATARINA ENTRE RIOS', '420519': 'CATARINA ERMO', '420520': 'CATARINA ERVAL VELHO', '420530': 'CATARINA FAXINAL DOS GUEDES', '420535': 'CATARINA FLOR DO SERTÃO', '420540': 'CATARINA FLORIANÓPOLIS', '420543': 'CATARINA FORMOSA DO SUL', '420545': 'CATARINA FORQUILHINHA', '420550': 'CATARINA FRAIBURGO', '420555': 'CATARINA FREI ROGÉRIO', '420560': 'CATARINA GALVÃO', '420570': 'CATARINA GAROPABA', '420580': 'CATARINA GARUVA', '420590': 'CATARINA GASPAR', '420600': 'CATARINA GOVERNADOR CELSO RAMOS', '420610': 'CATARINA GRÃO PARÁ', '420620': 'CATARINA GRAVATAL', '420630': 'CATARINA GUABIRUBA', '420640': 'CATARINA GUARACIABA', '420650': 'CATARINA GUARAMIRIM', '420660': 'CATARINA GUARUJÁ DO SUL', '420665': 'CATARINA GUATAMBÚ', '420670': \"CATARINA HERVAL D'OESTE\", '420675': 'CATARINA IBIAM', '420680': 'CATARINA IBICARÉ', '420690': 'CATARINA IBIRAMA', '420700': 'CATARINA IÇARA', '420710': 'CATARINA ILHOTA', '420720': 'CATARINA IMARUÍ', '420730': 'CATARINA IMBITUBA', '420740': 'CATARINA IMBUIA', '420750': 'CATARINA INDAIAL', '420757': 'CATARINA IOMERÊ', '420760': 'CATARINA IPIRA', '420765': 'CATARINA IPORÃ DO OESTE', '420768': 'CATARINA IPUAÇU', '420770': 'CATARINA IPUMIRIM', '420775': 'CATARINA IRACEMINHA', '420780': 'CATARINA IRANI', '420785': 'CATARINA IRATI', '420790': 'CATARINA IRINEÓPOLIS', '420800': 'CATARINA ITÁ', '420810': 'CATARINA ITAIÓPOLIS', '420820': 'CATARINA ITAJAÍ', '420830': 'CATARINA ITAPEMA', '420840': 'CATARINA ITAPIRANGA', '420845': 'CATARINA ITAPOÁ', '420850': 'CATARINA ITUPORANGA', '420860': 'CATARINA JABORÁ', '420870': 'CATARINA JACINTO MACHADO', '420880': 'CATARINA JAGUARUNA', '420890': 'CATARINA JARAGUÁ DO SUL', '420895': 'CATARINA JARDINÓPOLIS', '420900': 'CATARINA JOAÇABA', '420910': 'CATARINA JOINVILLE', '420915': 'CATARINA JOSÉ BOITEUX', '420917': 'CATARINA JUPIÁ', '420920': 'CATARINA LACERDÓPOLIS', '420930': 'CATARINA LAGES', '420940': 'CATARINA LAGUNA', '420945': 'CATARINA LAJEADO GRANDE', '420950': 'CATARINA LAURENTINO', '420960': 'CATARINA LAURO MULLER', '420970': 'CATARINA LEBON RÉGIS', '420980': 'CATARINA LEOBERTO LEAL', '420985': 'CATARINA LINDÓIA DO SUL', '420990': 'CATARINA LONTRAS', '421000': 'CATARINA LUIZ ALVES', '421003': 'CATARINA LUZERNA', '421005': 'CATARINA MACIEIRA', '421010': 'CATARINA MAFRA', '421020': 'CATARINA MAJOR GERCINO', '421030': 'CATARINA MAJOR VIEIRA', '421040': 'CATARINA MARACAJÁ', '421050': 'CATARINA MARAVILHA', '421055': 'CATARINA MAREMA', '421060': 'CATARINA MASSARANDUBA', '421070': 'CATARINA MATOS COSTA', '421080': 'CATARINA MELEIRO', '421085': 'CATARINA MIRIM DOCE', '421090': 'CATARINA MODELO', '421100': 'CATARINA MONDAÍ', '421105': 'CATARINA MONTE CARLO', '421110': 'CATARINA MONTE CASTELO', '421120': 'CATARINA MORRO DA FUMAÇA', '421125': 'CATARINA MORRO GRANDE', '421130': 'CATARINA NAVEGANTES', '421140': 'CATARINA NOVA ERECHIM', '421145': 'CATARINA NOVA ITABERABA', '421150': 'CATARINA NOVA TRENTO', '421160': 'CATARINA NOVA VENEZA', '421165': 'CATARINA NOVO HORIZONTE', '421170': 'CATARINA ORLEANS', '421175': 'CATARINA OTACÍLIO COSTA', '421180': 'CATARINA OURO', '421185': 'CATARINA OURO VERDE', '421187': 'CATARINA PAIAL', '421189': 'CATARINA PAINEL', '421190': 'CATARINA PALHOÇA', '421200': 'CATARINA PALMA SOLA', '421205': 'CATARINA PALMEIRA', '421210': 'CATARINA PALMITOS', '421220': 'CATARINA PAPANDUVA', '421223': 'CATARINA PARAÍSO', '421225': 'CATARINA PASSO DE TORRES', '421227': 'CATARINA PASSOS MAIA', '421230': 'CATARINA PAULO LOPES', '421240': 'CATARINA PEDRAS GRANDES', '421250': 'CATARINA PENHA', '421260': 'CATARINA PERITIBA', '421270': 'CATARINA PETROLÂNDIA', '421280': 'CATARINA BALNEÁRIO PIÇARRAS', '421290': 'CATARINA PINHALZINHO', '421300': 'CATARINA PINHEIRO PRETO', '421310': 'CATARINA PIRATUBA', '421315': 'CATARINA PLANALTO ALEGRE', '421320': 'CATARINA POMERODE', '421330': 'CATARINA PONTE ALTA', '421335': 'CATARINA PONTE ALTA DO NORTE', '421340': 'CATARINA PONTE SERRADA', '421350': 'CATARINA PORTO BELO', '421360': 'CATARINA PORTO UNIÃO', '421370': 'CATARINA POUSO REDONDO', '421380': 'CATARINA PRAIA GRANDE', '421390': 'CATARINA PRESIDENTE CASTELLO BRANCO', '421400': 'CATARINA PRESIDENTE GETÚLIO', '421410': 'CATARINA PRESIDENTE NEREU', '421415': 'CATARINA PRINCESA', '421420': 'CATARINA QUILOMBO', '421430': 'CATARINA RANCHO QUEIMADO', '421440': 'CATARINA RIO DAS ANTAS', '421450': 'CATARINA RIO DO CAMPO', '421460': 'CATARINA RIO DO OESTE', '421470': 'CATARINA RIO DOS CEDROS', '421480': 'CATARINA RIO DO SUL', '421490': 'CATARINA RIO FORTUNA', '421500': 'CATARINA RIO NEGRINHO', '421505': 'CATARINA RIO RUFINO', '421507': 'CATARINA RIQUEZA', '421510': 'CATARINA RODEIO', '421520': 'CATARINA ROMELÂNDIA', '421530': 'CATARINA SALETE', '421535': 'CATARINA SALTINHO', '421540': 'CATARINA SALTO VELOSO', '421545': 'CATARINA SANGÃO', '421550': 'CATARINA SANTA CECÍLIA', '421555': 'CATARINA SANTA HELENA', '421560': 'CATARINA SANTA ROSA DE LIMA', '421565': 'CATARINA SANTA ROSA DO SUL', '421567': 'CATARINA SANTA TEREZINHA', '421568': 'CATARINA SANTA TEREZINHA DO PROGRESSO', '421569': 'CATARINA SANTIAGO DO SUL', '421570': 'CATARINA SANTO AMARO DA IMPERATRIZ', '421575': 'CATARINA SÃO BERNARDINO', '421580': 'CATARINA SÃO BENTO DO SUL', '421590': 'CATARINA SÃO BONIFÁCIO', '421600': 'CATARINA SÃO CARLOS', '421605': 'CATARINA SÃO CRISTOVÃO DO SUL', '421610': 'CATARINA SÃO DOMINGOS', '421620': 'CATARINA SÃO FRANCISCO DO SUL', '421625': 'CATARINA SÃO JOÃO DO OESTE', '421630': 'CATARINA SÃO JOÃO BATISTA', '421635': 'CATARINA SÃO JOÃO DO ITAPERIÚ', '421640': 'CATARINA SÃO JOÃO DO SUL', '421650': 'CATARINA SÃO JOAQUIM', '421660': 'CATARINA SÃO JOSÉ', '421670': 'CATARINA SÃO JOSÉ DO CEDRO', '421680': 'CATARINA SÃO JOSÉ DO CERRITO', '421690': 'CATARINA SÃO LOURENÇO DO OESTE', '421700': 'CATARINA SÃO LUDGERO', '421710': 'CATARINA SÃO MARTINHO', '421715': 'CATARINA SÃO MIGUEL DA BOA VISTA', '421720': 'CATARINA SÃO MIGUEL DO OESTE', '421725': 'CATARINA SÃO PEDRO DE ALCÂNTARA', '421730': 'CATARINA SAUDADES', '421740': 'CATARINA SCHROEDER', '421750': 'CATARINA SEARA', '421755': 'CATARINA SERRA ALTA', '421760': 'CATARINA SIDERÓPOLIS', '421770': 'CATARINA SOMBRIO', '421775': 'CATARINA SUL BRASIL', '421780': 'CATARINA TAIÓ', '421790': 'CATARINA TANGARÁ', '421795': 'CATARINA TIGRINHOS', '421800': 'CATARINA TIJUCAS', '421810': 'CATARINA TIMBÉ DO SUL', '421820': 'CATARINA TIMBÓ', '421825': 'CATARINA TIMBÓ GRANDE', '421830': 'CATARINA TRÊS BARRAS', '421835': 'CATARINA TREVISO', '421840': 'CATARINA TREZE DE MAIO', '421850': 'CATARINA TREZE TÍLIAS', '421860': 'CATARINA TROMBUDO CENTRAL', '421870': 'CATARINA TUBARÃO', '421875': 'CATARINA TUNÁPOLIS', '421880': 'CATARINA TURVO', '421885': 'CATARINA UNIÃO DO OESTE', '421890': 'CATARINA URUBICI', '421895': 'CATARINA URUPEMA', '421900': 'CATARINA URUSSANGA', '421910': 'CATARINA VARGEÃO', '421915': 'CATARINA VARGEM', '421917': 'CATARINA VARGEM BONITA', '421920': 'CATARINA VIDAL RAMOS', '421930': 'CATARINA VIDEIRA', '421935': 'CATARINA VITOR MEIRELES', '421940': 'CATARINA WITMARSUM', '421950': 'CATARINA XANXERÊ', '421960': 'CATARINA XAVANTINA', '421970': 'CATARINA XAXIM', '421985': 'CATARINA ZORTÉA', '16.679Total': '', '350010': 'PAULO ADAMANTINA', '350020': 'PAULO ADOLFO', '350030': 'PAULO AGUAÍ', '350040': 'PAULO ÁGUAS DA PRATA', '350050': 'PAULO ÁGUAS DE LINDÓIA', '350055': 'PAULO ÁGUAS DE SANTA BÁRBARA', '350060': 'PAULO ÁGUAS DE SÃO PEDRO', '350070': 'PAULO AGUDOS', '350075': 'PAULO ALAMBARI', '350080': 'PAULO ALFREDO MARCONDES', '350090': 'PAULO ALTAIR', '350100': 'PAULO ALTINÓPOLIS', '350110': 'PAULO ALTO ALEGRE', '350115': 'PAULO ALUMÍNIO', '350120': 'PAULO ÁLVARES FLORENCE', '350130': 'PAULO ÁLVARES MACHADO', '350140': 'PAULO ÁLVARO DE CARVALHO', '350150': 'PAULO ALVINLÂNDIA', '350160': 'PAULO AMERICANA', '350170': 'PAULO AMÉRICO BRASILIENSE', '350180': 'PAULO AMÉRICO DE CAMPOS', '350190': 'PAULO AMPARO', '350200': 'PAULO ANALÂNDIA', '350210': 'PAULO ANDRADINA', '350220': 'PAULO ANGATUBA', '350230': 'PAULO ANHEMBI', '350240': 'PAULO ANHUMAS', '350250': 'PAULO APARECIDA', '350260': \"PAULO APARECIDA D'OESTE\", '350270': 'PAULO APIAÍ', '350275': 'PAULO ARAÇARIGUAMA', '350280': 'PAULO ARAÇATUBA', '350290': 'PAULO ARAÇOIABA DA SERRA', '350300': 'PAULO ARAMINA', '350310': 'PAULO ARANDU', '350315': 'PAULO ARAPEÍ', '350320': 'PAULO ARARAQUARA', '350330': 'PAULO ARARAS', '350335': 'PAULO ARCO-ÍRIS', '350340': 'PAULO AREALVA', '350350': 'PAULO AREIAS', '350360': 'PAULO AREIÓPOLIS', '350370': 'PAULO ARIRANHA', '350380': 'PAULO ARTUR NOGUEIRA', '350390': 'PAULO ARUJÁ', '350395': 'PAULO ASPÁSIA', '350400': 'PAULO ASSIS', '350410': 'PAULO ATIBAIA', '350420': 'PAULO AURIFLAMA', '350430': 'PAULO AVAÍ', '350440': 'PAULO AVANHANDAVA', '350450': 'PAULO AVARÉ', '350460': 'PAULO BADY BASSITT', '350470': 'PAULO BALBINOS', '350480': 'PAULO BÁLSAMO', '350490': 'PAULO BANANAL', '350500': 'PAULO BARÃO DE ANTONINA', '350510': 'PAULO BARBOSA', '350520': 'PAULO BARIRI', '350530': 'PAULO BARRA BONITA', '350535': 'PAULO BARRA DO CHAPÉU', '350540': 'PAULO BARRA DO TURVO', '350550': 'PAULO BARRETOS', '350560': 'PAULO BARRINHA', '350570': 'PAULO BARUERI', '350580': 'PAULO BASTOS', '350590': 'PAULO BATATAIS', '350600': 'PAULO BAURU', '350610': 'PAULO BEBEDOURO', '350620': 'PAULO BENTO DE ABREU', '350630': 'PAULO BERNARDINO DE CAMPOS', '350635': 'PAULO BERTIOGA', '350640': 'PAULO BILAC', '350650': 'PAULO BIRIGUI', '350660': 'PAULO BIRITIBA-MIRIM', '350670': 'PAULO BOA ESPERANÇA DO SUL', '350680': 'PAULO BOCAINA', '350690': 'PAULO BOFETE', '350700': 'PAULO BOITUVA', '350710': 'PAULO BOM JESUS DOS PERDÕES', '350715': 'PAULO BOM SUCESSO DE ITARARÉ', '350720': 'PAULO BORÁ', '350730': 'PAULO BORACÉIA', '350740': 'PAULO BORBOREMA', '350745': 'PAULO BOREBI', '350750': 'PAULO BOTUCATU', '350760': 'PAULO BRAGANÇA PAULISTA', '350770': 'PAULO BRAÚNA', '350775': 'PAULO BREJO ALEGRE', '350780': 'PAULO BRODOWSKI', '350790': 'PAULO BROTAS', '350800': 'PAULO BURI', '350810': 'PAULO BURITAMA', '350820': 'PAULO BURITIZAL', '350830': 'PAULO CABRÁLIA PAULISTA', '350840': 'PAULO CABREÚVA', '350850': 'PAULO CAÇAPAVA', '350860': 'PAULO CACHOEIRA PAULISTA', '350870': 'PAULO CACONDE', '350880': 'PAULO CAFELÂNDIA', '350890': 'PAULO CAIABU', '350900': 'PAULO CAIEIRAS', '350910': 'PAULO CAIUÁ', '350920': 'PAULO CAJAMAR', '350925': 'PAULO CAJATI', '350930': 'PAULO CAJOBI', '350940': 'PAULO CAJURU', '350945': 'PAULO CAMPINA DO MONTE ALEGRE', '350950': 'PAULO CAMPINAS', '350960': 'PAULO CAMPO LIMPO PAULISTA', '350970': 'PAULO CAMPOS DO JORDÃO', '350980': 'PAULO CAMPOS NOVOS PAULISTA', '350990': 'PAULO CANANÉIA', '350995': 'PAULO CANAS', '351000': 'PAULO CÂNDIDO MOTA', '351010': 'PAULO CÂNDIDO RODRIGUES', '351015': 'PAULO CANITAR', '351020': 'PAULO CAPÃO BONITO', '351030': 'PAULO CAPELA DO ALTO', '351040': 'PAULO CAPIVARI', '351050': 'PAULO CARAGUATATUBA', '351060': 'PAULO CARAPICUÍBA', '351070': 'PAULO CARDOSO', '351080': 'PAULO CASA BRANCA', '351090': 'PAULO CÁSSIA DOS COQUEIROS', '351100': 'PAULO CASTILHO', '351110': 'PAULO CATANDUVA', '351120': 'PAULO CATIGUÁ', '351130': 'PAULO CEDRAL', '351140': 'PAULO CERQUEIRA CÉSAR', '351150': 'PAULO CERQUILHO', '351160': 'PAULO CESÁRIO LANGE', '351170': 'PAULO CHARQUEADA', '351190': 'PAULO CLEMENTINA', '351200': 'PAULO COLINA', '351210': 'PAULO COLÔMBIA', '351220': 'PAULO CONCHAL', '351230': 'PAULO CONCHAS', '351240': 'PAULO CORDEIRÓPOLIS', '351250': 'PAULO COROADOS', '351260': 'PAULO CORONEL MACEDO', '351270': 'PAULO CORUMBATAÍ', '351280': 'PAULO COSMÓPOLIS', '351290': 'PAULO COSMORAMA', '351300': 'PAULO COTIA', '351310': 'PAULO CRAVINHOS', '351320': 'PAULO CRISTAIS PAULISTA', '351330': 'PAULO CRUZÁLIA', '351340': 'PAULO CRUZEIRO', '351350': 'PAULO CUBATÃO', '351360': 'PAULO CUNHA', '351370': 'PAULO DESCALVADO', '351380': 'PAULO DIADEMA', '351385': 'PAULO DIRCE REIS', '351390': 'PAULO DIVINOLÂNDIA', '351400': 'PAULO DOBRADA', '351410': 'PAULO DOIS CÓRREGOS', '351420': 'PAULO DOLCINÓPOLIS', '351430': 'PAULO DOURADO', '351440': 'PAULO DRACENA', '351450': 'PAULO DUARTINA', '351460': 'PAULO DUMONT', '351470': 'PAULO ECHAPORÃ', '351480': 'PAULO ELDORADO', '351490': 'PAULO ELIAS FAUSTO', '351492': 'PAULO ELISIÁRIO', '351495': 'PAULO EMBAÚBA', '351500': 'PAULO EMBU DAS ARTES', '351510': 'PAULO EMBU-GUAÇU', '351512': 'PAULO EMILIANÓPOLIS', '351515': 'PAULO ENGENHEIRO COELHO', '351518': 'PAULO ESPÍRITO SANTO DO PINHAL', '351519': 'PAULO ESPÍRITO SANTO DO TURVO', '351520': \"PAULO ESTRELA D'OESTE\", '351530': 'PAULO ESTRELA DO NORTE', '351535': 'PAULO EUCLIDES DA CUNHA PAULISTA', '351540': 'PAULO FARTURA', '351550': 'PAULO FERNANDÓPOLIS', '351560': 'PAULO FERNANDO PRESTES', '351565': 'PAULO FERNÃO', '351570': 'PAULO FERRAZ DE VASCONCELOS', '351580': 'PAULO FLORA RICA', '351590': 'PAULO FLOREAL', '351600': 'PAULO FLÓRIDA PAULISTA', '351610': 'PAULO FLORÍNIA', '351620': 'PAULO FRANCA', '351630': 'PAULO FRANCISCO MORATO', '351640': 'PAULO FRANCO DA ROCHA', '351650': 'PAULO GABRIEL MONTEIRO', '351660': 'PAULO GÁLIA', '351670': 'PAULO GARÇA', '351680': 'PAULO GASTÃO VIDIGAL', '351685': 'PAULO GAVIÃO PEIXOTO', '351690': 'PAULO GENERAL SALGADO', '351700': 'PAULO GETULINA', '351710': 'PAULO GLICÉRIO', '351720': 'PAULO GUAIÇARA', '351730': 'PAULO GUAIMBÊ', '351740': 'PAULO GUAÍRA', '351750': 'PAULO GUAPIAÇU', '351760': 'PAULO GUAPIARA', '351770': 'PAULO GUARÁ', '351780': 'PAULO GUARAÇAÍ', '351790': 'PAULO GUARACI', '351800': \"PAULO GUARANI D'OESTE\", '351810': 'PAULO GUARANTÃ', '351820': 'PAULO GUARARAPES', '351830': 'PAULO GUARAREMA', '351840': 'PAULO GUARATINGUETÁ', '351850': 'PAULO GUAREÍ', '351860': 'PAULO GUARIBA', '351870': 'PAULO GUARUJÁ', '351880': 'PAULO GUARULHOS', '351885': 'PAULO GUATAPARÁ', '351890': 'PAULO GUZOLÂNDIA', '351900': 'PAULO HERCULÂNDIA', '351905': 'PAULO HOLAMBRA', '351907': 'PAULO HORTOLÂNDIA', '351910': 'PAULO IACANGA', '351920': 'PAULO IACRI', '351925': 'PAULO IARAS', '351930': 'PAULO IBATÉ', '351940': 'PAULO IBIRÁ', '351950': 'PAULO IBIRAREMA', '351960': 'PAULO IBITINGA', '351970': 'PAULO IBIÚNA', '351980': 'PAULO ICÉM', '351990': 'PAULO IEPÊ', '352000': 'PAULO IGARAÇU DO TIETÊ', '352010': 'PAULO IGARAPAVA', '352020': 'PAULO IGARATÁ', '352030': 'PAULO IGUAPE', '352040': 'PAULO ILHABELA', '352042': 'PAULO ILHA COMPRIDA', '352044': 'PAULO ILHA SOLTEIRA', '352050': 'PAULO INDAIATUBA', '352060': 'PAULO INDIANA', '352070': 'PAULO INDIAPORÃ', '352080': 'PAULO INÚBIA PAULISTA', '352090': 'PAULO IPAUSSU', '352100': 'PAULO IPERÓ', '352110': 'PAULO IPEÚNA', '352115': 'PAULO IPIGUÁ', '352120': 'PAULO IPORANGA', '352130': 'PAULO IPUÃ', '352140': 'PAULO IRACEMÁPOLIS', '352150': 'PAULO IRAPUÃ', '352160': 'PAULO IRAPURU', '352170': 'PAULO ITABERÁ', '352180': 'PAULO ITAÍ', '352190': 'PAULO ITAJOBI', '352200': 'PAULO ITAJU', '352210': 'PAULO ITANHAÉM', '352215': 'PAULO ITAÓCA', '352220': 'PAULO ITAPECERICA DA SERRA', '352230': 'PAULO ITAPETININGA', '352240': 'PAULO ITAPEVA', '352250': 'PAULO ITAPEVI', '352260': 'PAULO ITAPIRA', '352265': 'PAULO ITAPIRAPUÃ PAULISTA', '352270': 'PAULO ITÁPOLIS', '352280': 'PAULO ITAPORANGA', '352290': 'PAULO ITAPUÍ', '352300': 'PAULO ITAPURA', '352310': 'PAULO ITAQUAQUECETUBA', '352320': 'PAULO ITARARÉ', '352330': 'PAULO ITARIRI', '352340': 'PAULO ITATIBA', '352350': 'PAULO ITATINGA', '352360': 'PAULO ITIRAPINA', '352370': 'PAULO ITIRAPUÃ', '352380': 'PAULO ITOBI', '352390': 'PAULO ITU', '352400': 'PAULO ITUPEVA', '352410': 'PAULO ITUVERAVA', '352420': 'PAULO JABORANDI', '352430': 'PAULO JABOTICABAL', '352440': 'PAULO JACAREÍ', '352450': 'PAULO JACI', '352460': 'PAULO JACUPIRANGA', '352470': 'PAULO JAGUARIÚNA', '352480': 'PAULO JALES', '352490': 'PAULO JAMBEIRO', '352500': 'PAULO JANDIRA', '352510': 'PAULO JARDINÓPOLIS', '352520': 'PAULO JARINU', '352530': 'PAULO JAÚ', '352540': 'PAULO JERIQUARA', '352550': 'PAULO JOANÓPOLIS', '352560': 'PAULO JOÃO RAMALHO', '352570': 'PAULO JOSÉ BONIFÁCIO', '352580': 'PAULO JÚLIO MESQUITA', '352585': 'PAULO JUMIRIM', '352590': 'PAULO JUNDIAÍ', '352600': 'PAULO JUNQUEIRÓPOLIS', '352610': 'PAULO JUQUIÁ', '352620': 'PAULO JUQUITIBA', '352630': 'PAULO LAGOINHA', '352640': 'PAULO LARANJAL PAULISTA', '352650': 'PAULO LAVÍNIA', '352660': 'PAULO LAVRINHAS', '352670': 'PAULO LEME', '352680': 'PAULO LENÇÓIS PAULISTA', '352690': 'PAULO LIMEIRA', '352700': 'PAULO LINDÓIA', '352710': 'PAULO LINS', '352720': 'PAULO LORENA', '352725': 'PAULO LOURDES', '352730': 'PAULO LOUVEIRA', '352740': 'PAULO LUCÉLIA', '352750': 'PAULO LUCIANÓPOLIS', '352760': 'PAULO LUÍS ANTÔNIO', '352770': 'PAULO LUIZIÂNIA', '352780': 'PAULO LUPÉRCIO', '352790': 'PAULO LUTÉCIA', '352800': 'PAULO MACATUBA', '352810': 'PAULO MACAUBAL', '352820': 'PAULO MACEDÔNIA', '352830': 'PAULO MAGDA', '352840': 'PAULO MAIRINQUE', '352850': 'PAULO MAIRIPORÃ', '352860': 'PAULO MANDURI', '352870': 'PAULO MARABÁ PAULISTA', '352880': 'PAULO MARACAÍ', '352885': 'PAULO MARAPOAMA', '352890': 'PAULO MARIÁPOLIS', '352900': 'PAULO MARÍLIA', '352910': 'PAULO MARINÓPOLIS', '352920': 'PAULO MARTINÓPOLIS', '352930': 'PAULO MATÃO', '352940': 'PAULO MAUÁ', '352950': 'PAULO MENDONÇA', '352960': 'PAULO MERIDIANO', '352965': 'PAULO MESÓPOLIS', '352970': 'PAULO MIGUELÓPOLIS', '352980': 'PAULO MINEIROS DO TIETÊ', '352990': 'PAULO MIRACATU', '353000': 'PAULO MIRA ESTRELA', '353010': 'PAULO MIRANDÓPOLIS', '353020': 'PAULO MIRANTE DO PARANAPANEMA', '353030': 'PAULO MIRASSOL', '353040': 'PAULO MIRASSOLÂNDIA', '353050': 'PAULO MOCOCA', '353060': 'PAULO MOGI DAS CRUZES', '353070': 'PAULO MOGI GUAÇU', '353080': 'PAULO MOGI MIRIM', '353090': 'PAULO MOMBUCA', '353100': 'PAULO MONÇÕES', '353110': 'PAULO MONGAGUÁ', '353120': 'PAULO MONTE ALEGRE DO SUL', '353130': 'PAULO MONTE ALTO', '353140': 'PAULO MONTE APRAZÍVEL', '353150': 'PAULO MONTE AZUL PAULISTA', '353160': 'PAULO MONTE CASTELO', '353170': 'PAULO MONTEIRO LOBATO', '353180': 'PAULO MONTE MOR', '353190': 'PAULO MORRO AGUDO', '353200': 'PAULO MORUNGABA', '353205': 'PAULO MOTUCA', '353210': 'PAULO MURUTINGA DO SUL', '353215': 'PAULO NANTES', '353220': 'PAULO NARANDIBA', '353230': 'PAULO NATIVIDADE DA SERRA', '353240': 'PAULO NAZARÉ PAULISTA', '353250': 'PAULO NEVES PAULISTA', '353260': 'PAULO NHANDEARA', '353270': 'PAULO NIPOÃ', '353280': 'PAULO NOVA ALIANÇA', '353282': 'PAULO NOVA CAMPINA', '353284': 'PAULO NOVA CANAÃ PAULISTA', '353286': 'PAULO NOVA CASTILHO', '353290': 'PAULO NOVA EUROPA', '353300': 'PAULO NOVA GRANADA', '353310': 'PAULO NOVA GUATAPORANGA', '353320': 'PAULO NOVA INDEPENDÊNCIA', '353325': 'PAULO NOVAIS', '353330': 'PAULO NOVA LUZITÂNIA', '353340': 'PAULO NOVA ODESSA', '353350': 'PAULO NOVO HORIZONTE', '353360': 'PAULO NUPORANGA', '353370': 'PAULO OCAUÇU', '353380': 'PAULO ÓLEO', '353390': 'PAULO OLÍMPIA', '353400': 'PAULO ONDA VERDE', '353410': 'PAULO ORIENTE', '353420': 'PAULO ORINDIÚVA', '353430': 'PAULO ORLÂNDIA', '353440': 'PAULO OSASCO', '353450': 'PAULO OSCAR BRESSANE', '353460': 'PAULO OSVALDO CRUZ', '353470': 'PAULO OURINHOS', '353475': 'PAULO OUROESTE', '353480': 'PAULO OURO VERDE', '353490': 'PAULO PACAEMBU', '353500': 'PAULO PALESTINA', '353510': 'PAULO PALMARES PAULISTA', '353520': \"PAULO PALMEIRA D'OESTE\", '353530': 'PAULO PALMITAL', '353540': 'PAULO PANORAMA', '353550': 'PAULO PARAGUAÇU PAULISTA', '353560': 'PAULO PARAIBUNA', '353570': 'PAULO PARAÍSO', '353580': 'PAULO PARANAPANEMA', '353590': 'PAULO PARANAPUÃ', '353600': 'PAULO PARAPUÃ', '353610': 'PAULO PARDINHO', '353620': 'PAULO PARIQUERA-AÇU', '353625': 'PAULO PARISI', '353630': 'PAULO PATROCÍNIO PAULISTA', '353640': 'PAULO PAULICÉIA', '353650': 'PAULO PAULÍNIA', '353657': 'PAULO PAULISTÂNIA', '353660': 'PAULO PAULO DE FARIA', '353670': 'PAULO PEDERNEIRAS', '353680': 'PAULO PEDRA BELA', '353690': 'PAULO PEDRANÓPOLIS', '353700': 'PAULO PEDREGULHO', '353710': 'PAULO PEDREIRA', '353715': 'PAULO PEDRINHAS PAULISTA', '353720': 'PAULO PEDRO DE TOLEDO', '353730': 'PAULO PENÁPOLIS', '353740': 'PAULO PEREIRA BARRETO', '353750': 'PAULO PEREIRAS', '353760': 'PAULO PERUÍBE', '353770': 'PAULO PIACATU', '353780': 'PAULO PIEDADE', '353790': 'PAULO PILAR DO SUL', '353800': 'PAULO PINDAMONHANGABA', '353810': 'PAULO PINDORAMA', '353820': 'PAULO PINHALZINHO', '353830': 'PAULO PIQUEROBI', '353850': 'PAULO PIQUETE', '353860': 'PAULO PIRACAIA', '353870': 'PAULO PIRACICABA', '353880': 'PAULO PIRAJU', '353890': 'PAULO PIRAJUÍ', '353900': 'PAULO PIRANGI', '353910': 'PAULO PIRAPORA DO BOM JESUS', '353920': 'PAULO PIRAPOZINHO', '353930': 'PAULO PIRASSUNUNGA', '353940': 'PAULO PIRATININGA', '353950': 'PAULO PITANGUEIRAS', '353960': 'PAULO PLANALTO', '353970': 'PAULO PLATINA', '353980': 'PAULO POÁ', '353990': 'PAULO POLONI', '354000': 'PAULO POMPÉIA', '354010': 'PAULO PONGAÍ', '354020': 'PAULO PONTAL', '354025': 'PAULO PONTALINDA', '354030': 'PAULO PONTES GESTAL', '354040': 'PAULO POPULINA', '354050': 'PAULO PORANGABA', '354060': 'PAULO PORTO FELIZ', '354070': 'PAULO PORTO FERREIRA', '354075': 'PAULO POTIM', '354080': 'PAULO POTIRENDABA', '354085': 'PAULO PRACINHA', '354090': 'PAULO PRADÓPOLIS', '354100': 'PAULO PRAIA GRANDE', '354105': 'PAULO PRATÂNIA', '354110': 'PAULO PRESIDENTE ALVES', '354120': 'PAULO PRESIDENTE BERNARDES', '354130': 'PAULO PRESIDENTE EPITÁCIO', '354140': 'PAULO PRESIDENTE PRUDENTE', '354150': 'PAULO PRESIDENTE VENCESLAU', '354160': 'PAULO PROMISSÃO', '354165': 'PAULO QUADRA', '354170': 'PAULO QUATÁ', '354180': 'PAULO QUEIROZ', '354190': 'PAULO QUELUZ', '354200': 'PAULO QUINTANA', '354210': 'PAULO RAFARD', '354220': 'PAULO RANCHARIA', '354230': 'PAULO REDENÇÃO DA SERRA', '354240': 'PAULO REGENTE FEIJÓ', '354250': 'PAULO REGINÓPOLIS', '354260': 'PAULO REGISTRO', '354270': 'PAULO RESTINGA', '354280': 'PAULO RIBEIRA', '354290': 'PAULO RIBEIRÃO BONITO', '354300': 'PAULO RIBEIRÃO BRANCO', '354310': 'PAULO RIBEIRÃO CORRENTE', '354320': 'PAULO RIBEIRÃO DO SUL', '354323': 'PAULO RIBEIRÃO DOS ÍNDIOS', '354325': 'PAULO RIBEIRÃO GRANDE', '354330': 'PAULO RIBEIRÃO PIRES', '354340': 'PAULO RIBEIRÃO PRETO', '354350': 'PAULO RIVERSUL', '354360': 'PAULO RIFAINA', '354370': 'PAULO RINCÃO', '354380': 'PAULO RINÓPOLIS', '354390': 'PAULO RIO CLARO', '354400': 'PAULO RIO DAS PEDRAS', '354410': 'PAULO RIO GRANDE DA SERRA', '354420': 'PAULO RIOLÂNDIA', '354425': 'PAULO ROSANA', '354430': 'PAULO ROSEIRA', '354440': 'PAULO RUBIÁCEA', '354450': 'PAULO RUBINÉIA', '354460': 'PAULO SABINO', '354470': 'PAULO SAGRES', '354480': 'PAULO SALES', '354490': 'PAULO SALES OLIVEIRA', '354500': 'PAULO SALESÓPOLIS', '354510': 'PAULO SALMOURÃO', '354515': 'PAULO SALTINHO', '354520': 'PAULO SALTO', '354530': 'PAULO SALTO DE PIRAPORA', '354540': 'PAULO SALTO GRANDE', '354550': 'PAULO SANDOVALINA', '354560': 'PAULO SANTA ADÉLIA', '354570': 'PAULO SANTA ALBERTINA', '354580': \"PAULO SANTA BÁRBARA D'OESTE\", '354600': 'PAULO SANTA BRANCA', '354610': \"PAULO SANTA CLARA D'OESTE\", '354620': 'PAULO SANTA CRUZ DA CONCEIÇÃO', '354625': 'PAULO SANTA CRUZ DA ESPERANÇA', '354630': 'PAULO SANTA CRUZ DAS PALMEIRAS', '354640': 'PAULO SANTA CRUZ DO RIO PARDO', '354650': 'PAULO SANTA ERNESTINA', '354660': 'PAULO SANTA FÉ DO SUL', '354670': 'PAULO SANTA GERTRUDES', '354680': 'PAULO SANTA ISABEL', '354690': 'PAULO SANTA LÚCIA', '354700': 'PAULO SANTA MARIA DA SERRA', '354710': 'PAULO SANTA MERCEDES', '354720': 'PAULO SANTANA DA PONTE PENSA', '354730': 'PAULO SANTANA DE PARNAÍBA', '354740': \"PAULO SANTA RITA D'OESTE\", '354750': 'PAULO SANTA RITA DO PASSA QUATRO', '354760': 'PAULO SANTA ROSA DE VITERBO', '354765': 'PAULO SANTA SALETE', '354770': 'PAULO SANTO ANASTÁCIO', '354780': 'PAULO SANTO ANDRÉ', '354790': 'PAULO SANTO ANTÔNIO DA ALEGRIA', '354800': 'PAULO SANTO ANTÔNIO DE POSSE', '354805': 'PAULO SANTO ANTÔNIO DO ARACANGUÁ', '354810': 'PAULO SANTO ANTÔNIO DO JARDIM', '354820': 'PAULO SANTO ANTÔNIO DO PINHAL', '354830': 'PAULO SANTO EXPEDITO', '354840': 'PAULO SANTÓPOLIS DO AGUAPEÍ', '354850': 'PAULO SANTOS', '354860': 'PAULO SÃO BENTO DO SAPUCAÍ', '354870': 'PAULO SÃO BERNARDO DO CAMPO', '354880': 'PAULO SÃO CAETANO DO SUL', '354890': 'PAULO SÃO CARLOS', '354900': 'PAULO SÃO FRANCISCO', '354910': 'PAULO SÃO JOÃO DA BOA VISTA', '354920': 'PAULO SÃO JOÃO DAS DUAS PONTES', '354925': 'PAULO SÃO JOÃO DE IRACEMA', '354930': \"PAULO SÃO JOÃO DO PAU D'ALHO\", '354940': 'PAULO SÃO JOAQUIM DA BARRA', '354950': 'PAULO SÃO JOSÉ DA BELA VISTA', '354960': 'PAULO SÃO JOSÉ DO BARREIRO', '354970': 'PAULO SÃO JOSÉ DO RIO PARDO', '354980': 'PAULO SÃO JOSÉ DO RIO PRETO', '354990': 'PAULO SÃO JOSÉ DOS CAMPOS', '354995': 'PAULO SÃO LOURENÇO DA SERRA', '355000': 'PAULO SÃO LUÍS DO PARAITINGA', '355010': 'PAULO SÃO MANUEL', '355020': 'PAULO SÃO MIGUEL ARCANJO', '355030': 'PAULO SÃO PAULO', '355040': 'PAULO SÃO PEDRO', '355050': 'PAULO SÃO PEDRO DO TURVO', '355060': 'PAULO SÃO ROQUE', '355070': 'PAULO SÃO SEBASTIÃO', '355080': 'PAULO SÃO SEBASTIÃO DA GRAMA', '355090': 'PAULO SÃO SIMÃO', '355100': 'PAULO SÃO VICENTE', '355110': 'PAULO SARAPUÍ', '355120': 'PAULO SARUTAIÁ', '355130': 'PAULO SEBASTIANÓPOLIS DO SUL', '355140': 'PAULO SERRA AZUL', '355150': 'PAULO SERRANA', '355160': 'PAULO SERRA NEGRA', '355170': 'PAULO SERTÃOZINHO', '355180': 'PAULO SETE BARRAS', '355190': 'PAULO SEVERÍNIA', '355200': 'PAULO SILVEIRAS', '355210': 'PAULO SOCORRO', '355220': 'PAULO SOROCABA', '355230': 'PAULO SUD MENNUCCI', '355240': 'PAULO SUMARÉ', '355250': 'PAULO SUZANO', '355255': 'PAULO SUZANÁPOLIS', '355260': 'PAULO TABAPUÃ', '355270': 'PAULO TABATINGA', '355280': 'PAULO TABOÃO DA SERRA', '355290': 'PAULO TACIBA', '355300': 'PAULO TAGUAÍ', '355310': 'PAULO TAIAÇU', '355320': 'PAULO TAIÚVA', '355330': 'PAULO TAMBAÚ', '355340': 'PAULO TANABI', '355350': 'PAULO TAPIRAÍ', '355360': 'PAULO TAPIRATIBA', '355365': 'PAULO TAQUARAL', '355370': 'PAULO TAQUARITINGA', '355380': 'PAULO TAQUARITUBA', '355385': 'PAULO TAQUARIVAÍ', '355390': 'PAULO TARABAI', '355395': 'PAULO TARUMÃ', '355400': 'PAULO TATUÍ', '355410': 'PAULO TAUBATÉ', '355420': 'PAULO TEJUPÁ', '355430': 'PAULO TEODORO SAMPAIO', '355440': 'PAULO TERRA ROXA', '355450': 'PAULO TIETÊ', '355460': 'PAULO TIMBURI', '355465': 'PAULO TORRE DE PEDRA', '355470': 'PAULO TORRINHA', '355475': 'PAULO TRABIJU', '355480': 'PAULO TREMEMBÉ', '355490': 'PAULO TRÊS FRONTEIRAS', '355495': 'PAULO TUIUTI', '355500': 'PAULO TUPÃ', '355510': 'PAULO TUPI PAULISTA', '355520': 'PAULO TURIÚBA', '355530': 'PAULO TURMALINA', '355535': 'PAULO UBARANA', '355540': 'PAULO UBATUBA', '355550': 'PAULO UBIRAJARA', '355560': 'PAULO UCHOA', '355570': 'PAULO UNIÃO PAULISTA', '355580': 'PAULO URÂNIA', '355590': 'PAULO URU', '355600': 'PAULO URUPÊS', '355610': 'PAULO VALENTIM GENTIL', '355620': 'PAULO VALINHOS', '355630': 'PAULO VALPARAÍSO', '355635': 'PAULO VARGEM', '355640': 'PAULO VARGEM GRANDE DO SUL', '355645': 'PAULO VARGEM GRANDE PAULISTA', '355650': 'PAULO VÁRZEA PAULISTA', '355660': 'PAULO VERA CRUZ', '355670': 'PAULO VINHEDO', '355680': 'PAULO VIRADOURO', '355690': 'PAULO VISTA ALEGRE DO ALTO', '355695': 'PAULO VITÓRIA BRASIL', '355700': 'PAULO VOTORANTIM', '355710': 'PAULO VOTUPORANGA', '355715': 'PAULO ZACARIAS', '355720': 'PAULO CHAVANTES', '355730': 'PAULO ESTIVA GERBI', '106.787Total': '', '280010': 'AMPARO DE SÃO FRANCISCO', '280020': 'AQUIDABÃ', '280030': 'ARACAJU', '280040': 'ARAUÁ', '280050': 'AREIA BRANCA', '280060': 'BARRA DOS COQUEIROS', '280067': 'BOQUIM', '280070': 'BREJO GRANDE', '280100': 'CAMPO DO BRITO', '280110': 'CANHOBA', '280120': 'CANINDÉ DE SÃO FRANCISCO', '280130': 'CAPELA', '280140': 'CARIRA', '280150': 'CARMÓPOLIS', '280160': 'CEDRO DE SÃO JOÃO', '280170': 'CRISTINÁPOLIS', '280190': 'CUMBE', '280200': 'DIVINA PASTORA', '280210': 'ESTÂNCIA', '280220': 'FEIRA NOVA', '280230': 'FREI PAULO', '280240': 'GARARU', '280250': 'GENERAL MAYNARD', '280260': 'GRACHO CARDOSO', '280270': 'ILHA DAS FLORES', '280280': 'INDIAROBA', '280290': 'ITABAIANA', '280300': 'ITABAIANINHA', '280310': 'ITABI', '280320': \"ITAPORANGA D'AJUDA\", '280330': 'JAPARATUBA', '280340': 'JAPOATÃ', '280350': 'LAGARTO', '280360': 'LARANJEIRAS', '280370': 'MACAMBIRA', '280380': 'MALHADA DOS BOIS', '280390': 'MALHADOR', '280400': 'MARUIM', '280410': 'MOITA BONITA', '280420': 'MONTE ALEGRE DE SERGIPE', '280430': 'MURIBECA', '280440': 'NEÓPOLIS', '280445': 'NOSSA SENHORA APARECIDA', '280450': 'NOSSA SENHORA DA GLÓRIA', '280460': 'NOSSA SENHORA DAS DORES', '280470': 'NOSSA SENHORA DE LOURDES', '280480': 'NOSSA SENHORA DO SOCORRO', '280490': 'PACATUBA', '280500': 'PEDRA MOLE', '280510': 'PEDRINHAS', '280520': 'PINHÃO', '280530': 'PIRAMBU', '280540': 'POÇO REDONDO', '280550': 'POÇO VERDE', '280560': 'PORTO DA FOLHA', '280570': 'PROPRIÁ', '280580': 'RIACHÃO DO DANTAS', '280590': 'RIACHUELO', '280600': 'RIBEIRÓPOLIS', '280610': 'ROSÁRIO DO CATETE', '280620': 'SALGADO', '280630': 'SANTA LUZIA DO ITANHY', '280640': 'SANTANA DO SÃO FRANCISCO', '280650': 'SANTA ROSA DE LIMA', '280660': 'SANTO AMARO DAS BROTAS', '280670': 'SÃO CRISTÓVÃO', '280680': 'SÃO DOMINGOS', '280690': 'SÃO FRANCISCO', '280700': 'SÃO MIGUEL DO ALEIXO', '280710': 'SIMÃO DIAS', '280720': 'SIRIRI', '280730': 'TELHA', '280740': 'TOBIAS BARRETO', '280750': 'TOMAR DO GERU', '280760': 'UMBAÚBA', '5.258Total': '', '170025': 'ABREULÂNDIA', '170030': 'AGUIARNÓPOLIS', '170035': 'ALIANÇA DO TOCANTINS', '170040': 'ALMAS', '170070': 'ALVORADA', '170100': 'ANANÁS', '170105': 'ANGICO', '170110': 'APARECIDA DO RIO NEGRO', '170130': 'ARAGOMINAS', '170190': 'ARAGUACEMA', '170200': 'ARAGUAÇU', '170210': 'ARAGUAÍNA', '170215': 'ARAGUANÃ', '170220': 'ARAGUATINS', '170230': 'ARAPOEMA', '170240': 'ARRAIAS', '170255': 'AUGUSTINÓPOLIS', '170270': 'AURORA DO TOCANTINS', '170290': 'AXIXÁ DO TOCANTINS', '170300': 'BABAÇULÂNDIA', '170305': 'BANDEIRANTES DO TOCANTINS', '170307': 'BARRA DO OURO', '170310': 'BARROLÂNDIA', '170320': 'BERNARDO SAYÃO', '170330': 'BOM JESUS DO TOCANTINS', '170360': 'BRASILÂNDIA DO TOCANTINS', '170370': 'BREJINHO DE NAZARÉ', '170380': 'BURITI DO TOCANTINS', '170382': 'CACHOEIRINHA', '170384': 'CAMPOS LINDOS', '170386': 'CARIRI DO TOCANTINS', '170388': 'CARMOLÂNDIA', '170389': 'CARRASCO BONITO', '170390': 'CASEARA', '170410': 'CENTENÁRIO', '170460': 'CHAPADA DE AREIA', '170510': 'CHAPADA DA NATIVIDADE', '170550': 'COLINAS DO TOCANTINS', '170555': 'COMBINADO', '170560': 'CONCEIÇÃO DO TOCANTINS', '170600': 'COUTO MAGALHÃES', '170610': 'CRISTALÂNDIA', '170625': 'CRIXÁS DO TOCANTINS', '170650': 'DARCINÓPOLIS', '170700': 'DIANÓPOLIS', '170710': 'DIVINÓPOLIS DO TOCANTINS', '170720': 'DOIS IRMÃOS DO TOCANTINS', '170730': 'DUERÉ', '170740': 'ESPERANTINA', '170755': 'FÁTIMA', '170765': 'FIGUEIRÓPOLIS', '170770': 'FILADÉLFIA', '170820': 'FORMOSO DO ARAGUAIA', '170825': 'FORTALEZA DO TABOCÃO', '170830': 'GOIANORTE', '170900': 'GOIATINS', '170930': 'GUARAÍ', '170950': 'GURUPI', '170980': 'IPUEIRAS', '171050': 'ITACAJÁ', '171070': 'ITAGUATINS', '171090': 'ITAPIRATINS', '171110': 'ITAPORÃ DO TOCANTINS', '171150': 'JAÚ DO TOCANTINS', '171180': 'JUARINA', '171190': 'LAGOA DA CONFUSÃO', '171195': 'LAGOA DO TOCANTINS', '171200': 'LAJEADO', '171215': 'LAVANDEIRA', '171240': 'LIZARDA', '171245': 'LUZINÓPOLIS', '171250': 'MARIANÓPOLIS DO TOCANTINS', '171270': 'MATEIROS', '171280': 'MAURILÂNDIA DO TOCANTINS', '171320': 'MIRACEMA DO TOCANTINS', '171330': 'MIRANORTE', '171360': 'MONTE DO CARMO', '171370': 'MONTE SANTO DO TOCANTINS', '171380': 'PALMEIRAS DO TOCANTINS', '171395': 'MURICILÂNDIA', '171420': 'NATIVIDADE', '171430': 'NAZARÉ', '171488': 'NOVA OLINDA', '171500': 'NOVA ROSALÂNDIA', '171510': 'NOVO ACORDO', '171515': 'NOVO ALEGRE', '171525': 'NOVO JARDIM', '171550': 'OLIVEIRA DE FÁTIMA', '171570': 'PALMEIRANTE', '171575': 'PALMEIRÓPOLIS', '171610': 'PARAÍSO DO TOCANTINS', '171620': 'PARANÃ', '171630': \"PAU D'ARCO\", '171650': 'PEDRO AFONSO', '171660': 'PEIXE', '171665': 'PEQUIZEIRO', '171670': 'COLMÉIA', '171700': 'PINDORAMA DO TOCANTINS', '171720': 'PIRAQUÊ', '171750': 'PIUM', '171780': 'PONTE ALTA DO BOM JESUS', '171790': 'PONTE ALTA DO TOCANTINS', '171800': 'PORTO ALEGRE DO TOCANTINS', '171820': 'PORTO NACIONAL', '171830': 'PRAIA NORTE', '171840': 'PRESIDENTE KENNEDY', '171845': 'PUGMIL', '171850': 'RECURSOLÂNDIA', '171855': 'RIACHINHO', '171865': 'RIO DA CONCEIÇÃO', '171870': 'RIO DOS BOIS', '171875': 'RIO SONO', '171880': 'SAMPAIO', '171884': 'SANDOLÂNDIA', '171886': 'SANTA FÉ DO ARAGUAIA', '171888': 'SANTA MARIA DO TOCANTINS', '171889': 'SANTA RITA DO TOCANTINS', '171890': 'SANTA ROSA DO TOCANTINS', '171900': 'SANTA TEREZA DO TOCANTINS', '172000': 'SANTA TEREZINHA DO TOCANTINS', '172010': 'SÃO BENTO DO TOCANTINS', '172015': 'SÃO FÉLIX DO TOCANTINS', '172020': 'SÃO MIGUEL DO TOCANTINS', '172025': 'SÃO SALVADOR DO TOCANTINS', '172030': 'SÃO SEBASTIÃO DO TOCANTINS', '172049': 'SÃO VALÉRIO', '172065': 'SILVANÓPOLIS', '172080': 'SÍTIO NOVO DO TOCANTINS', '172085': 'SUCUPIRA', '172090': 'TAGUATINGA', '172093': 'TAIPAS DO TOCANTINS', '172097': 'TALISMÃ', '172100': 'PALMAS', '172110': 'TOCANTÍNIA', '172120': 'TOCANTINÓPOLIS', '172125': 'TUPIRAMA', '172130': 'TUPIRATINS', '172208': 'WANDERLÂNDIA', '172210': 'XAMBIOÁ', '4.268Total': ''}\n"
     ]
    }
   ],
   "source": [
    "arquivo = 'Nomes_cidades_externas'\n",
    "codigo_cidade_externa = {}\n",
    "\n",
    "with open(arquivo, 'r') as f:\n",
    "    linhas = f.readlines()\n",
    "\n",
    "for linha in linhas:\n",
    "    partes = linha.split()    \n",
    "    codigo_cid = partes[0]\n",
    "    \n",
    "    nome_cidade = ' '.join(partes[2:-1])\n",
    "    codigo_cidade_externa[codigo_cid] = nome_cidade\n",
    "\n",
    "print(codigo_cidade_externa)"
   ]
  },
  {
   "cell_type": "code",
   "execution_count": 32,
   "id": "4a4e53e8-c7f9-4f70-a432-7e9d1290a96b",
   "metadata": {},
   "outputs": [
    {
     "name": "stdout",
     "output_type": "stream",
     "text": [
      "        SP_UF SP_AA SP_MM  SP_CNES        SP_NAIH  SP_PROCREA SP_DTINTER  \\\n",
      "0          43  2023    09  2235420  4323106259714  0303140151   20230812   \n",
      "1          43  2023    09  2235420  4323106259714  0303140151   20230812   \n",
      "2          43  2023    09  2235420  4323106259714  0303140151   20230812   \n",
      "3          43  2023    09  2235420  4323106259714  0303140151   20230812   \n",
      "4          43  2023    09  2235420  4323106259714  0303140151   20230812   \n",
      "...       ...   ...   ...      ...            ...         ...        ...   \n",
      "1019588    43  2023    09  2232022  4323104173168  0303130067   20230522   \n",
      "1019589    43  2023    09  2232022  4323104173168  0303130067   20230522   \n",
      "1019590    43  2023    09  2232022  4323104173168  0303130067   20230522   \n",
      "1019591    43  2023    09  2232022  4323104173168  0303130067   20230522   \n",
      "1019592    43  2023    09  2232022  4323104173168  0303130067   20230522   \n",
      "\n",
      "        SP_DTSAIDA  SP_ATOPROF       SP_VALATO SP_M_HOSP SP_M_PAC SP_DES_HOS  \\\n",
      "0         20230814  0204030153            0.00    431610   431610          0   \n",
      "1         20230814  0202020380            0.00    431610   431610          0   \n",
      "2         20230814  0202020029            0.00    431610   431610          0   \n",
      "3         20230814  0202010317            0.00    431610   431610          0   \n",
      "4         20230814  0202010473            0.00    431610   431610          0   \n",
      "...            ...         ...             ...       ...      ...        ...   \n",
      "1019588   20230605  0302040021           65.38    431870   431870          0   \n",
      "1019589   20230605  0302060022           38.10    431870   431870          0   \n",
      "1019590   20230605  0202010317            0.00    431870   431870          0   \n",
      "1019591   20230605  0202010600            0.00    431870   431870          0   \n",
      "1019592   20230605  0202010635            0.00    431870   431870          0   \n",
      "\n",
      "        SP_DES_PAC SP_QT_PROC   SP_CIDADE_H   SP_CIDADE_P SP_CIDADE_P_EXT  \n",
      "0                0          1    RONDA ALTA    RONDA ALTA            None  \n",
      "1                0          1    RONDA ALTA    RONDA ALTA            None  \n",
      "2                0          1    RONDA ALTA    RONDA ALTA            None  \n",
      "3                0          1    RONDA ALTA    RONDA ALTA            None  \n",
      "4                0          1    RONDA ALTA    RONDA ALTA            None  \n",
      "...            ...        ...           ...           ...             ...  \n",
      "1019588          0         14  SÃO LEOPOLDO  SÃO LEOPOLDO            None  \n",
      "1019589          0          6  SÃO LEOPOLDO  SÃO LEOPOLDO            None  \n",
      "1019590          0          3  SÃO LEOPOLDO  SÃO LEOPOLDO            None  \n",
      "1019591          0          3  SÃO LEOPOLDO  SÃO LEOPOLDO            None  \n",
      "1019592          0          3  SÃO LEOPOLDO  SÃO LEOPOLDO            None  \n",
      "\n",
      "[1019593 rows x 18 columns]\n"
     ]
    }
   ],
   "source": [
    "def verifica_cidade_exterior(sp_m_pac):\n",
    "    if sp_m_pac not in codigo_cidade:\n",
    "        return codigo_cidade_externa.get(sp_m_pac, 'Cidade do RS')\n",
    "    else:\n",
    "        return None\n",
    "data_clean['SP_CIDADE_P_EXT'] = data_clean['SP_M_PAC'].apply(lambda x: verifica_cidade_exterior(x))\n",
    "print(data_clean)"
   ]
  },
  {
   "cell_type": "code",
   "execution_count": 33,
   "id": "b7ae586d-b727-4088-81fe-82ceea343311",
   "metadata": {},
   "outputs": [
    {
     "name": "stdout",
     "output_type": "stream",
     "text": [
      "[None 'PAULO SÃO BERNARDO DO CAMPO' 'TAPEJARA' 'CATARINA PASSO DE TORRES'\n",
      " 'MANAUS' 'DE JANEIRO SAPUCAIA' 'NOVA SANTA RITA'\n",
      " 'CATARINA CHAPADÃO DO LAGEADO' 'SAPUCAIA' 'SOBRADINHO'\n",
      " 'CATARINA PETROLÂNDIA' 'CATARINA CONCÓRDIA' 'CATARINA GAROPABA'\n",
      " 'CATARINA FLORIANÓPOLIS' 'URUCURITUBA' 'SANTA ISABEL DO IVAÍ'\n",
      " 'PORTO VELHO' 'CATARINA ITAJAÍ' 'CATARINA JOINVILLE'\n",
      " 'CATARINA SÃO CARLOS' 'GERAIS GOVERNADOR VALADARES' 'Cidade do RS'\n",
      " 'CATARINA SÃO MIGUEL DO OESTE' 'CATARINA TUBARÃO' 'CATARINA ARARANGUÁ'\n",
      " 'CATARINA INDAIAL' 'CACOAL' 'GERAIS ARAGUARI' 'SANTO SERRA' 'SALVADOR'\n",
      " 'GERAIS SANTO ANTÔNIO DO MONTE' 'BRASÍLIA' 'PIRAQUARA' 'PAULO SÃO PAULO'\n",
      " 'APUCARANA' 'PAULO CAÇAPAVA' 'BOA ESPERANÇA DO IGUAÇU' 'UMUARAMA'\n",
      " 'DE JANEIRO SÃO GONÇALO' 'MACAPÁ' 'GERAIS CONTAGEM' 'CATARINA ITAPEMA'\n",
      " 'MARAÚ' 'CATARINA ITAPIRANGA' 'CAMBÉ' 'CATARINA FORQUILHINHA'\n",
      " 'PAULO PIRASSUNUNGA' 'SARANDI' 'PAULO GUARAREMA' 'DE JANEIRO QUEIMADOS'\n",
      " 'PAULO SÃO CAETANO DO SUL' 'CURITIBA' 'CATARINA GRÃO PARÁ'\n",
      " 'HONÓRIO SERPA' 'CATARINA BALNEÁRIO ARROIO DO SILVA' 'CATARINA SOMBRIO'\n",
      " 'DE JANEIRO RIO DE JANEIRO' 'ARIQUEMES' 'CATARINA TURVO'\n",
      " 'CATARINA URUBICI' 'PONTA GROSSA' 'CATARINA IÇARA' 'CATARINA CRICIÚMA'\n",
      " 'CASCAVEL' 'CATARINA CHAPECÓ' 'LARANJEIRAS DO SUL' 'CATARINA PALHOÇA'\n",
      " 'CATARINA SÃO JOAQUIM' 'SÃO MIGUEL DO GUAPORÉ' 'PAULO POÁ' 'SOLEDADE'\n",
      " 'CATARINA NAVEGANTES' 'ENTRE RIOS' 'PAULO MAUÁ' 'CATARINA TIJUCAS'\n",
      " 'ALMIRANTE TAMANDARÉ' 'CATARINA BALNEÁRIO PIÇARRAS'\n",
      " 'GERAIS IMBÉ DE MINAS' 'GROSSO COLÍDER' 'MONTE NEGRO' 'CATARINA SÃO JOSÉ'\n",
      " 'RURÓPOLIS' 'PACARAIMA' 'ARAIOSES' 'EPITACIOLÂNDIA' 'RIO AZUL']\n"
     ]
    }
   ],
   "source": [
    "tipos_dados = data_clean['SP_CIDADE_P_EXT'].unique()\n",
    "print(tipos_dados)"
   ]
  },
  {
   "cell_type": "markdown",
   "id": "d66ae217-5b5c-47fc-8423-8a22945dfaee",
   "metadata": {},
   "source": [
    "#### Limpando a coluna de cidades de fora do RS"
   ]
  },
  {
   "cell_type": "code",
   "execution_count": 34,
   "id": "7afb5f2d-8edc-44bd-aefb-b0458bdec342",
   "metadata": {},
   "outputs": [
    {
     "name": "stdout",
     "output_type": "stream",
     "text": [
      "[None 'SÃO BERNARDO DO CAMPO' 'TAPEJARA' 'PASSO DE TORRES' 'MANAUS'\n",
      " 'SAPUCAIA' 'NOVA SANTA RITA' 'CHAPADÃO DO LAGEADO' 'SOBRADINHO'\n",
      " 'PETROLÂNDIA' 'CONCÓRDIA' 'GAROPABA' 'FLORIANÓPOLIS' 'URUCURITUBA'\n",
      " 'SANTA ISABEL DO IVAÍ' 'PORTO VELHO' 'ITAJAÍ' 'JOINVILLE' 'SÃO CARLOS'\n",
      " 'GOVERNADOR VALADARES' 'Cidade do RS' 'SÃO MIGUEL DO OESTE' 'TUBARÃO'\n",
      " 'ARARANGUÁ' 'INDAIAL' 'CACOAL' 'ARAGUARI' 'SANTO SERRA' 'SALVADOR'\n",
      " 'SANTO ANTÔNIO DO MONTE' 'BRASÍLIA' 'PIRAQUARA' 'SÃO PAULO' 'APUCARANA'\n",
      " 'CAÇAPAVA' 'BOA ESPERANÇA DO IGUAÇU' 'UMUARAMA' 'SÃO GONÇALO' 'MACAPÁ'\n",
      " 'CONTAGEM' 'ITAPEMA' 'MARAÚ' 'ITAPIRANGA' 'CAMBÉ' 'FORQUILHINHA'\n",
      " 'PIRASSUNUNGA' 'SARANDI' 'GUARAREMA' 'QUEIMADOS' 'SÃO CAETANO DO SUL'\n",
      " 'CURITIBA' 'GRÃO PARÁ' 'HONÓRIO SERPA' 'BALNEÁRIO ARROIO DO SILVA'\n",
      " 'SOMBRIO' 'RIO DE JANEIRO' 'ARIQUEMES' 'TURVO' 'URUBICI' 'PONTA GROSSA'\n",
      " 'IÇARA' 'CRICIÚMA' 'CASCAVEL' 'CHAPECÓ' 'LARANJEIRAS DO SUL' 'PALHOÇA'\n",
      " 'SÃO JOAQUIM' 'SÃO MIGUEL DO GUAPORÉ' 'POÁ' 'SOLEDADE' 'NAVEGANTES'\n",
      " 'ENTRE RIOS' 'MAUÁ' 'TIJUCAS' 'ALMIRANTE TAMANDARÉ' 'BALNEÁRIO PIÇARRAS'\n",
      " 'IMBÉ DE MINAS' 'COLÍDER' 'MONTE NEGRO' 'SÃO JOSÉ' 'RURÓPOLIS'\n",
      " 'PACARAIMA' 'ARAIOSES' 'EPITACIOLÂNDIA' 'RIO AZUL']\n"
     ]
    }
   ],
   "source": [
    "substituicoes = {\n",
    "    'CATARINA': '',\n",
    "    'GERAIS ': '',\n",
    "    'PAULO ': '',\n",
    "    'DE JANEIRO ': '',\n",
    "    'GROSSO DO SUL ': '',\n",
    "    'GROSSO ': ''\n",
    "}\n",
    "\n",
    "data_clean['SP_CIDADE_P_EXT'] = data_clean['SP_CIDADE_P_EXT'].replace(substituicoes, regex=True).str.strip()\n",
    "\n",
    "tipos_dados = data_clean['SP_CIDADE_P_EXT'].unique()\n",
    "print(tipos_dados)"
   ]
  },
  {
   "cell_type": "code",
   "execution_count": 35,
   "id": "077c2c5b-90aa-4ea1-94f6-b046526b90e2",
   "metadata": {},
   "outputs": [
    {
     "name": "stdout",
     "output_type": "stream",
     "text": [
      "        SP_UF SP_AA SP_MM  SP_CNES        SP_NAIH  SP_PROCREA SP_DTINTER  \\\n",
      "0          43  2023    09  2235420  4323106259714  0303140151   20230812   \n",
      "1          43  2023    09  2235420  4323106259714  0303140151   20230812   \n",
      "2          43  2023    09  2235420  4323106259714  0303140151   20230812   \n",
      "3          43  2023    09  2235420  4323106259714  0303140151   20230812   \n",
      "4          43  2023    09  2235420  4323106259714  0303140151   20230812   \n",
      "...       ...   ...   ...      ...            ...         ...        ...   \n",
      "1019588    43  2023    09  2232022  4323104173168  0303130067   20230522   \n",
      "1019589    43  2023    09  2232022  4323104173168  0303130067   20230522   \n",
      "1019590    43  2023    09  2232022  4323104173168  0303130067   20230522   \n",
      "1019591    43  2023    09  2232022  4323104173168  0303130067   20230522   \n",
      "1019592    43  2023    09  2232022  4323104173168  0303130067   20230522   \n",
      "\n",
      "        SP_DTSAIDA  SP_ATOPROF       SP_VALATO SP_M_HOSP SP_M_PAC SP_DES_HOS  \\\n",
      "0         20230814  0204030153            0.00    431610   431610          0   \n",
      "1         20230814  0202020380            0.00    431610   431610          0   \n",
      "2         20230814  0202020029            0.00    431610   431610          0   \n",
      "3         20230814  0202010317            0.00    431610   431610          0   \n",
      "4         20230814  0202010473            0.00    431610   431610          0   \n",
      "...            ...         ...             ...       ...      ...        ...   \n",
      "1019588   20230605  0302040021           65.38    431870   431870          0   \n",
      "1019589   20230605  0302060022           38.10    431870   431870          0   \n",
      "1019590   20230605  0202010317            0.00    431870   431870          0   \n",
      "1019591   20230605  0202010600            0.00    431870   431870          0   \n",
      "1019592   20230605  0202010635            0.00    431870   431870          0   \n",
      "\n",
      "        SP_DES_PAC SP_QT_PROC   SP_CIDADE_H   SP_CIDADE_P SP_CIDADE_P_EXT  \n",
      "0                0          1    RONDA ALTA    RONDA ALTA    Cidade do RS  \n",
      "1                0          1    RONDA ALTA    RONDA ALTA    Cidade do RS  \n",
      "2                0          1    RONDA ALTA    RONDA ALTA    Cidade do RS  \n",
      "3                0          1    RONDA ALTA    RONDA ALTA    Cidade do RS  \n",
      "4                0          1    RONDA ALTA    RONDA ALTA    Cidade do RS  \n",
      "...            ...        ...           ...           ...             ...  \n",
      "1019588          0         14  SÃO LEOPOLDO  SÃO LEOPOLDO    Cidade do RS  \n",
      "1019589          0          6  SÃO LEOPOLDO  SÃO LEOPOLDO    Cidade do RS  \n",
      "1019590          0          3  SÃO LEOPOLDO  SÃO LEOPOLDO    Cidade do RS  \n",
      "1019591          0          3  SÃO LEOPOLDO  SÃO LEOPOLDO    Cidade do RS  \n",
      "1019592          0          3  SÃO LEOPOLDO  SÃO LEOPOLDO    Cidade do RS  \n",
      "\n",
      "[1019593 rows x 18 columns]\n"
     ]
    },
    {
     "name": "stderr",
     "output_type": "stream",
     "text": [
      "/tmp/ipykernel_7856/3527762726.py:2: FutureWarning: A value is trying to be set on a copy of a DataFrame or Series through chained assignment using an inplace method.\n",
      "The behavior will change in pandas 3.0. This inplace method will never work because the intermediate object on which we are setting values always behaves as a copy.\n",
      "\n",
      "For example, when doing 'df[col].method(value, inplace=True)', try using 'df.method({col: value}, inplace=True)' or df[col] = df[col].method(value) instead, to perform the operation inplace on the original object.\n",
      "\n",
      "\n",
      "  data_clean['SP_CIDADE_P_EXT'].fillna('Cidade do RS', inplace=True)\n"
     ]
    }
   ],
   "source": [
    "# Substituir todos os valores None por 'Cidade do RS' na coluna SP_CIDADE_P_EXT\n",
    "data_clean['SP_CIDADE_P_EXT'].fillna('Cidade do RS', inplace=True)\n",
    "print(data_clean)"
   ]
  },
  {
   "cell_type": "code",
   "execution_count": 36,
   "id": "b07d2027-174e-45c7-b194-123187a8e5e5",
   "metadata": {},
   "outputs": [
    {
     "data": {
      "text/plain": [
       "SP_CIDADE_P_EXT\n",
       "Cidade do RS             1016169\n",
       "IÇARA                        206\n",
       "PASSO DE TORRES              179\n",
       "GAROPABA                     164\n",
       "SÃO MIGUEL DO GUAPORÉ        147\n",
       "                          ...   \n",
       "RIO DE JANEIRO                 3\n",
       "CASCAVEL                       3\n",
       "ALMIRANTE TAMANDARÉ            2\n",
       "CONTAGEM                       2\n",
       "EPITACIOLÂNDIA                 2\n",
       "Name: count, Length: 84, dtype: int64"
      ]
     },
     "execution_count": 36,
     "metadata": {},
     "output_type": "execute_result"
    }
   ],
   "source": [
    "contando_dados= data_clean['SP_CIDADE_P_EXT'].value_counts()\n",
    "contando_dados"
   ]
  },
  {
   "cell_type": "code",
   "execution_count": 37,
   "id": "3f06de85-2540-4fc7-b826-831c9e9cd01e",
   "metadata": {},
   "outputs": [
    {
     "name": "stderr",
     "output_type": "stream",
     "text": [
      "/tmp/ipykernel_7856/321287065.py:1: FutureWarning: A value is trying to be set on a copy of a DataFrame or Series through chained assignment using an inplace method.\n",
      "The behavior will change in pandas 3.0. This inplace method will never work because the intermediate object on which we are setting values always behaves as a copy.\n",
      "\n",
      "For example, when doing 'df[col].method(value, inplace=True)', try using 'df.method({col: value}, inplace=True)' or df[col] = df[col].method(value) instead, to perform the operation inplace on the original object.\n",
      "\n",
      "\n",
      "  data_clean['SP_CIDADE_P'].fillna('Cidade de fora do RS', inplace=True)\n"
     ]
    }
   ],
   "source": [
    "data_clean['SP_CIDADE_P'].fillna('Cidade de fora do RS', inplace=True)"
   ]
  },
  {
   "cell_type": "code",
   "execution_count": 38,
   "id": "f68eea6c-bd9a-43cc-a7f0-5c31035da225",
   "metadata": {},
   "outputs": [
    {
     "name": "stdout",
     "output_type": "stream",
     "text": [
      "Total de valores nulos na coluna 'SP_CIDADE_P': 0\n",
      "Total de valores nulos na coluna 'SP_CIDADE_P_EXT': 0\n",
      "Total de valores nulos na coluna 'SP_CIDADE_H': 0\n"
     ]
    }
   ],
   "source": [
    "nulos_p = data_clean['SP_CIDADE_P'].isna().sum()\n",
    "nulos_ext = data_clean['SP_CIDADE_P_EXT'].isna().sum()\n",
    "nulos_h = data_clean['SP_CIDADE_H'].isna().sum()\n",
    "print(f\"Total de valores nulos na coluna 'SP_CIDADE_P': {nulos_p}\")\n",
    "print(f\"Total de valores nulos na coluna 'SP_CIDADE_P_EXT': {nulos_ext}\")\n",
    "print(f\"Total de valores nulos na coluna 'SP_CIDADE_H': {nulos_h}\")"
   ]
  },
  {
   "cell_type": "code",
   "execution_count": 39,
   "id": "1b0391cd-3f74-46ff-99c2-276f120e3955",
   "metadata": {},
   "outputs": [
    {
     "name": "stdout",
     "output_type": "stream",
     "text": [
      "        SP_UF SP_AA SP_MM  SP_CNES        SP_NAIH  SP_PROCREA SP_DTINTER  \\\n",
      "0          43  2023    09  2235420  4323106259714  0303140151   20230812   \n",
      "1          43  2023    09  2235420  4323106259714  0303140151   20230812   \n",
      "2          43  2023    09  2235420  4323106259714  0303140151   20230812   \n",
      "3          43  2023    09  2235420  4323106259714  0303140151   20230812   \n",
      "4          43  2023    09  2235420  4323106259714  0303140151   20230812   \n",
      "...       ...   ...   ...      ...            ...         ...        ...   \n",
      "1019588    43  2023    09  2232022  4323104173168  0303130067   20230522   \n",
      "1019589    43  2023    09  2232022  4323104173168  0303130067   20230522   \n",
      "1019590    43  2023    09  2232022  4323104173168  0303130067   20230522   \n",
      "1019591    43  2023    09  2232022  4323104173168  0303130067   20230522   \n",
      "1019592    43  2023    09  2232022  4323104173168  0303130067   20230522   \n",
      "\n",
      "        SP_DTSAIDA  SP_ATOPROF       SP_VALATO SP_M_HOSP SP_M_PAC SP_DES_HOS  \\\n",
      "0         20230814  0204030153            0.00    431610   431610          0   \n",
      "1         20230814  0202020380            0.00    431610   431610          0   \n",
      "2         20230814  0202020029            0.00    431610   431610          0   \n",
      "3         20230814  0202010317            0.00    431610   431610          0   \n",
      "4         20230814  0202010473            0.00    431610   431610          0   \n",
      "...            ...         ...             ...       ...      ...        ...   \n",
      "1019588   20230605  0302040021           65.38    431870   431870          0   \n",
      "1019589   20230605  0302060022           38.10    431870   431870          0   \n",
      "1019590   20230605  0202010317            0.00    431870   431870          0   \n",
      "1019591   20230605  0202010600            0.00    431870   431870          0   \n",
      "1019592   20230605  0202010635            0.00    431870   431870          0   \n",
      "\n",
      "        SP_DES_PAC SP_QT_PROC   SP_CIDADE_H   SP_CIDADE_P SP_CIDADE_P_EXT  \n",
      "0                0          1    RONDA ALTA    RONDA ALTA    Cidade do RS  \n",
      "1                0          1    RONDA ALTA    RONDA ALTA    Cidade do RS  \n",
      "2                0          1    RONDA ALTA    RONDA ALTA    Cidade do RS  \n",
      "3                0          1    RONDA ALTA    RONDA ALTA    Cidade do RS  \n",
      "4                0          1    RONDA ALTA    RONDA ALTA    Cidade do RS  \n",
      "...            ...        ...           ...           ...             ...  \n",
      "1019588          0         14  SÃO LEOPOLDO  SÃO LEOPOLDO    Cidade do RS  \n",
      "1019589          0          6  SÃO LEOPOLDO  SÃO LEOPOLDO    Cidade do RS  \n",
      "1019590          0          3  SÃO LEOPOLDO  SÃO LEOPOLDO    Cidade do RS  \n",
      "1019591          0          3  SÃO LEOPOLDO  SÃO LEOPOLDO    Cidade do RS  \n",
      "1019592          0          3  SÃO LEOPOLDO  SÃO LEOPOLDO    Cidade do RS  \n",
      "\n",
      "[1019593 rows x 18 columns]\n"
     ]
    }
   ],
   "source": [
    "print(data_clean)"
   ]
  },
  {
   "cell_type": "markdown",
   "id": "8b9724ba-776c-417d-85c0-99776b8b12e7",
   "metadata": {},
   "source": []
  },
  {
   "cell_type": "markdown",
   "id": "fa7aa51b-f605-4858-8783-9587166a34d8",
   "metadata": {},
   "source": [
    "## Criando colunas de tipo de procedimento e ato profissional"
   ]
  },
  {
   "cell_type": "raw",
   "id": "05c2c369-ce50-4e4c-a4e2-2f4e490734f1",
   "metadata": {},
   "source": [
    "0304040169 QUIMIOTERAPIA DE SARCOMA ÓSSEO / OSTEOSSARCOMA - 1ª LINHA 1447,70 0,00\n",
    "0304040177 QUIMIOTERAPIA DO ADENOCARCINOMA DE ESTÔMAGO (PRÉ-OPERATÓRIA) 1300,00 0,00\n",
    "0304050016 QUIMIOTERAPIA INTRA-VESICAL 1300,00 0,00\n",
    "0304050024 QUIMIOTERAPIA DE ADENOCARCINOMA DE CÓLON 2224,00 0,00\n",
    "0304050032 QUIMIOTERAPIA DO ADENOCARCINOMA DE RETO (ADJUVANTE) 427,50 0,00\n",
    "0304050040 HORMONIOTERAPIA DO CARCINOMA DE MAMA EM ESTÁDIO I 79,75 0,00\n",
    "0304050067 QUIMIOTERAPIA DO CARCINOMA DE MAMA EM ESTÁDIO III 800,00 0,00"
   ]
  },
  {
   "cell_type": "code",
   "execution_count": 40,
   "id": "aa6b2aee-bd75-411d-8c95-68fdb6b6e51f",
   "metadata": {},
   "outputs": [],
   "source": [
    "arquivo = 'codigo_procedimento'\n",
    "codigo_procedimento = {}\n",
    "\n",
    "with open(arquivo, 'r') as f:\n",
    "    linhas = f.readlines()\n",
    "\n",
    "for linha in linhas:\n",
    "    partes = linha.strip().split()\n",
    "    codigo = partes[0]\n",
    "    titulo = []\n",
    "\n",
    "    for parte in partes[1:]:\n",
    "        if any(char.isdigit() for char in parte):\n",
    "            break\n",
    "        titulo.append(parte)\n",
    "    \n",
    "    # Juntar o nome da atividade\n",
    "    titulo = ' '.join(titulo)\n",
    "    \n",
    "    # Adicionar ao dicionário\n",
    "    codigo_procedimento[codigo] = titulo\n",
    "\n",
    "# Exibir o dicionário\n",
    "#print(codigo_procedimento)"
   ]
  },
  {
   "cell_type": "code",
   "execution_count": 41,
   "id": "d8d8666d-3059-454e-89dd-12c3f08b3479",
   "metadata": {},
   "outputs": [
    {
     "name": "stdout",
     "output_type": "stream",
     "text": [
      "        SP_UF SP_AA SP_MM  SP_CNES        SP_NAIH  SP_PROCREA SP_DTINTER  \\\n",
      "0          43  2023    09  2235420  4323106259714  0303140151   20230812   \n",
      "1          43  2023    09  2235420  4323106259714  0303140151   20230812   \n",
      "2          43  2023    09  2235420  4323106259714  0303140151   20230812   \n",
      "3          43  2023    09  2235420  4323106259714  0303140151   20230812   \n",
      "4          43  2023    09  2235420  4323106259714  0303140151   20230812   \n",
      "...       ...   ...   ...      ...            ...         ...        ...   \n",
      "1019588    43  2023    09  2232022  4323104173168  0303130067   20230522   \n",
      "1019589    43  2023    09  2232022  4323104173168  0303130067   20230522   \n",
      "1019590    43  2023    09  2232022  4323104173168  0303130067   20230522   \n",
      "1019591    43  2023    09  2232022  4323104173168  0303130067   20230522   \n",
      "1019592    43  2023    09  2232022  4323104173168  0303130067   20230522   \n",
      "\n",
      "        SP_DTSAIDA  SP_ATOPROF       SP_VALATO SP_M_HOSP SP_M_PAC SP_DES_HOS  \\\n",
      "0         20230814  0204030153            0.00    431610   431610          0   \n",
      "1         20230814  0202020380            0.00    431610   431610          0   \n",
      "2         20230814  0202020029            0.00    431610   431610          0   \n",
      "3         20230814  0202010317            0.00    431610   431610          0   \n",
      "4         20230814  0202010473            0.00    431610   431610          0   \n",
      "...            ...         ...             ...       ...      ...        ...   \n",
      "1019588   20230605  0302040021           65.38    431870   431870          0   \n",
      "1019589   20230605  0302060022           38.10    431870   431870          0   \n",
      "1019590   20230605  0202010317            0.00    431870   431870          0   \n",
      "1019591   20230605  0202010600            0.00    431870   431870          0   \n",
      "1019592   20230605  0202010635            0.00    431870   431870          0   \n",
      "\n",
      "        SP_DES_PAC SP_QT_PROC   SP_CIDADE_H   SP_CIDADE_P SP_CIDADE_P_EXT  \\\n",
      "0                0          1    RONDA ALTA    RONDA ALTA    Cidade do RS   \n",
      "1                0          1    RONDA ALTA    RONDA ALTA    Cidade do RS   \n",
      "2                0          1    RONDA ALTA    RONDA ALTA    Cidade do RS   \n",
      "3                0          1    RONDA ALTA    RONDA ALTA    Cidade do RS   \n",
      "4                0          1    RONDA ALTA    RONDA ALTA    Cidade do RS   \n",
      "...            ...        ...           ...           ...             ...   \n",
      "1019588          0         14  SÃO LEOPOLDO  SÃO LEOPOLDO    Cidade do RS   \n",
      "1019589          0          6  SÃO LEOPOLDO  SÃO LEOPOLDO    Cidade do RS   \n",
      "1019590          0          3  SÃO LEOPOLDO  SÃO LEOPOLDO    Cidade do RS   \n",
      "1019591          0          3  SÃO LEOPOLDO  SÃO LEOPOLDO    Cidade do RS   \n",
      "1019592          0          3  SÃO LEOPOLDO  SÃO LEOPOLDO    Cidade do RS   \n",
      "\n",
      "                                                 SP_N_PROC  \n",
      "0            TRATAMENTO DE PNEUMONIAS OU INFLUENZA (GRIPE)  \n",
      "1            TRATAMENTO DE PNEUMONIAS OU INFLUENZA (GRIPE)  \n",
      "2            TRATAMENTO DE PNEUMONIAS OU INFLUENZA (GRIPE)  \n",
      "3            TRATAMENTO DE PNEUMONIAS OU INFLUENZA (GRIPE)  \n",
      "4            TRATAMENTO DE PNEUMONIAS OU INFLUENZA (GRIPE)  \n",
      "...                                                    ...  \n",
      "1019588  TRATAMENTO DE PACIENTE SOB CUIDADOS PROLONGADO...  \n",
      "1019589  TRATAMENTO DE PACIENTE SOB CUIDADOS PROLONGADO...  \n",
      "1019590  TRATAMENTO DE PACIENTE SOB CUIDADOS PROLONGADO...  \n",
      "1019591  TRATAMENTO DE PACIENTE SOB CUIDADOS PROLONGADO...  \n",
      "1019592  TRATAMENTO DE PACIENTE SOB CUIDADOS PROLONGADO...  \n",
      "\n",
      "[1019593 rows x 19 columns]\n"
     ]
    }
   ],
   "source": [
    "data_clean['SP_N_PROC'] = data_clean['SP_PROCREA'].map(codigo_procedimento)\n",
    "print(data_clean)"
   ]
  },
  {
   "cell_type": "code",
   "execution_count": 42,
   "id": "8053b7d6-7929-4bc1-bfeb-b13fb2a43fed",
   "metadata": {},
   "outputs": [
    {
     "data": {
      "text/plain": [
       "SP_N_PROC\n",
       "TRATAMENTO DE PNEUMONIAS OU INFLUENZA (GRIPE)                                       63436\n",
       "TRATAMENTO DE OUTRAS DOENÇAS BACTERIANAS                                            63221\n",
       "TRATAMENTO DE ACIDENTE VASCULAR CEREBRAL - AVC (ISQUEMICO OU HEMORRAGICO AGUDO)     32069\n",
       "PARTO CESARIANO                                                                     31442\n",
       "TRATAMENTO DE INSUFICIENCIA CARDIACA                                                31217\n",
       "                                                                                    ...  \n",
       "TRATAMENTO CIRURGICO DE LUXACAO ESPONTANEA / PROGRESSIVA / PARALITICA DO QUADRIL        3\n",
       "REDUÇÃO DE FRATURA DA MAXILA - LE FORT I SEM OSTEOSSÍNTESE.                             3\n",
       "RINOPLASTIA EM PACIENTE COM ANOMALIA CRÂNIO E BUCOMAXILOFACIAL                          3\n",
       "RESSECCAO ENDOSCOPICA DA EXTREMIDADE DISTAL DO URETER                                   3\n",
       "CICLODIALISE                                                                            2\n",
       "Name: count, Length: 1046, dtype: int64"
      ]
     },
     "execution_count": 42,
     "metadata": {},
     "output_type": "execute_result"
    }
   ],
   "source": [
    "contando_dados= data_clean['SP_N_PROC'].value_counts()\n",
    "contando_dados"
   ]
  },
  {
   "cell_type": "code",
   "execution_count": 43,
   "id": "9275a1dc-cb9b-4285-97fd-b523a373c47f",
   "metadata": {},
   "outputs": [
    {
     "name": "stdout",
     "output_type": "stream",
     "text": [
      "        SP_UF SP_AA SP_MM  SP_CNES        SP_NAIH  SP_PROCREA SP_DTINTER  \\\n",
      "0          43  2023    09  2235420  4323106259714  0303140151   20230812   \n",
      "1          43  2023    09  2235420  4323106259714  0303140151   20230812   \n",
      "2          43  2023    09  2235420  4323106259714  0303140151   20230812   \n",
      "3          43  2023    09  2235420  4323106259714  0303140151   20230812   \n",
      "4          43  2023    09  2235420  4323106259714  0303140151   20230812   \n",
      "...       ...   ...   ...      ...            ...         ...        ...   \n",
      "1019588    43  2023    09  2232022  4323104173168  0303130067   20230522   \n",
      "1019589    43  2023    09  2232022  4323104173168  0303130067   20230522   \n",
      "1019590    43  2023    09  2232022  4323104173168  0303130067   20230522   \n",
      "1019591    43  2023    09  2232022  4323104173168  0303130067   20230522   \n",
      "1019592    43  2023    09  2232022  4323104173168  0303130067   20230522   \n",
      "\n",
      "        SP_DTSAIDA  SP_ATOPROF       SP_VALATO SP_M_HOSP SP_M_PAC SP_DES_HOS  \\\n",
      "0         20230814  0204030153            0.00    431610   431610          0   \n",
      "1         20230814  0202020380            0.00    431610   431610          0   \n",
      "2         20230814  0202020029            0.00    431610   431610          0   \n",
      "3         20230814  0202010317            0.00    431610   431610          0   \n",
      "4         20230814  0202010473            0.00    431610   431610          0   \n",
      "...            ...         ...             ...       ...      ...        ...   \n",
      "1019588   20230605  0302040021           65.38    431870   431870          0   \n",
      "1019589   20230605  0302060022           38.10    431870   431870          0   \n",
      "1019590   20230605  0202010317            0.00    431870   431870          0   \n",
      "1019591   20230605  0202010600            0.00    431870   431870          0   \n",
      "1019592   20230605  0202010635            0.00    431870   431870          0   \n",
      "\n",
      "        SP_DES_PAC SP_QT_PROC   SP_CIDADE_H   SP_CIDADE_P SP_CIDADE_P_EXT  \\\n",
      "0                0          1    RONDA ALTA    RONDA ALTA    Cidade do RS   \n",
      "1                0          1    RONDA ALTA    RONDA ALTA    Cidade do RS   \n",
      "2                0          1    RONDA ALTA    RONDA ALTA    Cidade do RS   \n",
      "3                0          1    RONDA ALTA    RONDA ALTA    Cidade do RS   \n",
      "4                0          1    RONDA ALTA    RONDA ALTA    Cidade do RS   \n",
      "...            ...        ...           ...           ...             ...   \n",
      "1019588          0         14  SÃO LEOPOLDO  SÃO LEOPOLDO    Cidade do RS   \n",
      "1019589          0          6  SÃO LEOPOLDO  SÃO LEOPOLDO    Cidade do RS   \n",
      "1019590          0          3  SÃO LEOPOLDO  SÃO LEOPOLDO    Cidade do RS   \n",
      "1019591          0          3  SÃO LEOPOLDO  SÃO LEOPOLDO    Cidade do RS   \n",
      "1019592          0          3  SÃO LEOPOLDO  SÃO LEOPOLDO    Cidade do RS   \n",
      "\n",
      "                                                 SP_N_PROC  \\\n",
      "0            TRATAMENTO DE PNEUMONIAS OU INFLUENZA (GRIPE)   \n",
      "1            TRATAMENTO DE PNEUMONIAS OU INFLUENZA (GRIPE)   \n",
      "2            TRATAMENTO DE PNEUMONIAS OU INFLUENZA (GRIPE)   \n",
      "3            TRATAMENTO DE PNEUMONIAS OU INFLUENZA (GRIPE)   \n",
      "4            TRATAMENTO DE PNEUMONIAS OU INFLUENZA (GRIPE)   \n",
      "...                                                    ...   \n",
      "1019588  TRATAMENTO DE PACIENTE SOB CUIDADOS PROLONGADO...   \n",
      "1019589  TRATAMENTO DE PACIENTE SOB CUIDADOS PROLONGADO...   \n",
      "1019590  TRATAMENTO DE PACIENTE SOB CUIDADOS PROLONGADO...   \n",
      "1019591  TRATAMENTO DE PACIENTE SOB CUIDADOS PROLONGADO...   \n",
      "1019592  TRATAMENTO DE PACIENTE SOB CUIDADOS PROLONGADO...   \n",
      "\n",
      "                                                 SP_N_ATOS  \n",
      "0                       RADIOGRAFIA DE TORAX (PA E PERFIL)  \n",
      "1                                       HEMOGRAMA COMPLETO  \n",
      "2                                    CONTAGEM DE PLAQUETAS  \n",
      "3                                    DOSAGEM DE CREATININA  \n",
      "4                                       DOSAGEM DE GLICOSE  \n",
      "...                                                    ...  \n",
      "1019588  ATENDIMENTO FISIOTERAPÊUTICO EM PACIENTE C/ TR...  \n",
      "1019589  ATENDIMENTO FISIOTERAPÊUTICO EM PACIENTES C/ D...  \n",
      "1019590                              DOSAGEM DE CREATININA  \n",
      "1019591                                DOSAGEM DE POTASSIO  \n",
      "1019592                                   DOSAGEM DE SODIO  \n",
      "\n",
      "[1019593 rows x 20 columns]\n"
     ]
    }
   ],
   "source": [
    "data_clean['SP_N_ATOS'] = data_clean['SP_ATOPROF'].map(codigo_procedimento)\n",
    "print(data_clean)"
   ]
  },
  {
   "cell_type": "markdown",
   "id": "5d40707d-4b9c-493e-bf51-26d73be2b5d4",
   "metadata": {},
   "source": [
    "### Limpando Colunas com nulos e criando csv"
   ]
  },
  {
   "cell_type": "code",
   "execution_count": 44,
   "id": "b00c555c-0cca-439b-b1ec-be42c9a18a7b",
   "metadata": {},
   "outputs": [
    {
     "name": "stdout",
     "output_type": "stream",
     "text": [
      "Total de valores nulos na coluna 'SP_N_PROC': 134934\n",
      "Total de valores nulos na coluna 'SP_N_ATOS': 100400\n",
      "\n",
      "Total de valores NAO nulos na coluna 'SP_N_PROC': 884659\n",
      "Total de valores NAO nulos na coluna 'SP_N_ATOS': 919193\n"
     ]
    }
   ],
   "source": [
    "nulos_proc = data_clean['SP_N_PROC'].isna().sum()\n",
    "nulos_atos = data_clean['SP_N_ATOS'].isna().sum()\n",
    "print(f\"Total de valores nulos na coluna 'SP_N_PROC': {nulos_proc}\")\n",
    "print(f\"Total de valores nulos na coluna 'SP_N_ATOS': {nulos_atos}\")\n",
    "\n",
    "print()\n",
    "dados_proc = data_clean['SP_N_PROC'].notna().sum()\n",
    "dados_atos = data_clean['SP_N_ATOS'].notna().sum()\n",
    "print(f\"Total de valores NAO nulos na coluna 'SP_N_PROC': {dados_proc}\")\n",
    "print(f\"Total de valores NAO nulos na coluna 'SP_N_ATOS': {dados_atos}\")"
   ]
  },
  {
   "cell_type": "code",
   "execution_count": 45,
   "id": "e221fa90-ec96-4c2f-8255-02ed059f451e",
   "metadata": {},
   "outputs": [],
   "source": [
    "nulos_total = data_clean.isna().sum()"
   ]
  },
  {
   "cell_type": "code",
   "execution_count": 46,
   "id": "d258be94-c1df-4d56-aaa0-d8e849f42d50",
   "metadata": {},
   "outputs": [
    {
     "name": "stdout",
     "output_type": "stream",
     "text": [
      "SP_UF                   0\n",
      "SP_AA                   0\n",
      "SP_MM                   0\n",
      "SP_CNES                 0\n",
      "SP_NAIH                 0\n",
      "SP_PROCREA              0\n",
      "SP_DTINTER              0\n",
      "SP_DTSAIDA              0\n",
      "SP_ATOPROF              0\n",
      "SP_VALATO               0\n",
      "SP_M_HOSP               0\n",
      "SP_M_PAC                0\n",
      "SP_DES_HOS              0\n",
      "SP_DES_PAC              0\n",
      "SP_QT_PROC              0\n",
      "SP_CIDADE_H             0\n",
      "SP_CIDADE_P             0\n",
      "SP_CIDADE_P_EXT         0\n",
      "SP_N_PROC          134934\n",
      "SP_N_ATOS          100400\n",
      "dtype: int64\n"
     ]
    }
   ],
   "source": [
    "print(nulos_total)"
   ]
  },
  {
   "cell_type": "code",
   "execution_count": 47,
   "id": "ecc14fd6-8227-4162-97e7-10ea1438a3cc",
   "metadata": {},
   "outputs": [],
   "source": [
    "def verificar_codigos(codigos, dicionario):\n",
    "    presentes = []\n",
    "    ausentes = []\n",
    "    for codigo in codigos:\n",
    "        if codigo in dicionario:\n",
    "            presentes.append(codigo)\n",
    "        else:\n",
    "            ausentes.append(codigo)\n",
    "    return presentes, ausentes"
   ]
  },
  {
   "cell_type": "code",
   "execution_count": 48,
   "id": "f7cf4ab1-099f-4274-9c47-a1fb4a0dc175",
   "metadata": {},
   "outputs": [],
   "source": [
    "#presentes, ausentes = verificar_codigos(codigos_faltantes_cbo, codigo_cbo)\n",
    "\n",
    "# print(\"Códigos presentes no dicionário:\")\n",
    "# print(presentes)\n",
    "\n",
    "# print(\"\\nCódigos ausentes no dicionário:\")\n",
    "# print(ausentes)"
   ]
  },
  {
   "cell_type": "code",
   "execution_count": 49,
   "id": "6609a9c8-b06e-4a22-b2f4-0df23bb644f6",
   "metadata": {},
   "outputs": [
    {
     "name": "stdout",
     "output_type": "stream",
     "text": [
      "Total de valores nulos na coluna 'SP_N_PROC': 134934\n",
      "Total de valores nulos na coluna 'SP_N_ATOS': 100400\n",
      "\n",
      "Total de valores NAO nulos na coluna 'SP_N_PROC': 884659\n",
      "Total de valores NAO nulos na coluna 'SP_N_ATOS': 919193\n"
     ]
    }
   ],
   "source": [
    "nulos_proc = data_clean['SP_N_PROC'].isna().sum()\n",
    "nulos_atos = data_clean['SP_N_ATOS'].isna().sum()\n",
    "print(f\"Total de valores nulos na coluna 'SP_N_PROC': {nulos_proc}\")\n",
    "print(f\"Total de valores nulos na coluna 'SP_N_ATOS': {nulos_atos}\")\n",
    "\n",
    "print()\n",
    "dados_proc = data_clean['SP_N_PROC'].notna().sum()\n",
    "dados_atos = data_clean['SP_N_ATOS'].notna().sum()\n",
    "print(f\"Total de valores NAO nulos na coluna 'SP_N_PROC': {dados_proc}\")\n",
    "print(f\"Total de valores NAO nulos na coluna 'SP_N_ATOS': {dados_atos}\")"
   ]
  },
  {
   "cell_type": "markdown",
   "id": "fe271ad1-1cba-4f21-bcfb-c4307654fa7b",
   "metadata": {},
   "source": [
    "## Nova descrição das colunas"
   ]
  },
  {
   "cell_type": "raw",
   "id": "3b9e3210-49a0-40b9-a67b-905ad6453563",
   "metadata": {},
   "source": [
    "SP_UF = código do estado (43)\n",
    "\n",
    "SP_AA = ano do dado\n",
    "\n",
    "SP_MM = mes do dado\n",
    "\n",
    "SP_CNES = Código CNES do hospital\n",
    "\n",
    "SP_NAIH = Número do AIH (código que realizar a solicitação de internação) \n",
    "\n",
    "SP_PROCREA = Procedimento realizado na AIH (codigo nao espeficado) Tem 90% no link: https://arquivos.camacari.ba.gov.br/compras/ANEXO%20VIII%20-%20TABELA%20NACIONAL%20DE%20PROCEDIMENTOS%20SUS.pdf \n",
    "\n",
    "SP_DTINTER = Dia da internação (em string, exemplo: \"20221209\" ano, mes, dia\n",
    "\n",
    "SP_DTSAIDA = Data de saida(mesmo tipo e formato do de internação)\n",
    "\n",
    "SP_ATOPROF = Procedimento referente ao ato profissional (codigo NÃO especificado) Tem 90% no link: https://arquivos.camacari.ba.gov.br/compras/ANEXO%20VIII%20-%20TABELA%20NACIONAL%20DE%20PROCEDIMENTOS%20SUS.pdf \n",
    "\n",
    "SP_VALATO = Valor do ato profissional (numero em string)\n",
    "\n",
    "SP_M_HOSP = código do munícipio do hospital ou estabelecimento (temos oq significa)\n",
    "\n",
    "SP_M_PAC = código do endereço do paciente (temos oq significa)\n",
    "\n",
    "SP_DES_HOS E DES_PAC = COLUNA BINARIA INDICANDO SE O ENDEREÇO DO PACIENTE É IGUAL AO DO HOSPITAL\n",
    "\n",
    "SP_PF_CBO = Código de ocupação brasileira (titulo do trabalho do cara em código CBO) do profissional que realizou o ato (ou 0000 caso nao tenha info)\n",
    "\n",
    "SP_QT_PROC = qtd de procedimentos realizados (numeros)\n",
    "\n",
    "SP_CIDADE_H = Nome em string da cidade do hospital\n",
    "\n",
    "SP_CIDADE_P = Nome em string da cidade do paciente QUE MORA NO RS (os que nao moram esta como \"Cidade de fora do RS\"\n",
    "\n",
    "SP_CIDADE_P_EXT = Nome em string da cidade do paciente QUE MORA FORA DO RS (os que moramestão como \"Cidade do RS\")\n",
    "\n",
    "SP_N_PROC = Nome do procedimento \n",
    "\n",
    "SP_N_ATOS = Nome do ato realizado"
   ]
  },
  {
   "cell_type": "code",
   "execution_count": 50,
   "id": "9dec3ac8-3b16-4052-a5d6-30f5d3b53844",
   "metadata": {},
   "outputs": [],
   "source": [
    "data_clean.dropna(subset=['SP_N_PROC'], inplace= True)\n",
    "data_clean.dropna(subset=['SP_N_ATOS'], inplace= True)\n"
   ]
  },
  {
   "cell_type": "code",
   "execution_count": 51,
   "id": "b86d4721-dfe2-4855-9e2f-8190e5b3b44e",
   "metadata": {},
   "outputs": [
    {
     "name": "stdout",
     "output_type": "stream",
     "text": [
      "<class 'pandas.core.frame.DataFrame'>\n",
      "Index: 812381 entries, 0 to 1019592\n",
      "Data columns (total 20 columns):\n",
      " #   Column           Non-Null Count   Dtype \n",
      "---  ------           --------------   ----- \n",
      " 0   SP_UF            812381 non-null  string\n",
      " 1   SP_AA            812381 non-null  string\n",
      " 2   SP_MM            812381 non-null  string\n",
      " 3   SP_CNES          812381 non-null  string\n",
      " 4   SP_NAIH          812381 non-null  string\n",
      " 5   SP_PROCREA       812381 non-null  string\n",
      " 6   SP_DTINTER       812381 non-null  string\n",
      " 7   SP_DTSAIDA       812381 non-null  string\n",
      " 8   SP_ATOPROF       812381 non-null  string\n",
      " 9   SP_VALATO        812381 non-null  string\n",
      " 10  SP_M_HOSP        812381 non-null  string\n",
      " 11  SP_M_PAC         812381 non-null  string\n",
      " 12  SP_DES_HOS       812381 non-null  string\n",
      " 13  SP_DES_PAC       812381 non-null  string\n",
      " 14  SP_QT_PROC       812381 non-null  string\n",
      " 15  SP_CIDADE_H      812381 non-null  object\n",
      " 16  SP_CIDADE_P      812381 non-null  object\n",
      " 17  SP_CIDADE_P_EXT  812381 non-null  object\n",
      " 18  SP_N_PROC        812381 non-null  object\n",
      " 19  SP_N_ATOS        812381 non-null  object\n",
      "dtypes: object(5), string(15)\n",
      "memory usage: 130.2+ MB\n"
     ]
    }
   ],
   "source": [
    "data_clean.info()"
   ]
  },
  {
   "cell_type": "code",
   "execution_count": 52,
   "id": "9dec0e73-78c7-4ede-a302-a8ed55e76f31",
   "metadata": {},
   "outputs": [],
   "source": [
    "data_limpo = data_clean.drop_duplicates()"
   ]
  },
  {
   "cell_type": "code",
   "execution_count": 1,
   "id": "2fc7c034-34b4-49a7-9d7f-b9df1d014455",
   "metadata": {},
   "outputs": [
    {
     "ename": "NameError",
     "evalue": "name 'data_limpo' is not defined",
     "output_type": "error",
     "traceback": [
      "\u001b[0;31m---------------------------------------------------------------------------\u001b[0m",
      "\u001b[0;31mNameError\u001b[0m                                 Traceback (most recent call last)",
      "Cell \u001b[0;32mIn[1], line 1\u001b[0m\n\u001b[0;32m----> 1\u001b[0m \u001b[43mdata_limpo\u001b[49m\u001b[38;5;241m.\u001b[39minfo()\n\u001b[1;32m      2\u001b[0m data_limpo\u001b[38;5;241m.\u001b[39mto_csv(\u001b[38;5;124m'\u001b[39m\u001b[38;5;124mdados_limpos.csv\u001b[39m\u001b[38;5;124m'\u001b[39m, index\u001b[38;5;241m=\u001b[39m\u001b[38;5;28;01mFalse\u001b[39;00m)\n",
      "\u001b[0;31mNameError\u001b[0m: name 'data_limpo' is not defined"
     ]
    }
   ],
   "source": [
    "data_limpo.info()\n",
    "data_limpo.to_csv('dados_limpos.csv', index=False)"
   ]
  },
  {
   "cell_type": "code",
   "execution_count": null,
   "id": "92f76798-985b-459c-93c4-47ce681b3f22",
   "metadata": {},
   "outputs": [],
   "source": []
  }
 ],
 "metadata": {
  "kernelspec": {
   "display_name": "Python 3 (ipykernel)",
   "language": "python",
   "name": "python3"
  },
  "language_info": {
   "codemirror_mode": {
    "name": "ipython",
    "version": 3
   },
   "file_extension": ".py",
   "mimetype": "text/x-python",
   "name": "python",
   "nbconvert_exporter": "python",
   "pygments_lexer": "ipython3",
   "version": "3.12.3"
  }
 },
 "nbformat": 4,
 "nbformat_minor": 5
}
