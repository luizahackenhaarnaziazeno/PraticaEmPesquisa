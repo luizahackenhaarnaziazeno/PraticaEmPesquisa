{
 "cells": [
  {
   "cell_type": "code",
   "execution_count": null,
   "id": "5b4c397c-13d7-4ea1-8173-b14e10de3188",
   "metadata": {},
   "outputs": [],
   "source": []
  }
 ],
 "metadata": {
  "kernelspec": {
   "display_name": "",
   "name": ""
  },
  "language_info": {
   "name": ""
  }
 },
 "nbformat": 4,
 "nbformat_minor": 5
}
