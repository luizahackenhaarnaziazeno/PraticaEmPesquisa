{
 "cells": [
  {
   "cell_type": "code",
   "execution_count": 1,
   "metadata": {},
   "outputs": [],
   "source": [
    "import requests\n",
    "import numpy as np\n",
    "import unicodedata\n",
    "import pandas as pd\n",
    "import geopandas as gpd\n",
    "import cartopy.crs as ccrs\n",
    "import matplotlib.pyplot as plt\n",
    "from shapely.geometry import Point\n",
    "import cartopy.feature as cfeature\n",
    "from geopy.geocoders import Nominatim\n",
    "from pysus.ftp.databases.sih import SIH\n",
    "from geopy.extra.rate_limiter import RateLimiter"
   ]
  },
  {
   "cell_type": "markdown",
   "metadata": {
    "jp-MarkdownHeadingCollapsed": true
   },
   "source": [
    "# Arquivo \"Internações limpo\""
   ]
  },
  {
   "cell_type": "code",
   "execution_count": 2,
   "metadata": {},
   "outputs": [],
   "source": [
    "sih = SIH().load()"
   ]
  },
  {
   "cell_type": "code",
   "execution_count": 3,
   "metadata": {},
   "outputs": [
    {
     "data": {
      "text/plain": [
       "{'long_name': 'Sistema de Informações Hospitalares',\n",
       " 'source': ('https://datasus.saude.gov.br/acesso-a-informacao/morbidade-hospitalar-do-sus-sih-sus/',\n",
       "  'https://datasus.saude.gov.br/acesso-a-informacao/producao-hospitalar-sih-sus/'),\n",
       " 'description': 'A finalidade do AIH (Sistema SIHSUS) é a de transcrever todos os atendimentos que provenientes de internações hospitalares que foram financiadas pelo SUS, e após o processamento, gerarem relatórios para os gestores que lhes possibilitem fazer os pagamentos dos estabelecimentos de saúde. Além disso, o nível Federal recebe mensalmente uma base de dados de todas as internações autorizadas (aprovadas ou não para pagamento) para que possam ser repassados às Secretarias de Saúde os valores de Produção de Média e Alta complexidade além dos valores de CNRAC, FAEC e de Hospitais Universitários – em suas variadas formas de contrato de gestão.'}"
      ]
     },
     "execution_count": 3,
     "metadata": {},
     "output_type": "execute_result"
    }
   ],
   "source": [
    "sih.metadata"
   ]
  },
  {
   "cell_type": "code",
   "execution_count": 4,
   "metadata": {},
   "outputs": [
    {
     "data": {
      "text/plain": [
       "SIH - Sistema de Informações Hospitalares"
      ]
     },
     "execution_count": 4,
     "metadata": {},
     "output_type": "execute_result"
    }
   ],
   "source": [
    "sih.load()"
   ]
  },
  {
   "cell_type": "code",
   "execution_count": 5,
   "metadata": {},
   "outputs": [
    {
     "data": {
      "text/plain": [
       "{'RD': 'AIH Reduzida',\n",
       " 'RJ': 'AIH Rejeitada',\n",
       " 'ER': 'AIH Rejeitada com erro',\n",
       " 'SP': 'Serviços Profissionais',\n",
       " 'CH': 'Cadastro Hospitalar',\n",
       " 'CM': ''}"
      ]
     },
     "execution_count": 5,
     "metadata": {},
     "output_type": "execute_result"
    }
   ],
   "source": [
    "sih.groups"
   ]
  },
  {
   "cell_type": "code",
   "execution_count": 6,
   "metadata": {},
   "outputs": [],
   "source": [
    "files = sih.get_files(\"SP\", uf=\"RS\", year=2023)"
   ]
  },
  {
   "cell_type": "code",
   "execution_count": 7,
   "metadata": {},
   "outputs": [
    {
     "name": "stderr",
     "output_type": "stream",
     "text": [
      "17899859it [00:00, 1727944261.16it/s]                                           \n"
     ]
    },
    {
     "data": {
      "text/plain": [
       "[/home/vini-pedroso/pysus/SPRS2301.parquet,\n",
       " /home/vini-pedroso/pysus/SPRS2302.parquet,\n",
       " /home/vini-pedroso/pysus/SPRS2303.parquet,\n",
       " /home/vini-pedroso/pysus/SPRS2304.parquet,\n",
       " /home/vini-pedroso/pysus/SPRS2305.parquet,\n",
       " /home/vini-pedroso/pysus/SPRS2306.parquet,\n",
       " /home/vini-pedroso/pysus/SPRS2307.parquet,\n",
       " /home/vini-pedroso/pysus/SPRS2308.parquet,\n",
       " /home/vini-pedroso/pysus/SPRS2309.parquet,\n",
       " /home/vini-pedroso/pysus/SPRS2310.parquet,\n",
       " /home/vini-pedroso/pysus/SPRS2311.parquet,\n",
       " /home/vini-pedroso/pysus/SPRS2312.parquet]"
      ]
     },
     "execution_count": 7,
     "metadata": {},
     "output_type": "execute_result"
    }
   ],
   "source": [
    "parquets = sih.download(files)\n",
    "parquets"
   ]
  },
  {
   "cell_type": "code",
   "execution_count": 8,
   "metadata": {},
   "outputs": [],
   "source": [
    "data =parquets[8].to_dataframe()"
   ]
  },
  {
   "cell_type": "code",
   "execution_count": 9,
   "metadata": {},
   "outputs": [
    {
     "name": "stdout",
     "output_type": "stream",
     "text": [
      "<class 'pandas.core.frame.DataFrame'>\n",
      "RangeIndex: 1019593 entries, 0 to 1019592\n",
      "Data columns (total 36 columns):\n",
      " #   Column      Non-Null Count    Dtype \n",
      "---  ------      --------------    ----- \n",
      " 0   SP_GESTOR   1019593 non-null  string\n",
      " 1   SP_UF       1019593 non-null  string\n",
      " 2   SP_AA       1019593 non-null  string\n",
      " 3   SP_MM       1019593 non-null  string\n",
      " 4   SP_CNES     1019593 non-null  string\n",
      " 5   SP_NAIH     1019593 non-null  string\n",
      " 6   SP_PROCREA  1019593 non-null  string\n",
      " 7   SP_DTINTER  1019593 non-null  string\n",
      " 8   SP_DTSAIDA  1019593 non-null  string\n",
      " 9   SP_NUM_PR   1019593 non-null  string\n",
      " 10  SP_TIPO     1019593 non-null  string\n",
      " 11  SP_CPFCGC   1019593 non-null  string\n",
      " 12  SP_ATOPROF  1019593 non-null  string\n",
      " 13  SP_TP_ATO   1019593 non-null  string\n",
      " 14  SP_QTD_ATO  1019593 non-null  string\n",
      " 15  SP_PTSP     1019593 non-null  string\n",
      " 16  SP_NF       1019593 non-null  string\n",
      " 17  SP_VALATO   1019593 non-null  string\n",
      " 18  SP_M_HOSP   1019593 non-null  string\n",
      " 19  SP_M_PAC    1019593 non-null  string\n",
      " 20  SP_DES_HOS  1019593 non-null  string\n",
      " 21  SP_DES_PAC  1019593 non-null  string\n",
      " 22  SP_COMPLEX  1019593 non-null  string\n",
      " 23  SP_FINANC   1019593 non-null  string\n",
      " 24  SP_CO_FAEC  1019593 non-null  string\n",
      " 25  SP_PF_CBO   1019593 non-null  string\n",
      " 26  SP_PF_DOC   1019593 non-null  string\n",
      " 27  SP_PJ_DOC   1019593 non-null  string\n",
      " 28  IN_TP_VAL   1019593 non-null  string\n",
      " 29  SEQUENCIA   1019593 non-null  string\n",
      " 30  REMESSA     1019593 non-null  string\n",
      " 31  SERV_CLA    1019593 non-null  string\n",
      " 32  SP_CIDPRI   1019593 non-null  string\n",
      " 33  SP_CIDSEC   1019593 non-null  string\n",
      " 34  SP_QT_PROC  1019593 non-null  string\n",
      " 35  SP_U_AIH    1019593 non-null  string\n",
      "dtypes: string(36)\n",
      "memory usage: 280.0 MB\n"
     ]
    }
   ],
   "source": [
    "data.info()"
   ]
  },
  {
   "cell_type": "code",
   "execution_count": 10,
   "metadata": {},
   "outputs": [],
   "source": [
    "data_clean = data.drop(['SP_NUM_PR', 'SP_TIPO'], axis='columns')"
   ]
  },
  {
   "cell_type": "code",
   "execution_count": 11,
   "metadata": {},
   "outputs": [],
   "source": [
    "data_clean = data.drop(['SP_GESTOR','SP_NUM_PR', 'SP_TIPO', 'SP_TP_ATO','SP_CPFCGC', 'SP_QTD_ATO', 'SP_PTSP', 'SP_NF', 'SP_COMPLEX', 'SP_FINANC', 'SP_CO_FAEC', 'SP_PF_DOC', 'SP_PJ_DOC','IN_TP_VAL', 'SEQUENCIA', 'REMESSA', 'SERV_CLA', 'SP_CIDPRI', 'SP_CIDSEC', 'SP_U_AIH', 'SP_PF_CBO'], axis='columns')"
   ]
  },
  {
   "cell_type": "code",
   "execution_count": 12,
   "metadata": {},
   "outputs": [
    {
     "name": "stdout",
     "output_type": "stream",
     "text": [
      "<class 'pandas.core.frame.DataFrame'>\n",
      "RangeIndex: 1019593 entries, 0 to 1019592\n",
      "Data columns (total 15 columns):\n",
      " #   Column      Non-Null Count    Dtype \n",
      "---  ------      --------------    ----- \n",
      " 0   SP_UF       1019593 non-null  string\n",
      " 1   SP_AA       1019593 non-null  string\n",
      " 2   SP_MM       1019593 non-null  string\n",
      " 3   SP_CNES     1019593 non-null  string\n",
      " 4   SP_NAIH     1019593 non-null  string\n",
      " 5   SP_PROCREA  1019593 non-null  string\n",
      " 6   SP_DTINTER  1019593 non-null  string\n",
      " 7   SP_DTSAIDA  1019593 non-null  string\n",
      " 8   SP_ATOPROF  1019593 non-null  string\n",
      " 9   SP_VALATO   1019593 non-null  string\n",
      " 10  SP_M_HOSP   1019593 non-null  string\n",
      " 11  SP_M_PAC    1019593 non-null  string\n",
      " 12  SP_DES_HOS  1019593 non-null  string\n",
      " 13  SP_DES_PAC  1019593 non-null  string\n",
      " 14  SP_QT_PROC  1019593 non-null  string\n",
      "dtypes: string(15)\n",
      "memory usage: 116.7 MB\n"
     ]
    }
   ],
   "source": [
    "data_clean.info()"
   ]
  },
  {
   "cell_type": "markdown",
   "metadata": {},
   "source": [
    "## Descrição das colunas do dataset após primeira filtragem:"
   ]
  },
  {
   "cell_type": "raw",
   "metadata": {},
   "source": [
    "SP_UF = código do estado (43)\n",
    "\n",
    "SP_AA = ano do dado\n",
    "\n",
    "SP_MM = mes do dado\n",
    "\n",
    "SP_CNES = Código CNES do hospital\n",
    "\n",
    "SP_NAIH = Número do AIH (código que realizar a solicitação de internação) \n",
    "\n",
    "SP_PROCREA = Procedimento realizado na AIH (codigo nao espeficado) Tem 90% no link: https://arquivos.camacari.ba.gov.br/compras/ANEXO%20VIII%20-%20TABELA%20NACIONAL%20DE%20PROCEDIMENTOS%20SUS.pdf \n",
    "\n",
    "SP_DTINTER = Dia da internação (em string, exemplo: \"20221209\" ano, mes, dia\n",
    "\n",
    "SP_DTSAIDA = Data de saida(mesmo tipo e formato do de internação)\n",
    "\n",
    "SP_ATOPROF = Procedimento referente ao ato profissional (codigo NÃO especificado) Tem 90% no link: https://arquivos.camacari.ba.gov.br/compras/ANEXO%20VIII%20-%20TABELA%20NACIONAL%20DE%20PROCEDIMENTOS%20SUS.pdf \n",
    "\n",
    "SP_VALATO = Valor do ato profissional (numero em string)\n",
    "\n",
    "SP_M_HOSP = código do munícipio do hospital ou estabelecimento (temos oq significa)\n",
    "\n",
    "SP_M_PAC = código do endereço do paciente (temos oq significa)\n",
    "\n",
    "SP_DES_HOS E DES_PAC = COLUNA BINARIA INDICANDO SE O ENDEREÇO DO PACIENTE É IGUAL AO DO HOSPITAL\n",
    "\n",
    "SP_PF_CBO = Código de ocupação brasileira (titulo do trabalho do cara em código CBO) do profissional que realizou o ato (ou 0000 caso nao tenha info)\n",
    "\n",
    "SP_QT_PROC = qtd de procedimentos realizados (numeros)"
   ]
  },
  {
   "cell_type": "code",
   "execution_count": 13,
   "metadata": {},
   "outputs": [],
   "source": [
    "arquivo = 'Nomes_cidades'\n",
    "codigo_cidade = {}\n",
    "with open(arquivo, 'r') as f:\n",
    "    linhas = f.readlines()\n",
    "\n",
    "for linha in linhas:\n",
    "    partes = linha.split()\n",
    "    codigo_cid = partes[0]\n",
    "    nome_cidade = ' '.join(partes[2:-1])\n",
    "    codigo_cidade[codigo_cid] = nome_cidade"
   ]
  },
  {
   "cell_type": "code",
   "execution_count": 14,
   "metadata": {},
   "outputs": [
    {
     "name": "stdout",
     "output_type": "stream",
     "text": [
      "        SP_UF SP_AA SP_MM  SP_CNES        SP_NAIH  SP_PROCREA SP_DTINTER  \\\n",
      "0          43  2023    09  2252694  4323105050374  0303010037   20230707   \n",
      "1          43  2023    09  2252694  4323105050374  0303010037   20230707   \n",
      "2          43  2023    09  2252694  4323105050374  0303010037   20230707   \n",
      "3          43  2023    09  2252694  4323105050374  0303010037   20230707   \n",
      "4          43  2023    09  2252694  4323105050374  0303010037   20230707   \n",
      "...       ...   ...   ...      ...            ...         ...        ...   \n",
      "1019588    43  2023    09  7092571  4323106444316  0403020050   20230706   \n",
      "1019589    43  2023    09  7092571  4323106444316  0403020050   20230706   \n",
      "1019590    43  2023    09  7092571  4323106444316  0403020050   20230706   \n",
      "1019591    43  2023    09  7092571  4323106444316  0403020050   20230706   \n",
      "1019592    43  2023    09  7092571  4323106444316  0403020050   20230706   \n",
      "\n",
      "        SP_DTSAIDA  SP_ATOPROF       SP_VALATO SP_M_HOSP SP_M_PAC SP_DES_HOS  \\\n",
      "0         20230802  0206010079           97.44    431440   431440          0   \n",
      "1         20230802  0206020031          136.41    431440   431440          0   \n",
      "2         20230802  0206030010          138.63    431440   431440          0   \n",
      "3         20230802  0206030037          138.63    431440   431440          0   \n",
      "4         20230802  0203010035           20.96    431440   431440          0   \n",
      "...            ...         ...             ...       ...      ...        ...   \n",
      "1019588   20230707  0403020050           64.00    431490   431490          0   \n",
      "1019589   20230707  0301010048            0.00    431490   431490          0   \n",
      "1019590   20230707  0301010170           10.03    431490   431490          0   \n",
      "1019591   20230707  0301010048            0.00    431490   431490          0   \n",
      "1019592   20230707  0301010170           10.04    431490   431490          0   \n",
      "\n",
      "        SP_DES_PAC SP_QT_PROC                 SP_CIDADE_H  \n",
      "0                0          1       GRANDE DO SUL PELOTAS  \n",
      "1                0          1       GRANDE DO SUL PELOTAS  \n",
      "2                0          1       GRANDE DO SUL PELOTAS  \n",
      "3                0          1       GRANDE DO SUL PELOTAS  \n",
      "4                0          1       GRANDE DO SUL PELOTAS  \n",
      "...            ...        ...                         ...  \n",
      "1019588          0          0  GRANDE DO SUL PORTO ALEGRE  \n",
      "1019589          0          1  GRANDE DO SUL PORTO ALEGRE  \n",
      "1019590          0          1  GRANDE DO SUL PORTO ALEGRE  \n",
      "1019591          0          1  GRANDE DO SUL PORTO ALEGRE  \n",
      "1019592          0          1  GRANDE DO SUL PORTO ALEGRE  \n",
      "\n",
      "[1019593 rows x 16 columns]\n"
     ]
    }
   ],
   "source": [
    "data_clean['SP_CIDADE_H'] = data_clean['SP_M_HOSP'].map(codigo_cidade)\n",
    "print(data_clean)"
   ]
  },
  {
   "cell_type": "code",
   "execution_count": 15,
   "metadata": {},
   "outputs": [
    {
     "name": "stdout",
     "output_type": "stream",
     "text": [
      "        SP_UF SP_AA SP_MM  SP_CNES        SP_NAIH  SP_PROCREA SP_DTINTER  \\\n",
      "0          43  2023    09  2252694  4323105050374  0303010037   20230707   \n",
      "1          43  2023    09  2252694  4323105050374  0303010037   20230707   \n",
      "2          43  2023    09  2252694  4323105050374  0303010037   20230707   \n",
      "3          43  2023    09  2252694  4323105050374  0303010037   20230707   \n",
      "4          43  2023    09  2252694  4323105050374  0303010037   20230707   \n",
      "...       ...   ...   ...      ...            ...         ...        ...   \n",
      "1019588    43  2023    09  7092571  4323106444316  0403020050   20230706   \n",
      "1019589    43  2023    09  7092571  4323106444316  0403020050   20230706   \n",
      "1019590    43  2023    09  7092571  4323106444316  0403020050   20230706   \n",
      "1019591    43  2023    09  7092571  4323106444316  0403020050   20230706   \n",
      "1019592    43  2023    09  7092571  4323106444316  0403020050   20230706   \n",
      "\n",
      "        SP_DTSAIDA  SP_ATOPROF       SP_VALATO SP_M_HOSP SP_M_PAC SP_DES_HOS  \\\n",
      "0         20230802  0206010079           97.44    431440   431440          0   \n",
      "1         20230802  0206020031          136.41    431440   431440          0   \n",
      "2         20230802  0206030010          138.63    431440   431440          0   \n",
      "3         20230802  0206030037          138.63    431440   431440          0   \n",
      "4         20230802  0203010035           20.96    431440   431440          0   \n",
      "...            ...         ...             ...       ...      ...        ...   \n",
      "1019588   20230707  0403020050           64.00    431490   431490          0   \n",
      "1019589   20230707  0301010048            0.00    431490   431490          0   \n",
      "1019590   20230707  0301010170           10.03    431490   431490          0   \n",
      "1019591   20230707  0301010048            0.00    431490   431490          0   \n",
      "1019592   20230707  0301010170           10.04    431490   431490          0   \n",
      "\n",
      "        SP_DES_PAC SP_QT_PROC                 SP_CIDADE_H  \\\n",
      "0                0          1       GRANDE DO SUL PELOTAS   \n",
      "1                0          1       GRANDE DO SUL PELOTAS   \n",
      "2                0          1       GRANDE DO SUL PELOTAS   \n",
      "3                0          1       GRANDE DO SUL PELOTAS   \n",
      "4                0          1       GRANDE DO SUL PELOTAS   \n",
      "...            ...        ...                         ...   \n",
      "1019588          0          0  GRANDE DO SUL PORTO ALEGRE   \n",
      "1019589          0          1  GRANDE DO SUL PORTO ALEGRE   \n",
      "1019590          0          1  GRANDE DO SUL PORTO ALEGRE   \n",
      "1019591          0          1  GRANDE DO SUL PORTO ALEGRE   \n",
      "1019592          0          1  GRANDE DO SUL PORTO ALEGRE   \n",
      "\n",
      "                        SP_CIDADE_P  \n",
      "0             GRANDE DO SUL PELOTAS  \n",
      "1             GRANDE DO SUL PELOTAS  \n",
      "2             GRANDE DO SUL PELOTAS  \n",
      "3             GRANDE DO SUL PELOTAS  \n",
      "4             GRANDE DO SUL PELOTAS  \n",
      "...                             ...  \n",
      "1019588  GRANDE DO SUL PORTO ALEGRE  \n",
      "1019589  GRANDE DO SUL PORTO ALEGRE  \n",
      "1019590  GRANDE DO SUL PORTO ALEGRE  \n",
      "1019591  GRANDE DO SUL PORTO ALEGRE  \n",
      "1019592  GRANDE DO SUL PORTO ALEGRE  \n",
      "\n",
      "[1019593 rows x 17 columns]\n"
     ]
    }
   ],
   "source": [
    "data_clean['SP_CIDADE_P'] = data_clean['SP_M_PAC'].map(codigo_cidade)\n",
    "print(data_clean)"
   ]
  },
  {
   "cell_type": "code",
   "execution_count": 16,
   "metadata": {},
   "outputs": [
    {
     "name": "stdout",
     "output_type": "stream",
     "text": [
      "        SP_UF SP_AA SP_MM  SP_CNES        SP_NAIH  SP_PROCREA SP_DTINTER  \\\n",
      "0          43  2023    09  2252694  4323105050374  0303010037   20230707   \n",
      "1          43  2023    09  2252694  4323105050374  0303010037   20230707   \n",
      "2          43  2023    09  2252694  4323105050374  0303010037   20230707   \n",
      "3          43  2023    09  2252694  4323105050374  0303010037   20230707   \n",
      "4          43  2023    09  2252694  4323105050374  0303010037   20230707   \n",
      "...       ...   ...   ...      ...            ...         ...        ...   \n",
      "1019588    43  2023    09  7092571  4323106444316  0403020050   20230706   \n",
      "1019589    43  2023    09  7092571  4323106444316  0403020050   20230706   \n",
      "1019590    43  2023    09  7092571  4323106444316  0403020050   20230706   \n",
      "1019591    43  2023    09  7092571  4323106444316  0403020050   20230706   \n",
      "1019592    43  2023    09  7092571  4323106444316  0403020050   20230706   \n",
      "\n",
      "        SP_DTSAIDA  SP_ATOPROF       SP_VALATO SP_M_HOSP SP_M_PAC SP_DES_HOS  \\\n",
      "0         20230802  0206010079           97.44    431440   431440          0   \n",
      "1         20230802  0206020031          136.41    431440   431440          0   \n",
      "2         20230802  0206030010          138.63    431440   431440          0   \n",
      "3         20230802  0206030037          138.63    431440   431440          0   \n",
      "4         20230802  0203010035           20.96    431440   431440          0   \n",
      "...            ...         ...             ...       ...      ...        ...   \n",
      "1019588   20230707  0403020050           64.00    431490   431490          0   \n",
      "1019589   20230707  0301010048            0.00    431490   431490          0   \n",
      "1019590   20230707  0301010170           10.03    431490   431490          0   \n",
      "1019591   20230707  0301010048            0.00    431490   431490          0   \n",
      "1019592   20230707  0301010170           10.04    431490   431490          0   \n",
      "\n",
      "        SP_DES_PAC SP_QT_PROC   SP_CIDADE_H   SP_CIDADE_P  \n",
      "0                0          1       PELOTAS       PELOTAS  \n",
      "1                0          1       PELOTAS       PELOTAS  \n",
      "2                0          1       PELOTAS       PELOTAS  \n",
      "3                0          1       PELOTAS       PELOTAS  \n",
      "4                0          1       PELOTAS       PELOTAS  \n",
      "...            ...        ...           ...           ...  \n",
      "1019588          0          0  PORTO ALEGRE  PORTO ALEGRE  \n",
      "1019589          0          1  PORTO ALEGRE  PORTO ALEGRE  \n",
      "1019590          0          1  PORTO ALEGRE  PORTO ALEGRE  \n",
      "1019591          0          1  PORTO ALEGRE  PORTO ALEGRE  \n",
      "1019592          0          1  PORTO ALEGRE  PORTO ALEGRE  \n",
      "\n",
      "[1019593 rows x 17 columns]\n"
     ]
    }
   ],
   "source": [
    "# String GRANDE DO SUL precisa ser retirada do dataset\n",
    "rs = 'GRANDE DO SUL'\n",
    "data_clean['SP_CIDADE_H'] = data_clean['SP_CIDADE_H'].str.replace(rs, '').str.strip()\n",
    "data_clean['SP_CIDADE_P'] = data_clean['SP_CIDADE_P'].str.replace(rs, '').str.strip()\n",
    "\n",
    "print(data_clean)"
   ]
  },
  {
   "cell_type": "code",
   "execution_count": 17,
   "metadata": {},
   "outputs": [
    {
     "name": "stdout",
     "output_type": "stream",
     "text": [
      "Total de valores nulos na coluna 'SP_CIDADE_P': 3525\n",
      "Total de valores nulos na coluna 'SP_CIDADE_H': 0\n"
     ]
    }
   ],
   "source": [
    "nulos_p = data_clean['SP_CIDADE_P'].isna().sum()\n",
    "nulos_h = data_clean['SP_CIDADE_H'].isna().sum()\n",
    "print(f\"Total de valores nulos na coluna 'SP_CIDADE_P': {nulos_p}\")\n",
    "print(f\"Total de valores nulos na coluna 'SP_CIDADE_H': {nulos_h}\")"
   ]
  },
  {
   "cell_type": "code",
   "execution_count": 18,
   "metadata": {},
   "outputs": [
    {
     "name": "stdout",
     "output_type": "stream",
     "text": [
      "Códigos SP_M_HOSP com valores nulos na coluna SP_CIDADE_H:\n",
      "<StringArray>\n",
      "['421720', '421225', '421870', '420140', '420750', '110004', '310350',\n",
      " '320500', '150775', '130440', '330540', '220795', '130260', '420419',\n",
      " '431454', '140045', '355030', '530010', '292740', '316040', '411950',\n",
      " '420910', '420430', '420420', '421800', '160030', '421650', '420540',\n",
      " '420195', '120025', '110032', '110020', '420820', '421600', '312770',\n",
      " '210090', '411330', '421130', '412200', '410140', '350850', '410302',\n",
      " '412810', '410370', '420545', '292070', '410690', '353930', '251610',\n",
      " '110002', '420570', '421880', '352940', '110140', '421270', '412370',\n",
      " '330490', '311860', '420830', '354870', '420840', '412625', '351830',\n",
      " '412680', '330414', '354880', '353980', '421770', '291050', '421190',\n",
      " '420700', '150619', '421280', '420460', '293077', '410965', '411990',\n",
      " '420610', '313055', '510320', '421890', '330455', '410040', '421660',\n",
      " '410480']\n",
      "Length: 85, dtype: string\n"
     ]
    }
   ],
   "source": [
    "codigos_nulos = data_clean[data_clean['SP_CIDADE_P'].isnull()]['SP_M_PAC'].unique()\n",
    "\n",
    "print(\"Códigos SP_M_HOSP com valores nulos na coluna SP_CIDADE_H:\")\n",
    "print(codigos_nulos)"
   ]
  },
  {
   "cell_type": "raw",
   "metadata": {},
   "source": [
    "AQUI ACIMA FOI DESCOBERTO QUE, EXISTIAM PESSOAS QUE MORAVAM FORA DO RIO GRANDE DO SUL, POR ISSO CRIAMOS UMA COLUNA NOVA CHAMADA SP_CIDADE_P_EXT ONDE TEMOS OS NOMES DAS CIDADES DOS PACIENTES QUE MORAVAM FORA DO RIO GRANDE DO SUL, SE OS PACIENTES MORAVAM DENTRO DO RIO GRANDE DO SUL, A LINHA FICOU COM \"CIDADE DO RS\" COMO DADO"
   ]
  },
  {
   "cell_type": "code",
   "execution_count": 19,
   "metadata": {},
   "outputs": [],
   "source": [
    "arquivo = 'Nomes_cidades_externas'\n",
    "codigo_cidade_externa = {}\n",
    "\n",
    "with open(arquivo, 'r') as f:\n",
    "    linhas = f.readlines()\n",
    "\n",
    "for linha in linhas:\n",
    "    partes = linha.split()    \n",
    "    codigo_cid = partes[0]\n",
    "    \n",
    "    nome_cidade = ' '.join(partes[2:-1])\n",
    "    codigo_cidade_externa[codigo_cid] = nome_cidade\n",
    "\n"
   ]
  },
  {
   "cell_type": "code",
   "execution_count": 20,
   "metadata": {},
   "outputs": [
    {
     "name": "stdout",
     "output_type": "stream",
     "text": [
      "        SP_UF SP_AA SP_MM  SP_CNES        SP_NAIH  SP_PROCREA SP_DTINTER  \\\n",
      "0          43  2023    09  2252694  4323105050374  0303010037   20230707   \n",
      "1          43  2023    09  2252694  4323105050374  0303010037   20230707   \n",
      "2          43  2023    09  2252694  4323105050374  0303010037   20230707   \n",
      "3          43  2023    09  2252694  4323105050374  0303010037   20230707   \n",
      "4          43  2023    09  2252694  4323105050374  0303010037   20230707   \n",
      "...       ...   ...   ...      ...            ...         ...        ...   \n",
      "1019588    43  2023    09  7092571  4323106444316  0403020050   20230706   \n",
      "1019589    43  2023    09  7092571  4323106444316  0403020050   20230706   \n",
      "1019590    43  2023    09  7092571  4323106444316  0403020050   20230706   \n",
      "1019591    43  2023    09  7092571  4323106444316  0403020050   20230706   \n",
      "1019592    43  2023    09  7092571  4323106444316  0403020050   20230706   \n",
      "\n",
      "        SP_DTSAIDA  SP_ATOPROF       SP_VALATO SP_M_HOSP SP_M_PAC SP_DES_HOS  \\\n",
      "0         20230802  0206010079           97.44    431440   431440          0   \n",
      "1         20230802  0206020031          136.41    431440   431440          0   \n",
      "2         20230802  0206030010          138.63    431440   431440          0   \n",
      "3         20230802  0206030037          138.63    431440   431440          0   \n",
      "4         20230802  0203010035           20.96    431440   431440          0   \n",
      "...            ...         ...             ...       ...      ...        ...   \n",
      "1019588   20230707  0403020050           64.00    431490   431490          0   \n",
      "1019589   20230707  0301010048            0.00    431490   431490          0   \n",
      "1019590   20230707  0301010170           10.03    431490   431490          0   \n",
      "1019591   20230707  0301010048            0.00    431490   431490          0   \n",
      "1019592   20230707  0301010170           10.04    431490   431490          0   \n",
      "\n",
      "        SP_DES_PAC SP_QT_PROC   SP_CIDADE_H   SP_CIDADE_P SP_CIDADE_P_EXT  \n",
      "0                0          1       PELOTAS       PELOTAS            None  \n",
      "1                0          1       PELOTAS       PELOTAS            None  \n",
      "2                0          1       PELOTAS       PELOTAS            None  \n",
      "3                0          1       PELOTAS       PELOTAS            None  \n",
      "4                0          1       PELOTAS       PELOTAS            None  \n",
      "...            ...        ...           ...           ...             ...  \n",
      "1019588          0          0  PORTO ALEGRE  PORTO ALEGRE            None  \n",
      "1019589          0          1  PORTO ALEGRE  PORTO ALEGRE            None  \n",
      "1019590          0          1  PORTO ALEGRE  PORTO ALEGRE            None  \n",
      "1019591          0          1  PORTO ALEGRE  PORTO ALEGRE            None  \n",
      "1019592          0          1  PORTO ALEGRE  PORTO ALEGRE            None  \n",
      "\n",
      "[1019593 rows x 18 columns]\n"
     ]
    }
   ],
   "source": [
    "def verifica_cidade_exterior(sp_m_pac):\n",
    "    if sp_m_pac not in codigo_cidade:\n",
    "        return codigo_cidade_externa.get(sp_m_pac, 'Cidade do RS')\n",
    "    else:\n",
    "        return None\n",
    "data_clean['SP_CIDADE_P_EXT'] = data_clean['SP_M_PAC'].apply(lambda x: verifica_cidade_exterior(x))\n",
    "print(data_clean)"
   ]
  },
  {
   "cell_type": "code",
   "execution_count": 21,
   "metadata": {},
   "outputs": [
    {
     "name": "stdout",
     "output_type": "stream",
     "text": [
      "[None 'SÃO MIGUEL DO OESTE' 'PASSO DE TORRES' 'TUBARÃO' 'ARARANGUÁ'\n",
      " 'INDAIAL' 'CACOAL' 'ARAGUARI' 'SANTO SERRA' 'SAPUCAIA' 'URUCURITUBA'\n",
      " 'NOVA SANTA RITA' 'MANAUS' 'CHAPADÃO DO LAGEADO' 'Cidade do RS'\n",
      " 'PACARAIMA' 'SÃO PAULO' 'BRASÍLIA' 'SALVADOR' 'SANTO ANTÔNIO DO MONTE'\n",
      " 'PIRAQUARA' 'JOINVILLE' 'CONCÓRDIA' 'CHAPECÓ' 'TIJUCAS' 'MACAPÁ'\n",
      " 'SÃO JOAQUIM' 'FLORIANÓPOLIS' 'BALNEÁRIO ARROIO DO SILVA'\n",
      " 'EPITACIOLÂNDIA' 'SÃO MIGUEL DO GUAPORÉ' 'PORTO VELHO' 'ITAJAÍ'\n",
      " 'SÃO CARLOS' 'GOVERNADOR VALADARES' 'ARAIOSES' 'LARANJEIRAS DO SUL'\n",
      " 'NAVEGANTES' 'RIO AZUL' 'APUCARANA' 'CAÇAPAVA' 'BOA ESPERANÇA DO IGUAÇU'\n",
      " 'UMUARAMA' 'CAMBÉ' 'FORQUILHINHA' 'MARAÚ' 'CURITIBA' 'PIRASSUNUNGA'\n",
      " 'SOLEDADE' 'ARIQUEMES' 'GAROPABA' 'TURVO' 'MAUÁ' 'MONTE NEGRO'\n",
      " 'PETROLÂNDIA' 'SANTA ISABEL DO IVAÍ' 'SÃO GONÇALO' 'CONTAGEM' 'ITAPEMA'\n",
      " 'SÃO BERNARDO DO CAMPO' 'ITAPIRANGA' 'SARANDI' 'GUARAREMA' 'TAPEJARA'\n",
      " 'QUEIMADOS' 'SÃO CAETANO DO SUL' 'POÁ' 'SOMBRIO' 'ENTRE RIOS' 'PALHOÇA'\n",
      " 'IÇARA' 'RURÓPOLIS' 'BALNEÁRIO PIÇARRAS' 'CRICIÚMA' 'SOBRADINHO'\n",
      " 'HONÓRIO SERPA' 'PONTA GROSSA' 'GRÃO PARÁ' 'IMBÉ DE MINAS' 'COLÍDER'\n",
      " 'URUBICI' 'RIO DE JANEIRO' 'ALMIRANTE TAMANDARÉ' 'SÃO JOSÉ' 'CASCAVEL']\n"
     ]
    }
   ],
   "source": [
    "substituicoes = {\n",
    "    'CATARINA': '',\n",
    "    'GERAIS ': '',\n",
    "    'PAULO ': '',\n",
    "    'DE JANEIRO ': '',\n",
    "    'GROSSO DO SUL ': '',\n",
    "    'GROSSO ': ''\n",
    "}\n",
    "\n",
    "data_clean['SP_CIDADE_P_EXT'] = data_clean['SP_CIDADE_P_EXT'].replace(substituicoes, regex=True).str.strip()\n",
    "\n",
    "tipos_dados = data_clean['SP_CIDADE_P_EXT'].unique()\n",
    "print(tipos_dados)"
   ]
  },
  {
   "cell_type": "code",
   "execution_count": 22,
   "metadata": {},
   "outputs": [
    {
     "name": "stdout",
     "output_type": "stream",
     "text": [
      "        SP_UF SP_AA SP_MM  SP_CNES        SP_NAIH  SP_PROCREA SP_DTINTER  \\\n",
      "0          43  2023    09  2252694  4323105050374  0303010037   20230707   \n",
      "1          43  2023    09  2252694  4323105050374  0303010037   20230707   \n",
      "2          43  2023    09  2252694  4323105050374  0303010037   20230707   \n",
      "3          43  2023    09  2252694  4323105050374  0303010037   20230707   \n",
      "4          43  2023    09  2252694  4323105050374  0303010037   20230707   \n",
      "...       ...   ...   ...      ...            ...         ...        ...   \n",
      "1019588    43  2023    09  7092571  4323106444316  0403020050   20230706   \n",
      "1019589    43  2023    09  7092571  4323106444316  0403020050   20230706   \n",
      "1019590    43  2023    09  7092571  4323106444316  0403020050   20230706   \n",
      "1019591    43  2023    09  7092571  4323106444316  0403020050   20230706   \n",
      "1019592    43  2023    09  7092571  4323106444316  0403020050   20230706   \n",
      "\n",
      "        SP_DTSAIDA  SP_ATOPROF       SP_VALATO SP_M_HOSP SP_M_PAC SP_DES_HOS  \\\n",
      "0         20230802  0206010079           97.44    431440   431440          0   \n",
      "1         20230802  0206020031          136.41    431440   431440          0   \n",
      "2         20230802  0206030010          138.63    431440   431440          0   \n",
      "3         20230802  0206030037          138.63    431440   431440          0   \n",
      "4         20230802  0203010035           20.96    431440   431440          0   \n",
      "...            ...         ...             ...       ...      ...        ...   \n",
      "1019588   20230707  0403020050           64.00    431490   431490          0   \n",
      "1019589   20230707  0301010048            0.00    431490   431490          0   \n",
      "1019590   20230707  0301010170           10.03    431490   431490          0   \n",
      "1019591   20230707  0301010048            0.00    431490   431490          0   \n",
      "1019592   20230707  0301010170           10.04    431490   431490          0   \n",
      "\n",
      "        SP_DES_PAC SP_QT_PROC   SP_CIDADE_H   SP_CIDADE_P SP_CIDADE_P_EXT  \n",
      "0                0          1       PELOTAS       PELOTAS    Cidade do RS  \n",
      "1                0          1       PELOTAS       PELOTAS    Cidade do RS  \n",
      "2                0          1       PELOTAS       PELOTAS    Cidade do RS  \n",
      "3                0          1       PELOTAS       PELOTAS    Cidade do RS  \n",
      "4                0          1       PELOTAS       PELOTAS    Cidade do RS  \n",
      "...            ...        ...           ...           ...             ...  \n",
      "1019588          0          0  PORTO ALEGRE  PORTO ALEGRE    Cidade do RS  \n",
      "1019589          0          1  PORTO ALEGRE  PORTO ALEGRE    Cidade do RS  \n",
      "1019590          0          1  PORTO ALEGRE  PORTO ALEGRE    Cidade do RS  \n",
      "1019591          0          1  PORTO ALEGRE  PORTO ALEGRE    Cidade do RS  \n",
      "1019592          0          1  PORTO ALEGRE  PORTO ALEGRE    Cidade do RS  \n",
      "\n",
      "[1019593 rows x 18 columns]\n"
     ]
    },
    {
     "name": "stderr",
     "output_type": "stream",
     "text": [
      "/tmp/ipykernel_3714/3527762726.py:2: FutureWarning: A value is trying to be set on a copy of a DataFrame or Series through chained assignment using an inplace method.\n",
      "The behavior will change in pandas 3.0. This inplace method will never work because the intermediate object on which we are setting values always behaves as a copy.\n",
      "\n",
      "For example, when doing 'df[col].method(value, inplace=True)', try using 'df.method({col: value}, inplace=True)' or df[col] = df[col].method(value) instead, to perform the operation inplace on the original object.\n",
      "\n",
      "\n",
      "  data_clean['SP_CIDADE_P_EXT'].fillna('Cidade do RS', inplace=True)\n"
     ]
    }
   ],
   "source": [
    "# Substituir todos os valores None por 'Cidade do RS' na coluna SP_CIDADE_P_EXT\n",
    "data_clean['SP_CIDADE_P_EXT'].fillna('Cidade do RS', inplace=True)\n",
    "print(data_clean)"
   ]
  },
  {
   "cell_type": "code",
   "execution_count": 23,
   "metadata": {},
   "outputs": [
    {
     "data": {
      "text/plain": [
       "SP_CIDADE_P_EXT\n",
       "Cidade do RS             1016169\n",
       "IÇARA                        206\n",
       "PASSO DE TORRES              179\n",
       "GAROPABA                     164\n",
       "SÃO MIGUEL DO GUAPORÉ        147\n",
       "                          ...   \n",
       "COLÍDER                        3\n",
       "CASCAVEL                       3\n",
       "EPITACIOLÂNDIA                 2\n",
       "CONTAGEM                       2\n",
       "ALMIRANTE TAMANDARÉ            2\n",
       "Name: count, Length: 84, dtype: int64"
      ]
     },
     "execution_count": 23,
     "metadata": {},
     "output_type": "execute_result"
    }
   ],
   "source": [
    "contando_dados= data_clean['SP_CIDADE_P_EXT'].value_counts()\n",
    "contando_dados"
   ]
  },
  {
   "cell_type": "code",
   "execution_count": 24,
   "metadata": {},
   "outputs": [
    {
     "name": "stderr",
     "output_type": "stream",
     "text": [
      "/tmp/ipykernel_3714/321287065.py:1: FutureWarning: A value is trying to be set on a copy of a DataFrame or Series through chained assignment using an inplace method.\n",
      "The behavior will change in pandas 3.0. This inplace method will never work because the intermediate object on which we are setting values always behaves as a copy.\n",
      "\n",
      "For example, when doing 'df[col].method(value, inplace=True)', try using 'df.method({col: value}, inplace=True)' or df[col] = df[col].method(value) instead, to perform the operation inplace on the original object.\n",
      "\n",
      "\n",
      "  data_clean['SP_CIDADE_P'].fillna('Cidade de fora do RS', inplace=True)\n"
     ]
    }
   ],
   "source": [
    "data_clean['SP_CIDADE_P'].fillna('Cidade de fora do RS', inplace=True)"
   ]
  },
  {
   "cell_type": "code",
   "execution_count": 25,
   "metadata": {},
   "outputs": [
    {
     "name": "stdout",
     "output_type": "stream",
     "text": [
      "Total de valores nulos na coluna 'SP_CIDADE_P': 0\n",
      "Total de valores nulos na coluna 'SP_CIDADE_P_EXT': 0\n",
      "Total de valores nulos na coluna 'SP_CIDADE_H': 0\n"
     ]
    }
   ],
   "source": [
    "nulos_p = data_clean['SP_CIDADE_P'].isna().sum()\n",
    "nulos_ext = data_clean['SP_CIDADE_P_EXT'].isna().sum()\n",
    "nulos_h = data_clean['SP_CIDADE_H'].isna().sum()\n",
    "print(f\"Total de valores nulos na coluna 'SP_CIDADE_P': {nulos_p}\")\n",
    "print(f\"Total de valores nulos na coluna 'SP_CIDADE_P_EXT': {nulos_ext}\")\n",
    "print(f\"Total de valores nulos na coluna 'SP_CIDADE_H': {nulos_h}\")"
   ]
  },
  {
   "cell_type": "markdown",
   "metadata": {},
   "source": [
    "## Criando colunas de tipo de procedimento e ato profissional"
   ]
  },
  {
   "cell_type": "raw",
   "metadata": {},
   "source": [
    "0304040169 QUIMIOTERAPIA DE SARCOMA ÓSSEO / OSTEOSSARCOMA - 1ª LINHA 1447,70 0,00\n",
    "0304040177 QUIMIOTERAPIA DO ADENOCARCINOMA DE ESTÔMAGO (PRÉ-OPERATÓRIA) 1300,00 0,00\n",
    "0304050016 QUIMIOTERAPIA INTRA-VESICAL 1300,00 0,00\n",
    "0304050024 QUIMIOTERAPIA DE ADENOCARCINOMA DE CÓLON 2224,00 0,00\n",
    "0304050032 QUIMIOTERAPIA DO ADENOCARCINOMA DE RETO (ADJUVANTE) 427,50 0,00\n",
    "0304050040 HORMONIOTERAPIA DO CARCINOMA DE MAMA EM ESTÁDIO I 79,75 0,00\n",
    "0304050067 QUIMIOTERAPIA DO CARCINOMA DE MAMA EM ESTÁDIO III 800,00 0,00"
   ]
  },
  {
   "cell_type": "markdown",
   "metadata": {},
   "source": []
  },
  {
   "cell_type": "code",
   "execution_count": 26,
   "metadata": {},
   "outputs": [],
   "source": [
    "arquivo = 'codigo_procedimento'\n",
    "codigo_procedimento = {}\n",
    "\n",
    "with open(arquivo, 'r') as f:\n",
    "    linhas = f.readlines()\n",
    "\n",
    "for linha in linhas:\n",
    "    partes = linha.strip().split()\n",
    "    codigo = partes[0]\n",
    "    titulo = []\n",
    "\n",
    "    for parte in partes[1:]:\n",
    "        if any(char.isdigit() for char in parte):\n",
    "            break\n",
    "        titulo.append(parte)\n",
    "    \n",
    "    # Juntar o nome da atividade\n",
    "    titulo = ' '.join(titulo)\n",
    "    \n",
    "    # Adicionar ao dicionário\n",
    "    codigo_procedimento[codigo] = titulo\n",
    "\n",
    "# Exibir o dicionário\n",
    "#print(codigo_procedimento)"
   ]
  },
  {
   "cell_type": "code",
   "execution_count": 27,
   "metadata": {},
   "outputs": [
    {
     "data": {
      "text/plain": [
       "SP_N_PROC\n",
       "TRATAMENTO DE PNEUMONIAS OU INFLUENZA (GRIPE)                                      63436\n",
       "TRATAMENTO DE OUTRAS DOENÇAS BACTERIANAS                                           63221\n",
       "TRATAMENTO DE ACIDENTE VASCULAR CEREBRAL - AVC (ISQUEMICO OU HEMORRAGICO AGUDO)    32069\n",
       "PARTO CESARIANO                                                                    31442\n",
       "TRATAMENTO DE INSUFICIENCIA CARDIACA                                               31217\n",
       "                                                                                   ...  \n",
       "RESSECCAO ENDOSCOPICA DA EXTREMIDADE DISTAL DO URETER                                  3\n",
       "REPOSICIONAMENTO DE LENTE INTRAOCULAR                                                  3\n",
       "RETINOPEXIA C/ INTROFLEXAO ESCLERAL                                                    3\n",
       "FECHAMENTO DE FISTULA DE RETO                                                          3\n",
       "CICLODIALISE                                                                           2\n",
       "Name: count, Length: 1046, dtype: int64"
      ]
     },
     "execution_count": 27,
     "metadata": {},
     "output_type": "execute_result"
    }
   ],
   "source": [
    "data_clean['SP_N_PROC'] = data_clean['SP_PROCREA'].map(codigo_procedimento)\n",
    "contando_dados= data_clean['SP_N_PROC'].value_counts()\n",
    "contando_dados"
   ]
  },
  {
   "cell_type": "code",
   "execution_count": 28,
   "metadata": {
    "scrolled": true
   },
   "outputs": [
    {
     "name": "stdout",
     "output_type": "stream",
     "text": [
      "        SP_UF SP_AA SP_MM  SP_CNES        SP_NAIH  SP_PROCREA SP_DTINTER  \\\n",
      "0          43  2023    09  2252694  4323105050374  0303010037   20230707   \n",
      "1          43  2023    09  2252694  4323105050374  0303010037   20230707   \n",
      "2          43  2023    09  2252694  4323105050374  0303010037   20230707   \n",
      "3          43  2023    09  2252694  4323105050374  0303010037   20230707   \n",
      "4          43  2023    09  2252694  4323105050374  0303010037   20230707   \n",
      "...       ...   ...   ...      ...            ...         ...        ...   \n",
      "1019588    43  2023    09  7092571  4323106444316  0403020050   20230706   \n",
      "1019589    43  2023    09  7092571  4323106444316  0403020050   20230706   \n",
      "1019590    43  2023    09  7092571  4323106444316  0403020050   20230706   \n",
      "1019591    43  2023    09  7092571  4323106444316  0403020050   20230706   \n",
      "1019592    43  2023    09  7092571  4323106444316  0403020050   20230706   \n",
      "\n",
      "        SP_DTSAIDA  SP_ATOPROF       SP_VALATO SP_M_HOSP SP_M_PAC SP_DES_HOS  \\\n",
      "0         20230802  0206010079           97.44    431440   431440          0   \n",
      "1         20230802  0206020031          136.41    431440   431440          0   \n",
      "2         20230802  0206030010          138.63    431440   431440          0   \n",
      "3         20230802  0206030037          138.63    431440   431440          0   \n",
      "4         20230802  0203010035           20.96    431440   431440          0   \n",
      "...            ...         ...             ...       ...      ...        ...   \n",
      "1019588   20230707  0403020050           64.00    431490   431490          0   \n",
      "1019589   20230707  0301010048            0.00    431490   431490          0   \n",
      "1019590   20230707  0301010170           10.03    431490   431490          0   \n",
      "1019591   20230707  0301010048            0.00    431490   431490          0   \n",
      "1019592   20230707  0301010170           10.04    431490   431490          0   \n",
      "\n",
      "        SP_DES_PAC SP_QT_PROC   SP_CIDADE_H   SP_CIDADE_P SP_CIDADE_P_EXT  \\\n",
      "0                0          1       PELOTAS       PELOTAS    Cidade do RS   \n",
      "1                0          1       PELOTAS       PELOTAS    Cidade do RS   \n",
      "2                0          1       PELOTAS       PELOTAS    Cidade do RS   \n",
      "3                0          1       PELOTAS       PELOTAS    Cidade do RS   \n",
      "4                0          1       PELOTAS       PELOTAS    Cidade do RS   \n",
      "...            ...        ...           ...           ...             ...   \n",
      "1019588          0          0  PORTO ALEGRE  PORTO ALEGRE    Cidade do RS   \n",
      "1019589          0          1  PORTO ALEGRE  PORTO ALEGRE    Cidade do RS   \n",
      "1019590          0          1  PORTO ALEGRE  PORTO ALEGRE    Cidade do RS   \n",
      "1019591          0          1  PORTO ALEGRE  PORTO ALEGRE    Cidade do RS   \n",
      "1019592          0          1  PORTO ALEGRE  PORTO ALEGRE    Cidade do RS   \n",
      "\n",
      "                                        SP_N_PROC  \\\n",
      "0        TRATAMENTO DE OUTRAS DOENÇAS BACTERIANAS   \n",
      "1        TRATAMENTO DE OUTRAS DOENÇAS BACTERIANAS   \n",
      "2        TRATAMENTO DE OUTRAS DOENÇAS BACTERIANAS   \n",
      "3        TRATAMENTO DE OUTRAS DOENÇAS BACTERIANAS   \n",
      "4        TRATAMENTO DE OUTRAS DOENÇAS BACTERIANAS   \n",
      "...                                           ...   \n",
      "1019588        MICRONEUROLISE DE NERVO PERIFERICO   \n",
      "1019589        MICRONEUROLISE DE NERVO PERIFERICO   \n",
      "1019590        MICRONEUROLISE DE NERVO PERIFERICO   \n",
      "1019591        MICRONEUROLISE DE NERVO PERIFERICO   \n",
      "1019592        MICRONEUROLISE DE NERVO PERIFERICO   \n",
      "\n",
      "                                                 SP_N_ATOS  \n",
      "0                     TOMOGRAFIA COMPUTADORIZADA DO CRANIO  \n",
      "1                      TOMOGRAFIA COMPUTADORIZADA DE TORAX  \n",
      "2                    TOMOGRAFIA COMPUTADORIZADA DE ABDOMEN  \n",
      "3              TOMOGRAFIA COMPUTADORIZADA DE PELVE / BACIA  \n",
      "4        EXAME DE CITOLOGIA ONCOTICA (EXCETO CERVICO-VA...  \n",
      "...                                                    ...  \n",
      "1019588                 MICRONEUROLISE DE NERVO PERIFERICO  \n",
      "1019589  CONSULTA DE PROFISSIONAIS DE NIVEL SUPERIOR NA...  \n",
      "1019590                                                NaN  \n",
      "1019591  CONSULTA DE PROFISSIONAIS DE NIVEL SUPERIOR NA...  \n",
      "1019592                                                NaN  \n",
      "\n",
      "[1019593 rows x 20 columns]\n"
     ]
    }
   ],
   "source": [
    "data_clean['SP_N_ATOS'] = data_clean['SP_ATOPROF'].map(codigo_procedimento)\n",
    "print(data_clean)"
   ]
  },
  {
   "cell_type": "markdown",
   "metadata": {},
   "source": [
    "### Limpando Colunas com nulos e criando csv"
   ]
  },
  {
   "cell_type": "code",
   "execution_count": 29,
   "metadata": {},
   "outputs": [
    {
     "name": "stdout",
     "output_type": "stream",
     "text": [
      "Total de valores nulos na coluna 'SP_N_PROC': 134934\n",
      "Total de valores nulos na coluna 'SP_N_ATOS': 100400\n",
      "\n",
      "Total de valores NAO nulos na coluna 'SP_N_PROC': 884659\n",
      "Total de valores NAO nulos na coluna 'SP_N_ATOS': 919193\n"
     ]
    }
   ],
   "source": [
    "nulos_proc = data_clean['SP_N_PROC'].isna().sum()\n",
    "nulos_atos = data_clean['SP_N_ATOS'].isna().sum()\n",
    "print(f\"Total de valores nulos na coluna 'SP_N_PROC': {nulos_proc}\")\n",
    "print(f\"Total de valores nulos na coluna 'SP_N_ATOS': {nulos_atos}\")\n",
    "\n",
    "print()\n",
    "dados_proc = data_clean['SP_N_PROC'].notna().sum()\n",
    "dados_atos = data_clean['SP_N_ATOS'].notna().sum()\n",
    "print(f\"Total de valores NAO nulos na coluna 'SP_N_PROC': {dados_proc}\")\n",
    "print(f\"Total de valores NAO nulos na coluna 'SP_N_ATOS': {dados_atos}\")"
   ]
  },
  {
   "cell_type": "code",
   "execution_count": 30,
   "metadata": {},
   "outputs": [],
   "source": [
    "def verificar_codigos(codigos, dicionario):\n",
    "    presentes = []\n",
    "    ausentes = []\n",
    "    for codigo in codigos:\n",
    "        if codigo in dicionario:\n",
    "            presentes.append(codigo)\n",
    "        else:\n",
    "            ausentes.append(codigo)\n",
    "    return presentes, ausentes"
   ]
  },
  {
   "cell_type": "code",
   "execution_count": 31,
   "metadata": {},
   "outputs": [
    {
     "name": "stdout",
     "output_type": "stream",
     "text": [
      "Total de valores nulos na coluna 'SP_N_PROC': 134934\n",
      "Total de valores nulos na coluna 'SP_N_ATOS': 100400\n",
      "\n",
      "Total de valores NAO nulos na coluna 'SP_N_PROC': 884659\n",
      "Total de valores NAO nulos na coluna 'SP_N_ATOS': 919193\n"
     ]
    }
   ],
   "source": [
    "nulos_proc = data_clean['SP_N_PROC'].isna().sum()\n",
    "nulos_atos = data_clean['SP_N_ATOS'].isna().sum()\n",
    "print(f\"Total de valores nulos na coluna 'SP_N_PROC': {nulos_proc}\")\n",
    "print(f\"Total de valores nulos na coluna 'SP_N_ATOS': {nulos_atos}\")\n",
    "\n",
    "print()\n",
    "dados_proc = data_clean['SP_N_PROC'].notna().sum()\n",
    "dados_atos = data_clean['SP_N_ATOS'].notna().sum()\n",
    "print(f\"Total de valores NAO nulos na coluna 'SP_N_PROC': {dados_proc}\")\n",
    "print(f\"Total de valores NAO nulos na coluna 'SP_N_ATOS': {dados_atos}\")"
   ]
  },
  {
   "cell_type": "code",
   "execution_count": 32,
   "metadata": {},
   "outputs": [],
   "source": [
    "data_clean.dropna(subset=['SP_N_PROC'], inplace= True)\n",
    "data_clean.dropna(subset=['SP_N_ATOS'], inplace= True)\n"
   ]
  },
  {
   "cell_type": "code",
   "execution_count": 33,
   "metadata": {},
   "outputs": [],
   "source": [
    "data_limpo = data_clean.drop_duplicates()"
   ]
  },
  {
   "cell_type": "code",
   "execution_count": 34,
   "metadata": {},
   "outputs": [
    {
     "name": "stdout",
     "output_type": "stream",
     "text": [
      "<class 'pandas.core.frame.DataFrame'>\n",
      "Index: 753603 entries, 0 to 1019589\n",
      "Data columns (total 20 columns):\n",
      " #   Column           Non-Null Count   Dtype \n",
      "---  ------           --------------   ----- \n",
      " 0   SP_UF            753603 non-null  string\n",
      " 1   SP_AA            753603 non-null  string\n",
      " 2   SP_MM            753603 non-null  string\n",
      " 3   SP_CNES          753603 non-null  string\n",
      " 4   SP_NAIH          753603 non-null  string\n",
      " 5   SP_PROCREA       753603 non-null  string\n",
      " 6   SP_DTINTER       753603 non-null  string\n",
      " 7   SP_DTSAIDA       753603 non-null  string\n",
      " 8   SP_ATOPROF       753603 non-null  string\n",
      " 9   SP_VALATO        753603 non-null  string\n",
      " 10  SP_M_HOSP        753603 non-null  string\n",
      " 11  SP_M_PAC         753603 non-null  string\n",
      " 12  SP_DES_HOS       753603 non-null  string\n",
      " 13  SP_DES_PAC       753603 non-null  string\n",
      " 14  SP_QT_PROC       753603 non-null  string\n",
      " 15  SP_CIDADE_H      753603 non-null  object\n",
      " 16  SP_CIDADE_P      753603 non-null  object\n",
      " 17  SP_CIDADE_P_EXT  753603 non-null  object\n",
      " 18  SP_N_PROC        753603 non-null  object\n",
      " 19  SP_N_ATOS        753603 non-null  object\n",
      "dtypes: object(5), string(15)\n",
      "memory usage: 120.7+ MB\n"
     ]
    }
   ],
   "source": [
    "data_limpo.info()\n",
    "#data_limpo.to_csv('dados_limpos.csv', index=False)"
   ]
  },
  {
   "cell_type": "markdown",
   "metadata": {},
   "source": [
    "## Nova descrição das colunas"
   ]
  },
  {
   "cell_type": "raw",
   "metadata": {},
   "source": [
    "SP_UF = código do estado (43)\n",
    "\n",
    "SP_AA = ano do dado\n",
    "\n",
    "SP_MM = mes do dado\n",
    "\n",
    "SP_CNES = Código CNES do hospital\n",
    "\n",
    "SP_NAIH = Número do AIH (código que realizar a solicitação de internação) \n",
    "\n",
    "SP_PROCREA = Procedimento realizado na AIH (codigo nao espeficado) Tem 90% no link: https://arquivos.camacari.ba.gov.br/compras/ANEXO%20VIII%20-%20TABELA%20NACIONAL%20DE%20PROCEDIMENTOS%20SUS.pdf \n",
    "\n",
    "SP_DTINTER = Dia da internação (em string, exemplo: \"20221209\" ano, mes, dia\n",
    "\n",
    "SP_DTSAIDA = Data de saida(mesmo tipo e formato do de internação)\n",
    "\n",
    "SP_ATOPROF = Procedimento referente ao ato profissional (codigo NÃO especificado) Tem 90% no link: https://arquivos.camacari.ba.gov.br/compras/ANEXO%20VIII%20-%20TABELA%20NACIONAL%20DE%20PROCEDIMENTOS%20SUS.pdf \n",
    "\n",
    "SP_VALATO = Valor do ato profissional (numero em string)\n",
    "\n",
    "SP_M_HOSP = código do munícipio do hospital ou estabelecimento (temos oq significa)\n",
    "\n",
    "SP_M_PAC = código do endereço do paciente (temos oq significa)\n",
    "\n",
    "SP_DES_HOS E DES_PAC = COLUNA BINARIA INDICANDO SE O ENDEREÇO DO PACIENTE É IGUAL AO DO HOSPITAL\n",
    "\n",
    "SP_PF_CBO = Código de ocupação brasileira (titulo do trabalho do cara em código CBO) do profissional que realizou o ato (ou 0000 caso nao tenha info)\n",
    "\n",
    "SP_QT_PROC = qtd de procedimentos realizados (numeros)\n",
    "\n",
    "SP_CIDADE_H = Nome em string da cidade do hospital\n",
    "\n",
    "SP_CIDADE_P = Nome em string da cidade do paciente QUE MORA NO RS (os que nao moram esta como \"Cidade de fora do RS\"\n",
    "\n",
    "SP_CIDADE_P_EXT = Nome em string da cidade do paciente QUE MORA FORA DO RS (os que moramestão como \"Cidade do RS\")\n",
    "\n",
    "SP_N_PROC = Nome do procedimento \n",
    "\n",
    "SP_N_ATOS = Nome do ato realizado"
   ]
  },
  {
   "cell_type": "markdown",
   "metadata": {},
   "source": [
    "# Arquivo \"Geopandas\""
   ]
  },
  {
   "cell_type": "code",
   "execution_count": 35,
   "metadata": {},
   "outputs": [],
   "source": [
    "dados = pd.read_csv('dados_limpos.csv')"
   ]
  },
  {
   "cell_type": "code",
   "execution_count": 36,
   "metadata": {},
   "outputs": [
    {
     "name": "stdout",
     "output_type": "stream",
     "text": [
      "<class 'pandas.core.frame.DataFrame'>\n",
      "RangeIndex: 753603 entries, 0 to 753602\n",
      "Data columns (total 20 columns):\n",
      " #   Column           Non-Null Count   Dtype  \n",
      "---  ------           --------------   -----  \n",
      " 0   SP_UF            753603 non-null  int64  \n",
      " 1   SP_AA            753603 non-null  int64  \n",
      " 2   SP_MM            753603 non-null  int64  \n",
      " 3   SP_CNES          753603 non-null  int64  \n",
      " 4   SP_NAIH          753603 non-null  int64  \n",
      " 5   SP_PROCREA       753603 non-null  int64  \n",
      " 6   SP_DTINTER       753603 non-null  int64  \n",
      " 7   SP_DTSAIDA       753603 non-null  int64  \n",
      " 8   SP_ATOPROF       753603 non-null  int64  \n",
      " 9   SP_VALATO        753603 non-null  float64\n",
      " 10  SP_M_HOSP        753603 non-null  int64  \n",
      " 11  SP_M_PAC         753603 non-null  int64  \n",
      " 12  SP_DES_HOS       753603 non-null  int64  \n",
      " 13  SP_DES_PAC       753603 non-null  int64  \n",
      " 14  SP_QT_PROC       753603 non-null  int64  \n",
      " 15  SP_CIDADE_H      753603 non-null  object \n",
      " 16  SP_CIDADE_P      751732 non-null  object \n",
      " 17  SP_CIDADE_P_EXT  753603 non-null  object \n",
      " 18  SP_N_PROC        753603 non-null  object \n",
      " 19  SP_N_ATOS        753603 non-null  object \n",
      "dtypes: float64(1), int64(14), object(5)\n",
      "memory usage: 115.0+ MB\n"
     ]
    }
   ],
   "source": [
    "dados.info()"
   ]
  },
  {
   "cell_type": "code",
   "execution_count": 37,
   "metadata": {},
   "outputs": [
    {
     "name": "stdout",
     "output_type": "stream",
     "text": [
      "SP_UF                 0\n",
      "SP_AA                 0\n",
      "SP_MM                 0\n",
      "SP_CNES               0\n",
      "SP_NAIH               0\n",
      "SP_PROCREA            0\n",
      "SP_DTINTER            0\n",
      "SP_DTSAIDA            0\n",
      "SP_ATOPROF            0\n",
      "SP_VALATO             0\n",
      "SP_M_HOSP             0\n",
      "SP_M_PAC              0\n",
      "SP_DES_HOS            0\n",
      "SP_DES_PAC            0\n",
      "SP_QT_PROC            0\n",
      "SP_CIDADE_H           0\n",
      "SP_CIDADE_P        1871\n",
      "SP_CIDADE_P_EXT       0\n",
      "SP_N_PROC             0\n",
      "SP_N_ATOS             0\n",
      "dtype: int64\n"
     ]
    }
   ],
   "source": [
    "nulos = dados.isnull().sum()\n",
    "print(nulos)"
   ]
  },
  {
   "cell_type": "code",
   "execution_count": 38,
   "metadata": {},
   "outputs": [],
   "source": [
    "municipios = pd.read_csv('municipios.csv', sep=',', encoding='utf-8')  # Verifique o separador e a codificação correta"
   ]
  },
  {
   "cell_type": "code",
   "execution_count": 39,
   "metadata": {},
   "outputs": [],
   "source": [
    "dados = dados.dropna(subset=['SP_CIDADE_P'])"
   ]
  },
  {
   "cell_type": "code",
   "execution_count": 40,
   "metadata": {},
   "outputs": [
    {
     "name": "stdout",
     "output_type": "stream",
     "text": [
      "<class 'pandas.core.frame.DataFrame'>\n",
      "RangeIndex: 5570 entries, 0 to 5569\n",
      "Data columns (total 6 columns):\n",
      " #   Column        Non-Null Count  Dtype  \n",
      "---  ------        --------------  -----  \n",
      " 0   codigo_ibge   5570 non-null   int64  \n",
      " 1   nome          5570 non-null   object \n",
      " 2   latitude      5570 non-null   float64\n",
      " 3   longitude     5570 non-null   float64\n",
      " 4   ddd           5570 non-null   int64  \n",
      " 5   fuso_horario  5570 non-null   object \n",
      "dtypes: float64(2), int64(2), object(2)\n",
      "memory usage: 261.2+ KB\n"
     ]
    }
   ],
   "source": [
    "municipios.info()"
   ]
  },
  {
   "cell_type": "code",
   "execution_count": 41,
   "metadata": {},
   "outputs": [],
   "source": [
    "# Função para normalizar nomes de cidades\n",
    "def normalize_city_name(name):\n",
    "    if isinstance(name, str):\n",
    "        return ''.join(c for c in unicodedata.normalize('NFKD', name) if not unicodedata.combining(c)).lower().strip()\n",
    "    else:\n",
    "        return ''"
   ]
  },
  {
   "cell_type": "code",
   "execution_count": 42,
   "metadata": {},
   "outputs": [],
   "source": [
    "# Aplicar normalização às colunas relevantes\n",
    "dados['SP_CIDADE_H_norm'] = dados['SP_CIDADE_H'].apply(normalize_city_name)\n",
    "dados['SP_CIDADE_P_norm'] = dados['SP_CIDADE_P'].apply(normalize_city_name)\n",
    "dados['SP_CIDADE_P_EXT_norm'] = dados['SP_CIDADE_P_EXT'].apply(normalize_city_name)\n",
    "municipios['nome_norm'] = municipios['nome'].apply(normalize_city_name)"
   ]
  },
  {
   "cell_type": "code",
   "execution_count": 43,
   "metadata": {},
   "outputs": [],
   "source": [
    "# Mesclar os DataFrames utilizando as colunas normalizadas\n",
    "dados = dados.merge(municipios[['nome_norm', 'latitude', 'longitude']], how='left', left_on='SP_CIDADE_H_norm', right_on='nome_norm')\n",
    "dados.rename(columns={'latitude': 'latitude_h', 'longitude': 'longitude_h'}, inplace=True)\n",
    "dados.drop(columns=['SP_CIDADE_H_norm', 'nome_norm'], inplace=True)\n",
    "\n",
    "dados = dados.merge(municipios[['nome_norm', 'latitude', 'longitude']], how='left', left_on='SP_CIDADE_P_norm', right_on='nome_norm')\n",
    "dados.rename(columns={'latitude': 'latitude_p', 'longitude': 'longitude_p'}, inplace=True)\n",
    "dados.drop(columns=['SP_CIDADE_P_norm', 'nome_norm'], inplace=True)\n",
    "\n",
    "dados = dados.merge(municipios[['nome_norm', 'latitude', 'longitude']], how='left', left_on='SP_CIDADE_P_EXT_norm', right_on='nome_norm')\n",
    "dados.rename(columns={'latitude': 'latitude_p_ext', 'longitude': 'longitude_p_ext'}, inplace=True)\n",
    "dados.drop(columns=['SP_CIDADE_P_EXT_norm', 'nome_norm'], inplace=True)"
   ]
  },
  {
   "cell_type": "code",
   "execution_count": 44,
   "metadata": {},
   "outputs": [],
   "source": [
    "# # Mesclar para 'SP_CIDADE_H'\n",
    "# dados = dados.merge(municipios[['nome', 'latitude', 'longitude']],\n",
    "#                     how='left', left_on='SP_CIDADE_H', right_on='nome')\n",
    "# dados.rename(columns={'latitude': 'latitude_h', 'longitude': 'longitude_h'}, inplace=True)\n",
    "# dados.drop(columns=['nome'], inplace=True)  # Drop a coluna auxiliar 'nome' do município\n",
    "# #\n",
    "# # Mesclar para 'SP_CIDADE_P'\n",
    "# dados = dados.merge(municipios[['nome', 'latitude', 'longitude']],\n",
    "#                     how='left', left_on='SP_CIDADE_P', right_on='nome')\n",
    "# dados.rename(columns={'latitude': 'latitude_p', 'longitude': 'longitude_p'}, inplace=True)\n",
    "# dados.drop(columns=['nome'], inplace=True)  # Drop a coluna auxiliar 'nome' do município\n",
    "\n",
    "# # Mesclar para 'SP_CIDADE_P_EXT'\n",
    "# dados = dados.merge(municipios[['nome', 'latitude', 'longitude']],\n",
    "#                     how='left', left_on='SP_CIDADE_P_EXT', right_on='nome')\n",
    "# dados.rename(columns={'latitude': 'latitude_p_ext', 'longitude': 'longitude_p_ext'}, inplace=True)\n",
    "# dados.drop(columns=['nome'], inplace=True)  # Drop a coluna auxiliar 'nome' do município\n",
    "\n",
    "# # Exibir o resultado\n",
    "# print(dados.head())"
   ]
  },
  {
   "cell_type": "code",
   "execution_count": 45,
   "metadata": {},
   "outputs": [
    {
     "name": "stdout",
     "output_type": "stream",
     "text": [
      "<class 'pandas.core.frame.DataFrame'>\n",
      "RangeIndex: 949348 entries, 0 to 949347\n",
      "Data columns (total 26 columns):\n",
      " #   Column           Non-Null Count   Dtype  \n",
      "---  ------           --------------   -----  \n",
      " 0   SP_UF            949348 non-null  int64  \n",
      " 1   SP_AA            949348 non-null  int64  \n",
      " 2   SP_MM            949348 non-null  int64  \n",
      " 3   SP_CNES          949348 non-null  int64  \n",
      " 4   SP_NAIH          949348 non-null  int64  \n",
      " 5   SP_PROCREA       949348 non-null  int64  \n",
      " 6   SP_DTINTER       949348 non-null  int64  \n",
      " 7   SP_DTSAIDA       949348 non-null  int64  \n",
      " 8   SP_ATOPROF       949348 non-null  int64  \n",
      " 9   SP_VALATO        949348 non-null  float64\n",
      " 10  SP_M_HOSP        949348 non-null  int64  \n",
      " 11  SP_M_PAC         949348 non-null  int64  \n",
      " 12  SP_DES_HOS       949348 non-null  int64  \n",
      " 13  SP_DES_PAC       949348 non-null  int64  \n",
      " 14  SP_QT_PROC       949348 non-null  int64  \n",
      " 15  SP_CIDADE_H      949348 non-null  object \n",
      " 16  SP_CIDADE_P      949348 non-null  object \n",
      " 17  SP_CIDADE_P_EXT  949348 non-null  object \n",
      " 18  SP_N_PROC        949348 non-null  object \n",
      " 19  SP_N_ATOS        949348 non-null  object \n",
      " 20  latitude_h       949348 non-null  float64\n",
      " 21  longitude_h      949348 non-null  float64\n",
      " 22  latitude_p       946162 non-null  float64\n",
      " 23  longitude_p      946162 non-null  float64\n",
      " 24  latitude_p_ext   2235 non-null    float64\n",
      " 25  longitude_p_ext  2235 non-null    float64\n",
      "dtypes: float64(7), int64(14), object(5)\n",
      "memory usage: 188.3+ MB\n"
     ]
    }
   ],
   "source": [
    "dados.info()"
   ]
  },
  {
   "cell_type": "code",
   "execution_count": 46,
   "metadata": {},
   "outputs": [],
   "source": [
    "nulos = dados.isnull().sum()"
   ]
  },
  {
   "cell_type": "code",
   "execution_count": 47,
   "metadata": {},
   "outputs": [
    {
     "name": "stdout",
     "output_type": "stream",
     "text": [
      "SP_UF                   0\n",
      "SP_AA                   0\n",
      "SP_MM                   0\n",
      "SP_CNES                 0\n",
      "SP_NAIH                 0\n",
      "SP_PROCREA              0\n",
      "SP_DTINTER              0\n",
      "SP_DTSAIDA              0\n",
      "SP_ATOPROF              0\n",
      "SP_VALATO               0\n",
      "SP_M_HOSP               0\n",
      "SP_M_PAC                0\n",
      "SP_DES_HOS              0\n",
      "SP_DES_PAC              0\n",
      "SP_QT_PROC              0\n",
      "SP_CIDADE_H             0\n",
      "SP_CIDADE_P             0\n",
      "SP_CIDADE_P_EXT         0\n",
      "SP_N_PROC               0\n",
      "SP_N_ATOS               0\n",
      "latitude_h              0\n",
      "longitude_h             0\n",
      "latitude_p           3186\n",
      "longitude_p          3186\n",
      "latitude_p_ext     947113\n",
      "longitude_p_ext    947113\n",
      "dtype: int64\n"
     ]
    }
   ],
   "source": [
    "print(nulos)"
   ]
  },
  {
   "cell_type": "code",
   "execution_count": 48,
   "metadata": {},
   "outputs": [
    {
     "name": "stdout",
     "output_type": "stream",
     "text": [
      "Index(['SP_UF', 'SP_AA', 'SP_MM', 'SP_CNES', 'SP_NAIH', 'SP_PROCREA',\n",
      "       'SP_DTINTER', 'SP_DTSAIDA', 'SP_ATOPROF', 'SP_VALATO', 'SP_M_HOSP',\n",
      "       'SP_M_PAC', 'SP_DES_HOS', 'SP_DES_PAC', 'SP_QT_PROC', 'SP_CIDADE_H',\n",
      "       'SP_CIDADE_P', 'SP_CIDADE_P_EXT', 'SP_N_PROC', 'SP_N_ATOS',\n",
      "       'latitude_h', 'longitude_h', 'latitude_p', 'longitude_p',\n",
      "       'latitude_p_ext', 'longitude_p_ext'],\n",
      "      dtype='object')\n"
     ]
    }
   ],
   "source": [
    "print(dados.columns)"
   ]
  },
  {
   "cell_type": "code",
   "execution_count": 49,
   "metadata": {},
   "outputs": [],
   "source": [
    "dados = dados.loc[:,~dados.columns.duplicated()]"
   ]
  },
  {
   "cell_type": "code",
   "execution_count": 50,
   "metadata": {},
   "outputs": [
    {
     "name": "stdout",
     "output_type": "stream",
     "text": [
      "       SP_DES_HOS   SP_CIDADE_H           SP_CIDADE_P SP_CIDADE_P_EXT  \\\n",
      "14731           1  PORTO ALEGRE  Cidade de fora do RS       ARARANGUÁ   \n",
      "14732           1  PORTO ALEGRE  Cidade de fora do RS       ARARANGUÁ   \n",
      "14733           1  PORTO ALEGRE  Cidade de fora do RS       ARARANGUÁ   \n",
      "17811           1  PORTO ALEGRE  Cidade de fora do RS          CACOAL   \n",
      "17812           1  PORTO ALEGRE  Cidade de fora do RS          CACOAL   \n",
      "\n",
      "                                               SP_N_PROC  \\\n",
      "14731  TRATAMENTO DE INTERCORRENCIA POS-TRANSPLANTE D...   \n",
      "14732  TRATAMENTO DE INTERCORRENCIA POS-TRANSPLANTE D...   \n",
      "14733  TRATAMENTO DE INTERCORRENCIA POS-TRANSPLANTE D...   \n",
      "17811  TRATAMENTO DE INTERCORRENCIA POS-TRANSPLANTE D...   \n",
      "17812  TRATAMENTO DE INTERCORRENCIA POS-TRANSPLANTE D...   \n",
      "\n",
      "                                               SP_N_ATOS  latitude_h  \\\n",
      "14731               CULTURA PARA IDENTIFICACAO DE FUNGOS    -30.0318   \n",
      "14732                               BACTEROSCOPIA (GRAM)    -30.0318   \n",
      "14733                       PESQUISA DE LARVAS NAS FEZES    -30.0318   \n",
      "17811  TRATAMENTO DE INTERCORRENCIA POS-TRANSPLANTE D...    -30.0318   \n",
      "17812   DOSAGEM DE TACROLIMO (EM PACIENTE TRANSPLANTADO)    -30.0318   \n",
      "\n",
      "       longitude_h  latitude_p  longitude_p  latitude_p_ext  longitude_p_ext  \n",
      "14731     -51.2065         NaN          NaN        -28.9356         -49.4918  \n",
      "14732     -51.2065         NaN          NaN        -28.9356         -49.4918  \n",
      "14733     -51.2065         NaN          NaN        -28.9356         -49.4918  \n",
      "17811     -51.2065         NaN          NaN        -11.4343         -61.4562  \n",
      "17812     -51.2065         NaN          NaN        -11.4343         -61.4562  \n"
     ]
    }
   ],
   "source": [
    "# Criando uma máscara booleana para identificar linhas onde a coluna SP_CIDADE_P é nula\n",
    "mask = dados['latitude_p'].isnull()\n",
    "\n",
    "# Aplicando a máscara para filtrar as linhas e selecionando as colunas desejadas para visualização\n",
    "linhas_nulas = dados.loc[mask, ['SP_DES_HOS','SP_CIDADE_H', 'SP_CIDADE_P',\n",
    "                             'SP_CIDADE_P_EXT', 'SP_N_PROC', 'SP_N_ATOS',\n",
    "                             'latitude_h', 'longitude_h', 'latitude_p', 'longitude_p',\n",
    "                             'latitude_p_ext', 'longitude_p_ext']]\n",
    "\n",
    "# Imprimindo algumas linhas para visualização\n",
    "print(linhas_nulas.head())"
   ]
  },
  {
   "cell_type": "code",
   "execution_count": 51,
   "metadata": {},
   "outputs": [
    {
     "name": "stdout",
     "output_type": "stream",
     "text": [
      "<class 'pandas.core.frame.DataFrame'>\n",
      "RangeIndex: 949348 entries, 0 to 949347\n",
      "Data columns (total 26 columns):\n",
      " #   Column           Non-Null Count   Dtype  \n",
      "---  ------           --------------   -----  \n",
      " 0   SP_UF            949348 non-null  int64  \n",
      " 1   SP_AA            949348 non-null  int64  \n",
      " 2   SP_MM            949348 non-null  int64  \n",
      " 3   SP_CNES          949348 non-null  int64  \n",
      " 4   SP_NAIH          949348 non-null  int64  \n",
      " 5   SP_PROCREA       949348 non-null  int64  \n",
      " 6   SP_DTINTER       949348 non-null  int64  \n",
      " 7   SP_DTSAIDA       949348 non-null  int64  \n",
      " 8   SP_ATOPROF       949348 non-null  int64  \n",
      " 9   SP_VALATO        949348 non-null  float64\n",
      " 10  SP_M_HOSP        949348 non-null  int64  \n",
      " 11  SP_M_PAC         949348 non-null  int64  \n",
      " 12  SP_DES_HOS       949348 non-null  int64  \n",
      " 13  SP_DES_PAC       949348 non-null  int64  \n",
      " 14  SP_QT_PROC       949348 non-null  int64  \n",
      " 15  SP_CIDADE_H      949348 non-null  object \n",
      " 16  SP_CIDADE_P      949348 non-null  object \n",
      " 17  SP_CIDADE_P_EXT  949348 non-null  object \n",
      " 18  SP_N_PROC        949348 non-null  object \n",
      " 19  SP_N_ATOS        949348 non-null  object \n",
      " 20  latitude_h       949348 non-null  float64\n",
      " 21  longitude_h      949348 non-null  float64\n",
      " 22  latitude_p       946162 non-null  float64\n",
      " 23  longitude_p      946162 non-null  float64\n",
      " 24  latitude_p_ext   2235 non-null    float64\n",
      " 25  longitude_p_ext  2235 non-null    float64\n",
      "dtypes: float64(7), int64(14), object(5)\n",
      "memory usage: 188.3+ MB\n",
      "None\n"
     ]
    }
   ],
   "source": [
    "# Remover duplicatas mantendo apenas a primeira ocorrência\n",
    "dados = dados.drop_duplicates()\n",
    "\n",
    "# Exibir o resultado\n",
    "print(dados.info())"
   ]
  },
  {
   "cell_type": "code",
   "execution_count": 52,
   "metadata": {},
   "outputs": [
    {
     "name": "stdout",
     "output_type": "stream",
     "text": [
      "   SP_UF  SP_AA  SP_MM  SP_CNES        SP_NAIH  SP_PROCREA  SP_DTINTER  \\\n",
      "0     43   2023      9  2252694  4323105050374   303010037    20230707   \n",
      "1     43   2023      9  2252694  4323105050374   303010037    20230707   \n",
      "2     43   2023      9  2252694  4323105050374   303010037    20230707   \n",
      "3     43   2023      9  2252694  4323105050374   303010037    20230707   \n",
      "4     43   2023      9  2252694  4323105050374   303010037    20230707   \n",
      "\n",
      "   SP_DTSAIDA  SP_ATOPROF  SP_VALATO  ...  SP_CIDADE_P  SP_CIDADE_P_EXT  \\\n",
      "0    20230802   206010079      97.44  ...      PELOTAS     Cidade do RS   \n",
      "1    20230802   206020031     136.41  ...      PELOTAS     Cidade do RS   \n",
      "2    20230802   206030010     138.63  ...      PELOTAS     Cidade do RS   \n",
      "3    20230802   206030037     138.63  ...      PELOTAS     Cidade do RS   \n",
      "4    20230802   203010035      20.96  ...      PELOTAS     Cidade do RS   \n",
      "\n",
      "                                  SP_N_PROC  \\\n",
      "0  TRATAMENTO DE OUTRAS DOENÇAS BACTERIANAS   \n",
      "1  TRATAMENTO DE OUTRAS DOENÇAS BACTERIANAS   \n",
      "2  TRATAMENTO DE OUTRAS DOENÇAS BACTERIANAS   \n",
      "3  TRATAMENTO DE OUTRAS DOENÇAS BACTERIANAS   \n",
      "4  TRATAMENTO DE OUTRAS DOENÇAS BACTERIANAS   \n",
      "\n",
      "                                           SP_N_ATOS  latitude_h longitude_h  \\\n",
      "0               TOMOGRAFIA COMPUTADORIZADA DO CRANIO    -31.7649    -52.3371   \n",
      "1                TOMOGRAFIA COMPUTADORIZADA DE TORAX    -31.7649    -52.3371   \n",
      "2              TOMOGRAFIA COMPUTADORIZADA DE ABDOMEN    -31.7649    -52.3371   \n",
      "3        TOMOGRAFIA COMPUTADORIZADA DE PELVE / BACIA    -31.7649    -52.3371   \n",
      "4  EXAME DE CITOLOGIA ONCOTICA (EXCETO CERVICO-VA...    -31.7649    -52.3371   \n",
      "\n",
      "  latitude_p longitude_p latitude_p_ext longitude_p_ext  \n",
      "0   -31.7649    -52.3371   cidade do RS    cidade do RS  \n",
      "1   -31.7649    -52.3371   cidade do RS    cidade do RS  \n",
      "2   -31.7649    -52.3371   cidade do RS    cidade do RS  \n",
      "3   -31.7649    -52.3371   cidade do RS    cidade do RS  \n",
      "4   -31.7649    -52.3371   cidade do RS    cidade do RS  \n",
      "\n",
      "[5 rows x 26 columns]\n"
     ]
    },
    {
     "name": "stderr",
     "output_type": "stream",
     "text": [
      "/tmp/ipykernel_3714/4003231006.py:2: FutureWarning: A value is trying to be set on a copy of a DataFrame or Series through chained assignment using an inplace method.\n",
      "The behavior will change in pandas 3.0. This inplace method will never work because the intermediate object on which we are setting values always behaves as a copy.\n",
      "\n",
      "For example, when doing 'df[col].method(value, inplace=True)', try using 'df.method({col: value}, inplace=True)' or df[col] = df[col].method(value) instead, to perform the operation inplace on the original object.\n",
      "\n",
      "\n",
      "  dados['latitude_p_ext'].fillna('cidade do RS', inplace=True)\n",
      "/tmp/ipykernel_3714/4003231006.py:2: FutureWarning: Setting an item of incompatible dtype is deprecated and will raise an error in a future version of pandas. Value 'cidade do RS' has dtype incompatible with float64, please explicitly cast to a compatible dtype first.\n",
      "  dados['latitude_p_ext'].fillna('cidade do RS', inplace=True)\n",
      "/tmp/ipykernel_3714/4003231006.py:3: FutureWarning: A value is trying to be set on a copy of a DataFrame or Series through chained assignment using an inplace method.\n",
      "The behavior will change in pandas 3.0. This inplace method will never work because the intermediate object on which we are setting values always behaves as a copy.\n",
      "\n",
      "For example, when doing 'df[col].method(value, inplace=True)', try using 'df.method({col: value}, inplace=True)' or df[col] = df[col].method(value) instead, to perform the operation inplace on the original object.\n",
      "\n",
      "\n",
      "  dados['longitude_p_ext'].fillna('cidade do RS', inplace=True)\n",
      "/tmp/ipykernel_3714/4003231006.py:3: FutureWarning: Setting an item of incompatible dtype is deprecated and will raise an error in a future version of pandas. Value 'cidade do RS' has dtype incompatible with float64, please explicitly cast to a compatible dtype first.\n",
      "  dados['longitude_p_ext'].fillna('cidade do RS', inplace=True)\n"
     ]
    }
   ],
   "source": [
    "# Substituir NaN em latitude_p e longitude_p por \"cidades de fora RS\"\n",
    "dados['latitude_p_ext'].fillna('cidade do RS', inplace=True)\n",
    "dados['longitude_p_ext'].fillna('cidade do RS', inplace=True)\n",
    "\n",
    "# Exibir o resultado\n",
    "print(dados.head())"
   ]
  },
  {
   "cell_type": "code",
   "execution_count": 53,
   "metadata": {},
   "outputs": [
    {
     "name": "stdout",
     "output_type": "stream",
     "text": [
      "<class 'pandas.core.frame.DataFrame'>\n",
      "RangeIndex: 949348 entries, 0 to 949347\n",
      "Data columns (total 26 columns):\n",
      " #   Column           Non-Null Count   Dtype  \n",
      "---  ------           --------------   -----  \n",
      " 0   SP_UF            949348 non-null  int64  \n",
      " 1   SP_AA            949348 non-null  int64  \n",
      " 2   SP_MM            949348 non-null  int64  \n",
      " 3   SP_CNES          949348 non-null  int64  \n",
      " 4   SP_NAIH          949348 non-null  int64  \n",
      " 5   SP_PROCREA       949348 non-null  int64  \n",
      " 6   SP_DTINTER       949348 non-null  int64  \n",
      " 7   SP_DTSAIDA       949348 non-null  int64  \n",
      " 8   SP_ATOPROF       949348 non-null  int64  \n",
      " 9   SP_VALATO        949348 non-null  float64\n",
      " 10  SP_M_HOSP        949348 non-null  int64  \n",
      " 11  SP_M_PAC         949348 non-null  int64  \n",
      " 12  SP_DES_HOS       949348 non-null  int64  \n",
      " 13  SP_DES_PAC       949348 non-null  int64  \n",
      " 14  SP_QT_PROC       949348 non-null  int64  \n",
      " 15  SP_CIDADE_H      949348 non-null  object \n",
      " 16  SP_CIDADE_P      949348 non-null  object \n",
      " 17  SP_CIDADE_P_EXT  949348 non-null  object \n",
      " 18  SP_N_PROC        949348 non-null  object \n",
      " 19  SP_N_ATOS        949348 non-null  object \n",
      " 20  latitude_h       949348 non-null  float64\n",
      " 21  longitude_h      949348 non-null  float64\n",
      " 22  latitude_p       946162 non-null  float64\n",
      " 23  longitude_p      946162 non-null  float64\n",
      " 24  latitude_p_ext   949348 non-null  object \n",
      " 25  longitude_p_ext  949348 non-null  object \n",
      "dtypes: float64(5), int64(14), object(7)\n",
      "memory usage: 188.3+ MB\n"
     ]
    }
   ],
   "source": [
    "dados.info()"
   ]
  },
  {
   "cell_type": "code",
   "execution_count": 54,
   "metadata": {},
   "outputs": [
    {
     "name": "stdout",
     "output_type": "stream",
     "text": [
      "longitude_p_ext\n",
      " cidade do RS    947113\n",
      "-48.5477            128\n",
      "-52.6152             92\n",
      "-49.5925             84\n",
      "-49722.0             83\n",
      "                  ...  \n",
      "-63.29                3\n",
      "-40.8145              3\n",
      "-51.0694              3\n",
      "-43.2003              3\n",
      "-68.7341              2\n",
      "Name: count, Length: 77, dtype: int64\n"
     ]
    }
   ],
   "source": [
    "contador = dados['longitude_p_ext'].value_counts()\n",
    "print(contador)"
   ]
  },
  {
   "cell_type": "code",
   "execution_count": 55,
   "metadata": {},
   "outputs": [
    {
     "name": "stdout",
     "output_type": "stream",
     "text": [
      "Quantidade de valores únicos na coluna SP_NAIH: 58556\n"
     ]
    }
   ],
   "source": [
    "contagem_naih = dados['SP_NAIH'].nunique()\n",
    "\n",
    "print(f\"Quantidade de valores únicos na coluna SP_NAIH: {contagem_naih}\")"
   ]
  },
  {
   "cell_type": "code",
   "execution_count": 56,
   "metadata": {
    "scrolled": true
   },
   "outputs": [
    {
     "name": "stdout",
     "output_type": "stream",
     "text": [
      "SP_N_PROC\n",
      "AJUSTE MEDICAMENTOSO DE SITUACOES NEUROLOGICAS AGUDIZADAS                         104\n",
      "ALARGAMENTO DA ENTRADA VAGINAL                                                      1\n",
      "ALCOOLIZAÇÃO PERCUTÂNEA DE CARCINOMA HEPÁTICO                                       5\n",
      "ALONGAMENTO / ENCURTAMENTO MIOTENDINOSO                                             3\n",
      "ALONGAMENTO DE COLUMELA                                                             1\n",
      "                                                                                 ... \n",
      "VITRECTOMIA POSTERIOR COM INFUSÃO DE PERFLUOCARBONO E ENDOLASER                    96\n",
      "VITRECTOMIA POSTERIOR COM INFUSÃO DE PERFLUOCARBONO/ÓLEO DE SILICONE/ENDOLASER     75\n",
      "VULVECTOMIA AMPLIADA C/ LINFADENECTOMIA EM ONCOLOGIA                                2\n",
      "VULVECTOMIA SIMPLES                                                                 8\n",
      "VULVECTOMIA SIMPLES POR TUMOR                                                       5\n",
      "Name: SP_N_PROC, Length: 1045, dtype: int64\n",
      "SP_N_PROC\n",
      "1      189\n",
      "2      135\n",
      "3       83\n",
      "4       61\n",
      "5       47\n",
      "      ... \n",
      "132      1\n",
      "186      1\n",
      "332      1\n",
      "455      1\n",
      "108      1\n",
      "Name: count, Length: 180, dtype: int64\n"
     ]
    }
   ],
   "source": [
    "dados_sem_duplicatas = dados.drop_duplicates(subset=['SP_NAIH', 'SP_N_PROC'])\n",
    "\n",
    "# Contar quantos procedimentos únicos cada paciente teve\n",
    "contagem_procedimentos = dados_sem_duplicatas.groupby('SP_N_PROC')['SP_N_PROC'].size()\n",
    "\n",
    "print(contagem_procedimentos)\n",
    "valor = contagem_procedimentos.value_counts()\n",
    "print(valor)"
   ]
  },
  {
   "cell_type": "code",
   "execution_count": 57,
   "metadata": {},
   "outputs": [
    {
     "data": {
      "image/png": "[encoded data removed]",
      "text/plain": [
       "<Figure size 1000x800 with 1 Axes>"
      ]
     },
     "metadata": {},
     "output_type": "display_data"
    }
   ],
   "source": [
    "import pandas as pd\n",
    "import geopandas as gpd\n",
    "from shapely.geometry import Point\n",
    "import matplotlib.pyplot as plt\n",
    "import cartopy.crs as ccrs\n",
    "import cartopy.feature as cfeature\n",
    "\n",
    "# 1. Criar as geometrias a partir dos dados originais\n",
    "geometry = [Point(xy) for xy in zip(dados['longitude_h'], dados['latitude_h'])]\n",
    "\n",
    "# 2. Criar o GeoDataFrame com o sistema de coordenadas WGS84 (EPSG:4326)\n",
    "gdf = gpd.GeoDataFrame(dados, geometry=geometry, crs=\"EPSG:4326\")\n",
    "\n",
    "# 3. Filtrar valores inválidos (fora dos limites geográficos do sistema WGS84)\n",
    "gdf = gdf[(gdf['longitude_h'] >= -180) & (gdf['longitude_h'] <= 180) &\n",
    "          (gdf['latitude_h'] >= -90) & (gdf['latitude_h'] <= 90)]\n",
    "\n",
    "# 4. Plotar os dados no mapa\n",
    "fig, ax = plt.subplots(figsize=(10, 8), subplot_kw={'projection': ccrs.PlateCarree()})\n",
    "ax.add_feature(cfeature.BORDERS, linestyle=':')\n",
    "ax.add_feature(cfeature.COASTLINE)\n",
    "ax.set_extent([-74, -34, -35, 6], crs=ccrs.PlateCarree())  # Ajustar os limites para o Brasil\n",
    "gdf.plot(ax=ax, marker='o', color='red', markersize=5, label='Internações')\n",
    "plt.title('Mapa de Internações no Brasil')\n",
    "plt.legend()\n",
    "plt.show()\n"
   ]
  },
  {
   "cell_type": "code",
   "execution_count": 58,
   "metadata": {},
   "outputs": [],
   "source": [
    "# gdf = gdf.to_crs(epsg=4326)\n"
   ]
  },
  {
   "cell_type": "code",
   "execution_count": 59,
   "metadata": {},
   "outputs": [
    {
     "name": "stdout",
     "output_type": "stream",
     "text": [
      "[-72.6756  -32.2327  -35.4581   -5.83802]\n",
      "False\n",
      "True\n",
      "-32.2327 -5.83802\n",
      "   longitude_h  latitude_h\n",
      "0     -52.3371    -31.7649\n",
      "1     -52.3371    -31.7649\n",
      "2     -52.3371    -31.7649\n",
      "3     -52.3371    -31.7649\n",
      "4     -52.3371    -31.7649\n",
      "         longitude_h     latitude_h\n",
      "count  949348.000000  949348.000000\n",
      "mean     -842.277115   -1906.636485\n",
      "std      6283.711411    7198.735147\n",
      "min    -54822.000000  -33525.000000\n",
      "25%       -52.409100     -30.031800\n",
      "50%       -51.206500     -29.912800\n",
      "75%       -51.179200     -28.507900\n",
      "max       -35.458100      -5.838020\n"
     ]
    }
   ],
   "source": [
    "print(gdf.total_bounds)\n",
    "print(gdf.is_empty.any())  # Deve retornar False\n",
    "print(gdf.is_valid.all())  # Deve retornar True\n",
    "print(gdf.geometry.y.min(), gdf.geometry.y.max())\n",
    "print(dados[['longitude_h', 'latitude_h']].head())\n",
    "print(dados[['longitude_h', 'latitude_h']].describe())\n"
   ]
  },
  {
   "cell_type": "code",
   "execution_count": 60,
   "metadata": {},
   "outputs": [
    {
     "data": {
      "image/png": "[encoded data removed]",
      "text/plain": [
       "<Figure size 1000x800 with 1 Axes>"
      ]
     },
     "metadata": {},
     "output_type": "display_data"
    }
   ],
   "source": [
    "# 1. Criar as geometrias a partir dos dados originais\n",
    "geometry = [Point(xy) for xy in zip(dados['longitude_h'], dados['latitude_h'])]\n",
    "\n",
    "# 2. Criar o GeoDataFrame com o sistema de coordenadas WGS84 (EPSG:4326)\n",
    "gdf = gpd.GeoDataFrame(dados, geometry=geometry, crs=\"EPSG:4326\")\n",
    "\n",
    "# 3. Filtrar valores inválidos (fora dos limites geográficos do sistema WGS84)\n",
    "gdf = gdf[(gdf['longitude_h'] >= -180) & (gdf['longitude_h'] <= 180) &\n",
    "          (gdf['latitude_h'] >= -90) & (gdf['latitude_h'] <= 90)]\n",
    "\n",
    "# 4. Configurar o gráfico para usar o sistema de coordenadas\n",
    "fig, ax = plt.subplots(figsize=(10, 8), subplot_kw={'projection': ccrs.PlateCarree()})\n",
    "\n",
    "# Adicionar o mapa básico com limites de países\n",
    "ax.add_feature(cfeature.BORDERS, linestyle=':')\n",
    "ax.add_feature(cfeature.COASTLINE)\n",
    "\n",
    "# Limitar o gráfico ao Rio Grande do Sul (coordenadas aproximadas)\n",
    "ax.set_extent([-57.65, -49.5, -34.0, -27.0], crs=ccrs.PlateCarree())  # Ajuste os limites para o RS\n",
    "\n",
    "# Plotar os pontos do GeoDataFrame no mapa\n",
    "gdf.plot(ax=ax, marker='o', color='red', markersize=5, label='Internações')\n",
    "\n",
    "# Adicionar título e legendas\n",
    "plt.title('Mapa de Internações no Rio Grande do Sul')\n",
    "plt.legend()\n",
    "plt.show()"
   ]
  },
  {
   "cell_type": "code",
   "execution_count": null,
   "metadata": {},
   "outputs": [],
   "source": []
  },
  {
   "cell_type": "code",
   "execution_count": 61,
   "metadata": {},
   "outputs": [
    {
     "name": "stdout",
     "output_type": "stream",
     "text": [
      "Cidades com latitude acima de -25: 224\n",
      "\n",
      "Linhas com latitude entre -25 e 0:\n",
      "        SP_UF  SP_AA  SP_MM  SP_CNES        SP_NAIH  SP_PROCREA  SP_DTINTER  \\\n",
      "62366      43   2023      9  2232081  4323102301397   303140046    20230827   \n",
      "62367      43   2023      9  2232081  4323102301397   303140046    20230827   \n",
      "62370      43   2023      9  2232081  4323102301397   303140046    20230827   \n",
      "62371      43   2023      9  2232081  4323102301397   303140046    20230827   \n",
      "62374      43   2023      9  2232081  4323102301397   303140046    20230827   \n",
      "...       ...    ...    ...      ...            ...         ...         ...   \n",
      "925156     43   2023      9  2235404  4323106968114   303140151    20230830   \n",
      "925159     43   2023      9  2235404  4323106968114   303140151    20230830   \n",
      "925160     43   2023      9  2235404  4323106968114   303140151    20230830   \n",
      "925163     43   2023      9  2235404  4323106968114   303140151    20230830   \n",
      "925164     43   2023      9  2235404  4323106968114   303140151    20230830   \n",
      "\n",
      "        SP_DTSAIDA  SP_ATOPROF  SP_VALATO  ...  SP_CIDADE_P  SP_CIDADE_P_EXT  \\\n",
      "62366     20230902   202010317       0.00  ...     ALVORADA     Cidade do RS   \n",
      "62367     20230902   202010317       0.00  ...     ALVORADA     Cidade do RS   \n",
      "62370     20230902   202010562       0.00  ...     ALVORADA     Cidade do RS   \n",
      "62371     20230902   202010562       0.00  ...     ALVORADA     Cidade do RS   \n",
      "62374     20230902   202010600       0.00  ...     ALVORADA     Cidade do RS   \n",
      "...            ...         ...        ...  ...          ...              ...   \n",
      "925156    20230903   303140151      39.17  ...      SARANDI     Cidade do RS   \n",
      "925159    20230903   802010024      16.00  ...      SARANDI     Cidade do RS   \n",
      "925160    20230903   802010024      16.00  ...      SARANDI     Cidade do RS   \n",
      "925163    20230903   204030153       0.00  ...      SARANDI     Cidade do RS   \n",
      "925164    20230903   204030153       0.00  ...      SARANDI     Cidade do RS   \n",
      "\n",
      "                                                SP_N_PROC  \\\n",
      "62366   TRATAMENTO DAS DOENCAS CRONICAS DAS VIAS AEREA...   \n",
      "62367   TRATAMENTO DAS DOENCAS CRONICAS DAS VIAS AEREA...   \n",
      "62370   TRATAMENTO DAS DOENCAS CRONICAS DAS VIAS AEREA...   \n",
      "62371   TRATAMENTO DAS DOENCAS CRONICAS DAS VIAS AEREA...   \n",
      "62374   TRATAMENTO DAS DOENCAS CRONICAS DAS VIAS AEREA...   \n",
      "...                                                   ...   \n",
      "925156      TRATAMENTO DE PNEUMONIAS OU INFLUENZA (GRIPE)   \n",
      "925159      TRATAMENTO DE PNEUMONIAS OU INFLUENZA (GRIPE)   \n",
      "925160      TRATAMENTO DE PNEUMONIAS OU INFLUENZA (GRIPE)   \n",
      "925163      TRATAMENTO DE PNEUMONIAS OU INFLUENZA (GRIPE)   \n",
      "925164      TRATAMENTO DE PNEUMONIAS OU INFLUENZA (GRIPE)   \n",
      "\n",
      "                                                SP_N_ATOS  latitude_h  \\\n",
      "62366                               DOSAGEM DE CREATININA    -12.4785   \n",
      "62367                               DOSAGEM DE CREATININA    -12.4785   \n",
      "62370                                 DOSAGEM DE MAGNESIO    -12.4785   \n",
      "62371                                 DOSAGEM DE MAGNESIO    -12.4785   \n",
      "62374                                 DOSAGEM DE POTASSIO    -12.4785   \n",
      "...                                                   ...         ...   \n",
      "925156      TRATAMENTO DE PNEUMONIAS OU INFLUENZA (GRIPE)    -23.4441   \n",
      "925159  DIARIA DE ACOMPANHANTE CRIANCA/ADOLESCENTE C/P...    -23.4441   \n",
      "925160  DIARIA DE ACOMPANHANTE CRIANCA/ADOLESCENTE C/P...    -23.4441   \n",
      "925163                 RADIOGRAFIA DE TORAX (PA E PERFIL)    -23.4441   \n",
      "925164                 RADIOGRAFIA DE TORAX (PA E PERFIL)    -23.4441   \n",
      "\n",
      "       longitude_h  latitude_p longitude_p latitude_p_ext longitude_p_ext  \n",
      "62366     -49.1249    -12.4785    -49.1249   cidade do RS    cidade do RS  \n",
      "62367     -49.1249    -29.9914    -51.0809   cidade do RS    cidade do RS  \n",
      "62370     -49.1249    -12.4785    -49.1249   cidade do RS    cidade do RS  \n",
      "62371     -49.1249    -29.9914    -51.0809   cidade do RS    cidade do RS  \n",
      "62374     -49.1249    -12.4785    -49.1249   cidade do RS    cidade do RS  \n",
      "...            ...         ...         ...            ...             ...  \n",
      "925156 -51876.0000 -27942.0000    -52.9231   cidade do RS    cidade do RS  \n",
      "925159 -51876.0000    -23.4441 -51876.0000   cidade do RS    cidade do RS  \n",
      "925160 -51876.0000 -27942.0000    -52.9231   cidade do RS    cidade do RS  \n",
      "925163 -51876.0000    -23.4441 -51876.0000   cidade do RS    cidade do RS  \n",
      "925164 -51876.0000 -27942.0000    -52.9231   cidade do RS    cidade do RS  \n",
      "\n",
      "[104940 rows x 26 columns]\n"
     ]
    }
   ],
   "source": [
    "cidades_acima_menos25 = dados[dados['latitude_h'] < -25]\n",
    "\n",
    "contagem_cidades_acima_menos25 = cidades_acima_menos25['SP_CIDADE_H'].nunique()\n",
    "\n",
    "# Mostrar as linhas onde latitude_h está entre -25 e 0\n",
    "linhas_latitude_entre_menos25_e_zero = dados[(dados['latitude_h'] > -25) & (dados['latitude_h'] <= 0)]\n",
    "\n",
    "# Exibir os resultados\n",
    "print(f\"Cidades com latitude acima de -25: {contagem_cidades_acima_menos25}\")\n",
    "print(\"\\nLinhas com latitude entre -25 e 0:\")\n",
    "print(linhas_latitude_entre_menos25_e_zero)"
   ]
  },
  {
   "cell_type": "code",
   "execution_count": 62,
   "metadata": {},
   "outputs": [
    {
     "name": "stdout",
     "output_type": "stream",
     "text": [
      "Cidades com latitude acima de -25:\n",
      "       SP_CIDADE_H  latitude_h\n",
      "62366     ALVORADA    -12.4785\n",
      "62367     ALVORADA    -12.4785\n",
      "62370     ALVORADA    -12.4785\n",
      "62371     ALVORADA    -12.4785\n",
      "62374     ALVORADA    -12.4785\n",
      "...            ...         ...\n",
      "925156     SARANDI    -23.4441\n",
      "925159     SARANDI    -23.4441\n",
      "925160     SARANDI    -23.4441\n",
      "925163     SARANDI    -23.4441\n",
      "925164     SARANDI    -23.4441\n",
      "\n",
      "[104940 rows x 2 columns]\n"
     ]
    }
   ],
   "source": [
    "# Filtrar as cidades com latitude acima de -25\n",
    "cidades_acima_menos25 = dados[dados['latitude_h'] > -25]\n",
    "\n",
    "# Selecionar apenas as colunas de interesse: nome da cidade e latitude\n",
    "resultado = cidades_acima_menos25[['SP_CIDADE_H', 'latitude_h']]\n",
    "\n",
    "# Exibir os resultados\n",
    "print(\"Cidades com latitude acima de -25:\")\n",
    "print(resultado)"
   ]
  },
  {
   "cell_type": "code",
   "execution_count": 63,
   "metadata": {},
   "outputs": [
    {
     "name": "stdout",
     "output_type": "stream",
     "text": [
      "Número de cidades com latitude acima de -25: 18\n"
     ]
    }
   ],
   "source": [
    "# Filtrar as cidades com latitude acima de -25\n",
    "cidades_acima_menos25 = dados[dados['latitude_h'] > -25]\n",
    "\n",
    "# Contar o número de cidades únicas\n",
    "numero_cidades_acima_menos25 = cidades_acima_menos25['SP_CIDADE_H'].nunique()\n",
    "\n",
    "# Exibir o resultado\n",
    "print(f\"Número de cidades com latitude acima de -25: {numero_cidades_acima_menos25}\")"
   ]
  },
  {
   "cell_type": "code",
   "execution_count": 64,
   "metadata": {
    "scrolled": true
   },
   "outputs": [
    {
     "name": "stdout",
     "output_type": "stream",
     "text": [
      "Cidades com latitude acima de -25:\n",
      "Nome: ALVORADA, Latitude: -12.4785, Longitude: -49.1249\n",
      "Nome: CACHOEIRINHA, Latitude: -6.1156, Longitude: -47.9234\n",
      "Nome: CACHOEIRINHA, Latitude: -8.48668, Longitude: -36.2402\n",
      "Nome: LAJEADO, Latitude: -9.74996, Longitude: -48.3565\n",
      "Nome: VERA CRUZ, Latitude: -6.04399, Longitude: -35428.0\n",
      "Nome: VERA CRUZ, Latitude: -12.9568, Longitude: -38.6153\n",
      "Nome: VERA CRUZ, Latitude: -22.2183, Longitude: -49.8207\n",
      "Nome: TRIUNFO, Latitude: -6.5713, Longitude: -38.5986\n",
      "Nome: TRIUNFO, Latitude: -7.83272, Longitude: -38.0978\n",
      "Nome: SÃO FRANCISCO DE PAULA, Latitude: -20.7036, Longitude: -44.9838\n",
      "Nome: BOM JESUS, Latitude: -9.07124, Longitude: -44359.0\n",
      "Nome: BOM JESUS, Latitude: -5.98648, Longitude: -35.5792\n",
      "Nome: BOM JESUS, Latitude: -6.81601, Longitude: -38.6453\n",
      "Nome: SOBRADINHO, Latitude: -9.45024, Longitude: -40.8145\n",
      "Nome: PLANALTO, Latitude: -14.6654, Longitude: -40.4718\n",
      "Nome: PLANALTO, Latitude: -21.0342, Longitude: -49933.0\n",
      "Nome: CRUZEIRO DO SUL, Latitude: -22.9624, Longitude: -52.1622\n",
      "Nome: CRUZEIRO DO SUL, Latitude: -7.62762, Longitude: -72.6756\n",
      "Nome: CAIÇARA, Latitude: -6.62115, Longitude: -35.4581\n",
      "Nome: SANTA MARIA, Latitude: -5.83802, Longitude: -35.6914\n",
      "Nome: MARAU, Latitude: -14.1035, Longitude: -39.0137\n",
      "Nome: SÃO GABRIEL, Latitude: -11.2175, Longitude: -41.8843\n",
      "Nome: HUMAITÁ, Latitude: -7.51171, Longitude: -63.0327\n",
      "Nome: TAPEJARA, Latitude: -23.7315, Longitude: -52.8735\n",
      "Nome: SARANDI, Latitude: -23.4441, Longitude: -51876.0\n",
      "Nome: SOLEDADE, Latitude: -7.05829, Longitude: -36.3668\n"
     ]
    }
   ],
   "source": [
    "# Filtrar as cidades com latitude acima de -25\n",
    "cidades_acima_menos25 = dados[dados['latitude_h'] > -25]\n",
    "\n",
    "# Obter as informações relevantes (nome, latitude, longitude)\n",
    "cidades_info = cidades_acima_menos25[['SP_CIDADE_H', 'latitude_h', 'longitude_h']].drop_duplicates()\n",
    "\n",
    "# Exibir o resultado\n",
    "print(\"Cidades com latitude acima de -25:\")\n",
    "for index, row in cidades_info.iterrows():\n",
    "    print(f\"Nome: {row['SP_CIDADE_H']}, Latitude: {row['latitude_h']}, Longitude: {row['longitude_h']}\")"
   ]
  },
  {
   "cell_type": "code",
   "execution_count": 65,
   "metadata": {},
   "outputs": [
    {
     "name": "stdout",
     "output_type": "stream",
     "text": [
      "A cidade 'Lajeado do Bugre' foi encontrada.\n"
     ]
    }
   ],
   "source": [
    "# Verificar se existe a cidade \"Lajeado do Bugre\"\n",
    "cidade_lajeado_bugre = dados[dados['SP_CIDADE_P'] == 'MARAU']\n",
    "\n",
    "# Exibir o resultado\n",
    "if not cidade_lajeado_bugre.empty:\n",
    "    print(\"A cidade 'Lajeado do Bugre' foi encontrada.\")\n",
    "else:\n",
    "    print(\"A cidade 'Lajeado do Bugre' não foi encontrada.\")"
   ]
  },
  {
   "cell_type": "code",
   "execution_count": 66,
   "metadata": {},
   "outputs": [
    {
     "name": "stdout",
     "output_type": "stream",
     "text": [
      "Não foram encontradas cidades fora do Rio Grande do Sul com latitude maior que -25 que têm cidades com o mesmo nome no RS.\n"
     ]
    }
   ],
   "source": [
    "import pandas as pd\n",
    "\n",
    "# Carregar o arquivo municipios.csv\n",
    "municipios = pd.read_csv('municipios.csv')\n",
    "\n",
    "# Filtrar as cidades fora do Rio Grande do Sul com latitude > -25\n",
    "cidades_foras_rgs = dados[dados['latitude_h'] > -25]\n",
    "\n",
    "# Criar uma lista para armazenar os resultados\n",
    "resultados = []\n",
    "\n",
    "# Iterar sobre as cidades fora do Rio Grande do Sul\n",
    "for index, row in cidades_foras_rgs.iterrows():\n",
    "    nome_cidade = row['SP_CIDADE_H']\n",
    "    latitude_for = row['latitude_h']\n",
    "    \n",
    "    # Verificar se existe uma cidade com o mesmo nome e latitude < -25 no municipios.csv\n",
    "    cidade_info = municipios[municipios['nome'] == nome_cidade]\n",
    "    cidade_rgs = cidade_info[cidade_info['latitude'] < -25]\n",
    "    \n",
    "    # Se a cidade for encontrada, adicionar à lista de resultados\n",
    "    if not cidade_rgs.empty:\n",
    "        resultados.append((nome_cidade, latitude_for))\n",
    "\n",
    "# Exibir os resultados\n",
    "if resultados:\n",
    "    print(\"Cidades fora do Rio Grande do Sul com latitude maior que -25 que têm cidades com o mesmo nome no RS:\")\n",
    "    for cidade, lat in resultados:\n",
    "        print(f\"{cidade} (latitude fora do RS: {lat})\")\n",
    "else:\n",
    "    print(\"Não foram encontradas cidades fora do Rio Grande do Sul com latitude maior que -25 que têm cidades com o mesmo nome no RS.\")"
   ]
  },
  {
   "cell_type": "code",
   "execution_count": 67,
   "metadata": {},
   "outputs": [
    {
     "name": "stdout",
     "output_type": "stream",
     "text": [
      "Cidades com latitude menor que -25:\n",
      "Nome: TRIUNFO, Latitude: -29.9291, Longitude: -51.7075\n",
      "Nome: TRIUNFO, Latitude: -29.9291, Longitude: -51.7075\n",
      "Nome: SÃO FRANCISCO DE PAULA, Latitude: -29.4404, Longitude: -50.5828\n",
      "Nome: BOM JESUS, Latitude: -26.7326, Longitude: -52.3919\n",
      "Nome: BOM JESUS, Latitude: -26.7326, Longitude: -52.3919\n",
      "Nome: BOM JESUS, Latitude: -26.7326, Longitude: -52.3919\n",
      "Nome: CAIÇARA, Latitude: -27.2791, Longitude: -53.4257\n",
      "Nome: SANTA MARIA, Latitude: -29.6868, Longitude: -53.8149\n",
      "Nome: MARAU, Latitude: -28.4498, Longitude: -52.1986\n",
      "Nome: SÃO GABRIEL, Latitude: -30.3337, Longitude: -54.3217\n",
      "Nome: HUMAITÁ, Latitude: -27.5691, Longitude: -53.9695\n",
      "Nome: MARAU, Latitude: -28.4498, Longitude: -52.1986\n",
      "Nome: SÃO GABRIEL, Latitude: -30.3337, Longitude: -54.3217\n",
      "Nome: SANTA MARIA, Latitude: -29.6868, Longitude: -53.8149\n",
      "Nome: SÃO FRANCISCO DE PAULA, Latitude: -29.4404, Longitude: -50.5828\n",
      "Nome: TRIUNFO, Latitude: -29.9291, Longitude: -51.7075\n",
      "Nome: HUMAITÁ, Latitude: -27.5691, Longitude: -53.9695\n",
      "Nome: BOM JESUS, Latitude: -26.7326, Longitude: -52.3919\n",
      "Nome: CAIÇARA, Latitude: -27.2791, Longitude: -53.4257\n"
     ]
    }
   ],
   "source": [
    "import pandas as pd\n",
    "\n",
    "# Carregar o arquivo municipios.csv\n",
    "municipios = pd.read_csv('municipios.csv')\n",
    "\n",
    "cidades_procuradas = [\n",
    "    \"ALVORADA\", \"CACHOEIRINHA\", \"CACHOEIRINHA\", \"LAJEADO\", \"VERA CRUZ\",\n",
    "    \"VERA CRUZ\", \"VERA CRUZ\", \"TRIUNFO\", \"TRIUNFO\", \"SÃO FRANCISCO DE PAULA\",\n",
    "    \"BOM JESUS\", \"BOM JESUS\", \"BOM JESUS\", \"SOBRADINHO\", \"PLANALTO\",\n",
    "    \"PLANALTO\", \"CRUZEIRO DO SUL\", \"CRUZEIRO DO SUL\", \"CAIÇARA\", \"SANTA MARIA\",\n",
    "    \"MARAU\", \"SÃO GABRIEL\", \"HUMAITÁ\", \"TAPEJARA\", \"SARANDI\", \"SOLEDADE\",\n",
    "    \"SARANDI\", \"LAJEADO\", \"PLANALTO\", \"MARAU\", \"SOLEDADE\",\n",
    "    \"CACHOEIRINHA\", \"ALVORADA\", \"SÃO GABRIEL\", \"SOBRADINHO\",\n",
    "    \"SANTA MARIA\", \"SÃO FRANCISCO DE PAULA\", \"VERA CRUZ\",\n",
    "    \"TAPEJARA\", \"TRIUNFO\", \"HUMAITÁ\", \"CRUZEIRO DO SUL\",\n",
    "    \"BOM JESUS\", \"CAIÇARA\"\n",
    "]\n",
    "\n",
    "# Criar uma lista para armazenar as informações encontradas\n",
    "cidades_info = []\n",
    "\n",
    "# Iterar sobre as cidades procuradas\n",
    "for cidade in cidades_procuradas:\n",
    "    # Filtrar as linhas correspondentes no DataFrame de municípios (sem considerar maiúsculas/minúsculas)\n",
    "    cidade_info = municipios[municipios['nome'].str.lower() == cidade.lower()]\n",
    "\n",
    "    # Verificar se a cidade foi encontrada e se sua latitude é menor que -25\n",
    "    if not cidade_info.empty:\n",
    "        lat = cidade_info['latitude'].values[0]\n",
    "        lon = cidade_info['longitude'].values[0]\n",
    "        \n",
    "        if lat < -25:  # Verifica se a latitude é menor que -25\n",
    "            cidades_info.append((cidade, lat, lon))\n",
    "\n",
    "# Exibir os resultados\n",
    "print(\"Cidades com latitude menor que -25:\")\n",
    "for cidade, lat, lon in cidades_info:\n",
    "    print(f\"Nome: {cidade}, Latitude: {lat}, Longitude: {lon}\")"
   ]
  },
  {
   "cell_type": "code",
   "execution_count": 68,
   "metadata": {},
   "outputs": [
    {
     "name": "stdout",
     "output_type": "stream",
     "text": [
      "      codigo_ibge     nome  latitude  longitude  ddd       fuso_horario\n",
      "4936      4126256  Sarandi   -27.942   -52.9231   44  America/Sao_Paulo\n",
      "4937      4320107  Sarandi   -27.942   -52.9231   54  America/Sao_Paulo\n"
     ]
    }
   ],
   "source": [
    "# Carregar o arquivo municipios.csv\n",
    "municipios = pd.read_csv('municipios.csv')\n",
    "\n",
    "# Cidade que você quer modificar\n",
    "cidade_especifica = \"SARANDI\"\n",
    "\n",
    "# Novos valores de latitude e longitude\n",
    "nova_latitude = -27.942\n",
    "nova_longitude = -52.9231\n",
    "\n",
    "# Alterar a latitude e longitude de todas as ocorrências da cidade específica\n",
    "municipios.loc[municipios['nome'].str.lower() == cidade_especifica.lower(), ['latitude', 'longitude']] = [nova_latitude, nova_longitude]\n",
    "\n",
    "# Verificar se a alteração foi aplicada\n",
    "print(municipios[municipios['nome'].str.lower() == cidade_especifica.lower()])"
   ]
  },
  {
   "cell_type": "code",
   "execution_count": 69,
   "metadata": {},
   "outputs": [],
   "source": [
    "# # Carregar o arquivo municipios.csv\n",
    "# municipios = pd.read_csv('municipios.csv')\n",
    "\n",
    "# # Cidade que você quer modificar\n",
    "# cidade_especifica = \"MARAU\"\n",
    "\n",
    "# # Novos valores de latitude e longitude\n",
    "# nova_latitude = -28.4498\n",
    "# nova_longitude = -52.1986\n",
    "\n",
    "# # Alterar a latitude e longitude de todas as ocorrências da cidade específica\n",
    "# municipios.loc[municipios['nome'].str.lower() == cidade_especifica.lower(), ['latitude', 'longitude']] = [nova_latitude, nova_longitude]\n",
    "\n",
    "# # Verificar se a alteração foi aplicada\n",
    "# print(municipios[municipios['nome'].str.lower() == cidade_especifica.lower()])"
   ]
  },
  {
   "cell_type": "code",
   "execution_count": 70,
   "metadata": {},
   "outputs": [],
   "source": [
    "# import pandas as pd\n",
    "\n",
    "# # Carregar o arquivo municipios.csv\n",
    "# municipios = pd.read_csv('municipios.csv')\n",
    "\n",
    "# # Cidade que você quer modificar\n",
    "# cidade_especifica = \"SARANDI\"\n",
    "\n",
    "# # Novos valores de latitude e longitude\n",
    "# nova_latitude = -27.942\n",
    "# nova_longitude = -52.9231\n",
    "\n",
    "# # Mostrar todas as ocorrências da cidade antes da alteração\n",
    "# print(\"Antes da alteração:\")\n",
    "# print(municipios[municipios['nome'].str.lower() == cidade_especifica.lower()])\n",
    "\n",
    "# # Alterar a latitude e longitude de todas as ocorrências da cidade específica\n",
    "# municipios.loc[municipios['nome'].str.lower() == cidade_especifica.lower(), ['latitude', 'longitude']] = [nova_latitude, nova_longitude]\n",
    "\n",
    "# # Mostrar todas as ocorrências da cidade após a alteração\n",
    "# print(\"\\nApós a alteração:\")\n",
    "# print(municipios[municipios['nome'].str.lower() == cidade_especifica.lower()])"
   ]
  },
  {
   "cell_type": "code",
   "execution_count": 71,
   "metadata": {},
   "outputs": [],
   "source": [
    "# import pandas as pd\n",
    "\n",
    "# # Carregar o arquivo municipios.csv\n",
    "# municipios = pd.read_csv('municipios.csv')\n",
    "\n",
    "# # Cidade que você quer modificar\n",
    "# cidade_especifica = \"MARAU\"\n",
    "\n",
    "# # Novos valores de latitude e longitude\n",
    "# nova_latitude = -28.4498\n",
    "# nova_longitude = -52.1986\n",
    "\n",
    "# # Mostrar todas as ocorrências da cidade antes da alteração\n",
    "# print(\"Antes da alteração:\")\n",
    "# print(municipios[municipios['nome'].str.lower() == cidade_especifica.lower()])\n",
    "\n",
    "# # Alterar a latitude e longitude de todas as ocorrências da cidade específica\n",
    "# municipios.loc[municipios['nome'].str.lower() == cidade_especifica.lower(), ['latitude', 'longitude']] = [nova_latitude, nova_longitude]\n",
    "\n",
    "# # Mostrar todas as ocorrências da cidade após a alteração\n",
    "# print(\"\\nApós a alteração:\")\n",
    "# print(municipios[municipios['nome'].str.lower() == cidade_especifica.lower()])"
   ]
  },
  {
   "cell_type": "code",
   "execution_count": 72,
   "metadata": {},
   "outputs": [
    {
     "name": "stdout",
     "output_type": "stream",
     "text": [
      "Cidades com latitude maior que -25:\n",
      "Nome: Sarandi, Latitude: -23.4441, Longitude: -51876.0\n",
      "Nome: Lajeado, Latitude: -9.74996, Longitude: -48.3565\n",
      "Nome: Planalto, Latitude: -14.6654, Longitude: -40.4718\n",
      "Nome: Soledade, Latitude: -7.05829, Longitude: -36.3668\n",
      "Nome: Cachoeirinha, Latitude: -6.1156, Longitude: -47.9234\n",
      "Nome: Alvorada, Latitude: -12.4785, Longitude: -49.1249\n",
      "Nome: Sobradinho, Latitude: -9.45024, Longitude: -40.8145\n",
      "Nome: Vera Cruz, Latitude: -6.04399, Longitude: -35428.0\n",
      "Nome: Tapejara, Latitude: -23.7315, Longitude: -52.8735\n",
      "Nome: Cruzeiro do Sul, Latitude: -22.9624, Longitude: -52.1622\n"
     ]
    }
   ],
   "source": [
    "import pandas as pd\n",
    "\n",
    "# Carregar o arquivo municipios.csv\n",
    "municipios = pd.read_csv('municipios.csv')\n",
    "\n",
    "# Lista de cidades que você forneceu\n",
    "cidades_procuradas = [\n",
    "    \"SARANDI\", \"LAJEADO\", \"PLANALTO\", \"MARAU\", \"SOLEDADE\",\n",
    "    \"CACHOEIRINHA\", \"ALVORADA\", \"SÃO GABRIEL\", \"SOBRADINHO\",\n",
    "    \"SANTA MARIA\", \"SÃO FRANCISCO DE PAULA\", \"VERA CRUZ\",\n",
    "    \"TAPEJARA\", \"TRIUNFO\", \"HUMAITÁ\", \"CRUZEIRO DO SUL\",\n",
    "    \"BOM JESUS\", \"CAIÇARA\"\n",
    "]\n",
    "\n",
    "# Criar uma lista para armazenar as informações encontradas\n",
    "cidades_info = []\n",
    "\n",
    "# Iterar sobre as cidades procuradas\n",
    "for cidade in cidades_procuradas:\n",
    "    # Filtrar as linhas correspondentes no DataFrame de municípios sem diferenciar maiúsculas de minúsculas\n",
    "    cidade_info = municipios[municipios['nome'].str.lower() == cidade.lower()]\n",
    "\n",
    "    # Verificar se a cidade foi encontrada e se sua latitude é maior que -25\n",
    "    if not cidade_info.empty:\n",
    "        lat = cidade_info['latitude'].values[0]\n",
    "        lon = cidade_info['longitude'].values[0]\n",
    "        \n",
    "        if lat > -25:  # Verifica se a latitude é maior que -25\n",
    "            cidades_info.append((cidade_info['nome'].values[0], lat, lon))\n",
    "\n",
    "# Exibir os resultados\n",
    "print(\"Cidades com latitude maior que -25:\")\n",
    "for cidade, lat, lon in cidades_info:\n",
    "    print(f\"Nome: {cidade}, Latitude: {lat}, Longitude: {lon}\")"
   ]
  },
  {
   "cell_type": "code",
   "execution_count": 73,
   "metadata": {},
   "outputs": [],
   "source": [
    "# import pandas as pd\n",
    "\n",
    "# # Carregar o arquivo municipios.csv\n",
    "# municipios = pd.read_csv('municipios.csv')\n",
    "\n",
    "# # Cidade que você quer modificar\n",
    "# cidade_especifica = \"SARANDI\"\n",
    "\n",
    "# # Novos valores de latitude e longitude\n",
    "# nova_latitude = -27.942\n",
    "# nova_longitude = -52.9231\n",
    "\n",
    "# # Mostrar todas as ocorrências da cidade antes da alteração\n",
    "# print(\"Antes da alteração:\")\n",
    "# print(municipios[municipios['nome'].str.lower() == cidade_especifica.lower()])\n",
    "\n",
    "# # Alterar a latitude e longitude de todas as ocorrências da cidade específica\n",
    "# municipios.loc[municipios['nome'].str.lower() == cidade_especifica.lower(), ['latitude', 'longitude']] = [nova_latitude, nova_longitude]\n",
    "\n",
    "# # Mostrar todas as ocorrências da cidade após a alteração\n",
    "# print(\"\\nApós a alteração:\")\n",
    "# print(municipios[municipios['nome'].str.lower() == cidade_especifica.lower()])"
   ]
  },
  {
   "cell_type": "code",
   "execution_count": 74,
   "metadata": {},
   "outputs": [],
   "source": [
    "# import pandas as pd\n",
    "\n",
    "# # Carregar o arquivo municipios.csv\n",
    "# municipios = pd.read_csv('municipios.csv')\n",
    "\n",
    "# # Lista de cidades que você forneceu\n",
    "# cidades_procuradas = [\n",
    "#     \"SARANDI\", \"LAJEADO\", \"PLANALTO\", \"MARAU\", \"SOLEDADE\",\n",
    "#     \"CACHOEIRINHA\", \"ALVORADA\", \"SÃO GABRIEL\", \"SOBRADINHO\",\n",
    "#     \"SANTA MARIA\", \"SÃO FRANCISCO DE PAULA\", \"VERA CRUZ\",\n",
    "#     \"TAPEJARA\", \"TRIUNFO\", \"HUMAITÁ\", \"CRUZEIRO DO SUL\",\n",
    "#     \"BOM JESUS\", \"CAIÇARA\"\n",
    "# ]\n",
    "\n",
    "# # Criar uma lista para armazenar as informações encontradas\n",
    "# cidades_info = []\n",
    "\n",
    "# # Iterar sobre as cidades procuradas\n",
    "# for cidade in cidades_procuradas:\n",
    "#     # Filtrar as linhas correspondentes no DataFrame de municípios sem diferenciar maiúsculas de minúsculas\n",
    "#     cidade_info = municipios[municipios['nome'].str.lower() == cidade.lower()]\n",
    "\n",
    "#     # Verificar se a cidade foi encontrada e se sua latitude é maior que -25\n",
    "#     if not cidade_info.empty:\n",
    "#         lat = cidade_info['latitude'].values[0]\n",
    "#         lon = cidade_info['longitude'].values[0]\n",
    "        \n",
    "#         if lat > -25:  # Verifica se a latitude é maior que -25\n",
    "#             cidades_info.append((cidade_info['nome'].values[0], lat, lon))\n",
    "\n",
    "# # Exibir os resultados\n",
    "# print(\"Cidades com latitude maior que -25:\")\n",
    "# for cidade, lat, lon in cidades_info:\n",
    "#     print(f\"Nome: {cidade}, Latitude: {lat}, Longitude: {lon}\")"
   ]
  },
  {
   "cell_type": "code",
   "execution_count": 75,
   "metadata": {},
   "outputs": [
    {
     "name": "stdout",
     "output_type": "stream",
     "text": [
      "Index(['SP_UF', 'SP_AA', 'SP_MM', 'SP_CNES', 'SP_NAIH', 'SP_PROCREA',\n",
      "       'SP_DTINTER', 'SP_DTSAIDA', 'SP_ATOPROF', 'SP_VALATO', 'SP_M_HOSP',\n",
      "       'SP_M_PAC', 'SP_DES_HOS', 'SP_DES_PAC', 'SP_QT_PROC', 'SP_CIDADE_H',\n",
      "       'SP_CIDADE_P', 'SP_CIDADE_P_EXT', 'SP_N_PROC', 'SP_N_ATOS',\n",
      "       'latitude_h', 'longitude_h', 'latitude_p', 'longitude_p',\n",
      "       'latitude_p_ext', 'longitude_p_ext'],\n",
      "      dtype='object')\n"
     ]
    }
   ],
   "source": [
    "print(dados.columns)"
   ]
  },
  {
   "cell_type": "code",
   "execution_count": 76,
   "metadata": {},
   "outputs": [
    {
     "name": "stdout",
     "output_type": "stream",
     "text": [
      "<bound method NDFrame.tail of         SP_UF  SP_AA  SP_MM  SP_CNES        SP_NAIH  SP_PROCREA  SP_DTINTER  \\\n",
      "0          43   2023      9  2252694  4323105050374   303010037    20230707   \n",
      "1          43   2023      9  2252694  4323105050374   303010037    20230707   \n",
      "2          43   2023      9  2252694  4323105050374   303010037    20230707   \n",
      "3          43   2023      9  2252694  4323105050374   303010037    20230707   \n",
      "4          43   2023      9  2252694  4323105050374   303010037    20230707   \n",
      "...       ...    ...    ...      ...            ...         ...         ...   \n",
      "949343     43   2023      9  2237253  4323104853012   407040161    20230706   \n",
      "949344     43   2023      9  7092571  4323106444316   403020050    20230706   \n",
      "949345     43   2023      9  7092571  4323106444316   403020050    20230706   \n",
      "949346     43   2023      9  7092571  4323106444316   403020050    20230706   \n",
      "949347     43   2023      9  7092571  4323106444316   403020050    20230706   \n",
      "\n",
      "        SP_DTSAIDA  SP_ATOPROF  SP_VALATO  ...   SP_CIDADE_P  SP_CIDADE_P_EXT  \\\n",
      "0         20230802   206010079      97.44  ...       PELOTAS     Cidade do RS   \n",
      "1         20230802   206020031     136.41  ...       PELOTAS     Cidade do RS   \n",
      "2         20230802   206030010     138.63  ...       PELOTAS     Cidade do RS   \n",
      "3         20230802   206030037     138.63  ...       PELOTAS     Cidade do RS   \n",
      "4         20230802   203010035      20.96  ...       PELOTAS     Cidade do RS   \n",
      "...            ...         ...        ...  ...           ...              ...   \n",
      "949343    20230710   202010430       0.00  ...        PORTÃO     Cidade do RS   \n",
      "949344    20230707   403020050     100.33  ...  PORTO ALEGRE     Cidade do RS   \n",
      "949345    20230707   403020050      30.10  ...  PORTO ALEGRE     Cidade do RS   \n",
      "949346    20230707   403020050      64.00  ...  PORTO ALEGRE     Cidade do RS   \n",
      "949347    20230707   301010048       0.00  ...  PORTO ALEGRE     Cidade do RS   \n",
      "\n",
      "                                       SP_N_PROC  \\\n",
      "0       TRATAMENTO DE OUTRAS DOENÇAS BACTERIANAS   \n",
      "1       TRATAMENTO DE OUTRAS DOENÇAS BACTERIANAS   \n",
      "2       TRATAMENTO DE OUTRAS DOENÇAS BACTERIANAS   \n",
      "3       TRATAMENTO DE OUTRAS DOENÇAS BACTERIANAS   \n",
      "4       TRATAMENTO DE OUTRAS DOENÇAS BACTERIANAS   \n",
      "...                                          ...   \n",
      "949343                   LAPAROTOMIA EXPLORADORA   \n",
      "949344        MICRONEUROLISE DE NERVO PERIFERICO   \n",
      "949345        MICRONEUROLISE DE NERVO PERIFERICO   \n",
      "949346        MICRONEUROLISE DE NERVO PERIFERICO   \n",
      "949347        MICRONEUROLISE DE NERVO PERIFERICO   \n",
      "\n",
      "                                                SP_N_ATOS  latitude_h  \\\n",
      "0                    TOMOGRAFIA COMPUTADORIZADA DO CRANIO    -31.7649   \n",
      "1                     TOMOGRAFIA COMPUTADORIZADA DE TORAX    -31.7649   \n",
      "2                   TOMOGRAFIA COMPUTADORIZADA DE ABDOMEN    -31.7649   \n",
      "3             TOMOGRAFIA COMPUTADORIZADA DE PELVE / BACIA    -31.7649   \n",
      "4       EXAME DE CITOLOGIA ONCOTICA (EXCETO CERVICO-VA...    -31.7649   \n",
      "...                                                   ...         ...   \n",
      "949343                                 DOSAGEM DE FOSFORO    -30.0318   \n",
      "949344                 MICRONEUROLISE DE NERVO PERIFERICO    -30.0318   \n",
      "949345                 MICRONEUROLISE DE NERVO PERIFERICO    -30.0318   \n",
      "949346                 MICRONEUROLISE DE NERVO PERIFERICO    -30.0318   \n",
      "949347  CONSULTA DE PROFISSIONAIS DE NIVEL SUPERIOR NA...    -30.0318   \n",
      "\n",
      "       longitude_h latitude_p longitude_p latitude_p_ext longitude_p_ext  \n",
      "0         -52.3371   -31.7649    -52.3371   cidade do RS    cidade do RS  \n",
      "1         -52.3371   -31.7649    -52.3371   cidade do RS    cidade do RS  \n",
      "2         -52.3371   -31.7649    -52.3371   cidade do RS    cidade do RS  \n",
      "3         -52.3371   -31.7649    -52.3371   cidade do RS    cidade do RS  \n",
      "4         -52.3371   -31.7649    -52.3371   cidade do RS    cidade do RS  \n",
      "...            ...        ...         ...            ...             ...  \n",
      "949343    -51.2065   -29.7015    -51.2429   cidade do RS    cidade do RS  \n",
      "949344    -51.2065   -30.0318    -51.2065   cidade do RS    cidade do RS  \n",
      "949345    -51.2065   -30.0318    -51.2065   cidade do RS    cidade do RS  \n",
      "949346    -51.2065   -30.0318    -51.2065   cidade do RS    cidade do RS  \n",
      "949347    -51.2065   -30.0318    -51.2065   cidade do RS    cidade do RS  \n",
      "\n",
      "[949348 rows x 26 columns]>\n"
     ]
    }
   ],
   "source": [
    "print(dados.tail)"
   ]
  },
  {
   "cell_type": "code",
   "execution_count": 77,
   "metadata": {},
   "outputs": [],
   "source": [
    "# import pandas as pd\n",
    "\n",
    "# # Supondo que o DataFrame 'dados' já está carregado\n",
    "\n",
    "# # Cidade que você quer modificar\n",
    "# cidade_especifica = \"SARANDI\"\n",
    "\n",
    "# # Novos valores de latitude e longitude\n",
    "# nova_latitude = -27.942\n",
    "# nova_longitude = -52.9231\n",
    "\n",
    "# # Mostrar as ocorrências da cidade em 'SP_CIDADE_H' antes da alteração\n",
    "# print(\"Antes da alteração (SP_CIDADE_H):\")\n",
    "# print(dados[dados['SP_CIDADE_H'].str.lower() == cidade_especifica.lower()])\n",
    "\n",
    "# # Mostrar as ocorrências da cidade em 'SP_CIDADE_P' antes da alteração\n",
    "# print(\"\\nAntes da alteração (SP_CIDADE_P):\")\n",
    "# print(dados[dados['SP_CIDADE_P'].str.lower() == cidade_especifica.lower()])\n",
    "\n",
    "# # Alterar a latitude e longitude em 'latitude_h', 'longitude_h' quando 'SP_CIDADE_H' for igual à cidade específica\n",
    "# dados.loc[dados['SP_CIDADE_H'].str.lower() == cidade_especifica.lower(), ['latitude_h', 'longitude_h']] = [nova_latitude, nova_longitude]\n",
    "\n",
    "# # Alterar a latitude e longitude em 'latitude_p', 'longitude_p' quando 'SP_CIDADE_P' for igual à cidade específica\n",
    "# dados.loc[dados['SP_CIDADE_P'].str.lower() == cidade_especifica.lower(), ['latitude_p', 'longitude_p']] = [nova_latitude, nova_longitude]\n",
    "\n",
    "# # Mostrar as ocorrências da cidade após a alteração em 'SP_CIDADE_H'\n",
    "# print(\"\\nApós a alteração (SP_CIDADE_H):\")\n",
    "# print(dados[dados['SP_CIDADE_H'].str.lower() == cidade_especifica.lower()])\n",
    "\n",
    "# # Mostrar as ocorrências da cidade após a alteração em 'SP_CIDADE_P'\n",
    "# print(\"\\nApós a alteração (SP_CIDADE_P):\")\n",
    "# print(dados[dados['SP_CIDADE_P'].str.lower() == cidade_especifica.lower()])"
   ]
  },
  {
   "cell_type": "code",
   "execution_count": 78,
   "metadata": {},
   "outputs": [],
   "source": [
    "# import pandas as pd\n",
    "\n",
    "# # Supondo que o DataFrame 'dados' já está carregado\n",
    "\n",
    "# # Lista de cidades que você forneceu\n",
    "# cidades_procuradas = [\n",
    "#     \"SARANDI\", \"LAJEADO\", \"PLANALTO\", \"MARAU\", \"SOLEDADE\",\n",
    "#     \"CACHOEIRINHA\", \"ALVORADA\", \"SÃO GABRIEL\", \"SOBRADINHO\",\n",
    "#     \"SANTA MARIA\", \"SÃO FRANCISCO DE PAULA\", \"VERA CRUZ\",\n",
    "#     \"TAPEJARA\", \"TRIUNFO\", \"HUMAITÁ\", \"CRUZEIRO DO SUL\",\n",
    "#     \"BOM JESUS\", \"CAIÇARA\"\n",
    "# ]\n",
    "\n",
    "# # Criar uma lista para armazenar as informações encontradas\n",
    "# cidades_info = []\n",
    "\n",
    "# # Iterar sobre as cidades procuradas\n",
    "# for cidade in cidades_procuradas:\n",
    "#     # Procurar nas colunas 'SP_CIDADE_H' e 'SP_CIDADE_P' sem diferenciar maiúsculas de minúsculas\n",
    "#     cidade_info_h = dados[dados['SP_CIDADE_H'].str.lower() == cidade.lower()]\n",
    "#     cidade_info_p = dados[dados['SP_CIDADE_P'].str.lower() == cidade.lower()]\n",
    "\n",
    "#     # Verificar se a cidade foi encontrada em 'SP_CIDADE_H' e se sua latitude é maior que -25\n",
    "#     if not cidade_info_h.empty:\n",
    "#         lat_h = cidade_info_h['latitude_h'].values[0]\n",
    "#         lon_h = cidade_info_h['longitude_h'].values[0]\n",
    "        \n",
    "#         if lat_h > -25:  # Verifica se a latitude é maior que -25\n",
    "#             cidades_info.append((cidade_info_h['SP_CIDADE_H'].values[0], lat_h, lon_h))\n",
    "\n",
    "#     # Verificar se a cidade foi encontrada em 'SP_CIDADE_P' e se sua latitude é maior que -25\n",
    "#     if not cidade_info_p.empty:\n",
    "#         lat_p = cidade_info_p['latitude_p'].values[0]\n",
    "#         lon_p = cidade_info_p['longitude_p'].values[0]\n",
    "        \n",
    "#         if lat_p > -25:  # Verifica se a latitude é maior que -25\n",
    "#             cidades_info.append((cidade_info_p['SP_CIDADE_P'].values[0], lat_p, lon_p))\n",
    "\n",
    "# # Exibir os resultados\n",
    "# print(\"Cidades com latitude maior que -25:\")\n",
    "# for cidade, lat, lon in cidades_info:\n",
    "#     print(f\"Nome: {cidade}, Latitude: {lat}, Longitude: {lon}\")"
   ]
  },
  {
   "cell_type": "code",
   "execution_count": 79,
   "metadata": {},
   "outputs": [],
   "source": [
    "# import pandas as pd\n",
    "\n",
    "# # Supondo que o DataFrame 'dados' já está carregado\n",
    "\n",
    "# # Cidade que você quer modificar\n",
    "# cidade_especifica = \"PLANALTO\"\n",
    "\n",
    "# # Novos valores de latitude e longitude\n",
    "# nova_latitude = -27.3297\n",
    "# nova_longitude = -53.0575\n",
    "\n",
    "# # Mostrar as ocorrências da cidade em 'SP_CIDADE_H' antes da alteração\n",
    "# print(\"Antes da alteração (SP_CIDADE_H):\")\n",
    "# print(dados[dados['SP_CIDADE_H'].str.lower() == cidade_especifica.lower()])\n",
    "\n",
    "# # Mostrar as ocorrências da cidade em 'SP_CIDADE_P' antes da alteração\n",
    "# print(\"\\nAntes da alteração (SP_CIDADE_P):\")\n",
    "# print(dados[dados['SP_CIDADE_P'].str.lower() == cidade_especifica.lower()])\n",
    "\n",
    "# # Alterar a latitude e longitude em 'latitude_h', 'longitude_h' quando 'SP_CIDADE_H' for igual à cidade específica\n",
    "# dados.loc[dados['SP_CIDADE_H'].str.lower() == cidade_especifica.lower(), ['latitude_h', 'longitude_h']] = [nova_latitude, nova_longitude]\n",
    "\n",
    "# # Alterar a latitude e longitude em 'latitude_p', 'longitude_p' quando 'SP_CIDADE_P' for igual à cidade específica\n",
    "# dados.loc[dados['SP_CIDADE_P'].str.lower() == cidade_especifica.lower(), ['latitude_p', 'longitude_p']] = [nova_latitude, nova_longitude]\n",
    "\n",
    "# # Mostrar as ocorrências da cidade após a alteração em 'SP_CIDADE_H'\n",
    "# print(\"\\nApós a alteração (SP_CIDADE_H):\")\n",
    "# print(dados[dados['SP_CIDADE_H'].str.lower() == cidade_especifica.lower()])\n",
    "\n",
    "# # Mostrar as ocorrências da cidade após a alteração em 'SP_CIDADE_P'\n",
    "# print(\"\\nApós a alteração (SP_CIDADE_P):\")\n",
    "# print(dados[dados['SP_CIDADE_P'].str.lower() == cidade_especifica.lower()])"
   ]
  },
  {
   "cell_type": "code",
   "execution_count": 80,
   "metadata": {},
   "outputs": [],
   "source": [
    "# import pandas as pd\n",
    "\n",
    "# # Carregar o arquivo municipios.csv\n",
    "# municipios = pd.read_csv('municipios.csv')\n",
    "\n",
    "# # Dicionário com as cidades e seus novos valores de latitude e longitude\n",
    "# alteracoes = {\n",
    "#     \"MARAU\": (-28.4498, -52.1986),\n",
    "#     \"SARANDI\": (-27.942, -52.9231),\n",
    "#     \"PLANALTO\": (-27.3297, -53.0575)\n",
    "# }\n",
    "\n",
    "# # Mostrar as ocorrências das cidades antes da alteração\n",
    "# print(\"Antes da alteração:\")\n",
    "# for cidade in alteracoes.keys():\n",
    "#     print(municipios[municipios['nome'].str.lower() == cidade.lower()])\n",
    "\n",
    "# # Alterar latitude e longitude de todas as cidades no dicionário\n",
    "# for cidade, (nova_latitude, nova_longitude) in alteracoes.items():\n",
    "#     municipios.loc[municipios['nome'].str.lower() == cidade.lower(), ['latitude', 'longitude']] = [nova_latitude, nova_longitude]\n",
    "\n",
    "# # Mostrar as ocorrências das cidades após a alteração\n",
    "# print(\"\\nApós a alteração:\")\n",
    "# for cidade in alteracoes.keys():\n",
    "#     print(municipios[municipios['nome'].str.lower() == cidade.lower()])\n"
   ]
  },
  {
   "cell_type": "code",
   "execution_count": 81,
   "metadata": {},
   "outputs": [
    {
     "name": "stdout",
     "output_type": "stream",
     "text": [
      "Cidades com latitude maior que -25:\n",
      "Nome: SARANDI, Latitude: -23.4441, Longitude: -51876.0\n",
      "Nome: SARANDI, Latitude: -23.4441, Longitude: -51876.0\n",
      "Nome: LAJEADO, Latitude: -9.74996, Longitude: -48.3565\n",
      "Nome: LAJEADO, Latitude: -9.74996, Longitude: -48.3565\n",
      "Nome: PLANALTO, Latitude: -14.6654, Longitude: -40.4718\n",
      "Nome: PLANALTO, Latitude: -14.6654, Longitude: -40.4718\n",
      "Nome: SOLEDADE, Latitude: -7.05829, Longitude: -36.3668\n",
      "Nome: SOLEDADE, Latitude: -7.05829, Longitude: -36.3668\n",
      "Nome: CACHOEIRINHA, Latitude: -6.1156, Longitude: -47.9234\n",
      "Nome: CACHOEIRINHA, Latitude: -6.1156, Longitude: -47.9234\n",
      "Nome: ALVORADA, Latitude: -12.4785, Longitude: -49.1249\n",
      "Nome: ALVORADA, Latitude: -12.4785, Longitude: -49.1249\n",
      "Nome: SOBRADINHO, Latitude: -9.45024, Longitude: -40.8145\n",
      "Nome: SOBRADINHO, Latitude: -9.45024, Longitude: -40.8145\n",
      "Nome: VERA CRUZ, Latitude: -6.04399, Longitude: -35428.0\n",
      "Nome: VERA CRUZ, Latitude: -6.04399, Longitude: -35428.0\n",
      "Nome: TAPEJARA, Latitude: -23.7315, Longitude: -52.8735\n",
      "Nome: TAPEJARA, Latitude: -23.7315, Longitude: -52.8735\n",
      "Nome: CRUZEIRO DO SUL, Latitude: -22.9624, Longitude: -52.1622\n",
      "Nome: CRUZEIRO DO SUL, Latitude: -22.9624, Longitude: -52.1622\n"
     ]
    }
   ],
   "source": [
    "import pandas as pd\n",
    "\n",
    "# Supondo que o DataFrame 'dados' já está carregado\n",
    "\n",
    "# Lista de cidades que você forneceu\n",
    "cidades_procuradas = [\n",
    "    \"SARANDI\", \"LAJEADO\", \"PLANALTO\", \"MARAU\", \"SOLEDADE\",\n",
    "    \"CACHOEIRINHA\", \"ALVORADA\", \"SÃO GABRIEL\", \"SOBRADINHO\",\n",
    "    \"SANTA MARIA\", \"SÃO FRANCISCO DE PAULA\", \"VERA CRUZ\",\n",
    "    \"TAPEJARA\", \"TRIUNFO\", \"HUMAITÁ\", \"CRUZEIRO DO SUL\",\n",
    "    \"BOM JESUS\", \"CAIÇARA\"\n",
    "]\n",
    "\n",
    "# Criar uma lista para armazenar as informações encontradas\n",
    "cidades_info = []\n",
    "\n",
    "# Iterar sobre as cidades procuradas\n",
    "for cidade in cidades_procuradas:\n",
    "    # Procurar nas colunas 'SP_CIDADE_H' e 'SP_CIDADE_P' sem diferenciar maiúsculas de minúsculas\n",
    "    cidade_info_h = dados[dados['SP_CIDADE_H'].str.lower() == cidade.lower()]\n",
    "    cidade_info_p = dados[dados['SP_CIDADE_P'].str.lower() == cidade.lower()]\n",
    "\n",
    "    # Verificar se a cidade foi encontrada em 'SP_CIDADE_H' e se sua latitude é maior que -25\n",
    "    if not cidade_info_h.empty:\n",
    "        lat_h = cidade_info_h['latitude_h'].values[0]\n",
    "        lon_h = cidade_info_h['longitude_h'].values[0]\n",
    "        \n",
    "        if lat_h > -25:  # Verifica se a latitude é maior que -25\n",
    "            cidades_info.append((cidade_info_h['SP_CIDADE_H'].values[0], lat_h, lon_h))\n",
    "\n",
    "    # Verificar se a cidade foi encontrada em 'SP_CIDADE_P' e se sua latitude é maior que -25\n",
    "    if not cidade_info_p.empty:\n",
    "        lat_p = cidade_info_p['latitude_p'].values[0]\n",
    "        lon_p = cidade_info_p['longitude_p'].values[0]\n",
    "        \n",
    "        if lat_p > -25:  # Verifica se a latitude é maior que -25\n",
    "            cidades_info.append((cidade_info_p['SP_CIDADE_P'].values[0], lat_p, lon_p))\n",
    "\n",
    "# Exibir os resultados\n",
    "print(\"Cidades com latitude maior que -25:\")\n",
    "for cidade, lat, lon in cidades_info:\n",
    "    print(f\"Nome: {cidade}, Latitude: {lat}, Longitude: {lon}\")"
   ]
  },
  {
   "cell_type": "code",
   "execution_count": 82,
   "metadata": {},
   "outputs": [],
   "source": [
    "# import pandas as pd\n",
    "\n",
    "# # Supondo que o DataFrame 'dados' já está carregado\n",
    "\n",
    "# # Cidade que você quer modificar\n",
    "# cidade_especifica = \"VERA CRUZ\"\n",
    "\n",
    "# # Novos valores de latitude e longitude\n",
    "# nova_latitude = -29.7184\n",
    "# nova_longitude = -52.5152\n",
    "\n",
    "# # Mostrar as ocorrências da cidade em 'SP_CIDADE_H' antes da alteração\n",
    "# print(\"Antes da alteração (SP_CIDADE_H):\")\n",
    "# print(dados[dados['SP_CIDADE_H'].str.lower() == cidade_especifica.lower()])\n",
    "\n",
    "# # Mostrar as ocorrências da cidade em 'SP_CIDADE_P' antes da alteração\n",
    "# print(\"\\nAntes da alteração (SP_CIDADE_P):\")\n",
    "# print(dados[dados['SP_CIDADE_P'].str.lower() == cidade_especifica.lower()])\n",
    "\n",
    "# # Alterar a latitude e longitude em 'latitude_h', 'longitude_h' quando 'SP_CIDADE_H' for igual à cidade específica\n",
    "# dados.loc[dados['SP_CIDADE_H'].str.lower() == cidade_especifica.lower(), ['latitude_h', 'longitude_h']] = [nova_latitude, nova_longitude]\n",
    "\n",
    "# # Alterar a latitude e longitude em 'latitude_p', 'longitude_p' quando 'SP_CIDADE_P' for igual à cidade específica\n",
    "# dados.loc[dados['SP_CIDADE_P'].str.lower() == cidade_especifica.lower(), ['latitude_p', 'longitude_p']] = [nova_latitude, nova_longitude]\n",
    "\n",
    "# # Mostrar as ocorrências da cidade após a alteração em 'SP_CIDADE_H'\n",
    "# print(\"\\nApós a alteração (SP_CIDADE_H):\")\n",
    "# print(dados[dados['SP_CIDADE_H'].str.lower() == cidade_especifica.lower()])\n",
    "\n",
    "# # Mostrar as ocorrências da cidade após a alteração em 'SP_CIDADE_P'\n",
    "# print(\"\\nApós a alteração (SP_CIDADE_P):\")\n",
    "# print(dados[dados['SP_CIDADE_P'].str.lower() == cidade_especifica.lower()])"
   ]
  },
  {
   "cell_type": "code",
   "execution_count": 83,
   "metadata": {
    "scrolled": true
   },
   "outputs": [
    {
     "name": "stdout",
     "output_type": "stream",
     "text": [
      "Cidades com latitude maior que -25:\n",
      "Nome: SARANDI, Latitude: -23.4441, Longitude: -51876.0\n",
      "Nome: SARANDI, Latitude: -23.4441, Longitude: -51876.0\n",
      "Nome: LAJEADO, Latitude: -9.74996, Longitude: -48.3565\n",
      "Nome: LAJEADO, Latitude: -9.74996, Longitude: -48.3565\n",
      "Nome: PLANALTO, Latitude: -14.6654, Longitude: -40.4718\n",
      "Nome: PLANALTO, Latitude: -14.6654, Longitude: -40.4718\n",
      "Nome: SOLEDADE, Latitude: -7.05829, Longitude: -36.3668\n",
      "Nome: SOLEDADE, Latitude: -7.05829, Longitude: -36.3668\n",
      "Nome: CACHOEIRINHA, Latitude: -6.1156, Longitude: -47.9234\n",
      "Nome: CACHOEIRINHA, Latitude: -6.1156, Longitude: -47.9234\n",
      "Nome: ALVORADA, Latitude: -12.4785, Longitude: -49.1249\n",
      "Nome: ALVORADA, Latitude: -12.4785, Longitude: -49.1249\n",
      "Nome: SOBRADINHO, Latitude: -9.45024, Longitude: -40.8145\n",
      "Nome: SOBRADINHO, Latitude: -9.45024, Longitude: -40.8145\n",
      "Nome: VERA CRUZ, Latitude: -6.04399, Longitude: -35428.0\n",
      "Nome: VERA CRUZ, Latitude: -6.04399, Longitude: -35428.0\n",
      "Nome: TAPEJARA, Latitude: -23.7315, Longitude: -52.8735\n",
      "Nome: TAPEJARA, Latitude: -23.7315, Longitude: -52.8735\n",
      "Nome: CRUZEIRO DO SUL, Latitude: -22.9624, Longitude: -52.1622\n",
      "Nome: CRUZEIRO DO SUL, Latitude: -22.9624, Longitude: -52.1622\n"
     ]
    }
   ],
   "source": [
    "import pandas as pd\n",
    "\n",
    "# Supondo que o DataFrame 'dados' já está carregado\n",
    "\n",
    "# Lista de cidades que você forneceu\n",
    "cidades_procuradas = [\n",
    "    \"SARANDI\", \"LAJEADO\", \"PLANALTO\", \"MARAU\", \"SOLEDADE\",\n",
    "    \"CACHOEIRINHA\", \"ALVORADA\", \"SÃO GABRIEL\", \"SOBRADINHO\",\n",
    "    \"SANTA MARIA\", \"SÃO FRANCISCO DE PAULA\", \"VERA CRUZ\",\n",
    "    \"TAPEJARA\", \"TRIUNFO\", \"HUMAITÁ\", \"CRUZEIRO DO SUL\",\n",
    "    \"BOM JESUS\", \"CAIÇARA\"\n",
    "]\n",
    "\n",
    "# Criar uma lista para armazenar as informações encontradas\n",
    "cidades_info = []\n",
    "\n",
    "# Iterar sobre as cidades procuradas\n",
    "for cidade in cidades_procuradas:\n",
    "    # Procurar nas colunas 'SP_CIDADE_H' e 'SP_CIDADE_P' sem diferenciar maiúsculas de minúsculas\n",
    "    cidade_info_h = dados[dados['SP_CIDADE_H'].str.lower() == cidade.lower()]\n",
    "    cidade_info_p = dados[dados['SP_CIDADE_P'].str.lower() == cidade.lower()]\n",
    "\n",
    "    # Verificar se a cidade foi encontrada em 'SP_CIDADE_H' e se sua latitude é maior que -25\n",
    "    if not cidade_info_h.empty:\n",
    "        lat_h = cidade_info_h['latitude_h'].values[0]\n",
    "        lon_h = cidade_info_h['longitude_h'].values[0]\n",
    "        \n",
    "        if lat_h > -25:  # Verifica se a latitude é maior que -25\n",
    "            cidades_info.append((cidade_info_h['SP_CIDADE_H'].values[0], lat_h, lon_h))\n",
    "\n",
    "    # Verificar se a cidade foi encontrada em 'SP_CIDADE_P' e se sua latitude é maior que -25\n",
    "    if not cidade_info_p.empty:\n",
    "        lat_p = cidade_info_p['latitude_p'].values[0]\n",
    "        lon_p = cidade_info_p['longitude_p'].values[0]\n",
    "        \n",
    "        if lat_p > -25:  # Verifica se a latitude é maior que -25\n",
    "            cidades_info.append((cidade_info_p['SP_CIDADE_P'].values[0], lat_p, lon_p))\n",
    "\n",
    "# Exibir os resultados\n",
    "print(\"Cidades com latitude maior que -25:\")\n",
    "for cidade, lat, lon in cidades_info:\n",
    "    print(f\"Nome: {cidade}, Latitude: {lat}, Longitude: {lon}\")"
   ]
  },
  {
   "cell_type": "code",
   "execution_count": 84,
   "metadata": {},
   "outputs": [],
   "source": [
    "import pandas as pd\n",
    "\n",
    "# Supondo que o DataFrame 'dados' já está carregado\n",
    "\n",
    "# Lista consolidada de cidades com suas respectivas coordenadas\n",
    "cidades_coordenadas = [\n",
    "    {\"cidade\": \"INDEPENDÊNCIA\", \"latitude\": -27.8354, \"longitude\": -54.1886},\n",
    "    {\"cidade\": \"COLORADO\", \"latitude\": -28.5258, \"longitude\": -52.9928},\n",
    "    {\"cidade\": \"NOVA SANTA RITA\", \"latitude\": -29.8525, \"longitude\": -51.2837},\n",
    "    {\"cidade\": \"JACUTINGA\", \"latitude\": -27.7291, \"longitude\": -52.5372},\n",
    "    {\"cidade\": \"CENTENÁRIO\", \"latitude\": -27.7615, \"longitude\": -51.9984},\n",
    "    {\"cidade\": \"SOLEDADE\", \"latitude\": -28.8306, \"longitude\": -52.5131},\n",
    "    {\"cidade\": \"SÃO MARTINHO\", \"latitude\": -27.7112, \"longitude\": -53.9699},\n",
    "    {\"cidade\": \"SÃO GABRIEL\", \"latitude\": -30.3337, \"longitude\": -54.3217},\n",
    "    {\"cidade\": \"HUMAITÁ\", \"latitude\": -27.5691, \"longitude\": -53.9695},\n",
    "    {\"cidade\": \"BOM JESUS\", \"latitude\": -28.6697, \"longitude\": -50.4295},\n",
    "    {\"cidade\": \"SANTA MARIA\", \"latitude\": -29.6868, \"longitude\": -53.8149},\n",
    "    {\"cidade\": \"SÃO FRANCISCO DE PAULA\", \"latitude\": -29.4404, \"longitude\": -50.5828},\n",
    "    {\"cidade\": \"TRIUNFO\", \"latitude\": -29.9291, \"longitude\": -51.7075},\n",
    "    {\"cidade\": \"CAIÇARA\", \"latitude\": -27.2791, \"longitude\": -53.4257},\n",
    "    {\"cidade\": \"MARAU\", \"latitude\": -28.4498, \"longitude\": -52.1986},\n",
    "    {\"cidade\": \"ALTO ALEGRE\", \"latitude\": -28.7769, \"longitude\": -52.9893},\n",
    "    {\"cidade\": \"COLINAS\", \"latitude\": -29.3948, \"longitude\": -51.8556},\n",
    "    {\"cidade\": \"TAVARES\", \"latitude\": -31.2843, \"longitude\": -51.0880},\n",
    "]\n",
    "\n",
    "# Loop para atualizar as latitudes e longitudes no DataFrame\n",
    "for cidade_info in cidades_coordenadas:\n",
    "    cidade = cidade_info[\"cidade\"].lower()\n",
    "    nova_latitude = cidade_info[\"latitude\"]\n",
    "    nova_longitude = cidade_info[\"longitude\"]\n",
    "\n",
    "    # Atualizar latitude e longitude para 'SP_CIDADE_H'\n",
    "    dados.loc[dados['SP_CIDADE_H'].str.lower() == cidade, ['latitude_h', 'longitude_h']] = [nova_latitude, nova_longitude]\n",
    "\n",
    "    # Atualizar latitude e longitude para 'SP_CIDADE_P'\n",
    "    dados.loc[dados['SP_CIDADE_P'].str.lower() == cidade, ['latitude_p', 'longitude_p']] = [nova_latitude, nova_longitude]\n"
   ]
  },
  {
   "cell_type": "code",
   "execution_count": 85,
   "metadata": {},
   "outputs": [],
   "source": [
    "# import pandas as pd\n",
    "\n",
    "# # Supondo que o DataFrame 'dados' já está carregado\n",
    "\n",
    "# # Cidade que você quer modificar\n",
    "# cidade_especifica = \"LAJEADO\"\n",
    "\n",
    "# # Novos valores de latitude e longitude\n",
    "# nova_latitude = -29.4591\n",
    "# nova_longitude = -51.9644\n",
    "\n",
    "\n",
    "\n",
    "# # Alterar a latitude e longitude em 'latitude_h', 'longitude_h' quando 'SP_CIDADE_H' for igual à cidade específica\n",
    "# dados.loc[dados['SP_CIDADE_H'].str.lower() == cidade_especifica.lower(), ['latitude_h', 'longitude_h']] = [nova_latitude, nova_longitude]\n",
    "\n",
    "# # Alterar a latitude e longitude em 'latitude_p', 'longitude_p' quando 'SP_CIDADE_P' for igual à cidade específica\n",
    "# dados.loc[dados['SP_CIDADE_P'].str.lower() == cidade_especifica.lower(), ['latitude_p', 'longitude_p']] = [nova_latitude, nova_longitude]"
   ]
  },
  {
   "cell_type": "code",
   "execution_count": 86,
   "metadata": {},
   "outputs": [
    {
     "name": "stdout",
     "output_type": "stream",
     "text": [
      "Cidades com latitude maior que -25:\n",
      "Nome: SARANDI, Latitude: -23.4441, Longitude: -51876.0\n",
      "Nome: SARANDI, Latitude: -23.4441, Longitude: -51876.0\n",
      "Nome: LAJEADO, Latitude: -9.74996, Longitude: -48.3565\n",
      "Nome: LAJEADO, Latitude: -9.74996, Longitude: -48.3565\n",
      "Nome: PLANALTO, Latitude: -14.6654, Longitude: -40.4718\n",
      "Nome: PLANALTO, Latitude: -14.6654, Longitude: -40.4718\n",
      "Nome: CACHOEIRINHA, Latitude: -6.1156, Longitude: -47.9234\n",
      "Nome: CACHOEIRINHA, Latitude: -6.1156, Longitude: -47.9234\n",
      "Nome: ALVORADA, Latitude: -12.4785, Longitude: -49.1249\n",
      "Nome: ALVORADA, Latitude: -12.4785, Longitude: -49.1249\n",
      "Nome: SOBRADINHO, Latitude: -9.45024, Longitude: -40.8145\n",
      "Nome: SOBRADINHO, Latitude: -9.45024, Longitude: -40.8145\n",
      "Nome: VERA CRUZ, Latitude: -6.04399, Longitude: -35428.0\n",
      "Nome: VERA CRUZ, Latitude: -6.04399, Longitude: -35428.0\n",
      "Nome: TAPEJARA, Latitude: -23.7315, Longitude: -52.8735\n",
      "Nome: TAPEJARA, Latitude: -23.7315, Longitude: -52.8735\n",
      "Nome: CRUZEIRO DO SUL, Latitude: -22.9624, Longitude: -52.1622\n",
      "Nome: CRUZEIRO DO SUL, Latitude: -22.9624, Longitude: -52.1622\n"
     ]
    }
   ],
   "source": [
    "import pandas as pd\n",
    "\n",
    "# Supondo que o DataFrame 'dados' já está carregado\n",
    "\n",
    "# Lista de cidades que você forneceu\n",
    "cidades_procuradas = [\n",
    "    \"SARANDI\", \"LAJEADO\", \"PLANALTO\", \"MARAU\", \"SOLEDADE\",\n",
    "    \"CACHOEIRINHA\", \"ALVORADA\", \"SÃO GABRIEL\", \"SOBRADINHO\",\n",
    "    \"SANTA MARIA\", \"SÃO FRANCISCO DE PAULA\", \"VERA CRUZ\",\n",
    "    \"TAPEJARA\", \"TRIUNFO\", \"HUMAITÁ\", \"CRUZEIRO DO SUL\",\n",
    "    \"BOM JESUS\", \"CAIÇARA\"\n",
    "]\n",
    "\n",
    "# Criar uma lista para armazenar as informações encontradas\n",
    "cidades_info = []\n",
    "\n",
    "# Iterar sobre as cidades procuradas\n",
    "for cidade in cidades_procuradas:\n",
    "    # Procurar nas colunas 'SP_CIDADE_H' e 'SP_CIDADE_P' sem diferenciar maiúsculas de minúsculas\n",
    "    cidade_info_h = dados[dados['SP_CIDADE_H'].str.lower() == cidade.lower()]\n",
    "    cidade_info_p = dados[dados['SP_CIDADE_P'].str.lower() == cidade.lower()]\n",
    "\n",
    "    # Verificar se a cidade foi encontrada em 'SP_CIDADE_H' e se sua latitude é maior que -25\n",
    "    if not cidade_info_h.empty:\n",
    "        lat_h = cidade_info_h['latitude_h'].values[0]\n",
    "        lon_h = cidade_info_h['longitude_h'].values[0]\n",
    "        \n",
    "        if lat_h > -25:  # Verifica se a latitude é maior que -25\n",
    "            cidades_info.append((cidade_info_h['SP_CIDADE_H'].values[0], lat_h, lon_h))\n",
    "\n",
    "    # Verificar se a cidade foi encontrada em 'SP_CIDADE_P' e se sua latitude é maior que -25\n",
    "    if not cidade_info_p.empty:\n",
    "        lat_p = cidade_info_p['latitude_p'].values[0]\n",
    "        lon_p = cidade_info_p['longitude_p'].values[0]\n",
    "        \n",
    "        if lat_p > -25:  # Verifica se a latitude é maior que -25\n",
    "            cidades_info.append((cidade_info_p['SP_CIDADE_P'].values[0], lat_p, lon_p))\n",
    "\n",
    "# Exibir os resultados\n",
    "print(\"Cidades com latitude maior que -25:\")\n",
    "for cidade, lat, lon in cidades_info:\n",
    "    print(f\"Nome: {cidade}, Latitude: {lat}, Longitude: {lon}\")"
   ]
  },
  {
   "cell_type": "code",
   "execution_count": 87,
   "metadata": {},
   "outputs": [],
   "source": [
    "# import pandas as pd\n",
    "\n",
    "# # Supondo que o DataFrame 'dados' já está carregado\n",
    "\n",
    "# # Cidade que você quer modificar\n",
    "# cidade_especifica = \"SOLEDADE\"\n",
    "\n",
    "# # Novos valores de latitude e longitude\n",
    "# nova_latitude = -28.8306\n",
    "# nova_longitude = -52.5131\n",
    "\n",
    "\n",
    "# # Alterar a latitude e longitude em 'latitude_h', 'longitude_h' quando 'SP_CIDADE_H' for igual à cidade específica\n",
    "# dados.loc[dados['SP_CIDADE_H'].str.lower() == cidade_especifica.lower(), ['latitude_h', 'longitude_h']] = [nova_latitude, nova_longitude]\n",
    "\n",
    "# # Alterar a latitude e longitude em 'latitude_p', 'longitude_p' quando 'SP_CIDADE_P' for igual à cidade específica\n",
    "# dados.loc[dados['SP_CIDADE_P'].str.lower() == cidade_especifica.lower(), ['latitude_p', 'longitude_p']] = [nova_latitude, nova_longitude]"
   ]
  },
  {
   "cell_type": "code",
   "execution_count": 88,
   "metadata": {},
   "outputs": [],
   "source": [
    "# import pandas as pd\n",
    "\n",
    "# # Supondo que o DataFrame 'dados' já está carregado\n",
    "\n",
    "# # Cidade que você quer modificar\n",
    "# cidade_especifica = \"CACHOEIRINHA\"\n",
    "\n",
    "# # Novos valores de latitude e longitude\n",
    "# nova_latitude = -29.9472\n",
    "# nova_longitude = -51.1016\n",
    "\n",
    "\n",
    "# # Alterar a latitude e longitude em 'latitude_h', 'longitude_h' quando 'SP_CIDADE_H' for igual à cidade específica\n",
    "# dados.loc[dados['SP_CIDADE_H'].str.lower() == cidade_especifica.lower(), ['latitude_h', 'longitude_h']] = [nova_latitude, nova_longitude]\n",
    "\n",
    "# # Alterar a latitude e longitude em 'latitude_p', 'longitude_p' quando 'SP_CIDADE_P' for igual à cidade específica\n",
    "# dados.loc[dados['SP_CIDADE_P'].str.lower() == cidade_especifica.lower(), ['latitude_p', 'longitude_p']] = [nova_latitude, nova_longitude]"
   ]
  },
  {
   "cell_type": "code",
   "execution_count": 89,
   "metadata": {},
   "outputs": [],
   "source": [
    "# import pandas as pd\n",
    "\n",
    "# # Supondo que o DataFrame 'dados' já está carregado\n",
    "\n",
    "# # Cidade que você quer modificar\n",
    "# cidade_especifica = \"ALVORADA\"\n",
    "\n",
    "# # Novos valores de latitude e longitude\n",
    "# nova_latitude = -29.9914\n",
    "# nova_longitude = -51.0809\n",
    "\n",
    "\n",
    "# # Alterar a latitude e longitude em 'latitude_h', 'longitude_h' quando 'SP_CIDADE_H' for igual à cidade específica\n",
    "# dados.loc[dados['SP_CIDADE_H'].str.lower() == cidade_especifica.lower(), ['latitude_h', 'longitude_h']] = [nova_latitude, nova_longitude]\n",
    "\n",
    "# # Alterar a latitude e longitude em 'latitude_p', 'longitude_p' quando 'SP_CIDADE_P' for igual à cidade específica\n",
    "# dados.loc[dados['SP_CIDADE_P'].str.lower() == cidade_especifica.lower(), ['latitude_p', 'longitude_p']] = [nova_latitude, nova_longitude]"
   ]
  },
  {
   "cell_type": "code",
   "execution_count": 90,
   "metadata": {},
   "outputs": [],
   "source": [
    "# import pandas as pd\n",
    "\n",
    "# # Supondo que o DataFrame 'dados' já está carregado\n",
    "\n",
    "# # Cidade que você quer modificar\n",
    "# cidade_especifica = \"SOBRADINHO\"\n",
    "\n",
    "# # Novos valores de latitude e longitude\n",
    "# nova_latitude = -29.4194\n",
    "# nova_longitude = -53.0326\n",
    "\n",
    "\n",
    "# # Alterar a latitude e longitude em 'latitude_h', 'longitude_h' quando 'SP_CIDADE_H' for igual à cidade específica\n",
    "# dados.loc[dados['SP_CIDADE_H'].str.lower() == cidade_especifica.lower(), ['latitude_h', 'longitude_h']] = [nova_latitude, nova_longitude]\n",
    "\n",
    "# # Alterar a latitude e longitude em 'latitude_p', 'longitude_p' quando 'SP_CIDADE_P' for igual à cidade específica\n",
    "# dados.loc[dados['SP_CIDADE_P'].str.lower() == cidade_especifica.lower(), ['latitude_p', 'longitude_p']] = [nova_latitude, nova_longitude]"
   ]
  },
  {
   "cell_type": "code",
   "execution_count": 91,
   "metadata": {},
   "outputs": [],
   "source": [
    "# import pandas as pd\n",
    "\n",
    "# # Supondo que o DataFrame 'dados' já está carregado\n",
    "\n",
    "# # Cidade que você quer modificar\n",
    "# cidade_especifica = \"TAPEJARA\"\n",
    "\n",
    "# # Novos valores de latitude e longitude\n",
    "# nova_latitude = -28.0652\n",
    "# nova_longitude = -52.0097\n",
    "\n",
    "\n",
    "# # Alterar a latitude e longitude em 'latitude_h', 'longitude_h' quando 'SP_CIDADE_H' for igual à cidade específica\n",
    "# dados.loc[dados['SP_CIDADE_H'].str.lower() == cidade_especifica.lower(), ['latitude_h', 'longitude_h']] = [nova_latitude, nova_longitude]\n",
    "\n",
    "# # Alterar a latitude e longitude em 'latitude_p', 'longitude_p' quando 'SP_CIDADE_P' for igual à cidade específica\n",
    "# dados.loc[dados['SP_CIDADE_P'].str.lower() == cidade_especifica.lower(), ['latitude_p', 'longitude_p']] = [nova_latitude, nova_longitude]"
   ]
  },
  {
   "cell_type": "code",
   "execution_count": 92,
   "metadata": {},
   "outputs": [],
   "source": [
    "# import pandas as pd\n",
    "\n",
    "# # Supondo que o DataFrame 'dados' já está carregado\n",
    "\n",
    "# # Cidade que você quer modificar\n",
    "# cidade_especifica = \"CRUZEIRO DO SUL\"\n",
    "\n",
    "# # Novos valores de latitude e longitude\n",
    "# nova_latitude = -29.5148\n",
    "# nova_longitude = -51.9928\n",
    "\n",
    "\n",
    "# # Alterar a latitude e longitude em 'latitude_h', 'longitude_h' quando 'SP_CIDADE_H' for igual à cidade específica\n",
    "# dados.loc[dados['SP_CIDADE_H'].str.lower() == cidade_especifica.lower(), ['latitude_h', 'longitude_h']] = [nova_latitude, nova_longitude]\n",
    "\n",
    "# # Alterar a latitude e longitude em 'latitude_p', 'longitude_p' quando 'SP_CIDADE_P' for igual à cidade específica\n",
    "# dados.loc[dados['SP_CIDADE_P'].str.lower() == cidade_especifica.lower(), ['latitude_p', 'longitude_p']] = [nova_latitude, nova_longitude]"
   ]
  },
  {
   "cell_type": "code",
   "execution_count": 93,
   "metadata": {},
   "outputs": [
    {
     "name": "stdout",
     "output_type": "stream",
     "text": [
      "Cidades com latitude maior que -25:\n",
      "Nome: SARANDI, Latitude: -23.4441, Longitude: -51876.0\n",
      "Nome: SARANDI, Latitude: -23.4441, Longitude: -51876.0\n",
      "Nome: LAJEADO, Latitude: -9.74996, Longitude: -48.3565\n",
      "Nome: LAJEADO, Latitude: -9.74996, Longitude: -48.3565\n",
      "Nome: PLANALTO, Latitude: -14.6654, Longitude: -40.4718\n",
      "Nome: PLANALTO, Latitude: -14.6654, Longitude: -40.4718\n",
      "Nome: CACHOEIRINHA, Latitude: -6.1156, Longitude: -47.9234\n",
      "Nome: CACHOEIRINHA, Latitude: -6.1156, Longitude: -47.9234\n",
      "Nome: ALVORADA, Latitude: -12.4785, Longitude: -49.1249\n",
      "Nome: ALVORADA, Latitude: -12.4785, Longitude: -49.1249\n",
      "Nome: SOBRADINHO, Latitude: -9.45024, Longitude: -40.8145\n",
      "Nome: SOBRADINHO, Latitude: -9.45024, Longitude: -40.8145\n",
      "Nome: VERA CRUZ, Latitude: -6.04399, Longitude: -35428.0\n",
      "Nome: VERA CRUZ, Latitude: -6.04399, Longitude: -35428.0\n",
      "Nome: TAPEJARA, Latitude: -23.7315, Longitude: -52.8735\n",
      "Nome: TAPEJARA, Latitude: -23.7315, Longitude: -52.8735\n",
      "Nome: CRUZEIRO DO SUL, Latitude: -22.9624, Longitude: -52.1622\n",
      "Nome: CRUZEIRO DO SUL, Latitude: -22.9624, Longitude: -52.1622\n"
     ]
    }
   ],
   "source": [
    "import pandas as pd\n",
    "\n",
    "# Supondo que o DataFrame 'dados' já está carregado\n",
    "\n",
    "# Lista de cidades que você forneceu\n",
    "cidades_procuradas = [\n",
    "    \"SARANDI\", \"LAJEADO\", \"PLANALTO\", \"MARAU\", \"SOLEDADE\",\n",
    "    \"CACHOEIRINHA\", \"ALVORADA\", \"SÃO GABRIEL\", \"SOBRADINHO\",\n",
    "    \"SANTA MARIA\", \"SÃO FRANCISCO DE PAULA\", \"VERA CRUZ\",\n",
    "    \"TAPEJARA\", \"TRIUNFO\", \"HUMAITÁ\", \"CRUZEIRO DO SUL\",\n",
    "    \"BOM JESUS\", \"CAIÇARA\"\n",
    "]\n",
    "\n",
    "# Criar uma lista para armazenar as informações encontradas\n",
    "cidades_info = []\n",
    "\n",
    "# Iterar sobre as cidades procuradas\n",
    "for cidade in cidades_procuradas:\n",
    "    # Procurar nas colunas 'SP_CIDADE_H' e 'SP_CIDADE_P' sem diferenciar maiúsculas de minúsculas\n",
    "    cidade_info_h = dados[dados['SP_CIDADE_H'].str.lower() == cidade.lower()]\n",
    "    cidade_info_p = dados[dados['SP_CIDADE_P'].str.lower() == cidade.lower()]\n",
    "\n",
    "    # Verificar se a cidade foi encontrada em 'SP_CIDADE_H' e se sua latitude é maior que -25\n",
    "    if not cidade_info_h.empty:\n",
    "        lat_h = cidade_info_h['latitude_h'].values[0]\n",
    "        lon_h = cidade_info_h['longitude_h'].values[0]\n",
    "        \n",
    "        if lat_h > -25:  # Verifica se a latitude é maior que -25\n",
    "            cidades_info.append((cidade_info_h['SP_CIDADE_H'].values[0], lat_h, lon_h))\n",
    "\n",
    "    # Verificar se a cidade foi encontrada em 'SP_CIDADE_P' e se sua latitude é maior que -25\n",
    "    if not cidade_info_p.empty:\n",
    "        lat_p = cidade_info_p['latitude_p'].values[0]\n",
    "        lon_p = cidade_info_p['longitude_p'].values[0]\n",
    "        \n",
    "        if lat_p > -25:  # Verifica se a latitude é maior que -25\n",
    "            cidades_info.append((cidade_info_p['SP_CIDADE_P'].values[0], lat_p, lon_p))\n",
    "\n",
    "# Exibir os resultados\n",
    "print(\"Cidades com latitude maior que -25:\")\n",
    "for cidade, lat, lon in cidades_info:\n",
    "    print(f\"Nome: {cidade}, Latitude: {lat}, Longitude: {lon}\")"
   ]
  },
  {
   "cell_type": "code",
   "execution_count": 94,
   "metadata": {},
   "outputs": [
    {
     "name": "stdout",
     "output_type": "stream",
     "text": [
      "Cidades com latitude maior que -25 (únicas):\n",
      "Nome: ALVORADA, Latitude: -12.4785, Longitude: -49.1249\n",
      "Nome: LAJEADO, Latitude: -9.74996, Longitude: -48.3565\n",
      "Nome: SARANDI, Latitude: -23.4441, Longitude: -51876.0\n",
      "Nome: CRUZEIRO DO SUL, Latitude: -7.62762, Longitude: -72.6756\n",
      "Nome: SOBRADINHO, Latitude: -9.45024, Longitude: -40.8145\n",
      "Nome: VERA CRUZ, Latitude: -12.9568, Longitude: -38.6153\n",
      "Nome: VERA CRUZ, Latitude: -6.04399, Longitude: -35428.0\n",
      "Nome: CRUZEIRO DO SUL, Latitude: -22.9624, Longitude: -52.1622\n",
      "Nome: TAPEJARA, Latitude: -23.7315, Longitude: -52.8735\n",
      "Nome: CACHOEIRINHA, Latitude: -6.1156, Longitude: -47.9234\n",
      "Nome: PLANALTO, Latitude: -21.0342, Longitude: -49933.0\n",
      "Nome: CACHOEIRINHA, Latitude: -8.48668, Longitude: -36.2402\n",
      "Nome: PLANALTO, Latitude: -14.6654, Longitude: -40.4718\n",
      "Nome: VERA CRUZ, Latitude: -22.2183, Longitude: -49.8207\n"
     ]
    }
   ],
   "source": [
    "import pandas as pd\n",
    "\n",
    "# Supondo que o DataFrame 'dados' já está carregado\n",
    "\n",
    "# Criar um conjunto para armazenar as informações únicas\n",
    "cidades_info = set()\n",
    "\n",
    "# Verificar todas as colunas de latitude e suas respectivas longitudes e cidades\n",
    "for index, row in dados.iterrows():\n",
    "    # Verificar 'SP_CIDADE_H', 'latitude_h', 'longitude_h'\n",
    "    if row['latitude_h'] > -25:\n",
    "        cidades_info.add((row['SP_CIDADE_H'], row['latitude_h'], row['longitude_h']))\n",
    "\n",
    "   \n",
    "\n",
    "\n",
    "# Exibir os resultados\n",
    "print(\"Cidades com latitude maior que -25 (únicas):\")\n",
    "for cidade, lat, lon in cidades_info:\n",
    "    print(f\"Nome: {cidade}, Latitude: {lat}, Longitude: {lon}\")"
   ]
  },
  {
   "cell_type": "code",
   "execution_count": 95,
   "metadata": {},
   "outputs": [
    {
     "name": "stdout",
     "output_type": "stream",
     "text": [
      "Cidades com latitude maior que -25 (únicas):\n",
      "Nome: ALVORADA, Latitude: -12.4785, Longitude: -49.1249\n",
      "Nome: LAJEADO, Latitude: -9.74996, Longitude: -48.3565\n",
      "Nome: SARANDI, Latitude: -23.4441, Longitude: -51876.0\n",
      "Nome: CRUZEIRO DO SUL, Latitude: -7.62762, Longitude: -72.6756\n",
      "Nome: SOBRADINHO, Latitude: -9.45024, Longitude: -40.8145\n",
      "Nome: VERA CRUZ, Latitude: -12.9568, Longitude: -38.6153\n",
      "Nome: VERA CRUZ, Latitude: -6.04399, Longitude: -35428.0\n",
      "Nome: CRUZEIRO DO SUL, Latitude: -22.9624, Longitude: -52.1622\n",
      "Nome: TAPEJARA, Latitude: -23.7315, Longitude: -52.8735\n",
      "Nome: CACHOEIRINHA, Latitude: -6.1156, Longitude: -47.9234\n",
      "Nome: PLANALTO, Latitude: -21.0342, Longitude: -49933.0\n",
      "Nome: CACHOEIRINHA, Latitude: -8.48668, Longitude: -36.2402\n",
      "Nome: PLANALTO, Latitude: -14.6654, Longitude: -40.4718\n",
      "Nome: VERA CRUZ, Latitude: -22.2183, Longitude: -49.8207\n"
     ]
    }
   ],
   "source": [
    "import pandas as pd\n",
    "\n",
    "# Supondo que o DataFrame 'dados' já está carregado\n",
    "\n",
    "# Criar um conjunto para armazenar as informações únicas\n",
    "cidades_info = set()\n",
    "\n",
    "# Verificar todas as colunas de latitude e suas respectivas longitudes e cidades\n",
    "for index, row in dados.iterrows():\n",
    " \n",
    "    # Verificar 'SP_CIDADE_P', 'latitude_p', 'longitude_p'\n",
    "    if row['latitude_p'] > -25:\n",
    "        cidades_info.add((row['SP_CIDADE_P'], row['latitude_p'], row['longitude_p']))\n",
    "\n",
    "\n",
    "\n",
    "# Exibir os resultados\n",
    "print(\"Cidades com latitude maior que -25 (únicas):\")\n",
    "for cidade, lat, lon in cidades_info:\n",
    "    print(f\"Nome: {cidade}, Latitude: {lat}, Longitude: {lon}\")"
   ]
  },
  {
   "cell_type": "code",
   "execution_count": 96,
   "metadata": {},
   "outputs": [],
   "source": [
    "# import pandas as pd\n",
    "\n",
    "# # Supondo que o DataFrame 'dados' já está carregado\n",
    "\n",
    "# # Cidade que você quer modificar\n",
    "# cidade_especifica = \"SÃO GABRIEL\"\n",
    "\n",
    "# # Novos valores de latitude e longitude\n",
    "# nova_latitude = -30.3337\n",
    "# nova_longitude = -54.3217\n",
    "\n",
    "\n",
    "# # Alterar a latitude e longitude em 'latitude_h', 'longitude_h' quando 'SP_CIDADE_H' for igual à cidade específica\n",
    "# dados.loc[dados['SP_CIDADE_H'].str.lower() == cidade_especifica.lower(), ['latitude_h', 'longitude_h']] = [nova_latitude, nova_longitude]\n",
    "\n",
    "# # Alterar a latitude e longitude em 'latitude_p', 'longitude_p' quando 'SP_CIDADE_P' for igual à cidade específica\n",
    "# dados.loc[dados['SP_CIDADE_P'].str.lower() == cidade_especifica.lower(), ['latitude_p', 'longitude_p']] = [nova_latitude, nova_longitude]"
   ]
  },
  {
   "cell_type": "code",
   "execution_count": 97,
   "metadata": {},
   "outputs": [],
   "source": [
    "# import pandas as pd\n",
    "\n",
    "# # Supondo que o DataFrame 'dados' já está carregado\n",
    "\n",
    "# # Cidade que você quer modificar\n",
    "# cidade_especifica = \"HUMAITÁ\"\n",
    "\n",
    "# # Novos valores de latitude e longitude\n",
    "# nova_latitude = -27.5691\n",
    "# nova_longitude = -53.9695\n",
    "\n",
    "\n",
    "# # Alterar a latitude e longitude em 'latitude_h', 'longitude_h' quando 'SP_CIDADE_H' for igual à cidade específica\n",
    "# dados.loc[dados['SP_CIDADE_H'].str.lower() == cidade_especifica.lower(), ['latitude_h', 'longitude_h']] = [nova_latitude, nova_longitude]\n",
    "\n",
    "# # Alterar a latitude e longitude em 'latitude_p', 'longitude_p' quando 'SP_CIDADE_P' for igual à cidade específica\n",
    "# dados.loc[dados['SP_CIDADE_P'].str.lower() == cidade_especifica.lower(), ['latitude_p', 'longitude_p']] = [nova_latitude, nova_longitude]"
   ]
  },
  {
   "cell_type": "code",
   "execution_count": 98,
   "metadata": {},
   "outputs": [],
   "source": [
    "# import pandas as pd\n",
    "\n",
    "# # Supondo que o DataFrame 'dados' já está carregado\n",
    "\n",
    "# # Cidade que você quer modificar\n",
    "# cidade_especifica = \"BOM JESUS\"\n",
    "\n",
    "# # Novos valores de latitude e longitude\n",
    "# nova_latitude = -28.6697\n",
    "# nova_longitude = -50.4295\n",
    "\n",
    "\n",
    "# # Alterar a latitude e longitude em 'latitude_h', 'longitude_h' quando 'SP_CIDADE_H' for igual à cidade específica\n",
    "# dados.loc[dados['SP_CIDADE_H'].str.lower() == cidade_especifica.lower(), ['latitude_h', 'longitude_h']] = [nova_latitude, nova_longitude]\n",
    "\n",
    "# # Alterar a latitude e longitude em 'latitude_p', 'longitude_p' quando 'SP_CIDADE_P' for igual à cidade específica\n",
    "# dados.loc[dados['SP_CIDADE_P'].str.lower() == cidade_especifica.lower(), ['latitude_p', 'longitude_p']] = [nova_latitude, nova_longitude]"
   ]
  },
  {
   "cell_type": "code",
   "execution_count": 99,
   "metadata": {},
   "outputs": [],
   "source": [
    "# import pandas as pd\n",
    "\n",
    "# # Supondo que o DataFrame 'dados' já está carregado\n",
    "\n",
    "# # Cidade que você quer modificar\n",
    "# cidade_especifica = \"SANTA MARIA\"\n",
    "\n",
    "# # Novos valores de latitude e longitude\n",
    "# nova_latitude = -29.6868\n",
    "# nova_longitude = -53.8149\n",
    "\n",
    "\n",
    "# # Alterar a latitude e longitude em 'latitude_h', 'longitude_h' quando 'SP_CIDADE_H' for igual à cidade específica\n",
    "# dados.loc[dados['SP_CIDADE_H'].str.lower() == cidade_especifica.lower(), ['latitude_h', 'longitude_h']] = [nova_latitude, nova_longitude]\n",
    "\n",
    "# # Alterar a latitude e longitude em 'latitude_p', 'longitude_p' quando 'SP_CIDADE_P' for igual à cidade específica\n",
    "# dados.loc[dados['SP_CIDADE_P'].str.lower() == cidade_especifica.lower(), ['latitude_p', 'longitude_p']] = [nova_latitude, nova_longitude]"
   ]
  },
  {
   "cell_type": "code",
   "execution_count": 100,
   "metadata": {},
   "outputs": [],
   "source": [
    "# import pandas as pd\n",
    "\n",
    "# # Supondo que o DataFrame 'dados' já está carregado\n",
    "\n",
    "# # Cidade que você quer modificar\n",
    "# cidade_especifica = \"SÃO FRANCISCO DE PAULA\"\n",
    "\n",
    "# # Novos valores de latitude e longitude\n",
    "# nova_latitude = -29.4404\n",
    "# nova_longitude = -50.5828\n",
    "\n",
    "\n",
    "# # Alterar a latitude e longitude em 'latitude_h', 'longitude_h' quando 'SP_CIDADE_H' for igual à cidade específica\n",
    "# dados.loc[dados['SP_CIDADE_H'].str.lower() == cidade_especifica.lower(), ['latitude_h', 'longitude_h']] = [nova_latitude, nova_longitude]\n",
    "\n",
    "# # Alterar a latitude e longitude em 'latitude_p', 'longitude_p' quando 'SP_CIDADE_P' for igual à cidade específica\n",
    "# dados.loc[dados['SP_CIDADE_P'].str.lower() == cidade_especifica.lower(), ['latitude_p', 'longitude_p']] = [nova_latitude, nova_longitude]"
   ]
  },
  {
   "cell_type": "code",
   "execution_count": 101,
   "metadata": {},
   "outputs": [],
   "source": [
    "# import pandas as pd\n",
    "\n",
    "# # Supondo que o DataFrame 'dados' já está carregado\n",
    "\n",
    "# # Cidade que você quer modificar\n",
    "# cidade_especifica = \"TRIUNFO\"\n",
    "\n",
    "# # Novos valores de latitude e longitude\n",
    "# nova_latitude = -29.9291\n",
    "# nova_longitude = -51.7075\n",
    "\n",
    "\n",
    "# # Alterar a latitude e longitude em 'latitude_h', 'longitude_h' quando 'SP_CIDADE_H' for igual à cidade específica\n",
    "# dados.loc[dados['SP_CIDADE_H'].str.lower() == cidade_especifica.lower(), ['latitude_h', 'longitude_h']] = [nova_latitude, nova_longitude]\n",
    "\n",
    "# # Alterar a latitude e longitude em 'latitude_p', 'longitude_p' quando 'SP_CIDADE_P' for igual à cidade específica\n",
    "# dados.loc[dados['SP_CIDADE_P'].str.lower() == cidade_especifica.lower(), ['latitude_p', 'longitude_p']] = [nova_latitude, nova_longitude]"
   ]
  },
  {
   "cell_type": "code",
   "execution_count": 102,
   "metadata": {},
   "outputs": [],
   "source": [
    "# import pandas as pd\n",
    "\n",
    "# # Supondo que o DataFrame 'dados' já está carregado\n",
    "\n",
    "# # Cidade que você quer modificar\n",
    "# cidade_especifica = \"BOM JESUS\"\n",
    "\n",
    "# # Novos valores de latitude e longitude\n",
    "# nova_latitude = -28.6697\n",
    "# nova_longitude = -50.4295\n",
    "\n",
    "\n",
    "# # Alterar a latitude e longitude em 'latitude_h', 'longitude_h' quando 'SP_CIDADE_H' for igual à cidade específica\n",
    "# dados.loc[dados['SP_CIDADE_H'].str.lower() == cidade_especifica.lower(), ['latitude_h', 'longitude_h']] = [nova_latitude, nova_longitude]\n",
    "\n",
    "# # Alterar a latitude e longitude em 'latitude_p', 'longitude_p' quando 'SP_CIDADE_P' for igual à cidade específica\n",
    "# dados.loc[dados['SP_CIDADE_P'].str.lower() == cidade_especifica.lower(), ['latitude_p', 'longitude_p']] = [nova_latitude, nova_longitude]"
   ]
  },
  {
   "cell_type": "code",
   "execution_count": 103,
   "metadata": {},
   "outputs": [],
   "source": [
    "# import pandas as pd\n",
    "\n",
    "# # Supondo que o DataFrame 'dados' já está carregado\n",
    "\n",
    "# # Cidade que você quer modificar\n",
    "# cidade_especifica = \"CAIÇARA\"\n",
    "\n",
    "# # Novos valores de latitude e longitude\n",
    "# nova_latitude = -27.2791\n",
    "# nova_longitude = -53.4257\n",
    "\n",
    "\n",
    "# # Alterar a latitude e longitude em 'latitude_h', 'longitude_h' quando 'SP_CIDADE_H' for igual à cidade específica\n",
    "# dados.loc[dados['SP_CIDADE_H'].str.lower() == cidade_especifica.lower(), ['latitude_h', 'longitude_h']] = [nova_latitude, nova_longitude]\n",
    "\n",
    "# # Alterar a latitude e longitude em 'latitude_p', 'longitude_p' quando 'SP_CIDADE_P' for igual à cidade específica\n",
    "# dados.loc[dados['SP_CIDADE_P'].str.lower() == cidade_especifica.lower(), ['latitude_p', 'longitude_p']] = [nova_latitude, nova_longitude]"
   ]
  },
  {
   "cell_type": "code",
   "execution_count": 104,
   "metadata": {},
   "outputs": [],
   "source": [
    "# import pandas as pd\n",
    "\n",
    "# # Supondo que o DataFrame 'dados' já está carregado\n",
    "\n",
    "# # Cidade que você quer modificar\n",
    "# cidade_especifica = \"MARAU\"\n",
    "\n",
    "# # Novos valores de latitude e longitude\n",
    "# nova_latitude = -28.4498\n",
    "# nova_longitude = -52.1986\n",
    "\n",
    "\n",
    "# # Alterar a latitude e longitude em 'latitude_h', 'longitude_h' quando 'SP_CIDADE_H' for igual à cidade específica\n",
    "# dados.loc[dados['SP_CIDADE_H'].str.lower() == cidade_especifica.lower(), ['latitude_h', 'longitude_h']] = [nova_latitude, nova_longitude]\n",
    "\n",
    "# # Alterar a latitude e longitude em 'latitude_p', 'longitude_p' quando 'SP_CIDADE_P' for igual à cidade específica\n",
    "# dados.loc[dados['SP_CIDADE_P'].str.lower() == cidade_especifica.lower(), ['latitude_p', 'longitude_p']] = [nova_latitude, nova_longitude]"
   ]
  },
  {
   "cell_type": "code",
   "execution_count": 105,
   "metadata": {},
   "outputs": [],
   "source": [
    "# import pandas as pd\n",
    "\n",
    "# # Supondo que o DataFrame 'dados' já está carregado\n",
    "\n",
    "# # Criar um conjunto para armazenar as informações únicas\n",
    "# cidades_info = set()\n",
    "\n",
    "# # Verificar todas as colunas de latitude e suas respectivas longitudes e cidades\n",
    "# for index, row in dados.iterrows():\n",
    "#     # Verificar 'SP_CIDADE_H', 'latitude_h', 'longitude_h'\n",
    "#     if row['latitude_h'] > -25:\n",
    "#         cidades_info.add((row['SP_CIDADE_H'], row['latitude_h'], row['longitude_h']))\n",
    "\n",
    "   \n",
    "\n",
    "\n",
    "# # Exibir os resultados\n",
    "# print(\"Cidades com latitude maior que -25 (únicas):\")\n",
    "# for cidade, lat, lon in cidades_info:\n",
    "#     print(f\"Nome: {cidade}, Latitude: {lat}, Longitude: {lon}\")"
   ]
  },
  {
   "cell_type": "code",
   "execution_count": 106,
   "metadata": {},
   "outputs": [
    {
     "name": "stdout",
     "output_type": "stream",
     "text": [
      "Cidades com latitude maior que -25 (únicas):\n",
      "Nome: ALVORADA, Latitude: -12.4785, Longitude: -49.1249\n",
      "Nome: LAJEADO, Latitude: -9.74996, Longitude: -48.3565\n",
      "Nome: SARANDI, Latitude: -23.4441, Longitude: -51876.0\n",
      "Nome: CRUZEIRO DO SUL, Latitude: -7.62762, Longitude: -72.6756\n",
      "Nome: SOBRADINHO, Latitude: -9.45024, Longitude: -40.8145\n",
      "Nome: VERA CRUZ, Latitude: -12.9568, Longitude: -38.6153\n",
      "Nome: VERA CRUZ, Latitude: -6.04399, Longitude: -35428.0\n",
      "Nome: CRUZEIRO DO SUL, Latitude: -22.9624, Longitude: -52.1622\n",
      "Nome: TAPEJARA, Latitude: -23.7315, Longitude: -52.8735\n",
      "Nome: CACHOEIRINHA, Latitude: -6.1156, Longitude: -47.9234\n",
      "Nome: PLANALTO, Latitude: -21.0342, Longitude: -49933.0\n",
      "Nome: CACHOEIRINHA, Latitude: -8.48668, Longitude: -36.2402\n",
      "Nome: PLANALTO, Latitude: -14.6654, Longitude: -40.4718\n",
      "Nome: VERA CRUZ, Latitude: -22.2183, Longitude: -49.8207\n"
     ]
    }
   ],
   "source": [
    "import pandas as pd\n",
    "\n",
    "# Supondo que o DataFrame 'dados' já está carregado\n",
    "\n",
    "# Criar um conjunto para armazenar as informações únicas\n",
    "cidades_info = set()\n",
    "\n",
    "# Verificar todas as colunas de latitude e suas respectivas longitudes e cidades\n",
    "for index, row in dados.iterrows():\n",
    " \n",
    "    # Verificar 'SP_CIDADE_P', 'latitude_p', 'longitude_p'\n",
    "    if row['latitude_p'] > -25:\n",
    "        cidades_info.add((row['SP_CIDADE_P'], row['latitude_p'], row['longitude_p']))\n",
    "\n",
    "\n",
    "\n",
    "# Exibir os resultados\n",
    "print(\"Cidades com latitude maior que -25 (únicas):\")\n",
    "for cidade, lat, lon in cidades_info:\n",
    "    print(f\"Nome: {cidade}, Latitude: {lat}, Longitude: {lon}\")"
   ]
  },
  {
   "cell_type": "code",
   "execution_count": 107,
   "metadata": {},
   "outputs": [],
   "source": [
    "# import pandas as pd\n",
    "\n",
    "# # Supondo que o DataFrame 'dados' já está carregado\n",
    "\n",
    "# # Cidade que você quer modificar\n",
    "# cidade_especifica = \"ALTO ALEGRE\"\n",
    "\n",
    "# # Novos valores de latitude e longitude\n",
    "# nova_latitude = -28.7769\n",
    "# nova_longitude = -52.9893\n",
    "\n",
    "\n",
    "# # Alterar a latitude e longitude em 'latitude_h', 'longitude_h' quando 'SP_CIDADE_H' for igual à cidade específica\n",
    "# dados.loc[dados['SP_CIDADE_H'].str.lower() == cidade_especifica.lower(), ['latitude_h', 'longitude_h']] = [nova_latitude, nova_longitude]\n",
    "\n",
    "# # Alterar a latitude e longitude em 'latitude_p', 'longitude_p' quando 'SP_CIDADE_P' for igual à cidade específica\n",
    "# dados.loc[dados['SP_CIDADE_P'].str.lower() == cidade_especifica.lower(), ['latitude_p', 'longitude_p']] = [nova_latitude, nova_longitude]"
   ]
  },
  {
   "cell_type": "code",
   "execution_count": 108,
   "metadata": {},
   "outputs": [],
   "source": [
    "# import pandas as pd\n",
    "\n",
    "# # Supondo que o DataFrame 'dados' já está carregado\n",
    "\n",
    "# # Cidade que você quer modificar\n",
    "# cidade_especifica = \"COLINAS\"\n",
    "\n",
    "# # Novos valores de latitude e longitude\n",
    "# nova_latitude = -29.3948\n",
    "# nova_longitude = -51.8556\n",
    "\n",
    "\n",
    "# # Alterar a latitude e longitude em 'latitude_h', 'longitude_h' quando 'SP_CIDADE_H' for igual à cidade específica\n",
    "# dados.loc[dados['SP_CIDADE_H'].str.lower() == cidade_especifica.lower(), ['latitude_h', 'longitude_h']] = [nova_latitude, nova_longitude]\n",
    "\n",
    "# # Alterar a latitude e longitude em 'latitude_p', 'longitude_p' quando 'SP_CIDADE_P' for igual à cidade específica\n",
    "# dados.loc[dados['SP_CIDADE_P'].str.lower() == cidade_especifica.lower(), ['latitude_p', 'longitude_p']] = [nova_latitude, nova_longitude]"
   ]
  },
  {
   "cell_type": "code",
   "execution_count": 109,
   "metadata": {},
   "outputs": [],
   "source": [
    "# import pandas as pd\n",
    "\n",
    "# # Supondo que o DataFrame 'dados' já está carregado\n",
    "\n",
    "# # Cidade que você quer modificar\n",
    "# cidade_especifica = \"TAVARES\"\n",
    "\n",
    "# # Novos valores de latitude e longitude\n",
    "# nova_latitude = -31.2843\n",
    "# nova_longitude = -51.0880\n",
    "\n",
    "\n",
    "# # Alterar a latitude e longitude em 'latitude_h', 'longitude_h' quando 'SP_CIDADE_H' for igual à cidade específica\n",
    "# dados.loc[dados['SP_CIDADE_H'].str.lower() == cidade_especifica.lower(), ['latitude_h', 'longitude_h']] = [nova_latitude, nova_longitude]\n",
    "\n",
    "# # Alterar a latitude e longitude em 'latitude_p', 'longitude_p' quando 'SP_CIDADE_P' for igual à cidade específica\n",
    "# dados.loc[dados['SP_CIDADE_P'].str.lower() == cidade_especifica.lower(), ['latitude_p', 'longitude_p']] = [nova_latitude, nova_longitude]"
   ]
  },
  {
   "cell_type": "code",
   "execution_count": 110,
   "metadata": {},
   "outputs": [],
   "source": [
    "# import pandas as pd\n",
    "\n",
    "# # Supondo que o DataFrame 'dados' já está carregado\n",
    "\n",
    "# # Cidade que você quer modificar\n",
    "# cidade_especifica = \"INDEPENDÊNCIA\"\n",
    "\n",
    "# # Novos valores de latitude e longitude\n",
    "# nova_latitude = -27.8354\n",
    "# nova_longitude = -54.1886\n",
    "\n",
    "\n",
    "# # Alterar a latitude e longitude em 'latitude_h', 'longitude_h' quando 'SP_CIDADE_H' for igual à cidade específica\n",
    "# dados.loc[dados['SP_CIDADE_H'].str.lower() == cidade_especifica.lower(), ['latitude_h', 'longitude_h']] = [nova_latitude, nova_longitude]\n",
    "\n",
    "# # Alterar a latitude e longitude em 'latitude_p', 'longitude_p' quando 'SP_CIDADE_P' for igual à cidade específica\n",
    "# dados.loc[dados['SP_CIDADE_P'].str.lower() == cidade_especifica.lower(), ['latitude_p', 'longitude_p']] = [nova_latitude, nova_longitude]"
   ]
  },
  {
   "cell_type": "code",
   "execution_count": 111,
   "metadata": {},
   "outputs": [],
   "source": [
    "# import pandas as pd\n",
    "\n",
    "# # Supondo que o DataFrame 'dados' já está carregado\n",
    "\n",
    "# # Cidade que você quer modificar\n",
    "# cidade_especifica = \"COLORADO\"\n",
    "\n",
    "# # Novos valores de latitude e longitude\n",
    "# nova_latitude = -28.5258\n",
    "# nova_longitude = -52.9928\n",
    "\n",
    "\n",
    "# # Alterar a latitude e longitude em 'latitude_h', 'longitude_h' quando 'SP_CIDADE_H' for igual à cidade específica\n",
    "# dados.loc[dados['SP_CIDADE_H'].str.lower() == cidade_especifica.lower(), ['latitude_h', 'longitude_h']] = [nova_latitude, nova_longitude]\n",
    "\n",
    "# # Alterar a latitude e longitude em 'latitude_p', 'longitude_p' quando 'SP_CIDADE_P' for igual à cidade específica\n",
    "# dados.loc[dados['SP_CIDADE_P'].str.lower() == cidade_especifica.lower(), ['latitude_p', 'longitude_p']] = [nova_latitude, nova_longitude]"
   ]
  },
  {
   "cell_type": "code",
   "execution_count": 112,
   "metadata": {},
   "outputs": [],
   "source": [
    "# import pandas as pd\n",
    "\n",
    "# # Supondo que o DataFrame 'dados' já está carregado\n",
    "\n",
    "# # Cidade que você quer modificar\n",
    "# cidade_especifica = \"NOVA SANTA RITA\"\n",
    "\n",
    "# # Novos valores de latitude e longitude\n",
    "# nova_latitude = -29.8525\n",
    "# nova_longitude = -51.2837\n",
    "\n",
    "\n",
    "# # Alterar a latitude e longitude em 'latitude_h', 'longitude_h' quando 'SP_CIDADE_H' for igual à cidade específica\n",
    "# dados.loc[dados['SP_CIDADE_H'].str.lower() == cidade_especifica.lower(), ['latitude_h', 'longitude_h']] = [nova_latitude, nova_longitude]\n",
    "\n",
    "# # Alterar a latitude e longitude em 'latitude_p', 'longitude_p' quando 'SP_CIDADE_P' for igual à cidade específica\n",
    "# dados.loc[dados['SP_CIDADE_P'].str.lower() == cidade_especifica.lower(), ['latitude_p', 'longitude_p']] = [nova_latitude, nova_longitude]"
   ]
  },
  {
   "cell_type": "code",
   "execution_count": 113,
   "metadata": {},
   "outputs": [],
   "source": [
    "# import pandas as pd\n",
    "\n",
    "# # Supondo que o DataFrame 'dados' já está carregado\n",
    "\n",
    "# # Cidade que você quer modificar\n",
    "# cidade_especifica = \"JACUTINGA\"\n",
    "\n",
    "# # Novos valores de latitude e longitude\n",
    "# nova_latitude = -27.7291\n",
    "# nova_longitude = -52.5372\n",
    "\n",
    "\n",
    "# # Alterar a latitude e longitude em 'latitude_h', 'longitude_h' quando 'SP_CIDADE_H' for igual à cidade específica\n",
    "# dados.loc[dados['SP_CIDADE_H'].str.lower() == cidade_especifica.lower(), ['latitude_h', 'longitude_h']] = [nova_latitude, nova_longitude]\n",
    "\n",
    "# # Alterar a latitude e longitude em 'latitude_p', 'longitude_p' quando 'SP_CIDADE_P' for igual à cidade específica\n",
    "# dados.loc[dados['SP_CIDADE_P'].str.lower() == cidade_especifica.lower(), ['latitude_p', 'longitude_p']] = [nova_latitude, nova_longitude]"
   ]
  },
  {
   "cell_type": "code",
   "execution_count": 114,
   "metadata": {},
   "outputs": [],
   "source": [
    "# import pandas as pd\n",
    "\n",
    "# # Supondo que o DataFrame 'dados' já está carregado\n",
    "\n",
    "# # Cidade que você quer modificar\n",
    "# cidade_especifica = \"CENTENÁRIO\"\n",
    "\n",
    "# # Novos valores de latitude e longitude\n",
    "# nova_latitude = -27.7615\n",
    "# nova_longitude = -51.9984\n",
    "\n",
    "\n",
    "# # Alterar a latitude e longitude em 'latitude_h', 'longitude_h' quando 'SP_CIDADE_H' for igual à cidade específica\n",
    "# dados.loc[dados['SP_CIDADE_H'].str.lower() == cidade_especifica.lower(), ['latitude_h', 'longitude_h']] = [nova_latitude, nova_longitude]\n",
    "\n",
    "# # Alterar a latitude e longitude em 'latitude_p', 'longitude_p' quando 'SP_CIDADE_P' for igual à cidade específica\n",
    "# dados.loc[dados['SP_CIDADE_P'].str.lower() == cidade_especifica.lower(), ['latitude_p', 'longitude_p']] = [nova_latitude, nova_longitude]"
   ]
  },
  {
   "cell_type": "code",
   "execution_count": 115,
   "metadata": {},
   "outputs": [],
   "source": [
    "# import pandas as pd\n",
    "\n",
    "# # Supondo que o DataFrame 'dados' já está carregado\n",
    "\n",
    "# # Criar um conjunto para armazenar as informações únicas\n",
    "# cidades_info = set()\n",
    "\n",
    "# # Verificar todas as colunas de latitude e suas respectivas longitudes e cidades\n",
    "# for index, row in dados.iterrows():\n",
    " \n",
    "#     # Verificar 'SP_CIDADE_P', 'latitude_p', 'longitude_p'\n",
    "#     if row['latitude_p'] > -25:\n",
    "#         cidades_info.add((row['SP_CIDADE_P'], row['latitude_p'], row['longitude_p']))\n",
    "\n",
    "\n",
    "\n",
    "# # Exibir os resultados\n",
    "# print(\"Cidades com latitude maior que -25 (únicas):\")\n",
    "# for cidade, lat, lon in cidades_info:\n",
    "#     print(f\"Nome: {cidade}, Latitude: {lat}, Longitude: {lon}\")"
   ]
  },
  {
   "cell_type": "code",
   "execution_count": 116,
   "metadata": {},
   "outputs": [],
   "source": [
    "# import pandas as pd\n",
    "\n",
    "# # Supondo que o DataFrame 'dados' já está carregado\n",
    "\n",
    "# # Criar um conjunto para armazenar as informações únicas\n",
    "# cidades_info = set()\n",
    "\n",
    "# # Verificar todas as colunas de latitude e suas respectivas longitudes e cidades\n",
    "# for index, row in dados.iterrows():\n",
    "#     # Verificar 'SP_CIDADE_H', 'latitude_h', 'longitude_h'\n",
    "#     if row['latitude_h'] > -25:\n",
    "#         cidades_info.add((row['SP_CIDADE_H'], row['latitude_h'], row['longitude_h']))\n",
    "\n",
    "   \n",
    "\n",
    "\n",
    "# # Exibir os resultados\n",
    "# print(\"Cidades com latitude maior que -25 (únicas):\")\n",
    "# for cidade, lat, lon in cidades_info:\n",
    "#     print(f\"Nome: {cidade}, Latitude: {lat}, Longitude: {lon}\")"
   ]
  },
  {
   "cell_type": "code",
   "execution_count": 117,
   "metadata": {},
   "outputs": [],
   "source": [
    "# import pandas as pd\n",
    "\n",
    "# # Supondo que o DataFrame 'dados' já está carregado\n",
    "\n",
    "# # Converter colunas de latitude e longitude para numérico, forçando erros a NaN\n",
    "# dados['latitude_h'] = pd.to_numeric(dados['latitude_h'], errors='coerce')\n",
    "# dados['longitude_h'] = pd.to_numeric(dados['longitude_h'], errors='coerce')\n",
    "# dados['latitude_p'] = pd.to_numeric(dados['latitude_p'], errors='coerce')\n",
    "# dados['longitude_p'] = pd.to_numeric(dados['longitude_p'], errors='coerce')\n",
    "\n",
    "# # Verificar se a coluna 'latitude_p_ext' existe e converter se necessário\n",
    "# if 'latitude_p_ext' in dados.columns:\n",
    "#     dados['latitude_p_ext'] = pd.to_numeric(dados['latitude_p_ext'], errors='coerce')\n",
    "#     dados['longitude_p_ext'] = pd.to_numeric(dados['longitude_p_ext'], errors='coerce')\n",
    "\n",
    "# # Inicializar variáveis para armazenar a cidade com a maior longitude\n",
    "# maior_longitude = float('-inf')  # Menor infinito\n",
    "# cidade_com_maior_longitude = None\n",
    "# latitude_maior = None\n",
    "\n",
    "# # Verificar todas as colunas de latitude e suas respectivas longitudes e cidades\n",
    "# for index, row in dados.iterrows():\n",
    "#     # Verificar 'SP_CIDADE_H', 'latitude_h', 'longitude_h'\n",
    "#     if row['latitude_h'] > -25 and row['longitude_h'] > maior_longitude:\n",
    "#         maior_longitude = row['longitude_h']\n",
    "#         cidade_com_maior_longitude = row['SP_CIDADE_H']\n",
    "#         latitude_maior = row['latitude_h']\n",
    "\n",
    "#     # Verificar 'SP_CIDADE_P', 'latitude_p', 'longitude_p'\n",
    "#     if row['latitude_p'] > -25 and row['longitude_p'] > maior_longitude:\n",
    "#         maior_longitude = row['longitude_p']\n",
    "#         cidade_com_maior_longitude = row['SP_CIDADE_P']\n",
    "#         latitude_maior = row['latitude_p']\n",
    "\n",
    "#     # Verificar 'SP_CIDADE_P_EXT', 'latitude_p_ext', 'longitude_p_ext' se houver\n",
    "#     if 'latitude_p_ext' in dados.columns and row['latitude_p_ext'] > -25 and row['longitude_p_ext'] > maior_longitude:\n",
    "#         maior_longitude = row['longitude_p_ext']\n",
    "#         cidade_com_maior_longitude = row['SP_CIDADE_P_EXT']\n",
    "#         latitude_maior = row['latitude_p_ext']\n",
    "\n",
    "# # Exibir a cidade com a maior longitude\n",
    "# if cidade_com_maior_longitude:\n",
    "#     print(f\"A cidade com a maior longitude é: {cidade_com_maior_longitude}, Longitude: {maior_longitude}, Latitude: {latitude_maior}\")\n",
    "# else:\n",
    "#     print(\"Nenhuma cidade com latitude maior que -25 foi encontrada.\")"
   ]
  },
  {
   "cell_type": "code",
   "execution_count": 118,
   "metadata": {},
   "outputs": [],
   "source": [
    "# import pandas as pd\n",
    "\n",
    "# # Supondo que o DataFrame 'dados' já está carregado\n",
    "\n",
    "# # Cidade que você quer modificar\n",
    "# cidade_especifica = \"SOLEDADE\"\n",
    "\n",
    "# # Novos valores de latitude e longitude\n",
    "# nova_latitude = -28.8306\n",
    "# nova_longitude = -52.5131\n",
    "\n",
    "\n",
    "# # Alterar a latitude e longitude em 'latitude_h', 'longitude_h' quando 'SP_CIDADE_H' for igual à cidade específica\n",
    "# dados.loc[dados['SP_CIDADE_H'].str.lower() == cidade_especifica.lower(), ['latitude_h', 'longitude_h']] = [nova_latitude, nova_longitude]\n",
    "\n",
    "# # Alterar a latitude e longitude em 'latitude_p', 'longitude_p' quando 'SP_CIDADE_P' for igual à cidade específica\n",
    "# dados.loc[dados['SP_CIDADE_P'].str.lower() == cidade_especifica.lower(), ['latitude_p', 'longitude_p']] = [nova_latitude, nova_longitude]"
   ]
  },
  {
   "cell_type": "code",
   "execution_count": 119,
   "metadata": {},
   "outputs": [
    {
     "name": "stdout",
     "output_type": "stream",
     "text": [
      "Cidades com longitude maior que -49:\n",
      "SOBRADINHO\n",
      "LAJEADO\n",
      "CACHOEIRINHA\n",
      "PLANALTO\n",
      "VERA CRUZ\n"
     ]
    }
   ],
   "source": [
    "import pandas as pd\n",
    "\n",
    "# Supondo que o DataFrame 'dados' já está carregado\n",
    "\n",
    "# Criar uma lista para armazenar as cidades com longitude maior que -49\n",
    "cidades_longitude_maior_49 = []\n",
    "\n",
    "# Iterar sobre as linhas do DataFrame para encontrar cidades com longitude maior que -49\n",
    "for index, row in dados.iterrows():\n",
    "    if row['longitude_h'] > -49:  # Verifica se a longitude é maior que -49\n",
    "        cidades_longitude_maior_49.append(row['SP_CIDADE_H'])\n",
    "\n",
    "# Obter apenas os nomes únicos das cidades\n",
    "cidades_longitude_maior_49_unicas = list(set(cidades_longitude_maior_49))\n",
    "\n",
    "# Exibir os resultados\n",
    "print(\"Cidades com longitude maior que -49:\")\n",
    "for cidade in cidades_longitude_maior_49_unicas:\n",
    "    print(cidade)"
   ]
  },
  {
   "cell_type": "code",
   "execution_count": 120,
   "metadata": {},
   "outputs": [
    {
     "name": "stdout",
     "output_type": "stream",
     "text": [
      "                    SP_CIDADE_H   latitude_h  longitude_h\n",
      "59783                 GARIBALDI -29259.00000     -51.5352\n",
      "62366                  ALVORADA    -12.47850     -49.1249\n",
      "62960              CACHOEIRINHA     -6.11560     -47.9234\n",
      "62963              CACHOEIRINHA     -8.48668     -36.2402\n",
      "90834          CACHOEIRA DO SUL -30033.00000     -52.8928\n",
      "96951                   LAJEADO     -9.74996     -48.3565\n",
      "97378          SÃO LUIZ GONZAGA -28412.00000     -54.9559\n",
      "97660                 RIO PARDO -29988.00000     -52.3711\n",
      "99029                 VERA CRUZ     -6.04399  -35428.0000\n",
      "99033                 VERA CRUZ    -12.95680     -38.6153\n",
      "99041                 VERA CRUZ    -22.21830     -49.8207\n",
      "99646    SÃO MIGUEL DAS MISSÕES -28556.00000     -54.5559\n",
      "100669             SANTO CRISTO    -27.82630  -54662.0000\n",
      "124635                 RIOZINHO -29639.00000     -50.4488\n",
      "172567        SANTA CRUZ DO SUL -29722.00000     -52.4343\n",
      "175910                    MUÇUM -29163.00000     -51.8714\n",
      "184493          SAPUCAIA DO SUL    -29.82760  -51145.0000\n",
      "189587            DOIS LAJEADOS -28983.00000     -51.8396\n",
      "197529      ENCRUZILHADA DO SUL -30543.00000     -52.5204\n",
      "197560               SOBRADINHO     -9.45024     -40.8145\n",
      "197684                CRUZ ALTA -28645.00000     -53.6048\n",
      "197828                 PLANALTO    -14.66540     -40.4718\n",
      "197836                 PLANALTO    -21.03420  -49933.0000\n",
      "197840                 PLANALTO    -25.72110     -53.7642\n",
      "201062          CRUZEIRO DO SUL    -22.96240     -52.1622\n",
      "201068          CRUZEIRO DO SUL     -7.62762     -72.6756\n",
      "250127                  CANGUÇU -31396.00000     -52.6783\n",
      "250267                SANANDUVA -27947.00000     -51.8079\n",
      "250471                     IJUÍ -28388.00000     -53.9200\n",
      "253642               URUGUAIANA    -29.76140     -57.0853\n",
      "254900     SANTA BÁRBARA DO SUL    -28.36530  -53251.0000\n",
      "255421                 JAGUARÃO    -32.56040  -53377.0000\n",
      "302714  SANTA VITÓRIA DO PALMAR -33525.00000     -53.3717\n",
      "303234                  JAGUARI    -29.49360  -54703.0000\n",
      "304975                   HERVAL -32024.00000     -53.3944\n",
      "306930                  CACEQUI    -29.88830  -54822.0000\n",
      "307734                 TAPEJARA    -23.73150     -52.8735\n",
      "313359               NOVA PALMA -29471.00000     -53.4689\n",
      "316406              CONSTANTINA -27732.00000     -52.9938\n",
      "316496                  SARANDI    -23.44410  -51876.0000\n",
      "316498                  SARANDI -27942.00000     -52.9231\n",
      "324532           PARAÍSO DO SUL    -29.67170  -53144.0000\n",
      "355568                   CANELA -29356.00000     -50.8119\n",
      "371924   MAXIMILIANO DE ALMEIDA    -27.63250  -51802.0000\n",
      "380715               PAIM FILHO    -27.70750  -51763.0000\n",
      "383916               PALMITINHO    -27.35960  -53558.0000\n",
      "386071                CHIAPETTA -27923.00000     -53.9419\n",
      "394208          AMETISTA DO SUL    -27.36070  -53183.0000\n",
      "419684         SALDANHA MARINHO    -28.39410  -53097.0000\n",
      "429704            PINHAL GRANDE -29345.00000     -53.3206\n",
      "471655                   QUARAÍ -30384.00000     -56.4483\n",
      "573304                   ESTEIO -29852.00000     -51.1841\n"
     ]
    }
   ],
   "source": [
    "# Definir os limites do Rio Grande do Sul\n",
    "latitude_min = -33.0\n",
    "latitude_max = -27.0\n",
    "longitude_min = -57.0\n",
    "longitude_max = -49.0\n",
    "\n",
    "# Filtrar cidades fora dos limites do Rio Grande do Sul\n",
    "cidades_fora = dados[\n",
    "    ~((dados['latitude_h'].between(latitude_min, latitude_max)) &\n",
    "      (dados['longitude_h'].between(longitude_min, longitude_max)))\n",
    "]\n",
    "\n",
    "print(cidades_fora[['SP_CIDADE_H', 'latitude_h', 'longitude_h']].drop_duplicates())"
   ]
  },
  {
   "cell_type": "raw",
   "metadata": {},
   "source": [
    "nao era pra estar tao inconsistente essas coordenadas"
   ]
  },
  {
   "cell_type": "code",
   "execution_count": 121,
   "metadata": {},
   "outputs": [
    {
     "name": "stdout",
     "output_type": "stream",
     "text": [
      "                    SP_CIDADE_H   latitude_h  longitude_h\n",
      "59783                 GARIBALDI -29259.00000     -51.5352\n",
      "62366                  ALVORADA    -12.47850     -49.1249\n",
      "62960              CACHOEIRINHA     -6.11560     -47.9234\n",
      "62963              CACHOEIRINHA     -8.48668     -36.2402\n",
      "90834          CACHOEIRA DO SUL -30033.00000     -52.8928\n",
      "96951                   LAJEADO     -9.74996     -48.3565\n",
      "97378          SÃO LUIZ GONZAGA -28412.00000     -54.9559\n",
      "97660                 RIO PARDO -29988.00000     -52.3711\n",
      "99029                 VERA CRUZ     -6.04399  -35428.0000\n",
      "99033                 VERA CRUZ    -12.95680     -38.6153\n",
      "99041                 VERA CRUZ    -22.21830     -49.8207\n",
      "99646    SÃO MIGUEL DAS MISSÕES -28556.00000     -54.5559\n",
      "100669             SANTO CRISTO    -27.82630  -54662.0000\n",
      "124635                 RIOZINHO -29639.00000     -50.4488\n",
      "172567        SANTA CRUZ DO SUL -29722.00000     -52.4343\n",
      "175910                    MUÇUM -29163.00000     -51.8714\n",
      "184493          SAPUCAIA DO SUL    -29.82760  -51145.0000\n",
      "189587            DOIS LAJEADOS -28983.00000     -51.8396\n",
      "197529      ENCRUZILHADA DO SUL -30543.00000     -52.5204\n",
      "197560               SOBRADINHO     -9.45024     -40.8145\n",
      "197684                CRUZ ALTA -28645.00000     -53.6048\n",
      "197828                 PLANALTO    -14.66540     -40.4718\n",
      "197836                 PLANALTO    -21.03420  -49933.0000\n",
      "201062          CRUZEIRO DO SUL    -22.96240     -52.1622\n",
      "201068          CRUZEIRO DO SUL     -7.62762     -72.6756\n",
      "250127                  CANGUÇU -31396.00000     -52.6783\n",
      "250267                SANANDUVA -27947.00000     -51.8079\n",
      "250471                     IJUÍ -28388.00000     -53.9200\n",
      "254900     SANTA BÁRBARA DO SUL    -28.36530  -53251.0000\n",
      "255421                 JAGUARÃO    -32.56040  -53377.0000\n",
      "302714  SANTA VITÓRIA DO PALMAR -33525.00000     -53.3717\n",
      "303234                  JAGUARI    -29.49360  -54703.0000\n",
      "304975                   HERVAL -32024.00000     -53.3944\n",
      "306930                  CACEQUI    -29.88830  -54822.0000\n",
      "307734                 TAPEJARA    -23.73150     -52.8735\n",
      "313359               NOVA PALMA -29471.00000     -53.4689\n",
      "316406              CONSTANTINA -27732.00000     -52.9938\n",
      "316496                  SARANDI    -23.44410  -51876.0000\n",
      "316498                  SARANDI -27942.00000     -52.9231\n",
      "324532           PARAÍSO DO SUL    -29.67170  -53144.0000\n",
      "355568                   CANELA -29356.00000     -50.8119\n",
      "371924   MAXIMILIANO DE ALMEIDA    -27.63250  -51802.0000\n",
      "380715               PAIM FILHO    -27.70750  -51763.0000\n",
      "383916               PALMITINHO    -27.35960  -53558.0000\n",
      "386071                CHIAPETTA -27923.00000     -53.9419\n",
      "394208          AMETISTA DO SUL    -27.36070  -53183.0000\n",
      "419684         SALDANHA MARINHO    -28.39410  -53097.0000\n",
      "429704            PINHAL GRANDE -29345.00000     -53.3206\n",
      "471655                   QUARAÍ -30384.00000     -56.4483\n",
      "573304                   ESTEIO -29852.00000     -51.1841\n"
     ]
    }
   ],
   "source": [
    "inconsistencias = dados[\n",
    "    (dados['latitude_h'] > 0) |  # Latitudes positivas não estão no Brasil\n",
    "    (dados['longitude_h'] > 0) |  # Longitudes positivas estão fora do Brasil\n",
    "    (dados['latitude_h'] < -35) |  # Latitudes muito ao sul\n",
    "    (dados['latitude_h'] > -25) |  # Latitudes muito ao norte\n",
    "    (dados['longitude_h'] < -60) |  # Longitudes muito ao oeste\n",
    "    (dados['longitude_h'] > -45)  # Longitudes muito ao leste\n",
    "]\n",
    "# coordenadas problemáticas\n",
    "print(inconsistencias[['SP_CIDADE_H', 'latitude_h', 'longitude_h']].drop_duplicates())\n"
   ]
  },
  {
   "cell_type": "code",
   "execution_count": 122,
   "metadata": {},
   "outputs": [],
   "source": [
    "# Dicionário com as coordenadas corretas para as cidades\n",
    "correcao_coordenadas = {\n",
    "    \"GARIBALDI\": {\"latitude_h\": -29.259, \"longitude_h\": -51.5352},\n",
    "    \"ALVORADA\": {\"latitude_h\": -29.9914, \"longitude_h\": -51.0809},\n",
    "    \"CACHOEIRA DO SUL\": {\"latitude_h\": -30.0331, \"longitude_h\": -52.8926},\n",
    "    \"SÃO LUIZ GONZAGA\": {\"latitude_h\": -28.4088, \"longitude_h\": -54.9559},\n",
    "    \"RIO PARDO\": {\"latitude_h\": -29.9881, \"longitude_h\": -52.3712},\n",
    "    \"SÃO MIGUEL DAS MISSÕES\": {\"latitude_h\": -28.5561, \"longitude_h\": -54.5559},\n",
    "    \"SANTO CRISTO\": {\"latitude_h\": -27.8263, \"longitude_h\": -54.662},\n",
    "    \"RIOZINHO\": {\"latitude_h\": -29.639, \"longitude_h\": -50.4488},\n",
    "    \"SANTA CRUZ DO SUL\": {\"latitude_h\": -29.722, \"longitude_h\": -52.4343},\n",
    "    \"MUÇUM\": {\"latitude_h\": -29.1633, \"longitude_h\": -51.8715},\n",
    "    \"SAPUCAIA DO SUL\": {\"latitude_h\": -29.8334, \"longitude_h\": -51.1441},\n",
    "    \"DOIS LAJEADOS\": {\"latitude_h\": -28.983, \"longitude_h\": -51.8396},\n",
    "    \"ENCRUZILHADA DO SUL\": {\"latitude_h\": -30.5433, \"longitude_h\": -52.5204},\n",
    "    \"CRUZ ALTA\": {\"latitude_h\": -28.645, \"longitude_h\": -53.6048},\n",
    "    \"CRUZEIRO DO SUL\": {\"latitude_h\": -29.516, \"longitude_h\": -52.0788},\n",
    "    \"CANGUÇU\": {\"latitude_h\": -31.396, \"longitude_h\": -52.6783},\n",
    "    \"SANANDUVA\": {\"latitude_h\": -27.9473, \"longitude_h\": -51.8078},\n",
    "    \"IJUÍ\": {\"latitude_h\": -28.3881, \"longitude_h\": -53.9201},\n",
    "    \"SANTA BÁRBARA DO SUL\": {\"latitude_h\": -28.3654, \"longitude_h\": -53.2511},\n",
    "    \"JAGUARÃO\": {\"latitude_h\": -32.5604, \"longitude_h\": -53.3778},\n",
    "    \"SANTA VITÓRIA DO PALMAR\": {\"latitude_h\": -33.525, \"longitude_h\": -53.3717},\n",
    "    \"JAGUARI\": {\"latitude_h\": -29.4936, \"longitude_h\": -54.703},\n",
    "    \"HERVAL\": {\"latitude_h\": -32.0242, \"longitude_h\": -53.3944},\n",
    "    \"CACEQUI\": {\"latitude_h\": -29.8883, \"longitude_h\": -54.822},\n",
    "    \"TAPEJARA\": {\"latitude_h\": -28.065, \"longitude_h\": -52.009},\n",
    "    \"NOVA PALMA\": {\"latitude_h\": -29.471, \"longitude_h\": -53.4689},\n",
    "    \"CONSTANTINA\": {\"latitude_h\": -27.7324, \"longitude_h\": -52.9938},\n",
    "    \"SARANDI\": {\"latitude_h\": -27.942, \"longitude_h\": -52.9231},\n",
    "    \"PARAÍSO DO SUL\": {\"latitude_h\": -29.6717, \"longitude_h\": -53.1444},\n",
    "    \"CANELA\": {\"latitude_h\": -29.356, \"longitude_h\": -50.8119},\n",
    "    \"MAXIMILIANO DE ALMEIDA\": {\"latitude_h\": -27.6325, \"longitude_h\": -51.8018},\n",
    "    \"PAIM FILHO\": {\"latitude_h\": -27.7075, \"longitude_h\": -51.763},\n",
    "    \"PALMITINHO\": {\"latitude_h\": -27.3596, \"longitude_h\": -53.558},\n",
    "    \"CHIAPETTA\": {\"latitude_h\": -28.923, \"longitude_h\": -53.9419},\n",
    "    \"AMETISTA DO SUL\": {\"latitude_h\": -27.3607, \"longitude_h\": -53.183},\n",
    "    \"SALDANHA MARINHO\": {\"latitude_h\": -28.3941, \"longitude_h\": -53.097},\n",
    "    \"PINHAL GRANDE\": {\"latitude_h\": -29.345, \"longitude_h\": -53.3206},\n",
    "    \"QUARAÍ\": {\"latitude_h\": -30.3844, \"longitude_h\": -56.4483},\n",
    "    \"ESTEIO\": {\"latitude_h\": -29.8522, \"longitude_h\": -51.184}\n",
    "}\n",
    "\n",
    "# Atualizar as coordenadas no DataFrame\n",
    "for cidade, coords in correcao_coordenadas.items():\n",
    "    # Atualizar para SP_CIDADE_H\n",
    "    dados.loc[dados['SP_CIDADE_H'].str.upper() == cidade, ['latitude_h', 'longitude_h']] = [coords['latitude_h'], coords['longitude_h']]\n",
    "    # Se houver uma coluna para SP_CIDADE_P, também pode ser atualizada da mesma maneira\n",
    "    if 'latitude_p' in dados.columns and 'longitude_p' in dados.columns:\n",
    "        dados.loc[dados['SP_CIDADE_P'].str.upper() == cidade, ['latitude_p', 'longitude_p']] = [coords['latitude_h'], coords['longitude_h']]\n"
   ]
  },
  {
   "cell_type": "code",
   "execution_count": 123,
   "metadata": {},
   "outputs": [],
   "source": [
    "# Adicionar as coordenadas corretas para as cidades\n",
    "correcao_coordenadas = {\n",
    "    \"CACHOEIRINHA\": {\"latitude\": -29.9501, \"longitude\": -51.0913},\n",
    "    \"LAJEADO\": {\"latitude\": -29.4632, \"longitude\": -51.9644},\n",
    "    \"SOBRADINHO\": {\"latitude\": -29.4194, \"longitude\": -52.6267},\n",
    "    \"VERA CRUZ\": {\"latitude\": -29.7183, \"longitude\": -52.5154},\n",
    "    \"PLANALTO\": {\"latitude\": -27.3297, \"longitude\": -53.0575},\n",
    "}\n",
    "\n",
    "# Atualizar as coordenadas no DataFrame\n",
    "for cidade, coords in correcao_coordenadas.items():\n",
    "    # Atualizar para SP_CIDADE_H\n",
    "    dados.loc[dados['SP_CIDADE_H'].str.upper() == cidade, ['latitude_h', 'longitude_h']] = [coords['latitude'], coords['longitude']]\n",
    "    # Atualizar para SP_CIDADE_P (se necessário, ajuste a coluna)\n",
    "    dados.loc[dados['SP_CIDADE_P'].str.upper() == cidade, ['latitude_p', 'longitude_p']] = [coords['latitude'], coords['longitude']]\n"
   ]
  },
  {
   "cell_type": "code",
   "execution_count": 124,
   "metadata": {},
   "outputs": [],
   "source": [
    "# import pandas as pd\n",
    "\n",
    "# # Supondo que o DataFrame 'dados' já está carregado\n",
    "\n",
    "# # Cidade que você quer modificar\n",
    "# cidade_especifica = \"SÃO MARTINHO\"\n",
    "\n",
    "# # Novos valores de latitude e longitude\n",
    "# nova_latitude = -27.7112\n",
    "# nova_longitude = -53.9699\n",
    "\n",
    "\n",
    "# # Alterar a latitude e longitude em 'latitude_h', 'longitude_h' quando 'SP_CIDADE_H' for igual à cidade específica\n",
    "# dados.loc[dados['SP_CIDADE_H'].str.lower() == cidade_especifica.lower(), ['latitude_h', 'longitude_h']] = [nova_latitude, nova_longitude]\n",
    "\n",
    "# # Alterar a latitude e longitude em 'latitude_p', 'longitude_p' quando 'SP_CIDADE_P' for igual à cidade específica\n",
    "# dados.loc[dados['SP_CIDADE_P'].str.lower() == cidade_especifica.lower(), ['latitude_p', 'longitude_p']] = [nova_latitude, nova_longitude]"
   ]
  },
  {
   "cell_type": "code",
   "execution_count": 125,
   "metadata": {
    "scrolled": true
   },
   "outputs": [
    {
     "data": {
      "image/png": "[encoded data removed]",
      "text/plain": [
       "<Figure size 1000x800 with 1 Axes>"
      ]
     },
     "metadata": {},
     "output_type": "display_data"
    }
   ],
   "source": [
    "# 1. Criar as geometrias a partir dos dados originais\n",
    "geometry = [Point(xy) for xy in zip(dados['longitude_h'], dados['latitude_h'])]\n",
    "\n",
    "# 2. Criar o GeoDataFrame com o sistema de coordenadas WGS84 (EPSG:4326)\n",
    "gdf = gpd.GeoDataFrame(dados, geometry=geometry, crs=\"EPSG:4326\")\n",
    "\n",
    "# 3. Filtrar valores inválidos (fora dos limites geográficos do sistema WGS84)\n",
    "gdf = gdf[(gdf['longitude_h'] >= -180) & (gdf['longitude_h'] <= 180) &\n",
    "          (gdf['latitude_h'] >= -90) & (gdf['latitude_h'] <= 90)]\n",
    "\n",
    "# 4. Configurar o gráfico para usar o sistema de coordenadas\n",
    "fig, ax = plt.subplots(figsize=(10, 8), subplot_kw={'projection': ccrs.PlateCarree()})\n",
    "\n",
    "# Adicionar o mapa básico com limites de países\n",
    "ax.add_feature(cfeature.BORDERS, linestyle=':')\n",
    "ax.add_feature(cfeature.COASTLINE)\n",
    "\n",
    "# Limitar o gráfico ao Rio Grande do Sul (coordenadas aproximadas)\n",
    "ax.set_extent([-57.65, -49.5, -34.0, -27.0], crs=ccrs.PlateCarree())  # Ajuste os limites para o RS\n",
    "\n",
    "# Plotar os pontos do GeoDataFrame no mapa\n",
    "gdf.plot(ax=ax, marker='o', color='red', markersize=5, label='Internações')\n",
    "\n",
    "# Adicionar título e legendas\n",
    "plt.title('Mapa de Internações no Rio Grande do Sul', fontsize=16)\n",
    "plt.legend(loc='upper left', fontsize=12)\n",
    "\n",
    "# Exibir o gráfico\n",
    "plt.show()"
   ]
  },
  {
   "cell_type": "code",
   "execution_count": 126,
   "metadata": {},
   "outputs": [
    {
     "data": {
      "image/png": "[encoded data removed]",
      "text/plain": [
       "<Figure size 1000x800 with 1 Axes>"
      ]
     },
     "metadata": {},
     "output_type": "display_data"
    }
   ],
   "source": [
    "import pandas as pd\n",
    "import geopandas as gpd\n",
    "from shapely.geometry import Point\n",
    "import matplotlib.pyplot as plt\n",
    "import cartopy.crs as ccrs\n",
    "import cartopy.feature as cfeature\n",
    "\n",
    "# 1. Criar as geometrias a partir dos dados originais\n",
    "geometry = [Point(xy) for xy in zip(dados['longitude_h'], dados['latitude_h'])]\n",
    "\n",
    "# 2. Criar o GeoDataFrame com o sistema de coordenadas WGS84 (EPSG:4326)\n",
    "gdf = gpd.GeoDataFrame(dados, geometry=geometry, crs=\"EPSG:4326\")\n",
    "\n",
    "# 3. Filtrar valores inválidos (fora dos limites geográficos do sistema WGS84)\n",
    "gdf = gdf[(gdf['longitude_h'] >= -180) & (gdf['longitude_h'] <= 180) &\n",
    "          (gdf['latitude_h'] >= -90) & (gdf['latitude_h'] <= 90)]\n",
    "\n",
    "# 4. Plotar os dados no mapa\n",
    "fig, ax = plt.subplots(figsize=(10, 8), subplot_kw={'projection': ccrs.PlateCarree()})\n",
    "ax.add_feature(cfeature.BORDERS, linestyle=':')\n",
    "ax.add_feature(cfeature.COASTLINE)\n",
    "ax.set_extent([-74, -34, -35, 6], crs=ccrs.PlateCarree())  # Ajustar os limites para o Brasil\n",
    "gdf.plot(ax=ax, marker='o', color='red', markersize=5, label='Internações')\n",
    "plt.title('Mapa de Internações no Brasil')\n",
    "plt.legend()\n",
    "plt.show()\n"
   ]
  },
  {
   "cell_type": "code",
   "execution_count": 128,
   "metadata": {},
   "outputs": [
    {
     "name": "stdout",
     "output_type": "stream",
     "text": [
      "Arquivo 'dados_RS.csv' criado com sucesso!\n"
     ]
    }
   ],
   "source": [
    "import pandas as pd\n",
    "\n",
    "dados.to_csv('dados_RS.csv', index=False)\n",
    "\n",
    "print(\"Arquivo 'dados_RS.csv' criado com sucesso!\")"
   ]
  },
  {
   "cell_type": "code",
   "execution_count": null,
   "metadata": {},
   "outputs": [],
   "source": []
  }
 ],
 "metadata": {
  "kernelspec": {
   "display_name": "Python 3 (ipykernel)",
   "language": "python",
   "name": "python3"
  },
  "language_info": {
   "codemirror_mode": {
    "name": "ipython",
    "version": 3
   },
   "file_extension": ".py",
   "mimetype": "text/x-python",
   "name": "python",
   "nbconvert_exporter": "python",
   "pygments_lexer": "ipython3",
   "version": "3.12.3"
  }
 },
 "nbformat": 4,
 "nbformat_minor": 4
}
